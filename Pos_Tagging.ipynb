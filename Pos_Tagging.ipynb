{
  "nbformat": 4,
  "nbformat_minor": 0,
  "metadata": {
    "kernelspec": {
      "display_name": "Python 3",
      "language": "python",
      "name": "python3"
    },
    "language_info": {
      "codemirror_mode": {
        "name": "ipython",
        "version": 3
      },
      "file_extension": ".py",
      "mimetype": "text/x-python",
      "name": "python",
      "nbconvert_exporter": "python",
      "pygments_lexer": "ipython3",
      "version": "3.7.4"
    },
    "colab": {
      "provenance": []
    }
  },
  "cells": [
    {
      "cell_type": "code",
      "metadata": {
        "id": "QFrKIJMwE_Yx",
        "colab": {
          "base_uri": "https://localhost:8080/",
          "height": 1000
        },
        "outputId": "e1fef085-55f9-4f8f-a668-e7a535c02c6d"
      },
      "source": [
        "!python -m spacy download pt_core_news_sm\n",
        "!python -m spacy download en\n",
        "!pip install spacy\n",
        "!pip install beautifulsoup4"
      ],
      "execution_count": null,
      "outputs": [
        {
          "output_type": "stream",
          "text": [
            "Requirement already satisfied: pt_core_news_sm==2.2.5 from https://github.com/explosion/spacy-models/releases/download/pt_core_news_sm-2.2.5/pt_core_news_sm-2.2.5.tar.gz#egg=pt_core_news_sm==2.2.5 in /usr/local/lib/python3.6/dist-packages (2.2.5)\n",
            "Requirement already satisfied: spacy>=2.2.2 in /usr/local/lib/python3.6/dist-packages (from pt_core_news_sm==2.2.5) (2.2.4)\n",
            "Requirement already satisfied: cymem<2.1.0,>=2.0.2 in /usr/local/lib/python3.6/dist-packages (from spacy>=2.2.2->pt_core_news_sm==2.2.5) (2.0.3)\n",
            "Requirement already satisfied: murmurhash<1.1.0,>=0.28.0 in /usr/local/lib/python3.6/dist-packages (from spacy>=2.2.2->pt_core_news_sm==2.2.5) (1.0.2)\n",
            "Requirement already satisfied: preshed<3.1.0,>=3.0.2 in /usr/local/lib/python3.6/dist-packages (from spacy>=2.2.2->pt_core_news_sm==2.2.5) (3.0.2)\n",
            "Requirement already satisfied: thinc==7.4.0 in /usr/local/lib/python3.6/dist-packages (from spacy>=2.2.2->pt_core_news_sm==2.2.5) (7.4.0)\n",
            "Requirement already satisfied: catalogue<1.1.0,>=0.0.7 in /usr/local/lib/python3.6/dist-packages (from spacy>=2.2.2->pt_core_news_sm==2.2.5) (1.0.0)\n",
            "Requirement already satisfied: srsly<1.1.0,>=1.0.2 in /usr/local/lib/python3.6/dist-packages (from spacy>=2.2.2->pt_core_news_sm==2.2.5) (1.0.2)\n",
            "Requirement already satisfied: setuptools in /usr/local/lib/python3.6/dist-packages (from spacy>=2.2.2->pt_core_news_sm==2.2.5) (49.6.0)\n",
            "Requirement already satisfied: wasabi<1.1.0,>=0.4.0 in /usr/local/lib/python3.6/dist-packages (from spacy>=2.2.2->pt_core_news_sm==2.2.5) (0.7.1)\n",
            "Requirement already satisfied: numpy>=1.15.0 in /usr/local/lib/python3.6/dist-packages (from spacy>=2.2.2->pt_core_news_sm==2.2.5) (1.18.5)\n",
            "Requirement already satisfied: requests<3.0.0,>=2.13.0 in /usr/local/lib/python3.6/dist-packages (from spacy>=2.2.2->pt_core_news_sm==2.2.5) (2.23.0)\n",
            "Requirement already satisfied: plac<1.2.0,>=0.9.6 in /usr/local/lib/python3.6/dist-packages (from spacy>=2.2.2->pt_core_news_sm==2.2.5) (1.1.3)\n",
            "Requirement already satisfied: blis<0.5.0,>=0.4.0 in /usr/local/lib/python3.6/dist-packages (from spacy>=2.2.2->pt_core_news_sm==2.2.5) (0.4.1)\n",
            "Requirement already satisfied: tqdm<5.0.0,>=4.38.0 in /usr/local/lib/python3.6/dist-packages (from spacy>=2.2.2->pt_core_news_sm==2.2.5) (4.41.1)\n",
            "Requirement already satisfied: importlib-metadata>=0.20; python_version < \"3.8\" in /usr/local/lib/python3.6/dist-packages (from catalogue<1.1.0,>=0.0.7->spacy>=2.2.2->pt_core_news_sm==2.2.5) (1.7.0)\n",
            "Requirement already satisfied: urllib3!=1.25.0,!=1.25.1,<1.26,>=1.21.1 in /usr/local/lib/python3.6/dist-packages (from requests<3.0.0,>=2.13.0->spacy>=2.2.2->pt_core_news_sm==2.2.5) (1.24.3)\n",
            "Requirement already satisfied: certifi>=2017.4.17 in /usr/local/lib/python3.6/dist-packages (from requests<3.0.0,>=2.13.0->spacy>=2.2.2->pt_core_news_sm==2.2.5) (2020.6.20)\n",
            "Requirement already satisfied: idna<3,>=2.5 in /usr/local/lib/python3.6/dist-packages (from requests<3.0.0,>=2.13.0->spacy>=2.2.2->pt_core_news_sm==2.2.5) (2.10)\n",
            "Requirement already satisfied: chardet<4,>=3.0.2 in /usr/local/lib/python3.6/dist-packages (from requests<3.0.0,>=2.13.0->spacy>=2.2.2->pt_core_news_sm==2.2.5) (3.0.4)\n",
            "Requirement already satisfied: zipp>=0.5 in /usr/local/lib/python3.6/dist-packages (from importlib-metadata>=0.20; python_version < \"3.8\"->catalogue<1.1.0,>=0.0.7->spacy>=2.2.2->pt_core_news_sm==2.2.5) (3.1.0)\n",
            "\u001b[38;5;2m✔ Download and installation successful\u001b[0m\n",
            "You can now load the model via spacy.load('pt_core_news_sm')\n",
            "Requirement already satisfied: en_core_web_sm==2.2.5 from https://github.com/explosion/spacy-models/releases/download/en_core_web_sm-2.2.5/en_core_web_sm-2.2.5.tar.gz#egg=en_core_web_sm==2.2.5 in /usr/local/lib/python3.6/dist-packages (2.2.5)\n",
            "Requirement already satisfied: spacy>=2.2.2 in /usr/local/lib/python3.6/dist-packages (from en_core_web_sm==2.2.5) (2.2.4)\n",
            "Requirement already satisfied: catalogue<1.1.0,>=0.0.7 in /usr/local/lib/python3.6/dist-packages (from spacy>=2.2.2->en_core_web_sm==2.2.5) (1.0.0)\n",
            "Requirement already satisfied: setuptools in /usr/local/lib/python3.6/dist-packages (from spacy>=2.2.2->en_core_web_sm==2.2.5) (49.6.0)\n",
            "Requirement already satisfied: plac<1.2.0,>=0.9.6 in /usr/local/lib/python3.6/dist-packages (from spacy>=2.2.2->en_core_web_sm==2.2.5) (1.1.3)\n",
            "Requirement already satisfied: numpy>=1.15.0 in /usr/local/lib/python3.6/dist-packages (from spacy>=2.2.2->en_core_web_sm==2.2.5) (1.18.5)\n",
            "Requirement already satisfied: thinc==7.4.0 in /usr/local/lib/python3.6/dist-packages (from spacy>=2.2.2->en_core_web_sm==2.2.5) (7.4.0)\n",
            "Requirement already satisfied: preshed<3.1.0,>=3.0.2 in /usr/local/lib/python3.6/dist-packages (from spacy>=2.2.2->en_core_web_sm==2.2.5) (3.0.2)\n",
            "Requirement already satisfied: tqdm<5.0.0,>=4.38.0 in /usr/local/lib/python3.6/dist-packages (from spacy>=2.2.2->en_core_web_sm==2.2.5) (4.41.1)\n",
            "Requirement already satisfied: blis<0.5.0,>=0.4.0 in /usr/local/lib/python3.6/dist-packages (from spacy>=2.2.2->en_core_web_sm==2.2.5) (0.4.1)\n",
            "Requirement already satisfied: srsly<1.1.0,>=1.0.2 in /usr/local/lib/python3.6/dist-packages (from spacy>=2.2.2->en_core_web_sm==2.2.5) (1.0.2)\n",
            "Requirement already satisfied: murmurhash<1.1.0,>=0.28.0 in /usr/local/lib/python3.6/dist-packages (from spacy>=2.2.2->en_core_web_sm==2.2.5) (1.0.2)\n",
            "Requirement already satisfied: cymem<2.1.0,>=2.0.2 in /usr/local/lib/python3.6/dist-packages (from spacy>=2.2.2->en_core_web_sm==2.2.5) (2.0.3)\n",
            "Requirement already satisfied: requests<3.0.0,>=2.13.0 in /usr/local/lib/python3.6/dist-packages (from spacy>=2.2.2->en_core_web_sm==2.2.5) (2.23.0)\n",
            "Requirement already satisfied: wasabi<1.1.0,>=0.4.0 in /usr/local/lib/python3.6/dist-packages (from spacy>=2.2.2->en_core_web_sm==2.2.5) (0.7.1)\n",
            "Requirement already satisfied: importlib-metadata>=0.20; python_version < \"3.8\" in /usr/local/lib/python3.6/dist-packages (from catalogue<1.1.0,>=0.0.7->spacy>=2.2.2->en_core_web_sm==2.2.5) (1.7.0)\n",
            "Requirement already satisfied: urllib3!=1.25.0,!=1.25.1,<1.26,>=1.21.1 in /usr/local/lib/python3.6/dist-packages (from requests<3.0.0,>=2.13.0->spacy>=2.2.2->en_core_web_sm==2.2.5) (1.24.3)\n",
            "Requirement already satisfied: idna<3,>=2.5 in /usr/local/lib/python3.6/dist-packages (from requests<3.0.0,>=2.13.0->spacy>=2.2.2->en_core_web_sm==2.2.5) (2.10)\n",
            "Requirement already satisfied: certifi>=2017.4.17 in /usr/local/lib/python3.6/dist-packages (from requests<3.0.0,>=2.13.0->spacy>=2.2.2->en_core_web_sm==2.2.5) (2020.6.20)\n",
            "Requirement already satisfied: chardet<4,>=3.0.2 in /usr/local/lib/python3.6/dist-packages (from requests<3.0.0,>=2.13.0->spacy>=2.2.2->en_core_web_sm==2.2.5) (3.0.4)\n",
            "Requirement already satisfied: zipp>=0.5 in /usr/local/lib/python3.6/dist-packages (from importlib-metadata>=0.20; python_version < \"3.8\"->catalogue<1.1.0,>=0.0.7->spacy>=2.2.2->en_core_web_sm==2.2.5) (3.1.0)\n",
            "\u001b[38;5;2m✔ Download and installation successful\u001b[0m\n",
            "You can now load the model via spacy.load('en_core_web_sm')\n",
            "\u001b[38;5;2m✔ Linking successful\u001b[0m\n",
            "/usr/local/lib/python3.6/dist-packages/en_core_web_sm -->\n",
            "/usr/local/lib/python3.6/dist-packages/spacy/data/en\n",
            "You can now load the model via spacy.load('en')\n",
            "Requirement already satisfied: spacy in /usr/local/lib/python3.6/dist-packages (2.2.4)\n",
            "Requirement already satisfied: cymem<2.1.0,>=2.0.2 in /usr/local/lib/python3.6/dist-packages (from spacy) (2.0.3)\n",
            "Requirement already satisfied: thinc==7.4.0 in /usr/local/lib/python3.6/dist-packages (from spacy) (7.4.0)\n",
            "Requirement already satisfied: catalogue<1.1.0,>=0.0.7 in /usr/local/lib/python3.6/dist-packages (from spacy) (1.0.0)\n",
            "Requirement already satisfied: setuptools in /usr/local/lib/python3.6/dist-packages (from spacy) (49.6.0)\n",
            "Requirement already satisfied: numpy>=1.15.0 in /usr/local/lib/python3.6/dist-packages (from spacy) (1.18.5)\n",
            "Requirement already satisfied: preshed<3.1.0,>=3.0.2 in /usr/local/lib/python3.6/dist-packages (from spacy) (3.0.2)\n",
            "Requirement already satisfied: plac<1.2.0,>=0.9.6 in /usr/local/lib/python3.6/dist-packages (from spacy) (1.1.3)\n",
            "Requirement already satisfied: murmurhash<1.1.0,>=0.28.0 in /usr/local/lib/python3.6/dist-packages (from spacy) (1.0.2)\n",
            "Requirement already satisfied: blis<0.5.0,>=0.4.0 in /usr/local/lib/python3.6/dist-packages (from spacy) (0.4.1)\n",
            "Requirement already satisfied: srsly<1.1.0,>=1.0.2 in /usr/local/lib/python3.6/dist-packages (from spacy) (1.0.2)\n",
            "Requirement already satisfied: wasabi<1.1.0,>=0.4.0 in /usr/local/lib/python3.6/dist-packages (from spacy) (0.7.1)\n",
            "Requirement already satisfied: tqdm<5.0.0,>=4.38.0 in /usr/local/lib/python3.6/dist-packages (from spacy) (4.41.1)\n",
            "Requirement already satisfied: requests<3.0.0,>=2.13.0 in /usr/local/lib/python3.6/dist-packages (from spacy) (2.23.0)\n",
            "Requirement already satisfied: importlib-metadata>=0.20; python_version < \"3.8\" in /usr/local/lib/python3.6/dist-packages (from catalogue<1.1.0,>=0.0.7->spacy) (1.7.0)\n",
            "Requirement already satisfied: certifi>=2017.4.17 in /usr/local/lib/python3.6/dist-packages (from requests<3.0.0,>=2.13.0->spacy) (2020.6.20)\n",
            "Requirement already satisfied: chardet<4,>=3.0.2 in /usr/local/lib/python3.6/dist-packages (from requests<3.0.0,>=2.13.0->spacy) (3.0.4)\n",
            "Requirement already satisfied: idna<3,>=2.5 in /usr/local/lib/python3.6/dist-packages (from requests<3.0.0,>=2.13.0->spacy) (2.10)\n",
            "Requirement already satisfied: urllib3!=1.25.0,!=1.25.1,<1.26,>=1.21.1 in /usr/local/lib/python3.6/dist-packages (from requests<3.0.0,>=2.13.0->spacy) (1.24.3)\n",
            "Requirement already satisfied: zipp>=0.5 in /usr/local/lib/python3.6/dist-packages (from importlib-metadata>=0.20; python_version < \"3.8\"->catalogue<1.1.0,>=0.0.7->spacy) (3.1.0)\n",
            "Requirement already satisfied: beautifulsoup4 in /usr/local/lib/python3.6/dist-packages (4.6.3)\n"
          ],
          "name": "stdout"
        }
      ]
    },
    {
      "cell_type": "code",
      "metadata": {
        "id": "srgJOcF_E_Y4"
      },
      "source": [
        "import nltk\n",
        "import spacy\n",
        "from spacy import displacy\n",
        "import tqdm\n",
        "import operator\n",
        "import requests\n",
        "from bs4 import BeautifulSoup\n",
        "import re\n",
        "import pt_core_news_sm\n",
        "import en_core_web_sm\n",
        "from collections import Counter\n",
        "import random\n",
        "import operator\n",
        "import matplotlib.pyplot as plt"
      ],
      "execution_count": null,
      "outputs": []
    },
    {
      "cell_type": "markdown",
      "metadata": {
        "id": "4xX0c3nBE_ZA"
      },
      "source": [
        "# Pos tagging"
      ]
    },
    {
      "cell_type": "markdown",
      "metadata": {
        "id": "B7qiO_RUE_ZB"
      },
      "source": [
        "## Abordagem Manual\n",
        "\n",
        "Em empresas, quando queremos construir/usar um POS Tagging, estamos buscando uma ferramenta para trabalhar em algum cenário específico e direcionado ao negócio. Por exemplo, recuperar todos os verbos de um texto, para analisar de forma geral as ações que um cliente conecta com a marca no Twitter. Nesse sentido, podemos usar duas abordagens:\n",
        "\n",
        "    1 - Construir um modelo próprio que resolva esse cenário\n",
        "    2 - Usar modelos que já existem e, se necessário, treiná-los para melhor performance no nosso cenário\n",
        "\n",
        "Para esse exercício, vamos simular esse cenário de recuperar verbos de um texto. Apesar da abordagem 2 parecer mais interessante, vamos tentar construir nosso próprio modelo e aprender um pouco sobre a complexidade do problema.\n",
        "\n",
        "Inicialmente, vamos reduzir bem nosso escopo, focando em\n",
        "\n",
        "    - REGEX com NamedGoups\n",
        "    - Verbos simples, como estudar\n",
        "    \n",
        "Use o método abaixo para verificar quais grupos foram identificados pela expressão regular:\n",
        "\n",
        "```python\n",
        "def print_found_groups(pattern, phrase):\n",
        "    regex = re.compile(pattern)\n",
        "    for m in regex.finditer(phrase):\n",
        "        print({k:v for(k,v) in m.groupdict().items() if v is not None})\n",
        "```\n",
        "\n",
        "Mais informações de regex: https://docs.python.org/pt-br/3.8/howto/regex.html"
      ]
    },
    {
      "cell_type": "code",
      "metadata": {
        "id": "44VqvRf5E_ZC"
      },
      "source": [
        "def print_found_groups(pattern, phrase):\n",
        "    regex = re.compile(pattern)\n",
        "    for m in regex.finditer(phrase):\n",
        "        print({k:v for(k,v) in m.groupdict().items() if v is not None})"
      ],
      "execution_count": null,
      "outputs": []
    },
    {
      "cell_type": "code",
      "metadata": {
        "id": "_Zal3TCIE_ZH"
      },
      "source": [
        "phrase1 = \"eu estudo, você estuda, nós estudamos e vc sabe como é... estudos em todo lugar \""
      ],
      "execution_count": null,
      "outputs": []
    },
    {
      "cell_type": "code",
      "metadata": {
        "id": "g3pukzn_E_ZL"
      },
      "source": [
        "estudar_pattern_try1 = r'(?P<VERB_ESTUDAR>\\bestud\\w?\\b)'"
      ],
      "execution_count": null,
      "outputs": []
    },
    {
      "cell_type": "code",
      "metadata": {
        "id": "57k1JsbtE_ZQ",
        "colab": {
          "base_uri": "https://localhost:8080/",
          "height": 51
        },
        "outputId": "e0518fcf-5b6b-4710-db94-3ea37742a4f3"
      },
      "source": [
        "print_found_groups(estudar_pattern_try1, phrase1)"
      ],
      "execution_count": null,
      "outputs": [
        {
          "output_type": "stream",
          "text": [
            "{'VERB_ESTUDAR': 'estudo'}\n",
            "{'VERB_ESTUDAR': 'estuda'}\n"
          ],
          "name": "stdout"
        }
      ]
    },
    {
      "cell_type": "markdown",
      "metadata": {
        "id": "VLGxoUwgE_ZU"
      },
      "source": [
        "<b> Atividade </b>\n",
        "\n",
        "1) Modifique o padrão da regex para conseguir reconhecer todas as conjugações do verbo estudar na 'phrase1'"
      ]
    },
    {
      "cell_type": "code",
      "metadata": {
        "id": "25H2yQHvE_ZW"
      },
      "source": [
        "padrao1 = r'(?P<VERB_ESTUDAR>\\bestud\\w*\\b)'"
      ],
      "execution_count": null,
      "outputs": []
    },
    {
      "cell_type": "code",
      "metadata": {
        "id": "AGZavZe6qSnK",
        "colab": {
          "base_uri": "https://localhost:8080/",
          "height": 85
        },
        "outputId": "42ab4b5c-4ab4-4a06-9c89-783729a4965b"
      },
      "source": [
        "print_found_groups(padrao1, phrase1)"
      ],
      "execution_count": null,
      "outputs": [
        {
          "output_type": "stream",
          "text": [
            "{'VERB_ESTUDAR': 'estudo'}\n",
            "{'VERB_ESTUDAR': 'estuda'}\n",
            "{'VERB_ESTUDAR': 'estudamos'}\n",
            "{'VERB_ESTUDAR': 'estudos'}\n"
          ],
          "name": "stdout"
        }
      ]
    },
    {
      "cell_type": "markdown",
      "metadata": {
        "id": "uG-4wO3yE_Za"
      },
      "source": [
        "<b> Atividade </b>\n",
        "\n",
        "2) A solução da atividade 1 trouxe todos verbos? Todas as palavras eram verbos?"
      ]
    },
    {
      "cell_type": "markdown",
      "metadata": {
        "id": "Qo0GFULHGz4C"
      },
      "source": [
        "Sim a solução trouxe todos os verbos, e todas as palavras que trouxe eram verbos"
      ]
    },
    {
      "cell_type": "markdown",
      "metadata": {
        "id": "9iw96PaGE_Zf"
      },
      "source": [
        "<b> Atividade </b>\n",
        "\n",
        "3) Modifique o padrão da regex para identificar todos os verbos da frase abaixo.\n",
        "\n",
        "```python\n",
        "phrase2 = \"O principal uso que fazemos do canvas é ver e entregar exercícios, além de acessar os materiais postados pelos professores. É importante realizar o acesso todos os dias.\"\n",
        "```\n",
        "\n",
        "Observe que 'acessar' e 'acesso', apesar de serem palavras semelhantes, despenham papéis diferentes. O 'acesso' é um caso claro de polissemia. Observe as duas frases abaixo que isto ficará mais claro:\n",
        "\n",
        "    - Meu acesso funcionou -> Aqui é substantivo\n",
        "    - Eu acesso a aula -> Aqui é verbo\n",
        "\n",
        "Utilize o método abaixo para retornar os grupos de acordo com a expressão regular construída:\n",
        "```python\n",
        "def get_found_groups(pattern, phrase):\n",
        "    regex = re.compile(pattern)\n",
        "    return {v:k for m in regex.finditer(phrase) for(k,v) in m.groupdict().items() if v is not None }\n",
        "```"
      ]
    },
    {
      "cell_type": "code",
      "metadata": {
        "id": "-DPxcu5xvk-L"
      },
      "source": [
        "phrase2 = \"O principal uso que fazemos do canvas é ver e entregar exercícios, além de acessar os materiais postados pelos professores. É importante realizar o acesso todos os dias.\""
      ],
      "execution_count": null,
      "outputs": []
    },
    {
      "cell_type": "code",
      "metadata": {
        "id": "6R9e3wF8E_Zg"
      },
      "source": [
        "def get_found_groups(pattern, phrase):\n",
        "    regex = re.compile(pattern)\n",
        "    return {v:k for m in regex.finditer(phrase) for(k,v) in m.groupdict().items() if v is not None }"
      ],
      "execution_count": null,
      "outputs": []
    },
    {
      "cell_type": "code",
      "metadata": {
        "id": "c6U-gQ6DE_Zk"
      },
      "source": [
        "lista_verbos = ['uso', 'usa\\w{0,4}', 'faz\\w{0,4}', 'é', 'acess\\w{1,2}', 'realizar', 'entrega\\w{1,2}', \"ver\" ]"
      ],
      "execution_count": null,
      "outputs": []
    },
    {
      "cell_type": "code",
      "metadata": {
        "id": "wVE65OtKtte3",
        "colab": {
          "base_uri": "https://localhost:8080/",
          "height": 35
        },
        "outputId": "9b4be53a-c7a3-4f95-91b7-a77d36be8e9e"
      },
      "source": [
        "'|'.join(lista_verbos)"
      ],
      "execution_count": null,
      "outputs": [
        {
          "output_type": "execute_result",
          "data": {
            "application/vnd.google.colaboratory.intrinsic+json": {
              "type": "string"
            },
            "text/plain": [
              "'uso|usa\\\\w{0,4}|faz\\\\w{0,4}|é|acess\\\\w{1,2}|realizar|entrega\\\\w{1,2}|ver'"
            ]
          },
          "metadata": {
            "tags": []
          },
          "execution_count": 116
        }
      ]
    },
    {
      "cell_type": "code",
      "metadata": {
        "id": "xwTPSaTrE_Zp"
      },
      "source": [
        "padrao1 = r'(?P<VERBOS>'+\"|\".join(lista_verbos)+')'"
      ],
      "execution_count": null,
      "outputs": []
    },
    {
      "cell_type": "code",
      "metadata": {
        "id": "1p9HH1gDuWme",
        "colab": {
          "base_uri": "https://localhost:8080/",
          "height": 153
        },
        "outputId": "9e5959ee-7bc5-49a2-caeb-8b8e6a6aaeaf"
      },
      "source": [
        "get_found_groups(padrao1, phrase2)"
      ],
      "execution_count": null,
      "outputs": [
        {
          "output_type": "execute_result",
          "data": {
            "text/plain": [
              "{'acessar': 'VERBOS',\n",
              " 'acesso': 'VERBOS',\n",
              " 'entregar': 'VERBOS',\n",
              " 'fazemos': 'VERBOS',\n",
              " 'realizar': 'VERBOS',\n",
              " 'uso': 'VERBOS',\n",
              " 'ver': 'VERBOS',\n",
              " 'é': 'VERBOS'}"
            ]
          },
          "metadata": {
            "tags": []
          },
          "execution_count": 118
        }
      ]
    },
    {
      "cell_type": "markdown",
      "metadata": {
        "id": "d1eG9d9mE_Zx"
      },
      "source": [
        "<b> Atividade </b>\n",
        "\n",
        "4) Modifique o padrão da regex para identificar todos os substantivos da frase abaixo.\n",
        "\n",
        "```python\n",
        "phrase2 = \"O principal uso que fazemos do canvas é ver e entregar exercícios, além de acessar os materiais postados pelos professores. É importante realizar o acesso todos os dias.\"\n",
        "```\n",
        "\n",
        "Utilize o método abaixo para retornar os grupos de acordo com a expressão regular construída:\n",
        "```python\n",
        "def get_found_groups(pattern, phrase):\n",
        "    regex = re.compile(pattern)\n",
        "    return {v:k for m in regex.finditer(phrase) for(k,v) in m.groupdict().items() if v is not None }\n",
        "```"
      ]
    },
    {
      "cell_type": "code",
      "metadata": {
        "id": "6_98okQ7E_Zx"
      },
      "source": [
        "lista_subs = ['canvas', 'professor\\w{0,2}', 'exercícios\\w{0,1}', 'materia\\w{0,2}', 'acesso\\w{0,1}', \"dia\\w{0,1}\" ]"
      ],
      "execution_count": null,
      "outputs": []
    },
    {
      "cell_type": "code",
      "metadata": {
        "id": "1M20s2XPE_Z1"
      },
      "source": [
        "padrao2 = r'(?P<SUBS>'+\"|\".join(lista_subs)+')'"
      ],
      "execution_count": null,
      "outputs": []
    },
    {
      "cell_type": "code",
      "metadata": {
        "id": "KzB37rClwvqw",
        "colab": {
          "base_uri": "https://localhost:8080/",
          "height": 119
        },
        "outputId": "9292663e-e712-4bb2-b91e-ff6492082d95"
      },
      "source": [
        "get_found_groups(padrao2, phrase2)"
      ],
      "execution_count": null,
      "outputs": [
        {
          "output_type": "execute_result",
          "data": {
            "text/plain": [
              "{'acesso': 'SUBS',\n",
              " 'canvas': 'SUBS',\n",
              " 'dias': 'SUBS',\n",
              " 'exercícios': 'SUBS',\n",
              " 'materiais': 'SUBS',\n",
              " 'professores': 'SUBS'}"
            ]
          },
          "metadata": {
            "tags": []
          },
          "execution_count": 114
        }
      ]
    },
    {
      "cell_type": "markdown",
      "metadata": {
        "id": "s9ZpeTTFE_Z6"
      },
      "source": [
        "<b> Atividade </b>\n",
        "\n",
        "5) Essa abordagem de construção da regex para taggear as palavras é uma tarefa simples? Qual o valor/aplicação você consegue enxergar para ela?"
      ]
    },
    {
      "cell_type": "markdown",
      "metadata": {
        "id": "jfJvJfmEHOXB"
      },
      "source": [
        "Não é uma tarefa simples, apenas para uma pequena frase, para um texto maior tomaria muito tempo."
      ]
    },
    {
      "cell_type": "markdown",
      "metadata": {
        "id": "YL57ryVDE_Z_"
      },
      "source": [
        "<b> Atividade </b>\n",
        "\n",
        "6) Nas atividades 3 e 4 você retornou todos os substantivos e verbos da phrase2. Agora marque-os na frase.  O retorno esperado da frase é:\n",
        "\n",
        "``O principal uso_VERB que fazemos_VERB do canvas é ver_VERB e entregar_VERB exercícios, além de acessar_VERB os materiais postados pelos professores. É importante realizar_VERB o acesso_SUBS|VERB todos os dias.``\n",
        "\n",
        "Observe que a palavra acesso tem duas tags = SUBS e VERB."
      ]
    },
    {
      "cell_type": "code",
      "metadata": {
        "id": "xeA1agHOE_aA"
      },
      "source": [],
      "execution_count": null,
      "outputs": []
    },
    {
      "cell_type": "code",
      "metadata": {
        "id": "nJ9luu36E_aE"
      },
      "source": [],
      "execution_count": null,
      "outputs": []
    },
    {
      "cell_type": "markdown",
      "metadata": {
        "id": "PZT_N2z4E_aJ"
      },
      "source": [
        "## Mac_Morpho com NLTK"
      ]
    },
    {
      "cell_type": "code",
      "metadata": {
        "id": "fvQXSBarE_aJ",
        "colab": {
          "base_uri": "https://localhost:8080/",
          "height": 122
        },
        "outputId": "c8ceabc3-e8ba-41b1-c79d-26cbc8ba1f93"
      },
      "source": [
        "nltk.download('mac_morpho')\n",
        "print(\"WORDS \", nltk.corpus.mac_morpho.tagged_words())\n",
        "print(\"______________\")\n",
        "print(\"SENTS \",nltk.corpus.mac_morpho.tagged_sents())"
      ],
      "execution_count": null,
      "outputs": [
        {
          "output_type": "stream",
          "text": [
            "[nltk_data] Downloading package mac_morpho to /root/nltk_data...\n",
            "[nltk_data]   Unzipping corpora/mac_morpho.zip.\n",
            "WORDS  [('Jersei', 'N'), ('atinge', 'V'), ('média', 'N'), ...]\n",
            "______________\n",
            "SENTS  [[('Jersei', 'N'), ('atinge', 'V'), ('média', 'N'), ('de', 'PREP'), ('Cr$', 'CUR'), ('1,4', 'NUM'), ('milhão', 'N'), ('em', 'PREP|+'), ('a', 'ART'), ('venda', 'N'), ('de', 'PREP|+'), ('a', 'ART'), ('Pinhal', 'NPROP'), ('em', 'PREP'), ('São', 'NPROP'), ('Paulo', 'NPROP')], [('Programe', 'V'), ('sua', 'PROADJ'), ('viagem', 'N'), ('a', 'PREP|+'), ('a', 'ART'), ('Exposição', 'NPROP'), ('Nacional', 'NPROP'), ('do', 'NPROP'), ('Zebu', 'NPROP'), (',', ','), ('que', 'PRO-KS-REL'), ('começa', 'V'), ('dia', 'N'), ('25', 'N|AP')], ...]\n"
          ],
          "name": "stdout"
        }
      ]
    },
    {
      "cell_type": "code",
      "metadata": {
        "id": "yXIUIQ6gzzn-",
        "colab": {
          "base_uri": "https://localhost:8080/",
          "height": 289
        },
        "outputId": "ee4a62c6-6915-4051-efce-cef36f0db82e"
      },
      "source": [
        "nltk.corpus.mac_morpho.tagged_sents()[0]"
      ],
      "execution_count": null,
      "outputs": [
        {
          "output_type": "execute_result",
          "data": {
            "text/plain": [
              "[('Jersei', 'N'),\n",
              " ('atinge', 'V'),\n",
              " ('média', 'N'),\n",
              " ('de', 'PREP'),\n",
              " ('Cr$', 'CUR'),\n",
              " ('1,4', 'NUM'),\n",
              " ('milhão', 'N'),\n",
              " ('em', 'PREP|+'),\n",
              " ('a', 'ART'),\n",
              " ('venda', 'N'),\n",
              " ('de', 'PREP|+'),\n",
              " ('a', 'ART'),\n",
              " ('Pinhal', 'NPROP'),\n",
              " ('em', 'PREP'),\n",
              " ('São', 'NPROP'),\n",
              " ('Paulo', 'NPROP')]"
            ]
          },
          "metadata": {
            "tags": []
          },
          "execution_count": 23
        }
      ]
    },
    {
      "cell_type": "code",
      "metadata": {
        "id": "5UgJQWATE_aN"
      },
      "source": [
        "words_tagged = nltk.corpus.mac_morpho.tagged_words()"
      ],
      "execution_count": null,
      "outputs": []
    },
    {
      "cell_type": "markdown",
      "metadata": {
        "id": "HsX2TEENE_aQ"
      },
      "source": [
        "<b> Atividade </b>\n",
        "\n",
        "7) Gere a quantidade de itens de cada tag no mac_morpho"
      ]
    },
    {
      "cell_type": "code",
      "metadata": {
        "id": "XClZNCt3E_aQ"
      },
      "source": [
        "lista_tags = []\n",
        "for palavra in words_tagged:\n",
        "  lista_tags.append(palavra[1])"
      ],
      "execution_count": null,
      "outputs": []
    },
    {
      "cell_type": "code",
      "metadata": {
        "id": "_t_kcKloE_aT"
      },
      "source": [
        "lista_tags = dict(Counter(lista_tags))"
      ],
      "execution_count": null,
      "outputs": []
    },
    {
      "cell_type": "code",
      "metadata": {
        "id": "dFm3No4T1WKY",
        "colab": {
          "base_uri": "https://localhost:8080/",
          "height": 1000
        },
        "outputId": "b5db77da-4337-4798-8f26-9e981474d90d"
      },
      "source": [
        "sorted(lista_tags.items(), key=operator.itemgetter(1), reverse=True)"
      ],
      "execution_count": null,
      "outputs": [
        {
          "output_type": "execute_result",
          "data": {
            "text/plain": [
              "[('N', 236462),\n",
              " ('ART', 151891),\n",
              " ('NPROP', 114318),\n",
              " ('PREP', 104364),\n",
              " ('V', 98056),\n",
              " ('PREP|+', 78274),\n",
              " (',', 68494),\n",
              " ('ADJ', 53372),\n",
              " ('ADV', 30653),\n",
              " ('KC', 28262),\n",
              " ('PCP', 23092),\n",
              " ('\"', 21069),\n",
              " ('PROADJ', 20919),\n",
              " ('NUM', 18110),\n",
              " ('VAUX', 17832),\n",
              " ('PROPESS', 14718),\n",
              " ('KS', 14320),\n",
              " ('PRO-KS-REL', 11347),\n",
              " ('PROSUB', 8598),\n",
              " (')', 7741),\n",
              " ('(', 7713),\n",
              " ('PDEN', 6786),\n",
              " (':', 6736),\n",
              " ('N|AP', 4350),\n",
              " ('-', 3117),\n",
              " ('N|EST', 2807),\n",
              " ('CUR', 2706),\n",
              " ('V|+', 2373),\n",
              " ('PRO-KS', 2150),\n",
              " ('?', 1510),\n",
              " (';', 1376),\n",
              " ('!', 919),\n",
              " ('N|HOR', 913),\n",
              " ('ADV-KS-REL', 898),\n",
              " ('N|TEL', 866),\n",
              " (\"'\", 510),\n",
              " ('IN', 415),\n",
              " ('ADV-KS', 392),\n",
              " ('N|DAT', 285),\n",
              " ('N|DAD', 255),\n",
              " ('ADJ|EST', 174),\n",
              " ('KC|[', 143),\n",
              " ('KC|]', 133),\n",
              " ('VAUX|+', 99),\n",
              " ('/', 95),\n",
              " ('...', 84),\n",
              " ('.', 82),\n",
              " ('$', 60),\n",
              " ('NPROP|+', 35),\n",
              " ('[', 23),\n",
              " ('PREP|[', 20),\n",
              " ('ADV|[', 18),\n",
              " ('=', 14),\n",
              " ('ADV|]', 13),\n",
              " ('ADJ|+', 11),\n",
              " ('((', 10),\n",
              " ('))', 10),\n",
              " ('PREP|]', 9),\n",
              " ('ADV|EST', 9),\n",
              " ('ADV|HOR', 9),\n",
              " ('ADV|+', 8),\n",
              " ('ART|+', 7),\n",
              " ('PREP|+]', 7),\n",
              " ('PROP', 7),\n",
              " ('V|EST', 5),\n",
              " ('KS|[', 5),\n",
              " ('ART|EST', 4),\n",
              " ('KS|]', 4),\n",
              " ('NPRO', 3),\n",
              " ('PREP|EST', 3),\n",
              " ('`', 3),\n",
              " ('NUM|TEL', 2),\n",
              " ('PREP|', 2),\n",
              " ('KC|EST', 2),\n",
              " ('PROADJ|+', 2),\n",
              " ('PROPESS|EST', 2),\n",
              " ('PDEN|EST', 2),\n",
              " ('PROPESS|+', 2),\n",
              " ('KC|+', 2),\n",
              " ('VAUX|!', 1),\n",
              " ('IN|EST', 1),\n",
              " ('V|!', 1)]"
            ]
          },
          "metadata": {
            "tags": []
          },
          "execution_count": 27
        }
      ]
    },
    {
      "cell_type": "markdown",
      "metadata": {
        "id": "9XFQU0cdE_aY"
      },
      "source": [
        "8) Quais são as tags mais com maior frequência? E quais com menor? Esse resultado faz sentido?"
      ]
    },
    {
      "cell_type": "markdown",
      "metadata": {
        "id": "hjugUlC0IXRM"
      },
      "source": [
        "Maior frequência: Substantivo e artigo. faz sentido pois são duas das classes mais comuns"
      ]
    },
    {
      "cell_type": "markdown",
      "metadata": {
        "id": "JT2wA46DE_ac"
      },
      "source": [
        "## POS Tagging com Spacy - Desambiguando frases\n",
        "\n",
        "Uma das aplicações do pos tagging é auxiliar na desambiguação de palavras. Uma mesma palavra pode desempenhar funções semântias diferentes, dependendo do contexto.\n",
        "\n",
        "<b> Atividade </b>\n",
        "\n",
        "9) Considere as frases abaixo:\n",
        "\n",
        "9.1) frases grupo1:\n",
        "```python\n",
        "frase0=\"Ele foi andar\"\n",
        "frase1=\"O andar estava triste\"\n",
        "```\n",
        "\n",
        "9.2) frase grupo2:\n",
        "```python\n",
        "frase2=\"Essa cola cola papel\"\n",
        "```\n",
        "9.3) frases grupo3:\n",
        "```python\n",
        "frase3=\"Hora de fazer imposto de renda\"\n",
        "frase4=\"Aquilo foi imposto pelo chefe\"\n",
        "```\n",
        "\n",
        "9.4) frases grupo4:\n",
        "```python\n",
        "frase5=\"Hora de fazer imposto de renda\"\n",
        "frase6=\"Aquilo foi imposto pelo chefe\"\n",
        "```\n",
        "\n",
        "9.5) frases grupo5:\n",
        "```python\n",
        "frase7=\"Todo dia eu caminho\"\n",
        "frase8=\"Esse é o caminho mais fácil\"\n",
        "```\n",
        "\n",
        "Utilizando o modelo ``pt_core_news_sm`` da biblioteca spacy faça as seguinte análises. Para cada token:\n",
        "\n",
        "- a) imprima a função sintática (pos-tagging) em texto\n",
        "- b) relação de dependência sintática em texto\n",
        "- c) gera uma imagem das relações acims utilizando o método abaixo:\n",
        "- d) análise a palavra em comum, descreva a diferença sintática encontrada e responda se é gramaticamente correta\n",
        "\n",
        "```python\n",
        "#Para imprimir detalhes\n",
        "displacy.render(doc, style='dep',jupyter=True)\n",
        "\n",
        "```\n",
        "\n",
        "Dica: https://spacy.io/api/annotation"
      ]
    },
    {
      "cell_type": "code",
      "metadata": {
        "id": "D16lenlt6VsW"
      },
      "source": [],
      "execution_count": null,
      "outputs": []
    },
    {
      "cell_type": "code",
      "metadata": {
        "id": "2Ahv15TkE_ad"
      },
      "source": [
        "nlp = pt_core_news_sm.load()"
      ],
      "execution_count": null,
      "outputs": []
    },
    {
      "cell_type": "code",
      "metadata": {
        "id": "XltTXakG6UsP"
      },
      "source": [],
      "execution_count": null,
      "outputs": []
    },
    {
      "cell_type": "markdown",
      "metadata": {
        "id": "fynfQ8BTE_ag"
      },
      "source": [
        "<b> Atividade </b>\n",
        "\n",
        "9.1 Frases Grupo 1"
      ]
    },
    {
      "cell_type": "code",
      "metadata": {
        "id": "t1HXoDVpE_ah"
      },
      "source": [
        "txt0=\"Ele foi andar\"\n",
        "txt1=\"O andar estava triste\""
      ],
      "execution_count": null,
      "outputs": []
    },
    {
      "cell_type": "code",
      "metadata": {
        "id": "r4MRn5I1PeXu"
      },
      "source": [
        "def analisa(texto):\n",
        "  texto_nlp = nlp(texto)\n",
        "  for token in texto_nlp:\n",
        "    print('Token: ', token.text, \"\\ta) Tag: \", token.pos_, '\\t\\tb) Dep:', token.dep_)\n",
        "  print(\"c)\")\n",
        "  displacy.render(texto_nlp, style='dep',jupyter=True)\n"
      ],
      "execution_count": null,
      "outputs": []
    },
    {
      "cell_type": "code",
      "metadata": {
        "id": "sNdGWtyVQZoB",
        "colab": {
          "base_uri": "https://localhost:8080/",
          "height": 401
        },
        "outputId": "a8048bca-b620-4f48-8b9c-0fc8b492165a"
      },
      "source": [
        "analisa(txt0)"
      ],
      "execution_count": null,
      "outputs": [
        {
          "output_type": "stream",
          "text": [
            "Token:  Ele \ta) Tag:  PRON \t\tb) Dep: nsubj:pass\n",
            "Token:  foi \ta) Tag:  AUX \t\tb) Dep: aux:pass\n",
            "Token:  andar \ta) Tag:  VERB \t\tb) Dep: ROOT\n",
            "c)\n"
          ],
          "name": "stdout"
        },
        {
          "output_type": "display_data",
          "data": {
            "text/html": [
              "<span class=\"tex2jax_ignore\"><svg xmlns=\"http://www.w3.org/2000/svg\" xmlns:xlink=\"http://www.w3.org/1999/xlink\" xml:lang=\"pt\" id=\"5ce99c4c0d154c91ac4feb52e138f3a2-0\" class=\"displacy\" width=\"575\" height=\"312.0\" direction=\"ltr\" style=\"max-width: none; height: 312.0px; color: #000000; background: #ffffff; font-family: Arial; direction: ltr\">\n",
              "<text class=\"displacy-token\" fill=\"currentColor\" text-anchor=\"middle\" y=\"222.0\">\n",
              "    <tspan class=\"displacy-word\" fill=\"currentColor\" x=\"50\">Ele</tspan>\n",
              "    <tspan class=\"displacy-tag\" dy=\"2em\" fill=\"currentColor\" x=\"50\">PRON</tspan>\n",
              "</text>\n",
              "\n",
              "<text class=\"displacy-token\" fill=\"currentColor\" text-anchor=\"middle\" y=\"222.0\">\n",
              "    <tspan class=\"displacy-word\" fill=\"currentColor\" x=\"225\">foi</tspan>\n",
              "    <tspan class=\"displacy-tag\" dy=\"2em\" fill=\"currentColor\" x=\"225\">AUX</tspan>\n",
              "</text>\n",
              "\n",
              "<text class=\"displacy-token\" fill=\"currentColor\" text-anchor=\"middle\" y=\"222.0\">\n",
              "    <tspan class=\"displacy-word\" fill=\"currentColor\" x=\"400\">andar</tspan>\n",
              "    <tspan class=\"displacy-tag\" dy=\"2em\" fill=\"currentColor\" x=\"400\">VERB</tspan>\n",
              "</text>\n",
              "\n",
              "<g class=\"displacy-arrow\">\n",
              "    <path class=\"displacy-arc\" id=\"arrow-5ce99c4c0d154c91ac4feb52e138f3a2-0-0\" stroke-width=\"2px\" d=\"M70,177.0 C70,2.0 400.0,2.0 400.0,177.0\" fill=\"none\" stroke=\"currentColor\"/>\n",
              "    <text dy=\"1.25em\" style=\"font-size: 0.8em; letter-spacing: 1px\">\n",
              "        <textPath xlink:href=\"#arrow-5ce99c4c0d154c91ac4feb52e138f3a2-0-0\" class=\"displacy-label\" startOffset=\"50%\" side=\"left\" fill=\"currentColor\" text-anchor=\"middle\">nsubj:pass</textPath>\n",
              "    </text>\n",
              "    <path class=\"displacy-arrowhead\" d=\"M70,179.0 L62,167.0 78,167.0\" fill=\"currentColor\"/>\n",
              "</g>\n",
              "\n",
              "<g class=\"displacy-arrow\">\n",
              "    <path class=\"displacy-arc\" id=\"arrow-5ce99c4c0d154c91ac4feb52e138f3a2-0-1\" stroke-width=\"2px\" d=\"M245,177.0 C245,89.5 395.0,89.5 395.0,177.0\" fill=\"none\" stroke=\"currentColor\"/>\n",
              "    <text dy=\"1.25em\" style=\"font-size: 0.8em; letter-spacing: 1px\">\n",
              "        <textPath xlink:href=\"#arrow-5ce99c4c0d154c91ac4feb52e138f3a2-0-1\" class=\"displacy-label\" startOffset=\"50%\" side=\"left\" fill=\"currentColor\" text-anchor=\"middle\">aux:pass</textPath>\n",
              "    </text>\n",
              "    <path class=\"displacy-arrowhead\" d=\"M245,179.0 L237,167.0 253,167.0\" fill=\"currentColor\"/>\n",
              "</g>\n",
              "</svg></span>"
            ],
            "text/plain": [
              "<IPython.core.display.HTML object>"
            ]
          },
          "metadata": {
            "tags": []
          }
        }
      ]
    },
    {
      "cell_type": "code",
      "metadata": {
        "id": "bL1lPXA0E_an"
      },
      "source": [
        "txt_nlp = nlp(txt0)"
      ],
      "execution_count": null,
      "outputs": []
    },
    {
      "cell_type": "code",
      "metadata": {
        "id": "uipp0zswOSOl",
        "colab": {
          "base_uri": "https://localhost:8080/",
          "height": 35
        },
        "outputId": "9a5f0882-e47b-4864-ca01-41f2a5aa64ec"
      },
      "source": [
        "txt_nlp[0].pos_"
      ],
      "execution_count": null,
      "outputs": [
        {
          "output_type": "execute_result",
          "data": {
            "application/vnd.google.colaboratory.intrinsic+json": {
              "type": "string"
            },
            "text/plain": [
              "'PRON'"
            ]
          },
          "metadata": {
            "tags": []
          },
          "execution_count": 40
        }
      ]
    },
    {
      "cell_type": "code",
      "metadata": {
        "id": "JfXjqCuCO4YC",
        "colab": {
          "base_uri": "https://localhost:8080/",
          "height": 333
        },
        "outputId": "c01a66d5-debb-4153-f937-3e238370bb08"
      },
      "source": [
        "displacy.render(txt_nlp, style='dep',jupyter=True)"
      ],
      "execution_count": null,
      "outputs": [
        {
          "output_type": "display_data",
          "data": {
            "text/html": [
              "<span class=\"tex2jax_ignore\"><svg xmlns=\"http://www.w3.org/2000/svg\" xmlns:xlink=\"http://www.w3.org/1999/xlink\" xml:lang=\"pt\" id=\"59da4150f586455fac376cbfe4d49133-0\" class=\"displacy\" width=\"575\" height=\"312.0\" direction=\"ltr\" style=\"max-width: none; height: 312.0px; color: #000000; background: #ffffff; font-family: Arial; direction: ltr\">\n",
              "<text class=\"displacy-token\" fill=\"currentColor\" text-anchor=\"middle\" y=\"222.0\">\n",
              "    <tspan class=\"displacy-word\" fill=\"currentColor\" x=\"50\">Ele</tspan>\n",
              "    <tspan class=\"displacy-tag\" dy=\"2em\" fill=\"currentColor\" x=\"50\">PRON</tspan>\n",
              "</text>\n",
              "\n",
              "<text class=\"displacy-token\" fill=\"currentColor\" text-anchor=\"middle\" y=\"222.0\">\n",
              "    <tspan class=\"displacy-word\" fill=\"currentColor\" x=\"225\">foi</tspan>\n",
              "    <tspan class=\"displacy-tag\" dy=\"2em\" fill=\"currentColor\" x=\"225\">AUX</tspan>\n",
              "</text>\n",
              "\n",
              "<text class=\"displacy-token\" fill=\"currentColor\" text-anchor=\"middle\" y=\"222.0\">\n",
              "    <tspan class=\"displacy-word\" fill=\"currentColor\" x=\"400\">andar</tspan>\n",
              "    <tspan class=\"displacy-tag\" dy=\"2em\" fill=\"currentColor\" x=\"400\">VERB</tspan>\n",
              "</text>\n",
              "\n",
              "<g class=\"displacy-arrow\">\n",
              "    <path class=\"displacy-arc\" id=\"arrow-59da4150f586455fac376cbfe4d49133-0-0\" stroke-width=\"2px\" d=\"M70,177.0 C70,2.0 400.0,2.0 400.0,177.0\" fill=\"none\" stroke=\"currentColor\"/>\n",
              "    <text dy=\"1.25em\" style=\"font-size: 0.8em; letter-spacing: 1px\">\n",
              "        <textPath xlink:href=\"#arrow-59da4150f586455fac376cbfe4d49133-0-0\" class=\"displacy-label\" startOffset=\"50%\" side=\"left\" fill=\"currentColor\" text-anchor=\"middle\">nsubj:pass</textPath>\n",
              "    </text>\n",
              "    <path class=\"displacy-arrowhead\" d=\"M70,179.0 L62,167.0 78,167.0\" fill=\"currentColor\"/>\n",
              "</g>\n",
              "\n",
              "<g class=\"displacy-arrow\">\n",
              "    <path class=\"displacy-arc\" id=\"arrow-59da4150f586455fac376cbfe4d49133-0-1\" stroke-width=\"2px\" d=\"M245,177.0 C245,89.5 395.0,89.5 395.0,177.0\" fill=\"none\" stroke=\"currentColor\"/>\n",
              "    <text dy=\"1.25em\" style=\"font-size: 0.8em; letter-spacing: 1px\">\n",
              "        <textPath xlink:href=\"#arrow-59da4150f586455fac376cbfe4d49133-0-1\" class=\"displacy-label\" startOffset=\"50%\" side=\"left\" fill=\"currentColor\" text-anchor=\"middle\">aux:pass</textPath>\n",
              "    </text>\n",
              "    <path class=\"displacy-arrowhead\" d=\"M245,179.0 L237,167.0 253,167.0\" fill=\"currentColor\"/>\n",
              "</g>\n",
              "</svg></span>"
            ],
            "text/plain": [
              "<IPython.core.display.HTML object>"
            ]
          },
          "metadata": {
            "tags": []
          }
        }
      ]
    },
    {
      "cell_type": "markdown",
      "metadata": {
        "id": "tjWa6G1uE_aq"
      },
      "source": [
        "<b> d) Disucussão Grupo 1: </b>"
      ]
    },
    {
      "cell_type": "markdown",
      "metadata": {
        "id": "U71xhqKCE_ar"
      },
      "source": [
        "<b> Atividade </b>\n",
        "\n",
        "9.2. Frase Grupo 2"
      ]
    },
    {
      "cell_type": "code",
      "metadata": {
        "id": "I41C69WiE_as"
      },
      "source": [
        "txt2=\"Essa cola cola papel\""
      ],
      "execution_count": null,
      "outputs": []
    },
    {
      "cell_type": "code",
      "metadata": {
        "id": "S1HK3GrXE_av",
        "colab": {
          "base_uri": "https://localhost:8080/",
          "height": 418
        },
        "outputId": "a27bba9d-02cd-41d7-c343-7e3d2c315980"
      },
      "source": [
        "analisa(txt2)"
      ],
      "execution_count": null,
      "outputs": [
        {
          "output_type": "stream",
          "text": [
            "Token:  Essa \ta) Tag:  DET \t\tb) Dep: det\n",
            "Token:  cola \ta) Tag:  NOUN \t\tb) Dep: ROOT\n",
            "Token:  cola \ta) Tag:  ADJ \t\tb) Dep: flat:name\n",
            "Token:  papel \ta) Tag:  PROPN \t\tb) Dep: flat:name\n",
            "c)\n"
          ],
          "name": "stdout"
        },
        {
          "output_type": "display_data",
          "data": {
            "text/html": [
              "<span class=\"tex2jax_ignore\"><svg xmlns=\"http://www.w3.org/2000/svg\" xmlns:xlink=\"http://www.w3.org/1999/xlink\" xml:lang=\"pt\" id=\"37b42821e4f74729b81fbf54cf1473ec-0\" class=\"displacy\" width=\"750\" height=\"312.0\" direction=\"ltr\" style=\"max-width: none; height: 312.0px; color: #000000; background: #ffffff; font-family: Arial; direction: ltr\">\n",
              "<text class=\"displacy-token\" fill=\"currentColor\" text-anchor=\"middle\" y=\"222.0\">\n",
              "    <tspan class=\"displacy-word\" fill=\"currentColor\" x=\"50\">Essa</tspan>\n",
              "    <tspan class=\"displacy-tag\" dy=\"2em\" fill=\"currentColor\" x=\"50\">DET</tspan>\n",
              "</text>\n",
              "\n",
              "<text class=\"displacy-token\" fill=\"currentColor\" text-anchor=\"middle\" y=\"222.0\">\n",
              "    <tspan class=\"displacy-word\" fill=\"currentColor\" x=\"225\">cola</tspan>\n",
              "    <tspan class=\"displacy-tag\" dy=\"2em\" fill=\"currentColor\" x=\"225\">NOUN</tspan>\n",
              "</text>\n",
              "\n",
              "<text class=\"displacy-token\" fill=\"currentColor\" text-anchor=\"middle\" y=\"222.0\">\n",
              "    <tspan class=\"displacy-word\" fill=\"currentColor\" x=\"400\">cola</tspan>\n",
              "    <tspan class=\"displacy-tag\" dy=\"2em\" fill=\"currentColor\" x=\"400\">ADJ</tspan>\n",
              "</text>\n",
              "\n",
              "<text class=\"displacy-token\" fill=\"currentColor\" text-anchor=\"middle\" y=\"222.0\">\n",
              "    <tspan class=\"displacy-word\" fill=\"currentColor\" x=\"575\">papel</tspan>\n",
              "    <tspan class=\"displacy-tag\" dy=\"2em\" fill=\"currentColor\" x=\"575\">PROPN</tspan>\n",
              "</text>\n",
              "\n",
              "<g class=\"displacy-arrow\">\n",
              "    <path class=\"displacy-arc\" id=\"arrow-37b42821e4f74729b81fbf54cf1473ec-0-0\" stroke-width=\"2px\" d=\"M70,177.0 C70,89.5 220.0,89.5 220.0,177.0\" fill=\"none\" stroke=\"currentColor\"/>\n",
              "    <text dy=\"1.25em\" style=\"font-size: 0.8em; letter-spacing: 1px\">\n",
              "        <textPath xlink:href=\"#arrow-37b42821e4f74729b81fbf54cf1473ec-0-0\" class=\"displacy-label\" startOffset=\"50%\" side=\"left\" fill=\"currentColor\" text-anchor=\"middle\">det</textPath>\n",
              "    </text>\n",
              "    <path class=\"displacy-arrowhead\" d=\"M70,179.0 L62,167.0 78,167.0\" fill=\"currentColor\"/>\n",
              "</g>\n",
              "\n",
              "<g class=\"displacy-arrow\">\n",
              "    <path class=\"displacy-arc\" id=\"arrow-37b42821e4f74729b81fbf54cf1473ec-0-1\" stroke-width=\"2px\" d=\"M245,177.0 C245,89.5 395.0,89.5 395.0,177.0\" fill=\"none\" stroke=\"currentColor\"/>\n",
              "    <text dy=\"1.25em\" style=\"font-size: 0.8em; letter-spacing: 1px\">\n",
              "        <textPath xlink:href=\"#arrow-37b42821e4f74729b81fbf54cf1473ec-0-1\" class=\"displacy-label\" startOffset=\"50%\" side=\"left\" fill=\"currentColor\" text-anchor=\"middle\">flat:name</textPath>\n",
              "    </text>\n",
              "    <path class=\"displacy-arrowhead\" d=\"M395.0,179.0 L403.0,167.0 387.0,167.0\" fill=\"currentColor\"/>\n",
              "</g>\n",
              "\n",
              "<g class=\"displacy-arrow\">\n",
              "    <path class=\"displacy-arc\" id=\"arrow-37b42821e4f74729b81fbf54cf1473ec-0-2\" stroke-width=\"2px\" d=\"M245,177.0 C245,2.0 575.0,2.0 575.0,177.0\" fill=\"none\" stroke=\"currentColor\"/>\n",
              "    <text dy=\"1.25em\" style=\"font-size: 0.8em; letter-spacing: 1px\">\n",
              "        <textPath xlink:href=\"#arrow-37b42821e4f74729b81fbf54cf1473ec-0-2\" class=\"displacy-label\" startOffset=\"50%\" side=\"left\" fill=\"currentColor\" text-anchor=\"middle\">flat:name</textPath>\n",
              "    </text>\n",
              "    <path class=\"displacy-arrowhead\" d=\"M575.0,179.0 L583.0,167.0 567.0,167.0\" fill=\"currentColor\"/>\n",
              "</g>\n",
              "</svg></span>"
            ],
            "text/plain": [
              "<IPython.core.display.HTML object>"
            ]
          },
          "metadata": {
            "tags": []
          }
        }
      ]
    },
    {
      "cell_type": "markdown",
      "metadata": {
        "id": "BejM_3ohE_ay"
      },
      "source": [
        "<b> d) Disucussão Grupo 2: </b>"
      ]
    },
    {
      "cell_type": "markdown",
      "metadata": {
        "id": "kn4VeTQKE_az"
      },
      "source": [
        "<b> Atividade </b>\n",
        "\n",
        "9.3. Frases Grupo 3"
      ]
    },
    {
      "cell_type": "code",
      "metadata": {
        "id": "GjQxo190E_a0"
      },
      "source": [
        "txt3=\"Segundo o que me disseram, ele estava triste\"\n",
        "txt4=\"No segundo dia de trabalho ela gastou menos\""
      ],
      "execution_count": null,
      "outputs": []
    },
    {
      "cell_type": "code",
      "metadata": {
        "id": "FAL2V_BQE_a4",
        "colab": {
          "base_uri": "https://localhost:8080/",
          "height": 678
        },
        "outputId": "e3377ba6-eee3-4998-ec94-a31c67eead40"
      },
      "source": [
        "analisa(txt3)"
      ],
      "execution_count": null,
      "outputs": [
        {
          "output_type": "stream",
          "text": [
            "Token:  Segundo \ta) Tag:  ADP \t\tb) Dep: case\n",
            "Token:  o \ta) Tag:  PRON \t\tb) Dep: obl\n",
            "Token:  que \ta) Tag:  PRON \t\tb) Dep: nsubj\n",
            "Token:  me \ta) Tag:  PRON \t\tb) Dep: iobj\n",
            "Token:  disseram \ta) Tag:  VERB \t\tb) Dep: acl:relcl\n",
            "Token:  , \ta) Tag:  PUNCT \t\tb) Dep: punct\n",
            "Token:  ele \ta) Tag:  PRON \t\tb) Dep: nsubj\n",
            "Token:  estava \ta) Tag:  VERB \t\tb) Dep: cop\n",
            "Token:  triste \ta) Tag:  ADJ \t\tb) Dep: ROOT\n",
            "c)\n"
          ],
          "name": "stdout"
        },
        {
          "output_type": "display_data",
          "data": {
            "text/html": [
              "<span class=\"tex2jax_ignore\"><svg xmlns=\"http://www.w3.org/2000/svg\" xmlns:xlink=\"http://www.w3.org/1999/xlink\" xml:lang=\"pt\" id=\"fbba8e7178194e1dbae91ecfbfeb627b-0\" class=\"displacy\" width=\"1450\" height=\"487.0\" direction=\"ltr\" style=\"max-width: none; height: 487.0px; color: #000000; background: #ffffff; font-family: Arial; direction: ltr\">\n",
              "<text class=\"displacy-token\" fill=\"currentColor\" text-anchor=\"middle\" y=\"397.0\">\n",
              "    <tspan class=\"displacy-word\" fill=\"currentColor\" x=\"50\">Segundo</tspan>\n",
              "    <tspan class=\"displacy-tag\" dy=\"2em\" fill=\"currentColor\" x=\"50\">ADP</tspan>\n",
              "</text>\n",
              "\n",
              "<text class=\"displacy-token\" fill=\"currentColor\" text-anchor=\"middle\" y=\"397.0\">\n",
              "    <tspan class=\"displacy-word\" fill=\"currentColor\" x=\"225\">o</tspan>\n",
              "    <tspan class=\"displacy-tag\" dy=\"2em\" fill=\"currentColor\" x=\"225\">PRON</tspan>\n",
              "</text>\n",
              "\n",
              "<text class=\"displacy-token\" fill=\"currentColor\" text-anchor=\"middle\" y=\"397.0\">\n",
              "    <tspan class=\"displacy-word\" fill=\"currentColor\" x=\"400\">que</tspan>\n",
              "    <tspan class=\"displacy-tag\" dy=\"2em\" fill=\"currentColor\" x=\"400\">PRON</tspan>\n",
              "</text>\n",
              "\n",
              "<text class=\"displacy-token\" fill=\"currentColor\" text-anchor=\"middle\" y=\"397.0\">\n",
              "    <tspan class=\"displacy-word\" fill=\"currentColor\" x=\"575\">me</tspan>\n",
              "    <tspan class=\"displacy-tag\" dy=\"2em\" fill=\"currentColor\" x=\"575\">PRON</tspan>\n",
              "</text>\n",
              "\n",
              "<text class=\"displacy-token\" fill=\"currentColor\" text-anchor=\"middle\" y=\"397.0\">\n",
              "    <tspan class=\"displacy-word\" fill=\"currentColor\" x=\"750\">disseram,</tspan>\n",
              "    <tspan class=\"displacy-tag\" dy=\"2em\" fill=\"currentColor\" x=\"750\">VERB</tspan>\n",
              "</text>\n",
              "\n",
              "<text class=\"displacy-token\" fill=\"currentColor\" text-anchor=\"middle\" y=\"397.0\">\n",
              "    <tspan class=\"displacy-word\" fill=\"currentColor\" x=\"925\">ele</tspan>\n",
              "    <tspan class=\"displacy-tag\" dy=\"2em\" fill=\"currentColor\" x=\"925\">PRON</tspan>\n",
              "</text>\n",
              "\n",
              "<text class=\"displacy-token\" fill=\"currentColor\" text-anchor=\"middle\" y=\"397.0\">\n",
              "    <tspan class=\"displacy-word\" fill=\"currentColor\" x=\"1100\">estava</tspan>\n",
              "    <tspan class=\"displacy-tag\" dy=\"2em\" fill=\"currentColor\" x=\"1100\">VERB</tspan>\n",
              "</text>\n",
              "\n",
              "<text class=\"displacy-token\" fill=\"currentColor\" text-anchor=\"middle\" y=\"397.0\">\n",
              "    <tspan class=\"displacy-word\" fill=\"currentColor\" x=\"1275\">triste</tspan>\n",
              "    <tspan class=\"displacy-tag\" dy=\"2em\" fill=\"currentColor\" x=\"1275\">ADJ</tspan>\n",
              "</text>\n",
              "\n",
              "<g class=\"displacy-arrow\">\n",
              "    <path class=\"displacy-arc\" id=\"arrow-fbba8e7178194e1dbae91ecfbfeb627b-0-0\" stroke-width=\"2px\" d=\"M70,352.0 C70,264.5 210.0,264.5 210.0,352.0\" fill=\"none\" stroke=\"currentColor\"/>\n",
              "    <text dy=\"1.25em\" style=\"font-size: 0.8em; letter-spacing: 1px\">\n",
              "        <textPath xlink:href=\"#arrow-fbba8e7178194e1dbae91ecfbfeb627b-0-0\" class=\"displacy-label\" startOffset=\"50%\" side=\"left\" fill=\"currentColor\" text-anchor=\"middle\">case</textPath>\n",
              "    </text>\n",
              "    <path class=\"displacy-arrowhead\" d=\"M70,354.0 L62,342.0 78,342.0\" fill=\"currentColor\"/>\n",
              "</g>\n",
              "\n",
              "<g class=\"displacy-arrow\">\n",
              "    <path class=\"displacy-arc\" id=\"arrow-fbba8e7178194e1dbae91ecfbfeb627b-0-1\" stroke-width=\"2px\" d=\"M245,352.0 C245,2.0 1275.0,2.0 1275.0,352.0\" fill=\"none\" stroke=\"currentColor\"/>\n",
              "    <text dy=\"1.25em\" style=\"font-size: 0.8em; letter-spacing: 1px\">\n",
              "        <textPath xlink:href=\"#arrow-fbba8e7178194e1dbae91ecfbfeb627b-0-1\" class=\"displacy-label\" startOffset=\"50%\" side=\"left\" fill=\"currentColor\" text-anchor=\"middle\">obl</textPath>\n",
              "    </text>\n",
              "    <path class=\"displacy-arrowhead\" d=\"M245,354.0 L237,342.0 253,342.0\" fill=\"currentColor\"/>\n",
              "</g>\n",
              "\n",
              "<g class=\"displacy-arrow\">\n",
              "    <path class=\"displacy-arc\" id=\"arrow-fbba8e7178194e1dbae91ecfbfeb627b-0-2\" stroke-width=\"2px\" d=\"M420,352.0 C420,177.0 740.0,177.0 740.0,352.0\" fill=\"none\" stroke=\"currentColor\"/>\n",
              "    <text dy=\"1.25em\" style=\"font-size: 0.8em; letter-spacing: 1px\">\n",
              "        <textPath xlink:href=\"#arrow-fbba8e7178194e1dbae91ecfbfeb627b-0-2\" class=\"displacy-label\" startOffset=\"50%\" side=\"left\" fill=\"currentColor\" text-anchor=\"middle\">nsubj</textPath>\n",
              "    </text>\n",
              "    <path class=\"displacy-arrowhead\" d=\"M420,354.0 L412,342.0 428,342.0\" fill=\"currentColor\"/>\n",
              "</g>\n",
              "\n",
              "<g class=\"displacy-arrow\">\n",
              "    <path class=\"displacy-arc\" id=\"arrow-fbba8e7178194e1dbae91ecfbfeb627b-0-3\" stroke-width=\"2px\" d=\"M595,352.0 C595,264.5 735.0,264.5 735.0,352.0\" fill=\"none\" stroke=\"currentColor\"/>\n",
              "    <text dy=\"1.25em\" style=\"font-size: 0.8em; letter-spacing: 1px\">\n",
              "        <textPath xlink:href=\"#arrow-fbba8e7178194e1dbae91ecfbfeb627b-0-3\" class=\"displacy-label\" startOffset=\"50%\" side=\"left\" fill=\"currentColor\" text-anchor=\"middle\">iobj</textPath>\n",
              "    </text>\n",
              "    <path class=\"displacy-arrowhead\" d=\"M595,354.0 L587,342.0 603,342.0\" fill=\"currentColor\"/>\n",
              "</g>\n",
              "\n",
              "<g class=\"displacy-arrow\">\n",
              "    <path class=\"displacy-arc\" id=\"arrow-fbba8e7178194e1dbae91ecfbfeb627b-0-4\" stroke-width=\"2px\" d=\"M245,352.0 C245,89.5 745.0,89.5 745.0,352.0\" fill=\"none\" stroke=\"currentColor\"/>\n",
              "    <text dy=\"1.25em\" style=\"font-size: 0.8em; letter-spacing: 1px\">\n",
              "        <textPath xlink:href=\"#arrow-fbba8e7178194e1dbae91ecfbfeb627b-0-4\" class=\"displacy-label\" startOffset=\"50%\" side=\"left\" fill=\"currentColor\" text-anchor=\"middle\">acl:relcl</textPath>\n",
              "    </text>\n",
              "    <path class=\"displacy-arrowhead\" d=\"M745.0,354.0 L753.0,342.0 737.0,342.0\" fill=\"currentColor\"/>\n",
              "</g>\n",
              "\n",
              "<g class=\"displacy-arrow\">\n",
              "    <path class=\"displacy-arc\" id=\"arrow-fbba8e7178194e1dbae91ecfbfeb627b-0-5\" stroke-width=\"2px\" d=\"M945,352.0 C945,177.0 1265.0,177.0 1265.0,352.0\" fill=\"none\" stroke=\"currentColor\"/>\n",
              "    <text dy=\"1.25em\" style=\"font-size: 0.8em; letter-spacing: 1px\">\n",
              "        <textPath xlink:href=\"#arrow-fbba8e7178194e1dbae91ecfbfeb627b-0-5\" class=\"displacy-label\" startOffset=\"50%\" side=\"left\" fill=\"currentColor\" text-anchor=\"middle\">nsubj</textPath>\n",
              "    </text>\n",
              "    <path class=\"displacy-arrowhead\" d=\"M945,354.0 L937,342.0 953,342.0\" fill=\"currentColor\"/>\n",
              "</g>\n",
              "\n",
              "<g class=\"displacy-arrow\">\n",
              "    <path class=\"displacy-arc\" id=\"arrow-fbba8e7178194e1dbae91ecfbfeb627b-0-6\" stroke-width=\"2px\" d=\"M1120,352.0 C1120,264.5 1260.0,264.5 1260.0,352.0\" fill=\"none\" stroke=\"currentColor\"/>\n",
              "    <text dy=\"1.25em\" style=\"font-size: 0.8em; letter-spacing: 1px\">\n",
              "        <textPath xlink:href=\"#arrow-fbba8e7178194e1dbae91ecfbfeb627b-0-6\" class=\"displacy-label\" startOffset=\"50%\" side=\"left\" fill=\"currentColor\" text-anchor=\"middle\">cop</textPath>\n",
              "    </text>\n",
              "    <path class=\"displacy-arrowhead\" d=\"M1120,354.0 L1112,342.0 1128,342.0\" fill=\"currentColor\"/>\n",
              "</g>\n",
              "</svg></span>"
            ],
            "text/plain": [
              "<IPython.core.display.HTML object>"
            ]
          },
          "metadata": {
            "tags": []
          }
        }
      ]
    },
    {
      "cell_type": "code",
      "metadata": {
        "id": "XrO9JgCjJF_L",
        "colab": {
          "base_uri": "https://localhost:8080/",
          "height": 574
        },
        "outputId": "cd867ce0-f293-413c-e83f-010b4dbbf61e"
      },
      "source": [
        "analisa(txt4)"
      ],
      "execution_count": null,
      "outputs": [
        {
          "output_type": "stream",
          "text": [
            "Token:  No \ta) Tag:  ADP \t\tb) Dep: case\n",
            "Token:  segundo \ta) Tag:  ADJ \t\tb) Dep: amod\n",
            "Token:  dia \ta) Tag:  NOUN \t\tb) Dep: obl\n",
            "Token:  de \ta) Tag:  ADP \t\tb) Dep: case\n",
            "Token:  trabalho \ta) Tag:  NOUN \t\tb) Dep: nmod\n",
            "Token:  ela \ta) Tag:  PRON \t\tb) Dep: nsubj\n",
            "Token:  gastou \ta) Tag:  VERB \t\tb) Dep: ROOT\n",
            "Token:  menos \ta) Tag:  ADV \t\tb) Dep: advmod\n",
            "c)\n"
          ],
          "name": "stdout"
        },
        {
          "output_type": "display_data",
          "data": {
            "text/html": [
              "<span class=\"tex2jax_ignore\"><svg xmlns=\"http://www.w3.org/2000/svg\" xmlns:xlink=\"http://www.w3.org/1999/xlink\" xml:lang=\"pt\" id=\"7c7de1d90a164c22b7d5f4af0d738554-0\" class=\"displacy\" width=\"1450\" height=\"399.5\" direction=\"ltr\" style=\"max-width: none; height: 399.5px; color: #000000; background: #ffffff; font-family: Arial; direction: ltr\">\n",
              "<text class=\"displacy-token\" fill=\"currentColor\" text-anchor=\"middle\" y=\"309.5\">\n",
              "    <tspan class=\"displacy-word\" fill=\"currentColor\" x=\"50\">No</tspan>\n",
              "    <tspan class=\"displacy-tag\" dy=\"2em\" fill=\"currentColor\" x=\"50\">ADP</tspan>\n",
              "</text>\n",
              "\n",
              "<text class=\"displacy-token\" fill=\"currentColor\" text-anchor=\"middle\" y=\"309.5\">\n",
              "    <tspan class=\"displacy-word\" fill=\"currentColor\" x=\"225\">segundo</tspan>\n",
              "    <tspan class=\"displacy-tag\" dy=\"2em\" fill=\"currentColor\" x=\"225\">ADJ</tspan>\n",
              "</text>\n",
              "\n",
              "<text class=\"displacy-token\" fill=\"currentColor\" text-anchor=\"middle\" y=\"309.5\">\n",
              "    <tspan class=\"displacy-word\" fill=\"currentColor\" x=\"400\">dia</tspan>\n",
              "    <tspan class=\"displacy-tag\" dy=\"2em\" fill=\"currentColor\" x=\"400\">NOUN</tspan>\n",
              "</text>\n",
              "\n",
              "<text class=\"displacy-token\" fill=\"currentColor\" text-anchor=\"middle\" y=\"309.5\">\n",
              "    <tspan class=\"displacy-word\" fill=\"currentColor\" x=\"575\">de</tspan>\n",
              "    <tspan class=\"displacy-tag\" dy=\"2em\" fill=\"currentColor\" x=\"575\">ADP</tspan>\n",
              "</text>\n",
              "\n",
              "<text class=\"displacy-token\" fill=\"currentColor\" text-anchor=\"middle\" y=\"309.5\">\n",
              "    <tspan class=\"displacy-word\" fill=\"currentColor\" x=\"750\">trabalho</tspan>\n",
              "    <tspan class=\"displacy-tag\" dy=\"2em\" fill=\"currentColor\" x=\"750\">NOUN</tspan>\n",
              "</text>\n",
              "\n",
              "<text class=\"displacy-token\" fill=\"currentColor\" text-anchor=\"middle\" y=\"309.5\">\n",
              "    <tspan class=\"displacy-word\" fill=\"currentColor\" x=\"925\">ela</tspan>\n",
              "    <tspan class=\"displacy-tag\" dy=\"2em\" fill=\"currentColor\" x=\"925\">PRON</tspan>\n",
              "</text>\n",
              "\n",
              "<text class=\"displacy-token\" fill=\"currentColor\" text-anchor=\"middle\" y=\"309.5\">\n",
              "    <tspan class=\"displacy-word\" fill=\"currentColor\" x=\"1100\">gastou</tspan>\n",
              "    <tspan class=\"displacy-tag\" dy=\"2em\" fill=\"currentColor\" x=\"1100\">VERB</tspan>\n",
              "</text>\n",
              "\n",
              "<text class=\"displacy-token\" fill=\"currentColor\" text-anchor=\"middle\" y=\"309.5\">\n",
              "    <tspan class=\"displacy-word\" fill=\"currentColor\" x=\"1275\">menos</tspan>\n",
              "    <tspan class=\"displacy-tag\" dy=\"2em\" fill=\"currentColor\" x=\"1275\">ADV</tspan>\n",
              "</text>\n",
              "\n",
              "<g class=\"displacy-arrow\">\n",
              "    <path class=\"displacy-arc\" id=\"arrow-7c7de1d90a164c22b7d5f4af0d738554-0-0\" stroke-width=\"2px\" d=\"M70,264.5 C70,89.5 395.0,89.5 395.0,264.5\" fill=\"none\" stroke=\"currentColor\"/>\n",
              "    <text dy=\"1.25em\" style=\"font-size: 0.8em; letter-spacing: 1px\">\n",
              "        <textPath xlink:href=\"#arrow-7c7de1d90a164c22b7d5f4af0d738554-0-0\" class=\"displacy-label\" startOffset=\"50%\" side=\"left\" fill=\"currentColor\" text-anchor=\"middle\">case</textPath>\n",
              "    </text>\n",
              "    <path class=\"displacy-arrowhead\" d=\"M70,266.5 L62,254.5 78,254.5\" fill=\"currentColor\"/>\n",
              "</g>\n",
              "\n",
              "<g class=\"displacy-arrow\">\n",
              "    <path class=\"displacy-arc\" id=\"arrow-7c7de1d90a164c22b7d5f4af0d738554-0-1\" stroke-width=\"2px\" d=\"M245,264.5 C245,177.0 390.0,177.0 390.0,264.5\" fill=\"none\" stroke=\"currentColor\"/>\n",
              "    <text dy=\"1.25em\" style=\"font-size: 0.8em; letter-spacing: 1px\">\n",
              "        <textPath xlink:href=\"#arrow-7c7de1d90a164c22b7d5f4af0d738554-0-1\" class=\"displacy-label\" startOffset=\"50%\" side=\"left\" fill=\"currentColor\" text-anchor=\"middle\">amod</textPath>\n",
              "    </text>\n",
              "    <path class=\"displacy-arrowhead\" d=\"M245,266.5 L237,254.5 253,254.5\" fill=\"currentColor\"/>\n",
              "</g>\n",
              "\n",
              "<g class=\"displacy-arrow\">\n",
              "    <path class=\"displacy-arc\" id=\"arrow-7c7de1d90a164c22b7d5f4af0d738554-0-2\" stroke-width=\"2px\" d=\"M420,264.5 C420,2.0 1100.0,2.0 1100.0,264.5\" fill=\"none\" stroke=\"currentColor\"/>\n",
              "    <text dy=\"1.25em\" style=\"font-size: 0.8em; letter-spacing: 1px\">\n",
              "        <textPath xlink:href=\"#arrow-7c7de1d90a164c22b7d5f4af0d738554-0-2\" class=\"displacy-label\" startOffset=\"50%\" side=\"left\" fill=\"currentColor\" text-anchor=\"middle\">obl</textPath>\n",
              "    </text>\n",
              "    <path class=\"displacy-arrowhead\" d=\"M420,266.5 L412,254.5 428,254.5\" fill=\"currentColor\"/>\n",
              "</g>\n",
              "\n",
              "<g class=\"displacy-arrow\">\n",
              "    <path class=\"displacy-arc\" id=\"arrow-7c7de1d90a164c22b7d5f4af0d738554-0-3\" stroke-width=\"2px\" d=\"M595,264.5 C595,177.0 740.0,177.0 740.0,264.5\" fill=\"none\" stroke=\"currentColor\"/>\n",
              "    <text dy=\"1.25em\" style=\"font-size: 0.8em; letter-spacing: 1px\">\n",
              "        <textPath xlink:href=\"#arrow-7c7de1d90a164c22b7d5f4af0d738554-0-3\" class=\"displacy-label\" startOffset=\"50%\" side=\"left\" fill=\"currentColor\" text-anchor=\"middle\">case</textPath>\n",
              "    </text>\n",
              "    <path class=\"displacy-arrowhead\" d=\"M595,266.5 L587,254.5 603,254.5\" fill=\"currentColor\"/>\n",
              "</g>\n",
              "\n",
              "<g class=\"displacy-arrow\">\n",
              "    <path class=\"displacy-arc\" id=\"arrow-7c7de1d90a164c22b7d5f4af0d738554-0-4\" stroke-width=\"2px\" d=\"M420,264.5 C420,89.5 745.0,89.5 745.0,264.5\" fill=\"none\" stroke=\"currentColor\"/>\n",
              "    <text dy=\"1.25em\" style=\"font-size: 0.8em; letter-spacing: 1px\">\n",
              "        <textPath xlink:href=\"#arrow-7c7de1d90a164c22b7d5f4af0d738554-0-4\" class=\"displacy-label\" startOffset=\"50%\" side=\"left\" fill=\"currentColor\" text-anchor=\"middle\">nmod</textPath>\n",
              "    </text>\n",
              "    <path class=\"displacy-arrowhead\" d=\"M745.0,266.5 L753.0,254.5 737.0,254.5\" fill=\"currentColor\"/>\n",
              "</g>\n",
              "\n",
              "<g class=\"displacy-arrow\">\n",
              "    <path class=\"displacy-arc\" id=\"arrow-7c7de1d90a164c22b7d5f4af0d738554-0-5\" stroke-width=\"2px\" d=\"M945,264.5 C945,177.0 1090.0,177.0 1090.0,264.5\" fill=\"none\" stroke=\"currentColor\"/>\n",
              "    <text dy=\"1.25em\" style=\"font-size: 0.8em; letter-spacing: 1px\">\n",
              "        <textPath xlink:href=\"#arrow-7c7de1d90a164c22b7d5f4af0d738554-0-5\" class=\"displacy-label\" startOffset=\"50%\" side=\"left\" fill=\"currentColor\" text-anchor=\"middle\">nsubj</textPath>\n",
              "    </text>\n",
              "    <path class=\"displacy-arrowhead\" d=\"M945,266.5 L937,254.5 953,254.5\" fill=\"currentColor\"/>\n",
              "</g>\n",
              "\n",
              "<g class=\"displacy-arrow\">\n",
              "    <path class=\"displacy-arc\" id=\"arrow-7c7de1d90a164c22b7d5f4af0d738554-0-6\" stroke-width=\"2px\" d=\"M1120,264.5 C1120,177.0 1265.0,177.0 1265.0,264.5\" fill=\"none\" stroke=\"currentColor\"/>\n",
              "    <text dy=\"1.25em\" style=\"font-size: 0.8em; letter-spacing: 1px\">\n",
              "        <textPath xlink:href=\"#arrow-7c7de1d90a164c22b7d5f4af0d738554-0-6\" class=\"displacy-label\" startOffset=\"50%\" side=\"left\" fill=\"currentColor\" text-anchor=\"middle\">advmod</textPath>\n",
              "    </text>\n",
              "    <path class=\"displacy-arrowhead\" d=\"M1265.0,266.5 L1273.0,254.5 1257.0,254.5\" fill=\"currentColor\"/>\n",
              "</g>\n",
              "</svg></span>"
            ],
            "text/plain": [
              "<IPython.core.display.HTML object>"
            ]
          },
          "metadata": {
            "tags": []
          }
        }
      ]
    },
    {
      "cell_type": "markdown",
      "metadata": {
        "id": "aJoXV-vLE_a_"
      },
      "source": [
        "<b> d) Disucussão Grupo 3: </b>"
      ]
    },
    {
      "cell_type": "markdown",
      "metadata": {
        "id": "SSUBYhzaE_bA"
      },
      "source": [
        "<b> Atividade </b>\n",
        "\n",
        "9.4. Frases Grupo 4"
      ]
    },
    {
      "cell_type": "code",
      "metadata": {
        "id": "1-1Ikv-GE_bB"
      },
      "source": [
        "txt5=\"Hora de fazer imposto de renda\"\n",
        "txt6=\"Aquilo foi imposto pelo chefe\""
      ],
      "execution_count": null,
      "outputs": []
    },
    {
      "cell_type": "code",
      "metadata": {
        "id": "5W7oiz8HE_bE",
        "colab": {
          "base_uri": "https://localhost:8080/",
          "height": 452
        },
        "outputId": "53f8542f-e32b-456a-db10-1024955e2bd4"
      },
      "source": [
        "analisa(txt5)"
      ],
      "execution_count": null,
      "outputs": [
        {
          "output_type": "stream",
          "text": [
            "Token:  Hora \ta) Tag:  NOUN \t\tb) Dep: ROOT\n",
            "Token:  de \ta) Tag:  ADP \t\tb) Dep: mark\n",
            "Token:  fazer \ta) Tag:  VERB \t\tb) Dep: acl\n",
            "Token:  imposto \ta) Tag:  NOUN \t\tb) Dep: obj\n",
            "Token:  de \ta) Tag:  ADP \t\tb) Dep: case\n",
            "Token:  renda \ta) Tag:  NOUN \t\tb) Dep: nmod\n",
            "c)\n"
          ],
          "name": "stdout"
        },
        {
          "output_type": "display_data",
          "data": {
            "text/html": [
              "<span class=\"tex2jax_ignore\"><svg xmlns=\"http://www.w3.org/2000/svg\" xmlns:xlink=\"http://www.w3.org/1999/xlink\" xml:lang=\"pt\" id=\"b82f1dc1979a43b59165ad9197864707-0\" class=\"displacy\" width=\"1100\" height=\"312.0\" direction=\"ltr\" style=\"max-width: none; height: 312.0px; color: #000000; background: #ffffff; font-family: Arial; direction: ltr\">\n",
              "<text class=\"displacy-token\" fill=\"currentColor\" text-anchor=\"middle\" y=\"222.0\">\n",
              "    <tspan class=\"displacy-word\" fill=\"currentColor\" x=\"50\">Hora</tspan>\n",
              "    <tspan class=\"displacy-tag\" dy=\"2em\" fill=\"currentColor\" x=\"50\">NOUN</tspan>\n",
              "</text>\n",
              "\n",
              "<text class=\"displacy-token\" fill=\"currentColor\" text-anchor=\"middle\" y=\"222.0\">\n",
              "    <tspan class=\"displacy-word\" fill=\"currentColor\" x=\"225\">de</tspan>\n",
              "    <tspan class=\"displacy-tag\" dy=\"2em\" fill=\"currentColor\" x=\"225\">ADP</tspan>\n",
              "</text>\n",
              "\n",
              "<text class=\"displacy-token\" fill=\"currentColor\" text-anchor=\"middle\" y=\"222.0\">\n",
              "    <tspan class=\"displacy-word\" fill=\"currentColor\" x=\"400\">fazer</tspan>\n",
              "    <tspan class=\"displacy-tag\" dy=\"2em\" fill=\"currentColor\" x=\"400\">VERB</tspan>\n",
              "</text>\n",
              "\n",
              "<text class=\"displacy-token\" fill=\"currentColor\" text-anchor=\"middle\" y=\"222.0\">\n",
              "    <tspan class=\"displacy-word\" fill=\"currentColor\" x=\"575\">imposto</tspan>\n",
              "    <tspan class=\"displacy-tag\" dy=\"2em\" fill=\"currentColor\" x=\"575\">NOUN</tspan>\n",
              "</text>\n",
              "\n",
              "<text class=\"displacy-token\" fill=\"currentColor\" text-anchor=\"middle\" y=\"222.0\">\n",
              "    <tspan class=\"displacy-word\" fill=\"currentColor\" x=\"750\">de</tspan>\n",
              "    <tspan class=\"displacy-tag\" dy=\"2em\" fill=\"currentColor\" x=\"750\">ADP</tspan>\n",
              "</text>\n",
              "\n",
              "<text class=\"displacy-token\" fill=\"currentColor\" text-anchor=\"middle\" y=\"222.0\">\n",
              "    <tspan class=\"displacy-word\" fill=\"currentColor\" x=\"925\">renda</tspan>\n",
              "    <tspan class=\"displacy-tag\" dy=\"2em\" fill=\"currentColor\" x=\"925\">NOUN</tspan>\n",
              "</text>\n",
              "\n",
              "<g class=\"displacy-arrow\">\n",
              "    <path class=\"displacy-arc\" id=\"arrow-b82f1dc1979a43b59165ad9197864707-0-0\" stroke-width=\"2px\" d=\"M245,177.0 C245,89.5 395.0,89.5 395.0,177.0\" fill=\"none\" stroke=\"currentColor\"/>\n",
              "    <text dy=\"1.25em\" style=\"font-size: 0.8em; letter-spacing: 1px\">\n",
              "        <textPath xlink:href=\"#arrow-b82f1dc1979a43b59165ad9197864707-0-0\" class=\"displacy-label\" startOffset=\"50%\" side=\"left\" fill=\"currentColor\" text-anchor=\"middle\">mark</textPath>\n",
              "    </text>\n",
              "    <path class=\"displacy-arrowhead\" d=\"M245,179.0 L237,167.0 253,167.0\" fill=\"currentColor\"/>\n",
              "</g>\n",
              "\n",
              "<g class=\"displacy-arrow\">\n",
              "    <path class=\"displacy-arc\" id=\"arrow-b82f1dc1979a43b59165ad9197864707-0-1\" stroke-width=\"2px\" d=\"M70,177.0 C70,2.0 400.0,2.0 400.0,177.0\" fill=\"none\" stroke=\"currentColor\"/>\n",
              "    <text dy=\"1.25em\" style=\"font-size: 0.8em; letter-spacing: 1px\">\n",
              "        <textPath xlink:href=\"#arrow-b82f1dc1979a43b59165ad9197864707-0-1\" class=\"displacy-label\" startOffset=\"50%\" side=\"left\" fill=\"currentColor\" text-anchor=\"middle\">acl</textPath>\n",
              "    </text>\n",
              "    <path class=\"displacy-arrowhead\" d=\"M400.0,179.0 L408.0,167.0 392.0,167.0\" fill=\"currentColor\"/>\n",
              "</g>\n",
              "\n",
              "<g class=\"displacy-arrow\">\n",
              "    <path class=\"displacy-arc\" id=\"arrow-b82f1dc1979a43b59165ad9197864707-0-2\" stroke-width=\"2px\" d=\"M420,177.0 C420,89.5 570.0,89.5 570.0,177.0\" fill=\"none\" stroke=\"currentColor\"/>\n",
              "    <text dy=\"1.25em\" style=\"font-size: 0.8em; letter-spacing: 1px\">\n",
              "        <textPath xlink:href=\"#arrow-b82f1dc1979a43b59165ad9197864707-0-2\" class=\"displacy-label\" startOffset=\"50%\" side=\"left\" fill=\"currentColor\" text-anchor=\"middle\">obj</textPath>\n",
              "    </text>\n",
              "    <path class=\"displacy-arrowhead\" d=\"M570.0,179.0 L578.0,167.0 562.0,167.0\" fill=\"currentColor\"/>\n",
              "</g>\n",
              "\n",
              "<g class=\"displacy-arrow\">\n",
              "    <path class=\"displacy-arc\" id=\"arrow-b82f1dc1979a43b59165ad9197864707-0-3\" stroke-width=\"2px\" d=\"M770,177.0 C770,89.5 920.0,89.5 920.0,177.0\" fill=\"none\" stroke=\"currentColor\"/>\n",
              "    <text dy=\"1.25em\" style=\"font-size: 0.8em; letter-spacing: 1px\">\n",
              "        <textPath xlink:href=\"#arrow-b82f1dc1979a43b59165ad9197864707-0-3\" class=\"displacy-label\" startOffset=\"50%\" side=\"left\" fill=\"currentColor\" text-anchor=\"middle\">case</textPath>\n",
              "    </text>\n",
              "    <path class=\"displacy-arrowhead\" d=\"M770,179.0 L762,167.0 778,167.0\" fill=\"currentColor\"/>\n",
              "</g>\n",
              "\n",
              "<g class=\"displacy-arrow\">\n",
              "    <path class=\"displacy-arc\" id=\"arrow-b82f1dc1979a43b59165ad9197864707-0-4\" stroke-width=\"2px\" d=\"M595,177.0 C595,2.0 925.0,2.0 925.0,177.0\" fill=\"none\" stroke=\"currentColor\"/>\n",
              "    <text dy=\"1.25em\" style=\"font-size: 0.8em; letter-spacing: 1px\">\n",
              "        <textPath xlink:href=\"#arrow-b82f1dc1979a43b59165ad9197864707-0-4\" class=\"displacy-label\" startOffset=\"50%\" side=\"left\" fill=\"currentColor\" text-anchor=\"middle\">nmod</textPath>\n",
              "    </text>\n",
              "    <path class=\"displacy-arrowhead\" d=\"M925.0,179.0 L933.0,167.0 917.0,167.0\" fill=\"currentColor\"/>\n",
              "</g>\n",
              "</svg></span>"
            ],
            "text/plain": [
              "<IPython.core.display.HTML object>"
            ]
          },
          "metadata": {
            "tags": []
          }
        }
      ]
    },
    {
      "cell_type": "code",
      "metadata": {
        "id": "dgbKW7hBJNgd",
        "colab": {
          "base_uri": "https://localhost:8080/",
          "height": 435
        },
        "outputId": "78452861-2c6b-4324-ddb2-909375baef8f"
      },
      "source": [
        "analisa(txt6)"
      ],
      "execution_count": null,
      "outputs": [
        {
          "output_type": "stream",
          "text": [
            "Token:  Aquilo \ta) Tag:  PRON \t\tb) Dep: nsubj:pass\n",
            "Token:  foi \ta) Tag:  AUX \t\tb) Dep: aux:pass\n",
            "Token:  imposto \ta) Tag:  VERB \t\tb) Dep: ROOT\n",
            "Token:  pelo \ta) Tag:  ADP \t\tb) Dep: case\n",
            "Token:  chefe \ta) Tag:  NOUN \t\tb) Dep: obl\n",
            "c)\n"
          ],
          "name": "stdout"
        },
        {
          "output_type": "display_data",
          "data": {
            "text/html": [
              "<span class=\"tex2jax_ignore\"><svg xmlns=\"http://www.w3.org/2000/svg\" xmlns:xlink=\"http://www.w3.org/1999/xlink\" xml:lang=\"pt\" id=\"633bd075fe9e4c03860c1180796f2e72-0\" class=\"displacy\" width=\"925\" height=\"312.0\" direction=\"ltr\" style=\"max-width: none; height: 312.0px; color: #000000; background: #ffffff; font-family: Arial; direction: ltr\">\n",
              "<text class=\"displacy-token\" fill=\"currentColor\" text-anchor=\"middle\" y=\"222.0\">\n",
              "    <tspan class=\"displacy-word\" fill=\"currentColor\" x=\"50\">Aquilo</tspan>\n",
              "    <tspan class=\"displacy-tag\" dy=\"2em\" fill=\"currentColor\" x=\"50\">PRON</tspan>\n",
              "</text>\n",
              "\n",
              "<text class=\"displacy-token\" fill=\"currentColor\" text-anchor=\"middle\" y=\"222.0\">\n",
              "    <tspan class=\"displacy-word\" fill=\"currentColor\" x=\"225\">foi</tspan>\n",
              "    <tspan class=\"displacy-tag\" dy=\"2em\" fill=\"currentColor\" x=\"225\">AUX</tspan>\n",
              "</text>\n",
              "\n",
              "<text class=\"displacy-token\" fill=\"currentColor\" text-anchor=\"middle\" y=\"222.0\">\n",
              "    <tspan class=\"displacy-word\" fill=\"currentColor\" x=\"400\">imposto</tspan>\n",
              "    <tspan class=\"displacy-tag\" dy=\"2em\" fill=\"currentColor\" x=\"400\">VERB</tspan>\n",
              "</text>\n",
              "\n",
              "<text class=\"displacy-token\" fill=\"currentColor\" text-anchor=\"middle\" y=\"222.0\">\n",
              "    <tspan class=\"displacy-word\" fill=\"currentColor\" x=\"575\">pelo</tspan>\n",
              "    <tspan class=\"displacy-tag\" dy=\"2em\" fill=\"currentColor\" x=\"575\">ADP</tspan>\n",
              "</text>\n",
              "\n",
              "<text class=\"displacy-token\" fill=\"currentColor\" text-anchor=\"middle\" y=\"222.0\">\n",
              "    <tspan class=\"displacy-word\" fill=\"currentColor\" x=\"750\">chefe</tspan>\n",
              "    <tspan class=\"displacy-tag\" dy=\"2em\" fill=\"currentColor\" x=\"750\">NOUN</tspan>\n",
              "</text>\n",
              "\n",
              "<g class=\"displacy-arrow\">\n",
              "    <path class=\"displacy-arc\" id=\"arrow-633bd075fe9e4c03860c1180796f2e72-0-0\" stroke-width=\"2px\" d=\"M70,177.0 C70,2.0 400.0,2.0 400.0,177.0\" fill=\"none\" stroke=\"currentColor\"/>\n",
              "    <text dy=\"1.25em\" style=\"font-size: 0.8em; letter-spacing: 1px\">\n",
              "        <textPath xlink:href=\"#arrow-633bd075fe9e4c03860c1180796f2e72-0-0\" class=\"displacy-label\" startOffset=\"50%\" side=\"left\" fill=\"currentColor\" text-anchor=\"middle\">nsubj:pass</textPath>\n",
              "    </text>\n",
              "    <path class=\"displacy-arrowhead\" d=\"M70,179.0 L62,167.0 78,167.0\" fill=\"currentColor\"/>\n",
              "</g>\n",
              "\n",
              "<g class=\"displacy-arrow\">\n",
              "    <path class=\"displacy-arc\" id=\"arrow-633bd075fe9e4c03860c1180796f2e72-0-1\" stroke-width=\"2px\" d=\"M245,177.0 C245,89.5 395.0,89.5 395.0,177.0\" fill=\"none\" stroke=\"currentColor\"/>\n",
              "    <text dy=\"1.25em\" style=\"font-size: 0.8em; letter-spacing: 1px\">\n",
              "        <textPath xlink:href=\"#arrow-633bd075fe9e4c03860c1180796f2e72-0-1\" class=\"displacy-label\" startOffset=\"50%\" side=\"left\" fill=\"currentColor\" text-anchor=\"middle\">aux:pass</textPath>\n",
              "    </text>\n",
              "    <path class=\"displacy-arrowhead\" d=\"M245,179.0 L237,167.0 253,167.0\" fill=\"currentColor\"/>\n",
              "</g>\n",
              "\n",
              "<g class=\"displacy-arrow\">\n",
              "    <path class=\"displacy-arc\" id=\"arrow-633bd075fe9e4c03860c1180796f2e72-0-2\" stroke-width=\"2px\" d=\"M595,177.0 C595,89.5 745.0,89.5 745.0,177.0\" fill=\"none\" stroke=\"currentColor\"/>\n",
              "    <text dy=\"1.25em\" style=\"font-size: 0.8em; letter-spacing: 1px\">\n",
              "        <textPath xlink:href=\"#arrow-633bd075fe9e4c03860c1180796f2e72-0-2\" class=\"displacy-label\" startOffset=\"50%\" side=\"left\" fill=\"currentColor\" text-anchor=\"middle\">case</textPath>\n",
              "    </text>\n",
              "    <path class=\"displacy-arrowhead\" d=\"M595,179.0 L587,167.0 603,167.0\" fill=\"currentColor\"/>\n",
              "</g>\n",
              "\n",
              "<g class=\"displacy-arrow\">\n",
              "    <path class=\"displacy-arc\" id=\"arrow-633bd075fe9e4c03860c1180796f2e72-0-3\" stroke-width=\"2px\" d=\"M420,177.0 C420,2.0 750.0,2.0 750.0,177.0\" fill=\"none\" stroke=\"currentColor\"/>\n",
              "    <text dy=\"1.25em\" style=\"font-size: 0.8em; letter-spacing: 1px\">\n",
              "        <textPath xlink:href=\"#arrow-633bd075fe9e4c03860c1180796f2e72-0-3\" class=\"displacy-label\" startOffset=\"50%\" side=\"left\" fill=\"currentColor\" text-anchor=\"middle\">obl</textPath>\n",
              "    </text>\n",
              "    <path class=\"displacy-arrowhead\" d=\"M750.0,179.0 L758.0,167.0 742.0,167.0\" fill=\"currentColor\"/>\n",
              "</g>\n",
              "</svg></span>"
            ],
            "text/plain": [
              "<IPython.core.display.HTML object>"
            ]
          },
          "metadata": {
            "tags": []
          }
        }
      ]
    },
    {
      "cell_type": "markdown",
      "metadata": {
        "id": "-7kMIbTCE_bI"
      },
      "source": [
        "<b> d) Disucussão Grupo 4: </b>"
      ]
    },
    {
      "cell_type": "markdown",
      "metadata": {
        "id": "CLrHpae9E_bJ"
      },
      "source": [
        "<b> Atividade </b>\n",
        "\n",
        "9.5. Frases Grupo 5"
      ]
    },
    {
      "cell_type": "code",
      "metadata": {
        "id": "twKc9JVAE_bK"
      },
      "source": [
        "txt7=\"Todo dia eu caminho\"\n",
        "txt8=\"Esse é o caminho mais fácil\""
      ],
      "execution_count": null,
      "outputs": []
    },
    {
      "cell_type": "code",
      "metadata": {
        "id": "_wz6uub2E_bO",
        "colab": {
          "base_uri": "https://localhost:8080/",
          "height": 418
        },
        "outputId": "2050ede9-ff6b-40f6-ce02-04c2aa3fafac"
      },
      "source": [
        "analisa(txt7)"
      ],
      "execution_count": null,
      "outputs": [
        {
          "output_type": "stream",
          "text": [
            "Token:  Todo \ta) Tag:  DET \t\tb) Dep: det\n",
            "Token:  dia \ta) Tag:  NOUN \t\tb) Dep: obl\n",
            "Token:  eu \ta) Tag:  PRON \t\tb) Dep: nsubj\n",
            "Token:  caminho \ta) Tag:  VERB \t\tb) Dep: ROOT\n",
            "c)\n"
          ],
          "name": "stdout"
        },
        {
          "output_type": "display_data",
          "data": {
            "text/html": [
              "<span class=\"tex2jax_ignore\"><svg xmlns=\"http://www.w3.org/2000/svg\" xmlns:xlink=\"http://www.w3.org/1999/xlink\" xml:lang=\"pt\" id=\"ef474e512d334084ac2abae81140b7a8-0\" class=\"displacy\" width=\"750\" height=\"312.0\" direction=\"ltr\" style=\"max-width: none; height: 312.0px; color: #000000; background: #ffffff; font-family: Arial; direction: ltr\">\n",
              "<text class=\"displacy-token\" fill=\"currentColor\" text-anchor=\"middle\" y=\"222.0\">\n",
              "    <tspan class=\"displacy-word\" fill=\"currentColor\" x=\"50\">Todo</tspan>\n",
              "    <tspan class=\"displacy-tag\" dy=\"2em\" fill=\"currentColor\" x=\"50\">DET</tspan>\n",
              "</text>\n",
              "\n",
              "<text class=\"displacy-token\" fill=\"currentColor\" text-anchor=\"middle\" y=\"222.0\">\n",
              "    <tspan class=\"displacy-word\" fill=\"currentColor\" x=\"225\">dia</tspan>\n",
              "    <tspan class=\"displacy-tag\" dy=\"2em\" fill=\"currentColor\" x=\"225\">NOUN</tspan>\n",
              "</text>\n",
              "\n",
              "<text class=\"displacy-token\" fill=\"currentColor\" text-anchor=\"middle\" y=\"222.0\">\n",
              "    <tspan class=\"displacy-word\" fill=\"currentColor\" x=\"400\">eu</tspan>\n",
              "    <tspan class=\"displacy-tag\" dy=\"2em\" fill=\"currentColor\" x=\"400\">PRON</tspan>\n",
              "</text>\n",
              "\n",
              "<text class=\"displacy-token\" fill=\"currentColor\" text-anchor=\"middle\" y=\"222.0\">\n",
              "    <tspan class=\"displacy-word\" fill=\"currentColor\" x=\"575\">caminho</tspan>\n",
              "    <tspan class=\"displacy-tag\" dy=\"2em\" fill=\"currentColor\" x=\"575\">VERB</tspan>\n",
              "</text>\n",
              "\n",
              "<g class=\"displacy-arrow\">\n",
              "    <path class=\"displacy-arc\" id=\"arrow-ef474e512d334084ac2abae81140b7a8-0-0\" stroke-width=\"2px\" d=\"M70,177.0 C70,89.5 220.0,89.5 220.0,177.0\" fill=\"none\" stroke=\"currentColor\"/>\n",
              "    <text dy=\"1.25em\" style=\"font-size: 0.8em; letter-spacing: 1px\">\n",
              "        <textPath xlink:href=\"#arrow-ef474e512d334084ac2abae81140b7a8-0-0\" class=\"displacy-label\" startOffset=\"50%\" side=\"left\" fill=\"currentColor\" text-anchor=\"middle\">det</textPath>\n",
              "    </text>\n",
              "    <path class=\"displacy-arrowhead\" d=\"M70,179.0 L62,167.0 78,167.0\" fill=\"currentColor\"/>\n",
              "</g>\n",
              "\n",
              "<g class=\"displacy-arrow\">\n",
              "    <path class=\"displacy-arc\" id=\"arrow-ef474e512d334084ac2abae81140b7a8-0-1\" stroke-width=\"2px\" d=\"M245,177.0 C245,2.0 575.0,2.0 575.0,177.0\" fill=\"none\" stroke=\"currentColor\"/>\n",
              "    <text dy=\"1.25em\" style=\"font-size: 0.8em; letter-spacing: 1px\">\n",
              "        <textPath xlink:href=\"#arrow-ef474e512d334084ac2abae81140b7a8-0-1\" class=\"displacy-label\" startOffset=\"50%\" side=\"left\" fill=\"currentColor\" text-anchor=\"middle\">obl</textPath>\n",
              "    </text>\n",
              "    <path class=\"displacy-arrowhead\" d=\"M245,179.0 L237,167.0 253,167.0\" fill=\"currentColor\"/>\n",
              "</g>\n",
              "\n",
              "<g class=\"displacy-arrow\">\n",
              "    <path class=\"displacy-arc\" id=\"arrow-ef474e512d334084ac2abae81140b7a8-0-2\" stroke-width=\"2px\" d=\"M420,177.0 C420,89.5 570.0,89.5 570.0,177.0\" fill=\"none\" stroke=\"currentColor\"/>\n",
              "    <text dy=\"1.25em\" style=\"font-size: 0.8em; letter-spacing: 1px\">\n",
              "        <textPath xlink:href=\"#arrow-ef474e512d334084ac2abae81140b7a8-0-2\" class=\"displacy-label\" startOffset=\"50%\" side=\"left\" fill=\"currentColor\" text-anchor=\"middle\">nsubj</textPath>\n",
              "    </text>\n",
              "    <path class=\"displacy-arrowhead\" d=\"M420,179.0 L412,167.0 428,167.0\" fill=\"currentColor\"/>\n",
              "</g>\n",
              "</svg></span>"
            ],
            "text/plain": [
              "<IPython.core.display.HTML object>"
            ]
          },
          "metadata": {
            "tags": []
          }
        }
      ]
    },
    {
      "cell_type": "code",
      "metadata": {
        "id": "_ePk2XVCJVQm",
        "colab": {
          "base_uri": "https://localhost:8080/",
          "height": 540
        },
        "outputId": "5f4c79d1-b6af-47e1-f701-3e866c845d49"
      },
      "source": [
        "analisa(txt8)"
      ],
      "execution_count": null,
      "outputs": [
        {
          "output_type": "stream",
          "text": [
            "Token:  Esse \ta) Tag:  PRON \t\tb) Dep: nsubj\n",
            "Token:  é \ta) Tag:  VERB \t\tb) Dep: cop\n",
            "Token:  o \ta) Tag:  DET \t\tb) Dep: det\n",
            "Token:  caminho \ta) Tag:  NOUN \t\tb) Dep: ROOT\n",
            "Token:  mais \ta) Tag:  ADV \t\tb) Dep: advmod\n",
            "Token:  fácil \ta) Tag:  ADJ \t\tb) Dep: amod\n",
            "c)\n"
          ],
          "name": "stdout"
        },
        {
          "output_type": "display_data",
          "data": {
            "text/html": [
              "<span class=\"tex2jax_ignore\"><svg xmlns=\"http://www.w3.org/2000/svg\" xmlns:xlink=\"http://www.w3.org/1999/xlink\" xml:lang=\"pt\" id=\"9fce224d074d4f26a477cf37e434e500-0\" class=\"displacy\" width=\"1100\" height=\"399.5\" direction=\"ltr\" style=\"max-width: none; height: 399.5px; color: #000000; background: #ffffff; font-family: Arial; direction: ltr\">\n",
              "<text class=\"displacy-token\" fill=\"currentColor\" text-anchor=\"middle\" y=\"309.5\">\n",
              "    <tspan class=\"displacy-word\" fill=\"currentColor\" x=\"50\">Esse</tspan>\n",
              "    <tspan class=\"displacy-tag\" dy=\"2em\" fill=\"currentColor\" x=\"50\">PRON</tspan>\n",
              "</text>\n",
              "\n",
              "<text class=\"displacy-token\" fill=\"currentColor\" text-anchor=\"middle\" y=\"309.5\">\n",
              "    <tspan class=\"displacy-word\" fill=\"currentColor\" x=\"225\">é</tspan>\n",
              "    <tspan class=\"displacy-tag\" dy=\"2em\" fill=\"currentColor\" x=\"225\">VERB</tspan>\n",
              "</text>\n",
              "\n",
              "<text class=\"displacy-token\" fill=\"currentColor\" text-anchor=\"middle\" y=\"309.5\">\n",
              "    <tspan class=\"displacy-word\" fill=\"currentColor\" x=\"400\">o</tspan>\n",
              "    <tspan class=\"displacy-tag\" dy=\"2em\" fill=\"currentColor\" x=\"400\">DET</tspan>\n",
              "</text>\n",
              "\n",
              "<text class=\"displacy-token\" fill=\"currentColor\" text-anchor=\"middle\" y=\"309.5\">\n",
              "    <tspan class=\"displacy-word\" fill=\"currentColor\" x=\"575\">caminho</tspan>\n",
              "    <tspan class=\"displacy-tag\" dy=\"2em\" fill=\"currentColor\" x=\"575\">NOUN</tspan>\n",
              "</text>\n",
              "\n",
              "<text class=\"displacy-token\" fill=\"currentColor\" text-anchor=\"middle\" y=\"309.5\">\n",
              "    <tspan class=\"displacy-word\" fill=\"currentColor\" x=\"750\">mais</tspan>\n",
              "    <tspan class=\"displacy-tag\" dy=\"2em\" fill=\"currentColor\" x=\"750\">ADV</tspan>\n",
              "</text>\n",
              "\n",
              "<text class=\"displacy-token\" fill=\"currentColor\" text-anchor=\"middle\" y=\"309.5\">\n",
              "    <tspan class=\"displacy-word\" fill=\"currentColor\" x=\"925\">fácil</tspan>\n",
              "    <tspan class=\"displacy-tag\" dy=\"2em\" fill=\"currentColor\" x=\"925\">ADJ</tspan>\n",
              "</text>\n",
              "\n",
              "<g class=\"displacy-arrow\">\n",
              "    <path class=\"displacy-arc\" id=\"arrow-9fce224d074d4f26a477cf37e434e500-0-0\" stroke-width=\"2px\" d=\"M70,264.5 C70,2.0 575.0,2.0 575.0,264.5\" fill=\"none\" stroke=\"currentColor\"/>\n",
              "    <text dy=\"1.25em\" style=\"font-size: 0.8em; letter-spacing: 1px\">\n",
              "        <textPath xlink:href=\"#arrow-9fce224d074d4f26a477cf37e434e500-0-0\" class=\"displacy-label\" startOffset=\"50%\" side=\"left\" fill=\"currentColor\" text-anchor=\"middle\">nsubj</textPath>\n",
              "    </text>\n",
              "    <path class=\"displacy-arrowhead\" d=\"M70,266.5 L62,254.5 78,254.5\" fill=\"currentColor\"/>\n",
              "</g>\n",
              "\n",
              "<g class=\"displacy-arrow\">\n",
              "    <path class=\"displacy-arc\" id=\"arrow-9fce224d074d4f26a477cf37e434e500-0-1\" stroke-width=\"2px\" d=\"M245,264.5 C245,89.5 570.0,89.5 570.0,264.5\" fill=\"none\" stroke=\"currentColor\"/>\n",
              "    <text dy=\"1.25em\" style=\"font-size: 0.8em; letter-spacing: 1px\">\n",
              "        <textPath xlink:href=\"#arrow-9fce224d074d4f26a477cf37e434e500-0-1\" class=\"displacy-label\" startOffset=\"50%\" side=\"left\" fill=\"currentColor\" text-anchor=\"middle\">cop</textPath>\n",
              "    </text>\n",
              "    <path class=\"displacy-arrowhead\" d=\"M245,266.5 L237,254.5 253,254.5\" fill=\"currentColor\"/>\n",
              "</g>\n",
              "\n",
              "<g class=\"displacy-arrow\">\n",
              "    <path class=\"displacy-arc\" id=\"arrow-9fce224d074d4f26a477cf37e434e500-0-2\" stroke-width=\"2px\" d=\"M420,264.5 C420,177.0 565.0,177.0 565.0,264.5\" fill=\"none\" stroke=\"currentColor\"/>\n",
              "    <text dy=\"1.25em\" style=\"font-size: 0.8em; letter-spacing: 1px\">\n",
              "        <textPath xlink:href=\"#arrow-9fce224d074d4f26a477cf37e434e500-0-2\" class=\"displacy-label\" startOffset=\"50%\" side=\"left\" fill=\"currentColor\" text-anchor=\"middle\">det</textPath>\n",
              "    </text>\n",
              "    <path class=\"displacy-arrowhead\" d=\"M420,266.5 L412,254.5 428,254.5\" fill=\"currentColor\"/>\n",
              "</g>\n",
              "\n",
              "<g class=\"displacy-arrow\">\n",
              "    <path class=\"displacy-arc\" id=\"arrow-9fce224d074d4f26a477cf37e434e500-0-3\" stroke-width=\"2px\" d=\"M770,264.5 C770,177.0 915.0,177.0 915.0,264.5\" fill=\"none\" stroke=\"currentColor\"/>\n",
              "    <text dy=\"1.25em\" style=\"font-size: 0.8em; letter-spacing: 1px\">\n",
              "        <textPath xlink:href=\"#arrow-9fce224d074d4f26a477cf37e434e500-0-3\" class=\"displacy-label\" startOffset=\"50%\" side=\"left\" fill=\"currentColor\" text-anchor=\"middle\">advmod</textPath>\n",
              "    </text>\n",
              "    <path class=\"displacy-arrowhead\" d=\"M770,266.5 L762,254.5 778,254.5\" fill=\"currentColor\"/>\n",
              "</g>\n",
              "\n",
              "<g class=\"displacy-arrow\">\n",
              "    <path class=\"displacy-arc\" id=\"arrow-9fce224d074d4f26a477cf37e434e500-0-4\" stroke-width=\"2px\" d=\"M595,264.5 C595,89.5 920.0,89.5 920.0,264.5\" fill=\"none\" stroke=\"currentColor\"/>\n",
              "    <text dy=\"1.25em\" style=\"font-size: 0.8em; letter-spacing: 1px\">\n",
              "        <textPath xlink:href=\"#arrow-9fce224d074d4f26a477cf37e434e500-0-4\" class=\"displacy-label\" startOffset=\"50%\" side=\"left\" fill=\"currentColor\" text-anchor=\"middle\">amod</textPath>\n",
              "    </text>\n",
              "    <path class=\"displacy-arrowhead\" d=\"M920.0,266.5 L928.0,254.5 912.0,254.5\" fill=\"currentColor\"/>\n",
              "</g>\n",
              "</svg></span>"
            ],
            "text/plain": [
              "<IPython.core.display.HTML object>"
            ]
          },
          "metadata": {
            "tags": []
          }
        }
      ]
    },
    {
      "cell_type": "markdown",
      "metadata": {
        "id": "AcSP3dy6E_bT"
      },
      "source": [
        "<b> d) Disucussão Grupo 5: </b>"
      ]
    },
    {
      "cell_type": "markdown",
      "metadata": {
        "id": "SWCxjMuDE_bU"
      },
      "source": [
        "<b> Esse modelo do spacy para português, em 79,94 de acurácia no pos-tagging</b>\n",
        "\n",
        "<b> Atividade </b>\n",
        "\n",
        "10) Sabendo que o modelo que estamos utulizando possui acurácia de 79,94 no pos-tagging, encontre um exemplo que ele falhe."
      ]
    },
    {
      "cell_type": "code",
      "metadata": {
        "id": "iVEZFNSPE_bV"
      },
      "source": [
        "frase = \"Oi, tudo bem com você?\""
      ],
      "execution_count": null,
      "outputs": []
    },
    {
      "cell_type": "code",
      "metadata": {
        "id": "HRYDMmL9E_bY",
        "colab": {
          "base_uri": "https://localhost:8080/",
          "height": 557
        },
        "outputId": "0d93d912-566b-45fc-9f10-528c2ade3f73"
      },
      "source": [
        "analisa(frase)"
      ],
      "execution_count": null,
      "outputs": [
        {
          "output_type": "stream",
          "text": [
            "Token:  Oi \ta) Tag:  VERB \t\tb) Dep: ROOT\n",
            "Token:  , \ta) Tag:  PUNCT \t\tb) Dep: punct\n",
            "Token:  tudo \ta) Tag:  PRON \t\tb) Dep: appos\n",
            "Token:  bem \ta) Tag:  ADV \t\tb) Dep: advmod\n",
            "Token:  com \ta) Tag:  ADP \t\tb) Dep: case\n",
            "Token:  você \ta) Tag:  PRON \t\tb) Dep: nmod\n",
            "Token:  ? \ta) Tag:  PUNCT \t\tb) Dep: punct\n",
            "c)\n"
          ],
          "name": "stdout"
        },
        {
          "output_type": "display_data",
          "data": {
            "text/html": [
              "<span class=\"tex2jax_ignore\"><svg xmlns=\"http://www.w3.org/2000/svg\" xmlns:xlink=\"http://www.w3.org/1999/xlink\" xml:lang=\"pt\" id=\"e65a077a586844939650c16cc5d5c873-0\" class=\"displacy\" width=\"925\" height=\"399.5\" direction=\"ltr\" style=\"max-width: none; height: 399.5px; color: #000000; background: #ffffff; font-family: Arial; direction: ltr\">\n",
              "<text class=\"displacy-token\" fill=\"currentColor\" text-anchor=\"middle\" y=\"309.5\">\n",
              "    <tspan class=\"displacy-word\" fill=\"currentColor\" x=\"50\">Oi,</tspan>\n",
              "    <tspan class=\"displacy-tag\" dy=\"2em\" fill=\"currentColor\" x=\"50\">VERB</tspan>\n",
              "</text>\n",
              "\n",
              "<text class=\"displacy-token\" fill=\"currentColor\" text-anchor=\"middle\" y=\"309.5\">\n",
              "    <tspan class=\"displacy-word\" fill=\"currentColor\" x=\"225\">tudo</tspan>\n",
              "    <tspan class=\"displacy-tag\" dy=\"2em\" fill=\"currentColor\" x=\"225\">PRON</tspan>\n",
              "</text>\n",
              "\n",
              "<text class=\"displacy-token\" fill=\"currentColor\" text-anchor=\"middle\" y=\"309.5\">\n",
              "    <tspan class=\"displacy-word\" fill=\"currentColor\" x=\"400\">bem</tspan>\n",
              "    <tspan class=\"displacy-tag\" dy=\"2em\" fill=\"currentColor\" x=\"400\">ADV</tspan>\n",
              "</text>\n",
              "\n",
              "<text class=\"displacy-token\" fill=\"currentColor\" text-anchor=\"middle\" y=\"309.5\">\n",
              "    <tspan class=\"displacy-word\" fill=\"currentColor\" x=\"575\">com</tspan>\n",
              "    <tspan class=\"displacy-tag\" dy=\"2em\" fill=\"currentColor\" x=\"575\">ADP</tspan>\n",
              "</text>\n",
              "\n",
              "<text class=\"displacy-token\" fill=\"currentColor\" text-anchor=\"middle\" y=\"309.5\">\n",
              "    <tspan class=\"displacy-word\" fill=\"currentColor\" x=\"750\">você?</tspan>\n",
              "    <tspan class=\"displacy-tag\" dy=\"2em\" fill=\"currentColor\" x=\"750\">PRON</tspan>\n",
              "</text>\n",
              "\n",
              "<g class=\"displacy-arrow\">\n",
              "    <path class=\"displacy-arc\" id=\"arrow-e65a077a586844939650c16cc5d5c873-0-0\" stroke-width=\"2px\" d=\"M70,264.5 C70,177.0 215.0,177.0 215.0,264.5\" fill=\"none\" stroke=\"currentColor\"/>\n",
              "    <text dy=\"1.25em\" style=\"font-size: 0.8em; letter-spacing: 1px\">\n",
              "        <textPath xlink:href=\"#arrow-e65a077a586844939650c16cc5d5c873-0-0\" class=\"displacy-label\" startOffset=\"50%\" side=\"left\" fill=\"currentColor\" text-anchor=\"middle\">appos</textPath>\n",
              "    </text>\n",
              "    <path class=\"displacy-arrowhead\" d=\"M215.0,266.5 L223.0,254.5 207.0,254.5\" fill=\"currentColor\"/>\n",
              "</g>\n",
              "\n",
              "<g class=\"displacy-arrow\">\n",
              "    <path class=\"displacy-arc\" id=\"arrow-e65a077a586844939650c16cc5d5c873-0-1\" stroke-width=\"2px\" d=\"M420,264.5 C420,89.5 745.0,89.5 745.0,264.5\" fill=\"none\" stroke=\"currentColor\"/>\n",
              "    <text dy=\"1.25em\" style=\"font-size: 0.8em; letter-spacing: 1px\">\n",
              "        <textPath xlink:href=\"#arrow-e65a077a586844939650c16cc5d5c873-0-1\" class=\"displacy-label\" startOffset=\"50%\" side=\"left\" fill=\"currentColor\" text-anchor=\"middle\">advmod</textPath>\n",
              "    </text>\n",
              "    <path class=\"displacy-arrowhead\" d=\"M420,266.5 L412,254.5 428,254.5\" fill=\"currentColor\"/>\n",
              "</g>\n",
              "\n",
              "<g class=\"displacy-arrow\">\n",
              "    <path class=\"displacy-arc\" id=\"arrow-e65a077a586844939650c16cc5d5c873-0-2\" stroke-width=\"2px\" d=\"M595,264.5 C595,177.0 740.0,177.0 740.0,264.5\" fill=\"none\" stroke=\"currentColor\"/>\n",
              "    <text dy=\"1.25em\" style=\"font-size: 0.8em; letter-spacing: 1px\">\n",
              "        <textPath xlink:href=\"#arrow-e65a077a586844939650c16cc5d5c873-0-2\" class=\"displacy-label\" startOffset=\"50%\" side=\"left\" fill=\"currentColor\" text-anchor=\"middle\">case</textPath>\n",
              "    </text>\n",
              "    <path class=\"displacy-arrowhead\" d=\"M595,266.5 L587,254.5 603,254.5\" fill=\"currentColor\"/>\n",
              "</g>\n",
              "\n",
              "<g class=\"displacy-arrow\">\n",
              "    <path class=\"displacy-arc\" id=\"arrow-e65a077a586844939650c16cc5d5c873-0-3\" stroke-width=\"2px\" d=\"M245,264.5 C245,2.0 750.0,2.0 750.0,264.5\" fill=\"none\" stroke=\"currentColor\"/>\n",
              "    <text dy=\"1.25em\" style=\"font-size: 0.8em; letter-spacing: 1px\">\n",
              "        <textPath xlink:href=\"#arrow-e65a077a586844939650c16cc5d5c873-0-3\" class=\"displacy-label\" startOffset=\"50%\" side=\"left\" fill=\"currentColor\" text-anchor=\"middle\">nmod</textPath>\n",
              "    </text>\n",
              "    <path class=\"displacy-arrowhead\" d=\"M750.0,266.5 L758.0,254.5 742.0,254.5\" fill=\"currentColor\"/>\n",
              "</g>\n",
              "</svg></span>"
            ],
            "text/plain": [
              "<IPython.core.display.HTML object>"
            ]
          },
          "metadata": {
            "tags": []
          }
        }
      ]
    },
    {
      "cell_type": "markdown",
      "metadata": {
        "id": "OM-_I65lE_bd"
      },
      "source": [
        "# Named Entity Recognition"
      ]
    },
    {
      "cell_type": "markdown",
      "metadata": {
        "id": "7DCsgEwhE_bd"
      },
      "source": [
        "## Recomendação de sites"
      ]
    },
    {
      "cell_type": "markdown",
      "metadata": {
        "id": "MCJtetA3E_be"
      },
      "source": [
        "<b> Atividade </b>\n",
        "\n",
        "11) Capture o texto de cada notícia abaixo:\n",
        "\n",
        "- 0 -> https://g1.globo.com/sp/sao-paulo/noticia/2020/03/03/cai-para-130-numero-de-casos-suspeitos-de-coronavirus-no-estado-de-sao-paulo.ghtml\n",
        "- 1 -> https://g1.globo.com/sp/sao-paulo/noticia/2020/03/04/ministerio-da-saude-confirma-terceiro-paciente-com-coronavirus-em-sp-um-quarto-caso-aguarda-contraprova.ghtml\n",
        "- 2 -> https://g1.globo.com/bemestar/coronavirus/noticia/2020/03/04/ultimas-noticias-de-coronavirus-de-4-de-marco.ghtml\n",
        "- 3 -> https://g1.globo.com/economia/noticia/2020/03/04/projetos-reduzem-em-r-96-bilhoes-emendas-parlamentares-no-orcamento-2020-diz-governo.ghtml\n",
        "- 4 -> https://g1.globo.com/politica/noticia/2020/03/04/documento-liga-assessor-de-eduardo-bolsonaro-a-conta-em-rede-social-para-ataques-pessoais.ghtml\n",
        "- 5 -> https://g1.globo.com/rj/rio-de-janeiro/noticia/2020/03/04/flavio-bolsonaro-entra-com-recurso-para-tentar-paralisar-investigacao-sobre-suspeita-de-rachadinha.ghtml\n",
        "- 6 -> https://g1.globo.com/economia/noticia/2020/03/04/pib-do-brasil-cresce-11percent-em-2019.ghtml\n",
        "- 7 -> https://g1.globo.com/economia/noticia/2020/03/04/tudo-dentro-do-previsto-diz-paulo-guedes-sobre-resultado-do-pib.ghtml\n",
        "- 8 -> https://g1.globo.com/sp/santos-regiao/noticia/2020/03/04/sobe-numero-de-mortos-apos-temporal-na-baixada-santista.ghtml\n",
        "- 9 -> https://g1.globo.com/sp/sao-paulo/noticia/2020/03/04/ministerio-da-saude-confirma-terceiro-paciente-com-coronavirus-em-sp-um-quarto-caso-aguarda-contraprova.ghtml\n",
        "\n",
        "Para isto utilize o código abaixo:\n",
        "```python\n",
        "def match_class(target):                                                        \n",
        "    def do_match(tag):                                                          \n",
        "        classes = tag.get('class', [])                                          \n",
        "        return all(c in classes for c in target)                                \n",
        "    return do_match\n",
        "\n",
        "def get_text_url(url):\n",
        "    res = requests.get(url)\n",
        "    html = res.text\n",
        "    soup = BeautifulSoup(html, 'html5lib')\n",
        "    #remove marcações de scripts e style\n",
        "    texto = soup.find_all(match_class([\"content-text__container\"]))\n",
        "    all_text = \"\"\n",
        "    for t in texto:\n",
        "        all_text += t.get_text()\n",
        "    return all_text\n",
        "```"
      ]
    },
    {
      "cell_type": "code",
      "metadata": {
        "id": "4d3iRrzEE_bf"
      },
      "source": [
        "def match_class(target):\n",
        "    def do_match(tag):\n",
        "        classes = tag.get('class', [])\n",
        "        return all(c in classes for c in target)\n",
        "    return do_match\n",
        "\n",
        "def get_text_url(url):\n",
        "    res = requests.get(url)\n",
        "    html = res.text\n",
        "    soup = BeautifulSoup(html, 'html5lib')\n",
        "    #remove marcações de scripts e style\n",
        "    texto = soup.find_all(match_class([\"content-text__container\"]))\n",
        "    all_text = \"\"\n",
        "    for t in texto:\n",
        "        all_text += t.get_text()\n",
        "    return all_text"
      ],
      "execution_count": null,
      "outputs": []
    },
    {
      "cell_type": "code",
      "metadata": {
        "id": "Wj0QBGVVE_bl",
        "colab": {
          "base_uri": "https://localhost:8080/",
          "height": 103
        },
        "outputId": "dd9cfa47-1f13-406e-99f4-d6d2d3dc5adf"
      },
      "source": [
        "get_text_url(\"https://g1.globo.com/sp/sao-paulo/noticia/2020/03/03/cai-para-130-numero-de-casos-suspeitos-de-coronavirus-no-estado-de-sao-paulo.ghtml\")"
      ],
      "execution_count": null,
      "outputs": [
        {
          "output_type": "execute_result",
          "data": {
            "application/vnd.google.colaboratory.intrinsic+json": {
              "type": "string"
            },
            "text/plain": [
              "' A Secretaria Estadual de Saúde de São Paulo divulgou nesta terça-feira (3) que caiu o número de pacientes com suspeita de coronavírus no estado. Enquanto na segunda-feira (2) eram 163 casos suspeitos, nesta terça são 130.  Foram descartados, ao todo, 104 casos no estado, destes, 56 foram nas últimas 24 horas. Entretanto, segundo informou a pasta, entre segunda (2) e terça (3), 23 novos surgiram.  Permanecem confirmados apenas 2 casos da doença no país, ambos no estado de São Paulo. Os pacientes estão em quarentena domiciliar. Ambos estiveram em viagem na Itália.  \"Os dois confirmados estão evoluindo bem clinicamente, mas ainda têm alguns sintomas que fazem com que eles continuem em isolamento domiciliar\", salientou Paulo Menezes, coordenador do comitê de operações emergenciais (COE) da Secretaria Estadual de Saúde.  O número de pessoas que tiveram contato com o segundo caso confirmado não foi divulgado pela secretaria. No primeiro caso confirmado, eram 34 pessoas, entre passageiros do voo e familiares do paciente.  “Existem contactantes [do segundo caso], eles estão sendo monitorados, mas a gente não está divulgando mais números de contactantes por conta da privacidade das pessoas”, disse Paulo Menezes, coordenador do comitê de operações emergenciais (COE) do estado.  O secretário estadual de saúde destaca ainda que o segundo paciente confirmado foi cauteloso assim que percebeu os primeiros sintomas. “Ele foi muito cuidadoso colocou máscara antes do voo e foi pro hospital”, disse o secretário José Henrique Germann.  Participaram do evento também o coordenador do Centro de Contingenciamento de Emergências para o coronavírus do estado, o médico David Uip, o secretário estadual de saúde, José Henrique Germann, e Helena Sato, coordenadora do Centro de Vigilância Epidemiológica (CVE) estadual.  Segundo Uip, o laboratório Adolfo Lutz, onde os testes são realizados, irá \"qualificar outros laboratórios\" para realizar o exame.  \"De ontem pra hoje, nós descartamos 56 daqueles 163. Já tiveram seus exames negativos. E tivemos a inclusão de notificações de 23 novas pessoas. Então somamos 130 casos suspeitos. São todos viajantes. Os casos suspeitos que tínhamos de contactantes dos casos confirmados já foram descartados\", disse Menezes.  Segundo a metodologia da Secretaria Estadual de Saúde, para um caso ser considerado suspeito é necessário que o paciente tenha apresentado, além dos sintomas, histórico de viagem ou contato com caso suspeito.  No sábado (29), a Secretaria Estadual de Saúde e o Ministério da Saúde confirmaram o segundo caso de coronavírus no estado. Trata-se de um homem de 32 anos que reside em São Paulo e que chegou de Milão, na Itália, na quinta-feira (27).  Mesmo com a segunda confirmação, não há mudança da situação nacional, pois não existem evidências de circulação sustentada do vírus em território brasileiro.  A tendência é que, a partir dos próximos dias, o padrão de identificação dos casos suspeitos mude. Segundo Menezes, \"daqui a alguns dias nós vamos trabalhar por gravidade e não por procedência pra fazer a identificação dos casos suspeitos\".  \"Eu concordo com o ministério da Saúde: eu acho que estamos em um momento de pandemia há dias. Meu sentimento pessoal é de que estamos em um momento pandêmico\", salientou Uip.  A Organização Mundial de Saúde (OMS) é que define os critérios e se a doença é caracterizada ou não como pandemia.  O governo estadual lançou uma cartilha de orientação e prevenção do coronavírus em cinco idiomas - português, inglês, espanhol, italiano e chinês - na versão impressa e eletrônica. O estado irá liberar R$ 30 milhões em recursos para as ações de prevenção e informação.  Após a confirmação de um caso, o governo estadual anunciou a criação de um centro de contingência para monitorar casos de coronavírus no estado. A função do centro de contingência é coordenar ações contra a propagação do Covid-19. O grupo é presidido pelo infectologista David Uip e conta com profissionais do Instituto Butantan e médicos das redes pública e privada, sob a supervisão do Secretário de Estado da Saúde, José Henrique Germann.  Nesta quinta-feira (27), o governo federal anunciou que vai antecipar para 23 de março a Campanha Nacional de Vacinação contra a gripe – anteriormente, a abertura estava prevista para a segunda quinzena de abril.  A vacina contra a gripe não protege contra o novo coronavírus, mas, sim, contra tipos de influenza (família à qual pertence o H1N1, por exemplo). E justamente por isso pode ajudar profissionais de saúde a diagnosticar – por eliminação – eventuais casos de Covid-19.  Quem for viajar aos locais com circulação do vírus deve evitar contato com pessoas doentes, animais (vivos ou mortos), e a circulação em mercados de animais e seus produtos. '"
            ]
          },
          "metadata": {
            "tags": []
          },
          "execution_count": 47
        }
      ]
    },
    {
      "cell_type": "code",
      "metadata": {
        "id": "4lNqnzIP0AIC"
      },
      "source": [
        "noticias = {}\n",
        "noticias[0] = 'https://g1.globo.com/sp/sao-paulo/noticia/2020/03/03/cai-para-130-numero-de-casos-suspeitos-de-coronavirus-no-estado-de-sao-paulo.ghtml'\n",
        "noticias[1] = 'https://g1.globo.com/sp/sao-paulo/noticia/2020/03/04/ministerio-da-saude-confirma-terceiro-paciente-com-coronavirus-em-sp-um-quarto-caso-aguarda-contraprova.ghtml'\n",
        "noticias[2] = 'https://g1.globo.com/bemestar/coronavirus/noticia/2020/03/04/ultimas-noticias-de-coronavirus-de-4-de-marco.ghtml'\n",
        "noticias[3] = 'https://g1.globo.com/economia/noticia/2020/03/04/projetos-reduzem-em-r-96-bilhoes-emendas-parlamentares-no-orcamento-2020-diz-governo.ghtml'\n",
        "noticias[4] = 'https://g1.globo.com/politica/noticia/2020/03/04/documento-liga-assessor-de-eduardo-bolsonaro-a-conta-em-rede-social-para-ataques-pessoais.ghtml'\n",
        "noticias[5] = 'https://g1.globo.com/rj/rio-de-janeiro/noticia/2020/03/04/flavio-bolsonaro-entra-com-recurso-para-tentar-paralisar-investigacao-sobre-suspeita-de-rachadinha.ghtml'\n",
        "noticias[6] = 'https://g1.globo.com/economia/noticia/2020/03/04/pib-do-brasil-cresce-11percent-em-2019.ghtml'\n",
        "noticias[7] = 'https://g1.globo.com/economia/noticia/2020/03/04/tudo-dentro-do-previsto-diz-paulo-guedes-sobre-resultado-do-pib.ghtml'\n",
        "noticias[8] = 'https://g1.globo.com/sp/santos-regiao/noticia/2020/03/04/sobe-numero-de-mortos-apos-temporal-na-baixada-santista.ghtml'\n",
        "noticias[9] = 'https://g1.globo.com/sp/sao-paulo/noticia/2020/03/04/ministerio-da-saude-confirma-terceiro-paciente-com-coronavirus-em-sp-um-quarto-caso-aguarda-contraprova.ghtml'\n"
      ],
      "execution_count": null,
      "outputs": []
    },
    {
      "cell_type": "code",
      "metadata": {
        "id": "fAd8SEXU1FjJ"
      },
      "source": [
        "texto_noticias = {i:get_text_url(noticias[i]) for i in noticias.keys()}"
      ],
      "execution_count": null,
      "outputs": []
    },
    {
      "cell_type": "code",
      "metadata": {
        "id": "d6BOjcCC1oQV",
        "colab": {
          "base_uri": "https://localhost:8080/",
          "height": 207
        },
        "outputId": "0334f9da-df67-4796-f366-3fddfd705c60"
      },
      "source": [
        "texto_noticias"
      ],
      "execution_count": null,
      "outputs": [
        {
          "output_type": "execute_result",
          "data": {
            "text/plain": [
              "{0: ' A Secretaria Estadual de Saúde de São Paulo divulgou nesta terça-feira (3) que caiu o número de pacientes com suspeita de coronavírus no estado. Enquanto na segunda-feira (2) eram 163 casos suspeitos, nesta terça são 130.  Foram descartados, ao todo, 104 casos no estado, destes, 56 foram nas últimas 24 horas. Entretanto, segundo informou a pasta, entre segunda (2) e terça (3), 23 novos surgiram.  Permanecem confirmados apenas 2 casos da doença no país, ambos no estado de São Paulo. Os pacientes estão em quarentena domiciliar. Ambos estiveram em viagem na Itália.  \"Os dois confirmados estão evoluindo bem clinicamente, mas ainda têm alguns sintomas que fazem com que eles continuem em isolamento domiciliar\", salientou Paulo Menezes, coordenador do comitê de operações emergenciais (COE) da Secretaria Estadual de Saúde.  O número de pessoas que tiveram contato com o segundo caso confirmado não foi divulgado pela secretaria. No primeiro caso confirmado, eram 34 pessoas, entre passageiros do voo e familiares do paciente.  “Existem contactantes [do segundo caso], eles estão sendo monitorados, mas a gente não está divulgando mais números de contactantes por conta da privacidade das pessoas”, disse Paulo Menezes, coordenador do comitê de operações emergenciais (COE) do estado.  O secretário estadual de saúde destaca ainda que o segundo paciente confirmado foi cauteloso assim que percebeu os primeiros sintomas. “Ele foi muito cuidadoso colocou máscara antes do voo e foi pro hospital”, disse o secretário José Henrique Germann.  Participaram do evento também o coordenador do Centro de Contingenciamento de Emergências para o coronavírus do estado, o médico David Uip, o secretário estadual de saúde, José Henrique Germann, e Helena Sato, coordenadora do Centro de Vigilância Epidemiológica (CVE) estadual.  Segundo Uip, o laboratório Adolfo Lutz, onde os testes são realizados, irá \"qualificar outros laboratórios\" para realizar o exame.  \"De ontem pra hoje, nós descartamos 56 daqueles 163. Já tiveram seus exames negativos. E tivemos a inclusão de notificações de 23 novas pessoas. Então somamos 130 casos suspeitos. São todos viajantes. Os casos suspeitos que tínhamos de contactantes dos casos confirmados já foram descartados\", disse Menezes.  Segundo a metodologia da Secretaria Estadual de Saúde, para um caso ser considerado suspeito é necessário que o paciente tenha apresentado, além dos sintomas, histórico de viagem ou contato com caso suspeito.  No sábado (29), a Secretaria Estadual de Saúde e o Ministério da Saúde confirmaram o segundo caso de coronavírus no estado. Trata-se de um homem de 32 anos que reside em São Paulo e que chegou de Milão, na Itália, na quinta-feira (27).  Mesmo com a segunda confirmação, não há mudança da situação nacional, pois não existem evidências de circulação sustentada do vírus em território brasileiro.  A tendência é que, a partir dos próximos dias, o padrão de identificação dos casos suspeitos mude. Segundo Menezes, \"daqui a alguns dias nós vamos trabalhar por gravidade e não por procedência pra fazer a identificação dos casos suspeitos\".  \"Eu concordo com o ministério da Saúde: eu acho que estamos em um momento de pandemia há dias. Meu sentimento pessoal é de que estamos em um momento pandêmico\", salientou Uip.  A Organização Mundial de Saúde (OMS) é que define os critérios e se a doença é caracterizada ou não como pandemia.  O governo estadual lançou uma cartilha de orientação e prevenção do coronavírus em cinco idiomas - português, inglês, espanhol, italiano e chinês - na versão impressa e eletrônica. O estado irá liberar R$ 30 milhões em recursos para as ações de prevenção e informação.  Após a confirmação de um caso, o governo estadual anunciou a criação de um centro de contingência para monitorar casos de coronavírus no estado. A função do centro de contingência é coordenar ações contra a propagação do Covid-19. O grupo é presidido pelo infectologista David Uip e conta com profissionais do Instituto Butantan e médicos das redes pública e privada, sob a supervisão do Secretário de Estado da Saúde, José Henrique Germann.  Nesta quinta-feira (27), o governo federal anunciou que vai antecipar para 23 de março a Campanha Nacional de Vacinação contra a gripe – anteriormente, a abertura estava prevista para a segunda quinzena de abril.  A vacina contra a gripe não protege contra o novo coronavírus, mas, sim, contra tipos de influenza (família à qual pertence o H1N1, por exemplo). E justamente por isso pode ajudar profissionais de saúde a diagnosticar – por eliminação – eventuais casos de Covid-19.  Quem for viajar aos locais com circulação do vírus deve evitar contato com pessoas doentes, animais (vivos ou mortos), e a circulação em mercados de animais e seus produtos. ',\n",
              " 1: ' O Ministério da Saúde, em conjunto com as secretarias estadual e municipal de São Paulo, confirmou nesta quarta-feira (4) o terceiro caso de coronavírus no Brasil. O homem é natural da Colômbia, tem 46 anos, é administrador de empresas, mora em São Paulo, e viajou para a Itália, Áustria, Alemanha e Espanha.  Ele desembarcou no Brasil no dia 1º de março, procurou atendimento médico com sintomas de tosse, coriza e desconforto na garganta e teve a confirmação para COVID-19 nesta quarta-feira (4) no Hospital Albert Einstein, na Zona Sul de São Paulo.  (O G1 informou, com base em informações do coordenador do Centro de Contingência de São Paulo, David Uip, que o terceiro paciente confirmado é uma criança que viajou para a Itália. Na verdade, trata-se de um homem que viajou para países da Europa. A informação foi corrigida às 17h45).   Os dois primeiros casos também foram confirmados no Einstein. Todos os três pacientes estão bem, em isolamento domiciliar, e tiveram histórico de viagem para a Europa. Em nota, o ministério e as pastas afirmam que o caso é importado, ou seja, veio de fora do Brasil.  O Ministério da Saúde também acompanha outro caso em São Paulo: é o de uma paciente de 13 anos que viajou ao exterior, com passagem por Portugal e Itália. A adolescente teve uma lesão durante a viagem e, ao voltar, procurou atendimento médico no Hospital Beneficência Portuguesa, na capital paulista.  Mesmo sem apresentar sintomas, os médicos coletaram amostras para teste para coronavírus executado em um laboratório privado. O exame deu positivo e agora a contraprova será feita pelo Instituto Adolfo Lutz.  De acordo com Uip, o terceiro paciente confirmado não tem relação com os dois primeiros casos. \"A priori nenhum [se tem relação com os outros dois casos], são casos diferentes. Não está acontecendo nada de inesperado, nós vamos ter novos casos. A maioria dos casos vão ser assintomáticos, ou pouco sintomáticos, como toda doença viral, especialmente vírus que fazem a síndrome respiratória, então, é dentro do esperado e há certeza que nós estamos preparados para isso\", disse.  O último balanço divulgado pela Secretaria Estadual de Saúde aponta 135 casos suspeitos da doença no estado de São Paulo, outros 131 foram descartados por meio de análise laboratorial.  Mesmo com a segunda confirmação, não houve mudança da situação nacional, pois não existem evidências de circulação sustentada do vírus em território brasileiro.  Segundo a metodologia da Secretaria Estadual de Saúde, para um caso ser considerado suspeito é necessário que o paciente tenha apresentado, além dos sintomas, histórico de viagem ou contato com caso suspeito.  No último sábado (29), a Secretaria de Saúde do Estado de São Paulo e o Ministério da Saúde confirmaram  o segundo caso de coronavírus no estado. Trata-se de um homem de 32 anos que reside em São Paulo e que chegou de Milão, na Itália, na quinta-feira (27).  O primeiro caso foi confirmado na quarta-feira (26). Trata-se de um homem que também reside em São Paulo e possui 61 anos. Ele retornou de Turim, no norte da Itália, na sexta-feira (21).  Paulo Menezes, coordenador do comitê de operações emergenciais (COE) da Secretaria Estadual de Saúde afirmou na terça-feira (3) que os pacientes continuam em quarentena domiciliar.  \"Os dois confirmados estão evoluindo bem clinicamente, mas ainda têm alguns sintomas que fazem com que eles continuem em isolamento domiciliar\", disse em coletiva de imprensa.  O número de pessoas que tiveram contato com o segundo caso confirmado não foi divulgado pela secretaria. No primeiro caso confirmado, eram 34 pessoas, entre passageiros do voo e familiares do paciente.  “Existem contactantes [do segundo caso], eles estão sendo monitorados, mas a gente não está divulgando mais números de contactantes por conta da privacidade das pessoas”, disse Menezes.  Segundo Uip, o Centro de Contingência contra a doença criado no estado, o laboratório Adolfo Lutz, onde os testes são realizados, irá \"qualificar outros laboratórios\" para realizar o exame de confirmação.  A tendência é que, a partir dos próximos dias, o padrão de identificação dos casos suspeitos mude. Segundo Menezes, \"daqui a alguns dias nós vamos trabalhar por gravidade e não por procedência pra fazer a identificação dos casos suspeitos\".  \"Eu concordo com o ministério da Saúde: eu acho que estamos em um momento de pandemia há dias. Meu sentimento pessoal é de que estamos em um momento pandêmico\", salientou Uip.  A Organização Mundial de Saúde (OMS) é que define os critérios e se a doença é caracterizada ou não como pandemia.  O governo estadual lançou uma cartilha de orientação e prevenção do coronavírus em cinco idiomas - português, inglês, espanhol, italiano e chinês - na versão impressa e eletrônica. O governador João Doria (PSDB) afirmou que irá liberar R$ 30 milhões em recursos para as ações de prevenção e informação.  Nesta quinta-feira (27), o governo federal anunciou que vai antecipar para 23 de março a Campanha Nacional de Vacinação contra a gripe – anteriormente, a abertura estava prevista para a segunda quinzena de abril.  A vacina contra a gripe não protege contra o novo coronavírus, mas, sim, contra tipos de influenza (família à qual pertence o H1N1, por exemplo). E justamente por isso pode ajudar profissionais de saúde a diagnosticar – por eliminação – eventuais casos de Covid-19.  Quem for viajar aos locais com circulação do vírus deve evitar contato com pessoas doentes, animais (vivos ou mortos), e a circulação em mercados de animais e seus produtos. ',\n",
              " 2: ' O aumento dos casos de coronavírus na Itália e a suspensão das peregrinações a Meca, cidade na Arábia Saudita considerada sagrada para os muçulmanos, são destaques desta quarta-feira (4). Na Itália, após mais de 3 mil casos e 107 mortes, as autoridades decidiram suspender as aulas até 15 de março e proibir a entrada do público em eventos esportivos.  Outro fato relevante desta quarta é que o número de mortos fora da China já é maior do que dentro do país onde surgiu a epidemia (veja vídeo abaixo). Durante o dia, a Itália passou o Irã em número de casos confirmados e de mortes e é o país onde o coronavírus mais fez vítimas, (depois da China), com 3.089 pessoas infectadas e 107 mortos. O Irã chegou a 2.922 casos e 92 mortes.  Destaques desta quarta (4): ',\n",
              " 3: ' Os projetos de lei orçamentária enviados pelo governo ao Congresso Nacional nesta terça-feira (3) reduzem, em R$ 9,6 bilhões, o total disponível para emendas parlamentares no Orçamento 2020. Os números foram divulgados nesta quarta (4) pelo Ministério da Economia.  Com as mudanças, as emendas totais dos deputados e senadores passariam de R$ 46,2 bilhões, incluindo a reserva de contingência para as desonerações da MP Verde e Amarela, para R$ 36,6 bilhões – uma redução de 20,7%.  O ajuste foi feito nas chamadas \"emendas de relator\", incluídas no orçamento pelo relator do texto após sugestões de deputados e senadores. Elas passariam de R$ 30,1 bilhões (incluindo desonerações do Programa Verde e Amarelo, no valor de R$ 1,5 bilhão) para R$ 20,5 bilhões, uma queda de 31,8%.  O secretário-especial de Fazenda do Ministério da Economia, Waldery Rodrigues, disse que esses projetos de lei trazem uma reorganização do processo orçamentário do orçamento impositivo.  Com as propostas, as emendas parlamentares no Orçamento de 2020 ficam assim:  O secretário-especial-adjunto de Fazenda do Ministério da Economia, Esteves Colnago, explicou que a área econômica busca, com essas propostas, manter os gastos discricionários (não obrigatórios) no mesmo patamar do ano passado, de R$ 94,5 bilhões. A cifra inclui R$ 1,5 bilhão em reserva de contingência, para imprevistos ou calamidades.  \"É uma referencia natural buscar um nível de discricionariedade [liberdade para alocar recursos] que fosse equivalente ao ano anterior. Mesmo em nova situação, em um novo ambiente, entendemos que temos segurança, dado o que aconteceu no ano passado, de transcorrermos esse ano sem dificuldades\", explicou.  Segundo ele, o orçamento impositivo original, com um patamar elevado de emendas impositivas, gera uma \"insegurança grande na execução\" das despesas. \"Como é que eu pago restos a pagar de anos anteriores, se o orçamento deste ano é todo impositivo\", questionou Colnago.  O secretário-adjunto do Tesouro Nacional, Otavio Ladeira, diz que os projetos enviados ao Legislativo permitirão que os ministérios definam como vão usar os recursos previstos: quitando restos a pagar de anos anteriores, ou executando os projetos de 2020.  A mudança diminui, segundo ele, a possibilidade de \"empoçamento\" dos recursos, ou seja, que valores autorizados não sejam gastos efetivamente. No ano passado, de acordo com o Tesouro, isso aconteceu com R$ 17,4 bilhões do orçamento.  Esse dinheiro ficou represado e, com isso, ajudou a diminuir o déficit primário nas contas do governo. Apesar de ajudar a fechar as planilhas, ele representa investimentos que poderiam ter acontecido, mas foram cancelados ou adiados por falta de programação.  \"Os dispositivos dos projetos de lei permitem, aos ministérios, demonstrar que não precisarão de recursos financeiros, destinando a outros [ministérios] para evitar o empoçamento. Também permitem a criação de uma reserva ao longo do ano, que terá de ser zerada ao final. Para atender a um ou outro ministério que precise\", disse Ladeira a jornalistas.  Para entrar em vigor, os projetos terão de ser analisados pelo Congresso Nacional em sessão conjunta. O presidente do Congresso, senador Davi Alcolumbre (DEM-AP), chegou a anunciar inicialmente que isso poderia acontecer nesta terça (3).  Na noite de terça, ele assumiu o microfone do plenário para anunciar uma mudança nos planos. Com isso, deputados e senadores mantiveram os vetos de Bolsonaro a regras do orçamento impositivo nesta quarta (4), mas a análise dos novos projetos foi adiada para a próxima semana. ',\n",
              " 4: ' Documento encaminhado à Comissão Parlamentar Mista de Inquérito (CPMI) das Fake News mostra que um assessor do deputado Eduardo Bolsonaro (PSL-SP) usou um computador da Câmara dos Deputados para criar uma página usada em ataques pessoais contra adversários políticos.  O documento foi enviado pela rede social Facebook à CPMI após um pedido de quebra de sigilo de contas no Instagram – as duas redes são controladas pela mesma empresa. O teor foi divulgado nesta quarta-feira (4) pelo site UOL.  Segundo a reportagem, \"a quebra de sigilo liga o gabinete de Eduardo Bolsonaro à conta de ataques virtuais\". O Jornal Nacional também teve acesso ao documento.  A conta na rede social, chamada \"Bolsofeios\", foi registrada a partir de um IP dentro da Câmara. O IP é um número único, usado para identificar cada computador conectado a uma rede.  O e-mail utilizado no cadastro da página é utilizado por Eduardo Guimarães, secretário parlamentar de Eduardo Bolsonaro. Notas fiscais apresentadas à Câmara por Eduardo Bolsonaro em janeiro mostram que Guimarães usou esse mesmo e-mail como endereço de contato.  O Jornal Nacional também confirmou que o número de celular usado para registrar a página é o mesmo utilizado por Eduardo Guimarães.  Questionado nesta quarta, após a divulgação das informações, o deputado Eduardo Bolsonaro respondeu com ironia, e sem interromper a caminhada pela Câmara.  \"Estou pensando o que eu vou fazer, estou pensando o que fazer. Olha, mas... qual infração foi cometida? Mandar esse pessoal catar coquinho. Eu vou dar um aumento para o meu funcionário se isso aí for verdade\", disse.  Em dezembro de 2019, a deputada Joice Hasselmann (PSL-SP), correligionária de Eduardo Bolsonaro, falou à CPMI das Fake News. Ela acusou os filhos do presidente Jair Bolsonaro de comandarem uma rede de ataques virtuais, chamada por ela de \"gabinete do ódio\".  Segundo Joice, o grupo usava essa rede para espalhar mensagens falsas contra desafetos da família Bolsonaro. Ela já tinha feito denúncia semelhante em entrevista ao G1, em outubro do ano passado.  \"E aí, para se ter uma ideia, o \\'Bolsofeios\\' é do assessor do Eduardo, o Dudu Guimarães\", declarou Joice à CPMI, antecipando a relação confirmada pelo documento enviado à comissão.  O sigilo da conta foi quebrado a pedido do deputado Túlio Gadelha (PDT-PE), com base nos depoimentos à CPMI das Fake News. Nesta quarta, o parlamentar disse que a comissão vai analisar o conteúdo dos papéis para avaliar as próximas medidas.  \"O próximo passo agora é a gente analisar o conteúdo, pedir a quebra de sigilo telefônico, a quebra de sigilo telemático dos e-mails do deputado Eduardo Bolsonaro e do \\'gabinete do ódio\\', das pessoas que disseminavam essas informações, para analisar esse conteúdo\", diz.  Segundo ele, a depender da análise, Eduardo Bolsonaro pode ser acionado no Conselho de Ética da Câmara dos Deputados.  A CPMI se reúne novamente na próxima semana. Deputados de oposição a Bolsonaro planejam novos pedidos de quebra de sigilo para detalhar a ação do \"gabinete do ódio\".  A ideia, segundo os parlamentares, é conseguir mais informações sobre o conteúdo das mensagens do email usado por Eduardo Guimarães, entre outros detalhes. ',\n",
              " 5: ' O senador Flávio Bolsonaro (sem partido) entrou com um habeas corpus no Tribunal de Justiça do Rio para tentar, mais uma vez, paralisar as investigações sobre suspeita de \"rachadinha\" no gabinete dele quando era deputado estadual.  A defesa do parlamentar alega que os fatos são relativos ao tempo em que ele estava na Assembleia Legislativa do Rio (Alerj) e, por isso, deveriam ser analisados em segunda instância.  A suspeita envolve os crimes de peculato, organização criminosa e lavagem de dinheiro. O Ministério Público afirma que ele é o chefe de uma organização criminosa que atuou no gabinete da Alerj.  A estimativa é que cerca de R$ 2,3 milhões tenham sido movimentados em um esquema de \"rachadinha\", no qual funcionários do então deputado devolviam parte do salário que recebiam na Alerj.  O dinheiro, segundo a investigação, era lavado com aplicação em uma loja de chocolates no Rio da qual o senador é sócio e em imóveis.  Flávio Bolsonaro nega todas as acusações, diz ser vítima de perseguição e critica o vazamento das informações do processo, que corre em segredo de Justiça. ',\n",
              " 6: ' O Produto Interno Bruto (PIB) brasileiro cresceu 1,1% em 2019, segundo divulgou nesta quarta-feira (4) o Instituto Brasileiro de Geografia e Estatística (IBGE). Foi o desempenho mais fraco em 3 anos, com o resultado afetado principalmente pela perda de ritmo do consumo das famílias e dos investimentos privados. Em valores correntes, o PIB do ano passado totalizou R$ 7,3 trilhões em 2019.  Foi a 3ª alta anual consecutiva após 2 anos de retração, mas a recuperação lenta ainda mantém a economia do país abaixo do patamar pré-recessão.  Já o PIB per capita (por habitante) teve alta de apenas 0,3% em termos reais em 2019, alcançando R$ 34.533 em 2019.  Segundo ela, em valores correntes, o PIB brasileiro ainda segue 3,1% abaixo do pico (ponto mais alto da economia brasileira), registrado no primeiro trimestre de 2014. \"Por outro lado, estamos a 5,4% do vale, o ponto mais baixo que foi alcançado no 4º trimestre de 2016\", explicou.  Em 2017 e 2018 o crescimento foi de 1,3% em ambos os anos, após retrações de 3,5% em 2015 e de 3,3% em 2016. Veja gráfico abaixo:  Apesar de mais um ano de crescimento decepcionante, o resultado veio dentro do esperado pelo mercado que, após resultados fracos da atividade econômica em novembro e dezembro, passou a projetar mais um ano de taxa bem próxima de 1%. No começo de 2019, a estimativa era de um avanço de mais de 2% no ano. A estimativa do Ministério da Economia era de uma alta de 1,12%.  O PIB é a soma de todos os bens e serviços produzidos no país e serve para medir a evolução da economia.  Veja os principais destaques do PIB em 2019:  O crescimento da economia em 2019 foi mais uma vez sustentado pelo consumo das famílias, mas o ritmo de recuperação do consumo desacelerou 1,8%, após avanços de 2% em 2017 e 2,1% em 2018. Foi o resultado mais fraco desde 2016, diante da baixa confiança e do mercado de trabalho ainda frágil.  \"O crescimento do PIB continua ancorado no consumo das famílias\", enfatizou a pesquisadora, destacando que trata-se do componente com maior peso no cálculo do PIB, representando 65% de toda a atividade econômica.  O consumo das famílias em 2019 foi beneficiado, entre outros fatores, pela melhora da ocupação no mercado de trabalho, pela redução da taxa básica de juros e pela liberação de recursos extras do FGTS.  Segundo a pesquisadora, a contribuição da demanda interna no resultado do PIB de 20198 foi de 1,7%, sendo 1,2 ponto percentual (p.p). do consumo das famílias, 0,6 p.p. de investimento e estoque e -0,1% do consumo do governo. Já a demanda externa contribuiu negativamente com 0,5%.  Os investimentos tiveram uma desaceleração mais forte, registrando uma alta de 2,2% no ano passado, após um salto de 3,9% em 2018 e queda de 2,6% em 2017. Já a despesa de consumo do governo caiu 0,4%, em meio ao rombo das contas públicas e dificuldades orçamentárias.  A taxa de investimento em 2019 foi de 15,4% do PIB, acima do observado em 2018 (15,2%), mas ainda bem abaixo do patamar acima de 21% registrado em 2013. Já a taxa de poupança caiu para 12,2%, ante 12,4% em 2018.  No setor de serviços, as atividades que registraram maior avanço no ano foram: informação e comunicação (4,1%) – maior taxa de crescimento entre todos os componentes do PIB –, atividades imobiliárias (2,3%) e comércio (1,8%).  Na agropecuária, o crescimento foi puxado pelo cultivo de milho (23,6%), algodão (39,8%), laranja (5,6%) e feijão (2,2%).  Pela ótica da produção, tanto os serviços como a agropecuária tiveram um crescimento menor em 2019, enquanto que a indústria manteve o resultado de 0,5%, com destaque para construção civil que cresceu 1,6% – (1ª alta após 5 anos consecutivos de quedas).  Apesar do crescimento, o setor se encontra 30% abaixo do pico, que foi alcançado no primeiro trimestre de 2014. E no 4º trimestre houve retração de 2,5%, ante o 3º trimestre. O IBGE destacou também que a alta em 2019 foi puxado pela atividade imobiliária, e não pelo setor de infraestrutura.  Já a indústria extrativa teve queda de 1,1% em 2019, enquanto que a de transformação registraram avanço de apenas 0,1%.  No setor externo, as exportações de bens e serviços caíram 2,5% – a 1ª queda em 5 anos –, enquanto as importações de bens e serviços avançaram 1,1%.  A necessidade de financiamento da economia brasileira cresceu de R$ 168 bilhões em 2018 para R$ 212,2 bilhões em 2019. \"O principal fator para esse crescimento foi a transformação do superávit de R$ 26,3 bilhões do saldo externo de bens e serviços no ano de 2018 para o déficit de menos R$ 24,1 bilhões em 2019\", destacou Rebeca.  No 4º trimestre, o PIB cresceu 0,5% na comparação com o trimestre anterior, o que representa uma desaceleração frente ao avanço de 0,6% registrado no 3º trimestre. Na comparação com o 4º trimestre de 2018, houve alta de 1,7%, o 12º resultado positivo consecutivo.  A indústria e os serviços apresentaram variação positiva de 0,2% e 0,6%, respectivamente, na comparação com o 3º trimestre, enquanto a agropecuária caiu 0,4%.  Do lado da demanda, o consumo das famílias desacelerou para um avanço de 0,5% (ante 0,7% no 3º trimestre), enquanto que os investimentos caíram 3,3%, interrompendo 2 trimestres seguidos de altas. Já a despesa do governo cresceu 0,4% em relação ao trimestre imediatamente anterior.  No setor externo, as exportações cresceram 2,6%, enquanto as importações caíram 3,2%.  Após um início de ano de maior otimismo sobre as perspectivas para a economia brasileira, preocupações em torno dos impactos do coronavírus na economia global e incertezas sobre o ritmo de aprovação de reformas no Congresso têm derrubado as projeções para o PIB do Brasil em 2020.  Embora não faça projeções, o IBGE considera que a economia brasileira será afetada negativamente pelo coronavírus. \"Quando a gente divulgar o primeiro trimestre do ano provavelmente a gente vai ver o impacto do coronavírus sobre a economia\", disse a gerente das Contas Nacionais, Rebeca Palis. \"Vai ser um impacto no todo, provavelmente vai afetar o comercio exterior e, também, a produção nacional\", acrescentou ao ser questionada sobre quais setores devem ser impactados.  O mercado brasileiro reduziu para 2,17% a previsão a alta do PIB neste ano, segundo a última pesquisa Focus do Banco Central, mas diversos bancos e consultorias já estimam um crescimento abaixo de 2% e mais cortes na taxa básica de juros.  Até o final de janeiro deste ano, o ministro da Economia, Paulo Guedes, se dizia confiante em uma taxa de crescimento de 2,5% em 2020. Nesta quarta, em comunicado, o ministério da Economia afirmou que o coronavírus tornou o crescimento este ano \\'desafiador\\', ao reduzir a expectativas de crescimento mundial e \"adicionar incertezas\" sobre a evolução do comércio internacional.  A estimativa atual do governo para o crescimento da economia em 2020 segue em 2,4%, mas o secretário de Política Econômica do Ministério da Economia, Adolfo Sachsida, já adiantou que, até o início da próxima semana, a projeção oficial deverá ser revisada.  Entre os principais fatores que impediram um ritmo de recuperação mais forte da economia em 2019, estão:  Do lado dos fatores positivos para a economia e para a confiança dos investidores no ano passado, destaque para a aprovação da reforma da Previdência, com previsão de economia de R$ 855 bilhões em 10 anos, e a queda da taxa básica de juros para mínimas históricas, que reduziu o custo de empréstimos e permitiu um avanço do crédito bancário.  Para tentar aquecer a economia, o governo Bolsonaro também anunciou, no ano passado, a liberação de saques das contas inativas, e ativas, do Fundo de Garantia do Tempo de Serviço (FGTS), injetando mais de R$ 27 bilhões na economia. ',\n",
              " 7: ' O ministro da Economia, Paulo Guedes, afirmou nesta quarta-feira (4) que o resultado do Produto Interno Bruto (PIB) de 2019 ficou \"dentro do previsto\".  Mais cedo, nesta quarta, o Instituto Brasileiro de Geografia e Estatística (IBGE) informou que o PIB cresceu 1,1% em 2019, registrando a menor alta em três anos (veja detalhes no vídeo acima).  O PIB é a soma de todos os bens e serviços produzidos no país e serve para medir a evolução da economia.  \"À medida que as reformas vão acontecendo, e elas vão ser implementadas, o Brasil vai reacelerando. Então, está tudo dentro do previsto. Eu nem entendi essa comoção toda: \\'Ah, 1,1%\\'. O que que eles esperavam? Era 1% que nós tínhamos dito que ia crescer no primeiro ano. No segundo ano, a gente acha que é acima de 2%, prosseguindo com as reformas\", declarou o ministro.  Depois o presidente Jair Bolsonaro também foi questionado sobre o tema. Disse que, apesar da crise do coronavírus, a expectativa é que em 2020 o PIB melhore. Questionado sobre como o governo avalia ter previsto o dobro de crescimento, o presidente respondeu:  \"A expectativa, é o que eu sempre falo: \\'Bota a expectativa mais baixa possível\\', para evitar justamente esse tipo de pergunta.\"  O resultado já era esperado pelos analistas do mercado financeiro, que passaram a projetar mais um ano de taxa próxima de 1%. No começo de 2019, a estimativa era de alta de mais de 2% no ano.  De acordo com os dados do IBGE, o consumo das famílias cresceu pelo terceiro ano seguido em 2019 e ajudou a sustentar, mais uma vez, a expansão do PIB. As compras, porém, perderam fôlego diante da baixa confiança das pessoas no mercado de trabalho.  Também nesta quarta, logo após participar de um evento com o presidente Jair Bolsonaro, no Palácio do Planalto, Paulo Guedes reafirmou que a estimativa é que a economia brasileira cresça 2% em 2020.  Segundo o ministro, o PIB dos últimos trimestres de 2019, na comparação com o mesmo período de 2018, indica que a economia está \"reacelerando\". Para Guedes, se o governo conseguir aprovar outras reformas no Congresso, será possível atingir o percentual de 2%.  \"Se você pegar o quarto trimestre do ano passado, sobre o quarto trimestre de 2018, 1,70%, estava quase chegando em 2%. A economia brasileira está claramente reacelerando. Se nós mantivermos as reformas, ela vai crescer os 2%, um pouco até acima dos 2% que nós estamos esperando. Esperávamos 1%, veio 1,1%. Se as reformas continuam nós achamos que vamos passar de 2%\", disse o ministro.  \"Eu não diria que houve surpresa nenhuma. Eu até estou surpreso com a surpresa que vocês estão tendo\", acrescentou.  Questionado sobre o impacto do surto de coronavírus na China, principal parceria comercial do Brasil, Guedes admitiu eventuais prejuízos, mas ressaltou que o Brasil tem dinâmica própria de crescimento, que poderá ser acelerada com as reformas.  \"O Brasil tem sua própria dinâmica de crescimento. Se nós fizermos as nossas reformas, nós vamos reacelerar o nosso crescimento econômico independentemente do coronavírus. Vai atrapalhar um pouco, mas nós temos potência suficiente para superar esse efeito\", completou.  Também nesta quarta, o secretário-especial de Fazenda do Ministério da Economia, Waldery Rodrigues, afirmou que o resultado do PIB no ano passado veio em linha com o esperado.  \"A dinâmica do ano passado, separada por semestres, mostra um segundo mais forte e dinâmico do que o primeiro. Porque aprovamos a maior reforma paramétrica da reforma da previdência no Brasil. Veja a dificuldade de outros países. E medidas como o FGTS, que antecipamos a devolução de R$ 43 bilhões\", declarou.  Para este ano, o secretário afirmou que é importante manter a agenda de reformas, com a votação da PEC dos fundos públicos, além das PECs da emergência fiscal, do pacto federativo, e mudanças no regime de recuperação fiscal dos estados. Também defendeu a aprovação das reformas administrativa e tributária. ',\n",
              " 8: ' Subiu para 25 o número de mortos após deslizamentos provocados pelo temporal que atingiu a região da Baixada Santista, no litoral de São Paulo. A forte chuva começou na noite de segunda-feira (2) e se seguiu até a madrugada de terça-feira (3). Dentre os mortos, estão dois bombeiros que trabalhavam nas buscas em Guarujá. De acordo com o Corpo de Bombeiros, ainda há 24 pessoas desaparecidas, e as buscas foram retomadas na manhã desta quarta-feira (4) em Santos, São Vicente e Guarujá.  Veja onde ocorreram as mortes:  A tempestade causou alagamentos em vias públicas, afetou serviços (transporte, educação, fornecimento de água, energia elétrica e telefonia) e fez rodovias serem bloqueadas.  Em um período de 24h, de acordo com dados do Centro Nacional de Monitoramento e Alertas de Desastres Naturais (Cemaden), choveu 320 mm em Guarujá, valor muito acima da média de 263 mm prevista para março. Em Santos, choveu 239 mm, perto da média de 257 mm. Já em São Vicente foram registrados 207 mm de chuva, abaixo da média de 257 mm prevista para o mês todo.  De acordo com a Defesa Civil do Estado de São Paulo, há previsão de chuva fraca em pontos isolados da Baixada Santista nesta quarta-feira, que deve elevar ainda mais os acumulados de chuva na região. Por conta do fato de o solo ter ficado completamente encharcado, o risco de deslizamentos continuou elevado.  De acordo com a Defesa Civil do Estado, até o começo da manhã desta quarta-feira, havia 155 desabrigados em Guarujá, seis em São Vicente e 37 em Santos.Também há 11 desalojados em São Vicente. Em Peruíbe, 65 pessoas deixaram temporariamente suas casas e foram recebidas no Centro Comunitário do Caraminguava.  As cidades da Baixada Santista estão recebendo doações para as famílias que foram prejudicadas pelo forte temporal. há uma necessidade maior de doações de colchões, travesseiros e roupa de cama para as vítimas do temporal. Também são necessários itens como roupas de banho, alimentos em geral, água e produtos de higiene pessoal.  Há postos de coleta em Santos, São Vicente, Cubatão e Guarujá. Confira os postos aqui.  O governador do Estado de São Paulo, João Doria (PSDB), foi até Santos nesta terça-feira após o temporal e anunciou que o programa aluguel social será disponibilizado para as pessoas desalojadas após o temporal que atingiu a região da Baixada Santista.  O Governo de São Paulo já disponibilizou 15,6 toneladas em materiais de ajuda humanitária para o atendimento às vítimas das chuvas que caíram na Baixada Santista desde a última segunda-feira (2). Com apoio das prefeituras e entidades assistenciais, o Governo do Estado está providenciando a remessa de colchões, cobertores, cestas básicas, água sanitária e água potável aos municípios afetados.  De acordo com a Defesa Civil do Estado de São Paulo, em 24h choveu mais de 100 mm em todas as nove cidades da Baixada Santista. Foram 300 mm no Guarujá, 222 milímetros em Santos e 187 mm em São Vicente. Segundo o Instituto Nacional de Meteorologia (Inmet), o normal esperado para o mês de março no Guarujá são 277 mm - ou seja, já choveu mais que o esperado para o mês na cidade.  O temporal começou na noite de segunda e se estendeu durante toda a madrugada e manhã de terça-feira. Moradores registraram alagamentos e ruas ficaram intransitáveis em toda a Baixada Santista. Passageiros de um ônibus mostraram o rápido aumento do nível da água no interior do veículo. Diversas linhas de ônibus e itinerários foram comprometidos pelo temporal.  Houve quedas de barreira nas rodovias Anchieta, Cônego Domênico Rangoni, Rio-Santos e Guarujá-Bertioga, que fazem a ligação de cidades da Baixada Santista com outras regiões do Estado de São Paulo. A via Anchieta e a rodovia Guarujá-Bertioga estavam totalmente interditadas até a última atualização desta reportagem.  A ausência de variações de temperatura no Oceano Atlântico e o aquecimento global explicam as fortes chuvas que atingiram a região sudeste do Brasil no mês de fevereiro, segundo especialistas consultados pelo G1.  Já o começo de março as chuvas também seguem castigando a região. Quatro pessoas morreram no Rio de Janeiro e uma no Espírito Santo nesta segunda-feira (2). ',\n",
              " 9: ' O Ministério da Saúde, em conjunto com as secretarias estadual e municipal de São Paulo, confirmou nesta quarta-feira (4) o terceiro caso de coronavírus no Brasil. O homem é natural da Colômbia, tem 46 anos, é administrador de empresas, mora em São Paulo, e viajou para a Itália, Áustria, Alemanha e Espanha.  Ele desembarcou no Brasil no dia 1º de março, procurou atendimento médico com sintomas de tosse, coriza e desconforto na garganta e teve a confirmação para COVID-19 nesta quarta-feira (4) no Hospital Albert Einstein, na Zona Sul de São Paulo.  (O G1 informou, com base em informações do coordenador do Centro de Contingência de São Paulo, David Uip, que o terceiro paciente confirmado é uma criança que viajou para a Itália. Na verdade, trata-se de um homem que viajou para países da Europa. A informação foi corrigida às 17h45).   Os dois primeiros casos também foram confirmados no Einstein. Todos os três pacientes estão bem, em isolamento domiciliar, e tiveram histórico de viagem para a Europa. Em nota, o ministério e as pastas afirmam que o caso é importado, ou seja, veio de fora do Brasil.  O Ministério da Saúde também acompanha outro caso em São Paulo: é o de uma paciente de 13 anos que viajou ao exterior, com passagem por Portugal e Itália. A adolescente teve uma lesão durante a viagem e, ao voltar, procurou atendimento médico no Hospital Beneficência Portuguesa, na capital paulista.  Mesmo sem apresentar sintomas, os médicos coletaram amostras para teste para coronavírus executado em um laboratório privado. O exame deu positivo e agora a contraprova será feita pelo Instituto Adolfo Lutz.  De acordo com Uip, o terceiro paciente confirmado não tem relação com os dois primeiros casos. \"A priori nenhum [se tem relação com os outros dois casos], são casos diferentes. Não está acontecendo nada de inesperado, nós vamos ter novos casos. A maioria dos casos vão ser assintomáticos, ou pouco sintomáticos, como toda doença viral, especialmente vírus que fazem a síndrome respiratória, então, é dentro do esperado e há certeza que nós estamos preparados para isso\", disse.  O último balanço divulgado pela Secretaria Estadual de Saúde aponta 135 casos suspeitos da doença no estado de São Paulo, outros 131 foram descartados por meio de análise laboratorial.  Mesmo com a segunda confirmação, não houve mudança da situação nacional, pois não existem evidências de circulação sustentada do vírus em território brasileiro.  Segundo a metodologia da Secretaria Estadual de Saúde, para um caso ser considerado suspeito é necessário que o paciente tenha apresentado, além dos sintomas, histórico de viagem ou contato com caso suspeito.  No último sábado (29), a Secretaria de Saúde do Estado de São Paulo e o Ministério da Saúde confirmaram  o segundo caso de coronavírus no estado. Trata-se de um homem de 32 anos que reside em São Paulo e que chegou de Milão, na Itália, na quinta-feira (27).  O primeiro caso foi confirmado na quarta-feira (26). Trata-se de um homem que também reside em São Paulo e possui 61 anos. Ele retornou de Turim, no norte da Itália, na sexta-feira (21).  Paulo Menezes, coordenador do comitê de operações emergenciais (COE) da Secretaria Estadual de Saúde afirmou na terça-feira (3) que os pacientes continuam em quarentena domiciliar.  \"Os dois confirmados estão evoluindo bem clinicamente, mas ainda têm alguns sintomas que fazem com que eles continuem em isolamento domiciliar\", disse em coletiva de imprensa.  O número de pessoas que tiveram contato com o segundo caso confirmado não foi divulgado pela secretaria. No primeiro caso confirmado, eram 34 pessoas, entre passageiros do voo e familiares do paciente.  “Existem contactantes [do segundo caso], eles estão sendo monitorados, mas a gente não está divulgando mais números de contactantes por conta da privacidade das pessoas”, disse Menezes.  Segundo Uip, o Centro de Contingência contra a doença criado no estado, o laboratório Adolfo Lutz, onde os testes são realizados, irá \"qualificar outros laboratórios\" para realizar o exame de confirmação.  A tendência é que, a partir dos próximos dias, o padrão de identificação dos casos suspeitos mude. Segundo Menezes, \"daqui a alguns dias nós vamos trabalhar por gravidade e não por procedência pra fazer a identificação dos casos suspeitos\".  \"Eu concordo com o ministério da Saúde: eu acho que estamos em um momento de pandemia há dias. Meu sentimento pessoal é de que estamos em um momento pandêmico\", salientou Uip.  A Organização Mundial de Saúde (OMS) é que define os critérios e se a doença é caracterizada ou não como pandemia.  O governo estadual lançou uma cartilha de orientação e prevenção do coronavírus em cinco idiomas - português, inglês, espanhol, italiano e chinês - na versão impressa e eletrônica. O governador João Doria (PSDB) afirmou que irá liberar R$ 30 milhões em recursos para as ações de prevenção e informação.  Nesta quinta-feira (27), o governo federal anunciou que vai antecipar para 23 de março a Campanha Nacional de Vacinação contra a gripe – anteriormente, a abertura estava prevista para a segunda quinzena de abril.  A vacina contra a gripe não protege contra o novo coronavírus, mas, sim, contra tipos de influenza (família à qual pertence o H1N1, por exemplo). E justamente por isso pode ajudar profissionais de saúde a diagnosticar – por eliminação – eventuais casos de Covid-19.  Quem for viajar aos locais com circulação do vírus deve evitar contato com pessoas doentes, animais (vivos ou mortos), e a circulação em mercados de animais e seus produtos. '}"
            ]
          },
          "metadata": {
            "tags": []
          },
          "execution_count": 51
        }
      ]
    },
    {
      "cell_type": "markdown",
      "metadata": {
        "id": "uZjMxCRYE_bp"
      },
      "source": [
        "<b> Atividade </b>\n",
        "\n",
        "12) Capture as entidades de cada uma das notícias utilizando o modelo ``pt_core_news_sm`` do spacy.\n",
        "\n",
        "<i> Dica: ents retorna as entidades de um texto </i>"
      ]
    },
    {
      "cell_type": "code",
      "metadata": {
        "id": "Tp7vKyU_E_bq"
      },
      "source": [
        "nlp = pt_core_news_sm.load()"
      ],
      "execution_count": null,
      "outputs": []
    },
    {
      "cell_type": "code",
      "metadata": {
        "id": "iZqGkMB44H08"
      },
      "source": [
        "texto_nlp = {i:nlp(texto_noticias[i]) for i in texto_noticias.keys()}"
      ],
      "execution_count": null,
      "outputs": []
    },
    {
      "cell_type": "code",
      "metadata": {
        "id": "X0qkKWn63brF"
      },
      "source": [
        "entidades = {i:set(map(str, texto_nlp[0].ents)) for i in texto_noticias.keys()}"
      ],
      "execution_count": null,
      "outputs": []
    },
    {
      "cell_type": "code",
      "metadata": {
        "id": "GD0QDtiD3tPf",
        "colab": {
          "base_uri": "https://localhost:8080/",
          "height": 612
        },
        "outputId": "5d790513-b51b-4f50-fc79-17f2baebc216"
      },
      "source": [
        "texto_nlp.ents"
      ],
      "execution_count": null,
      "outputs": [
        {
          "output_type": "execute_result",
          "data": {
            "text/plain": [
              "(A Secretaria Estadual de Saúde de São Paulo,\n",
              " estado de São Paulo,\n",
              " Itália,\n",
              " Paulo Menezes,\n",
              " COE,\n",
              " Secretaria Estadual de Saúde,\n",
              " Paulo Menezes,\n",
              " COE,\n",
              " José Henrique Germann,\n",
              " Centro de Contingenciamento de Emergências,\n",
              " David Uip,\n",
              " José Henrique Germann,\n",
              " Helena Sato,\n",
              " Centro de Vigilância Epidemiológica,\n",
              " CVE,\n",
              " Uip,\n",
              " Adolfo Lutz,\n",
              " Menezes,\n",
              " Secretaria Estadual de Saúde,\n",
              " Secretaria Estadual de Saúde,\n",
              " Ministério da Saúde,\n",
              " São Paulo,\n",
              " Milão,\n",
              " Itália,\n",
              " Menezes,\n",
              " Saúde,\n",
              " Uip,\n",
              " Organização Mundial de Saúde,\n",
              " OMS,\n",
              " R$,\n",
              " David Uip,\n",
              " Instituto Butantan,\n",
              " Secretário de Estado da Saúde,\n",
              " José Henrique Germann,\n",
              " Campanha Nacional de Vacinação)"
            ]
          },
          "metadata": {
            "tags": []
          },
          "execution_count": 58
        }
      ]
    },
    {
      "cell_type": "markdown",
      "metadata": {
        "id": "nCwf0QiNE_bu"
      },
      "source": [
        "<b> Atividade </b>\n",
        "\n",
        "13) Quais são as 5 entidades que mais apareceram nas notíciais? Critique esse resultado, ele faz sentido?"
      ]
    },
    {
      "cell_type": "code",
      "metadata": {
        "id": "cpR3mDURE_bw"
      },
      "source": [
        "todas_entidade = []"
      ],
      "execution_count": null,
      "outputs": []
    },
    {
      "cell_type": "code",
      "metadata": {
        "id": "Ukiao4LY6MWR"
      },
      "source": [
        "for k in entidades.keys():\n",
        "  todas_entidade.extend(entidades[k])"
      ],
      "execution_count": null,
      "outputs": []
    },
    {
      "cell_type": "code",
      "metadata": {
        "id": "M_Wl7i4N6yQl"
      },
      "source": [
        "todas_entidades =  dict(Counter(todas_entidade))"
      ],
      "execution_count": null,
      "outputs": []
    },
    {
      "cell_type": "code",
      "metadata": {
        "id": "KQIA_Pyd7TpN",
        "colab": {
          "base_uri": "https://localhost:8080/",
          "height": 442
        },
        "outputId": "8d953157-a907-4e17-a29d-fdf4c9bc7914"
      },
      "source": [
        "sorted(todas_entidades.items(), key=operator.itemgetter(1))"
      ],
      "execution_count": null,
      "outputs": [
        {
          "output_type": "execute_result",
          "data": {
            "text/plain": [
              "[('Secretaria Estadual de Saúde', 10),\n",
              " ('CVE', 10),\n",
              " ('Saúde', 10),\n",
              " ('Adolfo Lutz', 10),\n",
              " ('OMS', 10),\n",
              " ('Uip', 10),\n",
              " ('Secretário de Estado da Saúde', 10),\n",
              " ('R$', 10),\n",
              " ('Instituto Butantan', 10),\n",
              " ('Organização Mundial de Saúde', 10),\n",
              " ('Centro de Vigilância Epidemiológica', 10),\n",
              " ('A Secretaria Estadual de Saúde de São Paulo', 10),\n",
              " ('Paulo Menezes', 10),\n",
              " ('Centro de Contingenciamento de Emergências', 10),\n",
              " ('David Uip', 10),\n",
              " ('Ministério da Saúde', 10),\n",
              " ('Helena Sato', 10),\n",
              " ('estado de São Paulo', 10),\n",
              " ('Menezes', 10),\n",
              " ('José Henrique Germann', 10),\n",
              " ('COE', 10),\n",
              " ('São Paulo', 10),\n",
              " ('Itália', 10),\n",
              " ('Milão', 10),\n",
              " ('Campanha Nacional de Vacinação', 10)]"
            ]
          },
          "metadata": {
            "tags": []
          },
          "execution_count": 67
        }
      ]
    },
    {
      "cell_type": "markdown",
      "metadata": {
        "id": "4BAsLzS0E_b2"
      },
      "source": [
        "<b> Atividade </b>\n",
        "\n",
        "14) Para a notítica 0, imprima quais foram os tipos das entidades encontradas e plote um gráfico com esses dados.\n",
        "Faça uma análise desse resultado\n",
        "\n",
        "<i> Dica: label_ retorna o nome da entidade </i>"
      ]
    },
    {
      "cell_type": "code",
      "metadata": {
        "id": "qGQ1Zx-DE_b3"
      },
      "source": [
        "ents_noticia0 = Counter([ent.label_ for ent in texto_nlp[0].ents])"
      ],
      "execution_count": null,
      "outputs": []
    },
    {
      "cell_type": "code",
      "metadata": {
        "id": "62DjDd5X9uvq",
        "colab": {
          "base_uri": "https://localhost:8080/",
          "height": 34
        },
        "outputId": "7de66ae5-30df-4f20-c1e6-dc721670e4b1"
      },
      "source": [
        "dict(ents_noticia0)"
      ],
      "execution_count": null,
      "outputs": [
        {
          "output_type": "execute_result",
          "data": {
            "text/plain": [
              "{'LOC': 10, 'MISC': 4, 'ORG': 8, 'PER': 13}"
            ]
          },
          "metadata": {
            "tags": []
          },
          "execution_count": 74
        }
      ]
    },
    {
      "cell_type": "code",
      "metadata": {
        "id": "Q19yucFE-LAL",
        "colab": {
          "base_uri": "https://localhost:8080/",
          "height": 282
        },
        "outputId": "b8d6e4d4-d12a-4508-fbf6-d54f788de745"
      },
      "source": [
        "plt.bar(ents_noticia0.keys(), ents_noticia0.values())"
      ],
      "execution_count": null,
      "outputs": [
        {
          "output_type": "execute_result",
          "data": {
            "text/plain": [
              "<BarContainer object of 4 artists>"
            ]
          },
          "metadata": {
            "tags": []
          },
          "execution_count": 75
        },
        {
          "output_type": "display_data",
          "data": {
            "image/png": "[encoded data removed]",
            "text/plain": [
              "<Figure size 432x288 with 1 Axes>"
            ]
          },
          "metadata": {
            "tags": [],
            "needs_background": "light"
          }
        }
      ]
    },
    {
      "cell_type": "markdown",
      "metadata": {
        "id": "R-BVhj_3E_b8"
      },
      "source": [
        "<b> Atividade </b>\n",
        "\n",
        "15) Plote um gráfico com esses dados com todos os tipos das entidades de todas as notícias. Compare este resultado com o resultado da notícia 0."
      ]
    },
    {
      "cell_type": "code",
      "metadata": {
        "id": "hI9qnPOOE_b8"
      },
      "source": [],
      "execution_count": null,
      "outputs": []
    },
    {
      "cell_type": "markdown",
      "metadata": {
        "id": "xmReLMKJE_cF"
      },
      "source": [
        "<b> Atividade </b>\n",
        "\n",
        "16) Imprima a notícia 0, colorindo as entidades encontradas, para isto utilize o método abaixo:\n",
        "\n",
        "```python\n",
        "displacy.render(doc, jupyter=True, style='ent')\n",
        "```\n",
        "\n",
        "<i> Dica: entidades que existem no spacy https://spacy.io/api/annotation#section-named-entities\n",
        "\n",
        "Caso tenha dúvida sobre alguma marcalçao use:</i>\n",
        "\n",
        "```python\n",
        "spacy.explain(\"MISC\")\n",
        "```"
      ]
    },
    {
      "cell_type": "code",
      "metadata": {
        "id": "nWSlzm_u_Z-t",
        "colab": {
          "base_uri": "https://localhost:8080/",
          "height": 35
        },
        "outputId": "177d2c19-e687-4306-e9ba-1e542c060058"
      },
      "source": [
        "spacy.explain(\"ORG\")"
      ],
      "execution_count": null,
      "outputs": [
        {
          "output_type": "execute_result",
          "data": {
            "application/vnd.google.colaboratory.intrinsic+json": {
              "type": "string"
            },
            "text/plain": [
              "'Companies, agencies, institutions, etc.'"
            ]
          },
          "metadata": {
            "tags": []
          },
          "execution_count": 77
        }
      ]
    },
    {
      "cell_type": "code",
      "metadata": {
        "id": "9CgPMNVWE_cG",
        "colab": {
          "base_uri": "https://localhost:8080/",
          "height": 682
        },
        "outputId": "1ef3eda7-0cf1-4b70-887c-4893dfa44168"
      },
      "source": [
        "displacy.render(texto_nlp[0], jupyter=True, style='ent')"
      ],
      "execution_count": null,
      "outputs": [
        {
          "output_type": "display_data",
          "data": {
            "text/html": [
              "<span class=\"tex2jax_ignore\"><div class=\"entities\" style=\"line-height: 2.5; direction: ltr\"> \n",
              "<mark class=\"entity\" style=\"background: #ddd; padding: 0.45em 0.6em; margin: 0 0.25em; line-height: 1; border-radius: 0.35em;\">\n",
              "    A Secretaria Estadual de Saúde de São Paulo\n",
              "    <span style=\"font-size: 0.8em; font-weight: bold; line-height: 1; border-radius: 0.35em; text-transform: uppercase; vertical-align: middle; margin-left: 0.5rem\">MISC</span>\n",
              "</mark>\n",
              " divulgou nesta terça-feira (3) que caiu o número de pacientes com suspeita de coronavírus no estado. Enquanto na segunda-feira (2) eram 163 casos suspeitos, nesta terça são 130.  Foram descartados, ao todo, 104 casos no estado, destes, 56 foram nas últimas 24 horas. Entretanto, segundo informou a pasta, entre segunda (2) e terça (3), 23 novos surgiram.  Permanecem confirmados apenas 2 casos da doença no país, ambos no \n",
              "<mark class=\"entity\" style=\"background: #ff9561; padding: 0.45em 0.6em; margin: 0 0.25em; line-height: 1; border-radius: 0.35em;\">\n",
              "    estado de São Paulo\n",
              "    <span style=\"font-size: 0.8em; font-weight: bold; line-height: 1; border-radius: 0.35em; text-transform: uppercase; vertical-align: middle; margin-left: 0.5rem\">LOC</span>\n",
              "</mark>\n",
              ". Os pacientes estão em quarentena domiciliar. Ambos estiveram em viagem na \n",
              "<mark class=\"entity\" style=\"background: #ff9561; padding: 0.45em 0.6em; margin: 0 0.25em; line-height: 1; border-radius: 0.35em;\">\n",
              "    Itália\n",
              "    <span style=\"font-size: 0.8em; font-weight: bold; line-height: 1; border-radius: 0.35em; text-transform: uppercase; vertical-align: middle; margin-left: 0.5rem\">LOC</span>\n",
              "</mark>\n",
              ".  &quot;Os dois confirmados estão evoluindo bem clinicamente, mas ainda têm alguns sintomas que fazem com que eles continuem em isolamento domiciliar&quot;, salientou \n",
              "<mark class=\"entity\" style=\"background: #ddd; padding: 0.45em 0.6em; margin: 0 0.25em; line-height: 1; border-radius: 0.35em;\">\n",
              "    Paulo Menezes\n",
              "    <span style=\"font-size: 0.8em; font-weight: bold; line-height: 1; border-radius: 0.35em; text-transform: uppercase; vertical-align: middle; margin-left: 0.5rem\">PER</span>\n",
              "</mark>\n",
              ", coordenador do comitê de operações emergenciais (\n",
              "<mark class=\"entity\" style=\"background: #7aecec; padding: 0.45em 0.6em; margin: 0 0.25em; line-height: 1; border-radius: 0.35em;\">\n",
              "    COE\n",
              "    <span style=\"font-size: 0.8em; font-weight: bold; line-height: 1; border-radius: 0.35em; text-transform: uppercase; vertical-align: middle; margin-left: 0.5rem\">ORG</span>\n",
              "</mark>\n",
              ") da \n",
              "<mark class=\"entity\" style=\"background: #7aecec; padding: 0.45em 0.6em; margin: 0 0.25em; line-height: 1; border-radius: 0.35em;\">\n",
              "    Secretaria Estadual de Saúde\n",
              "    <span style=\"font-size: 0.8em; font-weight: bold; line-height: 1; border-radius: 0.35em; text-transform: uppercase; vertical-align: middle; margin-left: 0.5rem\">ORG</span>\n",
              "</mark>\n",
              ".  O número de pessoas que tiveram contato com o segundo caso confirmado não foi divulgado pela secretaria. No primeiro caso confirmado, eram 34 pessoas, entre passageiros do voo e familiares do paciente.  “Existem contactantes [do segundo caso], eles estão sendo monitorados, mas a gente não está divulgando mais números de contactantes por conta da privacidade das pessoas”, disse \n",
              "<mark class=\"entity\" style=\"background: #ddd; padding: 0.45em 0.6em; margin: 0 0.25em; line-height: 1; border-radius: 0.35em;\">\n",
              "    Paulo Menezes\n",
              "    <span style=\"font-size: 0.8em; font-weight: bold; line-height: 1; border-radius: 0.35em; text-transform: uppercase; vertical-align: middle; margin-left: 0.5rem\">PER</span>\n",
              "</mark>\n",
              ", coordenador do comitê de operações emergenciais (\n",
              "<mark class=\"entity\" style=\"background: #7aecec; padding: 0.45em 0.6em; margin: 0 0.25em; line-height: 1; border-radius: 0.35em;\">\n",
              "    COE\n",
              "    <span style=\"font-size: 0.8em; font-weight: bold; line-height: 1; border-radius: 0.35em; text-transform: uppercase; vertical-align: middle; margin-left: 0.5rem\">ORG</span>\n",
              "</mark>\n",
              ") do estado.  O secretário estadual de saúde destaca ainda que o segundo paciente confirmado foi cauteloso assim que percebeu os primeiros sintomas. “Ele foi muito cuidadoso colocou máscara antes do voo e foi pro hospital”, disse o secretário \n",
              "<mark class=\"entity\" style=\"background: #ddd; padding: 0.45em 0.6em; margin: 0 0.25em; line-height: 1; border-radius: 0.35em;\">\n",
              "    José Henrique Germann\n",
              "    <span style=\"font-size: 0.8em; font-weight: bold; line-height: 1; border-radius: 0.35em; text-transform: uppercase; vertical-align: middle; margin-left: 0.5rem\">PER</span>\n",
              "</mark>\n",
              ".  Participaram do evento também o coordenador do \n",
              "<mark class=\"entity\" style=\"background: #ff9561; padding: 0.45em 0.6em; margin: 0 0.25em; line-height: 1; border-radius: 0.35em;\">\n",
              "    Centro de Contingenciamento de Emergências\n",
              "    <span style=\"font-size: 0.8em; font-weight: bold; line-height: 1; border-radius: 0.35em; text-transform: uppercase; vertical-align: middle; margin-left: 0.5rem\">LOC</span>\n",
              "</mark>\n",
              " para o coronavírus do estado, o médico \n",
              "<mark class=\"entity\" style=\"background: #ddd; padding: 0.45em 0.6em; margin: 0 0.25em; line-height: 1; border-radius: 0.35em;\">\n",
              "    David Uip\n",
              "    <span style=\"font-size: 0.8em; font-weight: bold; line-height: 1; border-radius: 0.35em; text-transform: uppercase; vertical-align: middle; margin-left: 0.5rem\">PER</span>\n",
              "</mark>\n",
              ", o secretário estadual de saúde, \n",
              "<mark class=\"entity\" style=\"background: #ddd; padding: 0.45em 0.6em; margin: 0 0.25em; line-height: 1; border-radius: 0.35em;\">\n",
              "    José Henrique Germann\n",
              "    <span style=\"font-size: 0.8em; font-weight: bold; line-height: 1; border-radius: 0.35em; text-transform: uppercase; vertical-align: middle; margin-left: 0.5rem\">PER</span>\n",
              "</mark>\n",
              ", e \n",
              "<mark class=\"entity\" style=\"background: #ddd; padding: 0.45em 0.6em; margin: 0 0.25em; line-height: 1; border-radius: 0.35em;\">\n",
              "    Helena Sato\n",
              "    <span style=\"font-size: 0.8em; font-weight: bold; line-height: 1; border-radius: 0.35em; text-transform: uppercase; vertical-align: middle; margin-left: 0.5rem\">PER</span>\n",
              "</mark>\n",
              ", coordenadora do \n",
              "<mark class=\"entity\" style=\"background: #7aecec; padding: 0.45em 0.6em; margin: 0 0.25em; line-height: 1; border-radius: 0.35em;\">\n",
              "    Centro de Vigilância Epidemiológica\n",
              "    <span style=\"font-size: 0.8em; font-weight: bold; line-height: 1; border-radius: 0.35em; text-transform: uppercase; vertical-align: middle; margin-left: 0.5rem\">ORG</span>\n",
              "</mark>\n",
              " (\n",
              "<mark class=\"entity\" style=\"background: #ddd; padding: 0.45em 0.6em; margin: 0 0.25em; line-height: 1; border-radius: 0.35em;\">\n",
              "    CVE\n",
              "    <span style=\"font-size: 0.8em; font-weight: bold; line-height: 1; border-radius: 0.35em; text-transform: uppercase; vertical-align: middle; margin-left: 0.5rem\">MISC</span>\n",
              "</mark>\n",
              ") estadual.  Segundo \n",
              "<mark class=\"entity\" style=\"background: #ddd; padding: 0.45em 0.6em; margin: 0 0.25em; line-height: 1; border-radius: 0.35em;\">\n",
              "    Uip\n",
              "    <span style=\"font-size: 0.8em; font-weight: bold; line-height: 1; border-radius: 0.35em; text-transform: uppercase; vertical-align: middle; margin-left: 0.5rem\">PER</span>\n",
              "</mark>\n",
              ", o laboratório \n",
              "<mark class=\"entity\" style=\"background: #ddd; padding: 0.45em 0.6em; margin: 0 0.25em; line-height: 1; border-radius: 0.35em;\">\n",
              "    Adolfo Lutz\n",
              "    <span style=\"font-size: 0.8em; font-weight: bold; line-height: 1; border-radius: 0.35em; text-transform: uppercase; vertical-align: middle; margin-left: 0.5rem\">PER</span>\n",
              "</mark>\n",
              ", onde os testes são realizados, irá &quot;qualificar outros laboratórios&quot; para realizar o exame.  &quot;De ontem pra hoje, nós descartamos 56 daqueles 163. Já tiveram seus exames negativos. E tivemos a inclusão de notificações de 23 novas pessoas. Então somamos 130 casos suspeitos. São todos viajantes. Os casos suspeitos que tínhamos de contactantes dos casos confirmados já foram descartados&quot;, disse \n",
              "<mark class=\"entity\" style=\"background: #ddd; padding: 0.45em 0.6em; margin: 0 0.25em; line-height: 1; border-radius: 0.35em;\">\n",
              "    Menezes\n",
              "    <span style=\"font-size: 0.8em; font-weight: bold; line-height: 1; border-radius: 0.35em; text-transform: uppercase; vertical-align: middle; margin-left: 0.5rem\">PER</span>\n",
              "</mark>\n",
              ".  Segundo a metodologia da \n",
              "<mark class=\"entity\" style=\"background: #ddd; padding: 0.45em 0.6em; margin: 0 0.25em; line-height: 1; border-radius: 0.35em;\">\n",
              "    Secretaria Estadual de Saúde\n",
              "    <span style=\"font-size: 0.8em; font-weight: bold; line-height: 1; border-radius: 0.35em; text-transform: uppercase; vertical-align: middle; margin-left: 0.5rem\">MISC</span>\n",
              "</mark>\n",
              ", para um caso ser considerado suspeito é necessário que o paciente tenha apresentado, além dos sintomas, histórico de viagem ou contato com caso suspeito.  No sábado (29), a \n",
              "<mark class=\"entity\" style=\"background: #ddd; padding: 0.45em 0.6em; margin: 0 0.25em; line-height: 1; border-radius: 0.35em;\">\n",
              "    Secretaria Estadual de Saúde\n",
              "    <span style=\"font-size: 0.8em; font-weight: bold; line-height: 1; border-radius: 0.35em; text-transform: uppercase; vertical-align: middle; margin-left: 0.5rem\">MISC</span>\n",
              "</mark>\n",
              " e o \n",
              "<mark class=\"entity\" style=\"background: #ff9561; padding: 0.45em 0.6em; margin: 0 0.25em; line-height: 1; border-radius: 0.35em;\">\n",
              "    Ministério da Saúde\n",
              "    <span style=\"font-size: 0.8em; font-weight: bold; line-height: 1; border-radius: 0.35em; text-transform: uppercase; vertical-align: middle; margin-left: 0.5rem\">LOC</span>\n",
              "</mark>\n",
              " confirmaram o segundo caso de coronavírus no estado. Trata-se de um homem de 32 anos que reside em \n",
              "<mark class=\"entity\" style=\"background: #ff9561; padding: 0.45em 0.6em; margin: 0 0.25em; line-height: 1; border-radius: 0.35em;\">\n",
              "    São Paulo\n",
              "    <span style=\"font-size: 0.8em; font-weight: bold; line-height: 1; border-radius: 0.35em; text-transform: uppercase; vertical-align: middle; margin-left: 0.5rem\">LOC</span>\n",
              "</mark>\n",
              " e que chegou de \n",
              "<mark class=\"entity\" style=\"background: #ff9561; padding: 0.45em 0.6em; margin: 0 0.25em; line-height: 1; border-radius: 0.35em;\">\n",
              "    Milão\n",
              "    <span style=\"font-size: 0.8em; font-weight: bold; line-height: 1; border-radius: 0.35em; text-transform: uppercase; vertical-align: middle; margin-left: 0.5rem\">LOC</span>\n",
              "</mark>\n",
              ", na \n",
              "<mark class=\"entity\" style=\"background: #ff9561; padding: 0.45em 0.6em; margin: 0 0.25em; line-height: 1; border-radius: 0.35em;\">\n",
              "    Itália\n",
              "    <span style=\"font-size: 0.8em; font-weight: bold; line-height: 1; border-radius: 0.35em; text-transform: uppercase; vertical-align: middle; margin-left: 0.5rem\">LOC</span>\n",
              "</mark>\n",
              ", na quinta-feira (27).  Mesmo com a segunda confirmação, não há mudança da situação nacional, pois não existem evidências de circulação sustentada do vírus em território brasileiro.  A tendência é que, a partir dos próximos dias, o padrão de identificação dos casos suspeitos mude. Segundo \n",
              "<mark class=\"entity\" style=\"background: #ddd; padding: 0.45em 0.6em; margin: 0 0.25em; line-height: 1; border-radius: 0.35em;\">\n",
              "    Menezes\n",
              "    <span style=\"font-size: 0.8em; font-weight: bold; line-height: 1; border-radius: 0.35em; text-transform: uppercase; vertical-align: middle; margin-left: 0.5rem\">PER</span>\n",
              "</mark>\n",
              ", &quot;daqui a alguns dias nós vamos trabalhar por gravidade e não por procedência pra fazer a identificação dos casos suspeitos&quot;.  &quot;Eu concordo com o ministério da \n",
              "<mark class=\"entity\" style=\"background: #ff9561; padding: 0.45em 0.6em; margin: 0 0.25em; line-height: 1; border-radius: 0.35em;\">\n",
              "    Saúde\n",
              "    <span style=\"font-size: 0.8em; font-weight: bold; line-height: 1; border-radius: 0.35em; text-transform: uppercase; vertical-align: middle; margin-left: 0.5rem\">LOC</span>\n",
              "</mark>\n",
              ": eu acho que estamos em um momento de pandemia há dias. Meu sentimento pessoal é de que estamos em um momento pandêmico&quot;, salientou \n",
              "<mark class=\"entity\" style=\"background: #ff9561; padding: 0.45em 0.6em; margin: 0 0.25em; line-height: 1; border-radius: 0.35em;\">\n",
              "    Uip\n",
              "    <span style=\"font-size: 0.8em; font-weight: bold; line-height: 1; border-radius: 0.35em; text-transform: uppercase; vertical-align: middle; margin-left: 0.5rem\">LOC</span>\n",
              "</mark>\n",
              ".  A \n",
              "<mark class=\"entity\" style=\"background: #7aecec; padding: 0.45em 0.6em; margin: 0 0.25em; line-height: 1; border-radius: 0.35em;\">\n",
              "    Organização Mundial de Saúde\n",
              "    <span style=\"font-size: 0.8em; font-weight: bold; line-height: 1; border-radius: 0.35em; text-transform: uppercase; vertical-align: middle; margin-left: 0.5rem\">ORG</span>\n",
              "</mark>\n",
              " (\n",
              "<mark class=\"entity\" style=\"background: #7aecec; padding: 0.45em 0.6em; margin: 0 0.25em; line-height: 1; border-radius: 0.35em;\">\n",
              "    OMS\n",
              "    <span style=\"font-size: 0.8em; font-weight: bold; line-height: 1; border-radius: 0.35em; text-transform: uppercase; vertical-align: middle; margin-left: 0.5rem\">ORG</span>\n",
              "</mark>\n",
              ") é que define os critérios e se a doença é caracterizada ou não como pandemia.  O governo estadual lançou uma cartilha de orientação e prevenção do coronavírus em cinco idiomas - português, inglês, espanhol, italiano e chinês - na versão impressa e eletrônica. O estado irá liberar \n",
              "<mark class=\"entity\" style=\"background: #ddd; padding: 0.45em 0.6em; margin: 0 0.25em; line-height: 1; border-radius: 0.35em;\">\n",
              "    R$\n",
              "    <span style=\"font-size: 0.8em; font-weight: bold; line-height: 1; border-radius: 0.35em; text-transform: uppercase; vertical-align: middle; margin-left: 0.5rem\">PER</span>\n",
              "</mark>\n",
              " 30 milhões em recursos para as ações de prevenção e informação.  Após a confirmação de um caso, o governo estadual anunciou a criação de um centro de contingência para monitorar casos de coronavírus no estado. A função do centro de contingência é coordenar ações contra a propagação do Covid-19. O grupo é presidido pelo infectologista \n",
              "<mark class=\"entity\" style=\"background: #ddd; padding: 0.45em 0.6em; margin: 0 0.25em; line-height: 1; border-radius: 0.35em;\">\n",
              "    David Uip\n",
              "    <span style=\"font-size: 0.8em; font-weight: bold; line-height: 1; border-radius: 0.35em; text-transform: uppercase; vertical-align: middle; margin-left: 0.5rem\">PER</span>\n",
              "</mark>\n",
              " e conta com profissionais do \n",
              "<mark class=\"entity\" style=\"background: #ff9561; padding: 0.45em 0.6em; margin: 0 0.25em; line-height: 1; border-radius: 0.35em;\">\n",
              "    Instituto Butantan\n",
              "    <span style=\"font-size: 0.8em; font-weight: bold; line-height: 1; border-radius: 0.35em; text-transform: uppercase; vertical-align: middle; margin-left: 0.5rem\">LOC</span>\n",
              "</mark>\n",
              " e médicos das redes pública e privada, sob a supervisão do \n",
              "<mark class=\"entity\" style=\"background: #7aecec; padding: 0.45em 0.6em; margin: 0 0.25em; line-height: 1; border-radius: 0.35em;\">\n",
              "    Secretário de Estado da Saúde\n",
              "    <span style=\"font-size: 0.8em; font-weight: bold; line-height: 1; border-radius: 0.35em; text-transform: uppercase; vertical-align: middle; margin-left: 0.5rem\">ORG</span>\n",
              "</mark>\n",
              ", \n",
              "<mark class=\"entity\" style=\"background: #ddd; padding: 0.45em 0.6em; margin: 0 0.25em; line-height: 1; border-radius: 0.35em;\">\n",
              "    José Henrique Germann\n",
              "    <span style=\"font-size: 0.8em; font-weight: bold; line-height: 1; border-radius: 0.35em; text-transform: uppercase; vertical-align: middle; margin-left: 0.5rem\">PER</span>\n",
              "</mark>\n",
              ".  Nesta quinta-feira (27), o governo federal anunciou que vai antecipar para 23 de março a \n",
              "<mark class=\"entity\" style=\"background: #7aecec; padding: 0.45em 0.6em; margin: 0 0.25em; line-height: 1; border-radius: 0.35em;\">\n",
              "    Campanha Nacional de Vacinação\n",
              "    <span style=\"font-size: 0.8em; font-weight: bold; line-height: 1; border-radius: 0.35em; text-transform: uppercase; vertical-align: middle; margin-left: 0.5rem\">ORG</span>\n",
              "</mark>\n",
              " contra a gripe – anteriormente, a abertura estava prevista para a segunda quinzena de abril.  A vacina contra a gripe não protege contra o novo coronavírus, mas, sim, contra tipos de influenza (família à qual pertence o H1N1, por exemplo). E justamente por isso pode ajudar profissionais de saúde a diagnosticar – por eliminação – eventuais casos de Covid-19.  Quem for viajar aos locais com circulação do vírus deve evitar contato com pessoas doentes, animais (vivos ou mortos), e a circulação em mercados de animais e seus produtos. </div></span>"
            ],
            "text/plain": [
              "<IPython.core.display.HTML object>"
            ]
          },
          "metadata": {
            "tags": []
          }
        }
      ]
    },
    {
      "cell_type": "code",
      "metadata": {
        "id": "tz8dJ8EBE_cJ"
      },
      "source": [],
      "execution_count": null,
      "outputs": []
    },
    {
      "cell_type": "markdown",
      "metadata": {
        "id": "TWevegwzE_cL"
      },
      "source": [
        "<b> Atividade </b>\n",
        "\n",
        "17) Seja o documento 0 sua referência. Calcule a similaridade das entidades do documento 0 com todos outros 9. Para calcular a similaridade utilize o método jacard (implementado na aula 3)."
      ]
    },
    {
      "cell_type": "code",
      "metadata": {
        "id": "ZdcJPSpLE_cM"
      },
      "source": [
        "def jaccard_similarity(list1, list2):\n",
        "  s1 = set(list1)\n",
        "  s2 = set(list2)\n",
        "  return len(s1.intersection(s2)) / len(s1.union(s2))\n"
      ],
      "execution_count": null,
      "outputs": []
    },
    {
      "cell_type": "code",
      "metadata": {
        "id": "uj3sDljME_cR",
        "colab": {
          "base_uri": "https://localhost:8080/",
          "height": 170
        },
        "outputId": "64807fcc-174c-4783-df36-892dee4dbf89"
      },
      "source": [
        "for i in range(1, 10):\n",
        "  print(\" 0 e \", i, '=',jaccard_similarity(entidades[0], entidades[i]))"
      ],
      "execution_count": null,
      "outputs": [
        {
          "output_type": "stream",
          "text": [
            " 0 e  1 = 1.0\n",
            " 0 e  2 = 1.0\n",
            " 0 e  3 = 1.0\n",
            " 0 e  4 = 1.0\n",
            " 0 e  5 = 1.0\n",
            " 0 e  6 = 1.0\n",
            " 0 e  7 = 1.0\n",
            " 0 e  8 = 1.0\n",
            " 0 e  9 = 1.0\n"
          ],
          "name": "stdout"
        }
      ]
    },
    {
      "cell_type": "markdown",
      "metadata": {
        "id": "k_ETxdiVE_cU"
      },
      "source": [
        "<b> Atividade </b>\n",
        "\n",
        "18) Com os cálculos da questão anterior, responda: quais foram os três documentos com maior similaridade? Eles posssuem conteúdos semelhantes? E qual o documento com menor similaridade? Este documento faz sentido?"
      ]
    },
    {
      "cell_type": "markdown",
      "metadata": {
        "id": "kcYdFHYDKa4g"
      },
      "source": [
        "Todos tiveram mesma similaridade"
      ]
    },
    {
      "cell_type": "markdown",
      "metadata": {
        "id": "At6CyFbSE_ch"
      },
      "source": [
        "## Retreino NER\n",
        "\n",
        "Aqui nós iremos ilustrar como treinar um modelo NER no spacy"
      ]
    },
    {
      "cell_type": "code",
      "metadata": {
        "id": "FFl2EfdmE_ch"
      },
      "source": [
        "nlp = pt_core_news_sm.load()"
      ],
      "execution_count": null,
      "outputs": []
    },
    {
      "cell_type": "code",
      "metadata": {
        "id": "rKWG44ZHE_cl"
      },
      "source": [
        "texto = \"João nasceu em Paris em 01/01/2000\""
      ],
      "execution_count": null,
      "outputs": []
    },
    {
      "cell_type": "code",
      "metadata": {
        "id": "fyqBbBK2E_cn"
      },
      "source": [
        "texto_nlp = nlp(texto)"
      ],
      "execution_count": null,
      "outputs": []
    },
    {
      "cell_type": "code",
      "metadata": {
        "id": "J86O5tC2E_cq",
        "colab": {
          "base_uri": "https://localhost:8080/",
          "height": 52
        },
        "outputId": "979e5dc3-fab4-4e3a-e4d9-1c9a45442b63"
      },
      "source": [
        "displacy.render(texto_nlp, style='ent',jupyter=True)"
      ],
      "execution_count": null,
      "outputs": [
        {
          "output_type": "display_data",
          "data": {
            "text/html": [
              "<span class=\"tex2jax_ignore\"><div class=\"entities\" style=\"line-height: 2.5; direction: ltr\">\n",
              "<mark class=\"entity\" style=\"background: #ddd; padding: 0.45em 0.6em; margin: 0 0.25em; line-height: 1; border-radius: 0.35em;\">\n",
              "    João\n",
              "    <span style=\"font-size: 0.8em; font-weight: bold; line-height: 1; border-radius: 0.35em; text-transform: uppercase; vertical-align: middle; margin-left: 0.5rem\">PER</span>\n",
              "</mark>\n",
              " nasceu em \n",
              "<mark class=\"entity\" style=\"background: #ff9561; padding: 0.45em 0.6em; margin: 0 0.25em; line-height: 1; border-radius: 0.35em;\">\n",
              "    Paris\n",
              "    <span style=\"font-size: 0.8em; font-weight: bold; line-height: 1; border-radius: 0.35em; text-transform: uppercase; vertical-align: middle; margin-left: 0.5rem\">LOC</span>\n",
              "</mark>\n",
              " em 01/01/2000</div></span>"
            ],
            "text/plain": [
              "<IPython.core.display.HTML object>"
            ]
          },
          "metadata": {
            "tags": []
          }
        }
      ]
    },
    {
      "cell_type": "markdown",
      "metadata": {
        "id": "v73Glcd-E_ct"
      },
      "source": [
        "Observe que o modelo identifica <b> João </b> como pessoa e <b> Paris </b> como localidade.\n",
        "\n",
        "Apesar do modelo ter identificado essas duas entidades ele naõ identificou a <b> data </b>.\n",
        "\n",
        "Assim, aqui iremos mostrar como retreinar o modelo para capturar também a data.\n"
      ]
    },
    {
      "cell_type": "code",
      "metadata": {
        "id": "P7PcfwCvE_cv"
      },
      "source": [
        "#dados de treino. Note que para cada frase, a posição de uma determinada entidade.\n",
        "train_data = [\n",
        "(\"Em 04/12/1992 nasceu Joana\", {'entities':[(3, 13, \"DATE\"), (21,26, \"PER\")]}),\n",
        "(\"Data de início: 10/01/2018\", {'entities':[(16, 26, \"DATE\")]}),\n",
        "(\"Maria se mudou para Paris\", {'entities':[(20,26, \"LOC\")]}),\n",
        "(\"Paris cidade das luzes\", {'entities':[(0,5, \"LOC\")]}),\n",
        "(\"Maria nasceu em Contagem no dia 07/05/2018\", {'entities':[(0,5,\"PER\"),(16,24,\"LOC\"),(32,42, \"DATE\")]})\n",
        "]"
      ],
      "execution_count": null,
      "outputs": []
    },
    {
      "cell_type": "markdown",
      "metadata": {
        "id": "oCF4zOHYE_cy"
      },
      "source": [
        "### Retreino\n",
        "\n",
        "- explosion/spaCy/master/examples/training/train_ner.py -> O spcay disponibiliza esse código para treinamentos.\n",
        "- Mais informações? https://spacy.io/usage/training"
      ]
    },
    {
      "cell_type": "code",
      "metadata": {
        "id": "49SQ4pMGE_cz"
      },
      "source": [
        "def train_spacy(data, iterations):\n",
        "    TRAIN_DATA = data\n",
        "    nlp = spacy.blank('pt')  # create blank Language class\n",
        "    # create the built-in pipeline components and add them to the pipeline\n",
        "    # nlp.create_pipe works for built-ins that are registered with spaCy\n",
        "    if 'ner' not in nlp.pipe_names:\n",
        "        ner = nlp.create_pipe('ner')\n",
        "        nlp.add_pipe(ner, last=True)\n",
        "\n",
        "\n",
        "    # add labels\n",
        "    for _, annotations in TRAIN_DATA:\n",
        "         for ent in annotations.get('entities'):\n",
        "            ner.add_label(ent[2])\n",
        "\n",
        "    # get names of other pipes to disable them during training\n",
        "    other_pipes = [pipe for pipe in nlp.pipe_names if pipe != 'ner']\n",
        "    with nlp.disable_pipes(*other_pipes):  # only train NER\n",
        "        optimizer = nlp.begin_training()\n",
        "        for itn in range(iterations):\n",
        "            random.shuffle(TRAIN_DATA)\n",
        "            losses = {}\n",
        "            for text, annotations in TRAIN_DATA:\n",
        "                nlp.update(\n",
        "                    [text],  # batch of texts\n",
        "                    [annotations],  # batch of annotations\n",
        "                    drop=0.2,  # dropout - make it harder to memorise data\n",
        "                    sgd=optimizer,  # callable to update weights\n",
        "                    losses=losses)\n",
        "    return nlp"
      ],
      "execution_count": null,
      "outputs": []
    },
    {
      "cell_type": "code",
      "metadata": {
        "id": "s5nsnx5oE_c2"
      },
      "source": [
        "modelo_novo = train_spacy(train_data, 30)"
      ],
      "execution_count": null,
      "outputs": []
    },
    {
      "cell_type": "code",
      "metadata": {
        "id": "bFxNgYl6E_c4"
      },
      "source": [
        "modelo_novo.to_disk(\"modelo_novo_NER\")"
      ],
      "execution_count": null,
      "outputs": []
    },
    {
      "cell_type": "markdown",
      "metadata": {
        "id": "57SndPG4E_c7"
      },
      "source": [
        "<b> Atividade </b>\n",
        "\n",
        "19) O ``modelo_novo`` já foi criado. Aplique o texto em que demonstramos que a data não foi identificada e depois imprima utilizando o ``displacy``.\n",
        "O problema foi resolvido? E se mudarmos o formato da data, ele reconhce? Quais outras entidades o modelo não consegue reconhecer?"
      ]
    },
    {
      "cell_type": "code",
      "metadata": {
        "id": "aGl6dMmYE_c7"
      },
      "source": [
        "texto_nlp = modelo_novo(texto)"
      ],
      "execution_count": null,
      "outputs": []
    },
    {
      "cell_type": "code",
      "metadata": {
        "id": "U57H4z3WE_c9",
        "colab": {
          "base_uri": "https://localhost:8080/",
          "height": 34
        },
        "outputId": "c6a9cd52-9666-4ef0-c54f-fe9d99171c7e"
      },
      "source": [
        "texto_nlp"
      ],
      "execution_count": null,
      "outputs": [
        {
          "output_type": "execute_result",
          "data": {
            "text/plain": [
              "João nasceu em Paris em 01/01/2000"
            ]
          },
          "metadata": {
            "tags": []
          },
          "execution_count": 105
        }
      ]
    },
    {
      "cell_type": "code",
      "metadata": {
        "id": "BQZEqF50Ez5p",
        "colab": {
          "base_uri": "https://localhost:8080/",
          "height": 52
        },
        "outputId": "8ac3b852-0a84-45fb-e1ee-bf5105321a19"
      },
      "source": [
        "displacy.render(texto_nlp, style='ent', jupyter=True)"
      ],
      "execution_count": null,
      "outputs": [
        {
          "output_type": "display_data",
          "data": {
            "text/html": [
              "<span class=\"tex2jax_ignore\"><div class=\"entities\" style=\"line-height: 2.5; direction: ltr\">\n",
              "<mark class=\"entity\" style=\"background: #ddd; padding: 0.45em 0.6em; margin: 0 0.25em; line-height: 1; border-radius: 0.35em;\">\n",
              "    João\n",
              "    <span style=\"font-size: 0.8em; font-weight: bold; line-height: 1; border-radius: 0.35em; text-transform: uppercase; vertical-align: middle; margin-left: 0.5rem\">PER</span>\n",
              "</mark>\n",
              " nasceu em \n",
              "<mark class=\"entity\" style=\"background: #ff9561; padding: 0.45em 0.6em; margin: 0 0.25em; line-height: 1; border-radius: 0.35em;\">\n",
              "    Paris\n",
              "    <span style=\"font-size: 0.8em; font-weight: bold; line-height: 1; border-radius: 0.35em; text-transform: uppercase; vertical-align: middle; margin-left: 0.5rem\">LOC</span>\n",
              "</mark>\n",
              " em \n",
              "<mark class=\"entity\" style=\"background: #bfe1d9; padding: 0.45em 0.6em; margin: 0 0.25em; line-height: 1; border-radius: 0.35em;\">\n",
              "    01/01/2000\n",
              "    <span style=\"font-size: 0.8em; font-weight: bold; line-height: 1; border-radius: 0.35em; text-transform: uppercase; vertical-align: middle; margin-left: 0.5rem\">DATE</span>\n",
              "</mark>\n",
              "</div></span>"
            ],
            "text/plain": [
              "<IPython.core.display.HTML object>"
            ]
          },
          "metadata": {
            "tags": []
          }
        }
      ]
    },
    {
      "cell_type": "code",
      "metadata": {
        "id": "xChznU-3FJGR"
      },
      "source": [],
      "execution_count": null,
      "outputs": []
    }
  ]
}
