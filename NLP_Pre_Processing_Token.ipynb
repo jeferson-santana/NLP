{
  "nbformat": 4,
  "nbformat_minor": 0,
  "metadata": {
    "colab": {
      "provenance": [],
      "collapsed_sections": [
        "7c_d3n-ZE2S4",
        "CpfoYKAaE2TM",
        "2NTIYrv2E2Tb",
        "1Q5VxGluE2Tq",
        "wlWiVFncE2Tu",
        "LlBxPaX5E2XT",
        "BOTrcV8QE2XU"
      ]
    },
    "kernelspec": {
      "display_name": "Python 3",
      "language": "python",
      "name": "python3"
    },
    "language_info": {
      "codemirror_mode": {
        "name": "ipython",
        "version": 3
      },
      "file_extension": ".py",
      "mimetype": "text/x-python",
      "name": "python",
      "nbconvert_exporter": "python",
      "pygments_lexer": "ipython3",
      "version": "3.7.4"
    }
  },
  "cells": [
    {
      "cell_type": "code",
      "metadata": {
        "id": "q5gScmrSE2SB",
        "outputId": "f907a60e-801f-4c23-e277-2d4e129adbe4"
      },
      "source": [
        "!python -m pip install --upgrade pip\n",
        "!pip install unidecode\n",
        "!pip install wikipedia\n",
        "!pip install spacy\n",
        "!python -m spacy download en\n",
        "!python -m spacy download pt"
      ],
      "execution_count": null,
      "outputs": [
        {
          "output_type": "stream",
          "text": [
            "Requirement already up-to-date: pip in c:\\users\\user\\opencv\\lib\\site-packages (20.2.1)\n",
            "Requirement already satisfied: unidecode in c:\\users\\user\\opencv\\lib\\site-packages (1.1.1)\n",
            "Requirement already satisfied: wikipedia in c:\\users\\user\\opencv\\lib\\site-packages (1.4.0)\n",
            "Requirement already satisfied: beautifulsoup4 in c:\\users\\user\\opencv\\lib\\site-packages (from wikipedia) (4.9.1)\n",
            "Requirement already satisfied: requests<3.0.0,>=2.0.0 in c:\\users\\user\\opencv\\lib\\site-packages (from wikipedia) (2.24.0)\n",
            "Requirement already satisfied: soupsieve>1.2 in c:\\users\\user\\opencv\\lib\\site-packages (from beautifulsoup4->wikipedia) (2.0.1)\n",
            "Requirement already satisfied: idna<3,>=2.5 in c:\\users\\user\\opencv\\lib\\site-packages (from requests<3.0.0,>=2.0.0->wikipedia) (2.10)\n",
            "Requirement already satisfied: certifi>=2017.4.17 in c:\\users\\user\\opencv\\lib\\site-packages (from requests<3.0.0,>=2.0.0->wikipedia) (2020.6.20)\n",
            "Requirement already satisfied: urllib3!=1.25.0,!=1.25.1,<1.26,>=1.21.1 in c:\\users\\user\\opencv\\lib\\site-packages (from requests<3.0.0,>=2.0.0->wikipedia) (1.25.10)\n",
            "Requirement already satisfied: chardet<4,>=3.0.2 in c:\\users\\user\\opencv\\lib\\site-packages (from requests<3.0.0,>=2.0.0->wikipedia) (3.0.4)\n",
            "Requirement already satisfied: spacy in c:\\users\\user\\opencv\\lib\\site-packages (2.3.2)\n",
            "Requirement already satisfied: srsly<1.1.0,>=1.0.2 in c:\\users\\user\\opencv\\lib\\site-packages (from spacy) (1.0.2)\n",
            "Requirement already satisfied: preshed<3.1.0,>=3.0.2 in c:\\users\\user\\opencv\\lib\\site-packages (from spacy) (3.0.2)\n",
            "Requirement already satisfied: tqdm<5.0.0,>=4.38.0 in c:\\users\\user\\opencv\\lib\\site-packages (from spacy) (4.48.2)\n",
            "Requirement already satisfied: numpy>=1.15.0 in c:\\users\\user\\opencv\\lib\\site-packages (from spacy) (1.19.0)\n",
            "Requirement already satisfied: cymem<2.1.0,>=2.0.2 in c:\\users\\user\\opencv\\lib\\site-packages (from spacy) (2.0.3)\n",
            "Requirement already satisfied: thinc==7.4.1 in c:\\users\\user\\opencv\\lib\\site-packages (from spacy) (7.4.1)\n",
            "Requirement already satisfied: murmurhash<1.1.0,>=0.28.0 in c:\\users\\user\\opencv\\lib\\site-packages (from spacy) (1.0.2)\n",
            "Requirement already satisfied: requests<3.0.0,>=2.13.0 in c:\\users\\user\\opencv\\lib\\site-packages (from spacy) (2.24.0)\n",
            "Requirement already satisfied: catalogue<1.1.0,>=0.0.7 in c:\\users\\user\\opencv\\lib\\site-packages (from spacy) (1.0.0)\n",
            "Requirement already satisfied: blis<0.5.0,>=0.4.0 in c:\\users\\user\\opencv\\lib\\site-packages (from spacy) (0.4.1)\n",
            "Requirement already satisfied: wasabi<1.1.0,>=0.4.0 in c:\\users\\user\\opencv\\lib\\site-packages (from spacy) (0.7.1)\n",
            "Requirement already satisfied: plac<1.2.0,>=0.9.6 in c:\\users\\user\\opencv\\lib\\site-packages (from spacy) (1.1.3)\n",
            "Requirement already satisfied: setuptools in c:\\users\\user\\opencv\\lib\\site-packages (from spacy) (49.1.0)\n",
            "Requirement already satisfied: urllib3!=1.25.0,!=1.25.1,<1.26,>=1.21.1 in c:\\users\\user\\opencv\\lib\\site-packages (from requests<3.0.0,>=2.13.0->spacy) (1.25.10)\n",
            "Requirement already satisfied: idna<3,>=2.5 in c:\\users\\user\\opencv\\lib\\site-packages (from requests<3.0.0,>=2.13.0->spacy) (2.10)\n",
            "Requirement already satisfied: certifi>=2017.4.17 in c:\\users\\user\\opencv\\lib\\site-packages (from requests<3.0.0,>=2.13.0->spacy) (2020.6.20)\n",
            "Requirement already satisfied: chardet<4,>=3.0.2 in c:\\users\\user\\opencv\\lib\\site-packages (from requests<3.0.0,>=2.13.0->spacy) (3.0.4)\n",
            "Requirement already satisfied: importlib-metadata>=0.20; python_version < \"3.8\" in c:\\users\\user\\opencv\\lib\\site-packages (from catalogue<1.1.0,>=0.0.7->spacy) (1.7.0)\n",
            "Requirement already satisfied: zipp>=0.5 in c:\\users\\user\\opencv\\lib\\site-packages (from importlib-metadata>=0.20; python_version < \"3.8\"->catalogue<1.1.0,>=0.0.7->spacy) (3.1.0)\n",
            "Requirement already satisfied: en_core_web_sm==2.3.1 from https://github.com/explosion/spacy-models/releases/download/en_core_web_sm-2.3.1/en_core_web_sm-2.3.1.tar.gz#egg=en_core_web_sm==2.3.1 in c:\\users\\user\\opencv\\lib\\site-packages (2.3.1)\n",
            "Requirement already satisfied: spacy<2.4.0,>=2.3.0 in c:\\users\\user\\opencv\\lib\\site-packages (from en_core_web_sm==2.3.1) (2.3.2)\n",
            "Requirement already satisfied: tqdm<5.0.0,>=4.38.0 in c:\\users\\user\\opencv\\lib\\site-packages (from spacy<2.4.0,>=2.3.0->en_core_web_sm==2.3.1) (4.48.2)\n",
            "Requirement already satisfied: plac<1.2.0,>=0.9.6 in c:\\users\\user\\opencv\\lib\\site-packages (from spacy<2.4.0,>=2.3.0->en_core_web_sm==2.3.1) (1.1.3)\n",
            "Requirement already satisfied: numpy>=1.15.0 in c:\\users\\user\\opencv\\lib\\site-packages (from spacy<2.4.0,>=2.3.0->en_core_web_sm==2.3.1) (1.19.0)\n",
            "Requirement already satisfied: wasabi<1.1.0,>=0.4.0 in c:\\users\\user\\opencv\\lib\\site-packages (from spacy<2.4.0,>=2.3.0->en_core_web_sm==2.3.1) (0.7.1)\n",
            "Requirement already satisfied: blis<0.5.0,>=0.4.0 in c:\\users\\user\\opencv\\lib\\site-packages (from spacy<2.4.0,>=2.3.0->en_core_web_sm==2.3.1) (0.4.1)\n",
            "Requirement already satisfied: requests<3.0.0,>=2.13.0 in c:\\users\\user\\opencv\\lib\\site-packages (from spacy<2.4.0,>=2.3.0->en_core_web_sm==2.3.1) (2.24.0)\n",
            "Requirement already satisfied: catalogue<1.1.0,>=0.0.7 in c:\\users\\user\\opencv\\lib\\site-packages (from spacy<2.4.0,>=2.3.0->en_core_web_sm==2.3.1) (1.0.0)\n",
            "Requirement already satisfied: setuptools in c:\\users\\user\\opencv\\lib\\site-packages (from spacy<2.4.0,>=2.3.0->en_core_web_sm==2.3.1) (49.1.0)\n",
            "Requirement already satisfied: murmurhash<1.1.0,>=0.28.0 in c:\\users\\user\\opencv\\lib\\site-packages (from spacy<2.4.0,>=2.3.0->en_core_web_sm==2.3.1) (1.0.2)\n",
            "Requirement already satisfied: preshed<3.1.0,>=3.0.2 in c:\\users\\user\\opencv\\lib\\site-packages (from spacy<2.4.0,>=2.3.0->en_core_web_sm==2.3.1) (3.0.2)\n",
            "Requirement already satisfied: srsly<1.1.0,>=1.0.2 in c:\\users\\user\\opencv\\lib\\site-packages (from spacy<2.4.0,>=2.3.0->en_core_web_sm==2.3.1) (1.0.2)\n",
            "Requirement already satisfied: cymem<2.1.0,>=2.0.2 in c:\\users\\user\\opencv\\lib\\site-packages (from spacy<2.4.0,>=2.3.0->en_core_web_sm==2.3.1) (2.0.3)\n",
            "Requirement already satisfied: thinc==7.4.1 in c:\\users\\user\\opencv\\lib\\site-packages (from spacy<2.4.0,>=2.3.0->en_core_web_sm==2.3.1) (7.4.1)\n",
            "Requirement already satisfied: chardet<4,>=3.0.2 in c:\\users\\user\\opencv\\lib\\site-packages (from requests<3.0.0,>=2.13.0->spacy<2.4.0,>=2.3.0->en_core_web_sm==2.3.1) (3.0.4)\n",
            "Requirement already satisfied: idna<3,>=2.5 in c:\\users\\user\\opencv\\lib\\site-packages (from requests<3.0.0,>=2.13.0->spacy<2.4.0,>=2.3.0->en_core_web_sm==2.3.1) (2.10)\n",
            "Requirement already satisfied: certifi>=2017.4.17 in c:\\users\\user\\opencv\\lib\\site-packages (from requests<3.0.0,>=2.13.0->spacy<2.4.0,>=2.3.0->en_core_web_sm==2.3.1) (2020.6.20)\n",
            "Requirement already satisfied: urllib3!=1.25.0,!=1.25.1,<1.26,>=1.21.1 in c:\\users\\user\\opencv\\lib\\site-packages (from requests<3.0.0,>=2.13.0->spacy<2.4.0,>=2.3.0->en_core_web_sm==2.3.1) (1.25.10)\n",
            "Requirement already satisfied: importlib-metadata>=0.20; python_version < \"3.8\" in c:\\users\\user\\opencv\\lib\\site-packages (from catalogue<1.1.0,>=0.0.7->spacy<2.4.0,>=2.3.0->en_core_web_sm==2.3.1) (1.7.0)\n",
            "Requirement already satisfied: zipp>=0.5 in c:\\users\\user\\opencv\\lib\\site-packages (from importlib-metadata>=0.20; python_version < \"3.8\"->catalogue<1.1.0,>=0.0.7->spacy<2.4.0,>=2.3.0->en_core_web_sm==2.3.1) (3.1.0)\n",
            "[+] Download and installation successful\n",
            "You can now load the model via spacy.load('en_core_web_sm')\n",
            "[x] Couldn't link model to 'en'\n",
            "Creating a symlink in spacy/data failed. Make sure you have the required\n",
            "permissions and try re-running the command as admin, or use a virtualenv. You\n",
            "can still import the model as a module and call its load() method, or create the\n",
            "symlink manually.\n",
            "C:\\Users\\user\\opencv\\lib\\site-packages\\en_core_web_sm -->\n",
            "C:\\Users\\user\\opencv\\lib\\site-packages\\spacy\\data\\en\n",
            "[!] Download successful but linking failed\n",
            "Creating a shortcut link for 'en' didn't work (maybe you don't have admin\n",
            "permissions?), but you can still load the model via its full package name: nlp =\n",
            "spacy.load('en_core_web_sm')\n"
          ],
          "name": "stdout"
        },
        {
          "output_type": "stream",
          "text": [
            "You do not have sufficient privilege to perform this operation.\n"
          ],
          "name": "stderr"
        },
        {
          "output_type": "stream",
          "text": [
            "Requirement already satisfied: pt_core_news_sm==2.3.0 from https://github.com/explosion/spacy-models/releases/download/pt_core_news_sm-2.3.0/pt_core_news_sm-2.3.0.tar.gz#egg=pt_core_news_sm==2.3.0 in c:\\users\\user\\opencv\\lib\\site-packages (2.3.0)"
          ],
          "name": "stdout"
        },
        {
          "output_type": "stream",
          "text": [
            "You do not have sufficient privilege to perform this operation.\n"
          ],
          "name": "stderr"
        },
        {
          "output_type": "stream",
          "text": [
            "\n",
            "Requirement already satisfied: spacy<2.4.0,>=2.3.0 in c:\\users\\user\\opencv\\lib\\site-packages (from pt_core_news_sm==2.3.0) (2.3.2)\n",
            "Requirement already satisfied: preshed<3.1.0,>=3.0.2 in c:\\users\\user\\opencv\\lib\\site-packages (from spacy<2.4.0,>=2.3.0->pt_core_news_sm==2.3.0) (3.0.2)\n",
            "Requirement already satisfied: tqdm<5.0.0,>=4.38.0 in c:\\users\\user\\opencv\\lib\\site-packages (from spacy<2.4.0,>=2.3.0->pt_core_news_sm==2.3.0) (4.48.2)\n",
            "Requirement already satisfied: wasabi<1.1.0,>=0.4.0 in c:\\users\\user\\opencv\\lib\\site-packages (from spacy<2.4.0,>=2.3.0->pt_core_news_sm==2.3.0) (0.7.1)\n",
            "Requirement already satisfied: srsly<1.1.0,>=1.0.2 in c:\\users\\user\\opencv\\lib\\site-packages (from spacy<2.4.0,>=2.3.0->pt_core_news_sm==2.3.0) (1.0.2)\n",
            "Requirement already satisfied: catalogue<1.1.0,>=0.0.7 in c:\\users\\user\\opencv\\lib\\site-packages (from spacy<2.4.0,>=2.3.0->pt_core_news_sm==2.3.0) (1.0.0)\n",
            "Requirement already satisfied: requests<3.0.0,>=2.13.0 in c:\\users\\user\\opencv\\lib\\site-packages (from spacy<2.4.0,>=2.3.0->pt_core_news_sm==2.3.0) (2.24.0)\n",
            "Requirement already satisfied: blis<0.5.0,>=0.4.0 in c:\\users\\user\\opencv\\lib\\site-packages (from spacy<2.4.0,>=2.3.0->pt_core_news_sm==2.3.0) (0.4.1)\n",
            "Requirement already satisfied: numpy>=1.15.0 in c:\\users\\user\\opencv\\lib\\site-packages (from spacy<2.4.0,>=2.3.0->pt_core_news_sm==2.3.0) (1.19.0)\n",
            "Requirement already satisfied: cymem<2.1.0,>=2.0.2 in c:\\users\\user\\opencv\\lib\\site-packages (from spacy<2.4.0,>=2.3.0->pt_core_news_sm==2.3.0) (2.0.3)\n",
            "Requirement already satisfied: murmurhash<1.1.0,>=0.28.0 in c:\\users\\user\\opencv\\lib\\site-packages (from spacy<2.4.0,>=2.3.0->pt_core_news_sm==2.3.0) (1.0.2)\n",
            "Requirement already satisfied: thinc==7.4.1 in c:\\users\\user\\opencv\\lib\\site-packages (from spacy<2.4.0,>=2.3.0->pt_core_news_sm==2.3.0) (7.4.1)\n",
            "Requirement already satisfied: plac<1.2.0,>=0.9.6 in c:\\users\\user\\opencv\\lib\\site-packages (from spacy<2.4.0,>=2.3.0->pt_core_news_sm==2.3.0) (1.1.3)\n",
            "Requirement already satisfied: setuptools in c:\\users\\user\\opencv\\lib\\site-packages (from spacy<2.4.0,>=2.3.0->pt_core_news_sm==2.3.0) (49.1.0)\n",
            "Requirement already satisfied: importlib-metadata>=0.20; python_version < \"3.8\" in c:\\users\\user\\opencv\\lib\\site-packages (from catalogue<1.1.0,>=0.0.7->spacy<2.4.0,>=2.3.0->pt_core_news_sm==2.3.0) (1.7.0)\n",
            "Requirement already satisfied: urllib3!=1.25.0,!=1.25.1,<1.26,>=1.21.1 in c:\\users\\user\\opencv\\lib\\site-packages (from requests<3.0.0,>=2.13.0->spacy<2.4.0,>=2.3.0->pt_core_news_sm==2.3.0) (1.25.10)\n",
            "Requirement already satisfied: chardet<4,>=3.0.2 in c:\\users\\user\\opencv\\lib\\site-packages (from requests<3.0.0,>=2.13.0->spacy<2.4.0,>=2.3.0->pt_core_news_sm==2.3.0) (3.0.4)\n",
            "Requirement already satisfied: certifi>=2017.4.17 in c:\\users\\user\\opencv\\lib\\site-packages (from requests<3.0.0,>=2.13.0->spacy<2.4.0,>=2.3.0->pt_core_news_sm==2.3.0) (2020.6.20)\n",
            "Requirement already satisfied: idna<3,>=2.5 in c:\\users\\user\\opencv\\lib\\site-packages (from requests<3.0.0,>=2.13.0->spacy<2.4.0,>=2.3.0->pt_core_news_sm==2.3.0) (2.10)\n",
            "Requirement already satisfied: zipp>=0.5 in c:\\users\\user\\opencv\\lib\\site-packages (from importlib-metadata>=0.20; python_version < \"3.8\"->catalogue<1.1.0,>=0.0.7->spacy<2.4.0,>=2.3.0->pt_core_news_sm==2.3.0) (3.1.0)\n",
            "[+] Download and installation successful\n",
            "You can now load the model via spacy.load('pt_core_news_sm')\n",
            "[x] Couldn't link model to 'pt'\n",
            "Creating a symlink in spacy/data failed. Make sure you have the required\n",
            "permissions and try re-running the command as admin, or use a virtualenv. You\n",
            "can still import the model as a module and call its load() method, or create the\n",
            "symlink manually.\n",
            "C:\\Users\\user\\opencv\\lib\\site-packages\\pt_core_news_sm -->\n",
            "C:\\Users\\user\\opencv\\lib\\site-packages\\spacy\\data\\pt\n",
            "[!] Download successful but linking failed\n",
            "Creating a shortcut link for 'pt' didn't work (maybe you don't have admin\n",
            "permissions?), but you can still load the model via its full package name: nlp =\n",
            "spacy.load('pt_core_news_sm')\n"
          ],
          "name": "stdout"
        }
      ]
    },
    {
      "cell_type": "markdown",
      "metadata": {
        "id": "lt-GgQqeE2SH"
      },
      "source": [
        "# Expressões Regulares\n",
        "\n",
        "- O Pacote que permite utilizar ER é <b>re</b>\n",
        "- Existem vários métodos para utilizar expressões regulares em python., alguns deles para <b>buscar</b> padrões são:\n",
        "\n",
        "|   Método   |                                      Descrição                                     |\n",
        "|:----------:|:----------------------------------------------------------------------------------:|\n",
        "| match()    | Determina se a RE combina com o início da string.                                  |\n",
        "| search()   | Varre toda a string, procurando qualquer local onde esta RE tem correspondência.   |\n",
        "| findall()  | Encontra todas as substrings onde a RE corresponde, e as retorna como uma lista.   |\n",
        "| finditer() | Encontra todas as substrings onde a RE corresponde, e as retorna como um iterador. |\n",
        "\n",
        "- Métodos para modificar strings:\n",
        "\n",
        "| Método  | Descrição                                                                                            |\n",
        "|---------|------------------------------------------------------------------------------------------------------|\n",
        "| split() | Divide a string em uma lista, dividindo-a onde quer que haja correspondência com a RE                |\n",
        "| sub()   | Encontra todas as substrings que correspondem com a RE e faz a substituição por uma string diferente |\n",
        "| subn()  |  É o mesmo que o método sub(), mas retorna a nova string e o número de substituições                 |\n",
        "\n",
        "\n",
        "Link: https://docs.python.org/pt-br/3.8/howto/regex.html\n",
        "\n",
        "Agora vamos exemplificar cada um desses métodos:"
      ]
    },
    {
      "cell_type": "code",
      "metadata": {
        "id": "-RuY3ajmE2SH"
      },
      "source": [
        "import re\n",
        "import datetime"
      ],
      "execution_count": null,
      "outputs": []
    },
    {
      "cell_type": "code",
      "metadata": {
        "id": "u06mxHTsE2SM"
      },
      "source": [
        "texto = \"Vamos encontrar Padrões nesta string!! \\nAgora é a nossa primeira prática de NLP!! Vamos aprender a procurar padrões!! \\nBelo Horizonte, \"+ str(datetime.datetime.now().date())+\".\""
      ],
      "execution_count": null,
      "outputs": []
    },
    {
      "cell_type": "code",
      "metadata": {
        "id": "Ba2kbQcBE2SR",
        "outputId": "45b1179f-2112-4e11-fb67-45c0f923edd2"
      },
      "source": [
        "print(texto)"
      ],
      "execution_count": null,
      "outputs": [
        {
          "output_type": "stream",
          "text": [
            "Vamos encontrar Padrões nesta string!! \n",
            "Agora é a nossa primeira prática de NLP!! Vamos aprender a procurar padrões!! \n",
            "Belo Horizonte, 2020-08-09.\n"
          ],
          "name": "stdout"
        }
      ]
    },
    {
      "cell_type": "markdown",
      "metadata": {
        "id": "ssoK3Vd_E2SV"
      },
      "source": [
        "## Match\n",
        "Determina se a RE combina com o início da string"
      ]
    },
    {
      "cell_type": "code",
      "metadata": {
        "id": "ByKonDoCE2SW",
        "outputId": "e8a056e1-8d78-4cf1-fa43-a1e1bb26867f"
      },
      "source": [
        "re.match(\"Vamos\", texto)"
      ],
      "execution_count": null,
      "outputs": [
        {
          "output_type": "execute_result",
          "data": {
            "text/plain": [
              "<re.Match object; span=(0, 5), match='Vamos'>"
            ]
          },
          "metadata": {
            "tags": []
          },
          "execution_count": 5
        }
      ]
    },
    {
      "cell_type": "code",
      "metadata": {
        "id": "nTRtigOPE2Sa"
      },
      "source": [
        "re.match(\"nesta\", texto)"
      ],
      "execution_count": null,
      "outputs": []
    },
    {
      "cell_type": "markdown",
      "metadata": {
        "id": "kWgXERIqE2Se"
      },
      "source": [
        "é case sensitive"
      ]
    },
    {
      "cell_type": "code",
      "metadata": {
        "id": "U6nAhURVE2Sf"
      },
      "source": [
        "re.match(r\"vamos\", texto)"
      ],
      "execution_count": null,
      "outputs": []
    },
    {
      "cell_type": "markdown",
      "metadata": {
        "id": "b-vfSwKdE2Sj"
      },
      "source": [
        "## Search\n",
        "Varre toda a string, procurando qualquer local onde esta RE tem correspondência"
      ]
    },
    {
      "cell_type": "code",
      "metadata": {
        "id": "CGwwWNFlE2Sk",
        "outputId": "6080ce1d-c294-4391-fcfa-1d3ebe013690"
      },
      "source": [
        "re.search(\"Vamos\", texto)"
      ],
      "execution_count": null,
      "outputs": [
        {
          "output_type": "execute_result",
          "data": {
            "text/plain": [
              "<re.Match object; span=(0, 5), match='Vamos'>"
            ]
          },
          "metadata": {
            "tags": []
          },
          "execution_count": 8
        }
      ]
    },
    {
      "cell_type": "code",
      "metadata": {
        "id": "GpfXeIsXE2Sn",
        "outputId": "d50b34d4-69b8-42e7-b680-3ad8fd2a55df"
      },
      "source": [
        "re.search(\"encontrar\", texto)"
      ],
      "execution_count": null,
      "outputs": [
        {
          "output_type": "execute_result",
          "data": {
            "text/plain": [
              "<re.Match object; span=(6, 15), match='encontrar'>"
            ]
          },
          "metadata": {
            "tags": []
          },
          "execution_count": 9
        }
      ]
    },
    {
      "cell_type": "markdown",
      "metadata": {
        "id": "NW85D7HYE2Sr"
      },
      "source": [
        "o default é case-sensitive"
      ]
    },
    {
      "cell_type": "code",
      "metadata": {
        "id": "Mcm5_FhyE2Ss",
        "outputId": "b68c2c58-6623-4dea-d548-c3b7024a603e"
      },
      "source": [
        "re.search(\"padrões\", texto)"
      ],
      "execution_count": null,
      "outputs": [
        {
          "output_type": "execute_result",
          "data": {
            "text/plain": [
              "<re.Match object; span=(108, 115), match='padrões'>"
            ]
          },
          "metadata": {
            "tags": []
          },
          "execution_count": 10
        }
      ]
    },
    {
      "cell_type": "code",
      "metadata": {
        "id": "tlzw89bWE2Sv",
        "outputId": "85e8bde7-75a5-4b68-9f9d-e1bc67e76c92"
      },
      "source": [
        "re.search(\"Padrões\", texto)"
      ],
      "execution_count": null,
      "outputs": [
        {
          "output_type": "execute_result",
          "data": {
            "text/plain": [
              "<re.Match object; span=(16, 23), match='Padrões'>"
            ]
          },
          "metadata": {
            "tags": []
          },
          "execution_count": 11
        }
      ]
    },
    {
      "cell_type": "markdown",
      "metadata": {
        "id": "TcwH5pX1E2S0"
      },
      "source": [
        "podemos ignorar case-sensitive"
      ]
    },
    {
      "cell_type": "code",
      "metadata": {
        "id": "J3Ol_N-xE2S1",
        "outputId": "b336115b-a09c-4e38-e2ad-bb9157ead2d0"
      },
      "source": [
        "re.search(\"padrões\", texto, re.IGNORECASE)"
      ],
      "execution_count": null,
      "outputs": [
        {
          "output_type": "execute_result",
          "data": {
            "text/plain": [
              "<re.Match object; span=(16, 23), match='Padrões'>"
            ]
          },
          "metadata": {
            "tags": []
          },
          "execution_count": 12
        }
      ]
    },
    {
      "cell_type": "markdown",
      "metadata": {
        "id": "7c_d3n-ZE2S4"
      },
      "source": [
        "## Findall\n",
        "Encontra todas as substrings onde a RE corresponde, e as retorna como uma lista"
      ]
    },
    {
      "cell_type": "code",
      "metadata": {
        "id": "5RL7Pn6sE2S5",
        "outputId": "18f1024f-d914-41b0-fba1-4e6028d59b2e"
      },
      "source": [
        "re.findall(\"Vamos\", texto)"
      ],
      "execution_count": null,
      "outputs": [
        {
          "output_type": "execute_result",
          "data": {
            "text/plain": [
              "['Vamos', 'Vamos']"
            ]
          },
          "metadata": {
            "tags": []
          },
          "execution_count": 13
        }
      ]
    },
    {
      "cell_type": "code",
      "metadata": {
        "id": "RwkAevIaE2S9",
        "outputId": "45f26d0b-f509-452d-9673-f80c552a4169"
      },
      "source": [
        "re.findall(\"padrões\", texto)"
      ],
      "execution_count": null,
      "outputs": [
        {
          "output_type": "execute_result",
          "data": {
            "text/plain": [
              "['padrões']"
            ]
          },
          "metadata": {
            "tags": []
          },
          "execution_count": 14
        }
      ]
    },
    {
      "cell_type": "markdown",
      "metadata": {
        "id": "0-jU3fAQE2TA"
      },
      "source": [
        "re.I é igal re.IGNORECASE"
      ]
    },
    {
      "cell_type": "code",
      "metadata": {
        "id": "kwcBrGrxE2TB",
        "outputId": "f96e41b8-2701-442a-e154-076e6592e662"
      },
      "source": [
        "re.findall(\"padrões\", texto, re.I)"
      ],
      "execution_count": null,
      "outputs": [
        {
          "output_type": "execute_result",
          "data": {
            "text/plain": [
              "['Padrões', 'padrões']"
            ]
          },
          "metadata": {
            "tags": []
          },
          "execution_count": 15
        }
      ]
    },
    {
      "cell_type": "code",
      "metadata": {
        "id": "UxS4PHcpE2TF",
        "outputId": "6cc5ee67-818c-4548-89e4-8dcb47b09874"
      },
      "source": [
        "#quando uso o + o padrão é 1 ou mais. Assim todas string que tem a no meio de outras letras  são retornadas\n",
        "re.findall(r'\\w+a\\w+', texto)"
      ],
      "execution_count": null,
      "outputs": [
        {
          "output_type": "execute_result",
          "data": {
            "text/plain": [
              "['Vamos', 'encontrar', 'Padrões', 'Vamos', 'procurar', 'padrões']"
            ]
          },
          "metadata": {
            "tags": []
          },
          "execution_count": 16
        }
      ]
    },
    {
      "cell_type": "code",
      "metadata": {
        "id": "uy1DWTFCE2TJ",
        "outputId": "ebc57820-b2d8-4c4e-e0af-3197b990526e"
      },
      "source": [
        "#quando uso o * o padrão é 0 ou mais. Assim todas string que tem a no meio, ou no início ou no fim são retornadas\n",
        "re.findall(r'\\w*a\\w*', texto)"
      ],
      "execution_count": null,
      "outputs": [
        {
          "output_type": "execute_result",
          "data": {
            "text/plain": [
              "['Vamos',\n",
              " 'encontrar',\n",
              " 'Padrões',\n",
              " 'nesta',\n",
              " 'Agora',\n",
              " 'a',\n",
              " 'nossa',\n",
              " 'primeira',\n",
              " 'prática',\n",
              " 'Vamos',\n",
              " 'aprender',\n",
              " 'a',\n",
              " 'procurar',\n",
              " 'padrões']"
            ]
          },
          "metadata": {
            "tags": []
          },
          "execution_count": 17
        }
      ]
    },
    {
      "cell_type": "markdown",
      "metadata": {
        "id": "CpfoYKAaE2TM"
      },
      "source": [
        "## Finditer\n",
        "Encontra todas as substrings onde a RE corresponde, e as retorna como um iterador."
      ]
    },
    {
      "cell_type": "code",
      "metadata": {
        "id": "Npmyb-XsE2TN",
        "outputId": "910ceb52-a527-4b6d-d17f-2392677a8111"
      },
      "source": [
        "re.finditer(\"Vamos\", texto)"
      ],
      "execution_count": null,
      "outputs": [
        {
          "output_type": "execute_result",
          "data": {
            "text/plain": [
              "<callable_iterator at 0x22a91d0d388>"
            ]
          },
          "metadata": {
            "tags": []
          },
          "execution_count": 18
        }
      ]
    },
    {
      "cell_type": "code",
      "metadata": {
        "id": "8BzmQAsvE2TQ",
        "outputId": "07ec0620-833c-450b-9427-c18b7ab22899"
      },
      "source": [
        "res = re.finditer(\"Vamos\", texto)\n",
        "[r for r in res]"
      ],
      "execution_count": null,
      "outputs": [
        {
          "output_type": "execute_result",
          "data": {
            "text/plain": [
              "[<re.Match object; span=(0, 5), match='Vamos'>,\n",
              " <re.Match object; span=(82, 87), match='Vamos'>]"
            ]
          },
          "metadata": {
            "tags": []
          },
          "execution_count": 19
        }
      ]
    },
    {
      "cell_type": "code",
      "metadata": {
        "id": "Ul95OtbkE2TT",
        "outputId": "68137890-a74a-40ef-cbd1-6fe9b6b0efd5"
      },
      "source": [
        "re.finditer(\"padrões\", texto)"
      ],
      "execution_count": null,
      "outputs": [
        {
          "output_type": "execute_result",
          "data": {
            "text/plain": [
              "<callable_iterator at 0x22a91d5ce08>"
            ]
          },
          "metadata": {
            "tags": []
          },
          "execution_count": 20
        }
      ]
    },
    {
      "cell_type": "code",
      "metadata": {
        "id": "_MWvOPBNE2TX",
        "outputId": "2095a2e0-7d8c-423c-ba17-ddef284eb554"
      },
      "source": [
        "re.finditer(\"padrões\", texto, re.I)"
      ],
      "execution_count": null,
      "outputs": [
        {
          "output_type": "execute_result",
          "data": {
            "text/plain": [
              "<callable_iterator at 0x22a91d5c848>"
            ]
          },
          "metadata": {
            "tags": []
          },
          "execution_count": 21
        }
      ]
    },
    {
      "cell_type": "markdown",
      "metadata": {
        "id": "2NTIYrv2E2Tb"
      },
      "source": [
        "## Split"
      ]
    },
    {
      "cell_type": "code",
      "metadata": {
        "id": "zs7VXjcKE2Tc",
        "outputId": "3df5acac-fd09-4333-8c55-0062f91c7ab0"
      },
      "source": [
        "re.split('\\n',texto)"
      ],
      "execution_count": null,
      "outputs": [
        {
          "output_type": "execute_result",
          "data": {
            "text/plain": [
              "['Vamos encontrar Padrões nesta string!! ',\n",
              " 'Agora é a nossa primeira prática de NLP!! Vamos aprender a procurar padrões!! ',\n",
              " 'Belo Horizonte, 2020-08-09.']"
            ]
          },
          "metadata": {
            "tags": []
          },
          "execution_count": 22
        }
      ]
    },
    {
      "cell_type": "code",
      "metadata": {
        "id": "7moeTtMWE2Tf",
        "outputId": "de4fa393-5ec8-48e2-e642-64b72e68371b"
      },
      "source": [
        "texto.split(\"\\s+\")"
      ],
      "execution_count": null,
      "outputs": [
        {
          "output_type": "execute_result",
          "data": {
            "text/plain": [
              "['Vamos encontrar Padrões nesta string!! \\nAgora é a nossa primeira prática de NLP!! Vamos aprender a procurar padrões!! \\nBelo Horizonte, 2020-08-09.']"
            ]
          },
          "metadata": {
            "tags": []
          },
          "execution_count": 23
        }
      ]
    },
    {
      "cell_type": "code",
      "metadata": {
        "id": "wjv2o5TSE2Tl",
        "outputId": "e65a0c64-7f1a-4aa3-bd3a-044a98cf2d09"
      },
      "source": [
        "(re.split(r'\\s+',texto))"
      ],
      "execution_count": null,
      "outputs": [
        {
          "output_type": "execute_result",
          "data": {
            "text/plain": [
              "['Vamos',\n",
              " 'encontrar',\n",
              " 'Padrões',\n",
              " 'nesta',\n",
              " 'string!!',\n",
              " 'Agora',\n",
              " 'é',\n",
              " 'a',\n",
              " 'nossa',\n",
              " 'primeira',\n",
              " 'prática',\n",
              " 'de',\n",
              " 'NLP!!',\n",
              " 'Vamos',\n",
              " 'aprender',\n",
              " 'a',\n",
              " 'procurar',\n",
              " 'padrões!!',\n",
              " 'Belo',\n",
              " 'Horizonte,',\n",
              " '2020-08-09.']"
            ]
          },
          "metadata": {
            "tags": []
          },
          "execution_count": 24
        }
      ]
    },
    {
      "cell_type": "markdown",
      "metadata": {
        "id": "1Q5VxGluE2Tq"
      },
      "source": [
        "## Sub"
      ]
    },
    {
      "cell_type": "code",
      "metadata": {
        "id": "UfQcny0cE2Tq",
        "outputId": "147d7330-2e1b-488b-f717-5aab6deb8f76"
      },
      "source": [
        "re.sub('\\w+a\\w+', 'a-word', texto)"
      ],
      "execution_count": null,
      "outputs": [
        {
          "output_type": "execute_result",
          "data": {
            "text/plain": [
              "'a-word a-word a-word nesta string!! \\nAgora é a nossa primeira prática de NLP!! a-word aprender a a-word a-word!! \\nBelo Horizonte, 2020-08-09.'"
            ]
          },
          "metadata": {
            "tags": []
          },
          "execution_count": 25
        }
      ]
    },
    {
      "cell_type": "markdown",
      "metadata": {
        "id": "wlWiVFncE2Tu"
      },
      "source": [
        "## Subn"
      ]
    },
    {
      "cell_type": "code",
      "metadata": {
        "id": "X2955Lc9E2Tu",
        "outputId": "cdeacde5-b8d8-4cb6-d98d-f54617510153"
      },
      "source": [
        "re.subn('\\w+a\\w+', 'a-word', texto)"
      ],
      "execution_count": null,
      "outputs": [
        {
          "output_type": "execute_result",
          "data": {
            "text/plain": [
              "('a-word a-word a-word nesta string!! \\nAgora é a nossa primeira prática de NLP!! a-word aprender a a-word a-word!! \\nBelo Horizonte, 2020-08-09.',\n",
              " 6)"
            ]
          },
          "metadata": {
            "tags": []
          },
          "execution_count": 26
        }
      ]
    },
    {
      "cell_type": "markdown",
      "metadata": {
        "id": "0nQT6mCwE2T4"
      },
      "source": [
        "# Exercícios"
      ]
    },
    {
      "cell_type": "markdown",
      "metadata": {
        "id": "t4o97T52E2T5"
      },
      "source": [
        "1. Escreva uma expressão regular para verificar se uma string contém apenas um determinado conjunto de caracteres (neste caso, a-z, A-Z e 0-9)."
      ]
    },
    {
      "cell_type": "code",
      "metadata": {
        "id": "djXPdCENE2T5"
      },
      "source": [
        "string1 = \"ABCDEFabcdef123450\"\n",
        "string2 = \"*&%@#!}{\""
      ],
      "execution_count": null,
      "outputs": []
    },
    {
      "cell_type": "code",
      "metadata": {
        "id": "RREg_VDTE2T9",
        "outputId": "4da23384-efe9-4b60-a3e4-a6e103c00d66"
      },
      "source": [
        "re.search('\\w+', string1)"
      ],
      "execution_count": null,
      "outputs": [
        {
          "output_type": "execute_result",
          "data": {
            "text/plain": [
              "<re.Match object; span=(0, 18), match='ABCDEFabcdef123450'>"
            ]
          },
          "metadata": {
            "tags": []
          },
          "execution_count": 28
        }
      ]
    },
    {
      "cell_type": "code",
      "metadata": {
        "id": "6nGOpCE7WjoB"
      },
      "source": [
        "re.search('\\w', string2)"
      ],
      "execution_count": null,
      "outputs": []
    },
    {
      "cell_type": "markdown",
      "metadata": {
        "id": "GpQZWR75E2UB"
      },
      "source": [
        "2. Escreva uma expressão regular que corresponda a uma sequência que tenha um a seguido por zero ou mais b's."
      ]
    },
    {
      "cell_type": "code",
      "metadata": {
        "id": "clu3aaOQE2UB"
      },
      "source": [
        "string1 = \"abc\"\n",
        "string2 = \"aacb\"\n",
        "string3 = \"abbc\"\n",
        "string4 = \"bb\""
      ],
      "execution_count": null,
      "outputs": []
    },
    {
      "cell_type": "code",
      "metadata": {
        "id": "qDkahkQpE2UE"
      },
      "source": [
        "def check(string):\n",
        "    return bool(re.search('abc', string))"
      ],
      "execution_count": null,
      "outputs": []
    },
    {
      "cell_type": "code",
      "metadata": {
        "id": "MeIxauzjWjoK",
        "outputId": "3748d34f-df84-4fce-a8cc-c8cb0c649860"
      },
      "source": [
        "print(check(string1))\n",
        "print(check(string2))\n",
        "print(check(string3))\n",
        "print(check(string4))"
      ],
      "execution_count": null,
      "outputs": [
        {
          "output_type": "stream",
          "text": [
            "True\n",
            "False\n",
            "False\n",
            "False\n"
          ],
          "name": "stdout"
        }
      ]
    },
    {
      "cell_type": "markdown",
      "metadata": {
        "id": "GCEwqVNEE2UJ"
      },
      "source": [
        "3. Escreva um expressão regular que corresponda a uma sequência que tenha um a seguido por um ou mais b's."
      ]
    },
    {
      "cell_type": "code",
      "metadata": {
        "id": "wLIBnksTE2UK"
      },
      "source": [
        "string1 = \"abc\"\n",
        "string2 = \"aacb\"\n",
        "string3 = \"abbc\"\n",
        "string4 = \"bb\""
      ],
      "execution_count": null,
      "outputs": []
    },
    {
      "cell_type": "code",
      "metadata": {
        "id": "lmzRqypfE2UO"
      },
      "source": [
        "def check(string):\n",
        "    return bool(re.search('ab+', string))"
      ],
      "execution_count": null,
      "outputs": []
    },
    {
      "cell_type": "code",
      "metadata": {
        "id": "IiCcerkqWjoX",
        "outputId": "bcf12009-afa5-46a9-a3ba-ad841959e793"
      },
      "source": [
        "print(check(string1))\n",
        "print(check(string2))\n",
        "print(check(string3))\n",
        "print(check(string4))"
      ],
      "execution_count": null,
      "outputs": [
        {
          "output_type": "stream",
          "text": [
            "True\n",
            "False\n",
            "True\n",
            "False\n"
          ],
          "name": "stdout"
        }
      ]
    },
    {
      "cell_type": "markdown",
      "metadata": {
        "id": "dNE6awcvE2US"
      },
      "source": [
        "4. Escreva uma expressão regular para converter uma data do formato aaaa-mm-dd para o formato dd-mm-aaaa."
      ]
    },
    {
      "cell_type": "code",
      "metadata": {
        "id": "w3-uuyaNE2US"
      },
      "source": [
        "data1 = \"2026-01-02\"\n",
        "data2 = \"26-01-02\""
      ],
      "execution_count": null,
      "outputs": []
    },
    {
      "cell_type": "code",
      "metadata": {
        "id": "nj6O5YplE2UW",
        "outputId": "88fb4cbc-465d-4647-d03e-90cff567f83c"
      },
      "source": [
        "re.sub('(\\d{2,4})-(\\d{1,2})-(\\d{1,2})', '\\\\3-\\\\2-\\\\1', data1)"
      ],
      "execution_count": null,
      "outputs": [
        {
          "output_type": "execute_result",
          "data": {
            "text/plain": [
              "'02-01-2026'"
            ]
          },
          "metadata": {
            "tags": []
          },
          "execution_count": 37
        }
      ]
    },
    {
      "cell_type": "markdown",
      "metadata": {
        "id": "B-ipfjt3E2Ub"
      },
      "source": [
        "5. Escreva uma expressão para remover o excesso de espaço"
      ]
    },
    {
      "cell_type": "code",
      "metadata": {
        "id": "qS0_qEuME2Uc"
      },
      "source": [
        "string = \"Exercídios     Expressão    Regular\""
      ],
      "execution_count": null,
      "outputs": []
    },
    {
      "cell_type": "code",
      "metadata": {
        "id": "IjfvI0gWE2Uf",
        "outputId": "91bcb8ee-3fbb-4adf-8762-edbc193cb8ff"
      },
      "source": [
        "re.sub(\" +\", ' ', string)"
      ],
      "execution_count": null,
      "outputs": [
        {
          "output_type": "execute_result",
          "data": {
            "text/plain": [
              "'Exercídios Expressão Regular'"
            ]
          },
          "metadata": {
            "tags": []
          },
          "execution_count": 39
        }
      ]
    },
    {
      "cell_type": "markdown",
      "metadata": {
        "id": "d0Hmo0vgE2Uj"
      },
      "source": [
        "6. Escreva uma expressão para dividir uma string em letras maiúsculas"
      ]
    },
    {
      "cell_type": "code",
      "metadata": {
        "id": "ODUJ9cftE2Uk"
      },
      "source": [
        "string = \"ExercídiosExpressãoRegularAA\""
      ],
      "execution_count": null,
      "outputs": []
    },
    {
      "cell_type": "code",
      "metadata": {
        "id": "tMJUMezGE2Up",
        "outputId": "4aa5d95f-cde8-4564-c9b0-8fc0dc7417a2"
      },
      "source": [
        "\" \".join(re.findall(\"[A-Z][^A-Z]*\", string))"
      ],
      "execution_count": null,
      "outputs": [
        {
          "output_type": "execute_result",
          "data": {
            "text/plain": [
              "'Exercídios Expressão Regular A A'"
            ]
          },
          "metadata": {
            "tags": []
          },
          "execution_count": 41
        }
      ]
    },
    {
      "cell_type": "markdown",
      "metadata": {
        "id": "vhDy3v6dE2Us"
      },
      "source": [
        "7. Escreva uma expressão regular para remover a área de parênteses em uma string\n",
        "\n",
        "\n",
        "- Amostra de Entrada:\n",
        "> * [\"example (.br)\", \"w3resource\", \"github (.com)\", \"stackoverflow (.com)\"] </br>\n",
        "* Saída Esperada:\n",
        "> * example\n",
        "> * w3resource\n",
        "> * github\n",
        "> * stackoverflow"
      ]
    },
    {
      "cell_type": "code",
      "metadata": {
        "id": "FPYMid0HE2Ut"
      },
      "source": [
        "strings = [\"example (.br)\", \"w3resource\", \"github (.com)\", \"stackoverflow (.??)\"]"
      ],
      "execution_count": null,
      "outputs": []
    },
    {
      "cell_type": "code",
      "metadata": {
        "id": "6cxnfGkQWjpA",
        "outputId": "9d82723d-ef81-4fff-8222-43205ae5f306"
      },
      "source": [
        "[re.sub('\\(.+\\)', '', string) for string in strings]"
      ],
      "execution_count": null,
      "outputs": [
        {
          "output_type": "execute_result",
          "data": {
            "text/plain": [
              "['example ', 'w3resource', 'github ', 'stackoverflow ']"
            ]
          },
          "metadata": {
            "tags": []
          },
          "execution_count": 43
        }
      ]
    },
    {
      "cell_type": "code",
      "metadata": {
        "id": "qAcZMsWyE2Uz"
      },
      "source": [
        "string0 = strings[0]"
      ],
      "execution_count": null,
      "outputs": []
    },
    {
      "cell_type": "code",
      "metadata": {
        "id": "3jZQRzuUWjpK",
        "outputId": "15e9befa-a69c-40aa-8580-69f0d261eaa3"
      },
      "source": [
        "re.sub('\\(.+\\)', '', string0)"
      ],
      "execution_count": null,
      "outputs": [
        {
          "output_type": "execute_result",
          "data": {
            "text/plain": [
              "'example '"
            ]
          },
          "metadata": {
            "tags": []
          },
          "execution_count": 45
        }
      ]
    },
    {
      "cell_type": "markdown",
      "metadata": {
        "id": "806dfF6gE2U4"
      },
      "source": [
        "8. Escreva um programa para quebrar um texto em sentenças"
      ]
    },
    {
      "cell_type": "code",
      "metadata": {
        "id": "gJrjbSJZE2U5"
      },
      "source": [
        "string = \"Vamos encontrar Padrões nesta string!! Agora é a nossa primeira prática de NLP!! Vamos aprender a procurar padrões!! Belo Horizonte 2020.\""
      ],
      "execution_count": null,
      "outputs": []
    },
    {
      "cell_type": "code",
      "metadata": {
        "id": "gURnxE_hE2U_",
        "outputId": "3f31f6d2-2cdb-485f-fab4-133bc3a18dbf"
      },
      "source": [
        "re.split('[.+?!]+\\s', string)"
      ],
      "execution_count": null,
      "outputs": [
        {
          "output_type": "execute_result",
          "data": {
            "text/plain": [
              "['Vamos encontrar Padrões nesta string',\n",
              " 'Agora é a nossa primeira prática de NLP',\n",
              " 'Vamos aprender a procurar padrões',\n",
              " 'Belo Horizonte 2020.']"
            ]
          },
          "metadata": {
            "tags": []
          },
          "execution_count": 47
        }
      ]
    },
    {
      "cell_type": "code",
      "metadata": {
        "id": "1xdMrMqKWjpR",
        "outputId": "c2ce3e20-5537-4aaf-b34e-d5e0b64a7dbb"
      },
      "source": [
        "re.split('\\W\\s', string)"
      ],
      "execution_count": null,
      "outputs": [
        {
          "output_type": "execute_result",
          "data": {
            "text/plain": [
              "['Vamos encontrar Padrões nesta string!',\n",
              " 'Agora é a nossa primeira prática de NLP!',\n",
              " 'Vamos aprender a procurar padrões!',\n",
              " 'Belo Horizonte 2020.']"
            ]
          },
          "metadata": {
            "tags": []
          },
          "execution_count": 48
        }
      ]
    },
    {
      "cell_type": "markdown",
      "metadata": {
        "id": "zCmVDDmaE2VC"
      },
      "source": [
        "9. Escreva um código para remover os zeros iniciais do IP 216.08.094.196"
      ]
    },
    {
      "cell_type": "code",
      "metadata": {
        "id": "FFWwhn1gE2VD"
      },
      "source": [
        "ip = \"216.08.094.196\""
      ],
      "execution_count": null,
      "outputs": []
    },
    {
      "cell_type": "code",
      "metadata": {
        "id": "RfZkpPi8E2VG",
        "outputId": "1debb984-f7d1-4832-9ee6-529f1b34bd52"
      },
      "source": [
        "re.sub('\\.[0]*', '.', ip)"
      ],
      "execution_count": null,
      "outputs": [
        {
          "output_type": "execute_result",
          "data": {
            "text/plain": [
              "'216.8.94.196'"
            ]
          },
          "metadata": {
            "tags": []
          },
          "execution_count": 50
        }
      ]
    },
    {
      "cell_type": "markdown",
      "metadata": {
        "id": "MjxxTNmyE2VI"
      },
      "source": [
        "10. Recupere todos os \"Twitter\" do arquivo http://humanstxt.org/humans.txt\n",
        "\n",
        "Exemplo de como recuperar o texto dete arquivo web:\n",
        "\n",
        "```python\n",
        "import requests\n",
        "response = requests.get('http://humanstxt.org/humans.txt')\n",
        "print(response.text)\n",
        "```\n",
        "\n",
        "Imprima a quantidade de twitters e todos twitters encontrados."
      ]
    },
    {
      "cell_type": "code",
      "metadata": {
        "id": "6uYm4GRRE2VJ",
        "outputId": "50b9ceae-5b01-42ec-dfef-b4dc11c40e88"
      },
      "source": [
        "import requests\n",
        "response = requests.get('http://humanstxt.org/humans.txt')\n",
        "print(response.text)"
      ],
      "execution_count": null,
      "outputs": [
        {
          "output_type": "stream",
          "text": [
            "ï»¿/* TEAM */\n",
            "\tChef:Juanjo Bernabeu\n",
            "\tContact: hello [at] humanstxt.org\n",
            "\tTwitter: @juanjobernabeu\n",
            "\tFrom:Barcelona, Catalonia, Spain\n",
            "\n",
            "\tUI developer: Maria Macias\n",
            "\tTwitter: @maria_ux\n",
            "\tFrom:Barcelona, Catalonia, Spain\n",
            "\n",
            "\tOne eyed illustrator: Carlos MaÃ±as\n",
            "\tTwitter: @oneeyedman\n",
            "\tFrom:Madrid, Spain\n",
            "\n",
            "\tStandard Man: Abel Cabans\n",
            "\tTwitter: @abelcabans\n",
            "\tFrom:Barcelona, Catalonia, Spain\n",
            "\n",
            "\tWeb designer: Abel Sutilo\n",
            "\tTwitter: @abelsutilo\n",
            "\tFrom:Sevilla, Andalucia, Spain\n",
            "\n",
            "/* THANKS */\n",
            "\n",
            "\t(First) EN Translator: Jos Flores\n",
            "\tTwitter: @prosciuttos\n",
            "\tFrom: Barcelona, Catalonia, Spain\n",
            "\n",
            "\tCA Translator: Eva AC\n",
            "\tTwitter: @evaac\n",
            "\tFrom:Barcelona, Catalonia, Spain\n",
            "\n",
            "\tEN Translator: Marta Armada\n",
            "\tTwitter: @martuishere\n",
            "\tFrom: Barcelona, Catalonia, Spain\n",
            "\t\n",
            "\tRU Translator: Alexey Bass\n",
            "\tTwitter: @alexey_bass\n",
            "\tLocation: Israel, Netanya\n",
            "\t\n",
            "\tRU Translator: Vladimir Epifanov\n",
            "\tTwitter: @voldmar\n",
            "\tLocation: Moscow, Russia\n",
            "\t\n",
            "\tNL Translator: Rowdy Rabouw\n",
            "\tTwitter: @rowdyrabouw\n",
            "\tLocation: Gouda, The Netherlands\n",
            "\t\n",
            "\tDE Translator: Dennis Fischer\n",
            "\tTwitter: @ichderfisch\n",
            "\tLocation: DÃ¼sseldorf / Germany\n",
            "\t\n",
            "\tCZ Translator: Daniel KrÅ¡iak\n",
            "\tTwitter: @krsiakdaniel\n",
            "\tLocation: Czech Republic\n",
            "\t\n",
            "\tZH Translator: Ana Villalba\n",
            "\tLocation: Spain\n",
            "\t\n",
            "\tJA Translator: ClÃ©mence Haure\n",
            "\tLocation: Spain\n",
            "\t\n",
            "\tFR Translator: Thibaud Desodt\n",
            "\tLocation: Belgium\n",
            "\t\n",
            "\tMedia Queries by: Marta Armada (@martuishere) and Javier Usobiaga (@htmlboy)\n",
            "\t\t\n",
            "\n",
            "/* SITE */\n",
            "\tLast update:2012/02/04\n",
            "\tLanguage: CatalÃ  / Czech / Deutsch / English / Castellano / Japanese / Dutch / Russian / Chinese\n",
            "\tDoctype:HTML5\n",
            "\tIDE: Sublime Text, Notepad++, FileZilla, Photoshop\n"
          ],
          "name": "stdout"
        }
      ]
    },
    {
      "cell_type": "code",
      "metadata": {
        "id": "v-vOpKCYWjps",
        "outputId": "8ffe8b88-c2a8-4676-a0db-42e8b264e584"
      },
      "source": [
        "re.findall(\"@\\w+\", response.text)"
      ],
      "execution_count": null,
      "outputs": [
        {
          "output_type": "execute_result",
          "data": {
            "text/plain": [
              "['@juanjobernabeu',\n",
              " '@maria_ux',\n",
              " '@oneeyedman',\n",
              " '@abelcabans',\n",
              " '@abelsutilo',\n",
              " '@prosciuttos',\n",
              " '@evaac',\n",
              " '@martuishere',\n",
              " '@alexey_bass',\n",
              " '@voldmar',\n",
              " '@rowdyrabouw',\n",
              " '@ichderfisch',\n",
              " '@krsiakdaniel',\n",
              " '@martuishere',\n",
              " '@htmlboy']"
            ]
          },
          "metadata": {
            "tags": []
          },
          "execution_count": 52
        }
      ]
    },
    {
      "cell_type": "code",
      "metadata": {
        "id": "0FcJgxGJWjpw"
      },
      "source": [],
      "execution_count": null,
      "outputs": []
    },
    {
      "cell_type": "code",
      "metadata": {
        "id": "WkOSQ2-EWjpy"
      },
      "source": [],
      "execution_count": null,
      "outputs": []
    },
    {
      "cell_type": "markdown",
      "metadata": {
        "id": "6sYrkoReE2VL"
      },
      "source": [
        "# Técnicas de Pré-processamento"
      ]
    },
    {
      "cell_type": "code",
      "metadata": {
        "id": "bXbwa_tqE2VM",
        "outputId": "b90c38e8-ce00-408c-c5cc-6b8f4c1998c5"
      },
      "source": [
        "!pip install nltk\n",
        "import nltk\n",
        "import wikipedia\n",
        "import re\n",
        "import spacy\n",
        "from nltk.probability import FreqDist\n",
        "nltk.download()"
      ],
      "execution_count": null,
      "outputs": [
        {
          "output_type": "stream",
          "text": [
            "Requirement already satisfied: nltk in c:\\users\\user\\opencv\\lib\\site-packages (3.5)\n",
            "Requirement already satisfied: joblib in c:\\users\\user\\opencv\\lib\\site-packages (from nltk) (0.16.0)\n",
            "Requirement already satisfied: click in c:\\users\\user\\opencv\\lib\\site-packages (from nltk) (7.1.2)\n",
            "Requirement already satisfied: tqdm in c:\\users\\user\\opencv\\lib\\site-packages (from nltk) (4.48.2)\n",
            "Requirement already satisfied: regex in c:\\users\\user\\opencv\\lib\\site-packages (from nltk) (2020.7.14)\n",
            "showing info https://raw.githubusercontent.com/nltk/nltk_data/gh-pages/index.xml\n"
          ],
          "name": "stdout"
        },
        {
          "output_type": "execute_result",
          "data": {
            "text/plain": [
              "True"
            ]
          },
          "metadata": {
            "tags": []
          },
          "execution_count": 12
        }
      ]
    },
    {
      "cell_type": "markdown",
      "metadata": {
        "id": "I9cCsfqcE2VP"
      },
      "source": [
        "## Definindo o corpus\n",
        "\n",
        "Primeiramente, definimos o corpus que iremos trabalhar."
      ]
    },
    {
      "cell_type": "code",
      "metadata": {
        "id": "7EK3o5NME2VQ"
      },
      "source": [
        "# Caso o pacote wikipedia não funcione:\n",
        "## Entre no link e faça downaload do arquivo https://drive.google.com/open?id=15R1jcugeM5SoGSPIPyG_6X6F3oMlxSBt\n",
        "## Depois leia com o comando abaixo\n",
        "#file = open(\"pln_wikipedia.txt\", 'r')\n",
        "#file_wiki = file.readlines()\n",
        "#file.close()\n",
        "#corpus = '\\n'.join(file_wiki)"
      ],
      "execution_count": null,
      "outputs": []
    },
    {
      "cell_type": "code",
      "metadata": {
        "id": "tm1Ar8uGE2VW"
      },
      "source": [
        "wikipedia.set_lang(\"pt\")"
      ],
      "execution_count": null,
      "outputs": []
    },
    {
      "cell_type": "code",
      "metadata": {
        "id": "5d-E-QsJE2VZ"
      },
      "source": [
        "pln = wikipedia.page(\"PLN\")"
      ],
      "execution_count": null,
      "outputs": []
    },
    {
      "cell_type": "code",
      "metadata": {
        "id": "rGXLthsFE2Vg"
      },
      "source": [
        "corpus = pln.content"
      ],
      "execution_count": null,
      "outputs": []
    },
    {
      "cell_type": "code",
      "metadata": {
        "id": "vfjF9QFbE2Vj",
        "outputId": "7fe9eec8-e80f-4f86-fab3-5ecf35c78f1e"
      },
      "source": [
        "print(\"O texto que estamos utilizando é da URL\",pln.url)"
      ],
      "execution_count": null,
      "outputs": [
        {
          "output_type": "stream",
          "text": [
            "O texto que estamos utilizando é da URL https://pt.wikipedia.org/wiki/Processamento_de_linguagem_natural\n"
          ],
          "name": "stdout"
        }
      ]
    },
    {
      "cell_type": "code",
      "metadata": {
        "id": "SdzdUIqAE2Vo",
        "outputId": "a9051058-978d-415f-cd4b-ed1b594d8204"
      },
      "source": [
        "print(pln.content)"
      ],
      "execution_count": null,
      "outputs": [
        {
          "output_type": "stream",
          "text": [
            "Processamento de língua natural (PLN) é uma subárea da ciência da computação, inteligência artificial e da linguística que estuda os problemas da geração e compreensão automática de línguas humanas naturais. Sistemas de geração de língua natural convertem informação de bancos de dados de computadores em linguagem compreensível ao ser humano e sistemas de compreensão de língua natural convertem ocorrências de linguagem humana em representações mais formais, mais facilmente manipuláveis por programas de computador. Alguns desafios do PLN são compreensão de língua natural, fazer com que computadores extraiam sentido de linguagem humana ou natural e geração de língua natural.\n",
            "\n",
            "\n",
            "== História ==\n",
            "A história do PLN começou na década de 1950, quando Alan Turing publicou o artigo \"Computing Machinery and Intelligence\", que propunha o que agora é chamado de teste de Turing como critério de inteligência.\n",
            "Em 1954, a experiência de Georgetown envolveu a tradução automática de mais de sessenta frases russas para o inglês. Os autores afirmaram que dentro de três ou cinco anos a tradução automática seria um problema resolvido. No entanto, os avanços reais foram muito mais lentos do que o previsto e, após o relatório ALPAC em 1966, que constatou que a pesquisa de dez anos não conseguiu satisfazer as expectativas, o financiamento para este estudo em tradução automática foi reduzido drasticamente. Poucas pesquisas em tradução automática foram conduzidas até o final dos anos 80, quando os primeiros sistemas estatísticos de tradução foram desenvolvidos.\n",
            "Alguns sistemas de PLN bem sucedidos desenvolvidos nos anos 60 foram SHRDLU, um sistema de língua natural que trabalhava em \"blocks worlds\" com vocabulário restrito e ELIZA, uma simulação de um psicoterapeuta escrita por Joseph Weizenbaum entre 1964 e 1966. Usando pouca informação sobre o pensamento ou a emoção humana, ELIZA criava, em alguns casos, interações surpreendentemente humanas. Quando o \"paciente\" excedia a base de conhecimento do programa, ELIZA fornecia uma resposta genérica, por exemplo, respondendo a \"Minha cabeça dói\" com \"Por que você diz que sua cabeça dói?\".\n",
            "Durante a década de 1970, muitos programadores começaram a escrever \"ontologias conceituais\", que estruturaram a informação do mundo real em dados compreensíveis por computadores. Exemplos são MARGIE (SCHANK, 1975), SAM (CULLINGFORD, 1978), PAM (WILENSKY, 1978), TaleSpin (MEEHAN, 1976), QUALM (LEHNERT, 1977), Politics (CARBONELL, 1979) e Plot Units (LEHNERT, 1981 ). Neste período, muitos chatterbots foram escritos, como PARRY, Racter e Jabberwacky.\n",
            "Até a década de 1980, a maioria dos sistemas de PLN se baseava em conjuntos complexos de regras manuscritas. A partir do final dos anos 1980, no entanto, houve uma revolução no PLN com a introdução de algoritmos de aprendizagem automática (aprendizado de máquina) para o processamento de linguagem. Isto foi devido tanto ao aumento constante do poder computacional (ver Lei de Moore) quanto à diminuição gradual da dominância das teorias da linguística chomskyanas (como a gramática gerativa), cujos fundamentos teóricos desestimularam o tipo de corpus linguístico que está subjacente à abordagem da aprendizagem automática ao processamento da linguagem.\n",
            "Alguns dos algoritmos de aprendizado de máquinas mais antigos, como as árvores de decisão, produziam sistemas de regras rígidas então semelhantes às regras existentes na escritas à mão. No entanto, a marcação de partes da fala (part-of-speech tagging) introduziu o uso de modelos ocultos de Markov para o PLN e, cada vez mais, a pesquisa se concentrava em modelos estatísticos, que tomam decisões suaves e probabilísticas baseadas na atribuição de pesos reais aos recursos que compõem dados de entrada. Os modelos de linguagem de cache, sobre os quais muitos sistemas de reconhecimento de fala agora dependem, são exemplos de tais modelos estatísticos. Esses modelos são geralmente mais robustos quando dados informações desconhecidas, especialmente entrada que contém erros (como é muito comum para dados do mundo real) e produzem resultados mais confiáveis quando integrados em sistemas maiores que compreendem múltiplas tarefas.\n",
            "Muitos dos sucessos iniciais notáveis ocorreram no campo da tradução automática, devido especialmente ao trabalho de pesquisa da IBM, que desenvolveu modelos estatísticos mais elaborados. Estes sistemas foram capazes de tirar proveito de corpora textuais multilíngues existentes  produzidos pelo Parlamento do Canadá e a União Europeia como resultado de leis que exigem a tradução de todos os processos governamentais em todas as línguas oficiais dos países. No entanto, a maioria dos sistemas dependia de corpora desenvolvido especificamente para tarefas implementadas por esses sistemas, o que era (e muitas vezes continua sendo) uma grande limitação no sucesso dos mesmo. Como resultado, uma grande quantidade de pesquisa passou de quantidades de dados limitadas a métodos de aprendizagem mais eficazes.\n",
            "Pesquisas recentes têm se concentrado cada vez mais em algoritmos de aprendizagem semi-supervisionados e sem supervisão. Esses algoritmos são capazes de aprender com dados que não foram anotados manualmente com as respostas desejadas ou usando uma combinação de dados anotados e não anotados. Geralmente, esta tarefa é muito mais trabalhosa do que a aprendizagem supervisionada e normalmente produz resultados menos precisos para uma quantidade específica de dados de entrada. No entanto, há uma enorme quantidade de dados não anotados disponíveis (incluindo, entre outras coisas, todo o conteúdo da World Wide Web), que muitas vezes pode compensar os resultados inferiores.\n",
            "\n",
            "\n",
            "== Usando a aprendizagem automática (aprendizado de máquina) ==\n",
            "Os algoritmos modernos de PLN baseiam-se na aprendizagem mecânica, especialmente na aprendizagem de máquinas estatísticas. O paradigma da aprendizagem mecânica é diferente do da maioria das tentativas anteriores de processamento da linguagem. Anteriormente, implementações de tarefas de processamento de linguagem envolviam a codificação direta de grandes conjuntos de regras. O paradigma da aprendizagem automática (ou aprendizagem automática) induz a aprendizagem automática de regras através de análises de corpora de exemplos típicos do mundo real ao invés de usar algoritmos gerais de aprendizagem (muitas vezes, embora nem sempre, baseados em inferência estatística). Um corpus (plural \"corpora\") é um conjunto de documentos (ou frases individuais) que foram anotados à mão com os valores corretos a serem aprendidos.\n",
            "Muitas classes diferentes de algoritmos de aprendizado de máquina foram aplicadas a tarefas de PLN. Esses algoritmos tomam como entrada um grande conjunto de \"recursos\" que são gerados a partir de dados de entrada.\n",
            "Alguns dos algoritmos mais usados, como árvores de decisão, produziam sistemas de regras rígidas semelhantes aos sistemas de regras manuscritas mais comuns. No entanto, cada vez mais, a pesquisa tem se concentrado em modelos estatísticos, que tomam decisões flexíveis e probabilísticas baseadas em agregar pesos reais a cada característica de entrada. Tais modelos têm a vantagem de poder expressar a certeza relativa de muitas respostas possíveis diferentes em vez de apenas uma, produzindo resultados mais confiáveis quando esse modelo é incluído como um componente de um sistema maior.\n",
            "Os sistemas baseados em algoritmos de aprendizagem mecânica têm muitas vantagens em relação às regras produzidas manualmente:\n",
            "\n",
            "Os procedimentos de aprendizagem usados durante a aprendizagem da máquina focam-se automaticamente nos casos mais comuns, ao passo que quando se escrevem regras à mão, não é óbvio em que sentido o esforço deve ser dirigido.\n",
            "Os procedimentos de aprendizagem automática podem fazer uso de algoritmos de inferência estatística para produzir modelos que são robustos a entradas não familiares (por exemplo, contendo palavras ou estruturas que não foram vistas antes) e a entradas errôneas (por exemplo, com palavras ou palavras incorretamente omitidas). Geralmente, lidar com essas entradas de forma com regras manuscritas ou sistemas de regras manuscritas que tomam decisões suaves é extremamente trabalhoso, propenso a erros e demorado.\n",
            "Sistemas baseados em aprender automaticamente as regras podem ser mais precisos simplesmente fornecendo mais dados de entrada. No entanto, os sistemas baseados em regras escritas à mão só podem ser tornados mais precisos aumentando a complexidade das regras, o que é uma tarefa muito mais difícil. Em particular, há um limite para a complexidade de sistemas baseados em regras artesanais, para além dos quais os sistemas se tornam cada vez mais incontroláveis. No entanto, a criação de mais dados para entrada em sistemas de aprendizado de máquina requer simplesmente um aumento correspondente no número de horas trabalhadas por humanos, geralmente sem aumentos significativos na complexidade do processo de anotação.O subcampo de PLN dedicado a abordagens de aprendizagem é conhecido como aprendizagem de língua natural (NLL) e sua conferência, a CoNLL, e orgão central, o SIGNLL, são patrocinados pela ACL, reconhecendo também as suas ligações com linguística computacional e aquisição de linguagem. Quando o objetivo da pesquisa de aprendizagem de linguagem computacional é entender mais sobre aquisição de linguagem humana, ou psicolinguística, a NLL sobrepõe-se no campo relacionado de psicolinguística computacional.\n",
            "\n",
            "\n",
            "== Aplicações principais ==\n",
            "A listagem a seguir traz alguns dos trabalhos mais pesquisadas em PLN. Note que alguns deles têm aplicações no mundo real, enquanto outras servem mais frequentemente como tarefas secundárias que são usadas para auxiliar na resolução de tarefas maiores. O que distingue essas tarefas de outras tarefas potenciais e reais de PLN não é apenas o volume de pesquisa dedicado a elas, mas o fato de que para cada uma há tipicamente uma definição de problema bem especificada, uma métrica padrão para avaliar a tarefa, corpora padrão em que a tarefa pode ser avaliada e as competições dedicadas à tarefa específica.\n",
            "Sumarização automática\n",
            "\n",
            "Produz um resumo legível de uma parte do texto. Muitas vezes usado para fornecer resumos de texto de um tipo conhecido, como artigos na seção financeira de um jornal.Resolução de correferência\n",
            "\n",
            "Dada uma frase ou um pedaço maior de texto, determina quais palavras (\"menções\") se referem aos mesmos objetos (\"entidades\"). A resolução da anáfora é um exemplo específico dessa tarefa e está especificamente preocupada em combinar os pronomes com os substantivos ou nomes aos quais eles se referem. A tarefa mais geral da resolução de correferência também inclui a identificação dos chamados \"relacionamentos de ponte\" envolvendo expressões de referência. Por exemplo, numa frase como \"Ele entrou na casa de João pela porta da frente\", \"a porta da frente\" é uma expressão de referência e a relação da ponte a ser identificada é o fato de que a porta a ser referida é a porta da frente de John's (ao invés de alguma outra estrutura que também pode ser referida).Análise do Discurso\n",
            "\n",
            "Esta rubrica inclui uma série de tarefas relacionadas. Uma tarefa é identificar a estrutura discursiva do texto conectado, isto é, a natureza das relações discursivas entre sentenças (por exemplo, elaboração, explicação, contraste). Outra possível tarefa é reconhecer e classificar os atos de fala em um pedaço de texto (por exemplo, pergunta sim-não, pergunta de conteúdo, frase, afirmação, etc).Maquina de tradução\n",
            "\n",
            "Traduzir automaticamente texto de uma linguagem humana para outra. Este é uma das tarefas mais difíceis e faz parte de um tipo de problemas conhecidos como \"AI-complete\", ou seja, exigindo todos os diferentes tipos de conhecimento que os humanos possuem (gramática, semântica, fatos sobre o mundo real, etc) para resolvê-lo adequadamente.Segmentação morfológica\n",
            "\n",
            "Separa palavras em morfemas individuais e identifica classes de morfemas. A dificuldade desta tarefa depende muito da complexidade da morfologia (isto é, da estrutura das palavras) da linguagem que está sendo considerada. O inglês possui uma morfologia bastante simples, especialmente a morfologia flexional, e portanto é possível ignorar esta tarefa inteiramente e simplesmente modelar todas as formas possíveis de uma palavra (por exemplo, \"open, opens, opened, opening\") como palavras separadas. Em línguas como o turco ou o Meitei, uma língua indiana fortemente aglutinada, no entanto, tal abordagem não é possível, uma vez que cada entrada do dicionário tem milhares de formas de palavras possíveis.Reconhecimento de entidade nomeada (NER)\n",
            "\n",
            "Dado um fluxo de texto, determina quais são itens no mapa de texto para nomes próprios, como pessoas ou locais e qual é o tipo de cada nome (por exemplo, pessoa, local, organização). Embora a capitalização possa ajudar a reconhecer entidades nomeadas em idiomas como o inglês, essas informações podem não ajudar a determinar o tipo de entidade nomeada e, em alguns casos, sãos imprecisas ou insuficientes. Por exemplo, a primeira palavra de uma frase também é capitalizada e as entidades nomeadas muitas vezes abrangem várias palavras, com apenas algumas delas são capitalizadas. Além disso, muitas outras linguagens em scripts não-ocidentais (por exemplo, chinês ou árabe) não têm nenhuma capitalização e mesmo as línguas com maiúsculas podem não distinguir nomes. Por exemplo, o alemão capitaliza todos os substantivos, independentemente de se referirem a nomes, e o francês e o espanhol não capitalizam nomes que servem como adjetivos.Geração de língua natural\n",
            "\n",
            "Converte informações de bancos de dados de computador ou intenções semânticas em linguagem humana legível.Compreensão da língua natural\n",
            "\n",
            "Converte pedaços de texto em representações mais formais, como estruturas de lógica de primeira ordem, que são mais fáceis de manipular pelos programas de computador. A compreensão da língua natural envolve a identificação da semântica pretendida a partir da múltipla semântica possível que pode ser derivada de uma expressão de língua natural que geralmente toma a forma de notação organizada de conceitos de linguagens naturais. Entretanto, introdução e criação de linguagem metamodelo e ontologia são eficientes soluções empíricas. Uma formalização explícita da semântica de línguas naturais sem confusões com suposições implícitas como closed-world assumption (CWA) versus open-world assumption ou subjetiva Sim / Não versus objetivo Verdadeiro / Falso é esperada para a construção de uma base de formalização semântica.Reconhecimento óptico de caracteres (OCR)\n",
            "\n",
            "Dada uma imagem que representa o texto impresso, determina o texto correspondente.Marcação de classe gramatical\n",
            "\n",
            "Dada uma sentença, determina a classe gramatical de cada palavra. Muitas palavras, especialmente as comuns, podem servir como múltiplas partes do discurso. Em inglês, por exemplo, \"book\" pode ser um substantivo (\"the book on the table\") ou verbo (\"book a flight\"); \"Set\" pode ser um substantivo, verbo ou adjetivo; E \"out\" pode ser qualquer um de pelo menos cinco diferentes partes da fala. Algumas línguas têm mais ambiguidade do que outras. As línguas com pouca morfologia flexional, como o inglês, são particularmente propensas a tal ambiguidade. O chinês é propenso a tal ambiguidade porque é uma língua tonal durante a verbalização. Tal inflexão não é facilmente transmitida através das entidades empregadas dentro da ortografia para transmitir o significado pretendido.Análise sintática (Parsing)\n",
            "\n",
            "Determina a árvore de análise (análise gramatical) de uma frase. A gramática para as linguagens naturais é ambígua e frases típicas têm múltiplas análises possíveis. Na verdade, surpreendentemente, para uma frase típica pode haver milhares de análises em potencial (a maioria dos quais parecerá completamente absurda para um ser humano).Respostas a perguntas\n",
            "\n",
            "Dada uma questão de linguagem humana, determina sua resposta. As perguntas típicas têm uma resposta correta específica (como \"Qual é o capital do Canadá?\"), mas às vezes perguntas abertas também são consideradas (como \"Qual é o significado da vida?\"). Trabalhos recentes têm analisado questões ainda mais complexas.Extração de relacionamento\n",
            "\n",
            "Identifica as relações entre entidades nomeadas (por exemplo, quem é casado com quem) com base em textos.Quebra de frases (sentence boundary disambiguation)\n",
            "\n",
            "Encontra os limites da frase em um pedaço de texto. Os limites de frases são normalmente marcadas por pontos ou outros sinais de pontuação, mas esses mesmos caracteres podem servir outros propósitos.Análise de subjetividade (sentiment analysis ou opinion mining)\n",
            "\n",
            "Extrai informações subjetivas geralmente de um conjunto de documentos, muitas vezes usando revisões online para determinar a \"polaridade\" sobre objetos específicos. É especialmente útil para identificar tendências da opinião pública nas mídias sociais, para fins de marketing.Reconhecimento de fala\n",
            "\n",
            "Dado um clipe de som de uma pessoa ou pessoas falando, determina a representação textual do discurso. É o oposto da síntese de fala e é uma das áreas mais difíceis, conhecida como \"AI-complete\". Na fala natural quase não há pausas entre palavras sucessivas, por isso a segmentação de fala é uma subtarefa necessária de reconhecimento de fala. Nota-se também que, na maioria das linguagens faladas, os sons que representam letras sucessivas se misturam entre si em um processo denominado coarticulação, de modo que a conversão do sinal analógico em caracteres discretos pode ser um processo muito difícil de ser realizado.Segmentação de fala\n",
            "\n",
            "Dado um clipe de som de uma pessoa ou pessoas falando, separa-o em palavras. Uma subaplicação de reconhecimento de fala e normalmente agrupada com ele.Análise morfológica e reconhecimento de tópicos\n",
            "\n",
            "Dado um pedaço de texto, separa-o em segmentos cada um dos quais é dedicado a um tópico e identifica o tópico do segmento.Análise morfológica e segmentação de palavras\n",
            "\n",
            "Separa um pedaço de texto contínuo em palavras separadas. Para uma língua como o inglês, isso é bastante trivial, uma vez que as palavras são normalmente separadas por espaços. No entanto, algumas línguas escritas como chinês, japonês e tailandês não marcam limites de palavras de tal forma, e nessas línguas segmentação de texto é uma tarefa significativa que requer conhecimento do vocabulário e morfologia das palavras na língua.Desambiguação\n",
            "\n",
            "Muitas palavras têm mais de um significado, assim temos que selecionar o significado que faz mais sentido no contexto. Para este problema, em geral é dada uma lista de palavras e sentidos de palavras associadas de um dicionário ou recurso online, como o WordNet.\n",
            "Em alguns casos, conjuntos de tarefas relacionadas são agrupados em subcampos de PLN que são frequentemente considerados separadamente da PLN como um todo, como os exemplos à seguir:Recuperação de informação (IR)\n",
            "\n",
            "Trata-se de armazenar, pesquisar e recuperar informações. É um campo separado dentro da ciência da computação (mais perto de bancos de dados), mas a IR se baseia em alguns métodos PLN (por exemplo, stemming). Algumas pesquisas e aplicações atuais procuram preencher a lacuna entre IR e PLN.Extração de informação (IE)\n",
            "\n",
            "Trata-se, em geral, da extração de informação semântica a partir do texto. Abrange tarefas como reconhecimento de entidade mencionada, resolução de correferência e de relacionamento de extração, etc.\n",
            "Processamento de voz  Abrange reconhecimento de fala, síntese de fala e tarefas relacionadas.\n",
            "Outras tarefas incluem:\n",
            "Identificação na língua materna\n",
            "Stemização\n",
            "Simplificação do texto\n",
            "Síntese de fala\n",
            "Revisão de texto\n",
            "Pesquisa em língua natural\n",
            "Expansão da consulta\n",
            "Pontuação de ensaio automatizado\n",
            "Truecasing\n",
            "\n",
            "\n",
            "== Estatística ==\n",
            "Artigo principal: Gramática estocástica\n",
            "O processamento estatístico em língua natural utiliza métodos estocásticos, probabilísticos e estatísticos para resolver algumas das dificuldades discutidas acima, especialmente aquelas que surgem porque frases mais longas são muito ambíguas quando processadas com gramáticas realistas, produzindo milhares ou milhões de análises possíveis. Métodos de desambiguação envolvem muitas vezes o uso de corpora e modelos de Markov. O projeto ESPRIT P26 (1984-1988), liderado pelo CSELT, explorou o problema do reconhecimento de fala comparando abordagem baseada em conhecimento e estatística: o resultado escolhido foi um modelo completamente estatístico. Um dos primeiros modelos de compreensão estatística da língua natural foi introduzido em 1991 por Roberto Pieraccini, Esther Levin e Chin-Hui Lee, da Bell Laboratories]. O PLN compreende todas as abordagens quantitativas para processamento automatizado de linguagem, incluindo modelagem probabilística, teoria da informação e álgebra linear. A tecnologia para o PLN estatístico vem principalmente da aprendizagem automática e da mineração de dados, que são campos de inteligência artificial que envolvem o aprendizado a partir de dados.\n",
            "\n",
            "\n",
            "== Avaliação ==\n",
            "O objetivo da avaliação do PLN é uma medida de uma ou mais qualidades de um algoritmo ou de um sistema a fim de determinar se o algoritmo atende às metas dos projetistas ou o sistema de atendimento às necessidades de seus usuários. Investigação na avaliação PLN  tem ganhado atenção, porque a definição de critérios de avaliação é uma forma de especificar precisamente problemas do PLN. Uma métrica de avaliação de PLN em um sistema algorítmico permite a integração da compreensão de linguagem e geração de linguagem. Um conjunto preciso de critérios de avaliação, que pode ser aplicado principalmente a avaliações métricas, podendo permitir que várias equipes comparem suas soluções para um determinado problema do PLN.\n",
            "\n",
            "\n",
            "== Cronologia da avaliação ==\n",
            "Em 1983, iniciou-se o Projecto Esprit P26, que avaliou as Tecnologias da Fala (incluindo tópicos gerais como Sintaxe e Semântica) comparando as abordagens baseadas em regras com as estatísticas.\n",
            "Em 1987, a primeira campanha de avaliação de textos escritos parece ser uma campanha dedicada à compreensão da mensagem (Pallet, 1998).\n",
            "O projeto Parseval / GEIG comparou gramáticas de frase-estrutura (Black 1991).\n",
            "Houve uma série de campanhas no projeto Tipster sobre tarefas como resumo, tradução e pesquisa (Hirschman 1998).\n",
            "Em 1994, na Alemanha, o Morpholympics comparou marcadores morfológicos alemães.\n",
            "As campanhas de Senseval & Romanseval foram realizadas com os objetivos de desambiguação semântica.\n",
            "Em 1996, a campanha Sparkle comparou os analisadores sintáticos em quatro idiomas diferentes (inglês, francês, alemão e italiano).\n",
            "Na França, o projeto Grace comparou um conjunto de 21 marcadores para o francês em 1997 (Adda 1999).\n",
            "Em 2004, durante o projeto Technolangue / Easy, foram comparados 13 analisadores para o francês.\n",
            "A avaliação em larga escala dos analisadores de dependência foi realizada no contexto das tarefas compartilhadas do CoNLL em 2006 e 2007.\n",
            "Na França, no âmbito do projecto ANR-Passage (final de 2007), foram comparados 10 analisadores para o francês.\n",
            "Em Itália, a campanha EVALITA foi realizada em 2007, 2009, 2011 e 2014 para comparar várias ferramentas de PLN e de voz para o site italiano - EVALITA.\n",
            "\n",
            "\n",
            "== Diferentes tipos de avaliação ==\n",
            "Avaliação intrínseca vs. extrínseca\n",
            "A avaliação intrínseca considera um sistema PNL isolado e caracteriza seu desempenho em relação a um resultado padrão-excelência, conforme definido pelos avaliadores. A avaliação extrínseca, também chamada de avaliação em uso, considera o sistema PLN em um cenário mais complexo como um sistema embutido ou uma função precisa para um usuário humano. O desempenho extrínseco do sistema é então caracterizado em termos de utilidade em relação à tarefa global do sistema estranho ou do utilizador humano. Por exemplo, considere um analisador sintático que é baseado na saída de alguma parte do tagger de fala (POS). Uma avaliação intrínseca executaria o marcador POS em dados estruturados e compararia a saída do sistema do marcador POS com a saída padrão ouro. Uma avaliação extrínseca executaria o analisador com algum outro marcador POS e, em seguida, com o marcador POS novo e compara a precisão de análise.\n",
            "Caixa preta vs. Avaliação da caixa de vidro\n",
            "A avaliação em caixa preta requer que alguém execute um sistema PLN em um conjunto de dados de amostra e para medir uma série de parâmetros relacionados com a qualidade do processo, como velocidade, confiabilidade, consumo de recursos e, principalmente, a qualidade do resultado, como a precisão da anotação de dados ou a fidelidade de uma tradução. A avaliação da caixa de vidro examina a concepção do sistema; Os algoritmos que são implementados, os recursos linguísticos que utiliza, como o tamanho do vocabulário ou a expressão definida de cardinalidade. Dada a complexidade dos problemas da PLN, muitas vezes é difícil prever o desempenho apenas com base na avaliação da caixa de vidro; Mas este tipo de avaliação é mais informativo no que diz respeito à análise de erros ou desenvolvimentos futuros de um sistema.\n",
            "Automática vs. avaliação manual\n",
            "Em muitos casos, procedimentos automáticos podem ser definidos para avaliar um sistema de PLN, comparando sua saída com o padrão de excelência. Embora o custo de reproduzir o padrão de excelência possa ser bastante elevado, avaliação automática de bootstrapping sobre os mesmos dados de entrada pode ser repetida quantas vezes for necessário sem custos adicionais desordenados. No entanto, para muitos problemas de PLN a definição precisa de um padrão de excelência é uma tarefa complexa e pode se revelar impossível quando o acordo inter-anotador é insuficiente. A avaliação manual é melhor realizada por juízes humanos instruídos para estimar a qualidade de um sistema, ou mais frequentemente de uma amostra de sua produção, com base em uma série de critérios. Embora, graças à sua competência linguística, os juízes humanos possam ser considerados como a referência para uma série de tarefas de processamento de linguagem, há também uma variação considerável em suas classificações. É por isso que a avaliação automática é, por vezes, referida como avaliação objetiva enquanto a avaliação humana é perspectiva.\n",
            "\n",
            "\n",
            "== Padronização ==\n",
            "Um subcomitê ISO está trabalhando para facilitar a interoperabilidade entre recursos lexicais e programas PLN. O subcomitê faz parte do ISO / TC37 e é chamado ISO / TC37 / SC4. Alguns padrões ISO já estão publicados, mas a maioria deles está em construção, principalmente na representação de léxico (ver LMF), anotação e registro de categoria de dados.\n",
            "\n",
            "\n",
            "== Ferramentas ==\n",
            "Expert System S.p.A.\n",
            "General Architecture for Text Engineering\n",
            "Modular Audio Recognition Framework\n",
            "Natural Language Toolkit (NLTK): uma biblioteca em Python\n",
            "OpenNLP\n",
            "\n",
            "\n",
            "== Veja também ==\n",
            "Mineração de texto biomédica\n",
            "Processo de processamento composto\n",
            "Revisão assistida por computador\n",
            "Linguagem natural controlada\n",
            "Processamento linguístico profundo\n",
            "Auxílio à leitura de línguas estrangeiras\n",
            "Auxílio à escrita em língua estrangeira\n",
            "Tecnologia da linguagem\n",
            "A alocação de Dirichlet Latente (LDA)\n",
            "Indexação semântica latente\n",
            "Lista de ferramentas de processamento de língua natural\n",
            "Mapa de LRE\n",
            "Programação em língua natural\n",
            "Reificação (linguística)\n",
            "Dobradura semântica\n",
            "Sistema de diálogo falado\n",
            "Vetor do Pensamento\n",
            "Pesquisa Transderivacional\n",
            "Word2vec\n",
            "\n",
            "\n",
            "== Referências ==\n",
            "\n",
            "\n",
            "== Leitura adicional ==\n",
            "Steven Bird, Ewan Klein, and Edward Loper (2009). Natural Language Processing with Python. O'Reilly Media. ISBN 978-0-596-51649-9.\n",
            "Daniel Jurafsky and James H. Martin (2008). Speech and Language Processing, 2nd edition. Pearson Prentice Hall. ISBN 978-0-13-187321-6.\n",
            "Christopher D. Manning, Prabhakar Raghavan, and Hinrich Schütze (2008). Introduction to Information Retrieval. Cambridge University Press. ISBN 978-0-521-86571-5. Official html and pdf versions available without charge.\n",
            "Christopher D. Manning and Hinrich Schütze (1999). Foundations of Statistical Natural Language Processing. The MIT Press. ISBN 978-0-262-13360-9.\n",
            "David M. W. Powers and Christopher C. R. Turk (1989). Machine Learning of Natural Language. Springer-Verlag. ISBN 978-0-387-19557-5.\n"
          ],
          "name": "stdout"
        }
      ]
    },
    {
      "cell_type": "markdown",
      "metadata": {
        "id": "Wv23KoPjE2Vr"
      },
      "source": [
        "## Tokenização\n",
        "\n",
        "Existem várias formas de realizar tokenização.\n",
        "1. Split()\n",
        "2. Regex\n",
        "3. NLTK\n",
        "4. ..."
      ]
    },
    {
      "cell_type": "markdown",
      "metadata": {
        "id": "IrmQXE3jE2Vt"
      },
      "source": [
        "### Split\n",
        "\n",
        "1. Faça utilizando o método abaixo\n",
        "<b> Não esqueça de armazenar o resultado na variável abaixo. </b>\n",
        "\n",
        "```python\n",
        "str.split()\n",
        "```"
      ]
    },
    {
      "cell_type": "code",
      "metadata": {
        "id": "Q5wYhcXRE2Vv"
      },
      "source": [
        "tokens_split = str.split(corpus)"
      ],
      "execution_count": null,
      "outputs": []
    },
    {
      "cell_type": "code",
      "metadata": {
        "id": "3bdDnMyGE2Vz",
        "outputId": "cfca67c6-03a4-420e-8f51-04a5b1c3109b"
      },
      "source": [
        "#problema do split é que ele não separa as pontuações.\n",
        "print(tokens_split)"
      ],
      "execution_count": null,
      "outputs": [
        {
          "output_type": "stream",
          "text": [
            "['Processamento', 'de', 'língua', 'natural', '(PLN)', 'é', 'uma', 'subárea', 'da', 'ciência', 'da', 'computação,', 'inteligência', 'artificial', 'e', 'da', 'linguística', 'que', 'estuda', 'os', 'problemas', 'da', 'geração', 'e', 'compreensão', 'automática', 'de', 'línguas', 'humanas', 'naturais.', 'Sistemas', 'de', 'geração', 'de', 'língua', 'natural', 'convertem', 'informação', 'de', 'bancos', 'de', 'dados', 'de', 'computadores', 'em', 'linguagem', 'compreensível', 'ao', 'ser', 'humano', 'e', 'sistemas', 'de', 'compreensão', 'de', 'língua', 'natural', 'convertem', 'ocorrências', 'de', 'linguagem', 'humana', 'em', 'representações', 'mais', 'formais,', 'mais', 'facilmente', 'manipuláveis', 'por', 'programas', 'de', 'computador.', 'Alguns', 'desafios', 'do', 'PLN', 'são', 'compreensão', 'de', 'língua', 'natural,', 'fazer', 'com', 'que', 'computadores', 'extraiam', 'sentido', 'de', 'linguagem', 'humana', 'ou', 'natural', 'e', 'geração', 'de', 'língua', 'natural.', '==', 'História', '==', 'A', 'história', 'do', 'PLN', 'começou', 'na', 'década', 'de', '1950,', 'quando', 'Alan', 'Turing', 'publicou', 'o', 'artigo', '\"Computing', 'Machinery', 'and', 'Intelligence\",', 'que', 'propunha', 'o', 'que', 'agora', 'é', 'chamado', 'de', 'teste', 'de', 'Turing', 'como', 'critério', 'de', 'inteligência.', 'Em', '1954,', 'a', 'experiência', 'de', 'Georgetown', 'envolveu', 'a', 'tradução', 'automática', 'de', 'mais', 'de', 'sessenta', 'frases', 'russas', 'para', 'o', 'inglês.', 'Os', 'autores', 'afirmaram', 'que', 'dentro', 'de', 'três', 'ou', 'cinco', 'anos', 'a', 'tradução', 'automática', 'seria', 'um', 'problema', 'resolvido.', 'No', 'entanto,', 'os', 'avanços', 'reais', 'foram', 'muito', 'mais', 'lentos', 'do', 'que', 'o', 'previsto', 'e,', 'após', 'o', 'relatório', 'ALPAC', 'em', '1966,', 'que', 'constatou', 'que', 'a', 'pesquisa', 'de', 'dez', 'anos', 'não', 'conseguiu', 'satisfazer', 'as', 'expectativas,', 'o', 'financiamento', 'para', 'este', 'estudo', 'em', 'tradução', 'automática', 'foi', 'reduzido', 'drasticamente.', 'Poucas', 'pesquisas', 'em', 'tradução', 'automática', 'foram', 'conduzidas', 'até', 'o', 'final', 'dos', 'anos', '80,', 'quando', 'os', 'primeiros', 'sistemas', 'estatísticos', 'de', 'tradução', 'foram', 'desenvolvidos.', 'Alguns', 'sistemas', 'de', 'PLN', 'bem', 'sucedidos', 'desenvolvidos', 'nos', 'anos', '60', 'foram', 'SHRDLU,', 'um', 'sistema', 'de', 'língua', 'natural', 'que', 'trabalhava', 'em', '\"blocks', 'worlds\"', 'com', 'vocabulário', 'restrito', 'e', 'ELIZA,', 'uma', 'simulação', 'de', 'um', 'psicoterapeuta', 'escrita', 'por', 'Joseph', 'Weizenbaum', 'entre', '1964', 'e', '1966.', 'Usando', 'pouca', 'informação', 'sobre', 'o', 'pensamento', 'ou', 'a', 'emoção', 'humana,', 'ELIZA', 'criava,', 'em', 'alguns', 'casos,', 'interações', 'surpreendentemente', 'humanas.', 'Quando', 'o', '\"paciente\"', 'excedia', 'a', 'base', 'de', 'conhecimento', 'do', 'programa,', 'ELIZA', 'fornecia', 'uma', 'resposta', 'genérica,', 'por', 'exemplo,', 'respondendo', 'a', '\"Minha', 'cabeça', 'dói\"', 'com', '\"Por', 'que', 'você', 'diz', 'que', 'sua', 'cabeça', 'dói?\".', 'Durante', 'a', 'década', 'de', '1970,', 'muitos', 'programadores', 'começaram', 'a', 'escrever', '\"ontologias', 'conceituais\",', 'que', 'estruturaram', 'a', 'informação', 'do', 'mundo', 'real', 'em', 'dados', 'compreensíveis', 'por', 'computadores.', 'Exemplos', 'são', 'MARGIE', '(SCHANK,', '1975),', 'SAM', '(CULLINGFORD,', '1978),', 'PAM', '(WILENSKY,', '1978),', 'TaleSpin', '(MEEHAN,', '1976),', 'QUALM', '(LEHNERT,', '1977),', 'Politics', '(CARBONELL,', '1979)', 'e', 'Plot', 'Units', '(LEHNERT,', '1981', ').', 'Neste', 'período,', 'muitos', 'chatterbots', 'foram', 'escritos,', 'como', 'PARRY,', 'Racter', 'e', 'Jabberwacky.', 'Até', 'a', 'década', 'de', '1980,', 'a', 'maioria', 'dos', 'sistemas', 'de', 'PLN', 'se', 'baseava', 'em', 'conjuntos', 'complexos', 'de', 'regras', 'manuscritas.', 'A', 'partir', 'do', 'final', 'dos', 'anos', '1980,', 'no', 'entanto,', 'houve', 'uma', 'revolução', 'no', 'PLN', 'com', 'a', 'introdução', 'de', 'algoritmos', 'de', 'aprendizagem', 'automática', '(aprendizado', 'de', 'máquina)', 'para', 'o', 'processamento', 'de', 'linguagem.', 'Isto', 'foi', 'devido', 'tanto', 'ao', 'aumento', 'constante', 'do', 'poder', 'computacional', '(ver', 'Lei', 'de', 'Moore)', 'quanto', 'à', 'diminuição', 'gradual', 'da', 'dominância', 'das', 'teorias', 'da', 'linguística', 'chomskyanas', '(como', 'a', 'gramática', 'gerativa),', 'cujos', 'fundamentos', 'teóricos', 'desestimularam', 'o', 'tipo', 'de', 'corpus', 'linguístico', 'que', 'está', 'subjacente', 'à', 'abordagem', 'da', 'aprendizagem', 'automática', 'ao', 'processamento', 'da', 'linguagem.', 'Alguns', 'dos', 'algoritmos', 'de', 'aprendizado', 'de', 'máquinas', 'mais', 'antigos,', 'como', 'as', 'árvores', 'de', 'decisão,', 'produziam', 'sistemas', 'de', 'regras', 'rígidas', 'então', 'semelhantes', 'às', 'regras', 'existentes', 'na', 'escritas', 'à', 'mão.', 'No', 'entanto,', 'a', 'marcação', 'de', 'partes', 'da', 'fala', '(part-of-speech', 'tagging)', 'introduziu', 'o', 'uso', 'de', 'modelos', 'ocultos', 'de', 'Markov', 'para', 'o', 'PLN', 'e,', 'cada', 'vez', 'mais,', 'a', 'pesquisa', 'se', 'concentrava', 'em', 'modelos', 'estatísticos,', 'que', 'tomam', 'decisões', 'suaves', 'e', 'probabilísticas', 'baseadas', 'na', 'atribuição', 'de', 'pesos', 'reais', 'aos', 'recursos', 'que', 'compõem', 'dados', 'de', 'entrada.', 'Os', 'modelos', 'de', 'linguagem', 'de', 'cache,', 'sobre', 'os', 'quais', 'muitos', 'sistemas', 'de', 'reconhecimento', 'de', 'fala', 'agora', 'dependem,', 'são', 'exemplos', 'de', 'tais', 'modelos', 'estatísticos.', 'Esses', 'modelos', 'são', 'geralmente', 'mais', 'robustos', 'quando', 'dados', 'informações', 'desconhecidas,', 'especialmente', 'entrada', 'que', 'contém', 'erros', '(como', 'é', 'muito', 'comum', 'para', 'dados', 'do', 'mundo', 'real)', 'e', 'produzem', 'resultados', 'mais', 'confiáveis', 'quando', 'integrados', 'em', 'sistemas', 'maiores', 'que', 'compreendem', 'múltiplas', 'tarefas.', 'Muitos', 'dos', 'sucessos', 'iniciais', 'notáveis', 'ocorreram', 'no', 'campo', 'da', 'tradução', 'automática,', 'devido', 'especialmente', 'ao', 'trabalho', 'de', 'pesquisa', 'da', 'IBM,', 'que', 'desenvolveu', 'modelos', 'estatísticos', 'mais', 'elaborados.', 'Estes', 'sistemas', 'foram', 'capazes', 'de', 'tirar', 'proveito', 'de', 'corpora', 'textuais', 'multilíngues', 'existentes', 'produzidos', 'pelo', 'Parlamento', 'do', 'Canadá', 'e', 'a', 'União', 'Europeia', 'como', 'resultado', 'de', 'leis', 'que', 'exigem', 'a', 'tradução', 'de', 'todos', 'os', 'processos', 'governamentais', 'em', 'todas', 'as', 'línguas', 'oficiais', 'dos', 'países.', 'No', 'entanto,', 'a', 'maioria', 'dos', 'sistemas', 'dependia', 'de', 'corpora', 'desenvolvido', 'especificamente', 'para', 'tarefas', 'implementadas', 'por', 'esses', 'sistemas,', 'o', 'que', 'era', '(e', 'muitas', 'vezes', 'continua', 'sendo)', 'uma', 'grande', 'limitação', 'no', 'sucesso', 'dos', 'mesmo.', 'Como', 'resultado,', 'uma', 'grande', 'quantidade', 'de', 'pesquisa', 'passou', 'de', 'quantidades', 'de', 'dados', 'limitadas', 'a', 'métodos', 'de', 'aprendizagem', 'mais', 'eficazes.', 'Pesquisas', 'recentes', 'têm', 'se', 'concentrado', 'cada', 'vez', 'mais', 'em', 'algoritmos', 'de', 'aprendizagem', 'semi-supervisionados', 'e', 'sem', 'supervisão.', 'Esses', 'algoritmos', 'são', 'capazes', 'de', 'aprender', 'com', 'dados', 'que', 'não', 'foram', 'anotados', 'manualmente', 'com', 'as', 'respostas', 'desejadas', 'ou', 'usando', 'uma', 'combinação', 'de', 'dados', 'anotados', 'e', 'não', 'anotados.', 'Geralmente,', 'esta', 'tarefa', 'é', 'muito', 'mais', 'trabalhosa', 'do', 'que', 'a', 'aprendizagem', 'supervisionada', 'e', 'normalmente', 'produz', 'resultados', 'menos', 'precisos', 'para', 'uma', 'quantidade', 'específica', 'de', 'dados', 'de', 'entrada.', 'No', 'entanto,', 'há', 'uma', 'enorme', 'quantidade', 'de', 'dados', 'não', 'anotados', 'disponíveis', '(incluindo,', 'entre', 'outras', 'coisas,', 'todo', 'o', 'conteúdo', 'da', 'World', 'Wide', 'Web),', 'que', 'muitas', 'vezes', 'pode', 'compensar', 'os', 'resultados', 'inferiores.', '==', 'Usando', 'a', 'aprendizagem', 'automática', '(aprendizado', 'de', 'máquina)', '==', 'Os', 'algoritmos', 'modernos', 'de', 'PLN', 'baseiam-se', 'na', 'aprendizagem', 'mecânica,', 'especialmente', 'na', 'aprendizagem', 'de', 'máquinas', 'estatísticas.', 'O', 'paradigma', 'da', 'aprendizagem', 'mecânica', 'é', 'diferente', 'do', 'da', 'maioria', 'das', 'tentativas', 'anteriores', 'de', 'processamento', 'da', 'linguagem.', 'Anteriormente,', 'implementações', 'de', 'tarefas', 'de', 'processamento', 'de', 'linguagem', 'envolviam', 'a', 'codificação', 'direta', 'de', 'grandes', 'conjuntos', 'de', 'regras.', 'O', 'paradigma', 'da', 'aprendizagem', 'automática', '(ou', 'aprendizagem', 'automática)', 'induz', 'a', 'aprendizagem', 'automática', 'de', 'regras', 'através', 'de', 'análises', 'de', 'corpora', 'de', 'exemplos', 'típicos', 'do', 'mundo', 'real', 'ao', 'invés', 'de', 'usar', 'algoritmos', 'gerais', 'de', 'aprendizagem', '(muitas', 'vezes,', 'embora', 'nem', 'sempre,', 'baseados', 'em', 'inferência', 'estatística).', 'Um', 'corpus', '(plural', '\"corpora\")', 'é', 'um', 'conjunto', 'de', 'documentos', '(ou', 'frases', 'individuais)', 'que', 'foram', 'anotados', 'à', 'mão', 'com', 'os', 'valores', 'corretos', 'a', 'serem', 'aprendidos.', 'Muitas', 'classes', 'diferentes', 'de', 'algoritmos', 'de', 'aprendizado', 'de', 'máquina', 'foram', 'aplicadas', 'a', 'tarefas', 'de', 'PLN.', 'Esses', 'algoritmos', 'tomam', 'como', 'entrada', 'um', 'grande', 'conjunto', 'de', '\"recursos\"', 'que', 'são', 'gerados', 'a', 'partir', 'de', 'dados', 'de', 'entrada.', 'Alguns', 'dos', 'algoritmos', 'mais', 'usados,', 'como', 'árvores', 'de', 'decisão,', 'produziam', 'sistemas', 'de', 'regras', 'rígidas', 'semelhantes', 'aos', 'sistemas', 'de', 'regras', 'manuscritas', 'mais', 'comuns.', 'No', 'entanto,', 'cada', 'vez', 'mais,', 'a', 'pesquisa', 'tem', 'se', 'concentrado', 'em', 'modelos', 'estatísticos,', 'que', 'tomam', 'decisões', 'flexíveis', 'e', 'probabilísticas', 'baseadas', 'em', 'agregar', 'pesos', 'reais', 'a', 'cada', 'característica', 'de', 'entrada.', 'Tais', 'modelos', 'têm', 'a', 'vantagem', 'de', 'poder', 'expressar', 'a', 'certeza', 'relativa', 'de', 'muitas', 'respostas', 'possíveis', 'diferentes', 'em', 'vez', 'de', 'apenas', 'uma,', 'produzindo', 'resultados', 'mais', 'confiáveis', 'quando', 'esse', 'modelo', 'é', 'incluído', 'como', 'um', 'componente', 'de', 'um', 'sistema', 'maior.', 'Os', 'sistemas', 'baseados', 'em', 'algoritmos', 'de', 'aprendizagem', 'mecânica', 'têm', 'muitas', 'vantagens', 'em', 'relação', 'às', 'regras', 'produzidas', 'manualmente:', 'Os', 'procedimentos', 'de', 'aprendizagem', 'usados', 'durante', 'a', 'aprendizagem', 'da', 'máquina', 'focam-se', 'automaticamente', 'nos', 'casos', 'mais', 'comuns,', 'ao', 'passo', 'que', 'quando', 'se', 'escrevem', 'regras', 'à', 'mão,', 'não', 'é', 'óbvio', 'em', 'que', 'sentido', 'o', 'esforço', 'deve', 'ser', 'dirigido.', 'Os', 'procedimentos', 'de', 'aprendizagem', 'automática', 'podem', 'fazer', 'uso', 'de', 'algoritmos', 'de', 'inferência', 'estatística', 'para', 'produzir', 'modelos', 'que', 'são', 'robustos', 'a', 'entradas', 'não', 'familiares', '(por', 'exemplo,', 'contendo', 'palavras', 'ou', 'estruturas', 'que', 'não', 'foram', 'vistas', 'antes)', 'e', 'a', 'entradas', 'errôneas', '(por', 'exemplo,', 'com', 'palavras', 'ou', 'palavras', 'incorretamente', 'omitidas).', 'Geralmente,', 'lidar', 'com', 'essas', 'entradas', 'de', 'forma', 'com', 'regras', 'manuscritas', 'ou', 'sistemas', 'de', 'regras', 'manuscritas', 'que', 'tomam', 'decisões', 'suaves', 'é', 'extremamente', 'trabalhoso,', 'propenso', 'a', 'erros', 'e', 'demorado.', 'Sistemas', 'baseados', 'em', 'aprender', 'automaticamente', 'as', 'regras', 'podem', 'ser', 'mais', 'precisos', 'simplesmente', 'fornecendo', 'mais', 'dados', 'de', 'entrada.', 'No', 'entanto,', 'os', 'sistemas', 'baseados', 'em', 'regras', 'escritas', 'à', 'mão', 'só', 'podem', 'ser', 'tornados', 'mais', 'precisos', 'aumentando', 'a', 'complexidade', 'das', 'regras,', 'o', 'que', 'é', 'uma', 'tarefa', 'muito', 'mais', 'difícil.', 'Em', 'particular,', 'há', 'um', 'limite', 'para', 'a', 'complexidade', 'de', 'sistemas', 'baseados', 'em', 'regras', 'artesanais,', 'para', 'além', 'dos', 'quais', 'os', 'sistemas', 'se', 'tornam', 'cada', 'vez', 'mais', 'incontroláveis.', 'No', 'entanto,', 'a', 'criação', 'de', 'mais', 'dados', 'para', 'entrada', 'em', 'sistemas', 'de', 'aprendizado', 'de', 'máquina', 'requer', 'simplesmente', 'um', 'aumento', 'correspondente', 'no', 'número', 'de', 'horas', 'trabalhadas', 'por', 'humanos,', 'geralmente', 'sem', 'aumentos', 'significativos', 'na', 'complexidade', 'do', 'processo', 'de', 'anotação.O', 'subcampo', 'de', 'PLN', 'dedicado', 'a', 'abordagens', 'de', 'aprendizagem', 'é', 'conhecido', 'como', 'aprendizagem', 'de', 'língua', 'natural', '(NLL)', 'e', 'sua', 'conferência,', 'a', 'CoNLL,', 'e', 'orgão', 'central,', 'o', 'SIGNLL,', 'são', 'patrocinados', 'pela', 'ACL,', 'reconhecendo', 'também', 'as', 'suas', 'ligações', 'com', 'linguística', 'computacional', 'e', 'aquisição', 'de', 'linguagem.', 'Quando', 'o', 'objetivo', 'da', 'pesquisa', 'de', 'aprendizagem', 'de', 'linguagem', 'computacional', 'é', 'entender', 'mais', 'sobre', 'aquisição', 'de', 'linguagem', 'humana,', 'ou', 'psicolinguística,', 'a', 'NLL', 'sobrepõe-se', 'no', 'campo', 'relacionado', 'de', 'psicolinguística', 'computacional.', '==', 'Aplicações', 'principais', '==', 'A', 'listagem', 'a', 'seguir', 'traz', 'alguns', 'dos', 'trabalhos', 'mais', 'pesquisadas', 'em', 'PLN.', 'Note', 'que', 'alguns', 'deles', 'têm', 'aplicações', 'no', 'mundo', 'real,', 'enquanto', 'outras', 'servem', 'mais', 'frequentemente', 'como', 'tarefas', 'secundárias', 'que', 'são', 'usadas', 'para', 'auxiliar', 'na', 'resolução', 'de', 'tarefas', 'maiores.', 'O', 'que', 'distingue', 'essas', 'tarefas', 'de', 'outras', 'tarefas', 'potenciais', 'e', 'reais', 'de', 'PLN', 'não', 'é', 'apenas', 'o', 'volume', 'de', 'pesquisa', 'dedicado', 'a', 'elas,', 'mas', 'o', 'fato', 'de', 'que', 'para', 'cada', 'uma', 'há', 'tipicamente', 'uma', 'definição', 'de', 'problema', 'bem', 'especificada,', 'uma', 'métrica', 'padrão', 'para', 'avaliar', 'a', 'tarefa,', 'corpora', 'padrão', 'em', 'que', 'a', 'tarefa', 'pode', 'ser', 'avaliada', 'e', 'as', 'competições', 'dedicadas', 'à', 'tarefa', 'específica.', 'Sumarização', 'automática', 'Produz', 'um', 'resumo', 'legível', 'de', 'uma', 'parte', 'do', 'texto.', 'Muitas', 'vezes', 'usado', 'para', 'fornecer', 'resumos', 'de', 'texto', 'de', 'um', 'tipo', 'conhecido,', 'como', 'artigos', 'na', 'seção', 'financeira', 'de', 'um', 'jornal.Resolução', 'de', 'correferência', 'Dada', 'uma', 'frase', 'ou', 'um', 'pedaço', 'maior', 'de', 'texto,', 'determina', 'quais', 'palavras', '(\"menções\")', 'se', 'referem', 'aos', 'mesmos', 'objetos', '(\"entidades\").', 'A', 'resolução', 'da', 'anáfora', 'é', 'um', 'exemplo', 'específico', 'dessa', 'tarefa', 'e', 'está', 'especificamente', 'preocupada', 'em', 'combinar', 'os', 'pronomes', 'com', 'os', 'substantivos', 'ou', 'nomes', 'aos', 'quais', 'eles', 'se', 'referem.', 'A', 'tarefa', 'mais', 'geral', 'da', 'resolução', 'de', 'correferência', 'também', 'inclui', 'a', 'identificação', 'dos', 'chamados', '\"relacionamentos', 'de', 'ponte\"', 'envolvendo', 'expressões', 'de', 'referência.', 'Por', 'exemplo,', 'numa', 'frase', 'como', '\"Ele', 'entrou', 'na', 'casa', 'de', 'João', 'pela', 'porta', 'da', 'frente\",', '\"a', 'porta', 'da', 'frente\"', 'é', 'uma', 'expressão', 'de', 'referência', 'e', 'a', 'relação', 'da', 'ponte', 'a', 'ser', 'identificada', 'é', 'o', 'fato', 'de', 'que', 'a', 'porta', 'a', 'ser', 'referida', 'é', 'a', 'porta', 'da', 'frente', 'de', \"John's\", '(ao', 'invés', 'de', 'alguma', 'outra', 'estrutura', 'que', 'também', 'pode', 'ser', 'referida).Análise', 'do', 'Discurso', 'Esta', 'rubrica', 'inclui', 'uma', 'série', 'de', 'tarefas', 'relacionadas.', 'Uma', 'tarefa', 'é', 'identificar', 'a', 'estrutura', 'discursiva', 'do', 'texto', 'conectado,', 'isto', 'é,', 'a', 'natureza', 'das', 'relações', 'discursivas', 'entre', 'sentenças', '(por', 'exemplo,', 'elaboração,', 'explicação,', 'contraste).', 'Outra', 'possível', 'tarefa', 'é', 'reconhecer', 'e', 'classificar', 'os', 'atos', 'de', 'fala', 'em', 'um', 'pedaço', 'de', 'texto', '(por', 'exemplo,', 'pergunta', 'sim-não,', 'pergunta', 'de', 'conteúdo,', 'frase,', 'afirmação,', 'etc).Maquina', 'de', 'tradução', 'Traduzir', 'automaticamente', 'texto', 'de', 'uma', 'linguagem', 'humana', 'para', 'outra.', 'Este', 'é', 'uma', 'das', 'tarefas', 'mais', 'difíceis', 'e', 'faz', 'parte', 'de', 'um', 'tipo', 'de', 'problemas', 'conhecidos', 'como', '\"AI-complete\",', 'ou', 'seja,', 'exigindo', 'todos', 'os', 'diferentes', 'tipos', 'de', 'conhecimento', 'que', 'os', 'humanos', 'possuem', '(gramática,', 'semântica,', 'fatos', 'sobre', 'o', 'mundo', 'real,', 'etc)', 'para', 'resolvê-lo', 'adequadamente.Segmentação', 'morfológica', 'Separa', 'palavras', 'em', 'morfemas', 'individuais', 'e', 'identifica', 'classes', 'de', 'morfemas.', 'A', 'dificuldade', 'desta', 'tarefa', 'depende', 'muito', 'da', 'complexidade', 'da', 'morfologia', '(isto', 'é,', 'da', 'estrutura', 'das', 'palavras)', 'da', 'linguagem', 'que', 'está', 'sendo', 'considerada.', 'O', 'inglês', 'possui', 'uma', 'morfologia', 'bastante', 'simples,', 'especialmente', 'a', 'morfologia', 'flexional,', 'e', 'portanto', 'é', 'possível', 'ignorar', 'esta', 'tarefa', 'inteiramente', 'e', 'simplesmente', 'modelar', 'todas', 'as', 'formas', 'possíveis', 'de', 'uma', 'palavra', '(por', 'exemplo,', '\"open,', 'opens,', 'opened,', 'opening\")', 'como', 'palavras', 'separadas.', 'Em', 'línguas', 'como', 'o', 'turco', 'ou', 'o', 'Meitei,', 'uma', 'língua', 'indiana', 'fortemente', 'aglutinada,', 'no', 'entanto,', 'tal', 'abordagem', 'não', 'é', 'possível,', 'uma', 'vez', 'que', 'cada', 'entrada', 'do', 'dicionário', 'tem', 'milhares', 'de', 'formas', 'de', 'palavras', 'possíveis.Reconhecimento', 'de', 'entidade', 'nomeada', '(NER)', 'Dado', 'um', 'fluxo', 'de', 'texto,', 'determina', 'quais', 'são', 'itens', 'no', 'mapa', 'de', 'texto', 'para', 'nomes', 'próprios,', 'como', 'pessoas', 'ou', 'locais', 'e', 'qual', 'é', 'o', 'tipo', 'de', 'cada', 'nome', '(por', 'exemplo,', 'pessoa,', 'local,', 'organização).', 'Embora', 'a', 'capitalização', 'possa', 'ajudar', 'a', 'reconhecer', 'entidades', 'nomeadas', 'em', 'idiomas', 'como', 'o', 'inglês,', 'essas', 'informações', 'podem', 'não', 'ajudar', 'a', 'determinar', 'o', 'tipo', 'de', 'entidade', 'nomeada', 'e,', 'em', 'alguns', 'casos,', 'sãos', 'imprecisas', 'ou', 'insuficientes.', 'Por', 'exemplo,', 'a', 'primeira', 'palavra', 'de', 'uma', 'frase', 'também', 'é', 'capitalizada', 'e', 'as', 'entidades', 'nomeadas', 'muitas', 'vezes', 'abrangem', 'várias', 'palavras,', 'com', 'apenas', 'algumas', 'delas', 'são', 'capitalizadas.', 'Além', 'disso,', 'muitas', 'outras', 'linguagens', 'em', 'scripts', 'não-ocidentais', '(por', 'exemplo,', 'chinês', 'ou', 'árabe)', 'não', 'têm', 'nenhuma', 'capitalização', 'e', 'mesmo', 'as', 'línguas', 'com', 'maiúsculas', 'podem', 'não', 'distinguir', 'nomes.', 'Por', 'exemplo,', 'o', 'alemão', 'capitaliza', 'todos', 'os', 'substantivos,', 'independentemente', 'de', 'se', 'referirem', 'a', 'nomes,', 'e', 'o', 'francês', 'e', 'o', 'espanhol', 'não', 'capitalizam', 'nomes', 'que', 'servem', 'como', 'adjetivos.Geração', 'de', 'língua', 'natural', 'Converte', 'informações', 'de', 'bancos', 'de', 'dados', 'de', 'computador', 'ou', 'intenções', 'semânticas', 'em', 'linguagem', 'humana', 'legível.Compreensão', 'da', 'língua', 'natural', 'Converte', 'pedaços', 'de', 'texto', 'em', 'representações', 'mais', 'formais,', 'como', 'estruturas', 'de', 'lógica', 'de', 'primeira', 'ordem,', 'que', 'são', 'mais', 'fáceis', 'de', 'manipular', 'pelos', 'programas', 'de', 'computador.', 'A', 'compreensão', 'da', 'língua', 'natural', 'envolve', 'a', 'identificação', 'da', 'semântica', 'pretendida', 'a', 'partir', 'da', 'múltipla', 'semântica', 'possível', 'que', 'pode', 'ser', 'derivada', 'de', 'uma', 'expressão', 'de', 'língua', 'natural', 'que', 'geralmente', 'toma', 'a', 'forma', 'de', 'notação', 'organizada', 'de', 'conceitos', 'de', 'linguagens', 'naturais.', 'Entretanto,', 'introdução', 'e', 'criação', 'de', 'linguagem', 'metamodelo', 'e', 'ontologia', 'são', 'eficientes', 'soluções', 'empíricas.', 'Uma', 'formalização', 'explícita', 'da', 'semântica', 'de', 'línguas', 'naturais', 'sem', 'confusões', 'com', 'suposições', 'implícitas', 'como', 'closed-world', 'assumption', '(CWA)', 'versus', 'open-world', 'assumption', 'ou', 'subjetiva', 'Sim', '/', 'Não', 'versus', 'objetivo', 'Verdadeiro', '/', 'Falso', 'é', 'esperada', 'para', 'a', 'construção', 'de', 'uma', 'base', 'de', 'formalização', 'semântica.Reconhecimento', 'óptico', 'de', 'caracteres', '(OCR)', 'Dada', 'uma', 'imagem', 'que', 'representa', 'o', 'texto', 'impresso,', 'determina', 'o', 'texto', 'correspondente.Marcação', 'de', 'classe', 'gramatical', 'Dada', 'uma', 'sentença,', 'determina', 'a', 'classe', 'gramatical', 'de', 'cada', 'palavra.', 'Muitas', 'palavras,', 'especialmente', 'as', 'comuns,', 'podem', 'servir', 'como', 'múltiplas', 'partes', 'do', 'discurso.', 'Em', 'inglês,', 'por', 'exemplo,', '\"book\"', 'pode', 'ser', 'um', 'substantivo', '(\"the', 'book', 'on', 'the', 'table\")', 'ou', 'verbo', '(\"book', 'a', 'flight\");', '\"Set\"', 'pode', 'ser', 'um', 'substantivo,', 'verbo', 'ou', 'adjetivo;', 'E', '\"out\"', 'pode', 'ser', 'qualquer', 'um', 'de', 'pelo', 'menos', 'cinco', 'diferentes', 'partes', 'da', 'fala.', 'Algumas', 'línguas', 'têm', 'mais', 'ambiguidade', 'do', 'que', 'outras.', 'As', 'línguas', 'com', 'pouca', 'morfologia', 'flexional,', 'como', 'o', 'inglês,', 'são', 'particularmente', 'propensas', 'a', 'tal', 'ambiguidade.', 'O', 'chinês', 'é', 'propenso', 'a', 'tal', 'ambiguidade', 'porque', 'é', 'uma', 'língua', 'tonal', 'durante', 'a', 'verbalização.', 'Tal', 'inflexão', 'não', 'é', 'facilmente', 'transmitida', 'através', 'das', 'entidades', 'empregadas', 'dentro', 'da', 'ortografia', 'para', 'transmitir', 'o', 'significado', 'pretendido.Análise', 'sintática', '(Parsing)', 'Determina', 'a', 'árvore', 'de', 'análise', '(análise', 'gramatical)', 'de', 'uma', 'frase.', 'A', 'gramática', 'para', 'as', 'linguagens', 'naturais', 'é', 'ambígua', 'e', 'frases', 'típicas', 'têm', 'múltiplas', 'análises', 'possíveis.', 'Na', 'verdade,', 'surpreendentemente,', 'para', 'uma', 'frase', 'típica', 'pode', 'haver', 'milhares', 'de', 'análises', 'em', 'potencial', '(a', 'maioria', 'dos', 'quais', 'parecerá', 'completamente', 'absurda', 'para', 'um', 'ser', 'humano).Respostas', 'a', 'perguntas', 'Dada', 'uma', 'questão', 'de', 'linguagem', 'humana,', 'determina', 'sua', 'resposta.', 'As', 'perguntas', 'típicas', 'têm', 'uma', 'resposta', 'correta', 'específica', '(como', '\"Qual', 'é', 'o', 'capital', 'do', 'Canadá?\"),', 'mas', 'às', 'vezes', 'perguntas', 'abertas', 'também', 'são', 'consideradas', '(como', '\"Qual', 'é', 'o', 'significado', 'da', 'vida?\").', 'Trabalhos', 'recentes', 'têm', 'analisado', 'questões', 'ainda', 'mais', 'complexas.Extração', 'de', 'relacionamento', 'Identifica', 'as', 'relações', 'entre', 'entidades', 'nomeadas', '(por', 'exemplo,', 'quem', 'é', 'casado', 'com', 'quem)', 'com', 'base', 'em', 'textos.Quebra', 'de', 'frases', '(sentence', 'boundary', 'disambiguation)', 'Encontra', 'os', 'limites', 'da', 'frase', 'em', 'um', 'pedaço', 'de', 'texto.', 'Os', 'limites', 'de', 'frases', 'são', 'normalmente', 'marcadas', 'por', 'pontos', 'ou', 'outros', 'sinais', 'de', 'pontuação,', 'mas', 'esses', 'mesmos', 'caracteres', 'podem', 'servir', 'outros', 'propósitos.Análise', 'de', 'subjetividade', '(sentiment', 'analysis', 'ou', 'opinion', 'mining)', 'Extrai', 'informações', 'subjetivas', 'geralmente', 'de', 'um', 'conjunto', 'de', 'documentos,', 'muitas', 'vezes', 'usando', 'revisões', 'online', 'para', 'determinar', 'a', '\"polaridade\"', 'sobre', 'objetos', 'específicos.', 'É', 'especialmente', 'útil', 'para', 'identificar', 'tendências', 'da', 'opinião', 'pública', 'nas', 'mídias', 'sociais,', 'para', 'fins', 'de', 'marketing.Reconhecimento', 'de', 'fala', 'Dado', 'um', 'clipe', 'de', 'som', 'de', 'uma', 'pessoa', 'ou', 'pessoas', 'falando,', 'determina', 'a', 'representação', 'textual', 'do', 'discurso.', 'É', 'o', 'oposto', 'da', 'síntese', 'de', 'fala', 'e', 'é', 'uma', 'das', 'áreas', 'mais', 'difíceis,', 'conhecida', 'como', '\"AI-complete\".', 'Na', 'fala', 'natural', 'quase', 'não', 'há', 'pausas', 'entre', 'palavras', 'sucessivas,', 'por', 'isso', 'a', 'segmentação', 'de', 'fala', 'é', 'uma', 'subtarefa', 'necessária', 'de', 'reconhecimento', 'de', 'fala.', 'Nota-se', 'também', 'que,', 'na', 'maioria', 'das', 'linguagens', 'faladas,', 'os', 'sons', 'que', 'representam', 'letras', 'sucessivas', 'se', 'misturam', 'entre', 'si', 'em', 'um', 'processo', 'denominado', 'coarticulação,', 'de', 'modo', 'que', 'a', 'conversão', 'do', 'sinal', 'analógico', 'em', 'caracteres', 'discretos', 'pode', 'ser', 'um', 'processo', 'muito', 'difícil', 'de', 'ser', 'realizado.Segmentação', 'de', 'fala', 'Dado', 'um', 'clipe', 'de', 'som', 'de', 'uma', 'pessoa', 'ou', 'pessoas', 'falando,', 'separa-o', 'em', 'palavras.', 'Uma', 'subaplicação', 'de', 'reconhecimento', 'de', 'fala', 'e', 'normalmente', 'agrupada', 'com', 'ele.Análise', 'morfológica', 'e', 'reconhecimento', 'de', 'tópicos', 'Dado', 'um', 'pedaço', 'de', 'texto,', 'separa-o', 'em', 'segmentos', 'cada', 'um', 'dos', 'quais', 'é', 'dedicado', 'a', 'um', 'tópico', 'e', 'identifica', 'o', 'tópico', 'do', 'segmento.Análise', 'morfológica', 'e', 'segmentação', 'de', 'palavras', 'Separa', 'um', 'pedaço', 'de', 'texto', 'contínuo', 'em', 'palavras', 'separadas.', 'Para', 'uma', 'língua', 'como', 'o', 'inglês,', 'isso', 'é', 'bastante', 'trivial,', 'uma', 'vez', 'que', 'as', 'palavras', 'são', 'normalmente', 'separadas', 'por', 'espaços.', 'No', 'entanto,', 'algumas', 'línguas', 'escritas', 'como', 'chinês,', 'japonês', 'e', 'tailandês', 'não', 'marcam', 'limites', 'de', 'palavras', 'de', 'tal', 'forma,', 'e', 'nessas', 'línguas', 'segmentação', 'de', 'texto', 'é', 'uma', 'tarefa', 'significativa', 'que', 'requer', 'conhecimento', 'do', 'vocabulário', 'e', 'morfologia', 'das', 'palavras', 'na', 'língua.Desambiguação', 'Muitas', 'palavras', 'têm', 'mais', 'de', 'um', 'significado,', 'assim', 'temos', 'que', 'selecionar', 'o', 'significado', 'que', 'faz', 'mais', 'sentido', 'no', 'contexto.', 'Para', 'este', 'problema,', 'em', 'geral', 'é', 'dada', 'uma', 'lista', 'de', 'palavras', 'e', 'sentidos', 'de', 'palavras', 'associadas', 'de', 'um', 'dicionário', 'ou', 'recurso', 'online,', 'como', 'o', 'WordNet.', 'Em', 'alguns', 'casos,', 'conjuntos', 'de', 'tarefas', 'relacionadas', 'são', 'agrupados', 'em', 'subcampos', 'de', 'PLN', 'que', 'são', 'frequentemente', 'considerados', 'separadamente', 'da', 'PLN', 'como', 'um', 'todo,', 'como', 'os', 'exemplos', 'à', 'seguir:Recuperação', 'de', 'informação', '(IR)', 'Trata-se', 'de', 'armazenar,', 'pesquisar', 'e', 'recuperar', 'informações.', 'É', 'um', 'campo', 'separado', 'dentro', 'da', 'ciência', 'da', 'computação', '(mais', 'perto', 'de', 'bancos', 'de', 'dados),', 'mas', 'a', 'IR', 'se', 'baseia', 'em', 'alguns', 'métodos', 'PLN', '(por', 'exemplo,', 'stemming).', 'Algumas', 'pesquisas', 'e', 'aplicações', 'atuais', 'procuram', 'preencher', 'a', 'lacuna', 'entre', 'IR', 'e', 'PLN.Extração', 'de', 'informação', '(IE)', 'Trata-se,', 'em', 'geral,', 'da', 'extração', 'de', 'informação', 'semântica', 'a', 'partir', 'do', 'texto.', 'Abrange', 'tarefas', 'como', 'reconhecimento', 'de', 'entidade', 'mencionada,', 'resolução', 'de', 'correferência', 'e', 'de', 'relacionamento', 'de', 'extração,', 'etc.', 'Processamento', 'de', 'voz', 'Abrange', 'reconhecimento', 'de', 'fala,', 'síntese', 'de', 'fala', 'e', 'tarefas', 'relacionadas.', 'Outras', 'tarefas', 'incluem:', 'Identificação', 'na', 'língua', 'materna', 'Stemização', 'Simplificação', 'do', 'texto', 'Síntese', 'de', 'fala', 'Revisão', 'de', 'texto', 'Pesquisa', 'em', 'língua', 'natural', 'Expansão', 'da', 'consulta', 'Pontuação', 'de', 'ensaio', 'automatizado', 'Truecasing', '==', 'Estatística', '==', 'Artigo', 'principal:', 'Gramática', 'estocástica', 'O', 'processamento', 'estatístico', 'em', 'língua', 'natural', 'utiliza', 'métodos', 'estocásticos,', 'probabilísticos', 'e', 'estatísticos', 'para', 'resolver', 'algumas', 'das', 'dificuldades', 'discutidas', 'acima,', 'especialmente', 'aquelas', 'que', 'surgem', 'porque', 'frases', 'mais', 'longas', 'são', 'muito', 'ambíguas', 'quando', 'processadas', 'com', 'gramáticas', 'realistas,', 'produzindo', 'milhares', 'ou', 'milhões', 'de', 'análises', 'possíveis.', 'Métodos', 'de', 'desambiguação', 'envolvem', 'muitas', 'vezes', 'o', 'uso', 'de', 'corpora', 'e', 'modelos', 'de', 'Markov.', 'O', 'projeto', 'ESPRIT', 'P26', '(1984-1988),', 'liderado', 'pelo', 'CSELT,', 'explorou', 'o', 'problema', 'do', 'reconhecimento', 'de', 'fala', 'comparando', 'abordagem', 'baseada', 'em', 'conhecimento', 'e', 'estatística:', 'o', 'resultado', 'escolhido', 'foi', 'um', 'modelo', 'completamente', 'estatístico.', 'Um', 'dos', 'primeiros', 'modelos', 'de', 'compreensão', 'estatística', 'da', 'língua', 'natural', 'foi', 'introduzido', 'em', '1991', 'por', 'Roberto', 'Pieraccini,', 'Esther', 'Levin', 'e', 'Chin-Hui', 'Lee,', 'da', 'Bell', 'Laboratories].', 'O', 'PLN', 'compreende', 'todas', 'as', 'abordagens', 'quantitativas', 'para', 'processamento', 'automatizado', 'de', 'linguagem,', 'incluindo', 'modelagem', 'probabilística,', 'teoria', 'da', 'informação', 'e', 'álgebra', 'linear.', 'A', 'tecnologia', 'para', 'o', 'PLN', 'estatístico', 'vem', 'principalmente', 'da', 'aprendizagem', 'automática', 'e', 'da', 'mineração', 'de', 'dados,', 'que', 'são', 'campos', 'de', 'inteligência', 'artificial', 'que', 'envolvem', 'o', 'aprendizado', 'a', 'partir', 'de', 'dados.', '==', 'Avaliação', '==', 'O', 'objetivo', 'da', 'avaliação', 'do', 'PLN', 'é', 'uma', 'medida', 'de', 'uma', 'ou', 'mais', 'qualidades', 'de', 'um', 'algoritmo', 'ou', 'de', 'um', 'sistema', 'a', 'fim', 'de', 'determinar', 'se', 'o', 'algoritmo', 'atende', 'às', 'metas', 'dos', 'projetistas', 'ou', 'o', 'sistema', 'de', 'atendimento', 'às', 'necessidades', 'de', 'seus', 'usuários.', 'Investigação', 'na', 'avaliação', 'PLN', 'tem', 'ganhado', 'atenção,', 'porque', 'a', 'definição', 'de', 'critérios', 'de', 'avaliação', 'é', 'uma', 'forma', 'de', 'especificar', 'precisamente', 'problemas', 'do', 'PLN.', 'Uma', 'métrica', 'de', 'avaliação', 'de', 'PLN', 'em', 'um', 'sistema', 'algorítmico', 'permite', 'a', 'integração', 'da', 'compreensão', 'de', 'linguagem', 'e', 'geração', 'de', 'linguagem.', 'Um', 'conjunto', 'preciso', 'de', 'critérios', 'de', 'avaliação,', 'que', 'pode', 'ser', 'aplicado', 'principalmente', 'a', 'avaliações', 'métricas,', 'podendo', 'permitir', 'que', 'várias', 'equipes', 'comparem', 'suas', 'soluções', 'para', 'um', 'determinado', 'problema', 'do', 'PLN.', '==', 'Cronologia', 'da', 'avaliação', '==', 'Em', '1983,', 'iniciou-se', 'o', 'Projecto', 'Esprit', 'P26,', 'que', 'avaliou', 'as', 'Tecnologias', 'da', 'Fala', '(incluindo', 'tópicos', 'gerais', 'como', 'Sintaxe', 'e', 'Semântica)', 'comparando', 'as', 'abordagens', 'baseadas', 'em', 'regras', 'com', 'as', 'estatísticas.', 'Em', '1987,', 'a', 'primeira', 'campanha', 'de', 'avaliação', 'de', 'textos', 'escritos', 'parece', 'ser', 'uma', 'campanha', 'dedicada', 'à', 'compreensão', 'da', 'mensagem', '(Pallet,', '1998).', 'O', 'projeto', 'Parseval', '/', 'GEIG', 'comparou', 'gramáticas', 'de', 'frase-estrutura', '(Black', '1991).', 'Houve', 'uma', 'série', 'de', 'campanhas', 'no', 'projeto', 'Tipster', 'sobre', 'tarefas', 'como', 'resumo,', 'tradução', 'e', 'pesquisa', '(Hirschman', '1998).', 'Em', '1994,', 'na', 'Alemanha,', 'o', 'Morpholympics', 'comparou', 'marcadores', 'morfológicos', 'alemães.', 'As', 'campanhas', 'de', 'Senseval', '&', 'Romanseval', 'foram', 'realizadas', 'com', 'os', 'objetivos', 'de', 'desambiguação', 'semântica.', 'Em', '1996,', 'a', 'campanha', 'Sparkle', 'comparou', 'os', 'analisadores', 'sintáticos', 'em', 'quatro', 'idiomas', 'diferentes', '(inglês,', 'francês,', 'alemão', 'e', 'italiano).', 'Na', 'França,', 'o', 'projeto', 'Grace', 'comparou', 'um', 'conjunto', 'de', '21', 'marcadores', 'para', 'o', 'francês', 'em', '1997', '(Adda', '1999).', 'Em', '2004,', 'durante', 'o', 'projeto', 'Technolangue', '/', 'Easy,', 'foram', 'comparados', '13', 'analisadores', 'para', 'o', 'francês.', 'A', 'avaliação', 'em', 'larga', 'escala', 'dos', 'analisadores', 'de', 'dependência', 'foi', 'realizada', 'no', 'contexto', 'das', 'tarefas', 'compartilhadas', 'do', 'CoNLL', 'em', '2006', 'e', '2007.', 'Na', 'França,', 'no', 'âmbito', 'do', 'projecto', 'ANR-Passage', '(final', 'de', '2007),', 'foram', 'comparados', '10', 'analisadores', 'para', 'o', 'francês.', 'Em', 'Itália,', 'a', 'campanha', 'EVALITA', 'foi', 'realizada', 'em', '2007,', '2009,', '2011', 'e', '2014', 'para', 'comparar', 'várias', 'ferramentas', 'de', 'PLN', 'e', 'de', 'voz', 'para', 'o', 'site', 'italiano', '-', 'EVALITA.', '==', 'Diferentes', 'tipos', 'de', 'avaliação', '==', 'Avaliação', 'intrínseca', 'vs.', 'extrínseca', 'A', 'avaliação', 'intrínseca', 'considera', 'um', 'sistema', 'PNL', 'isolado', 'e', 'caracteriza', 'seu', 'desempenho', 'em', 'relação', 'a', 'um', 'resultado', 'padrão-excelência,', 'conforme', 'definido', 'pelos', 'avaliadores.', 'A', 'avaliação', 'extrínseca,', 'também', 'chamada', 'de', 'avaliação', 'em', 'uso,', 'considera', 'o', 'sistema', 'PLN', 'em', 'um', 'cenário', 'mais', 'complexo', 'como', 'um', 'sistema', 'embutido', 'ou', 'uma', 'função', 'precisa', 'para', 'um', 'usuário', 'humano.', 'O', 'desempenho', 'extrínseco', 'do', 'sistema', 'é', 'então', 'caracterizado', 'em', 'termos', 'de', 'utilidade', 'em', 'relação', 'à', 'tarefa', 'global', 'do', 'sistema', 'estranho', 'ou', 'do', 'utilizador', 'humano.', 'Por', 'exemplo,', 'considere', 'um', 'analisador', 'sintático', 'que', 'é', 'baseado', 'na', 'saída', 'de', 'alguma', 'parte', 'do', 'tagger', 'de', 'fala', '(POS).', 'Uma', 'avaliação', 'intrínseca', 'executaria', 'o', 'marcador', 'POS', 'em', 'dados', 'estruturados', 'e', 'compararia', 'a', 'saída', 'do', 'sistema', 'do', 'marcador', 'POS', 'com', 'a', 'saída', 'padrão', 'ouro.', 'Uma', 'avaliação', 'extrínseca', 'executaria', 'o', 'analisador', 'com', 'algum', 'outro', 'marcador', 'POS', 'e,', 'em', 'seguida,', 'com', 'o', 'marcador', 'POS', 'novo', 'e', 'compara', 'a', 'precisão', 'de', 'análise.', 'Caixa', 'preta', 'vs.', 'Avaliação', 'da', 'caixa', 'de', 'vidro', 'A', 'avaliação', 'em', 'caixa', 'preta', 'requer', 'que', 'alguém', 'execute', 'um', 'sistema', 'PLN', 'em', 'um', 'conjunto', 'de', 'dados', 'de', 'amostra', 'e', 'para', 'medir', 'uma', 'série', 'de', 'parâmetros', 'relacionados', 'com', 'a', 'qualidade', 'do', 'processo,', 'como', 'velocidade,', 'confiabilidade,', 'consumo', 'de', 'recursos', 'e,', 'principalmente,', 'a', 'qualidade', 'do', 'resultado,', 'como', 'a', 'precisão', 'da', 'anotação', 'de', 'dados', 'ou', 'a', 'fidelidade', 'de', 'uma', 'tradução.', 'A', 'avaliação', 'da', 'caixa', 'de', 'vidro', 'examina', 'a', 'concepção', 'do', 'sistema;', 'Os', 'algoritmos', 'que', 'são', 'implementados,', 'os', 'recursos', 'linguísticos', 'que', 'utiliza,', 'como', 'o', 'tamanho', 'do', 'vocabulário', 'ou', 'a', 'expressão', 'definida', 'de', 'cardinalidade.', 'Dada', 'a', 'complexidade', 'dos', 'problemas', 'da', 'PLN,', 'muitas', 'vezes', 'é', 'difícil', 'prever', 'o', 'desempenho', 'apenas', 'com', 'base', 'na', 'avaliação', 'da', 'caixa', 'de', 'vidro;', 'Mas', 'este', 'tipo', 'de', 'avaliação', 'é', 'mais', 'informativo', 'no', 'que', 'diz', 'respeito', 'à', 'análise', 'de', 'erros', 'ou', 'desenvolvimentos', 'futuros', 'de', 'um', 'sistema.', 'Automática', 'vs.', 'avaliação', 'manual', 'Em', 'muitos', 'casos,', 'procedimentos', 'automáticos', 'podem', 'ser', 'definidos', 'para', 'avaliar', 'um', 'sistema', 'de', 'PLN,', 'comparando', 'sua', 'saída', 'com', 'o', 'padrão', 'de', 'excelência.', 'Embora', 'o', 'custo', 'de', 'reproduzir', 'o', 'padrão', 'de', 'excelência', 'possa', 'ser', 'bastante', 'elevado,', 'avaliação', 'automática', 'de', 'bootstrapping', 'sobre', 'os', 'mesmos', 'dados', 'de', 'entrada', 'pode', 'ser', 'repetida', 'quantas', 'vezes', 'for', 'necessário', 'sem', 'custos', 'adicionais', 'desordenados.', 'No', 'entanto,', 'para', 'muitos', 'problemas', 'de', 'PLN', 'a', 'definição', 'precisa', 'de', 'um', 'padrão', 'de', 'excelência', 'é', 'uma', 'tarefa', 'complexa', 'e', 'pode', 'se', 'revelar', 'impossível', 'quando', 'o', 'acordo', 'inter-anotador', 'é', 'insuficiente.', 'A', 'avaliação', 'manual', 'é', 'melhor', 'realizada', 'por', 'juízes', 'humanos', 'instruídos', 'para', 'estimar', 'a', 'qualidade', 'de', 'um', 'sistema,', 'ou', 'mais', 'frequentemente', 'de', 'uma', 'amostra', 'de', 'sua', 'produção,', 'com', 'base', 'em', 'uma', 'série', 'de', 'critérios.', 'Embora,', 'graças', 'à', 'sua', 'competência', 'linguística,', 'os', 'juízes', 'humanos', 'possam', 'ser', 'considerados', 'como', 'a', 'referência', 'para', 'uma', 'série', 'de', 'tarefas', 'de', 'processamento', 'de', 'linguagem,', 'há', 'também', 'uma', 'variação', 'considerável', 'em', 'suas', 'classificações.', 'É', 'por', 'isso', 'que', 'a', 'avaliação', 'automática', 'é,', 'por', 'vezes,', 'referida', 'como', 'avaliação', 'objetiva', 'enquanto', 'a', 'avaliação', 'humana', 'é', 'perspectiva.', '==', 'Padronização', '==', 'Um', 'subcomitê', 'ISO', 'está', 'trabalhando', 'para', 'facilitar', 'a', 'interoperabilidade', 'entre', 'recursos', 'lexicais', 'e', 'programas', 'PLN.', 'O', 'subcomitê', 'faz', 'parte', 'do', 'ISO', '/', 'TC37', 'e', 'é', 'chamado', 'ISO', '/', 'TC37', '/', 'SC4.', 'Alguns', 'padrões', 'ISO', 'já', 'estão', 'publicados,', 'mas', 'a', 'maioria', 'deles', 'está', 'em', 'construção,', 'principalmente', 'na', 'representação', 'de', 'léxico', '(ver', 'LMF),', 'anotação', 'e', 'registro', 'de', 'categoria', 'de', 'dados.', '==', 'Ferramentas', '==', 'Expert', 'System', 'S.p.A.', 'General', 'Architecture', 'for', 'Text', 'Engineering', 'Modular', 'Audio', 'Recognition', 'Framework', 'Natural', 'Language', 'Toolkit', '(NLTK):', 'uma', 'biblioteca', 'em', 'Python', 'OpenNLP', '==', 'Veja', 'também', '==', 'Mineração', 'de', 'texto', 'biomédica', 'Processo', 'de', 'processamento', 'composto', 'Revisão', 'assistida', 'por', 'computador', 'Linguagem', 'natural', 'controlada', 'Processamento', 'linguístico', 'profundo', 'Auxílio', 'à', 'leitura', 'de', 'línguas', 'estrangeiras', 'Auxílio', 'à', 'escrita', 'em', 'língua', 'estrangeira', 'Tecnologia', 'da', 'linguagem', 'A', 'alocação', 'de', 'Dirichlet', 'Latente', '(LDA)', 'Indexação', 'semântica', 'latente', 'Lista', 'de', 'ferramentas', 'de', 'processamento', 'de', 'língua', 'natural', 'Mapa', 'de', 'LRE', 'Programação', 'em', 'língua', 'natural', 'Reificação', '(linguística)', 'Dobradura', 'semântica', 'Sistema', 'de', 'diálogo', 'falado', 'Vetor', 'do', 'Pensamento', 'Pesquisa', 'Transderivacional', 'Word2vec', '==', 'Referências', '==', '==', 'Leitura', 'adicional', '==', 'Steven', 'Bird,', 'Ewan', 'Klein,', 'and', 'Edward', 'Loper', '(2009).', 'Natural', 'Language', 'Processing', 'with', 'Python.', \"O'Reilly\", 'Media.', 'ISBN', '978-0-596-51649-9.', 'Daniel', 'Jurafsky', 'and', 'James', 'H.', 'Martin', '(2008).', 'Speech', 'and', 'Language', 'Processing,', '2nd', 'edition.', 'Pearson', 'Prentice', 'Hall.', 'ISBN', '978-0-13-187321-6.', 'Christopher', 'D.', 'Manning,', 'Prabhakar', 'Raghavan,', 'and', 'Hinrich', 'Schütze', '(2008).', 'Introduction', 'to', 'Information', 'Retrieval.', 'Cambridge', 'University', 'Press.', 'ISBN', '978-0-521-86571-5.', 'Official', 'html', 'and', 'pdf', 'versions', 'available', 'without', 'charge.', 'Christopher', 'D.', 'Manning', 'and', 'Hinrich', 'Schütze', '(1999).', 'Foundations', 'of', 'Statistical', 'Natural', 'Language', 'Processing.', 'The', 'MIT', 'Press.', 'ISBN', '978-0-262-13360-9.', 'David', 'M.', 'W.', 'Powers', 'and', 'Christopher', 'C.', 'R.', 'Turk', '(1989).', 'Machine', 'Learning', 'of', 'Natural', 'Language.', 'Springer-Verlag.', 'ISBN', '978-0-387-19557-5.']\n"
          ],
          "name": "stdout"
        }
      ]
    },
    {
      "cell_type": "markdown",
      "metadata": {
        "id": "lQzdlozyE2V3"
      },
      "source": [
        "### Regex\n",
        "\n",
        "2. Faça utilizando o método abaixo\n",
        "<b> Não esqueça de armazenar o resultado na variável abaixo. </b>\n",
        "\n",
        "```python\n",
        "re.findall(r\"\\w+(?:'\\w+)?|[^\\w\\s]\", corpus)\n",
        "```"
      ]
    },
    {
      "cell_type": "code",
      "metadata": {
        "id": "rdDQfjLIE2V4"
      },
      "source": [
        "tokens_regex = re.findall(r\"\\w+(?:'\\w+)?|[^\\w\\s]\", corpus)"
      ],
      "execution_count": null,
      "outputs": []
    },
    {
      "cell_type": "code",
      "metadata": {
        "id": "5IYoOF3bE2V9",
        "outputId": "e4f3c9d1-4f8f-4185-8a05-1dbe4beaba8d"
      },
      "source": [
        "#Regex\n",
        "print(tokens_regex)"
      ],
      "execution_count": null,
      "outputs": [
        {
          "output_type": "stream",
          "text": [
            "['Processamento', 'de', 'língua', 'natural', '(', 'PLN', ')', 'é', 'uma', 'subárea', 'da', 'ciência', 'da', 'computação', ',', 'inteligência', 'artificial', 'e', 'da', 'linguística', 'que', 'estuda', 'os', 'problemas', 'da', 'geração', 'e', 'compreensão', 'automática', 'de', 'línguas', 'humanas', 'naturais', '.', 'Sistemas', 'de', 'geração', 'de', 'língua', 'natural', 'convertem', 'informação', 'de', 'bancos', 'de', 'dados', 'de', 'computadores', 'em', 'linguagem', 'compreensível', 'ao', 'ser', 'humano', 'e', 'sistemas', 'de', 'compreensão', 'de', 'língua', 'natural', 'convertem', 'ocorrências', 'de', 'linguagem', 'humana', 'em', 'representações', 'mais', 'formais', ',', 'mais', 'facilmente', 'manipuláveis', 'por', 'programas', 'de', 'computador', '.', 'Alguns', 'desafios', 'do', 'PLN', 'são', 'compreensão', 'de', 'língua', 'natural', ',', 'fazer', 'com', 'que', 'computadores', 'extraiam', 'sentido', 'de', 'linguagem', 'humana', 'ou', 'natural', 'e', 'geração', 'de', 'língua', 'natural', '.', '=', '=', 'História', '=', '=', 'A', 'história', 'do', 'PLN', 'começou', 'na', 'década', 'de', '1950', ',', 'quando', 'Alan', 'Turing', 'publicou', 'o', 'artigo', '\"', 'Computing', 'Machinery', 'and', 'Intelligence', '\"', ',', 'que', 'propunha', 'o', 'que', 'agora', 'é', 'chamado', 'de', 'teste', 'de', 'Turing', 'como', 'critério', 'de', 'inteligência', '.', 'Em', '1954', ',', 'a', 'experiência', 'de', 'Georgetown', 'envolveu', 'a', 'tradução', 'automática', 'de', 'mais', 'de', 'sessenta', 'frases', 'russas', 'para', 'o', 'inglês', '.', 'Os', 'autores', 'afirmaram', 'que', 'dentro', 'de', 'três', 'ou', 'cinco', 'anos', 'a', 'tradução', 'automática', 'seria', 'um', 'problema', 'resolvido', '.', 'No', 'entanto', ',', 'os', 'avanços', 'reais', 'foram', 'muito', 'mais', 'lentos', 'do', 'que', 'o', 'previsto', 'e', ',', 'após', 'o', 'relatório', 'ALPAC', 'em', '1966', ',', 'que', 'constatou', 'que', 'a', 'pesquisa', 'de', 'dez', 'anos', 'não', 'conseguiu', 'satisfazer', 'as', 'expectativas', ',', 'o', 'financiamento', 'para', 'este', 'estudo', 'em', 'tradução', 'automática', 'foi', 'reduzido', 'drasticamente', '.', 'Poucas', 'pesquisas', 'em', 'tradução', 'automática', 'foram', 'conduzidas', 'até', 'o', 'final', 'dos', 'anos', '80', ',', 'quando', 'os', 'primeiros', 'sistemas', 'estatísticos', 'de', 'tradução', 'foram', 'desenvolvidos', '.', 'Alguns', 'sistemas', 'de', 'PLN', 'bem', 'sucedidos', 'desenvolvidos', 'nos', 'anos', '60', 'foram', 'SHRDLU', ',', 'um', 'sistema', 'de', 'língua', 'natural', 'que', 'trabalhava', 'em', '\"', 'blocks', 'worlds', '\"', 'com', 'vocabulário', 'restrito', 'e', 'ELIZA', ',', 'uma', 'simulação', 'de', 'um', 'psicoterapeuta', 'escrita', 'por', 'Joseph', 'Weizenbaum', 'entre', '1964', 'e', '1966', '.', 'Usando', 'pouca', 'informação', 'sobre', 'o', 'pensamento', 'ou', 'a', 'emoção', 'humana', ',', 'ELIZA', 'criava', ',', 'em', 'alguns', 'casos', ',', 'interações', 'surpreendentemente', 'humanas', '.', 'Quando', 'o', '\"', 'paciente', '\"', 'excedia', 'a', 'base', 'de', 'conhecimento', 'do', 'programa', ',', 'ELIZA', 'fornecia', 'uma', 'resposta', 'genérica', ',', 'por', 'exemplo', ',', 'respondendo', 'a', '\"', 'Minha', 'cabeça', 'dói', '\"', 'com', '\"', 'Por', 'que', 'você', 'diz', 'que', 'sua', 'cabeça', 'dói', '?', '\"', '.', 'Durante', 'a', 'década', 'de', '1970', ',', 'muitos', 'programadores', 'começaram', 'a', 'escrever', '\"', 'ontologias', 'conceituais', '\"', ',', 'que', 'estruturaram', 'a', 'informação', 'do', 'mundo', 'real', 'em', 'dados', 'compreensíveis', 'por', 'computadores', '.', 'Exemplos', 'são', 'MARGIE', '(', 'SCHANK', ',', '1975', ')', ',', 'SAM', '(', 'CULLINGFORD', ',', '1978', ')', ',', 'PAM', '(', 'WILENSKY', ',', '1978', ')', ',', 'TaleSpin', '(', 'MEEHAN', ',', '1976', ')', ',', 'QUALM', '(', 'LEHNERT', ',', '1977', ')', ',', 'Politics', '(', 'CARBONELL', ',', '1979', ')', 'e', 'Plot', 'Units', '(', 'LEHNERT', ',', '1981', ')', '.', 'Neste', 'período', ',', 'muitos', 'chatterbots', 'foram', 'escritos', ',', 'como', 'PARRY', ',', 'Racter', 'e', 'Jabberwacky', '.', 'Até', 'a', 'década', 'de', '1980', ',', 'a', 'maioria', 'dos', 'sistemas', 'de', 'PLN', 'se', 'baseava', 'em', 'conjuntos', 'complexos', 'de', 'regras', 'manuscritas', '.', 'A', 'partir', 'do', 'final', 'dos', 'anos', '1980', ',', 'no', 'entanto', ',', 'houve', 'uma', 'revolução', 'no', 'PLN', 'com', 'a', 'introdução', 'de', 'algoritmos', 'de', 'aprendizagem', 'automática', '(', 'aprendizado', 'de', 'máquina', ')', 'para', 'o', 'processamento', 'de', 'linguagem', '.', 'Isto', 'foi', 'devido', 'tanto', 'ao', 'aumento', 'constante', 'do', 'poder', 'computacional', '(', 'ver', 'Lei', 'de', 'Moore', ')', 'quanto', 'à', 'diminuição', 'gradual', 'da', 'dominância', 'das', 'teorias', 'da', 'linguística', 'chomskyanas', '(', 'como', 'a', 'gramática', 'gerativa', ')', ',', 'cujos', 'fundamentos', 'teóricos', 'desestimularam', 'o', 'tipo', 'de', 'corpus', 'linguístico', 'que', 'está', 'subjacente', 'à', 'abordagem', 'da', 'aprendizagem', 'automática', 'ao', 'processamento', 'da', 'linguagem', '.', 'Alguns', 'dos', 'algoritmos', 'de', 'aprendizado', 'de', 'máquinas', 'mais', 'antigos', ',', 'como', 'as', 'árvores', 'de', 'decisão', ',', 'produziam', 'sistemas', 'de', 'regras', 'rígidas', 'então', 'semelhantes', 'às', 'regras', 'existentes', 'na', 'escritas', 'à', 'mão', '.', 'No', 'entanto', ',', 'a', 'marcação', 'de', 'partes', 'da', 'fala', '(', 'part', '-', 'of', '-', 'speech', 'tagging', ')', 'introduziu', 'o', 'uso', 'de', 'modelos', 'ocultos', 'de', 'Markov', 'para', 'o', 'PLN', 'e', ',', 'cada', 'vez', 'mais', ',', 'a', 'pesquisa', 'se', 'concentrava', 'em', 'modelos', 'estatísticos', ',', 'que', 'tomam', 'decisões', 'suaves', 'e', 'probabilísticas', 'baseadas', 'na', 'atribuição', 'de', 'pesos', 'reais', 'aos', 'recursos', 'que', 'compõem', 'dados', 'de', 'entrada', '.', 'Os', 'modelos', 'de', 'linguagem', 'de', 'cache', ',', 'sobre', 'os', 'quais', 'muitos', 'sistemas', 'de', 'reconhecimento', 'de', 'fala', 'agora', 'dependem', ',', 'são', 'exemplos', 'de', 'tais', 'modelos', 'estatísticos', '.', 'Esses', 'modelos', 'são', 'geralmente', 'mais', 'robustos', 'quando', 'dados', 'informações', 'desconhecidas', ',', 'especialmente', 'entrada', 'que', 'contém', 'erros', '(', 'como', 'é', 'muito', 'comum', 'para', 'dados', 'do', 'mundo', 'real', ')', 'e', 'produzem', 'resultados', 'mais', 'confiáveis', 'quando', 'integrados', 'em', 'sistemas', 'maiores', 'que', 'compreendem', 'múltiplas', 'tarefas', '.', 'Muitos', 'dos', 'sucessos', 'iniciais', 'notáveis', 'ocorreram', 'no', 'campo', 'da', 'tradução', 'automática', ',', 'devido', 'especialmente', 'ao', 'trabalho', 'de', 'pesquisa', 'da', 'IBM', ',', 'que', 'desenvolveu', 'modelos', 'estatísticos', 'mais', 'elaborados', '.', 'Estes', 'sistemas', 'foram', 'capazes', 'de', 'tirar', 'proveito', 'de', 'corpora', 'textuais', 'multilíngues', 'existentes', 'produzidos', 'pelo', 'Parlamento', 'do', 'Canadá', 'e', 'a', 'União', 'Europeia', 'como', 'resultado', 'de', 'leis', 'que', 'exigem', 'a', 'tradução', 'de', 'todos', 'os', 'processos', 'governamentais', 'em', 'todas', 'as', 'línguas', 'oficiais', 'dos', 'países', '.', 'No', 'entanto', ',', 'a', 'maioria', 'dos', 'sistemas', 'dependia', 'de', 'corpora', 'desenvolvido', 'especificamente', 'para', 'tarefas', 'implementadas', 'por', 'esses', 'sistemas', ',', 'o', 'que', 'era', '(', 'e', 'muitas', 'vezes', 'continua', 'sendo', ')', 'uma', 'grande', 'limitação', 'no', 'sucesso', 'dos', 'mesmo', '.', 'Como', 'resultado', ',', 'uma', 'grande', 'quantidade', 'de', 'pesquisa', 'passou', 'de', 'quantidades', 'de', 'dados', 'limitadas', 'a', 'métodos', 'de', 'aprendizagem', 'mais', 'eficazes', '.', 'Pesquisas', 'recentes', 'têm', 'se', 'concentrado', 'cada', 'vez', 'mais', 'em', 'algoritmos', 'de', 'aprendizagem', 'semi', '-', 'supervisionados', 'e', 'sem', 'supervisão', '.', 'Esses', 'algoritmos', 'são', 'capazes', 'de', 'aprender', 'com', 'dados', 'que', 'não', 'foram', 'anotados', 'manualmente', 'com', 'as', 'respostas', 'desejadas', 'ou', 'usando', 'uma', 'combinação', 'de', 'dados', 'anotados', 'e', 'não', 'anotados', '.', 'Geralmente', ',', 'esta', 'tarefa', 'é', 'muito', 'mais', 'trabalhosa', 'do', 'que', 'a', 'aprendizagem', 'supervisionada', 'e', 'normalmente', 'produz', 'resultados', 'menos', 'precisos', 'para', 'uma', 'quantidade', 'específica', 'de', 'dados', 'de', 'entrada', '.', 'No', 'entanto', ',', 'há', 'uma', 'enorme', 'quantidade', 'de', 'dados', 'não', 'anotados', 'disponíveis', '(', 'incluindo', ',', 'entre', 'outras', 'coisas', ',', 'todo', 'o', 'conteúdo', 'da', 'World', 'Wide', 'Web', ')', ',', 'que', 'muitas', 'vezes', 'pode', 'compensar', 'os', 'resultados', 'inferiores', '.', '=', '=', 'Usando', 'a', 'aprendizagem', 'automática', '(', 'aprendizado', 'de', 'máquina', ')', '=', '=', 'Os', 'algoritmos', 'modernos', 'de', 'PLN', 'baseiam', '-', 'se', 'na', 'aprendizagem', 'mecânica', ',', 'especialmente', 'na', 'aprendizagem', 'de', 'máquinas', 'estatísticas', '.', 'O', 'paradigma', 'da', 'aprendizagem', 'mecânica', 'é', 'diferente', 'do', 'da', 'maioria', 'das', 'tentativas', 'anteriores', 'de', 'processamento', 'da', 'linguagem', '.', 'Anteriormente', ',', 'implementações', 'de', 'tarefas', 'de', 'processamento', 'de', 'linguagem', 'envolviam', 'a', 'codificação', 'direta', 'de', 'grandes', 'conjuntos', 'de', 'regras', '.', 'O', 'paradigma', 'da', 'aprendizagem', 'automática', '(', 'ou', 'aprendizagem', 'automática', ')', 'induz', 'a', 'aprendizagem', 'automática', 'de', 'regras', 'através', 'de', 'análises', 'de', 'corpora', 'de', 'exemplos', 'típicos', 'do', 'mundo', 'real', 'ao', 'invés', 'de', 'usar', 'algoritmos', 'gerais', 'de', 'aprendizagem', '(', 'muitas', 'vezes', ',', 'embora', 'nem', 'sempre', ',', 'baseados', 'em', 'inferência', 'estatística', ')', '.', 'Um', 'corpus', '(', 'plural', '\"', 'corpora', '\"', ')', 'é', 'um', 'conjunto', 'de', 'documentos', '(', 'ou', 'frases', 'individuais', ')', 'que', 'foram', 'anotados', 'à', 'mão', 'com', 'os', 'valores', 'corretos', 'a', 'serem', 'aprendidos', '.', 'Muitas', 'classes', 'diferentes', 'de', 'algoritmos', 'de', 'aprendizado', 'de', 'máquina', 'foram', 'aplicadas', 'a', 'tarefas', 'de', 'PLN', '.', 'Esses', 'algoritmos', 'tomam', 'como', 'entrada', 'um', 'grande', 'conjunto', 'de', '\"', 'recursos', '\"', 'que', 'são', 'gerados', 'a', 'partir', 'de', 'dados', 'de', 'entrada', '.', 'Alguns', 'dos', 'algoritmos', 'mais', 'usados', ',', 'como', 'árvores', 'de', 'decisão', ',', 'produziam', 'sistemas', 'de', 'regras', 'rígidas', 'semelhantes', 'aos', 'sistemas', 'de', 'regras', 'manuscritas', 'mais', 'comuns', '.', 'No', 'entanto', ',', 'cada', 'vez', 'mais', ',', 'a', 'pesquisa', 'tem', 'se', 'concentrado', 'em', 'modelos', 'estatísticos', ',', 'que', 'tomam', 'decisões', 'flexíveis', 'e', 'probabilísticas', 'baseadas', 'em', 'agregar', 'pesos', 'reais', 'a', 'cada', 'característica', 'de', 'entrada', '.', 'Tais', 'modelos', 'têm', 'a', 'vantagem', 'de', 'poder', 'expressar', 'a', 'certeza', 'relativa', 'de', 'muitas', 'respostas', 'possíveis', 'diferentes', 'em', 'vez', 'de', 'apenas', 'uma', ',', 'produzindo', 'resultados', 'mais', 'confiáveis', 'quando', 'esse', 'modelo', 'é', 'incluído', 'como', 'um', 'componente', 'de', 'um', 'sistema', 'maior', '.', 'Os', 'sistemas', 'baseados', 'em', 'algoritmos', 'de', 'aprendizagem', 'mecânica', 'têm', 'muitas', 'vantagens', 'em', 'relação', 'às', 'regras', 'produzidas', 'manualmente', ':', 'Os', 'procedimentos', 'de', 'aprendizagem', 'usados', 'durante', 'a', 'aprendizagem', 'da', 'máquina', 'focam', '-', 'se', 'automaticamente', 'nos', 'casos', 'mais', 'comuns', ',', 'ao', 'passo', 'que', 'quando', 'se', 'escrevem', 'regras', 'à', 'mão', ',', 'não', 'é', 'óbvio', 'em', 'que', 'sentido', 'o', 'esforço', 'deve', 'ser', 'dirigido', '.', 'Os', 'procedimentos', 'de', 'aprendizagem', 'automática', 'podem', 'fazer', 'uso', 'de', 'algoritmos', 'de', 'inferência', 'estatística', 'para', 'produzir', 'modelos', 'que', 'são', 'robustos', 'a', 'entradas', 'não', 'familiares', '(', 'por', 'exemplo', ',', 'contendo', 'palavras', 'ou', 'estruturas', 'que', 'não', 'foram', 'vistas', 'antes', ')', 'e', 'a', 'entradas', 'errôneas', '(', 'por', 'exemplo', ',', 'com', 'palavras', 'ou', 'palavras', 'incorretamente', 'omitidas', ')', '.', 'Geralmente', ',', 'lidar', 'com', 'essas', 'entradas', 'de', 'forma', 'com', 'regras', 'manuscritas', 'ou', 'sistemas', 'de', 'regras', 'manuscritas', 'que', 'tomam', 'decisões', 'suaves', 'é', 'extremamente', 'trabalhoso', ',', 'propenso', 'a', 'erros', 'e', 'demorado', '.', 'Sistemas', 'baseados', 'em', 'aprender', 'automaticamente', 'as', 'regras', 'podem', 'ser', 'mais', 'precisos', 'simplesmente', 'fornecendo', 'mais', 'dados', 'de', 'entrada', '.', 'No', 'entanto', ',', 'os', 'sistemas', 'baseados', 'em', 'regras', 'escritas', 'à', 'mão', 'só', 'podem', 'ser', 'tornados', 'mais', 'precisos', 'aumentando', 'a', 'complexidade', 'das', 'regras', ',', 'o', 'que', 'é', 'uma', 'tarefa', 'muito', 'mais', 'difícil', '.', 'Em', 'particular', ',', 'há', 'um', 'limite', 'para', 'a', 'complexidade', 'de', 'sistemas', 'baseados', 'em', 'regras', 'artesanais', ',', 'para', 'além', 'dos', 'quais', 'os', 'sistemas', 'se', 'tornam', 'cada', 'vez', 'mais', 'incontroláveis', '.', 'No', 'entanto', ',', 'a', 'criação', 'de', 'mais', 'dados', 'para', 'entrada', 'em', 'sistemas', 'de', 'aprendizado', 'de', 'máquina', 'requer', 'simplesmente', 'um', 'aumento', 'correspondente', 'no', 'número', 'de', 'horas', 'trabalhadas', 'por', 'humanos', ',', 'geralmente', 'sem', 'aumentos', 'significativos', 'na', 'complexidade', 'do', 'processo', 'de', 'anotação', '.', 'O', 'subcampo', 'de', 'PLN', 'dedicado', 'a', 'abordagens', 'de', 'aprendizagem', 'é', 'conhecido', 'como', 'aprendizagem', 'de', 'língua', 'natural', '(', 'NLL', ')', 'e', 'sua', 'conferência', ',', 'a', 'CoNLL', ',', 'e', 'orgão', 'central', ',', 'o', 'SIGNLL', ',', 'são', 'patrocinados', 'pela', 'ACL', ',', 'reconhecendo', 'também', 'as', 'suas', 'ligações', 'com', 'linguística', 'computacional', 'e', 'aquisição', 'de', 'linguagem', '.', 'Quando', 'o', 'objetivo', 'da', 'pesquisa', 'de', 'aprendizagem', 'de', 'linguagem', 'computacional', 'é', 'entender', 'mais', 'sobre', 'aquisição', 'de', 'linguagem', 'humana', ',', 'ou', 'psicolinguística', ',', 'a', 'NLL', 'sobrepõe', '-', 'se', 'no', 'campo', 'relacionado', 'de', 'psicolinguística', 'computacional', '.', '=', '=', 'Aplicações', 'principais', '=', '=', 'A', 'listagem', 'a', 'seguir', 'traz', 'alguns', 'dos', 'trabalhos', 'mais', 'pesquisadas', 'em', 'PLN', '.', 'Note', 'que', 'alguns', 'deles', 'têm', 'aplicações', 'no', 'mundo', 'real', ',', 'enquanto', 'outras', 'servem', 'mais', 'frequentemente', 'como', 'tarefas', 'secundárias', 'que', 'são', 'usadas', 'para', 'auxiliar', 'na', 'resolução', 'de', 'tarefas', 'maiores', '.', 'O', 'que', 'distingue', 'essas', 'tarefas', 'de', 'outras', 'tarefas', 'potenciais', 'e', 'reais', 'de', 'PLN', 'não', 'é', 'apenas', 'o', 'volume', 'de', 'pesquisa', 'dedicado', 'a', 'elas', ',', 'mas', 'o', 'fato', 'de', 'que', 'para', 'cada', 'uma', 'há', 'tipicamente', 'uma', 'definição', 'de', 'problema', 'bem', 'especificada', ',', 'uma', 'métrica', 'padrão', 'para', 'avaliar', 'a', 'tarefa', ',', 'corpora', 'padrão', 'em', 'que', 'a', 'tarefa', 'pode', 'ser', 'avaliada', 'e', 'as', 'competições', 'dedicadas', 'à', 'tarefa', 'específica', '.', 'Sumarização', 'automática', 'Produz', 'um', 'resumo', 'legível', 'de', 'uma', 'parte', 'do', 'texto', '.', 'Muitas', 'vezes', 'usado', 'para', 'fornecer', 'resumos', 'de', 'texto', 'de', 'um', 'tipo', 'conhecido', ',', 'como', 'artigos', 'na', 'seção', 'financeira', 'de', 'um', 'jornal', '.', 'Resolução', 'de', 'correferência', 'Dada', 'uma', 'frase', 'ou', 'um', 'pedaço', 'maior', 'de', 'texto', ',', 'determina', 'quais', 'palavras', '(', '\"', 'menções', '\"', ')', 'se', 'referem', 'aos', 'mesmos', 'objetos', '(', '\"', 'entidades', '\"', ')', '.', 'A', 'resolução', 'da', 'anáfora', 'é', 'um', 'exemplo', 'específico', 'dessa', 'tarefa', 'e', 'está', 'especificamente', 'preocupada', 'em', 'combinar', 'os', 'pronomes', 'com', 'os', 'substantivos', 'ou', 'nomes', 'aos', 'quais', 'eles', 'se', 'referem', '.', 'A', 'tarefa', 'mais', 'geral', 'da', 'resolução', 'de', 'correferência', 'também', 'inclui', 'a', 'identificação', 'dos', 'chamados', '\"', 'relacionamentos', 'de', 'ponte', '\"', 'envolvendo', 'expressões', 'de', 'referência', '.', 'Por', 'exemplo', ',', 'numa', 'frase', 'como', '\"', 'Ele', 'entrou', 'na', 'casa', 'de', 'João', 'pela', 'porta', 'da', 'frente', '\"', ',', '\"', 'a', 'porta', 'da', 'frente', '\"', 'é', 'uma', 'expressão', 'de', 'referência', 'e', 'a', 'relação', 'da', 'ponte', 'a', 'ser', 'identificada', 'é', 'o', 'fato', 'de', 'que', 'a', 'porta', 'a', 'ser', 'referida', 'é', 'a', 'porta', 'da', 'frente', 'de', \"John's\", '(', 'ao', 'invés', 'de', 'alguma', 'outra', 'estrutura', 'que', 'também', 'pode', 'ser', 'referida', ')', '.', 'Análise', 'do', 'Discurso', 'Esta', 'rubrica', 'inclui', 'uma', 'série', 'de', 'tarefas', 'relacionadas', '.', 'Uma', 'tarefa', 'é', 'identificar', 'a', 'estrutura', 'discursiva', 'do', 'texto', 'conectado', ',', 'isto', 'é', ',', 'a', 'natureza', 'das', 'relações', 'discursivas', 'entre', 'sentenças', '(', 'por', 'exemplo', ',', 'elaboração', ',', 'explicação', ',', 'contraste', ')', '.', 'Outra', 'possível', 'tarefa', 'é', 'reconhecer', 'e', 'classificar', 'os', 'atos', 'de', 'fala', 'em', 'um', 'pedaço', 'de', 'texto', '(', 'por', 'exemplo', ',', 'pergunta', 'sim', '-', 'não', ',', 'pergunta', 'de', 'conteúdo', ',', 'frase', ',', 'afirmação', ',', 'etc', ')', '.', 'Maquina', 'de', 'tradução', 'Traduzir', 'automaticamente', 'texto', 'de', 'uma', 'linguagem', 'humana', 'para', 'outra', '.', 'Este', 'é', 'uma', 'das', 'tarefas', 'mais', 'difíceis', 'e', 'faz', 'parte', 'de', 'um', 'tipo', 'de', 'problemas', 'conhecidos', 'como', '\"', 'AI', '-', 'complete', '\"', ',', 'ou', 'seja', ',', 'exigindo', 'todos', 'os', 'diferentes', 'tipos', 'de', 'conhecimento', 'que', 'os', 'humanos', 'possuem', '(', 'gramática', ',', 'semântica', ',', 'fatos', 'sobre', 'o', 'mundo', 'real', ',', 'etc', ')', 'para', 'resolvê', '-', 'lo', 'adequadamente', '.', 'Segmentação', 'morfológica', 'Separa', 'palavras', 'em', 'morfemas', 'individuais', 'e', 'identifica', 'classes', 'de', 'morfemas', '.', 'A', 'dificuldade', 'desta', 'tarefa', 'depende', 'muito', 'da', 'complexidade', 'da', 'morfologia', '(', 'isto', 'é', ',', 'da', 'estrutura', 'das', 'palavras', ')', 'da', 'linguagem', 'que', 'está', 'sendo', 'considerada', '.', 'O', 'inglês', 'possui', 'uma', 'morfologia', 'bastante', 'simples', ',', 'especialmente', 'a', 'morfologia', 'flexional', ',', 'e', 'portanto', 'é', 'possível', 'ignorar', 'esta', 'tarefa', 'inteiramente', 'e', 'simplesmente', 'modelar', 'todas', 'as', 'formas', 'possíveis', 'de', 'uma', 'palavra', '(', 'por', 'exemplo', ',', '\"', 'open', ',', 'opens', ',', 'opened', ',', 'opening', '\"', ')', 'como', 'palavras', 'separadas', '.', 'Em', 'línguas', 'como', 'o', 'turco', 'ou', 'o', 'Meitei', ',', 'uma', 'língua', 'indiana', 'fortemente', 'aglutinada', ',', 'no', 'entanto', ',', 'tal', 'abordagem', 'não', 'é', 'possível', ',', 'uma', 'vez', 'que', 'cada', 'entrada', 'do', 'dicionário', 'tem', 'milhares', 'de', 'formas', 'de', 'palavras', 'possíveis', '.', 'Reconhecimento', 'de', 'entidade', 'nomeada', '(', 'NER', ')', 'Dado', 'um', 'fluxo', 'de', 'texto', ',', 'determina', 'quais', 'são', 'itens', 'no', 'mapa', 'de', 'texto', 'para', 'nomes', 'próprios', ',', 'como', 'pessoas', 'ou', 'locais', 'e', 'qual', 'é', 'o', 'tipo', 'de', 'cada', 'nome', '(', 'por', 'exemplo', ',', 'pessoa', ',', 'local', ',', 'organização', ')', '.', 'Embora', 'a', 'capitalização', 'possa', 'ajudar', 'a', 'reconhecer', 'entidades', 'nomeadas', 'em', 'idiomas', 'como', 'o', 'inglês', ',', 'essas', 'informações', 'podem', 'não', 'ajudar', 'a', 'determinar', 'o', 'tipo', 'de', 'entidade', 'nomeada', 'e', ',', 'em', 'alguns', 'casos', ',', 'sãos', 'imprecisas', 'ou', 'insuficientes', '.', 'Por', 'exemplo', ',', 'a', 'primeira', 'palavra', 'de', 'uma', 'frase', 'também', 'é', 'capitalizada', 'e', 'as', 'entidades', 'nomeadas', 'muitas', 'vezes', 'abrangem', 'várias', 'palavras', ',', 'com', 'apenas', 'algumas', 'delas', 'são', 'capitalizadas', '.', 'Além', 'disso', ',', 'muitas', 'outras', 'linguagens', 'em', 'scripts', 'não', '-', 'ocidentais', '(', 'por', 'exemplo', ',', 'chinês', 'ou', 'árabe', ')', 'não', 'têm', 'nenhuma', 'capitalização', 'e', 'mesmo', 'as', 'línguas', 'com', 'maiúsculas', 'podem', 'não', 'distinguir', 'nomes', '.', 'Por', 'exemplo', ',', 'o', 'alemão', 'capitaliza', 'todos', 'os', 'substantivos', ',', 'independentemente', 'de', 'se', 'referirem', 'a', 'nomes', ',', 'e', 'o', 'francês', 'e', 'o', 'espanhol', 'não', 'capitalizam', 'nomes', 'que', 'servem', 'como', 'adjetivos', '.', 'Geração', 'de', 'língua', 'natural', 'Converte', 'informações', 'de', 'bancos', 'de', 'dados', 'de', 'computador', 'ou', 'intenções', 'semânticas', 'em', 'linguagem', 'humana', 'legível', '.', 'Compreensão', 'da', 'língua', 'natural', 'Converte', 'pedaços', 'de', 'texto', 'em', 'representações', 'mais', 'formais', ',', 'como', 'estruturas', 'de', 'lógica', 'de', 'primeira', 'ordem', ',', 'que', 'são', 'mais', 'fáceis', 'de', 'manipular', 'pelos', 'programas', 'de', 'computador', '.', 'A', 'compreensão', 'da', 'língua', 'natural', 'envolve', 'a', 'identificação', 'da', 'semântica', 'pretendida', 'a', 'partir', 'da', 'múltipla', 'semântica', 'possível', 'que', 'pode', 'ser', 'derivada', 'de', 'uma', 'expressão', 'de', 'língua', 'natural', 'que', 'geralmente', 'toma', 'a', 'forma', 'de', 'notação', 'organizada', 'de', 'conceitos', 'de', 'linguagens', 'naturais', '.', 'Entretanto', ',', 'introdução', 'e', 'criação', 'de', 'linguagem', 'metamodelo', 'e', 'ontologia', 'são', 'eficientes', 'soluções', 'empíricas', '.', 'Uma', 'formalização', 'explícita', 'da', 'semântica', 'de', 'línguas', 'naturais', 'sem', 'confusões', 'com', 'suposições', 'implícitas', 'como', 'closed', '-', 'world', 'assumption', '(', 'CWA', ')', 'versus', 'open', '-', 'world', 'assumption', 'ou', 'subjetiva', 'Sim', '/', 'Não', 'versus', 'objetivo', 'Verdadeiro', '/', 'Falso', 'é', 'esperada', 'para', 'a', 'construção', 'de', 'uma', 'base', 'de', 'formalização', 'semântica', '.', 'Reconhecimento', 'óptico', 'de', 'caracteres', '(', 'OCR', ')', 'Dada', 'uma', 'imagem', 'que', 'representa', 'o', 'texto', 'impresso', ',', 'determina', 'o', 'texto', 'correspondente', '.', 'Marcação', 'de', 'classe', 'gramatical', 'Dada', 'uma', 'sentença', ',', 'determina', 'a', 'classe', 'gramatical', 'de', 'cada', 'palavra', '.', 'Muitas', 'palavras', ',', 'especialmente', 'as', 'comuns', ',', 'podem', 'servir', 'como', 'múltiplas', 'partes', 'do', 'discurso', '.', 'Em', 'inglês', ',', 'por', 'exemplo', ',', '\"', 'book', '\"', 'pode', 'ser', 'um', 'substantivo', '(', '\"', 'the', 'book', 'on', 'the', 'table', '\"', ')', 'ou', 'verbo', '(', '\"', 'book', 'a', 'flight', '\"', ')', ';', '\"', 'Set', '\"', 'pode', 'ser', 'um', 'substantivo', ',', 'verbo', 'ou', 'adjetivo', ';', 'E', '\"', 'out', '\"', 'pode', 'ser', 'qualquer', 'um', 'de', 'pelo', 'menos', 'cinco', 'diferentes', 'partes', 'da', 'fala', '.', 'Algumas', 'línguas', 'têm', 'mais', 'ambiguidade', 'do', 'que', 'outras', '.', 'As', 'línguas', 'com', 'pouca', 'morfologia', 'flexional', ',', 'como', 'o', 'inglês', ',', 'são', 'particularmente', 'propensas', 'a', 'tal', 'ambiguidade', '.', 'O', 'chinês', 'é', 'propenso', 'a', 'tal', 'ambiguidade', 'porque', 'é', 'uma', 'língua', 'tonal', 'durante', 'a', 'verbalização', '.', 'Tal', 'inflexão', 'não', 'é', 'facilmente', 'transmitida', 'através', 'das', 'entidades', 'empregadas', 'dentro', 'da', 'ortografia', 'para', 'transmitir', 'o', 'significado', 'pretendido', '.', 'Análise', 'sintática', '(', 'Parsing', ')', 'Determina', 'a', 'árvore', 'de', 'análise', '(', 'análise', 'gramatical', ')', 'de', 'uma', 'frase', '.', 'A', 'gramática', 'para', 'as', 'linguagens', 'naturais', 'é', 'ambígua', 'e', 'frases', 'típicas', 'têm', 'múltiplas', 'análises', 'possíveis', '.', 'Na', 'verdade', ',', 'surpreendentemente', ',', 'para', 'uma', 'frase', 'típica', 'pode', 'haver', 'milhares', 'de', 'análises', 'em', 'potencial', '(', 'a', 'maioria', 'dos', 'quais', 'parecerá', 'completamente', 'absurda', 'para', 'um', 'ser', 'humano', ')', '.', 'Respostas', 'a', 'perguntas', 'Dada', 'uma', 'questão', 'de', 'linguagem', 'humana', ',', 'determina', 'sua', 'resposta', '.', 'As', 'perguntas', 'típicas', 'têm', 'uma', 'resposta', 'correta', 'específica', '(', 'como', '\"', 'Qual', 'é', 'o', 'capital', 'do', 'Canadá', '?', '\"', ')', ',', 'mas', 'às', 'vezes', 'perguntas', 'abertas', 'também', 'são', 'consideradas', '(', 'como', '\"', 'Qual', 'é', 'o', 'significado', 'da', 'vida', '?', '\"', ')', '.', 'Trabalhos', 'recentes', 'têm', 'analisado', 'questões', 'ainda', 'mais', 'complexas', '.', 'Extração', 'de', 'relacionamento', 'Identifica', 'as', 'relações', 'entre', 'entidades', 'nomeadas', '(', 'por', 'exemplo', ',', 'quem', 'é', 'casado', 'com', 'quem', ')', 'com', 'base', 'em', 'textos', '.', 'Quebra', 'de', 'frases', '(', 'sentence', 'boundary', 'disambiguation', ')', 'Encontra', 'os', 'limites', 'da', 'frase', 'em', 'um', 'pedaço', 'de', 'texto', '.', 'Os', 'limites', 'de', 'frases', 'são', 'normalmente', 'marcadas', 'por', 'pontos', 'ou', 'outros', 'sinais', 'de', 'pontuação', ',', 'mas', 'esses', 'mesmos', 'caracteres', 'podem', 'servir', 'outros', 'propósitos', '.', 'Análise', 'de', 'subjetividade', '(', 'sentiment', 'analysis', 'ou', 'opinion', 'mining', ')', 'Extrai', 'informações', 'subjetivas', 'geralmente', 'de', 'um', 'conjunto', 'de', 'documentos', ',', 'muitas', 'vezes', 'usando', 'revisões', 'online', 'para', 'determinar', 'a', '\"', 'polaridade', '\"', 'sobre', 'objetos', 'específicos', '.', 'É', 'especialmente', 'útil', 'para', 'identificar', 'tendências', 'da', 'opinião', 'pública', 'nas', 'mídias', 'sociais', ',', 'para', 'fins', 'de', 'marketing', '.', 'Reconhecimento', 'de', 'fala', 'Dado', 'um', 'clipe', 'de', 'som', 'de', 'uma', 'pessoa', 'ou', 'pessoas', 'falando', ',', 'determina', 'a', 'representação', 'textual', 'do', 'discurso', '.', 'É', 'o', 'oposto', 'da', 'síntese', 'de', 'fala', 'e', 'é', 'uma', 'das', 'áreas', 'mais', 'difíceis', ',', 'conhecida', 'como', '\"', 'AI', '-', 'complete', '\"', '.', 'Na', 'fala', 'natural', 'quase', 'não', 'há', 'pausas', 'entre', 'palavras', 'sucessivas', ',', 'por', 'isso', 'a', 'segmentação', 'de', 'fala', 'é', 'uma', 'subtarefa', 'necessária', 'de', 'reconhecimento', 'de', 'fala', '.', 'Nota', '-', 'se', 'também', 'que', ',', 'na', 'maioria', 'das', 'linguagens', 'faladas', ',', 'os', 'sons', 'que', 'representam', 'letras', 'sucessivas', 'se', 'misturam', 'entre', 'si', 'em', 'um', 'processo', 'denominado', 'coarticulação', ',', 'de', 'modo', 'que', 'a', 'conversão', 'do', 'sinal', 'analógico', 'em', 'caracteres', 'discretos', 'pode', 'ser', 'um', 'processo', 'muito', 'difícil', 'de', 'ser', 'realizado', '.', 'Segmentação', 'de', 'fala', 'Dado', 'um', 'clipe', 'de', 'som', 'de', 'uma', 'pessoa', 'ou', 'pessoas', 'falando', ',', 'separa', '-', 'o', 'em', 'palavras', '.', 'Uma', 'subaplicação', 'de', 'reconhecimento', 'de', 'fala', 'e', 'normalmente', 'agrupada', 'com', 'ele', '.', 'Análise', 'morfológica', 'e', 'reconhecimento', 'de', 'tópicos', 'Dado', 'um', 'pedaço', 'de', 'texto', ',', 'separa', '-', 'o', 'em', 'segmentos', 'cada', 'um', 'dos', 'quais', 'é', 'dedicado', 'a', 'um', 'tópico', 'e', 'identifica', 'o', 'tópico', 'do', 'segmento', '.', 'Análise', 'morfológica', 'e', 'segmentação', 'de', 'palavras', 'Separa', 'um', 'pedaço', 'de', 'texto', 'contínuo', 'em', 'palavras', 'separadas', '.', 'Para', 'uma', 'língua', 'como', 'o', 'inglês', ',', 'isso', 'é', 'bastante', 'trivial', ',', 'uma', 'vez', 'que', 'as', 'palavras', 'são', 'normalmente', 'separadas', 'por', 'espaços', '.', 'No', 'entanto', ',', 'algumas', 'línguas', 'escritas', 'como', 'chinês', ',', 'japonês', 'e', 'tailandês', 'não', 'marcam', 'limites', 'de', 'palavras', 'de', 'tal', 'forma', ',', 'e', 'nessas', 'línguas', 'segmentação', 'de', 'texto', 'é', 'uma', 'tarefa', 'significativa', 'que', 'requer', 'conhecimento', 'do', 'vocabulário', 'e', 'morfologia', 'das', 'palavras', 'na', 'língua', '.', 'Desambiguação', 'Muitas', 'palavras', 'têm', 'mais', 'de', 'um', 'significado', ',', 'assim', 'temos', 'que', 'selecionar', 'o', 'significado', 'que', 'faz', 'mais', 'sentido', 'no', 'contexto', '.', 'Para', 'este', 'problema', ',', 'em', 'geral', 'é', 'dada', 'uma', 'lista', 'de', 'palavras', 'e', 'sentidos', 'de', 'palavras', 'associadas', 'de', 'um', 'dicionário', 'ou', 'recurso', 'online', ',', 'como', 'o', 'WordNet', '.', 'Em', 'alguns', 'casos', ',', 'conjuntos', 'de', 'tarefas', 'relacionadas', 'são', 'agrupados', 'em', 'subcampos', 'de', 'PLN', 'que', 'são', 'frequentemente', 'considerados', 'separadamente', 'da', 'PLN', 'como', 'um', 'todo', ',', 'como', 'os', 'exemplos', 'à', 'seguir', ':', 'Recuperação', 'de', 'informação', '(', 'IR', ')', 'Trata', '-', 'se', 'de', 'armazenar', ',', 'pesquisar', 'e', 'recuperar', 'informações', '.', 'É', 'um', 'campo', 'separado', 'dentro', 'da', 'ciência', 'da', 'computação', '(', 'mais', 'perto', 'de', 'bancos', 'de', 'dados', ')', ',', 'mas', 'a', 'IR', 'se', 'baseia', 'em', 'alguns', 'métodos', 'PLN', '(', 'por', 'exemplo', ',', 'stemming', ')', '.', 'Algumas', 'pesquisas', 'e', 'aplicações', 'atuais', 'procuram', 'preencher', 'a', 'lacuna', 'entre', 'IR', 'e', 'PLN', '.', 'Extração', 'de', 'informação', '(', 'IE', ')', 'Trata', '-', 'se', ',', 'em', 'geral', ',', 'da', 'extração', 'de', 'informação', 'semântica', 'a', 'partir', 'do', 'texto', '.', 'Abrange', 'tarefas', 'como', 'reconhecimento', 'de', 'entidade', 'mencionada', ',', 'resolução', 'de', 'correferência', 'e', 'de', 'relacionamento', 'de', 'extração', ',', 'etc', '.', 'Processamento', 'de', 'voz', 'Abrange', 'reconhecimento', 'de', 'fala', ',', 'síntese', 'de', 'fala', 'e', 'tarefas', 'relacionadas', '.', 'Outras', 'tarefas', 'incluem', ':', 'Identificação', 'na', 'língua', 'materna', 'Stemização', 'Simplificação', 'do', 'texto', 'Síntese', 'de', 'fala', 'Revisão', 'de', 'texto', 'Pesquisa', 'em', 'língua', 'natural', 'Expansão', 'da', 'consulta', 'Pontuação', 'de', 'ensaio', 'automatizado', 'Truecasing', '=', '=', 'Estatística', '=', '=', 'Artigo', 'principal', ':', 'Gramática', 'estocástica', 'O', 'processamento', 'estatístico', 'em', 'língua', 'natural', 'utiliza', 'métodos', 'estocásticos', ',', 'probabilísticos', 'e', 'estatísticos', 'para', 'resolver', 'algumas', 'das', 'dificuldades', 'discutidas', 'acima', ',', 'especialmente', 'aquelas', 'que', 'surgem', 'porque', 'frases', 'mais', 'longas', 'são', 'muito', 'ambíguas', 'quando', 'processadas', 'com', 'gramáticas', 'realistas', ',', 'produzindo', 'milhares', 'ou', 'milhões', 'de', 'análises', 'possíveis', '.', 'Métodos', 'de', 'desambiguação', 'envolvem', 'muitas', 'vezes', 'o', 'uso', 'de', 'corpora', 'e', 'modelos', 'de', 'Markov', '.', 'O', 'projeto', 'ESPRIT', 'P26', '(', '1984', '-', '1988', ')', ',', 'liderado', 'pelo', 'CSELT', ',', 'explorou', 'o', 'problema', 'do', 'reconhecimento', 'de', 'fala', 'comparando', 'abordagem', 'baseada', 'em', 'conhecimento', 'e', 'estatística', ':', 'o', 'resultado', 'escolhido', 'foi', 'um', 'modelo', 'completamente', 'estatístico', '.', 'Um', 'dos', 'primeiros', 'modelos', 'de', 'compreensão', 'estatística', 'da', 'língua', 'natural', 'foi', 'introduzido', 'em', '1991', 'por', 'Roberto', 'Pieraccini', ',', 'Esther', 'Levin', 'e', 'Chin', '-', 'Hui', 'Lee', ',', 'da', 'Bell', 'Laboratories', ']', '.', 'O', 'PLN', 'compreende', 'todas', 'as', 'abordagens', 'quantitativas', 'para', 'processamento', 'automatizado', 'de', 'linguagem', ',', 'incluindo', 'modelagem', 'probabilística', ',', 'teoria', 'da', 'informação', 'e', 'álgebra', 'linear', '.', 'A', 'tecnologia', 'para', 'o', 'PLN', 'estatístico', 'vem', 'principalmente', 'da', 'aprendizagem', 'automática', 'e', 'da', 'mineração', 'de', 'dados', ',', 'que', 'são', 'campos', 'de', 'inteligência', 'artificial', 'que', 'envolvem', 'o', 'aprendizado', 'a', 'partir', 'de', 'dados', '.', '=', '=', 'Avaliação', '=', '=', 'O', 'objetivo', 'da', 'avaliação', 'do', 'PLN', 'é', 'uma', 'medida', 'de', 'uma', 'ou', 'mais', 'qualidades', 'de', 'um', 'algoritmo', 'ou', 'de', 'um', 'sistema', 'a', 'fim', 'de', 'determinar', 'se', 'o', 'algoritmo', 'atende', 'às', 'metas', 'dos', 'projetistas', 'ou', 'o', 'sistema', 'de', 'atendimento', 'às', 'necessidades', 'de', 'seus', 'usuários', '.', 'Investigação', 'na', 'avaliação', 'PLN', 'tem', 'ganhado', 'atenção', ',', 'porque', 'a', 'definição', 'de', 'critérios', 'de', 'avaliação', 'é', 'uma', 'forma', 'de', 'especificar', 'precisamente', 'problemas', 'do', 'PLN', '.', 'Uma', 'métrica', 'de', 'avaliação', 'de', 'PLN', 'em', 'um', 'sistema', 'algorítmico', 'permite', 'a', 'integração', 'da', 'compreensão', 'de', 'linguagem', 'e', 'geração', 'de', 'linguagem', '.', 'Um', 'conjunto', 'preciso', 'de', 'critérios', 'de', 'avaliação', ',', 'que', 'pode', 'ser', 'aplicado', 'principalmente', 'a', 'avaliações', 'métricas', ',', 'podendo', 'permitir', 'que', 'várias', 'equipes', 'comparem', 'suas', 'soluções', 'para', 'um', 'determinado', 'problema', 'do', 'PLN', '.', '=', '=', 'Cronologia', 'da', 'avaliação', '=', '=', 'Em', '1983', ',', 'iniciou', '-', 'se', 'o', 'Projecto', 'Esprit', 'P26', ',', 'que', 'avaliou', 'as', 'Tecnologias', 'da', 'Fala', '(', 'incluindo', 'tópicos', 'gerais', 'como', 'Sintaxe', 'e', 'Semântica', ')', 'comparando', 'as', 'abordagens', 'baseadas', 'em', 'regras', 'com', 'as', 'estatísticas', '.', 'Em', '1987', ',', 'a', 'primeira', 'campanha', 'de', 'avaliação', 'de', 'textos', 'escritos', 'parece', 'ser', 'uma', 'campanha', 'dedicada', 'à', 'compreensão', 'da', 'mensagem', '(', 'Pallet', ',', '1998', ')', '.', 'O', 'projeto', 'Parseval', '/', 'GEIG', 'comparou', 'gramáticas', 'de', 'frase', '-', 'estrutura', '(', 'Black', '1991', ')', '.', 'Houve', 'uma', 'série', 'de', 'campanhas', 'no', 'projeto', 'Tipster', 'sobre', 'tarefas', 'como', 'resumo', ',', 'tradução', 'e', 'pesquisa', '(', 'Hirschman', '1998', ')', '.', 'Em', '1994', ',', 'na', 'Alemanha', ',', 'o', 'Morpholympics', 'comparou', 'marcadores', 'morfológicos', 'alemães', '.', 'As', 'campanhas', 'de', 'Senseval', '&', 'Romanseval', 'foram', 'realizadas', 'com', 'os', 'objetivos', 'de', 'desambiguação', 'semântica', '.', 'Em', '1996', ',', 'a', 'campanha', 'Sparkle', 'comparou', 'os', 'analisadores', 'sintáticos', 'em', 'quatro', 'idiomas', 'diferentes', '(', 'inglês', ',', 'francês', ',', 'alemão', 'e', 'italiano', ')', '.', 'Na', 'França', ',', 'o', 'projeto', 'Grace', 'comparou', 'um', 'conjunto', 'de', '21', 'marcadores', 'para', 'o', 'francês', 'em', '1997', '(', 'Adda', '1999', ')', '.', 'Em', '2004', ',', 'durante', 'o', 'projeto', 'Technolangue', '/', 'Easy', ',', 'foram', 'comparados', '13', 'analisadores', 'para', 'o', 'francês', '.', 'A', 'avaliação', 'em', 'larga', 'escala', 'dos', 'analisadores', 'de', 'dependência', 'foi', 'realizada', 'no', 'contexto', 'das', 'tarefas', 'compartilhadas', 'do', 'CoNLL', 'em', '2006', 'e', '2007', '.', 'Na', 'França', ',', 'no', 'âmbito', 'do', 'projecto', 'ANR', '-', 'Passage', '(', 'final', 'de', '2007', ')', ',', 'foram', 'comparados', '10', 'analisadores', 'para', 'o', 'francês', '.', 'Em', 'Itália', ',', 'a', 'campanha', 'EVALITA', 'foi', 'realizada', 'em', '2007', ',', '2009', ',', '2011', 'e', '2014', 'para', 'comparar', 'várias', 'ferramentas', 'de', 'PLN', 'e', 'de', 'voz', 'para', 'o', 'site', 'italiano', '-', 'EVALITA', '.', '=', '=', 'Diferentes', 'tipos', 'de', 'avaliação', '=', '=', 'Avaliação', 'intrínseca', 'vs', '.', 'extrínseca', 'A', 'avaliação', 'intrínseca', 'considera', 'um', 'sistema', 'PNL', 'isolado', 'e', 'caracteriza', 'seu', 'desempenho', 'em', 'relação', 'a', 'um', 'resultado', 'padrão', '-', 'excelência', ',', 'conforme', 'definido', 'pelos', 'avaliadores', '.', 'A', 'avaliação', 'extrínseca', ',', 'também', 'chamada', 'de', 'avaliação', 'em', 'uso', ',', 'considera', 'o', 'sistema', 'PLN', 'em', 'um', 'cenário', 'mais', 'complexo', 'como', 'um', 'sistema', 'embutido', 'ou', 'uma', 'função', 'precisa', 'para', 'um', 'usuário', 'humano', '.', 'O', 'desempenho', 'extrínseco', 'do', 'sistema', 'é', 'então', 'caracterizado', 'em', 'termos', 'de', 'utilidade', 'em', 'relação', 'à', 'tarefa', 'global', 'do', 'sistema', 'estranho', 'ou', 'do', 'utilizador', 'humano', '.', 'Por', 'exemplo', ',', 'considere', 'um', 'analisador', 'sintático', 'que', 'é', 'baseado', 'na', 'saída', 'de', 'alguma', 'parte', 'do', 'tagger', 'de', 'fala', '(', 'POS', ')', '.', 'Uma', 'avaliação', 'intrínseca', 'executaria', 'o', 'marcador', 'POS', 'em', 'dados', 'estruturados', 'e', 'compararia', 'a', 'saída', 'do', 'sistema', 'do', 'marcador', 'POS', 'com', 'a', 'saída', 'padrão', 'ouro', '.', 'Uma', 'avaliação', 'extrínseca', 'executaria', 'o', 'analisador', 'com', 'algum', 'outro', 'marcador', 'POS', 'e', ',', 'em', 'seguida', ',', 'com', 'o', 'marcador', 'POS', 'novo', 'e', 'compara', 'a', 'precisão', 'de', 'análise', '.', 'Caixa', 'preta', 'vs', '.', 'Avaliação', 'da', 'caixa', 'de', 'vidro', 'A', 'avaliação', 'em', 'caixa', 'preta', 'requer', 'que', 'alguém', 'execute', 'um', 'sistema', 'PLN', 'em', 'um', 'conjunto', 'de', 'dados', 'de', 'amostra', 'e', 'para', 'medir', 'uma', 'série', 'de', 'parâmetros', 'relacionados', 'com', 'a', 'qualidade', 'do', 'processo', ',', 'como', 'velocidade', ',', 'confiabilidade', ',', 'consumo', 'de', 'recursos', 'e', ',', 'principalmente', ',', 'a', 'qualidade', 'do', 'resultado', ',', 'como', 'a', 'precisão', 'da', 'anotação', 'de', 'dados', 'ou', 'a', 'fidelidade', 'de', 'uma', 'tradução', '.', 'A', 'avaliação', 'da', 'caixa', 'de', 'vidro', 'examina', 'a', 'concepção', 'do', 'sistema', ';', 'Os', 'algoritmos', 'que', 'são', 'implementados', ',', 'os', 'recursos', 'linguísticos', 'que', 'utiliza', ',', 'como', 'o', 'tamanho', 'do', 'vocabulário', 'ou', 'a', 'expressão', 'definida', 'de', 'cardinalidade', '.', 'Dada', 'a', 'complexidade', 'dos', 'problemas', 'da', 'PLN', ',', 'muitas', 'vezes', 'é', 'difícil', 'prever', 'o', 'desempenho', 'apenas', 'com', 'base', 'na', 'avaliação', 'da', 'caixa', 'de', 'vidro', ';', 'Mas', 'este', 'tipo', 'de', 'avaliação', 'é', 'mais', 'informativo', 'no', 'que', 'diz', 'respeito', 'à', 'análise', 'de', 'erros', 'ou', 'desenvolvimentos', 'futuros', 'de', 'um', 'sistema', '.', 'Automática', 'vs', '.', 'avaliação', 'manual', 'Em', 'muitos', 'casos', ',', 'procedimentos', 'automáticos', 'podem', 'ser', 'definidos', 'para', 'avaliar', 'um', 'sistema', 'de', 'PLN', ',', 'comparando', 'sua', 'saída', 'com', 'o', 'padrão', 'de', 'excelência', '.', 'Embora', 'o', 'custo', 'de', 'reproduzir', 'o', 'padrão', 'de', 'excelência', 'possa', 'ser', 'bastante', 'elevado', ',', 'avaliação', 'automática', 'de', 'bootstrapping', 'sobre', 'os', 'mesmos', 'dados', 'de', 'entrada', 'pode', 'ser', 'repetida', 'quantas', 'vezes', 'for', 'necessário', 'sem', 'custos', 'adicionais', 'desordenados', '.', 'No', 'entanto', ',', 'para', 'muitos', 'problemas', 'de', 'PLN', 'a', 'definição', 'precisa', 'de', 'um', 'padrão', 'de', 'excelência', 'é', 'uma', 'tarefa', 'complexa', 'e', 'pode', 'se', 'revelar', 'impossível', 'quando', 'o', 'acordo', 'inter', '-', 'anotador', 'é', 'insuficiente', '.', 'A', 'avaliação', 'manual', 'é', 'melhor', 'realizada', 'por', 'juízes', 'humanos', 'instruídos', 'para', 'estimar', 'a', 'qualidade', 'de', 'um', 'sistema', ',', 'ou', 'mais', 'frequentemente', 'de', 'uma', 'amostra', 'de', 'sua', 'produção', ',', 'com', 'base', 'em', 'uma', 'série', 'de', 'critérios', '.', 'Embora', ',', 'graças', 'à', 'sua', 'competência', 'linguística', ',', 'os', 'juízes', 'humanos', 'possam', 'ser', 'considerados', 'como', 'a', 'referência', 'para', 'uma', 'série', 'de', 'tarefas', 'de', 'processamento', 'de', 'linguagem', ',', 'há', 'também', 'uma', 'variação', 'considerável', 'em', 'suas', 'classificações', '.', 'É', 'por', 'isso', 'que', 'a', 'avaliação', 'automática', 'é', ',', 'por', 'vezes', ',', 'referida', 'como', 'avaliação', 'objetiva', 'enquanto', 'a', 'avaliação', 'humana', 'é', 'perspectiva', '.', '=', '=', 'Padronização', '=', '=', 'Um', 'subcomitê', 'ISO', 'está', 'trabalhando', 'para', 'facilitar', 'a', 'interoperabilidade', 'entre', 'recursos', 'lexicais', 'e', 'programas', 'PLN', '.', 'O', 'subcomitê', 'faz', 'parte', 'do', 'ISO', '/', 'TC37', 'e', 'é', 'chamado', 'ISO', '/', 'TC37', '/', 'SC4', '.', 'Alguns', 'padrões', 'ISO', 'já', 'estão', 'publicados', ',', 'mas', 'a', 'maioria', 'deles', 'está', 'em', 'construção', ',', 'principalmente', 'na', 'representação', 'de', 'léxico', '(', 'ver', 'LMF', ')', ',', 'anotação', 'e', 'registro', 'de', 'categoria', 'de', 'dados', '.', '=', '=', 'Ferramentas', '=', '=', 'Expert', 'System', 'S', '.', 'p', '.', 'A', '.', 'General', 'Architecture', 'for', 'Text', 'Engineering', 'Modular', 'Audio', 'Recognition', 'Framework', 'Natural', 'Language', 'Toolkit', '(', 'NLTK', ')', ':', 'uma', 'biblioteca', 'em', 'Python', 'OpenNLP', '=', '=', 'Veja', 'também', '=', '=', 'Mineração', 'de', 'texto', 'biomédica', 'Processo', 'de', 'processamento', 'composto', 'Revisão', 'assistida', 'por', 'computador', 'Linguagem', 'natural', 'controlada', 'Processamento', 'linguístico', 'profundo', 'Auxílio', 'à', 'leitura', 'de', 'línguas', 'estrangeiras', 'Auxílio', 'à', 'escrita', 'em', 'língua', 'estrangeira', 'Tecnologia', 'da', 'linguagem', 'A', 'alocação', 'de', 'Dirichlet', 'Latente', '(', 'LDA', ')', 'Indexação', 'semântica', 'latente', 'Lista', 'de', 'ferramentas', 'de', 'processamento', 'de', 'língua', 'natural', 'Mapa', 'de', 'LRE', 'Programação', 'em', 'língua', 'natural', 'Reificação', '(', 'linguística', ')', 'Dobradura', 'semântica', 'Sistema', 'de', 'diálogo', 'falado', 'Vetor', 'do', 'Pensamento', 'Pesquisa', 'Transderivacional', 'Word2vec', '=', '=', 'Referências', '=', '=', '=', '=', 'Leitura', 'adicional', '=', '=', 'Steven', 'Bird', ',', 'Ewan', 'Klein', ',', 'and', 'Edward', 'Loper', '(', '2009', ')', '.', 'Natural', 'Language', 'Processing', 'with', 'Python', '.', \"O'Reilly\", 'Media', '.', 'ISBN', '978', '-', '0', '-', '596', '-', '51649', '-', '9', '.', 'Daniel', 'Jurafsky', 'and', 'James', 'H', '.', 'Martin', '(', '2008', ')', '.', 'Speech', 'and', 'Language', 'Processing', ',', '2nd', 'edition', '.', 'Pearson', 'Prentice', 'Hall', '.', 'ISBN', '978', '-', '0', '-', '13', '-', '187321', '-', '6', '.', 'Christopher', 'D', '.', 'Manning', ',', 'Prabhakar', 'Raghavan', ',', 'and', 'Hinrich', 'Schütze', '(', '2008', ')', '.', 'Introduction', 'to', 'Information', 'Retrieval', '.', 'Cambridge', 'University', 'Press', '.', 'ISBN', '978', '-', '0', '-', '521', '-', '86571', '-', '5', '.', 'Official', 'html', 'and', 'pdf', 'versions', 'available', 'without', 'charge', '.', 'Christopher', 'D', '.', 'Manning', 'and', 'Hinrich', 'Schütze', '(', '1999', ')', '.', 'Foundations', 'of', 'Statistical', 'Natural', 'Language', 'Processing', '.', 'The', 'MIT', 'Press', '.', 'ISBN', '978', '-', '0', '-', '262', '-', '13360', '-', '9', '.', 'David', 'M', '.', 'W', '.', 'Powers', 'and', 'Christopher', 'C', '.', 'R', '.', 'Turk', '(', '1989', ')', '.', 'Machine', 'Learning', 'of', 'Natural', 'Language', '.', 'Springer', '-', 'Verlag', '.', 'ISBN', '978', '-', '0', '-', '387', '-', '19557', '-', '5', '.']\n"
          ],
          "name": "stdout"
        }
      ]
    },
    {
      "cell_type": "markdown",
      "metadata": {
        "id": "T7qnHatKE2WA"
      },
      "source": [
        "### NLTK\n",
        "\n",
        "3. Faça utilizando o método abaixo.\n",
        "<b> Não esqueça de armazenar o resultado na variável abaixo. </b>\n",
        "\n",
        "```python\n",
        "nltk.word_tokenize(corpus)\n",
        "```"
      ]
    },
    {
      "cell_type": "code",
      "metadata": {
        "id": "7UNG87TUE2WA"
      },
      "source": [
        "tokens_nltk = nltk.word_tokenize(corpus)"
      ],
      "execution_count": null,
      "outputs": []
    },
    {
      "cell_type": "code",
      "metadata": {
        "id": "CG26NMKvE2WC",
        "outputId": "5252dece-7f1e-41fb-fe1c-abd3fc2a0392"
      },
      "source": [
        "#NLTK\n",
        "print(tokens_nltk)"
      ],
      "execution_count": null,
      "outputs": [
        {
          "output_type": "stream",
          "text": [
            "['Processamento', 'de', 'língua', 'natural', '(', 'PLN', ')', 'é', 'uma', 'subárea', 'da', 'ciência', 'da', 'computação', ',', 'inteligência', 'artificial', 'e', 'da', 'linguística', 'que', 'estuda', 'os', 'problemas', 'da', 'geração', 'e', 'compreensão', 'automática', 'de', 'línguas', 'humanas', 'naturais', '.', 'Sistemas', 'de', 'geração', 'de', 'língua', 'natural', 'convertem', 'informação', 'de', 'bancos', 'de', 'dados', 'de', 'computadores', 'em', 'linguagem', 'compreensível', 'ao', 'ser', 'humano', 'e', 'sistemas', 'de', 'compreensão', 'de', 'língua', 'natural', 'convertem', 'ocorrências', 'de', 'linguagem', 'humana', 'em', 'representações', 'mais', 'formais', ',', 'mais', 'facilmente', 'manipuláveis', 'por', 'programas', 'de', 'computador', '.', 'Alguns', 'desafios', 'do', 'PLN', 'são', 'compreensão', 'de', 'língua', 'natural', ',', 'fazer', 'com', 'que', 'computadores', 'extraiam', 'sentido', 'de', 'linguagem', 'humana', 'ou', 'natural', 'e', 'geração', 'de', 'língua', 'natural', '.', '==', 'História', '==', 'A', 'história', 'do', 'PLN', 'começou', 'na', 'década', 'de', '1950', ',', 'quando', 'Alan', 'Turing', 'publicou', 'o', 'artigo', '``', 'Computing', 'Machinery', 'and', 'Intelligence', \"''\", ',', 'que', 'propunha', 'o', 'que', 'agora', 'é', 'chamado', 'de', 'teste', 'de', 'Turing', 'como', 'critério', 'de', 'inteligência', '.', 'Em', '1954', ',', 'a', 'experiência', 'de', 'Georgetown', 'envolveu', 'a', 'tradução', 'automática', 'de', 'mais', 'de', 'sessenta', 'frases', 'russas', 'para', 'o', 'inglês', '.', 'Os', 'autores', 'afirmaram', 'que', 'dentro', 'de', 'três', 'ou', 'cinco', 'anos', 'a', 'tradução', 'automática', 'seria', 'um', 'problema', 'resolvido', '.', 'No', 'entanto', ',', 'os', 'avanços', 'reais', 'foram', 'muito', 'mais', 'lentos', 'do', 'que', 'o', 'previsto', 'e', ',', 'após', 'o', 'relatório', 'ALPAC', 'em', '1966', ',', 'que', 'constatou', 'que', 'a', 'pesquisa', 'de', 'dez', 'anos', 'não', 'conseguiu', 'satisfazer', 'as', 'expectativas', ',', 'o', 'financiamento', 'para', 'este', 'estudo', 'em', 'tradução', 'automática', 'foi', 'reduzido', 'drasticamente', '.', 'Poucas', 'pesquisas', 'em', 'tradução', 'automática', 'foram', 'conduzidas', 'até', 'o', 'final', 'dos', 'anos', '80', ',', 'quando', 'os', 'primeiros', 'sistemas', 'estatísticos', 'de', 'tradução', 'foram', 'desenvolvidos', '.', 'Alguns', 'sistemas', 'de', 'PLN', 'bem', 'sucedidos', 'desenvolvidos', 'nos', 'anos', '60', 'foram', 'SHRDLU', ',', 'um', 'sistema', 'de', 'língua', 'natural', 'que', 'trabalhava', 'em', '``', 'blocks', 'worlds', \"''\", 'com', 'vocabulário', 'restrito', 'e', 'ELIZA', ',', 'uma', 'simulação', 'de', 'um', 'psicoterapeuta', 'escrita', 'por', 'Joseph', 'Weizenbaum', 'entre', '1964', 'e', '1966', '.', 'Usando', 'pouca', 'informação', 'sobre', 'o', 'pensamento', 'ou', 'a', 'emoção', 'humana', ',', 'ELIZA', 'criava', ',', 'em', 'alguns', 'casos', ',', 'interações', 'surpreendentemente', 'humanas', '.', 'Quando', 'o', '``', 'paciente', \"''\", 'excedia', 'a', 'base', 'de', 'conhecimento', 'do', 'programa', ',', 'ELIZA', 'fornecia', 'uma', 'resposta', 'genérica', ',', 'por', 'exemplo', ',', 'respondendo', 'a', '``', 'Minha', 'cabeça', 'dói', \"''\", 'com', '``', 'Por', 'que', 'você', 'diz', 'que', 'sua', 'cabeça', 'dói', '?', \"''\", '.', 'Durante', 'a', 'década', 'de', '1970', ',', 'muitos', 'programadores', 'começaram', 'a', 'escrever', '``', 'ontologias', 'conceituais', \"''\", ',', 'que', 'estruturaram', 'a', 'informação', 'do', 'mundo', 'real', 'em', 'dados', 'compreensíveis', 'por', 'computadores', '.', 'Exemplos', 'são', 'MARGIE', '(', 'SCHANK', ',', '1975', ')', ',', 'SAM', '(', 'CULLINGFORD', ',', '1978', ')', ',', 'PAM', '(', 'WILENSKY', ',', '1978', ')', ',', 'TaleSpin', '(', 'MEEHAN', ',', '1976', ')', ',', 'QUALM', '(', 'LEHNERT', ',', '1977', ')', ',', 'Politics', '(', 'CARBONELL', ',', '1979', ')', 'e', 'Plot', 'Units', '(', 'LEHNERT', ',', '1981', ')', '.', 'Neste', 'período', ',', 'muitos', 'chatterbots', 'foram', 'escritos', ',', 'como', 'PARRY', ',', 'Racter', 'e', 'Jabberwacky', '.', 'Até', 'a', 'década', 'de', '1980', ',', 'a', 'maioria', 'dos', 'sistemas', 'de', 'PLN', 'se', 'baseava', 'em', 'conjuntos', 'complexos', 'de', 'regras', 'manuscritas', '.', 'A', 'partir', 'do', 'final', 'dos', 'anos', '1980', ',', 'no', 'entanto', ',', 'houve', 'uma', 'revolução', 'no', 'PLN', 'com', 'a', 'introdução', 'de', 'algoritmos', 'de', 'aprendizagem', 'automática', '(', 'aprendizado', 'de', 'máquina', ')', 'para', 'o', 'processamento', 'de', 'linguagem', '.', 'Isto', 'foi', 'devido', 'tanto', 'ao', 'aumento', 'constante', 'do', 'poder', 'computacional', '(', 'ver', 'Lei', 'de', 'Moore', ')', 'quanto', 'à', 'diminuição', 'gradual', 'da', 'dominância', 'das', 'teorias', 'da', 'linguística', 'chomskyanas', '(', 'como', 'a', 'gramática', 'gerativa', ')', ',', 'cujos', 'fundamentos', 'teóricos', 'desestimularam', 'o', 'tipo', 'de', 'corpus', 'linguístico', 'que', 'está', 'subjacente', 'à', 'abordagem', 'da', 'aprendizagem', 'automática', 'ao', 'processamento', 'da', 'linguagem', '.', 'Alguns', 'dos', 'algoritmos', 'de', 'aprendizado', 'de', 'máquinas', 'mais', 'antigos', ',', 'como', 'as', 'árvores', 'de', 'decisão', ',', 'produziam', 'sistemas', 'de', 'regras', 'rígidas', 'então', 'semelhantes', 'às', 'regras', 'existentes', 'na', 'escritas', 'à', 'mão', '.', 'No', 'entanto', ',', 'a', 'marcação', 'de', 'partes', 'da', 'fala', '(', 'part-of-speech', 'tagging', ')', 'introduziu', 'o', 'uso', 'de', 'modelos', 'ocultos', 'de', 'Markov', 'para', 'o', 'PLN', 'e', ',', 'cada', 'vez', 'mais', ',', 'a', 'pesquisa', 'se', 'concentrava', 'em', 'modelos', 'estatísticos', ',', 'que', 'tomam', 'decisões', 'suaves', 'e', 'probabilísticas', 'baseadas', 'na', 'atribuição', 'de', 'pesos', 'reais', 'aos', 'recursos', 'que', 'compõem', 'dados', 'de', 'entrada', '.', 'Os', 'modelos', 'de', 'linguagem', 'de', 'cache', ',', 'sobre', 'os', 'quais', 'muitos', 'sistemas', 'de', 'reconhecimento', 'de', 'fala', 'agora', 'dependem', ',', 'são', 'exemplos', 'de', 'tais', 'modelos', 'estatísticos', '.', 'Esses', 'modelos', 'são', 'geralmente', 'mais', 'robustos', 'quando', 'dados', 'informações', 'desconhecidas', ',', 'especialmente', 'entrada', 'que', 'contém', 'erros', '(', 'como', 'é', 'muito', 'comum', 'para', 'dados', 'do', 'mundo', 'real', ')', 'e', 'produzem', 'resultados', 'mais', 'confiáveis', 'quando', 'integrados', 'em', 'sistemas', 'maiores', 'que', 'compreendem', 'múltiplas', 'tarefas', '.', 'Muitos', 'dos', 'sucessos', 'iniciais', 'notáveis', 'ocorreram', 'no', 'campo', 'da', 'tradução', 'automática', ',', 'devido', 'especialmente', 'ao', 'trabalho', 'de', 'pesquisa', 'da', 'IBM', ',', 'que', 'desenvolveu', 'modelos', 'estatísticos', 'mais', 'elaborados', '.', 'Estes', 'sistemas', 'foram', 'capazes', 'de', 'tirar', 'proveito', 'de', 'corpora', 'textuais', 'multilíngues', 'existentes', 'produzidos', 'pelo', 'Parlamento', 'do', 'Canadá', 'e', 'a', 'União', 'Europeia', 'como', 'resultado', 'de', 'leis', 'que', 'exigem', 'a', 'tradução', 'de', 'todos', 'os', 'processos', 'governamentais', 'em', 'todas', 'as', 'línguas', 'oficiais', 'dos', 'países', '.', 'No', 'entanto', ',', 'a', 'maioria', 'dos', 'sistemas', 'dependia', 'de', 'corpora', 'desenvolvido', 'especificamente', 'para', 'tarefas', 'implementadas', 'por', 'esses', 'sistemas', ',', 'o', 'que', 'era', '(', 'e', 'muitas', 'vezes', 'continua', 'sendo', ')', 'uma', 'grande', 'limitação', 'no', 'sucesso', 'dos', 'mesmo', '.', 'Como', 'resultado', ',', 'uma', 'grande', 'quantidade', 'de', 'pesquisa', 'passou', 'de', 'quantidades', 'de', 'dados', 'limitadas', 'a', 'métodos', 'de', 'aprendizagem', 'mais', 'eficazes', '.', 'Pesquisas', 'recentes', 'têm', 'se', 'concentrado', 'cada', 'vez', 'mais', 'em', 'algoritmos', 'de', 'aprendizagem', 'semi-supervisionados', 'e', 'sem', 'supervisão', '.', 'Esses', 'algoritmos', 'são', 'capazes', 'de', 'aprender', 'com', 'dados', 'que', 'não', 'foram', 'anotados', 'manualmente', 'com', 'as', 'respostas', 'desejadas', 'ou', 'usando', 'uma', 'combinação', 'de', 'dados', 'anotados', 'e', 'não', 'anotados', '.', 'Geralmente', ',', 'esta', 'tarefa', 'é', 'muito', 'mais', 'trabalhosa', 'do', 'que', 'a', 'aprendizagem', 'supervisionada', 'e', 'normalmente', 'produz', 'resultados', 'menos', 'precisos', 'para', 'uma', 'quantidade', 'específica', 'de', 'dados', 'de', 'entrada', '.', 'No', 'entanto', ',', 'há', 'uma', 'enorme', 'quantidade', 'de', 'dados', 'não', 'anotados', 'disponíveis', '(', 'incluindo', ',', 'entre', 'outras', 'coisas', ',', 'todo', 'o', 'conteúdo', 'da', 'World', 'Wide', 'Web', ')', ',', 'que', 'muitas', 'vezes', 'pode', 'compensar', 'os', 'resultados', 'inferiores', '.', '==', 'Usando', 'a', 'aprendizagem', 'automática', '(', 'aprendizado', 'de', 'máquina', ')', '==', 'Os', 'algoritmos', 'modernos', 'de', 'PLN', 'baseiam-se', 'na', 'aprendizagem', 'mecânica', ',', 'especialmente', 'na', 'aprendizagem', 'de', 'máquinas', 'estatísticas', '.', 'O', 'paradigma', 'da', 'aprendizagem', 'mecânica', 'é', 'diferente', 'do', 'da', 'maioria', 'das', 'tentativas', 'anteriores', 'de', 'processamento', 'da', 'linguagem', '.', 'Anteriormente', ',', 'implementações', 'de', 'tarefas', 'de', 'processamento', 'de', 'linguagem', 'envolviam', 'a', 'codificação', 'direta', 'de', 'grandes', 'conjuntos', 'de', 'regras', '.', 'O', 'paradigma', 'da', 'aprendizagem', 'automática', '(', 'ou', 'aprendizagem', 'automática', ')', 'induz', 'a', 'aprendizagem', 'automática', 'de', 'regras', 'através', 'de', 'análises', 'de', 'corpora', 'de', 'exemplos', 'típicos', 'do', 'mundo', 'real', 'ao', 'invés', 'de', 'usar', 'algoritmos', 'gerais', 'de', 'aprendizagem', '(', 'muitas', 'vezes', ',', 'embora', 'nem', 'sempre', ',', 'baseados', 'em', 'inferência', 'estatística', ')', '.', 'Um', 'corpus', '(', 'plural', '``', 'corpora', \"''\", ')', 'é', 'um', 'conjunto', 'de', 'documentos', '(', 'ou', 'frases', 'individuais', ')', 'que', 'foram', 'anotados', 'à', 'mão', 'com', 'os', 'valores', 'corretos', 'a', 'serem', 'aprendidos', '.', 'Muitas', 'classes', 'diferentes', 'de', 'algoritmos', 'de', 'aprendizado', 'de', 'máquina', 'foram', 'aplicadas', 'a', 'tarefas', 'de', 'PLN', '.', 'Esses', 'algoritmos', 'tomam', 'como', 'entrada', 'um', 'grande', 'conjunto', 'de', '``', 'recursos', \"''\", 'que', 'são', 'gerados', 'a', 'partir', 'de', 'dados', 'de', 'entrada', '.', 'Alguns', 'dos', 'algoritmos', 'mais', 'usados', ',', 'como', 'árvores', 'de', 'decisão', ',', 'produziam', 'sistemas', 'de', 'regras', 'rígidas', 'semelhantes', 'aos', 'sistemas', 'de', 'regras', 'manuscritas', 'mais', 'comuns', '.', 'No', 'entanto', ',', 'cada', 'vez', 'mais', ',', 'a', 'pesquisa', 'tem', 'se', 'concentrado', 'em', 'modelos', 'estatísticos', ',', 'que', 'tomam', 'decisões', 'flexíveis', 'e', 'probabilísticas', 'baseadas', 'em', 'agregar', 'pesos', 'reais', 'a', 'cada', 'característica', 'de', 'entrada', '.', 'Tais', 'modelos', 'têm', 'a', 'vantagem', 'de', 'poder', 'expressar', 'a', 'certeza', 'relativa', 'de', 'muitas', 'respostas', 'possíveis', 'diferentes', 'em', 'vez', 'de', 'apenas', 'uma', ',', 'produzindo', 'resultados', 'mais', 'confiáveis', 'quando', 'esse', 'modelo', 'é', 'incluído', 'como', 'um', 'componente', 'de', 'um', 'sistema', 'maior', '.', 'Os', 'sistemas', 'baseados', 'em', 'algoritmos', 'de', 'aprendizagem', 'mecânica', 'têm', 'muitas', 'vantagens', 'em', 'relação', 'às', 'regras', 'produzidas', 'manualmente', ':', 'Os', 'procedimentos', 'de', 'aprendizagem', 'usados', 'durante', 'a', 'aprendizagem', 'da', 'máquina', 'focam-se', 'automaticamente', 'nos', 'casos', 'mais', 'comuns', ',', 'ao', 'passo', 'que', 'quando', 'se', 'escrevem', 'regras', 'à', 'mão', ',', 'não', 'é', 'óbvio', 'em', 'que', 'sentido', 'o', 'esforço', 'deve', 'ser', 'dirigido', '.', 'Os', 'procedimentos', 'de', 'aprendizagem', 'automática', 'podem', 'fazer', 'uso', 'de', 'algoritmos', 'de', 'inferência', 'estatística', 'para', 'produzir', 'modelos', 'que', 'são', 'robustos', 'a', 'entradas', 'não', 'familiares', '(', 'por', 'exemplo', ',', 'contendo', 'palavras', 'ou', 'estruturas', 'que', 'não', 'foram', 'vistas', 'antes', ')', 'e', 'a', 'entradas', 'errôneas', '(', 'por', 'exemplo', ',', 'com', 'palavras', 'ou', 'palavras', 'incorretamente', 'omitidas', ')', '.', 'Geralmente', ',', 'lidar', 'com', 'essas', 'entradas', 'de', 'forma', 'com', 'regras', 'manuscritas', 'ou', 'sistemas', 'de', 'regras', 'manuscritas', 'que', 'tomam', 'decisões', 'suaves', 'é', 'extremamente', 'trabalhoso', ',', 'propenso', 'a', 'erros', 'e', 'demorado', '.', 'Sistemas', 'baseados', 'em', 'aprender', 'automaticamente', 'as', 'regras', 'podem', 'ser', 'mais', 'precisos', 'simplesmente', 'fornecendo', 'mais', 'dados', 'de', 'entrada', '.', 'No', 'entanto', ',', 'os', 'sistemas', 'baseados', 'em', 'regras', 'escritas', 'à', 'mão', 'só', 'podem', 'ser', 'tornados', 'mais', 'precisos', 'aumentando', 'a', 'complexidade', 'das', 'regras', ',', 'o', 'que', 'é', 'uma', 'tarefa', 'muito', 'mais', 'difícil', '.', 'Em', 'particular', ',', 'há', 'um', 'limite', 'para', 'a', 'complexidade', 'de', 'sistemas', 'baseados', 'em', 'regras', 'artesanais', ',', 'para', 'além', 'dos', 'quais', 'os', 'sistemas', 'se', 'tornam', 'cada', 'vez', 'mais', 'incontroláveis', '.', 'No', 'entanto', ',', 'a', 'criação', 'de', 'mais', 'dados', 'para', 'entrada', 'em', 'sistemas', 'de', 'aprendizado', 'de', 'máquina', 'requer', 'simplesmente', 'um', 'aumento', 'correspondente', 'no', 'número', 'de', 'horas', 'trabalhadas', 'por', 'humanos', ',', 'geralmente', 'sem', 'aumentos', 'significativos', 'na', 'complexidade', 'do', 'processo', 'de', 'anotação.O', 'subcampo', 'de', 'PLN', 'dedicado', 'a', 'abordagens', 'de', 'aprendizagem', 'é', 'conhecido', 'como', 'aprendizagem', 'de', 'língua', 'natural', '(', 'NLL', ')', 'e', 'sua', 'conferência', ',', 'a', 'CoNLL', ',', 'e', 'orgão', 'central', ',', 'o', 'SIGNLL', ',', 'são', 'patrocinados', 'pela', 'ACL', ',', 'reconhecendo', 'também', 'as', 'suas', 'ligações', 'com', 'linguística', 'computacional', 'e', 'aquisição', 'de', 'linguagem', '.', 'Quando', 'o', 'objetivo', 'da', 'pesquisa', 'de', 'aprendizagem', 'de', 'linguagem', 'computacional', 'é', 'entender', 'mais', 'sobre', 'aquisição', 'de', 'linguagem', 'humana', ',', 'ou', 'psicolinguística', ',', 'a', 'NLL', 'sobrepõe-se', 'no', 'campo', 'relacionado', 'de', 'psicolinguística', 'computacional', '.', '==', 'Aplicações', 'principais', '==', 'A', 'listagem', 'a', 'seguir', 'traz', 'alguns', 'dos', 'trabalhos', 'mais', 'pesquisadas', 'em', 'PLN', '.', 'Note', 'que', 'alguns', 'deles', 'têm', 'aplicações', 'no', 'mundo', 'real', ',', 'enquanto', 'outras', 'servem', 'mais', 'frequentemente', 'como', 'tarefas', 'secundárias', 'que', 'são', 'usadas', 'para', 'auxiliar', 'na', 'resolução', 'de', 'tarefas', 'maiores', '.', 'O', 'que', 'distingue', 'essas', 'tarefas', 'de', 'outras', 'tarefas', 'potenciais', 'e', 'reais', 'de', 'PLN', 'não', 'é', 'apenas', 'o', 'volume', 'de', 'pesquisa', 'dedicado', 'a', 'elas', ',', 'mas', 'o', 'fato', 'de', 'que', 'para', 'cada', 'uma', 'há', 'tipicamente', 'uma', 'definição', 'de', 'problema', 'bem', 'especificada', ',', 'uma', 'métrica', 'padrão', 'para', 'avaliar', 'a', 'tarefa', ',', 'corpora', 'padrão', 'em', 'que', 'a', 'tarefa', 'pode', 'ser', 'avaliada', 'e', 'as', 'competições', 'dedicadas', 'à', 'tarefa', 'específica', '.', 'Sumarização', 'automática', 'Produz', 'um', 'resumo', 'legível', 'de', 'uma', 'parte', 'do', 'texto', '.', 'Muitas', 'vezes', 'usado', 'para', 'fornecer', 'resumos', 'de', 'texto', 'de', 'um', 'tipo', 'conhecido', ',', 'como', 'artigos', 'na', 'seção', 'financeira', 'de', 'um', 'jornal.Resolução', 'de', 'correferência', 'Dada', 'uma', 'frase', 'ou', 'um', 'pedaço', 'maior', 'de', 'texto', ',', 'determina', 'quais', 'palavras', '(', '``', 'menções', \"''\", ')', 'se', 'referem', 'aos', 'mesmos', 'objetos', '(', '``', 'entidades', \"''\", ')', '.', 'A', 'resolução', 'da', 'anáfora', 'é', 'um', 'exemplo', 'específico', 'dessa', 'tarefa', 'e', 'está', 'especificamente', 'preocupada', 'em', 'combinar', 'os', 'pronomes', 'com', 'os', 'substantivos', 'ou', 'nomes', 'aos', 'quais', 'eles', 'se', 'referem', '.', 'A', 'tarefa', 'mais', 'geral', 'da', 'resolução', 'de', 'correferência', 'também', 'inclui', 'a', 'identificação', 'dos', 'chamados', '``', 'relacionamentos', 'de', 'ponte', \"''\", 'envolvendo', 'expressões', 'de', 'referência', '.', 'Por', 'exemplo', ',', 'numa', 'frase', 'como', '``', 'Ele', 'entrou', 'na', 'casa', 'de', 'João', 'pela', 'porta', 'da', 'frente', \"''\", ',', '``', 'a', 'porta', 'da', 'frente', \"''\", 'é', 'uma', 'expressão', 'de', 'referência', 'e', 'a', 'relação', 'da', 'ponte', 'a', 'ser', 'identificada', 'é', 'o', 'fato', 'de', 'que', 'a', 'porta', 'a', 'ser', 'referida', 'é', 'a', 'porta', 'da', 'frente', 'de', 'John', \"'s\", '(', 'ao', 'invés', 'de', 'alguma', 'outra', 'estrutura', 'que', 'também', 'pode', 'ser', 'referida', ')', '.Análise', 'do', 'Discurso', 'Esta', 'rubrica', 'inclui', 'uma', 'série', 'de', 'tarefas', 'relacionadas', '.', 'Uma', 'tarefa', 'é', 'identificar', 'a', 'estrutura', 'discursiva', 'do', 'texto', 'conectado', ',', 'isto', 'é', ',', 'a', 'natureza', 'das', 'relações', 'discursivas', 'entre', 'sentenças', '(', 'por', 'exemplo', ',', 'elaboração', ',', 'explicação', ',', 'contraste', ')', '.', 'Outra', 'possível', 'tarefa', 'é', 'reconhecer', 'e', 'classificar', 'os', 'atos', 'de', 'fala', 'em', 'um', 'pedaço', 'de', 'texto', '(', 'por', 'exemplo', ',', 'pergunta', 'sim-não', ',', 'pergunta', 'de', 'conteúdo', ',', 'frase', ',', 'afirmação', ',', 'etc', ')', '.Maquina', 'de', 'tradução', 'Traduzir', 'automaticamente', 'texto', 'de', 'uma', 'linguagem', 'humana', 'para', 'outra', '.', 'Este', 'é', 'uma', 'das', 'tarefas', 'mais', 'difíceis', 'e', 'faz', 'parte', 'de', 'um', 'tipo', 'de', 'problemas', 'conhecidos', 'como', '``', 'AI-complete', \"''\", ',', 'ou', 'seja', ',', 'exigindo', 'todos', 'os', 'diferentes', 'tipos', 'de', 'conhecimento', 'que', 'os', 'humanos', 'possuem', '(', 'gramática', ',', 'semântica', ',', 'fatos', 'sobre', 'o', 'mundo', 'real', ',', 'etc', ')', 'para', 'resolvê-lo', 'adequadamente.Segmentação', 'morfológica', 'Separa', 'palavras', 'em', 'morfemas', 'individuais', 'e', 'identifica', 'classes', 'de', 'morfemas', '.', 'A', 'dificuldade', 'desta', 'tarefa', 'depende', 'muito', 'da', 'complexidade', 'da', 'morfologia', '(', 'isto', 'é', ',', 'da', 'estrutura', 'das', 'palavras', ')', 'da', 'linguagem', 'que', 'está', 'sendo', 'considerada', '.', 'O', 'inglês', 'possui', 'uma', 'morfologia', 'bastante', 'simples', ',', 'especialmente', 'a', 'morfologia', 'flexional', ',', 'e', 'portanto', 'é', 'possível', 'ignorar', 'esta', 'tarefa', 'inteiramente', 'e', 'simplesmente', 'modelar', 'todas', 'as', 'formas', 'possíveis', 'de', 'uma', 'palavra', '(', 'por', 'exemplo', ',', '``', 'open', ',', 'opens', ',', 'opened', ',', 'opening', \"''\", ')', 'como', 'palavras', 'separadas', '.', 'Em', 'línguas', 'como', 'o', 'turco', 'ou', 'o', 'Meitei', ',', 'uma', 'língua', 'indiana', 'fortemente', 'aglutinada', ',', 'no', 'entanto', ',', 'tal', 'abordagem', 'não', 'é', 'possível', ',', 'uma', 'vez', 'que', 'cada', 'entrada', 'do', 'dicionário', 'tem', 'milhares', 'de', 'formas', 'de', 'palavras', 'possíveis.Reconhecimento', 'de', 'entidade', 'nomeada', '(', 'NER', ')', 'Dado', 'um', 'fluxo', 'de', 'texto', ',', 'determina', 'quais', 'são', 'itens', 'no', 'mapa', 'de', 'texto', 'para', 'nomes', 'próprios', ',', 'como', 'pessoas', 'ou', 'locais', 'e', 'qual', 'é', 'o', 'tipo', 'de', 'cada', 'nome', '(', 'por', 'exemplo', ',', 'pessoa', ',', 'local', ',', 'organização', ')', '.', 'Embora', 'a', 'capitalização', 'possa', 'ajudar', 'a', 'reconhecer', 'entidades', 'nomeadas', 'em', 'idiomas', 'como', 'o', 'inglês', ',', 'essas', 'informações', 'podem', 'não', 'ajudar', 'a', 'determinar', 'o', 'tipo', 'de', 'entidade', 'nomeada', 'e', ',', 'em', 'alguns', 'casos', ',', 'sãos', 'imprecisas', 'ou', 'insuficientes', '.', 'Por', 'exemplo', ',', 'a', 'primeira', 'palavra', 'de', 'uma', 'frase', 'também', 'é', 'capitalizada', 'e', 'as', 'entidades', 'nomeadas', 'muitas', 'vezes', 'abrangem', 'várias', 'palavras', ',', 'com', 'apenas', 'algumas', 'delas', 'são', 'capitalizadas', '.', 'Além', 'disso', ',', 'muitas', 'outras', 'linguagens', 'em', 'scripts', 'não-ocidentais', '(', 'por', 'exemplo', ',', 'chinês', 'ou', 'árabe', ')', 'não', 'têm', 'nenhuma', 'capitalização', 'e', 'mesmo', 'as', 'línguas', 'com', 'maiúsculas', 'podem', 'não', 'distinguir', 'nomes', '.', 'Por', 'exemplo', ',', 'o', 'alemão', 'capitaliza', 'todos', 'os', 'substantivos', ',', 'independentemente', 'de', 'se', 'referirem', 'a', 'nomes', ',', 'e', 'o', 'francês', 'e', 'o', 'espanhol', 'não', 'capitalizam', 'nomes', 'que', 'servem', 'como', 'adjetivos.Geração', 'de', 'língua', 'natural', 'Converte', 'informações', 'de', 'bancos', 'de', 'dados', 'de', 'computador', 'ou', 'intenções', 'semânticas', 'em', 'linguagem', 'humana', 'legível.Compreensão', 'da', 'língua', 'natural', 'Converte', 'pedaços', 'de', 'texto', 'em', 'representações', 'mais', 'formais', ',', 'como', 'estruturas', 'de', 'lógica', 'de', 'primeira', 'ordem', ',', 'que', 'são', 'mais', 'fáceis', 'de', 'manipular', 'pelos', 'programas', 'de', 'computador', '.', 'A', 'compreensão', 'da', 'língua', 'natural', 'envolve', 'a', 'identificação', 'da', 'semântica', 'pretendida', 'a', 'partir', 'da', 'múltipla', 'semântica', 'possível', 'que', 'pode', 'ser', 'derivada', 'de', 'uma', 'expressão', 'de', 'língua', 'natural', 'que', 'geralmente', 'toma', 'a', 'forma', 'de', 'notação', 'organizada', 'de', 'conceitos', 'de', 'linguagens', 'naturais', '.', 'Entretanto', ',', 'introdução', 'e', 'criação', 'de', 'linguagem', 'metamodelo', 'e', 'ontologia', 'são', 'eficientes', 'soluções', 'empíricas', '.', 'Uma', 'formalização', 'explícita', 'da', 'semântica', 'de', 'línguas', 'naturais', 'sem', 'confusões', 'com', 'suposições', 'implícitas', 'como', 'closed-world', 'assumption', '(', 'CWA', ')', 'versus', 'open-world', 'assumption', 'ou', 'subjetiva', 'Sim', '/', 'Não', 'versus', 'objetivo', 'Verdadeiro', '/', 'Falso', 'é', 'esperada', 'para', 'a', 'construção', 'de', 'uma', 'base', 'de', 'formalização', 'semântica.Reconhecimento', 'óptico', 'de', 'caracteres', '(', 'OCR', ')', 'Dada', 'uma', 'imagem', 'que', 'representa', 'o', 'texto', 'impresso', ',', 'determina', 'o', 'texto', 'correspondente.Marcação', 'de', 'classe', 'gramatical', 'Dada', 'uma', 'sentença', ',', 'determina', 'a', 'classe', 'gramatical', 'de', 'cada', 'palavra', '.', 'Muitas', 'palavras', ',', 'especialmente', 'as', 'comuns', ',', 'podem', 'servir', 'como', 'múltiplas', 'partes', 'do', 'discurso', '.', 'Em', 'inglês', ',', 'por', 'exemplo', ',', '``', 'book', \"''\", 'pode', 'ser', 'um', 'substantivo', '(', '``', 'the', 'book', 'on', 'the', 'table', \"''\", ')', 'ou', 'verbo', '(', '``', 'book', 'a', 'flight', \"''\", ')', ';', '``', 'Set', \"''\", 'pode', 'ser', 'um', 'substantivo', ',', 'verbo', 'ou', 'adjetivo', ';', 'E', '``', 'out', \"''\", 'pode', 'ser', 'qualquer', 'um', 'de', 'pelo', 'menos', 'cinco', 'diferentes', 'partes', 'da', 'fala', '.', 'Algumas', 'línguas', 'têm', 'mais', 'ambiguidade', 'do', 'que', 'outras', '.', 'As', 'línguas', 'com', 'pouca', 'morfologia', 'flexional', ',', 'como', 'o', 'inglês', ',', 'são', 'particularmente', 'propensas', 'a', 'tal', 'ambiguidade', '.', 'O', 'chinês', 'é', 'propenso', 'a', 'tal', 'ambiguidade', 'porque', 'é', 'uma', 'língua', 'tonal', 'durante', 'a', 'verbalização', '.', 'Tal', 'inflexão', 'não', 'é', 'facilmente', 'transmitida', 'através', 'das', 'entidades', 'empregadas', 'dentro', 'da', 'ortografia', 'para', 'transmitir', 'o', 'significado', 'pretendido.Análise', 'sintática', '(', 'Parsing', ')', 'Determina', 'a', 'árvore', 'de', 'análise', '(', 'análise', 'gramatical', ')', 'de', 'uma', 'frase', '.', 'A', 'gramática', 'para', 'as', 'linguagens', 'naturais', 'é', 'ambígua', 'e', 'frases', 'típicas', 'têm', 'múltiplas', 'análises', 'possíveis', '.', 'Na', 'verdade', ',', 'surpreendentemente', ',', 'para', 'uma', 'frase', 'típica', 'pode', 'haver', 'milhares', 'de', 'análises', 'em', 'potencial', '(', 'a', 'maioria', 'dos', 'quais', 'parecerá', 'completamente', 'absurda', 'para', 'um', 'ser', 'humano', ')', '.Respostas', 'a', 'perguntas', 'Dada', 'uma', 'questão', 'de', 'linguagem', 'humana', ',', 'determina', 'sua', 'resposta', '.', 'As', 'perguntas', 'típicas', 'têm', 'uma', 'resposta', 'correta', 'específica', '(', 'como', '``', 'Qual', 'é', 'o', 'capital', 'do', 'Canadá', '?', '``', ')', ',', 'mas', 'às', 'vezes', 'perguntas', 'abertas', 'também', 'são', 'consideradas', '(', 'como', '``', 'Qual', 'é', 'o', 'significado', 'da', 'vida', '?', \"''\", ')', '.', 'Trabalhos', 'recentes', 'têm', 'analisado', 'questões', 'ainda', 'mais', 'complexas.Extração', 'de', 'relacionamento', 'Identifica', 'as', 'relações', 'entre', 'entidades', 'nomeadas', '(', 'por', 'exemplo', ',', 'quem', 'é', 'casado', 'com', 'quem', ')', 'com', 'base', 'em', 'textos.Quebra', 'de', 'frases', '(', 'sentence', 'boundary', 'disambiguation', ')', 'Encontra', 'os', 'limites', 'da', 'frase', 'em', 'um', 'pedaço', 'de', 'texto', '.', 'Os', 'limites', 'de', 'frases', 'são', 'normalmente', 'marcadas', 'por', 'pontos', 'ou', 'outros', 'sinais', 'de', 'pontuação', ',', 'mas', 'esses', 'mesmos', 'caracteres', 'podem', 'servir', 'outros', 'propósitos.Análise', 'de', 'subjetividade', '(', 'sentiment', 'analysis', 'ou', 'opinion', 'mining', ')', 'Extrai', 'informações', 'subjetivas', 'geralmente', 'de', 'um', 'conjunto', 'de', 'documentos', ',', 'muitas', 'vezes', 'usando', 'revisões', 'online', 'para', 'determinar', 'a', '``', 'polaridade', \"''\", 'sobre', 'objetos', 'específicos', '.', 'É', 'especialmente', 'útil', 'para', 'identificar', 'tendências', 'da', 'opinião', 'pública', 'nas', 'mídias', 'sociais', ',', 'para', 'fins', 'de', 'marketing.Reconhecimento', 'de', 'fala', 'Dado', 'um', 'clipe', 'de', 'som', 'de', 'uma', 'pessoa', 'ou', 'pessoas', 'falando', ',', 'determina', 'a', 'representação', 'textual', 'do', 'discurso', '.', 'É', 'o', 'oposto', 'da', 'síntese', 'de', 'fala', 'e', 'é', 'uma', 'das', 'áreas', 'mais', 'difíceis', ',', 'conhecida', 'como', '``', 'AI-complete', \"''\", '.', 'Na', 'fala', 'natural', 'quase', 'não', 'há', 'pausas', 'entre', 'palavras', 'sucessivas', ',', 'por', 'isso', 'a', 'segmentação', 'de', 'fala', 'é', 'uma', 'subtarefa', 'necessária', 'de', 'reconhecimento', 'de', 'fala', '.', 'Nota-se', 'também', 'que', ',', 'na', 'maioria', 'das', 'linguagens', 'faladas', ',', 'os', 'sons', 'que', 'representam', 'letras', 'sucessivas', 'se', 'misturam', 'entre', 'si', 'em', 'um', 'processo', 'denominado', 'coarticulação', ',', 'de', 'modo', 'que', 'a', 'conversão', 'do', 'sinal', 'analógico', 'em', 'caracteres', 'discretos', 'pode', 'ser', 'um', 'processo', 'muito', 'difícil', 'de', 'ser', 'realizado.Segmentação', 'de', 'fala', 'Dado', 'um', 'clipe', 'de', 'som', 'de', 'uma', 'pessoa', 'ou', 'pessoas', 'falando', ',', 'separa-o', 'em', 'palavras', '.', 'Uma', 'subaplicação', 'de', 'reconhecimento', 'de', 'fala', 'e', 'normalmente', 'agrupada', 'com', 'ele.Análise', 'morfológica', 'e', 'reconhecimento', 'de', 'tópicos', 'Dado', 'um', 'pedaço', 'de', 'texto', ',', 'separa-o', 'em', 'segmentos', 'cada', 'um', 'dos', 'quais', 'é', 'dedicado', 'a', 'um', 'tópico', 'e', 'identifica', 'o', 'tópico', 'do', 'segmento.Análise', 'morfológica', 'e', 'segmentação', 'de', 'palavras', 'Separa', 'um', 'pedaço', 'de', 'texto', 'contínuo', 'em', 'palavras', 'separadas', '.', 'Para', 'uma', 'língua', 'como', 'o', 'inglês', ',', 'isso', 'é', 'bastante', 'trivial', ',', 'uma', 'vez', 'que', 'as', 'palavras', 'são', 'normalmente', 'separadas', 'por', 'espaços', '.', 'No', 'entanto', ',', 'algumas', 'línguas', 'escritas', 'como', 'chinês', ',', 'japonês', 'e', 'tailandês', 'não', 'marcam', 'limites', 'de', 'palavras', 'de', 'tal', 'forma', ',', 'e', 'nessas', 'línguas', 'segmentação', 'de', 'texto', 'é', 'uma', 'tarefa', 'significativa', 'que', 'requer', 'conhecimento', 'do', 'vocabulário', 'e', 'morfologia', 'das', 'palavras', 'na', 'língua.Desambiguação', 'Muitas', 'palavras', 'têm', 'mais', 'de', 'um', 'significado', ',', 'assim', 'temos', 'que', 'selecionar', 'o', 'significado', 'que', 'faz', 'mais', 'sentido', 'no', 'contexto', '.', 'Para', 'este', 'problema', ',', 'em', 'geral', 'é', 'dada', 'uma', 'lista', 'de', 'palavras', 'e', 'sentidos', 'de', 'palavras', 'associadas', 'de', 'um', 'dicionário', 'ou', 'recurso', 'online', ',', 'como', 'o', 'WordNet', '.', 'Em', 'alguns', 'casos', ',', 'conjuntos', 'de', 'tarefas', 'relacionadas', 'são', 'agrupados', 'em', 'subcampos', 'de', 'PLN', 'que', 'são', 'frequentemente', 'considerados', 'separadamente', 'da', 'PLN', 'como', 'um', 'todo', ',', 'como', 'os', 'exemplos', 'à', 'seguir', ':', 'Recuperação', 'de', 'informação', '(', 'IR', ')', 'Trata-se', 'de', 'armazenar', ',', 'pesquisar', 'e', 'recuperar', 'informações', '.', 'É', 'um', 'campo', 'separado', 'dentro', 'da', 'ciência', 'da', 'computação', '(', 'mais', 'perto', 'de', 'bancos', 'de', 'dados', ')', ',', 'mas', 'a', 'IR', 'se', 'baseia', 'em', 'alguns', 'métodos', 'PLN', '(', 'por', 'exemplo', ',', 'stemming', ')', '.', 'Algumas', 'pesquisas', 'e', 'aplicações', 'atuais', 'procuram', 'preencher', 'a', 'lacuna', 'entre', 'IR', 'e', 'PLN.Extração', 'de', 'informação', '(', 'IE', ')', 'Trata-se', ',', 'em', 'geral', ',', 'da', 'extração', 'de', 'informação', 'semântica', 'a', 'partir', 'do', 'texto', '.', 'Abrange', 'tarefas', 'como', 'reconhecimento', 'de', 'entidade', 'mencionada', ',', 'resolução', 'de', 'correferência', 'e', 'de', 'relacionamento', 'de', 'extração', ',', 'etc', '.', 'Processamento', 'de', 'voz', 'Abrange', 'reconhecimento', 'de', 'fala', ',', 'síntese', 'de', 'fala', 'e', 'tarefas', 'relacionadas', '.', 'Outras', 'tarefas', 'incluem', ':', 'Identificação', 'na', 'língua', 'materna', 'Stemização', 'Simplificação', 'do', 'texto', 'Síntese', 'de', 'fala', 'Revisão', 'de', 'texto', 'Pesquisa', 'em', 'língua', 'natural', 'Expansão', 'da', 'consulta', 'Pontuação', 'de', 'ensaio', 'automatizado', 'Truecasing', '==', 'Estatística', '==', 'Artigo', 'principal', ':', 'Gramática', 'estocástica', 'O', 'processamento', 'estatístico', 'em', 'língua', 'natural', 'utiliza', 'métodos', 'estocásticos', ',', 'probabilísticos', 'e', 'estatísticos', 'para', 'resolver', 'algumas', 'das', 'dificuldades', 'discutidas', 'acima', ',', 'especialmente', 'aquelas', 'que', 'surgem', 'porque', 'frases', 'mais', 'longas', 'são', 'muito', 'ambíguas', 'quando', 'processadas', 'com', 'gramáticas', 'realistas', ',', 'produzindo', 'milhares', 'ou', 'milhões', 'de', 'análises', 'possíveis', '.', 'Métodos', 'de', 'desambiguação', 'envolvem', 'muitas', 'vezes', 'o', 'uso', 'de', 'corpora', 'e', 'modelos', 'de', 'Markov', '.', 'O', 'projeto', 'ESPRIT', 'P26', '(', '1984-1988', ')', ',', 'liderado', 'pelo', 'CSELT', ',', 'explorou', 'o', 'problema', 'do', 'reconhecimento', 'de', 'fala', 'comparando', 'abordagem', 'baseada', 'em', 'conhecimento', 'e', 'estatística', ':', 'o', 'resultado', 'escolhido', 'foi', 'um', 'modelo', 'completamente', 'estatístico', '.', 'Um', 'dos', 'primeiros', 'modelos', 'de', 'compreensão', 'estatística', 'da', 'língua', 'natural', 'foi', 'introduzido', 'em', '1991', 'por', 'Roberto', 'Pieraccini', ',', 'Esther', 'Levin', 'e', 'Chin-Hui', 'Lee', ',', 'da', 'Bell', 'Laboratories', ']', '.', 'O', 'PLN', 'compreende', 'todas', 'as', 'abordagens', 'quantitativas', 'para', 'processamento', 'automatizado', 'de', 'linguagem', ',', 'incluindo', 'modelagem', 'probabilística', ',', 'teoria', 'da', 'informação', 'e', 'álgebra', 'linear', '.', 'A', 'tecnologia', 'para', 'o', 'PLN', 'estatístico', 'vem', 'principalmente', 'da', 'aprendizagem', 'automática', 'e', 'da', 'mineração', 'de', 'dados', ',', 'que', 'são', 'campos', 'de', 'inteligência', 'artificial', 'que', 'envolvem', 'o', 'aprendizado', 'a', 'partir', 'de', 'dados', '.', '==', 'Avaliação', '==', 'O', 'objetivo', 'da', 'avaliação', 'do', 'PLN', 'é', 'uma', 'medida', 'de', 'uma', 'ou', 'mais', 'qualidades', 'de', 'um', 'algoritmo', 'ou', 'de', 'um', 'sistema', 'a', 'fim', 'de', 'determinar', 'se', 'o', 'algoritmo', 'atende', 'às', 'metas', 'dos', 'projetistas', 'ou', 'o', 'sistema', 'de', 'atendimento', 'às', 'necessidades', 'de', 'seus', 'usuários', '.', 'Investigação', 'na', 'avaliação', 'PLN', 'tem', 'ganhado', 'atenção', ',', 'porque', 'a', 'definição', 'de', 'critérios', 'de', 'avaliação', 'é', 'uma', 'forma', 'de', 'especificar', 'precisamente', 'problemas', 'do', 'PLN', '.', 'Uma', 'métrica', 'de', 'avaliação', 'de', 'PLN', 'em', 'um', 'sistema', 'algorítmico', 'permite', 'a', 'integração', 'da', 'compreensão', 'de', 'linguagem', 'e', 'geração', 'de', 'linguagem', '.', 'Um', 'conjunto', 'preciso', 'de', 'critérios', 'de', 'avaliação', ',', 'que', 'pode', 'ser', 'aplicado', 'principalmente', 'a', 'avaliações', 'métricas', ',', 'podendo', 'permitir', 'que', 'várias', 'equipes', 'comparem', 'suas', 'soluções', 'para', 'um', 'determinado', 'problema', 'do', 'PLN', '.', '==', 'Cronologia', 'da', 'avaliação', '==', 'Em', '1983', ',', 'iniciou-se', 'o', 'Projecto', 'Esprit', 'P26', ',', 'que', 'avaliou', 'as', 'Tecnologias', 'da', 'Fala', '(', 'incluindo', 'tópicos', 'gerais', 'como', 'Sintaxe', 'e', 'Semântica', ')', 'comparando', 'as', 'abordagens', 'baseadas', 'em', 'regras', 'com', 'as', 'estatísticas', '.', 'Em', '1987', ',', 'a', 'primeira', 'campanha', 'de', 'avaliação', 'de', 'textos', 'escritos', 'parece', 'ser', 'uma', 'campanha', 'dedicada', 'à', 'compreensão', 'da', 'mensagem', '(', 'Pallet', ',', '1998', ')', '.', 'O', 'projeto', 'Parseval', '/', 'GEIG', 'comparou', 'gramáticas', 'de', 'frase-estrutura', '(', 'Black', '1991', ')', '.', 'Houve', 'uma', 'série', 'de', 'campanhas', 'no', 'projeto', 'Tipster', 'sobre', 'tarefas', 'como', 'resumo', ',', 'tradução', 'e', 'pesquisa', '(', 'Hirschman', '1998', ')', '.', 'Em', '1994', ',', 'na', 'Alemanha', ',', 'o', 'Morpholympics', 'comparou', 'marcadores', 'morfológicos', 'alemães', '.', 'As', 'campanhas', 'de', 'Senseval', '&', 'Romanseval', 'foram', 'realizadas', 'com', 'os', 'objetivos', 'de', 'desambiguação', 'semântica', '.', 'Em', '1996', ',', 'a', 'campanha', 'Sparkle', 'comparou', 'os', 'analisadores', 'sintáticos', 'em', 'quatro', 'idiomas', 'diferentes', '(', 'inglês', ',', 'francês', ',', 'alemão', 'e', 'italiano', ')', '.', 'Na', 'França', ',', 'o', 'projeto', 'Grace', 'comparou', 'um', 'conjunto', 'de', '21', 'marcadores', 'para', 'o', 'francês', 'em', '1997', '(', 'Adda', '1999', ')', '.', 'Em', '2004', ',', 'durante', 'o', 'projeto', 'Technolangue', '/', 'Easy', ',', 'foram', 'comparados', '13', 'analisadores', 'para', 'o', 'francês', '.', 'A', 'avaliação', 'em', 'larga', 'escala', 'dos', 'analisadores', 'de', 'dependência', 'foi', 'realizada', 'no', 'contexto', 'das', 'tarefas', 'compartilhadas', 'do', 'CoNLL', 'em', '2006', 'e', '2007', '.', 'Na', 'França', ',', 'no', 'âmbito', 'do', 'projecto', 'ANR-Passage', '(', 'final', 'de', '2007', ')', ',', 'foram', 'comparados', '10', 'analisadores', 'para', 'o', 'francês', '.', 'Em', 'Itália', ',', 'a', 'campanha', 'EVALITA', 'foi', 'realizada', 'em', '2007', ',', '2009', ',', '2011', 'e', '2014', 'para', 'comparar', 'várias', 'ferramentas', 'de', 'PLN', 'e', 'de', 'voz', 'para', 'o', 'site', 'italiano', '-', 'EVALITA', '.', '==', 'Diferentes', 'tipos', 'de', 'avaliação', '==', 'Avaliação', 'intrínseca', 'vs.', 'extrínseca', 'A', 'avaliação', 'intrínseca', 'considera', 'um', 'sistema', 'PNL', 'isolado', 'e', 'caracteriza', 'seu', 'desempenho', 'em', 'relação', 'a', 'um', 'resultado', 'padrão-excelência', ',', 'conforme', 'definido', 'pelos', 'avaliadores', '.', 'A', 'avaliação', 'extrínseca', ',', 'também', 'chamada', 'de', 'avaliação', 'em', 'uso', ',', 'considera', 'o', 'sistema', 'PLN', 'em', 'um', 'cenário', 'mais', 'complexo', 'como', 'um', 'sistema', 'embutido', 'ou', 'uma', 'função', 'precisa', 'para', 'um', 'usuário', 'humano', '.', 'O', 'desempenho', 'extrínseco', 'do', 'sistema', 'é', 'então', 'caracterizado', 'em', 'termos', 'de', 'utilidade', 'em', 'relação', 'à', 'tarefa', 'global', 'do', 'sistema', 'estranho', 'ou', 'do', 'utilizador', 'humano', '.', 'Por', 'exemplo', ',', 'considere', 'um', 'analisador', 'sintático', 'que', 'é', 'baseado', 'na', 'saída', 'de', 'alguma', 'parte', 'do', 'tagger', 'de', 'fala', '(', 'POS', ')', '.', 'Uma', 'avaliação', 'intrínseca', 'executaria', 'o', 'marcador', 'POS', 'em', 'dados', 'estruturados', 'e', 'compararia', 'a', 'saída', 'do', 'sistema', 'do', 'marcador', 'POS', 'com', 'a', 'saída', 'padrão', 'ouro', '.', 'Uma', 'avaliação', 'extrínseca', 'executaria', 'o', 'analisador', 'com', 'algum', 'outro', 'marcador', 'POS', 'e', ',', 'em', 'seguida', ',', 'com', 'o', 'marcador', 'POS', 'novo', 'e', 'compara', 'a', 'precisão', 'de', 'análise', '.', 'Caixa', 'preta', 'vs.', 'Avaliação', 'da', 'caixa', 'de', 'vidro', 'A', 'avaliação', 'em', 'caixa', 'preta', 'requer', 'que', 'alguém', 'execute', 'um', 'sistema', 'PLN', 'em', 'um', 'conjunto', 'de', 'dados', 'de', 'amostra', 'e', 'para', 'medir', 'uma', 'série', 'de', 'parâmetros', 'relacionados', 'com', 'a', 'qualidade', 'do', 'processo', ',', 'como', 'velocidade', ',', 'confiabilidade', ',', 'consumo', 'de', 'recursos', 'e', ',', 'principalmente', ',', 'a', 'qualidade', 'do', 'resultado', ',', 'como', 'a', 'precisão', 'da', 'anotação', 'de', 'dados', 'ou', 'a', 'fidelidade', 'de', 'uma', 'tradução', '.', 'A', 'avaliação', 'da', 'caixa', 'de', 'vidro', 'examina', 'a', 'concepção', 'do', 'sistema', ';', 'Os', 'algoritmos', 'que', 'são', 'implementados', ',', 'os', 'recursos', 'linguísticos', 'que', 'utiliza', ',', 'como', 'o', 'tamanho', 'do', 'vocabulário', 'ou', 'a', 'expressão', 'definida', 'de', 'cardinalidade', '.', 'Dada', 'a', 'complexidade', 'dos', 'problemas', 'da', 'PLN', ',', 'muitas', 'vezes', 'é', 'difícil', 'prever', 'o', 'desempenho', 'apenas', 'com', 'base', 'na', 'avaliação', 'da', 'caixa', 'de', 'vidro', ';', 'Mas', 'este', 'tipo', 'de', 'avaliação', 'é', 'mais', 'informativo', 'no', 'que', 'diz', 'respeito', 'à', 'análise', 'de', 'erros', 'ou', 'desenvolvimentos', 'futuros', 'de', 'um', 'sistema', '.', 'Automática', 'vs.', 'avaliação', 'manual', 'Em', 'muitos', 'casos', ',', 'procedimentos', 'automáticos', 'podem', 'ser', 'definidos', 'para', 'avaliar', 'um', 'sistema', 'de', 'PLN', ',', 'comparando', 'sua', 'saída', 'com', 'o', 'padrão', 'de', 'excelência', '.', 'Embora', 'o', 'custo', 'de', 'reproduzir', 'o', 'padrão', 'de', 'excelência', 'possa', 'ser', 'bastante', 'elevado', ',', 'avaliação', 'automática', 'de', 'bootstrapping', 'sobre', 'os', 'mesmos', 'dados', 'de', 'entrada', 'pode', 'ser', 'repetida', 'quantas', 'vezes', 'for', 'necessário', 'sem', 'custos', 'adicionais', 'desordenados', '.', 'No', 'entanto', ',', 'para', 'muitos', 'problemas', 'de', 'PLN', 'a', 'definição', 'precisa', 'de', 'um', 'padrão', 'de', 'excelência', 'é', 'uma', 'tarefa', 'complexa', 'e', 'pode', 'se', 'revelar', 'impossível', 'quando', 'o', 'acordo', 'inter-anotador', 'é', 'insuficiente', '.', 'A', 'avaliação', 'manual', 'é', 'melhor', 'realizada', 'por', 'juízes', 'humanos', 'instruídos', 'para', 'estimar', 'a', 'qualidade', 'de', 'um', 'sistema', ',', 'ou', 'mais', 'frequentemente', 'de', 'uma', 'amostra', 'de', 'sua', 'produção', ',', 'com', 'base', 'em', 'uma', 'série', 'de', 'critérios', '.', 'Embora', ',', 'graças', 'à', 'sua', 'competência', 'linguística', ',', 'os', 'juízes', 'humanos', 'possam', 'ser', 'considerados', 'como', 'a', 'referência', 'para', 'uma', 'série', 'de', 'tarefas', 'de', 'processamento', 'de', 'linguagem', ',', 'há', 'também', 'uma', 'variação', 'considerável', 'em', 'suas', 'classificações', '.', 'É', 'por', 'isso', 'que', 'a', 'avaliação', 'automática', 'é', ',', 'por', 'vezes', ',', 'referida', 'como', 'avaliação', 'objetiva', 'enquanto', 'a', 'avaliação', 'humana', 'é', 'perspectiva', '.', '==', 'Padronização', '==', 'Um', 'subcomitê', 'ISO', 'está', 'trabalhando', 'para', 'facilitar', 'a', 'interoperabilidade', 'entre', 'recursos', 'lexicais', 'e', 'programas', 'PLN', '.', 'O', 'subcomitê', 'faz', 'parte', 'do', 'ISO', '/', 'TC37', 'e', 'é', 'chamado', 'ISO', '/', 'TC37', '/', 'SC4', '.', 'Alguns', 'padrões', 'ISO', 'já', 'estão', 'publicados', ',', 'mas', 'a', 'maioria', 'deles', 'está', 'em', 'construção', ',', 'principalmente', 'na', 'representação', 'de', 'léxico', '(', 'ver', 'LMF', ')', ',', 'anotação', 'e', 'registro', 'de', 'categoria', 'de', 'dados', '.', '==', 'Ferramentas', '==', 'Expert', 'System', 'S.p.A.', 'General', 'Architecture', 'for', 'Text', 'Engineering', 'Modular', 'Audio', 'Recognition', 'Framework', 'Natural', 'Language', 'Toolkit', '(', 'NLTK', ')', ':', 'uma', 'biblioteca', 'em', 'Python', 'OpenNLP', '==', 'Veja', 'também', '==', 'Mineração', 'de', 'texto', 'biomédica', 'Processo', 'de', 'processamento', 'composto', 'Revisão', 'assistida', 'por', 'computador', 'Linguagem', 'natural', 'controlada', 'Processamento', 'linguístico', 'profundo', 'Auxílio', 'à', 'leitura', 'de', 'línguas', 'estrangeiras', 'Auxílio', 'à', 'escrita', 'em', 'língua', 'estrangeira', 'Tecnologia', 'da', 'linguagem', 'A', 'alocação', 'de', 'Dirichlet', 'Latente', '(', 'LDA', ')', 'Indexação', 'semântica', 'latente', 'Lista', 'de', 'ferramentas', 'de', 'processamento', 'de', 'língua', 'natural', 'Mapa', 'de', 'LRE', 'Programação', 'em', 'língua', 'natural', 'Reificação', '(', 'linguística', ')', 'Dobradura', 'semântica', 'Sistema', 'de', 'diálogo', 'falado', 'Vetor', 'do', 'Pensamento', 'Pesquisa', 'Transderivacional', 'Word2vec', '==', 'Referências', '==', '==', 'Leitura', 'adicional', '==', 'Steven', 'Bird', ',', 'Ewan', 'Klein', ',', 'and', 'Edward', 'Loper', '(', '2009', ')', '.', 'Natural', 'Language', 'Processing', 'with', 'Python', '.', \"O'Reilly\", 'Media', '.', 'ISBN', '978-0-596-51649-9', '.', 'Daniel', 'Jurafsky', 'and', 'James', 'H.', 'Martin', '(', '2008', ')', '.', 'Speech', 'and', 'Language', 'Processing', ',', '2nd', 'edition', '.', 'Pearson', 'Prentice', 'Hall', '.', 'ISBN', '978-0-13-187321-6', '.', 'Christopher', 'D.', 'Manning', ',', 'Prabhakar', 'Raghavan', ',', 'and', 'Hinrich', 'Schütze', '(', '2008', ')', '.', 'Introduction', 'to', 'Information', 'Retrieval', '.', 'Cambridge', 'University', 'Press', '.', 'ISBN', '978-0-521-86571-5', '.', 'Official', 'html', 'and', 'pdf', 'versions', 'available', 'without', 'charge', '.', 'Christopher', 'D.', 'Manning', 'and', 'Hinrich', 'Schütze', '(', '1999', ')', '.', 'Foundations', 'of', 'Statistical', 'Natural', 'Language', 'Processing', '.', 'The', 'MIT', 'Press', '.', 'ISBN', '978-0-262-13360-9', '.', 'David', 'M.', 'W.', 'Powers', 'and', 'Christopher', 'C.', 'R.', 'Turk', '(', '1989', ')', '.', 'Machine', 'Learning', 'of', 'Natural', 'Language', '.', 'Springer-Verlag', '.', 'ISBN', '978-0-387-19557-5', '.']\n"
          ],
          "name": "stdout"
        }
      ]
    },
    {
      "cell_type": "code",
      "metadata": {
        "id": "ko5hVUu8E2WE"
      },
      "source": [
        "def plot_frequencia_tokens(tokens):\n",
        "    fd_words = FreqDist(tokens)\n",
        "    fd_words.plot(20)"
      ],
      "execution_count": null,
      "outputs": []
    },
    {
      "cell_type": "markdown",
      "metadata": {
        "id": "ArjkfjHhE2WG"
      },
      "source": [
        "### Plot das tokenizações\n",
        "\n",
        "4. Plote o resultado de cada uma das tokenizações.\n",
        "Utilize o método <b> plot_frequencia_tokens() </b> para plotar o gráfico.\n",
        "Também imprima o tamanho de cada tokenização"
      ]
    },
    {
      "cell_type": "code",
      "metadata": {
        "id": "hVQAm8qEE2WG",
        "outputId": "b826332e-80cc-4cba-fdbd-37929bee68e3"
      },
      "source": [
        "print(\"Tokens Split\")\n",
        "#faça aqui\n",
        "plot_frequencia_tokens(tokens_split)\n",
        "print('Token size is: ',len(tokens_split))"
      ],
      "execution_count": null,
      "outputs": [
        {
          "output_type": "stream",
          "text": [
            "Tokens Split\n"
          ],
          "name": "stdout"
        },
        {
          "output_type": "display_data",
          "data": {
            "image/png": "[encoded data removed]",
            "text/plain": [
              "<Figure size 432x288 with 1 Axes>"
            ]
          },
          "metadata": {
            "tags": [],
            "needs_background": "light"
          }
        },
        {
          "output_type": "stream",
          "text": [
            "Token size is:  4182\n"
          ],
          "name": "stdout"
        }
      ]
    },
    {
      "cell_type": "code",
      "metadata": {
        "id": "Eni4lQFkE2WI",
        "outputId": "1e5ce148-fd75-4e7b-8110-9b0a9de333c0"
      },
      "source": [
        "print(\"Tokens Regex\")\n",
        "#faça aqui\n",
        "plot_frequencia_tokens(tokens_regex)\n",
        "print('Token size is: ', len(tokens_regex))"
      ],
      "execution_count": null,
      "outputs": [
        {
          "output_type": "stream",
          "text": [
            "Tokens Regex\n"
          ],
          "name": "stdout"
        },
        {
          "output_type": "display_data",
          "data": {
            "image/png": "[encoded data removed]",
            "text/plain": [
              "<Figure size 432x288 with 1 Axes>"
            ]
          },
          "metadata": {
            "tags": [],
            "needs_background": "light"
          }
        },
        {
          "output_type": "stream",
          "text": [
            "Token size is:  4954\n"
          ],
          "name": "stdout"
        }
      ]
    },
    {
      "cell_type": "code",
      "metadata": {
        "id": "B4xA7gAcE2WL",
        "outputId": "98c17331-46e1-4384-dfff-b6c0f11ec3de"
      },
      "source": [
        "print(\"Tokens NLTK\")\n",
        "#faça aqui\n",
        "plot_frequencia_tokens(tokens_nltk)\n",
        "print('Token size is:', len(tokens_nltk))"
      ],
      "execution_count": null,
      "outputs": [
        {
          "output_type": "stream",
          "text": [
            "Tokens NLTK\n"
          ],
          "name": "stdout"
        },
        {
          "output_type": "display_data",
          "data": {
            "image/png": "[encoded data removed]",
            "text/plain": [
              "<Figure size 432x288 with 1 Axes>"
            ]
          },
          "metadata": {
            "tags": [],
            "needs_background": "light"
          }
        },
        {
          "output_type": "stream",
          "text": [
            "Token size is: 4785\n"
          ],
          "name": "stdout"
        }
      ]
    },
    {
      "cell_type": "markdown",
      "metadata": {
        "id": "6DfR9nAtE2WN"
      },
      "source": [
        "Como foi possível observar, existem variações nas tokenizações realizadas.\n",
        "A que gerou mais tokens foi a que utilizou regex.\n",
        "Por isso iremos utilizá-la a partir deste ponto.\n",
        "Utilize o resultado de <b> tokens_regex</b>."
      ]
    },
    {
      "cell_type": "markdown",
      "metadata": {
        "id": "1bnBwV52E2WN"
      },
      "source": [
        "## Capitalização\n",
        "\n",
        "5. Transforme todos os tokens para minúsculo utilizando a função abaixo:\n",
        "\n",
        "```python\n",
        "str.lower()\n",
        "```"
      ]
    },
    {
      "cell_type": "code",
      "metadata": {
        "id": "UaO8ilaQE2WO",
        "outputId": "ac9bd165-43e2-44cd-8b82-bfb4719093c8"
      },
      "source": [
        "tokens = str.lower(corpus)\n",
        "print(tokens)"
      ],
      "execution_count": null,
      "outputs": [
        {
          "output_type": "stream",
          "text": [
            "processamento de língua natural (pln) é uma subárea da ciência da computação, inteligência artificial e da linguística que estuda os problemas da geração e compreensão automática de línguas humanas naturais. sistemas de geração de língua natural convertem informação de bancos de dados de computadores em linguagem compreensível ao ser humano e sistemas de compreensão de língua natural convertem ocorrências de linguagem humana em representações mais formais, mais facilmente manipuláveis por programas de computador. alguns desafios do pln são compreensão de língua natural, fazer com que computadores extraiam sentido de linguagem humana ou natural e geração de língua natural.\n",
            "\n",
            "\n",
            "== história ==\n",
            "a história do pln começou na década de 1950, quando alan turing publicou o artigo \"computing machinery and intelligence\", que propunha o que agora é chamado de teste de turing como critério de inteligência.\n",
            "em 1954, a experiência de georgetown envolveu a tradução automática de mais de sessenta frases russas para o inglês. os autores afirmaram que dentro de três ou cinco anos a tradução automática seria um problema resolvido. no entanto, os avanços reais foram muito mais lentos do que o previsto e, após o relatório alpac em 1966, que constatou que a pesquisa de dez anos não conseguiu satisfazer as expectativas, o financiamento para este estudo em tradução automática foi reduzido drasticamente. poucas pesquisas em tradução automática foram conduzidas até o final dos anos 80, quando os primeiros sistemas estatísticos de tradução foram desenvolvidos.\n",
            "alguns sistemas de pln bem sucedidos desenvolvidos nos anos 60 foram shrdlu, um sistema de língua natural que trabalhava em \"blocks worlds\" com vocabulário restrito e eliza, uma simulação de um psicoterapeuta escrita por joseph weizenbaum entre 1964 e 1966. usando pouca informação sobre o pensamento ou a emoção humana, eliza criava, em alguns casos, interações surpreendentemente humanas. quando o \"paciente\" excedia a base de conhecimento do programa, eliza fornecia uma resposta genérica, por exemplo, respondendo a \"minha cabeça dói\" com \"por que você diz que sua cabeça dói?\".\n",
            "durante a década de 1970, muitos programadores começaram a escrever \"ontologias conceituais\", que estruturaram a informação do mundo real em dados compreensíveis por computadores. exemplos são margie (schank, 1975), sam (cullingford, 1978), pam (wilensky, 1978), talespin (meehan, 1976), qualm (lehnert, 1977), politics (carbonell, 1979) e plot units (lehnert, 1981 ). neste período, muitos chatterbots foram escritos, como parry, racter e jabberwacky.\n",
            "até a década de 1980, a maioria dos sistemas de pln se baseava em conjuntos complexos de regras manuscritas. a partir do final dos anos 1980, no entanto, houve uma revolução no pln com a introdução de algoritmos de aprendizagem automática (aprendizado de máquina) para o processamento de linguagem. isto foi devido tanto ao aumento constante do poder computacional (ver lei de moore) quanto à diminuição gradual da dominância das teorias da linguística chomskyanas (como a gramática gerativa), cujos fundamentos teóricos desestimularam o tipo de corpus linguístico que está subjacente à abordagem da aprendizagem automática ao processamento da linguagem.\n",
            "alguns dos algoritmos de aprendizado de máquinas mais antigos, como as árvores de decisão, produziam sistemas de regras rígidas então semelhantes às regras existentes na escritas à mão. no entanto, a marcação de partes da fala (part-of-speech tagging) introduziu o uso de modelos ocultos de markov para o pln e, cada vez mais, a pesquisa se concentrava em modelos estatísticos, que tomam decisões suaves e probabilísticas baseadas na atribuição de pesos reais aos recursos que compõem dados de entrada. os modelos de linguagem de cache, sobre os quais muitos sistemas de reconhecimento de fala agora dependem, são exemplos de tais modelos estatísticos. esses modelos são geralmente mais robustos quando dados informações desconhecidas, especialmente entrada que contém erros (como é muito comum para dados do mundo real) e produzem resultados mais confiáveis quando integrados em sistemas maiores que compreendem múltiplas tarefas.\n",
            "muitos dos sucessos iniciais notáveis ocorreram no campo da tradução automática, devido especialmente ao trabalho de pesquisa da ibm, que desenvolveu modelos estatísticos mais elaborados. estes sistemas foram capazes de tirar proveito de corpora textuais multilíngues existentes  produzidos pelo parlamento do canadá e a união europeia como resultado de leis que exigem a tradução de todos os processos governamentais em todas as línguas oficiais dos países. no entanto, a maioria dos sistemas dependia de corpora desenvolvido especificamente para tarefas implementadas por esses sistemas, o que era (e muitas vezes continua sendo) uma grande limitação no sucesso dos mesmo. como resultado, uma grande quantidade de pesquisa passou de quantidades de dados limitadas a métodos de aprendizagem mais eficazes.\n",
            "pesquisas recentes têm se concentrado cada vez mais em algoritmos de aprendizagem semi-supervisionados e sem supervisão. esses algoritmos são capazes de aprender com dados que não foram anotados manualmente com as respostas desejadas ou usando uma combinação de dados anotados e não anotados. geralmente, esta tarefa é muito mais trabalhosa do que a aprendizagem supervisionada e normalmente produz resultados menos precisos para uma quantidade específica de dados de entrada. no entanto, há uma enorme quantidade de dados não anotados disponíveis (incluindo, entre outras coisas, todo o conteúdo da world wide web), que muitas vezes pode compensar os resultados inferiores.\n",
            "\n",
            "\n",
            "== usando a aprendizagem automática (aprendizado de máquina) ==\n",
            "os algoritmos modernos de pln baseiam-se na aprendizagem mecânica, especialmente na aprendizagem de máquinas estatísticas. o paradigma da aprendizagem mecânica é diferente do da maioria das tentativas anteriores de processamento da linguagem. anteriormente, implementações de tarefas de processamento de linguagem envolviam a codificação direta de grandes conjuntos de regras. o paradigma da aprendizagem automática (ou aprendizagem automática) induz a aprendizagem automática de regras através de análises de corpora de exemplos típicos do mundo real ao invés de usar algoritmos gerais de aprendizagem (muitas vezes, embora nem sempre, baseados em inferência estatística). um corpus (plural \"corpora\") é um conjunto de documentos (ou frases individuais) que foram anotados à mão com os valores corretos a serem aprendidos.\n",
            "muitas classes diferentes de algoritmos de aprendizado de máquina foram aplicadas a tarefas de pln. esses algoritmos tomam como entrada um grande conjunto de \"recursos\" que são gerados a partir de dados de entrada.\n",
            "alguns dos algoritmos mais usados, como árvores de decisão, produziam sistemas de regras rígidas semelhantes aos sistemas de regras manuscritas mais comuns. no entanto, cada vez mais, a pesquisa tem se concentrado em modelos estatísticos, que tomam decisões flexíveis e probabilísticas baseadas em agregar pesos reais a cada característica de entrada. tais modelos têm a vantagem de poder expressar a certeza relativa de muitas respostas possíveis diferentes em vez de apenas uma, produzindo resultados mais confiáveis quando esse modelo é incluído como um componente de um sistema maior.\n",
            "os sistemas baseados em algoritmos de aprendizagem mecânica têm muitas vantagens em relação às regras produzidas manualmente:\n",
            "\n",
            "os procedimentos de aprendizagem usados durante a aprendizagem da máquina focam-se automaticamente nos casos mais comuns, ao passo que quando se escrevem regras à mão, não é óbvio em que sentido o esforço deve ser dirigido.\n",
            "os procedimentos de aprendizagem automática podem fazer uso de algoritmos de inferência estatística para produzir modelos que são robustos a entradas não familiares (por exemplo, contendo palavras ou estruturas que não foram vistas antes) e a entradas errôneas (por exemplo, com palavras ou palavras incorretamente omitidas). geralmente, lidar com essas entradas de forma com regras manuscritas ou sistemas de regras manuscritas que tomam decisões suaves é extremamente trabalhoso, propenso a erros e demorado.\n",
            "sistemas baseados em aprender automaticamente as regras podem ser mais precisos simplesmente fornecendo mais dados de entrada. no entanto, os sistemas baseados em regras escritas à mão só podem ser tornados mais precisos aumentando a complexidade das regras, o que é uma tarefa muito mais difícil. em particular, há um limite para a complexidade de sistemas baseados em regras artesanais, para além dos quais os sistemas se tornam cada vez mais incontroláveis. no entanto, a criação de mais dados para entrada em sistemas de aprendizado de máquina requer simplesmente um aumento correspondente no número de horas trabalhadas por humanos, geralmente sem aumentos significativos na complexidade do processo de anotação.o subcampo de pln dedicado a abordagens de aprendizagem é conhecido como aprendizagem de língua natural (nll) e sua conferência, a conll, e orgão central, o signll, são patrocinados pela acl, reconhecendo também as suas ligações com linguística computacional e aquisição de linguagem. quando o objetivo da pesquisa de aprendizagem de linguagem computacional é entender mais sobre aquisição de linguagem humana, ou psicolinguística, a nll sobrepõe-se no campo relacionado de psicolinguística computacional.\n",
            "\n",
            "\n",
            "== aplicações principais ==\n",
            "a listagem a seguir traz alguns dos trabalhos mais pesquisadas em pln. note que alguns deles têm aplicações no mundo real, enquanto outras servem mais frequentemente como tarefas secundárias que são usadas para auxiliar na resolução de tarefas maiores. o que distingue essas tarefas de outras tarefas potenciais e reais de pln não é apenas o volume de pesquisa dedicado a elas, mas o fato de que para cada uma há tipicamente uma definição de problema bem especificada, uma métrica padrão para avaliar a tarefa, corpora padrão em que a tarefa pode ser avaliada e as competições dedicadas à tarefa específica.\n",
            "sumarização automática\n",
            "\n",
            "produz um resumo legível de uma parte do texto. muitas vezes usado para fornecer resumos de texto de um tipo conhecido, como artigos na seção financeira de um jornal.resolução de correferência\n",
            "\n",
            "dada uma frase ou um pedaço maior de texto, determina quais palavras (\"menções\") se referem aos mesmos objetos (\"entidades\"). a resolução da anáfora é um exemplo específico dessa tarefa e está especificamente preocupada em combinar os pronomes com os substantivos ou nomes aos quais eles se referem. a tarefa mais geral da resolução de correferência também inclui a identificação dos chamados \"relacionamentos de ponte\" envolvendo expressões de referência. por exemplo, numa frase como \"ele entrou na casa de joão pela porta da frente\", \"a porta da frente\" é uma expressão de referência e a relação da ponte a ser identificada é o fato de que a porta a ser referida é a porta da frente de john's (ao invés de alguma outra estrutura que também pode ser referida).análise do discurso\n",
            "\n",
            "esta rubrica inclui uma série de tarefas relacionadas. uma tarefa é identificar a estrutura discursiva do texto conectado, isto é, a natureza das relações discursivas entre sentenças (por exemplo, elaboração, explicação, contraste). outra possível tarefa é reconhecer e classificar os atos de fala em um pedaço de texto (por exemplo, pergunta sim-não, pergunta de conteúdo, frase, afirmação, etc).maquina de tradução\n",
            "\n",
            "traduzir automaticamente texto de uma linguagem humana para outra. este é uma das tarefas mais difíceis e faz parte de um tipo de problemas conhecidos como \"ai-complete\", ou seja, exigindo todos os diferentes tipos de conhecimento que os humanos possuem (gramática, semântica, fatos sobre o mundo real, etc) para resolvê-lo adequadamente.segmentação morfológica\n",
            "\n",
            "separa palavras em morfemas individuais e identifica classes de morfemas. a dificuldade desta tarefa depende muito da complexidade da morfologia (isto é, da estrutura das palavras) da linguagem que está sendo considerada. o inglês possui uma morfologia bastante simples, especialmente a morfologia flexional, e portanto é possível ignorar esta tarefa inteiramente e simplesmente modelar todas as formas possíveis de uma palavra (por exemplo, \"open, opens, opened, opening\") como palavras separadas. em línguas como o turco ou o meitei, uma língua indiana fortemente aglutinada, no entanto, tal abordagem não é possível, uma vez que cada entrada do dicionário tem milhares de formas de palavras possíveis.reconhecimento de entidade nomeada (ner)\n",
            "\n",
            "dado um fluxo de texto, determina quais são itens no mapa de texto para nomes próprios, como pessoas ou locais e qual é o tipo de cada nome (por exemplo, pessoa, local, organização). embora a capitalização possa ajudar a reconhecer entidades nomeadas em idiomas como o inglês, essas informações podem não ajudar a determinar o tipo de entidade nomeada e, em alguns casos, sãos imprecisas ou insuficientes. por exemplo, a primeira palavra de uma frase também é capitalizada e as entidades nomeadas muitas vezes abrangem várias palavras, com apenas algumas delas são capitalizadas. além disso, muitas outras linguagens em scripts não-ocidentais (por exemplo, chinês ou árabe) não têm nenhuma capitalização e mesmo as línguas com maiúsculas podem não distinguir nomes. por exemplo, o alemão capitaliza todos os substantivos, independentemente de se referirem a nomes, e o francês e o espanhol não capitalizam nomes que servem como adjetivos.geração de língua natural\n",
            "\n",
            "converte informações de bancos de dados de computador ou intenções semânticas em linguagem humana legível.compreensão da língua natural\n",
            "\n",
            "converte pedaços de texto em representações mais formais, como estruturas de lógica de primeira ordem, que são mais fáceis de manipular pelos programas de computador. a compreensão da língua natural envolve a identificação da semântica pretendida a partir da múltipla semântica possível que pode ser derivada de uma expressão de língua natural que geralmente toma a forma de notação organizada de conceitos de linguagens naturais. entretanto, introdução e criação de linguagem metamodelo e ontologia são eficientes soluções empíricas. uma formalização explícita da semântica de línguas naturais sem confusões com suposições implícitas como closed-world assumption (cwa) versus open-world assumption ou subjetiva sim / não versus objetivo verdadeiro / falso é esperada para a construção de uma base de formalização semântica.reconhecimento óptico de caracteres (ocr)\n",
            "\n",
            "dada uma imagem que representa o texto impresso, determina o texto correspondente.marcação de classe gramatical\n",
            "\n",
            "dada uma sentença, determina a classe gramatical de cada palavra. muitas palavras, especialmente as comuns, podem servir como múltiplas partes do discurso. em inglês, por exemplo, \"book\" pode ser um substantivo (\"the book on the table\") ou verbo (\"book a flight\"); \"set\" pode ser um substantivo, verbo ou adjetivo; e \"out\" pode ser qualquer um de pelo menos cinco diferentes partes da fala. algumas línguas têm mais ambiguidade do que outras. as línguas com pouca morfologia flexional, como o inglês, são particularmente propensas a tal ambiguidade. o chinês é propenso a tal ambiguidade porque é uma língua tonal durante a verbalização. tal inflexão não é facilmente transmitida através das entidades empregadas dentro da ortografia para transmitir o significado pretendido.análise sintática (parsing)\n",
            "\n",
            "determina a árvore de análise (análise gramatical) de uma frase. a gramática para as linguagens naturais é ambígua e frases típicas têm múltiplas análises possíveis. na verdade, surpreendentemente, para uma frase típica pode haver milhares de análises em potencial (a maioria dos quais parecerá completamente absurda para um ser humano).respostas a perguntas\n",
            "\n",
            "dada uma questão de linguagem humana, determina sua resposta. as perguntas típicas têm uma resposta correta específica (como \"qual é o capital do canadá?\"), mas às vezes perguntas abertas também são consideradas (como \"qual é o significado da vida?\"). trabalhos recentes têm analisado questões ainda mais complexas.extração de relacionamento\n",
            "\n",
            "identifica as relações entre entidades nomeadas (por exemplo, quem é casado com quem) com base em textos.quebra de frases (sentence boundary disambiguation)\n",
            "\n",
            "encontra os limites da frase em um pedaço de texto. os limites de frases são normalmente marcadas por pontos ou outros sinais de pontuação, mas esses mesmos caracteres podem servir outros propósitos.análise de subjetividade (sentiment analysis ou opinion mining)\n",
            "\n",
            "extrai informações subjetivas geralmente de um conjunto de documentos, muitas vezes usando revisões online para determinar a \"polaridade\" sobre objetos específicos. é especialmente útil para identificar tendências da opinião pública nas mídias sociais, para fins de marketing.reconhecimento de fala\n",
            "\n",
            "dado um clipe de som de uma pessoa ou pessoas falando, determina a representação textual do discurso. é o oposto da síntese de fala e é uma das áreas mais difíceis, conhecida como \"ai-complete\". na fala natural quase não há pausas entre palavras sucessivas, por isso a segmentação de fala é uma subtarefa necessária de reconhecimento de fala. nota-se também que, na maioria das linguagens faladas, os sons que representam letras sucessivas se misturam entre si em um processo denominado coarticulação, de modo que a conversão do sinal analógico em caracteres discretos pode ser um processo muito difícil de ser realizado.segmentação de fala\n",
            "\n",
            "dado um clipe de som de uma pessoa ou pessoas falando, separa-o em palavras. uma subaplicação de reconhecimento de fala e normalmente agrupada com ele.análise morfológica e reconhecimento de tópicos\n",
            "\n",
            "dado um pedaço de texto, separa-o em segmentos cada um dos quais é dedicado a um tópico e identifica o tópico do segmento.análise morfológica e segmentação de palavras\n",
            "\n",
            "separa um pedaço de texto contínuo em palavras separadas. para uma língua como o inglês, isso é bastante trivial, uma vez que as palavras são normalmente separadas por espaços. no entanto, algumas línguas escritas como chinês, japonês e tailandês não marcam limites de palavras de tal forma, e nessas línguas segmentação de texto é uma tarefa significativa que requer conhecimento do vocabulário e morfologia das palavras na língua.desambiguação\n",
            "\n",
            "muitas palavras têm mais de um significado, assim temos que selecionar o significado que faz mais sentido no contexto. para este problema, em geral é dada uma lista de palavras e sentidos de palavras associadas de um dicionário ou recurso online, como o wordnet.\n",
            "em alguns casos, conjuntos de tarefas relacionadas são agrupados em subcampos de pln que são frequentemente considerados separadamente da pln como um todo, como os exemplos à seguir:recuperação de informação (ir)\n",
            "\n",
            "trata-se de armazenar, pesquisar e recuperar informações. é um campo separado dentro da ciência da computação (mais perto de bancos de dados), mas a ir se baseia em alguns métodos pln (por exemplo, stemming). algumas pesquisas e aplicações atuais procuram preencher a lacuna entre ir e pln.extração de informação (ie)\n",
            "\n",
            "trata-se, em geral, da extração de informação semântica a partir do texto. abrange tarefas como reconhecimento de entidade mencionada, resolução de correferência e de relacionamento de extração, etc.\n",
            "processamento de voz  abrange reconhecimento de fala, síntese de fala e tarefas relacionadas.\n",
            "outras tarefas incluem:\n",
            "identificação na língua materna\n",
            "stemização\n",
            "simplificação do texto\n",
            "síntese de fala\n",
            "revisão de texto\n",
            "pesquisa em língua natural\n",
            "expansão da consulta\n",
            "pontuação de ensaio automatizado\n",
            "truecasing\n",
            "\n",
            "\n",
            "== estatística ==\n",
            "artigo principal: gramática estocástica\n",
            "o processamento estatístico em língua natural utiliza métodos estocásticos, probabilísticos e estatísticos para resolver algumas das dificuldades discutidas acima, especialmente aquelas que surgem porque frases mais longas são muito ambíguas quando processadas com gramáticas realistas, produzindo milhares ou milhões de análises possíveis. métodos de desambiguação envolvem muitas vezes o uso de corpora e modelos de markov. o projeto esprit p26 (1984-1988), liderado pelo cselt, explorou o problema do reconhecimento de fala comparando abordagem baseada em conhecimento e estatística: o resultado escolhido foi um modelo completamente estatístico. um dos primeiros modelos de compreensão estatística da língua natural foi introduzido em 1991 por roberto pieraccini, esther levin e chin-hui lee, da bell laboratories]. o pln compreende todas as abordagens quantitativas para processamento automatizado de linguagem, incluindo modelagem probabilística, teoria da informação e álgebra linear. a tecnologia para o pln estatístico vem principalmente da aprendizagem automática e da mineração de dados, que são campos de inteligência artificial que envolvem o aprendizado a partir de dados.\n",
            "\n",
            "\n",
            "== avaliação ==\n",
            "o objetivo da avaliação do pln é uma medida de uma ou mais qualidades de um algoritmo ou de um sistema a fim de determinar se o algoritmo atende às metas dos projetistas ou o sistema de atendimento às necessidades de seus usuários. investigação na avaliação pln  tem ganhado atenção, porque a definição de critérios de avaliação é uma forma de especificar precisamente problemas do pln. uma métrica de avaliação de pln em um sistema algorítmico permite a integração da compreensão de linguagem e geração de linguagem. um conjunto preciso de critérios de avaliação, que pode ser aplicado principalmente a avaliações métricas, podendo permitir que várias equipes comparem suas soluções para um determinado problema do pln.\n",
            "\n",
            "\n",
            "== cronologia da avaliação ==\n",
            "em 1983, iniciou-se o projecto esprit p26, que avaliou as tecnologias da fala (incluindo tópicos gerais como sintaxe e semântica) comparando as abordagens baseadas em regras com as estatísticas.\n",
            "em 1987, a primeira campanha de avaliação de textos escritos parece ser uma campanha dedicada à compreensão da mensagem (pallet, 1998).\n",
            "o projeto parseval / geig comparou gramáticas de frase-estrutura (black 1991).\n",
            "houve uma série de campanhas no projeto tipster sobre tarefas como resumo, tradução e pesquisa (hirschman 1998).\n",
            "em 1994, na alemanha, o morpholympics comparou marcadores morfológicos alemães.\n",
            "as campanhas de senseval & romanseval foram realizadas com os objetivos de desambiguação semântica.\n",
            "em 1996, a campanha sparkle comparou os analisadores sintáticos em quatro idiomas diferentes (inglês, francês, alemão e italiano).\n",
            "na frança, o projeto grace comparou um conjunto de 21 marcadores para o francês em 1997 (adda 1999).\n",
            "em 2004, durante o projeto technolangue / easy, foram comparados 13 analisadores para o francês.\n",
            "a avaliação em larga escala dos analisadores de dependência foi realizada no contexto das tarefas compartilhadas do conll em 2006 e 2007.\n",
            "na frança, no âmbito do projecto anr-passage (final de 2007), foram comparados 10 analisadores para o francês.\n",
            "em itália, a campanha evalita foi realizada em 2007, 2009, 2011 e 2014 para comparar várias ferramentas de pln e de voz para o site italiano - evalita.\n",
            "\n",
            "\n",
            "== diferentes tipos de avaliação ==\n",
            "avaliação intrínseca vs. extrínseca\n",
            "a avaliação intrínseca considera um sistema pnl isolado e caracteriza seu desempenho em relação a um resultado padrão-excelência, conforme definido pelos avaliadores. a avaliação extrínseca, também chamada de avaliação em uso, considera o sistema pln em um cenário mais complexo como um sistema embutido ou uma função precisa para um usuário humano. o desempenho extrínseco do sistema é então caracterizado em termos de utilidade em relação à tarefa global do sistema estranho ou do utilizador humano. por exemplo, considere um analisador sintático que é baseado na saída de alguma parte do tagger de fala (pos). uma avaliação intrínseca executaria o marcador pos em dados estruturados e compararia a saída do sistema do marcador pos com a saída padrão ouro. uma avaliação extrínseca executaria o analisador com algum outro marcador pos e, em seguida, com o marcador pos novo e compara a precisão de análise.\n",
            "caixa preta vs. avaliação da caixa de vidro\n",
            "a avaliação em caixa preta requer que alguém execute um sistema pln em um conjunto de dados de amostra e para medir uma série de parâmetros relacionados com a qualidade do processo, como velocidade, confiabilidade, consumo de recursos e, principalmente, a qualidade do resultado, como a precisão da anotação de dados ou a fidelidade de uma tradução. a avaliação da caixa de vidro examina a concepção do sistema; os algoritmos que são implementados, os recursos linguísticos que utiliza, como o tamanho do vocabulário ou a expressão definida de cardinalidade. dada a complexidade dos problemas da pln, muitas vezes é difícil prever o desempenho apenas com base na avaliação da caixa de vidro; mas este tipo de avaliação é mais informativo no que diz respeito à análise de erros ou desenvolvimentos futuros de um sistema.\n",
            "automática vs. avaliação manual\n",
            "em muitos casos, procedimentos automáticos podem ser definidos para avaliar um sistema de pln, comparando sua saída com o padrão de excelência. embora o custo de reproduzir o padrão de excelência possa ser bastante elevado, avaliação automática de bootstrapping sobre os mesmos dados de entrada pode ser repetida quantas vezes for necessário sem custos adicionais desordenados. no entanto, para muitos problemas de pln a definição precisa de um padrão de excelência é uma tarefa complexa e pode se revelar impossível quando o acordo inter-anotador é insuficiente. a avaliação manual é melhor realizada por juízes humanos instruídos para estimar a qualidade de um sistema, ou mais frequentemente de uma amostra de sua produção, com base em uma série de critérios. embora, graças à sua competência linguística, os juízes humanos possam ser considerados como a referência para uma série de tarefas de processamento de linguagem, há também uma variação considerável em suas classificações. é por isso que a avaliação automática é, por vezes, referida como avaliação objetiva enquanto a avaliação humana é perspectiva.\n",
            "\n",
            "\n",
            "== padronização ==\n",
            "um subcomitê iso está trabalhando para facilitar a interoperabilidade entre recursos lexicais e programas pln. o subcomitê faz parte do iso / tc37 e é chamado iso / tc37 / sc4. alguns padrões iso já estão publicados, mas a maioria deles está em construção, principalmente na representação de léxico (ver lmf), anotação e registro de categoria de dados.\n",
            "\n",
            "\n",
            "== ferramentas ==\n",
            "expert system s.p.a.\n",
            "general architecture for text engineering\n",
            "modular audio recognition framework\n",
            "natural language toolkit (nltk): uma biblioteca em python\n",
            "opennlp\n",
            "\n",
            "\n",
            "== veja também ==\n",
            "mineração de texto biomédica\n",
            "processo de processamento composto\n",
            "revisão assistida por computador\n",
            "linguagem natural controlada\n",
            "processamento linguístico profundo\n",
            "auxílio à leitura de línguas estrangeiras\n",
            "auxílio à escrita em língua estrangeira\n",
            "tecnologia da linguagem\n",
            "a alocação de dirichlet latente (lda)\n",
            "indexação semântica latente\n",
            "lista de ferramentas de processamento de língua natural\n",
            "mapa de lre\n",
            "programação em língua natural\n",
            "reificação (linguística)\n",
            "dobradura semântica\n",
            "sistema de diálogo falado\n",
            "vetor do pensamento\n",
            "pesquisa transderivacional\n",
            "word2vec\n",
            "\n",
            "\n",
            "== referências ==\n",
            "\n",
            "\n",
            "== leitura adicional ==\n",
            "steven bird, ewan klein, and edward loper (2009). natural language processing with python. o'reilly media. isbn 978-0-596-51649-9.\n",
            "daniel jurafsky and james h. martin (2008). speech and language processing, 2nd edition. pearson prentice hall. isbn 978-0-13-187321-6.\n",
            "christopher d. manning, prabhakar raghavan, and hinrich schütze (2008). introduction to information retrieval. cambridge university press. isbn 978-0-521-86571-5. official html and pdf versions available without charge.\n",
            "christopher d. manning and hinrich schütze (1999). foundations of statistical natural language processing. the mit press. isbn 978-0-262-13360-9.\n",
            "david m. w. powers and christopher c. r. turk (1989). machine learning of natural language. springer-verlag. isbn 978-0-387-19557-5.\n"
          ],
          "name": "stdout"
        }
      ]
    },
    {
      "cell_type": "markdown",
      "metadata": {
        "id": "T_RynFQNE2WP"
      },
      "source": [
        " <b> <span style=\"color:red\"> Lembre de utilizar a VARIÁVEL que contém o resultado da transformação anterior.\n",
        "    Se você acompanhar o nome da variável que já está na célula não tem erro! :) </span> </b>"
      ]
    },
    {
      "cell_type": "markdown",
      "metadata": {
        "id": "1Raq0rzmE2WQ"
      },
      "source": [
        "## Remoção Stopwords\n",
        "\n",
        "6. remova todas as stopwords retornadas pelo pacote NLTK da lista de tokens.\n",
        "\n",
        "```python\n",
        "portugues_stops = stopwords.words('portuguese')\n",
        "```"
      ]
    },
    {
      "cell_type": "code",
      "metadata": {
        "id": "360Waq1HE2WQ"
      },
      "source": [
        "from nltk.corpus import stopwords"
      ],
      "execution_count": null,
      "outputs": []
    },
    {
      "cell_type": "code",
      "metadata": {
        "id": "7xP3XVzhE2WU"
      },
      "source": [
        "portugues_stops = stopwords.words('portuguese')"
      ],
      "execution_count": null,
      "outputs": []
    },
    {
      "cell_type": "code",
      "metadata": {
        "id": "LO6XRhYQE2WW",
        "outputId": "7afb0f72-6afb-4a7c-9166-1a4dcc393b32"
      },
      "source": [
        "#imprima as stopwords para você conhecer\n",
        "print(portugues_stops)"
      ],
      "execution_count": null,
      "outputs": [
        {
          "output_type": "stream",
          "text": [
            "['de', 'a', 'o', 'que', 'e', 'é', 'do', 'da', 'em', 'um', 'para', 'com', 'não', 'uma', 'os', 'no', 'se', 'na', 'por', 'mais', 'as', 'dos', 'como', 'mas', 'ao', 'ele', 'das', 'à', 'seu', 'sua', 'ou', 'quando', 'muito', 'nos', 'já', 'eu', 'também', 'só', 'pelo', 'pela', 'até', 'isso', 'ela', 'entre', 'depois', 'sem', 'mesmo', 'aos', 'seus', 'quem', 'nas', 'me', 'esse', 'eles', 'você', 'essa', 'num', 'nem', 'suas', 'meu', 'às', 'minha', 'numa', 'pelos', 'elas', 'qual', 'nós', 'lhe', 'deles', 'essas', 'esses', 'pelas', 'este', 'dele', 'tu', 'te', 'vocês', 'vos', 'lhes', 'meus', 'minhas', 'teu', 'tua', 'teus', 'tuas', 'nosso', 'nossa', 'nossos', 'nossas', 'dela', 'delas', 'esta', 'estes', 'estas', 'aquele', 'aquela', 'aqueles', 'aquelas', 'isto', 'aquilo', 'estou', 'está', 'estamos', 'estão', 'estive', 'esteve', 'estivemos', 'estiveram', 'estava', 'estávamos', 'estavam', 'estivera', 'estivéramos', 'esteja', 'estejamos', 'estejam', 'estivesse', 'estivéssemos', 'estivessem', 'estiver', 'estivermos', 'estiverem', 'hei', 'há', 'havemos', 'hão', 'houve', 'houvemos', 'houveram', 'houvera', 'houvéramos', 'haja', 'hajamos', 'hajam', 'houvesse', 'houvéssemos', 'houvessem', 'houver', 'houvermos', 'houverem', 'houverei', 'houverá', 'houveremos', 'houverão', 'houveria', 'houveríamos', 'houveriam', 'sou', 'somos', 'são', 'era', 'éramos', 'eram', 'fui', 'foi', 'fomos', 'foram', 'fora', 'fôramos', 'seja', 'sejamos', 'sejam', 'fosse', 'fôssemos', 'fossem', 'for', 'formos', 'forem', 'serei', 'será', 'seremos', 'serão', 'seria', 'seríamos', 'seriam', 'tenho', 'tem', 'temos', 'tém', 'tinha', 'tínhamos', 'tinham', 'tive', 'teve', 'tivemos', 'tiveram', 'tivera', 'tivéramos', 'tenha', 'tenhamos', 'tenham', 'tivesse', 'tivéssemos', 'tivessem', 'tiver', 'tivermos', 'tiverem', 'terei', 'terá', 'teremos', 'terão', 'teria', 'teríamos', 'teriam']\n"
          ],
          "name": "stdout"
        }
      ]
    },
    {
      "cell_type": "code",
      "metadata": {
        "id": "qxkb0ECME2WZ",
        "outputId": "2443d51d-6dd2-4f14-d28a-5cacce946371"
      },
      "source": [
        "tokens_sem_stop = [word for word in tokens_nltk if not word in portugues_stops]\n",
        "print(tokens_sem_stop)"
      ],
      "execution_count": null,
      "outputs": [
        {
          "output_type": "stream",
          "text": [
            "['Processamento', 'língua', 'natural', '(', 'PLN', ')', 'subárea', 'ciência', 'computação', ',', 'inteligência', 'artificial', 'linguística', 'estuda', 'problemas', 'geração', 'compreensão', 'automática', 'línguas', 'humanas', 'naturais', '.', 'Sistemas', 'geração', 'língua', 'natural', 'convertem', 'informação', 'bancos', 'dados', 'computadores', 'linguagem', 'compreensível', 'ser', 'humano', 'sistemas', 'compreensão', 'língua', 'natural', 'convertem', 'ocorrências', 'linguagem', 'humana', 'representações', 'formais', ',', 'facilmente', 'manipuláveis', 'programas', 'computador', '.', 'Alguns', 'desafios', 'PLN', 'compreensão', 'língua', 'natural', ',', 'fazer', 'computadores', 'extraiam', 'sentido', 'linguagem', 'humana', 'natural', 'geração', 'língua', 'natural', '.', '==', 'História', '==', 'A', 'história', 'PLN', 'começou', 'década', '1950', ',', 'Alan', 'Turing', 'publicou', 'artigo', '``', 'Computing', 'Machinery', 'and', 'Intelligence', \"''\", ',', 'propunha', 'agora', 'chamado', 'teste', 'Turing', 'critério', 'inteligência', '.', 'Em', '1954', ',', 'experiência', 'Georgetown', 'envolveu', 'tradução', 'automática', 'sessenta', 'frases', 'russas', 'inglês', '.', 'Os', 'autores', 'afirmaram', 'dentro', 'três', 'cinco', 'anos', 'tradução', 'automática', 'problema', 'resolvido', '.', 'No', 'entanto', ',', 'avanços', 'reais', 'lentos', 'previsto', ',', 'após', 'relatório', 'ALPAC', '1966', ',', 'constatou', 'pesquisa', 'dez', 'anos', 'conseguiu', 'satisfazer', 'expectativas', ',', 'financiamento', 'estudo', 'tradução', 'automática', 'reduzido', 'drasticamente', '.', 'Poucas', 'pesquisas', 'tradução', 'automática', 'conduzidas', 'final', 'anos', '80', ',', 'primeiros', 'sistemas', 'estatísticos', 'tradução', 'desenvolvidos', '.', 'Alguns', 'sistemas', 'PLN', 'bem', 'sucedidos', 'desenvolvidos', 'anos', '60', 'SHRDLU', ',', 'sistema', 'língua', 'natural', 'trabalhava', '``', 'blocks', 'worlds', \"''\", 'vocabulário', 'restrito', 'ELIZA', ',', 'simulação', 'psicoterapeuta', 'escrita', 'Joseph', 'Weizenbaum', '1964', '1966', '.', 'Usando', 'pouca', 'informação', 'sobre', 'pensamento', 'emoção', 'humana', ',', 'ELIZA', 'criava', ',', 'alguns', 'casos', ',', 'interações', 'surpreendentemente', 'humanas', '.', 'Quando', '``', 'paciente', \"''\", 'excedia', 'base', 'conhecimento', 'programa', ',', 'ELIZA', 'fornecia', 'resposta', 'genérica', ',', 'exemplo', ',', 'respondendo', '``', 'Minha', 'cabeça', 'dói', \"''\", '``', 'Por', 'diz', 'cabeça', 'dói', '?', \"''\", '.', 'Durante', 'década', '1970', ',', 'muitos', 'programadores', 'começaram', 'escrever', '``', 'ontologias', 'conceituais', \"''\", ',', 'estruturaram', 'informação', 'mundo', 'real', 'dados', 'compreensíveis', 'computadores', '.', 'Exemplos', 'MARGIE', '(', 'SCHANK', ',', '1975', ')', ',', 'SAM', '(', 'CULLINGFORD', ',', '1978', ')', ',', 'PAM', '(', 'WILENSKY', ',', '1978', ')', ',', 'TaleSpin', '(', 'MEEHAN', ',', '1976', ')', ',', 'QUALM', '(', 'LEHNERT', ',', '1977', ')', ',', 'Politics', '(', 'CARBONELL', ',', '1979', ')', 'Plot', 'Units', '(', 'LEHNERT', ',', '1981', ')', '.', 'Neste', 'período', ',', 'muitos', 'chatterbots', 'escritos', ',', 'PARRY', ',', 'Racter', 'Jabberwacky', '.', 'Até', 'década', '1980', ',', 'maioria', 'sistemas', 'PLN', 'baseava', 'conjuntos', 'complexos', 'regras', 'manuscritas', '.', 'A', 'partir', 'final', 'anos', '1980', ',', 'entanto', ',', 'revolução', 'PLN', 'introdução', 'algoritmos', 'aprendizagem', 'automática', '(', 'aprendizado', 'máquina', ')', 'processamento', 'linguagem', '.', 'Isto', 'devido', 'tanto', 'aumento', 'constante', 'poder', 'computacional', '(', 'ver', 'Lei', 'Moore', ')', 'quanto', 'diminuição', 'gradual', 'dominância', 'teorias', 'linguística', 'chomskyanas', '(', 'gramática', 'gerativa', ')', ',', 'cujos', 'fundamentos', 'teóricos', 'desestimularam', 'tipo', 'corpus', 'linguístico', 'subjacente', 'abordagem', 'aprendizagem', 'automática', 'processamento', 'linguagem', '.', 'Alguns', 'algoritmos', 'aprendizado', 'máquinas', 'antigos', ',', 'árvores', 'decisão', ',', 'produziam', 'sistemas', 'regras', 'rígidas', 'então', 'semelhantes', 'regras', 'existentes', 'escritas', 'mão', '.', 'No', 'entanto', ',', 'marcação', 'partes', 'fala', '(', 'part-of-speech', 'tagging', ')', 'introduziu', 'uso', 'modelos', 'ocultos', 'Markov', 'PLN', ',', 'cada', 'vez', ',', 'pesquisa', 'concentrava', 'modelos', 'estatísticos', ',', 'tomam', 'decisões', 'suaves', 'probabilísticas', 'baseadas', 'atribuição', 'pesos', 'reais', 'recursos', 'compõem', 'dados', 'entrada', '.', 'Os', 'modelos', 'linguagem', 'cache', ',', 'sobre', 'quais', 'muitos', 'sistemas', 'reconhecimento', 'fala', 'agora', 'dependem', ',', 'exemplos', 'tais', 'modelos', 'estatísticos', '.', 'Esses', 'modelos', 'geralmente', 'robustos', 'dados', 'informações', 'desconhecidas', ',', 'especialmente', 'entrada', 'contém', 'erros', '(', 'comum', 'dados', 'mundo', 'real', ')', 'produzem', 'resultados', 'confiáveis', 'integrados', 'sistemas', 'maiores', 'compreendem', 'múltiplas', 'tarefas', '.', 'Muitos', 'sucessos', 'iniciais', 'notáveis', 'ocorreram', 'campo', 'tradução', 'automática', ',', 'devido', 'especialmente', 'trabalho', 'pesquisa', 'IBM', ',', 'desenvolveu', 'modelos', 'estatísticos', 'elaborados', '.', 'Estes', 'sistemas', 'capazes', 'tirar', 'proveito', 'corpora', 'textuais', 'multilíngues', 'existentes', 'produzidos', 'Parlamento', 'Canadá', 'União', 'Europeia', 'resultado', 'leis', 'exigem', 'tradução', 'todos', 'processos', 'governamentais', 'todas', 'línguas', 'oficiais', 'países', '.', 'No', 'entanto', ',', 'maioria', 'sistemas', 'dependia', 'corpora', 'desenvolvido', 'especificamente', 'tarefas', 'implementadas', 'sistemas', ',', '(', 'muitas', 'vezes', 'continua', 'sendo', ')', 'grande', 'limitação', 'sucesso', '.', 'Como', 'resultado', ',', 'grande', 'quantidade', 'pesquisa', 'passou', 'quantidades', 'dados', 'limitadas', 'métodos', 'aprendizagem', 'eficazes', '.', 'Pesquisas', 'recentes', 'têm', 'concentrado', 'cada', 'vez', 'algoritmos', 'aprendizagem', 'semi-supervisionados', 'supervisão', '.', 'Esses', 'algoritmos', 'capazes', 'aprender', 'dados', 'anotados', 'manualmente', 'respostas', 'desejadas', 'usando', 'combinação', 'dados', 'anotados', 'anotados', '.', 'Geralmente', ',', 'tarefa', 'trabalhosa', 'aprendizagem', 'supervisionada', 'normalmente', 'produz', 'resultados', 'menos', 'precisos', 'quantidade', 'específica', 'dados', 'entrada', '.', 'No', 'entanto', ',', 'enorme', 'quantidade', 'dados', 'anotados', 'disponíveis', '(', 'incluindo', ',', 'outras', 'coisas', ',', 'todo', 'conteúdo', 'World', 'Wide', 'Web', ')', ',', 'muitas', 'vezes', 'pode', 'compensar', 'resultados', 'inferiores', '.', '==', 'Usando', 'aprendizagem', 'automática', '(', 'aprendizado', 'máquina', ')', '==', 'Os', 'algoritmos', 'modernos', 'PLN', 'baseiam-se', 'aprendizagem', 'mecânica', ',', 'especialmente', 'aprendizagem', 'máquinas', 'estatísticas', '.', 'O', 'paradigma', 'aprendizagem', 'mecânica', 'diferente', 'maioria', 'tentativas', 'anteriores', 'processamento', 'linguagem', '.', 'Anteriormente', ',', 'implementações', 'tarefas', 'processamento', 'linguagem', 'envolviam', 'codificação', 'direta', 'grandes', 'conjuntos', 'regras', '.', 'O', 'paradigma', 'aprendizagem', 'automática', '(', 'aprendizagem', 'automática', ')', 'induz', 'aprendizagem', 'automática', 'regras', 'através', 'análises', 'corpora', 'exemplos', 'típicos', 'mundo', 'real', 'invés', 'usar', 'algoritmos', 'gerais', 'aprendizagem', '(', 'muitas', 'vezes', ',', 'embora', 'sempre', ',', 'baseados', 'inferência', 'estatística', ')', '.', 'Um', 'corpus', '(', 'plural', '``', 'corpora', \"''\", ')', 'conjunto', 'documentos', '(', 'frases', 'individuais', ')', 'anotados', 'mão', 'valores', 'corretos', 'serem', 'aprendidos', '.', 'Muitas', 'classes', 'diferentes', 'algoritmos', 'aprendizado', 'máquina', 'aplicadas', 'tarefas', 'PLN', '.', 'Esses', 'algoritmos', 'tomam', 'entrada', 'grande', 'conjunto', '``', 'recursos', \"''\", 'gerados', 'partir', 'dados', 'entrada', '.', 'Alguns', 'algoritmos', 'usados', ',', 'árvores', 'decisão', ',', 'produziam', 'sistemas', 'regras', 'rígidas', 'semelhantes', 'sistemas', 'regras', 'manuscritas', 'comuns', '.', 'No', 'entanto', ',', 'cada', 'vez', ',', 'pesquisa', 'concentrado', 'modelos', 'estatísticos', ',', 'tomam', 'decisões', 'flexíveis', 'probabilísticas', 'baseadas', 'agregar', 'pesos', 'reais', 'cada', 'característica', 'entrada', '.', 'Tais', 'modelos', 'têm', 'vantagem', 'poder', 'expressar', 'certeza', 'relativa', 'muitas', 'respostas', 'possíveis', 'diferentes', 'vez', 'apenas', ',', 'produzindo', 'resultados', 'confiáveis', 'modelo', 'incluído', 'componente', 'sistema', 'maior', '.', 'Os', 'sistemas', 'baseados', 'algoritmos', 'aprendizagem', 'mecânica', 'têm', 'muitas', 'vantagens', 'relação', 'regras', 'produzidas', 'manualmente', ':', 'Os', 'procedimentos', 'aprendizagem', 'usados', 'durante', 'aprendizagem', 'máquina', 'focam-se', 'automaticamente', 'casos', 'comuns', ',', 'passo', 'escrevem', 'regras', 'mão', ',', 'óbvio', 'sentido', 'esforço', 'deve', 'ser', 'dirigido', '.', 'Os', 'procedimentos', 'aprendizagem', 'automática', 'podem', 'fazer', 'uso', 'algoritmos', 'inferência', 'estatística', 'produzir', 'modelos', 'robustos', 'entradas', 'familiares', '(', 'exemplo', ',', 'contendo', 'palavras', 'estruturas', 'vistas', 'antes', ')', 'entradas', 'errôneas', '(', 'exemplo', ',', 'palavras', 'palavras', 'incorretamente', 'omitidas', ')', '.', 'Geralmente', ',', 'lidar', 'entradas', 'forma', 'regras', 'manuscritas', 'sistemas', 'regras', 'manuscritas', 'tomam', 'decisões', 'suaves', 'extremamente', 'trabalhoso', ',', 'propenso', 'erros', 'demorado', '.', 'Sistemas', 'baseados', 'aprender', 'automaticamente', 'regras', 'podem', 'ser', 'precisos', 'simplesmente', 'fornecendo', 'dados', 'entrada', '.', 'No', 'entanto', ',', 'sistemas', 'baseados', 'regras', 'escritas', 'mão', 'podem', 'ser', 'tornados', 'precisos', 'aumentando', 'complexidade', 'regras', ',', 'tarefa', 'difícil', '.', 'Em', 'particular', ',', 'limite', 'complexidade', 'sistemas', 'baseados', 'regras', 'artesanais', ',', 'além', 'quais', 'sistemas', 'tornam', 'cada', 'vez', 'incontroláveis', '.', 'No', 'entanto', ',', 'criação', 'dados', 'entrada', 'sistemas', 'aprendizado', 'máquina', 'requer', 'simplesmente', 'aumento', 'correspondente', 'número', 'horas', 'trabalhadas', 'humanos', ',', 'geralmente', 'aumentos', 'significativos', 'complexidade', 'processo', 'anotação.O', 'subcampo', 'PLN', 'dedicado', 'abordagens', 'aprendizagem', 'conhecido', 'aprendizagem', 'língua', 'natural', '(', 'NLL', ')', 'conferência', ',', 'CoNLL', ',', 'orgão', 'central', ',', 'SIGNLL', ',', 'patrocinados', 'ACL', ',', 'reconhecendo', 'ligações', 'linguística', 'computacional', 'aquisição', 'linguagem', '.', 'Quando', 'objetivo', 'pesquisa', 'aprendizagem', 'linguagem', 'computacional', 'entender', 'sobre', 'aquisição', 'linguagem', 'humana', ',', 'psicolinguística', ',', 'NLL', 'sobrepõe-se', 'campo', 'relacionado', 'psicolinguística', 'computacional', '.', '==', 'Aplicações', 'principais', '==', 'A', 'listagem', 'seguir', 'traz', 'alguns', 'trabalhos', 'pesquisadas', 'PLN', '.', 'Note', 'alguns', 'têm', 'aplicações', 'mundo', 'real', ',', 'enquanto', 'outras', 'servem', 'frequentemente', 'tarefas', 'secundárias', 'usadas', 'auxiliar', 'resolução', 'tarefas', 'maiores', '.', 'O', 'distingue', 'tarefas', 'outras', 'tarefas', 'potenciais', 'reais', 'PLN', 'apenas', 'volume', 'pesquisa', 'dedicado', ',', 'fato', 'cada', 'tipicamente', 'definição', 'problema', 'bem', 'especificada', ',', 'métrica', 'padrão', 'avaliar', 'tarefa', ',', 'corpora', 'padrão', 'tarefa', 'pode', 'ser', 'avaliada', 'competições', 'dedicadas', 'tarefa', 'específica', '.', 'Sumarização', 'automática', 'Produz', 'resumo', 'legível', 'parte', 'texto', '.', 'Muitas', 'vezes', 'usado', 'fornecer', 'resumos', 'texto', 'tipo', 'conhecido', ',', 'artigos', 'seção', 'financeira', 'jornal.Resolução', 'correferência', 'Dada', 'frase', 'pedaço', 'maior', 'texto', ',', 'determina', 'quais', 'palavras', '(', '``', 'menções', \"''\", ')', 'referem', 'mesmos', 'objetos', '(', '``', 'entidades', \"''\", ')', '.', 'A', 'resolução', 'anáfora', 'exemplo', 'específico', 'dessa', 'tarefa', 'especificamente', 'preocupada', 'combinar', 'pronomes', 'substantivos', 'nomes', 'quais', 'referem', '.', 'A', 'tarefa', 'geral', 'resolução', 'correferência', 'inclui', 'identificação', 'chamados', '``', 'relacionamentos', 'ponte', \"''\", 'envolvendo', 'expressões', 'referência', '.', 'Por', 'exemplo', ',', 'frase', '``', 'Ele', 'entrou', 'casa', 'João', 'porta', 'frente', \"''\", ',', '``', 'porta', 'frente', \"''\", 'expressão', 'referência', 'relação', 'ponte', 'ser', 'identificada', 'fato', 'porta', 'ser', 'referida', 'porta', 'frente', 'John', \"'s\", '(', 'invés', 'alguma', 'outra', 'estrutura', 'pode', 'ser', 'referida', ')', '.Análise', 'Discurso', 'Esta', 'rubrica', 'inclui', 'série', 'tarefas', 'relacionadas', '.', 'Uma', 'tarefa', 'identificar', 'estrutura', 'discursiva', 'texto', 'conectado', ',', ',', 'natureza', 'relações', 'discursivas', 'sentenças', '(', 'exemplo', ',', 'elaboração', ',', 'explicação', ',', 'contraste', ')', '.', 'Outra', 'possível', 'tarefa', 'reconhecer', 'classificar', 'atos', 'fala', 'pedaço', 'texto', '(', 'exemplo', ',', 'pergunta', 'sim-não', ',', 'pergunta', 'conteúdo', ',', 'frase', ',', 'afirmação', ',', 'etc', ')', '.Maquina', 'tradução', 'Traduzir', 'automaticamente', 'texto', 'linguagem', 'humana', 'outra', '.', 'Este', 'tarefas', 'difíceis', 'faz', 'parte', 'tipo', 'problemas', 'conhecidos', '``', 'AI-complete', \"''\", ',', ',', 'exigindo', 'todos', 'diferentes', 'tipos', 'conhecimento', 'humanos', 'possuem', '(', 'gramática', ',', 'semântica', ',', 'fatos', 'sobre', 'mundo', 'real', ',', 'etc', ')', 'resolvê-lo', 'adequadamente.Segmentação', 'morfológica', 'Separa', 'palavras', 'morfemas', 'individuais', 'identifica', 'classes', 'morfemas', '.', 'A', 'dificuldade', 'desta', 'tarefa', 'depende', 'complexidade', 'morfologia', '(', ',', 'estrutura', 'palavras', ')', 'linguagem', 'sendo', 'considerada', '.', 'O', 'inglês', 'possui', 'morfologia', 'bastante', 'simples', ',', 'especialmente', 'morfologia', 'flexional', ',', 'portanto', 'possível', 'ignorar', 'tarefa', 'inteiramente', 'simplesmente', 'modelar', 'todas', 'formas', 'possíveis', 'palavra', '(', 'exemplo', ',', '``', 'open', ',', 'opens', ',', 'opened', ',', 'opening', \"''\", ')', 'palavras', 'separadas', '.', 'Em', 'línguas', 'turco', 'Meitei', ',', 'língua', 'indiana', 'fortemente', 'aglutinada', ',', 'entanto', ',', 'tal', 'abordagem', 'possível', ',', 'vez', 'cada', 'entrada', 'dicionário', 'milhares', 'formas', 'palavras', 'possíveis.Reconhecimento', 'entidade', 'nomeada', '(', 'NER', ')', 'Dado', 'fluxo', 'texto', ',', 'determina', 'quais', 'itens', 'mapa', 'texto', 'nomes', 'próprios', ',', 'pessoas', 'locais', 'tipo', 'cada', 'nome', '(', 'exemplo', ',', 'pessoa', ',', 'local', ',', 'organização', ')', '.', 'Embora', 'capitalização', 'possa', 'ajudar', 'reconhecer', 'entidades', 'nomeadas', 'idiomas', 'inglês', ',', 'informações', 'podem', 'ajudar', 'determinar', 'tipo', 'entidade', 'nomeada', ',', 'alguns', 'casos', ',', 'sãos', 'imprecisas', 'insuficientes', '.', 'Por', 'exemplo', ',', 'primeira', 'palavra', 'frase', 'capitalizada', 'entidades', 'nomeadas', 'muitas', 'vezes', 'abrangem', 'várias', 'palavras', ',', 'apenas', 'algumas', 'capitalizadas', '.', 'Além', 'disso', ',', 'muitas', 'outras', 'linguagens', 'scripts', 'não-ocidentais', '(', 'exemplo', ',', 'chinês', 'árabe', ')', 'têm', 'nenhuma', 'capitalização', 'línguas', 'maiúsculas', 'podem', 'distinguir', 'nomes', '.', 'Por', 'exemplo', ',', 'alemão', 'capitaliza', 'todos', 'substantivos', ',', 'independentemente', 'referirem', 'nomes', ',', 'francês', 'espanhol', 'capitalizam', 'nomes', 'servem', 'adjetivos.Geração', 'língua', 'natural', 'Converte', 'informações', 'bancos', 'dados', 'computador', 'intenções', 'semânticas', 'linguagem', 'humana', 'legível.Compreensão', 'língua', 'natural', 'Converte', 'pedaços', 'texto', 'representações', 'formais', ',', 'estruturas', 'lógica', 'primeira', 'ordem', ',', 'fáceis', 'manipular', 'programas', 'computador', '.', 'A', 'compreensão', 'língua', 'natural', 'envolve', 'identificação', 'semântica', 'pretendida', 'partir', 'múltipla', 'semântica', 'possível', 'pode', 'ser', 'derivada', 'expressão', 'língua', 'natural', 'geralmente', 'toma', 'forma', 'notação', 'organizada', 'conceitos', 'linguagens', 'naturais', '.', 'Entretanto', ',', 'introdução', 'criação', 'linguagem', 'metamodelo', 'ontologia', 'eficientes', 'soluções', 'empíricas', '.', 'Uma', 'formalização', 'explícita', 'semântica', 'línguas', 'naturais', 'confusões', 'suposições', 'implícitas', 'closed-world', 'assumption', '(', 'CWA', ')', 'versus', 'open-world', 'assumption', 'subjetiva', 'Sim', '/', 'Não', 'versus', 'objetivo', 'Verdadeiro', '/', 'Falso', 'esperada', 'construção', 'base', 'formalização', 'semântica.Reconhecimento', 'óptico', 'caracteres', '(', 'OCR', ')', 'Dada', 'imagem', 'representa', 'texto', 'impresso', ',', 'determina', 'texto', 'correspondente.Marcação', 'classe', 'gramatical', 'Dada', 'sentença', ',', 'determina', 'classe', 'gramatical', 'cada', 'palavra', '.', 'Muitas', 'palavras', ',', 'especialmente', 'comuns', ',', 'podem', 'servir', 'múltiplas', 'partes', 'discurso', '.', 'Em', 'inglês', ',', 'exemplo', ',', '``', 'book', \"''\", 'pode', 'ser', 'substantivo', '(', '``', 'the', 'book', 'on', 'the', 'table', \"''\", ')', 'verbo', '(', '``', 'book', 'flight', \"''\", ')', ';', '``', 'Set', \"''\", 'pode', 'ser', 'substantivo', ',', 'verbo', 'adjetivo', ';', 'E', '``', 'out', \"''\", 'pode', 'ser', 'qualquer', 'menos', 'cinco', 'diferentes', 'partes', 'fala', '.', 'Algumas', 'línguas', 'têm', 'ambiguidade', 'outras', '.', 'As', 'línguas', 'pouca', 'morfologia', 'flexional', ',', 'inglês', ',', 'particularmente', 'propensas', 'tal', 'ambiguidade', '.', 'O', 'chinês', 'propenso', 'tal', 'ambiguidade', 'porque', 'língua', 'tonal', 'durante', 'verbalização', '.', 'Tal', 'inflexão', 'facilmente', 'transmitida', 'através', 'entidades', 'empregadas', 'dentro', 'ortografia', 'transmitir', 'significado', 'pretendido.Análise', 'sintática', '(', 'Parsing', ')', 'Determina', 'árvore', 'análise', '(', 'análise', 'gramatical', ')', 'frase', '.', 'A', 'gramática', 'linguagens', 'naturais', 'ambígua', 'frases', 'típicas', 'têm', 'múltiplas', 'análises', 'possíveis', '.', 'Na', 'verdade', ',', 'surpreendentemente', ',', 'frase', 'típica', 'pode', 'haver', 'milhares', 'análises', 'potencial', '(', 'maioria', 'quais', 'parecerá', 'completamente', 'absurda', 'ser', 'humano', ')', '.Respostas', 'perguntas', 'Dada', 'questão', 'linguagem', 'humana', ',', 'determina', 'resposta', '.', 'As', 'perguntas', 'típicas', 'têm', 'resposta', 'correta', 'específica', '(', '``', 'Qual', 'capital', 'Canadá', '?', '``', ')', ',', 'vezes', 'perguntas', 'abertas', 'consideradas', '(', '``', 'Qual', 'significado', 'vida', '?', \"''\", ')', '.', 'Trabalhos', 'recentes', 'têm', 'analisado', 'questões', 'ainda', 'complexas.Extração', 'relacionamento', 'Identifica', 'relações', 'entidades', 'nomeadas', '(', 'exemplo', ',', 'casado', ')', 'base', 'textos.Quebra', 'frases', '(', 'sentence', 'boundary', 'disambiguation', ')', 'Encontra', 'limites', 'frase', 'pedaço', 'texto', '.', 'Os', 'limites', 'frases', 'normalmente', 'marcadas', 'pontos', 'outros', 'sinais', 'pontuação', ',', 'mesmos', 'caracteres', 'podem', 'servir', 'outros', 'propósitos.Análise', 'subjetividade', '(', 'sentiment', 'analysis', 'opinion', 'mining', ')', 'Extrai', 'informações', 'subjetivas', 'geralmente', 'conjunto', 'documentos', ',', 'muitas', 'vezes', 'usando', 'revisões', 'online', 'determinar', '``', 'polaridade', \"''\", 'sobre', 'objetos', 'específicos', '.', 'É', 'especialmente', 'útil', 'identificar', 'tendências', 'opinião', 'pública', 'mídias', 'sociais', ',', 'fins', 'marketing.Reconhecimento', 'fala', 'Dado', 'clipe', 'som', 'pessoa', 'pessoas', 'falando', ',', 'determina', 'representação', 'textual', 'discurso', '.', 'É', 'oposto', 'síntese', 'fala', 'áreas', 'difíceis', ',', 'conhecida', '``', 'AI-complete', \"''\", '.', 'Na', 'fala', 'natural', 'quase', 'pausas', 'palavras', 'sucessivas', ',', 'segmentação', 'fala', 'subtarefa', 'necessária', 'reconhecimento', 'fala', '.', 'Nota-se', ',', 'maioria', 'linguagens', 'faladas', ',', 'sons', 'representam', 'letras', 'sucessivas', 'misturam', 'si', 'processo', 'denominado', 'coarticulação', ',', 'modo', 'conversão', 'sinal', 'analógico', 'caracteres', 'discretos', 'pode', 'ser', 'processo', 'difícil', 'ser', 'realizado.Segmentação', 'fala', 'Dado', 'clipe', 'som', 'pessoa', 'pessoas', 'falando', ',', 'separa-o', 'palavras', '.', 'Uma', 'subaplicação', 'reconhecimento', 'fala', 'normalmente', 'agrupada', 'ele.Análise', 'morfológica', 'reconhecimento', 'tópicos', 'Dado', 'pedaço', 'texto', ',', 'separa-o', 'segmentos', 'cada', 'quais', 'dedicado', 'tópico', 'identifica', 'tópico', 'segmento.Análise', 'morfológica', 'segmentação', 'palavras', 'Separa', 'pedaço', 'texto', 'contínuo', 'palavras', 'separadas', '.', 'Para', 'língua', 'inglês', ',', 'bastante', 'trivial', ',', 'vez', 'palavras', 'normalmente', 'separadas', 'espaços', '.', 'No', 'entanto', ',', 'algumas', 'línguas', 'escritas', 'chinês', ',', 'japonês', 'tailandês', 'marcam', 'limites', 'palavras', 'tal', 'forma', ',', 'nessas', 'línguas', 'segmentação', 'texto', 'tarefa', 'significativa', 'requer', 'conhecimento', 'vocabulário', 'morfologia', 'palavras', 'língua.Desambiguação', 'Muitas', 'palavras', 'têm', 'significado', ',', 'assim', 'selecionar', 'significado', 'faz', 'sentido', 'contexto', '.', 'Para', 'problema', ',', 'geral', 'dada', 'lista', 'palavras', 'sentidos', 'palavras', 'associadas', 'dicionário', 'recurso', 'online', ',', 'WordNet', '.', 'Em', 'alguns', 'casos', ',', 'conjuntos', 'tarefas', 'relacionadas', 'agrupados', 'subcampos', 'PLN', 'frequentemente', 'considerados', 'separadamente', 'PLN', 'todo', ',', 'exemplos', 'seguir', ':', 'Recuperação', 'informação', '(', 'IR', ')', 'Trata-se', 'armazenar', ',', 'pesquisar', 'recuperar', 'informações', '.', 'É', 'campo', 'separado', 'dentro', 'ciência', 'computação', '(', 'perto', 'bancos', 'dados', ')', ',', 'IR', 'baseia', 'alguns', 'métodos', 'PLN', '(', 'exemplo', ',', 'stemming', ')', '.', 'Algumas', 'pesquisas', 'aplicações', 'atuais', 'procuram', 'preencher', 'lacuna', 'IR', 'PLN.Extração', 'informação', '(', 'IE', ')', 'Trata-se', ',', 'geral', ',', 'extração', 'informação', 'semântica', 'partir', 'texto', '.', 'Abrange', 'tarefas', 'reconhecimento', 'entidade', 'mencionada', ',', 'resolução', 'correferência', 'relacionamento', 'extração', ',', 'etc', '.', 'Processamento', 'voz', 'Abrange', 'reconhecimento', 'fala', ',', 'síntese', 'fala', 'tarefas', 'relacionadas', '.', 'Outras', 'tarefas', 'incluem', ':', 'Identificação', 'língua', 'materna', 'Stemização', 'Simplificação', 'texto', 'Síntese', 'fala', 'Revisão', 'texto', 'Pesquisa', 'língua', 'natural', 'Expansão', 'consulta', 'Pontuação', 'ensaio', 'automatizado', 'Truecasing', '==', 'Estatística', '==', 'Artigo', 'principal', ':', 'Gramática', 'estocástica', 'O', 'processamento', 'estatístico', 'língua', 'natural', 'utiliza', 'métodos', 'estocásticos', ',', 'probabilísticos', 'estatísticos', 'resolver', 'algumas', 'dificuldades', 'discutidas', 'acima', ',', 'especialmente', 'surgem', 'porque', 'frases', 'longas', 'ambíguas', 'processadas', 'gramáticas', 'realistas', ',', 'produzindo', 'milhares', 'milhões', 'análises', 'possíveis', '.', 'Métodos', 'desambiguação', 'envolvem', 'muitas', 'vezes', 'uso', 'corpora', 'modelos', 'Markov', '.', 'O', 'projeto', 'ESPRIT', 'P26', '(', '1984-1988', ')', ',', 'liderado', 'CSELT', ',', 'explorou', 'problema', 'reconhecimento', 'fala', 'comparando', 'abordagem', 'baseada', 'conhecimento', 'estatística', ':', 'resultado', 'escolhido', 'modelo', 'completamente', 'estatístico', '.', 'Um', 'primeiros', 'modelos', 'compreensão', 'estatística', 'língua', 'natural', 'introduzido', '1991', 'Roberto', 'Pieraccini', ',', 'Esther', 'Levin', 'Chin-Hui', 'Lee', ',', 'Bell', 'Laboratories', ']', '.', 'O', 'PLN', 'compreende', 'todas', 'abordagens', 'quantitativas', 'processamento', 'automatizado', 'linguagem', ',', 'incluindo', 'modelagem', 'probabilística', ',', 'teoria', 'informação', 'álgebra', 'linear', '.', 'A', 'tecnologia', 'PLN', 'estatístico', 'vem', 'principalmente', 'aprendizagem', 'automática', 'mineração', 'dados', ',', 'campos', 'inteligência', 'artificial', 'envolvem', 'aprendizado', 'partir', 'dados', '.', '==', 'Avaliação', '==', 'O', 'objetivo', 'avaliação', 'PLN', 'medida', 'qualidades', 'algoritmo', 'sistema', 'fim', 'determinar', 'algoritmo', 'atende', 'metas', 'projetistas', 'sistema', 'atendimento', 'necessidades', 'usuários', '.', 'Investigação', 'avaliação', 'PLN', 'ganhado', 'atenção', ',', 'porque', 'definição', 'critérios', 'avaliação', 'forma', 'especificar', 'precisamente', 'problemas', 'PLN', '.', 'Uma', 'métrica', 'avaliação', 'PLN', 'sistema', 'algorítmico', 'permite', 'integração', 'compreensão', 'linguagem', 'geração', 'linguagem', '.', 'Um', 'conjunto', 'preciso', 'critérios', 'avaliação', ',', 'pode', 'ser', 'aplicado', 'principalmente', 'avaliações', 'métricas', ',', 'podendo', 'permitir', 'várias', 'equipes', 'comparem', 'soluções', 'determinado', 'problema', 'PLN', '.', '==', 'Cronologia', 'avaliação', '==', 'Em', '1983', ',', 'iniciou-se', 'Projecto', 'Esprit', 'P26', ',', 'avaliou', 'Tecnologias', 'Fala', '(', 'incluindo', 'tópicos', 'gerais', 'Sintaxe', 'Semântica', ')', 'comparando', 'abordagens', 'baseadas', 'regras', 'estatísticas', '.', 'Em', '1987', ',', 'primeira', 'campanha', 'avaliação', 'textos', 'escritos', 'parece', 'ser', 'campanha', 'dedicada', 'compreensão', 'mensagem', '(', 'Pallet', ',', '1998', ')', '.', 'O', 'projeto', 'Parseval', '/', 'GEIG', 'comparou', 'gramáticas', 'frase-estrutura', '(', 'Black', '1991', ')', '.', 'Houve', 'série', 'campanhas', 'projeto', 'Tipster', 'sobre', 'tarefas', 'resumo', ',', 'tradução', 'pesquisa', '(', 'Hirschman', '1998', ')', '.', 'Em', '1994', ',', 'Alemanha', ',', 'Morpholympics', 'comparou', 'marcadores', 'morfológicos', 'alemães', '.', 'As', 'campanhas', 'Senseval', '&', 'Romanseval', 'realizadas', 'objetivos', 'desambiguação', 'semântica', '.', 'Em', '1996', ',', 'campanha', 'Sparkle', 'comparou', 'analisadores', 'sintáticos', 'quatro', 'idiomas', 'diferentes', '(', 'inglês', ',', 'francês', ',', 'alemão', 'italiano', ')', '.', 'Na', 'França', ',', 'projeto', 'Grace', 'comparou', 'conjunto', '21', 'marcadores', 'francês', '1997', '(', 'Adda', '1999', ')', '.', 'Em', '2004', ',', 'durante', 'projeto', 'Technolangue', '/', 'Easy', ',', 'comparados', '13', 'analisadores', 'francês', '.', 'A', 'avaliação', 'larga', 'escala', 'analisadores', 'dependência', 'realizada', 'contexto', 'tarefas', 'compartilhadas', 'CoNLL', '2006', '2007', '.', 'Na', 'França', ',', 'âmbito', 'projecto', 'ANR-Passage', '(', 'final', '2007', ')', ',', 'comparados', '10', 'analisadores', 'francês', '.', 'Em', 'Itália', ',', 'campanha', 'EVALITA', 'realizada', '2007', ',', '2009', ',', '2011', '2014', 'comparar', 'várias', 'ferramentas', 'PLN', 'voz', 'site', 'italiano', '-', 'EVALITA', '.', '==', 'Diferentes', 'tipos', 'avaliação', '==', 'Avaliação', 'intrínseca', 'vs.', 'extrínseca', 'A', 'avaliação', 'intrínseca', 'considera', 'sistema', 'PNL', 'isolado', 'caracteriza', 'desempenho', 'relação', 'resultado', 'padrão-excelência', ',', 'conforme', 'definido', 'avaliadores', '.', 'A', 'avaliação', 'extrínseca', ',', 'chamada', 'avaliação', 'uso', ',', 'considera', 'sistema', 'PLN', 'cenário', 'complexo', 'sistema', 'embutido', 'função', 'precisa', 'usuário', 'humano', '.', 'O', 'desempenho', 'extrínseco', 'sistema', 'então', 'caracterizado', 'termos', 'utilidade', 'relação', 'tarefa', 'global', 'sistema', 'estranho', 'utilizador', 'humano', '.', 'Por', 'exemplo', ',', 'considere', 'analisador', 'sintático', 'baseado', 'saída', 'alguma', 'parte', 'tagger', 'fala', '(', 'POS', ')', '.', 'Uma', 'avaliação', 'intrínseca', 'executaria', 'marcador', 'POS', 'dados', 'estruturados', 'compararia', 'saída', 'sistema', 'marcador', 'POS', 'saída', 'padrão', 'ouro', '.', 'Uma', 'avaliação', 'extrínseca', 'executaria', 'analisador', 'algum', 'outro', 'marcador', 'POS', ',', 'seguida', ',', 'marcador', 'POS', 'novo', 'compara', 'precisão', 'análise', '.', 'Caixa', 'preta', 'vs.', 'Avaliação', 'caixa', 'vidro', 'A', 'avaliação', 'caixa', 'preta', 'requer', 'alguém', 'execute', 'sistema', 'PLN', 'conjunto', 'dados', 'amostra', 'medir', 'série', 'parâmetros', 'relacionados', 'qualidade', 'processo', ',', 'velocidade', ',', 'confiabilidade', ',', 'consumo', 'recursos', ',', 'principalmente', ',', 'qualidade', 'resultado', ',', 'precisão', 'anotação', 'dados', 'fidelidade', 'tradução', '.', 'A', 'avaliação', 'caixa', 'vidro', 'examina', 'concepção', 'sistema', ';', 'Os', 'algoritmos', 'implementados', ',', 'recursos', 'linguísticos', 'utiliza', ',', 'tamanho', 'vocabulário', 'expressão', 'definida', 'cardinalidade', '.', 'Dada', 'complexidade', 'problemas', 'PLN', ',', 'muitas', 'vezes', 'difícil', 'prever', 'desempenho', 'apenas', 'base', 'avaliação', 'caixa', 'vidro', ';', 'Mas', 'tipo', 'avaliação', 'informativo', 'diz', 'respeito', 'análise', 'erros', 'desenvolvimentos', 'futuros', 'sistema', '.', 'Automática', 'vs.', 'avaliação', 'manual', 'Em', 'muitos', 'casos', ',', 'procedimentos', 'automáticos', 'podem', 'ser', 'definidos', 'avaliar', 'sistema', 'PLN', ',', 'comparando', 'saída', 'padrão', 'excelência', '.', 'Embora', 'custo', 'reproduzir', 'padrão', 'excelência', 'possa', 'ser', 'bastante', 'elevado', ',', 'avaliação', 'automática', 'bootstrapping', 'sobre', 'mesmos', 'dados', 'entrada', 'pode', 'ser', 'repetida', 'quantas', 'vezes', 'necessário', 'custos', 'adicionais', 'desordenados', '.', 'No', 'entanto', ',', 'muitos', 'problemas', 'PLN', 'definição', 'precisa', 'padrão', 'excelência', 'tarefa', 'complexa', 'pode', 'revelar', 'impossível', 'acordo', 'inter-anotador', 'insuficiente', '.', 'A', 'avaliação', 'manual', 'melhor', 'realizada', 'juízes', 'humanos', 'instruídos', 'estimar', 'qualidade', 'sistema', ',', 'frequentemente', 'amostra', 'produção', ',', 'base', 'série', 'critérios', '.', 'Embora', ',', 'graças', 'competência', 'linguística', ',', 'juízes', 'humanos', 'possam', 'ser', 'considerados', 'referência', 'série', 'tarefas', 'processamento', 'linguagem', ',', 'variação', 'considerável', 'classificações', '.', 'É', 'avaliação', 'automática', ',', 'vezes', ',', 'referida', 'avaliação', 'objetiva', 'enquanto', 'avaliação', 'humana', 'perspectiva', '.', '==', 'Padronização', '==', 'Um', 'subcomitê', 'ISO', 'trabalhando', 'facilitar', 'interoperabilidade', 'recursos', 'lexicais', 'programas', 'PLN', '.', 'O', 'subcomitê', 'faz', 'parte', 'ISO', '/', 'TC37', 'chamado', 'ISO', '/', 'TC37', '/', 'SC4', '.', 'Alguns', 'padrões', 'ISO', 'publicados', ',', 'maioria', 'construção', ',', 'principalmente', 'representação', 'léxico', '(', 'ver', 'LMF', ')', ',', 'anotação', 'registro', 'categoria', 'dados', '.', '==', 'Ferramentas', '==', 'Expert', 'System', 'S.p.A.', 'General', 'Architecture', 'Text', 'Engineering', 'Modular', 'Audio', 'Recognition', 'Framework', 'Natural', 'Language', 'Toolkit', '(', 'NLTK', ')', ':', 'biblioteca', 'Python', 'OpenNLP', '==', 'Veja', '==', 'Mineração', 'texto', 'biomédica', 'Processo', 'processamento', 'composto', 'Revisão', 'assistida', 'computador', 'Linguagem', 'natural', 'controlada', 'Processamento', 'linguístico', 'profundo', 'Auxílio', 'leitura', 'línguas', 'estrangeiras', 'Auxílio', 'escrita', 'língua', 'estrangeira', 'Tecnologia', 'linguagem', 'A', 'alocação', 'Dirichlet', 'Latente', '(', 'LDA', ')', 'Indexação', 'semântica', 'latente', 'Lista', 'ferramentas', 'processamento', 'língua', 'natural', 'Mapa', 'LRE', 'Programação', 'língua', 'natural', 'Reificação', '(', 'linguística', ')', 'Dobradura', 'semântica', 'Sistema', 'diálogo', 'falado', 'Vetor', 'Pensamento', 'Pesquisa', 'Transderivacional', 'Word2vec', '==', 'Referências', '==', '==', 'Leitura', 'adicional', '==', 'Steven', 'Bird', ',', 'Ewan', 'Klein', ',', 'and', 'Edward', 'Loper', '(', '2009', ')', '.', 'Natural', 'Language', 'Processing', 'with', 'Python', '.', \"O'Reilly\", 'Media', '.', 'ISBN', '978-0-596-51649-9', '.', 'Daniel', 'Jurafsky', 'and', 'James', 'H.', 'Martin', '(', '2008', ')', '.', 'Speech', 'and', 'Language', 'Processing', ',', '2nd', 'edition', '.', 'Pearson', 'Prentice', 'Hall', '.', 'ISBN', '978-0-13-187321-6', '.', 'Christopher', 'D.', 'Manning', ',', 'Prabhakar', 'Raghavan', ',', 'and', 'Hinrich', 'Schütze', '(', '2008', ')', '.', 'Introduction', 'to', 'Information', 'Retrieval', '.', 'Cambridge', 'University', 'Press', '.', 'ISBN', '978-0-521-86571-5', '.', 'Official', 'html', 'and', 'pdf', 'versions', 'available', 'without', 'charge', '.', 'Christopher', 'D.', 'Manning', 'and', 'Hinrich', 'Schütze', '(', '1999', ')', '.', 'Foundations', 'of', 'Statistical', 'Natural', 'Language', 'Processing', '.', 'The', 'MIT', 'Press', '.', 'ISBN', '978-0-262-13360-9', '.', 'David', 'M.', 'W.', 'Powers', 'and', 'Christopher', 'C.', 'R.', 'Turk', '(', '1989', ')', '.', 'Machine', 'Learning', 'of', 'Natural', 'Language', '.', 'Springer-Verlag', '.', 'ISBN', '978-0-387-19557-5', '.']\n"
          ],
          "name": "stdout"
        }
      ]
    },
    {
      "cell_type": "markdown",
      "metadata": {
        "id": "tlvmmIF8E2Wb"
      },
      "source": [
        "## Remoção Números\n",
        "\n",
        "7. remova todos os números, utilizando uma regex\n",
        "\n",
        "```python\n",
        "re.sub(__,__,__)\n",
        "```"
      ]
    },
    {
      "cell_type": "code",
      "metadata": {
        "id": "RbnRocYGE2Wb",
        "outputId": "3740318e-8194-4361-db7e-474e35c35b47"
      },
      "source": [
        "tokens_sem_numbers = re.sub(r'\\d', '', corpus)\n",
        "print(tokens_sem_numbers)"
      ],
      "execution_count": null,
      "outputs": [
        {
          "output_type": "stream",
          "text": [
            "Processamento de língua natural (PLN) é uma subárea da ciência da computação, inteligência artificial e da linguística que estuda os problemas da geração e compreensão automática de línguas humanas naturais. Sistemas de geração de língua natural convertem informação de bancos de dados de computadores em linguagem compreensível ao ser humano e sistemas de compreensão de língua natural convertem ocorrências de linguagem humana em representações mais formais, mais facilmente manipuláveis por programas de computador. Alguns desafios do PLN são compreensão de língua natural, fazer com que computadores extraiam sentido de linguagem humana ou natural e geração de língua natural.\n",
            "\n",
            "\n",
            "== História ==\n",
            "A história do PLN começou na década de , quando Alan Turing publicou o artigo \"Computing Machinery and Intelligence\", que propunha o que agora é chamado de teste de Turing como critério de inteligência.\n",
            "Em , a experiência de Georgetown envolveu a tradução automática de mais de sessenta frases russas para o inglês. Os autores afirmaram que dentro de três ou cinco anos a tradução automática seria um problema resolvido. No entanto, os avanços reais foram muito mais lentos do que o previsto e, após o relatório ALPAC em , que constatou que a pesquisa de dez anos não conseguiu satisfazer as expectativas, o financiamento para este estudo em tradução automática foi reduzido drasticamente. Poucas pesquisas em tradução automática foram conduzidas até o final dos anos , quando os primeiros sistemas estatísticos de tradução foram desenvolvidos.\n",
            "Alguns sistemas de PLN bem sucedidos desenvolvidos nos anos  foram SHRDLU, um sistema de língua natural que trabalhava em \"blocks worlds\" com vocabulário restrito e ELIZA, uma simulação de um psicoterapeuta escrita por Joseph Weizenbaum entre  e . Usando pouca informação sobre o pensamento ou a emoção humana, ELIZA criava, em alguns casos, interações surpreendentemente humanas. Quando o \"paciente\" excedia a base de conhecimento do programa, ELIZA fornecia uma resposta genérica, por exemplo, respondendo a \"Minha cabeça dói\" com \"Por que você diz que sua cabeça dói?\".\n",
            "Durante a década de , muitos programadores começaram a escrever \"ontologias conceituais\", que estruturaram a informação do mundo real em dados compreensíveis por computadores. Exemplos são MARGIE (SCHANK, ), SAM (CULLINGFORD, ), PAM (WILENSKY, ), TaleSpin (MEEHAN, ), QUALM (LEHNERT, ), Politics (CARBONELL, ) e Plot Units (LEHNERT,  ). Neste período, muitos chatterbots foram escritos, como PARRY, Racter e Jabberwacky.\n",
            "Até a década de , a maioria dos sistemas de PLN se baseava em conjuntos complexos de regras manuscritas. A partir do final dos anos , no entanto, houve uma revolução no PLN com a introdução de algoritmos de aprendizagem automática (aprendizado de máquina) para o processamento de linguagem. Isto foi devido tanto ao aumento constante do poder computacional (ver Lei de Moore) quanto à diminuição gradual da dominância das teorias da linguística chomskyanas (como a gramática gerativa), cujos fundamentos teóricos desestimularam o tipo de corpus linguístico que está subjacente à abordagem da aprendizagem automática ao processamento da linguagem.\n",
            "Alguns dos algoritmos de aprendizado de máquinas mais antigos, como as árvores de decisão, produziam sistemas de regras rígidas então semelhantes às regras existentes na escritas à mão. No entanto, a marcação de partes da fala (part-of-speech tagging) introduziu o uso de modelos ocultos de Markov para o PLN e, cada vez mais, a pesquisa se concentrava em modelos estatísticos, que tomam decisões suaves e probabilísticas baseadas na atribuição de pesos reais aos recursos que compõem dados de entrada. Os modelos de linguagem de cache, sobre os quais muitos sistemas de reconhecimento de fala agora dependem, são exemplos de tais modelos estatísticos. Esses modelos são geralmente mais robustos quando dados informações desconhecidas, especialmente entrada que contém erros (como é muito comum para dados do mundo real) e produzem resultados mais confiáveis quando integrados em sistemas maiores que compreendem múltiplas tarefas.\n",
            "Muitos dos sucessos iniciais notáveis ocorreram no campo da tradução automática, devido especialmente ao trabalho de pesquisa da IBM, que desenvolveu modelos estatísticos mais elaborados. Estes sistemas foram capazes de tirar proveito de corpora textuais multilíngues existentes  produzidos pelo Parlamento do Canadá e a União Europeia como resultado de leis que exigem a tradução de todos os processos governamentais em todas as línguas oficiais dos países. No entanto, a maioria dos sistemas dependia de corpora desenvolvido especificamente para tarefas implementadas por esses sistemas, o que era (e muitas vezes continua sendo) uma grande limitação no sucesso dos mesmo. Como resultado, uma grande quantidade de pesquisa passou de quantidades de dados limitadas a métodos de aprendizagem mais eficazes.\n",
            "Pesquisas recentes têm se concentrado cada vez mais em algoritmos de aprendizagem semi-supervisionados e sem supervisão. Esses algoritmos são capazes de aprender com dados que não foram anotados manualmente com as respostas desejadas ou usando uma combinação de dados anotados e não anotados. Geralmente, esta tarefa é muito mais trabalhosa do que a aprendizagem supervisionada e normalmente produz resultados menos precisos para uma quantidade específica de dados de entrada. No entanto, há uma enorme quantidade de dados não anotados disponíveis (incluindo, entre outras coisas, todo o conteúdo da World Wide Web), que muitas vezes pode compensar os resultados inferiores.\n",
            "\n",
            "\n",
            "== Usando a aprendizagem automática (aprendizado de máquina) ==\n",
            "Os algoritmos modernos de PLN baseiam-se na aprendizagem mecânica, especialmente na aprendizagem de máquinas estatísticas. O paradigma da aprendizagem mecânica é diferente do da maioria das tentativas anteriores de processamento da linguagem. Anteriormente, implementações de tarefas de processamento de linguagem envolviam a codificação direta de grandes conjuntos de regras. O paradigma da aprendizagem automática (ou aprendizagem automática) induz a aprendizagem automática de regras através de análises de corpora de exemplos típicos do mundo real ao invés de usar algoritmos gerais de aprendizagem (muitas vezes, embora nem sempre, baseados em inferência estatística). Um corpus (plural \"corpora\") é um conjunto de documentos (ou frases individuais) que foram anotados à mão com os valores corretos a serem aprendidos.\n",
            "Muitas classes diferentes de algoritmos de aprendizado de máquina foram aplicadas a tarefas de PLN. Esses algoritmos tomam como entrada um grande conjunto de \"recursos\" que são gerados a partir de dados de entrada.\n",
            "Alguns dos algoritmos mais usados, como árvores de decisão, produziam sistemas de regras rígidas semelhantes aos sistemas de regras manuscritas mais comuns. No entanto, cada vez mais, a pesquisa tem se concentrado em modelos estatísticos, que tomam decisões flexíveis e probabilísticas baseadas em agregar pesos reais a cada característica de entrada. Tais modelos têm a vantagem de poder expressar a certeza relativa de muitas respostas possíveis diferentes em vez de apenas uma, produzindo resultados mais confiáveis quando esse modelo é incluído como um componente de um sistema maior.\n",
            "Os sistemas baseados em algoritmos de aprendizagem mecânica têm muitas vantagens em relação às regras produzidas manualmente:\n",
            "\n",
            "Os procedimentos de aprendizagem usados durante a aprendizagem da máquina focam-se automaticamente nos casos mais comuns, ao passo que quando se escrevem regras à mão, não é óbvio em que sentido o esforço deve ser dirigido.\n",
            "Os procedimentos de aprendizagem automática podem fazer uso de algoritmos de inferência estatística para produzir modelos que são robustos a entradas não familiares (por exemplo, contendo palavras ou estruturas que não foram vistas antes) e a entradas errôneas (por exemplo, com palavras ou palavras incorretamente omitidas). Geralmente, lidar com essas entradas de forma com regras manuscritas ou sistemas de regras manuscritas que tomam decisões suaves é extremamente trabalhoso, propenso a erros e demorado.\n",
            "Sistemas baseados em aprender automaticamente as regras podem ser mais precisos simplesmente fornecendo mais dados de entrada. No entanto, os sistemas baseados em regras escritas à mão só podem ser tornados mais precisos aumentando a complexidade das regras, o que é uma tarefa muito mais difícil. Em particular, há um limite para a complexidade de sistemas baseados em regras artesanais, para além dos quais os sistemas se tornam cada vez mais incontroláveis. No entanto, a criação de mais dados para entrada em sistemas de aprendizado de máquina requer simplesmente um aumento correspondente no número de horas trabalhadas por humanos, geralmente sem aumentos significativos na complexidade do processo de anotação.O subcampo de PLN dedicado a abordagens de aprendizagem é conhecido como aprendizagem de língua natural (NLL) e sua conferência, a CoNLL, e orgão central, o SIGNLL, são patrocinados pela ACL, reconhecendo também as suas ligações com linguística computacional e aquisição de linguagem. Quando o objetivo da pesquisa de aprendizagem de linguagem computacional é entender mais sobre aquisição de linguagem humana, ou psicolinguística, a NLL sobrepõe-se no campo relacionado de psicolinguística computacional.\n",
            "\n",
            "\n",
            "== Aplicações principais ==\n",
            "A listagem a seguir traz alguns dos trabalhos mais pesquisadas em PLN. Note que alguns deles têm aplicações no mundo real, enquanto outras servem mais frequentemente como tarefas secundárias que são usadas para auxiliar na resolução de tarefas maiores. O que distingue essas tarefas de outras tarefas potenciais e reais de PLN não é apenas o volume de pesquisa dedicado a elas, mas o fato de que para cada uma há tipicamente uma definição de problema bem especificada, uma métrica padrão para avaliar a tarefa, corpora padrão em que a tarefa pode ser avaliada e as competições dedicadas à tarefa específica.\n",
            "Sumarização automática\n",
            "\n",
            "Produz um resumo legível de uma parte do texto. Muitas vezes usado para fornecer resumos de texto de um tipo conhecido, como artigos na seção financeira de um jornal.Resolução de correferência\n",
            "\n",
            "Dada uma frase ou um pedaço maior de texto, determina quais palavras (\"menções\") se referem aos mesmos objetos (\"entidades\"). A resolução da anáfora é um exemplo específico dessa tarefa e está especificamente preocupada em combinar os pronomes com os substantivos ou nomes aos quais eles se referem. A tarefa mais geral da resolução de correferência também inclui a identificação dos chamados \"relacionamentos de ponte\" envolvendo expressões de referência. Por exemplo, numa frase como \"Ele entrou na casa de João pela porta da frente\", \"a porta da frente\" é uma expressão de referência e a relação da ponte a ser identificada é o fato de que a porta a ser referida é a porta da frente de John's (ao invés de alguma outra estrutura que também pode ser referida).Análise do Discurso\n",
            "\n",
            "Esta rubrica inclui uma série de tarefas relacionadas. Uma tarefa é identificar a estrutura discursiva do texto conectado, isto é, a natureza das relações discursivas entre sentenças (por exemplo, elaboração, explicação, contraste). Outra possível tarefa é reconhecer e classificar os atos de fala em um pedaço de texto (por exemplo, pergunta sim-não, pergunta de conteúdo, frase, afirmação, etc).Maquina de tradução\n",
            "\n",
            "Traduzir automaticamente texto de uma linguagem humana para outra. Este é uma das tarefas mais difíceis e faz parte de um tipo de problemas conhecidos como \"AI-complete\", ou seja, exigindo todos os diferentes tipos de conhecimento que os humanos possuem (gramática, semântica, fatos sobre o mundo real, etc) para resolvê-lo adequadamente.Segmentação morfológica\n",
            "\n",
            "Separa palavras em morfemas individuais e identifica classes de morfemas. A dificuldade desta tarefa depende muito da complexidade da morfologia (isto é, da estrutura das palavras) da linguagem que está sendo considerada. O inglês possui uma morfologia bastante simples, especialmente a morfologia flexional, e portanto é possível ignorar esta tarefa inteiramente e simplesmente modelar todas as formas possíveis de uma palavra (por exemplo, \"open, opens, opened, opening\") como palavras separadas. Em línguas como o turco ou o Meitei, uma língua indiana fortemente aglutinada, no entanto, tal abordagem não é possível, uma vez que cada entrada do dicionário tem milhares de formas de palavras possíveis.Reconhecimento de entidade nomeada (NER)\n",
            "\n",
            "Dado um fluxo de texto, determina quais são itens no mapa de texto para nomes próprios, como pessoas ou locais e qual é o tipo de cada nome (por exemplo, pessoa, local, organização). Embora a capitalização possa ajudar a reconhecer entidades nomeadas em idiomas como o inglês, essas informações podem não ajudar a determinar o tipo de entidade nomeada e, em alguns casos, sãos imprecisas ou insuficientes. Por exemplo, a primeira palavra de uma frase também é capitalizada e as entidades nomeadas muitas vezes abrangem várias palavras, com apenas algumas delas são capitalizadas. Além disso, muitas outras linguagens em scripts não-ocidentais (por exemplo, chinês ou árabe) não têm nenhuma capitalização e mesmo as línguas com maiúsculas podem não distinguir nomes. Por exemplo, o alemão capitaliza todos os substantivos, independentemente de se referirem a nomes, e o francês e o espanhol não capitalizam nomes que servem como adjetivos.Geração de língua natural\n",
            "\n",
            "Converte informações de bancos de dados de computador ou intenções semânticas em linguagem humana legível.Compreensão da língua natural\n",
            "\n",
            "Converte pedaços de texto em representações mais formais, como estruturas de lógica de primeira ordem, que são mais fáceis de manipular pelos programas de computador. A compreensão da língua natural envolve a identificação da semântica pretendida a partir da múltipla semântica possível que pode ser derivada de uma expressão de língua natural que geralmente toma a forma de notação organizada de conceitos de linguagens naturais. Entretanto, introdução e criação de linguagem metamodelo e ontologia são eficientes soluções empíricas. Uma formalização explícita da semântica de línguas naturais sem confusões com suposições implícitas como closed-world assumption (CWA) versus open-world assumption ou subjetiva Sim / Não versus objetivo Verdadeiro / Falso é esperada para a construção de uma base de formalização semântica.Reconhecimento óptico de caracteres (OCR)\n",
            "\n",
            "Dada uma imagem que representa o texto impresso, determina o texto correspondente.Marcação de classe gramatical\n",
            "\n",
            "Dada uma sentença, determina a classe gramatical de cada palavra. Muitas palavras, especialmente as comuns, podem servir como múltiplas partes do discurso. Em inglês, por exemplo, \"book\" pode ser um substantivo (\"the book on the table\") ou verbo (\"book a flight\"); \"Set\" pode ser um substantivo, verbo ou adjetivo; E \"out\" pode ser qualquer um de pelo menos cinco diferentes partes da fala. Algumas línguas têm mais ambiguidade do que outras. As línguas com pouca morfologia flexional, como o inglês, são particularmente propensas a tal ambiguidade. O chinês é propenso a tal ambiguidade porque é uma língua tonal durante a verbalização. Tal inflexão não é facilmente transmitida através das entidades empregadas dentro da ortografia para transmitir o significado pretendido.Análise sintática (Parsing)\n",
            "\n",
            "Determina a árvore de análise (análise gramatical) de uma frase. A gramática para as linguagens naturais é ambígua e frases típicas têm múltiplas análises possíveis. Na verdade, surpreendentemente, para uma frase típica pode haver milhares de análises em potencial (a maioria dos quais parecerá completamente absurda para um ser humano).Respostas a perguntas\n",
            "\n",
            "Dada uma questão de linguagem humana, determina sua resposta. As perguntas típicas têm uma resposta correta específica (como \"Qual é o capital do Canadá?\"), mas às vezes perguntas abertas também são consideradas (como \"Qual é o significado da vida?\"). Trabalhos recentes têm analisado questões ainda mais complexas.Extração de relacionamento\n",
            "\n",
            "Identifica as relações entre entidades nomeadas (por exemplo, quem é casado com quem) com base em textos.Quebra de frases (sentence boundary disambiguation)\n",
            "\n",
            "Encontra os limites da frase em um pedaço de texto. Os limites de frases são normalmente marcadas por pontos ou outros sinais de pontuação, mas esses mesmos caracteres podem servir outros propósitos.Análise de subjetividade (sentiment analysis ou opinion mining)\n",
            "\n",
            "Extrai informações subjetivas geralmente de um conjunto de documentos, muitas vezes usando revisões online para determinar a \"polaridade\" sobre objetos específicos. É especialmente útil para identificar tendências da opinião pública nas mídias sociais, para fins de marketing.Reconhecimento de fala\n",
            "\n",
            "Dado um clipe de som de uma pessoa ou pessoas falando, determina a representação textual do discurso. É o oposto da síntese de fala e é uma das áreas mais difíceis, conhecida como \"AI-complete\". Na fala natural quase não há pausas entre palavras sucessivas, por isso a segmentação de fala é uma subtarefa necessária de reconhecimento de fala. Nota-se também que, na maioria das linguagens faladas, os sons que representam letras sucessivas se misturam entre si em um processo denominado coarticulação, de modo que a conversão do sinal analógico em caracteres discretos pode ser um processo muito difícil de ser realizado.Segmentação de fala\n",
            "\n",
            "Dado um clipe de som de uma pessoa ou pessoas falando, separa-o em palavras. Uma subaplicação de reconhecimento de fala e normalmente agrupada com ele.Análise morfológica e reconhecimento de tópicos\n",
            "\n",
            "Dado um pedaço de texto, separa-o em segmentos cada um dos quais é dedicado a um tópico e identifica o tópico do segmento.Análise morfológica e segmentação de palavras\n",
            "\n",
            "Separa um pedaço de texto contínuo em palavras separadas. Para uma língua como o inglês, isso é bastante trivial, uma vez que as palavras são normalmente separadas por espaços. No entanto, algumas línguas escritas como chinês, japonês e tailandês não marcam limites de palavras de tal forma, e nessas línguas segmentação de texto é uma tarefa significativa que requer conhecimento do vocabulário e morfologia das palavras na língua.Desambiguação\n",
            "\n",
            "Muitas palavras têm mais de um significado, assim temos que selecionar o significado que faz mais sentido no contexto. Para este problema, em geral é dada uma lista de palavras e sentidos de palavras associadas de um dicionário ou recurso online, como o WordNet.\n",
            "Em alguns casos, conjuntos de tarefas relacionadas são agrupados em subcampos de PLN que são frequentemente considerados separadamente da PLN como um todo, como os exemplos à seguir:Recuperação de informação (IR)\n",
            "\n",
            "Trata-se de armazenar, pesquisar e recuperar informações. É um campo separado dentro da ciência da computação (mais perto de bancos de dados), mas a IR se baseia em alguns métodos PLN (por exemplo, stemming). Algumas pesquisas e aplicações atuais procuram preencher a lacuna entre IR e PLN.Extração de informação (IE)\n",
            "\n",
            "Trata-se, em geral, da extração de informação semântica a partir do texto. Abrange tarefas como reconhecimento de entidade mencionada, resolução de correferência e de relacionamento de extração, etc.\n",
            "Processamento de voz  Abrange reconhecimento de fala, síntese de fala e tarefas relacionadas.\n",
            "Outras tarefas incluem:\n",
            "Identificação na língua materna\n",
            "Stemização\n",
            "Simplificação do texto\n",
            "Síntese de fala\n",
            "Revisão de texto\n",
            "Pesquisa em língua natural\n",
            "Expansão da consulta\n",
            "Pontuação de ensaio automatizado\n",
            "Truecasing\n",
            "\n",
            "\n",
            "== Estatística ==\n",
            "Artigo principal: Gramática estocástica\n",
            "O processamento estatístico em língua natural utiliza métodos estocásticos, probabilísticos e estatísticos para resolver algumas das dificuldades discutidas acima, especialmente aquelas que surgem porque frases mais longas são muito ambíguas quando processadas com gramáticas realistas, produzindo milhares ou milhões de análises possíveis. Métodos de desambiguação envolvem muitas vezes o uso de corpora e modelos de Markov. O projeto ESPRIT P (-), liderado pelo CSELT, explorou o problema do reconhecimento de fala comparando abordagem baseada em conhecimento e estatística: o resultado escolhido foi um modelo completamente estatístico. Um dos primeiros modelos de compreensão estatística da língua natural foi introduzido em  por Roberto Pieraccini, Esther Levin e Chin-Hui Lee, da Bell Laboratories]. O PLN compreende todas as abordagens quantitativas para processamento automatizado de linguagem, incluindo modelagem probabilística, teoria da informação e álgebra linear. A tecnologia para o PLN estatístico vem principalmente da aprendizagem automática e da mineração de dados, que são campos de inteligência artificial que envolvem o aprendizado a partir de dados.\n",
            "\n",
            "\n",
            "== Avaliação ==\n",
            "O objetivo da avaliação do PLN é uma medida de uma ou mais qualidades de um algoritmo ou de um sistema a fim de determinar se o algoritmo atende às metas dos projetistas ou o sistema de atendimento às necessidades de seus usuários. Investigação na avaliação PLN  tem ganhado atenção, porque a definição de critérios de avaliação é uma forma de especificar precisamente problemas do PLN. Uma métrica de avaliação de PLN em um sistema algorítmico permite a integração da compreensão de linguagem e geração de linguagem. Um conjunto preciso de critérios de avaliação, que pode ser aplicado principalmente a avaliações métricas, podendo permitir que várias equipes comparem suas soluções para um determinado problema do PLN.\n",
            "\n",
            "\n",
            "== Cronologia da avaliação ==\n",
            "Em , iniciou-se o Projecto Esprit P, que avaliou as Tecnologias da Fala (incluindo tópicos gerais como Sintaxe e Semântica) comparando as abordagens baseadas em regras com as estatísticas.\n",
            "Em , a primeira campanha de avaliação de textos escritos parece ser uma campanha dedicada à compreensão da mensagem (Pallet, ).\n",
            "O projeto Parseval / GEIG comparou gramáticas de frase-estrutura (Black ).\n",
            "Houve uma série de campanhas no projeto Tipster sobre tarefas como resumo, tradução e pesquisa (Hirschman ).\n",
            "Em , na Alemanha, o Morpholympics comparou marcadores morfológicos alemães.\n",
            "As campanhas de Senseval & Romanseval foram realizadas com os objetivos de desambiguação semântica.\n",
            "Em , a campanha Sparkle comparou os analisadores sintáticos em quatro idiomas diferentes (inglês, francês, alemão e italiano).\n",
            "Na França, o projeto Grace comparou um conjunto de  marcadores para o francês em  (Adda ).\n",
            "Em , durante o projeto Technolangue / Easy, foram comparados  analisadores para o francês.\n",
            "A avaliação em larga escala dos analisadores de dependência foi realizada no contexto das tarefas compartilhadas do CoNLL em  e .\n",
            "Na França, no âmbito do projecto ANR-Passage (final de ), foram comparados  analisadores para o francês.\n",
            "Em Itália, a campanha EVALITA foi realizada em , ,  e  para comparar várias ferramentas de PLN e de voz para o site italiano - EVALITA.\n",
            "\n",
            "\n",
            "== Diferentes tipos de avaliação ==\n",
            "Avaliação intrínseca vs. extrínseca\n",
            "A avaliação intrínseca considera um sistema PNL isolado e caracteriza seu desempenho em relação a um resultado padrão-excelência, conforme definido pelos avaliadores. A avaliação extrínseca, também chamada de avaliação em uso, considera o sistema PLN em um cenário mais complexo como um sistema embutido ou uma função precisa para um usuário humano. O desempenho extrínseco do sistema é então caracterizado em termos de utilidade em relação à tarefa global do sistema estranho ou do utilizador humano. Por exemplo, considere um analisador sintático que é baseado na saída de alguma parte do tagger de fala (POS). Uma avaliação intrínseca executaria o marcador POS em dados estruturados e compararia a saída do sistema do marcador POS com a saída padrão ouro. Uma avaliação extrínseca executaria o analisador com algum outro marcador POS e, em seguida, com o marcador POS novo e compara a precisão de análise.\n",
            "Caixa preta vs. Avaliação da caixa de vidro\n",
            "A avaliação em caixa preta requer que alguém execute um sistema PLN em um conjunto de dados de amostra e para medir uma série de parâmetros relacionados com a qualidade do processo, como velocidade, confiabilidade, consumo de recursos e, principalmente, a qualidade do resultado, como a precisão da anotação de dados ou a fidelidade de uma tradução. A avaliação da caixa de vidro examina a concepção do sistema; Os algoritmos que são implementados, os recursos linguísticos que utiliza, como o tamanho do vocabulário ou a expressão definida de cardinalidade. Dada a complexidade dos problemas da PLN, muitas vezes é difícil prever o desempenho apenas com base na avaliação da caixa de vidro; Mas este tipo de avaliação é mais informativo no que diz respeito à análise de erros ou desenvolvimentos futuros de um sistema.\n",
            "Automática vs. avaliação manual\n",
            "Em muitos casos, procedimentos automáticos podem ser definidos para avaliar um sistema de PLN, comparando sua saída com o padrão de excelência. Embora o custo de reproduzir o padrão de excelência possa ser bastante elevado, avaliação automática de bootstrapping sobre os mesmos dados de entrada pode ser repetida quantas vezes for necessário sem custos adicionais desordenados. No entanto, para muitos problemas de PLN a definição precisa de um padrão de excelência é uma tarefa complexa e pode se revelar impossível quando o acordo inter-anotador é insuficiente. A avaliação manual é melhor realizada por juízes humanos instruídos para estimar a qualidade de um sistema, ou mais frequentemente de uma amostra de sua produção, com base em uma série de critérios. Embora, graças à sua competência linguística, os juízes humanos possam ser considerados como a referência para uma série de tarefas de processamento de linguagem, há também uma variação considerável em suas classificações. É por isso que a avaliação automática é, por vezes, referida como avaliação objetiva enquanto a avaliação humana é perspectiva.\n",
            "\n",
            "\n",
            "== Padronização ==\n",
            "Um subcomitê ISO está trabalhando para facilitar a interoperabilidade entre recursos lexicais e programas PLN. O subcomitê faz parte do ISO / TC e é chamado ISO / TC / SC. Alguns padrões ISO já estão publicados, mas a maioria deles está em construção, principalmente na representação de léxico (ver LMF), anotação e registro de categoria de dados.\n",
            "\n",
            "\n",
            "== Ferramentas ==\n",
            "Expert System S.p.A.\n",
            "General Architecture for Text Engineering\n",
            "Modular Audio Recognition Framework\n",
            "Natural Language Toolkit (NLTK): uma biblioteca em Python\n",
            "OpenNLP\n",
            "\n",
            "\n",
            "== Veja também ==\n",
            "Mineração de texto biomédica\n",
            "Processo de processamento composto\n",
            "Revisão assistida por computador\n",
            "Linguagem natural controlada\n",
            "Processamento linguístico profundo\n",
            "Auxílio à leitura de línguas estrangeiras\n",
            "Auxílio à escrita em língua estrangeira\n",
            "Tecnologia da linguagem\n",
            "A alocação de Dirichlet Latente (LDA)\n",
            "Indexação semântica latente\n",
            "Lista de ferramentas de processamento de língua natural\n",
            "Mapa de LRE\n",
            "Programação em língua natural\n",
            "Reificação (linguística)\n",
            "Dobradura semântica\n",
            "Sistema de diálogo falado\n",
            "Vetor do Pensamento\n",
            "Pesquisa Transderivacional\n",
            "Wordvec\n",
            "\n",
            "\n",
            "== Referências ==\n",
            "\n",
            "\n",
            "== Leitura adicional ==\n",
            "Steven Bird, Ewan Klein, and Edward Loper (). Natural Language Processing with Python. O'Reilly Media. ISBN ----.\n",
            "Daniel Jurafsky and James H. Martin (). Speech and Language Processing, nd edition. Pearson Prentice Hall. ISBN ----.\n",
            "Christopher D. Manning, Prabhakar Raghavan, and Hinrich Schütze (). Introduction to Information Retrieval. Cambridge University Press. ISBN ----. Official html and pdf versions available without charge.\n",
            "Christopher D. Manning and Hinrich Schütze (). Foundations of Statistical Natural Language Processing. The MIT Press. ISBN ----.\n",
            "David M. W. Powers and Christopher C. R. Turk (). Machine Learning of Natural Language. Springer-Verlag. ISBN ----.\n"
          ],
          "name": "stdout"
        }
      ]
    },
    {
      "cell_type": "markdown",
      "metadata": {
        "id": "hoWeL_G-E2We"
      },
      "source": [
        "## Remoção Pontuação\n",
        "\n",
        "8. remova todas as pontruações retornadas pelo pacote string da lista de tokens.\n",
        "\n",
        "```python\n",
        "string.punctuation\n",
        "```"
      ]
    },
    {
      "cell_type": "code",
      "metadata": {
        "id": "-dYZ-eB0E2Wg"
      },
      "source": [
        "import string"
      ],
      "execution_count": null,
      "outputs": []
    },
    {
      "cell_type": "code",
      "metadata": {
        "id": "phDcEdjiE2Wj",
        "outputId": "2cc1a977-2233-449f-be3c-79e0beb2e265"
      },
      "source": [
        "string.punctuation"
      ],
      "execution_count": null,
      "outputs": [
        {
          "output_type": "execute_result",
          "data": {
            "text/plain": [
              "'!\"#$%&\\'()*+,-./:;<=>?@[\\\\]^_`{|}~'"
            ]
          },
          "metadata": {
            "tags": []
          },
          "execution_count": 36
        }
      ]
    },
    {
      "cell_type": "code",
      "metadata": {
        "id": "BXBcTE6HE2Wl",
        "outputId": "52c237f0-148f-4c4f-8eed-453dfabca4f3"
      },
      "source": [
        "tokens_sem_punction = re.sub(r'[!\"#$%&\\'()*+,-./:;<=>?@\\\\^_`{|}~]', '', corpus)\n",
        "print(tokens_sem_punction)"
      ],
      "execution_count": null,
      "outputs": [
        {
          "output_type": "stream",
          "text": [
            "Processamento de língua natural PLN é uma subárea da ciência da computação inteligência artificial e da linguística que estuda os problemas da geração e compreensão automática de línguas humanas naturais Sistemas de geração de língua natural convertem informação de bancos de dados de computadores em linguagem compreensível ao ser humano e sistemas de compreensão de língua natural convertem ocorrências de linguagem humana em representações mais formais mais facilmente manipuláveis por programas de computador Alguns desafios do PLN são compreensão de língua natural fazer com que computadores extraiam sentido de linguagem humana ou natural e geração de língua natural\n",
            "\n",
            "\n",
            " História \n",
            "A história do PLN começou na década de 1950 quando Alan Turing publicou o artigo Computing Machinery and Intelligence que propunha o que agora é chamado de teste de Turing como critério de inteligência\n",
            "Em 1954 a experiência de Georgetown envolveu a tradução automática de mais de sessenta frases russas para o inglês Os autores afirmaram que dentro de três ou cinco anos a tradução automática seria um problema resolvido No entanto os avanços reais foram muito mais lentos do que o previsto e após o relatório ALPAC em 1966 que constatou que a pesquisa de dez anos não conseguiu satisfazer as expectativas o financiamento para este estudo em tradução automática foi reduzido drasticamente Poucas pesquisas em tradução automática foram conduzidas até o final dos anos 80 quando os primeiros sistemas estatísticos de tradução foram desenvolvidos\n",
            "Alguns sistemas de PLN bem sucedidos desenvolvidos nos anos 60 foram SHRDLU um sistema de língua natural que trabalhava em blocks worlds com vocabulário restrito e ELIZA uma simulação de um psicoterapeuta escrita por Joseph Weizenbaum entre 1964 e 1966 Usando pouca informação sobre o pensamento ou a emoção humana ELIZA criava em alguns casos interações surpreendentemente humanas Quando o paciente excedia a base de conhecimento do programa ELIZA fornecia uma resposta genérica por exemplo respondendo a Minha cabeça dói com Por que você diz que sua cabeça dói\n",
            "Durante a década de 1970 muitos programadores começaram a escrever ontologias conceituais que estruturaram a informação do mundo real em dados compreensíveis por computadores Exemplos são MARGIE SCHANK 1975 SAM CULLINGFORD 1978 PAM WILENSKY 1978 TaleSpin MEEHAN 1976 QUALM LEHNERT 1977 Politics CARBONELL 1979 e Plot Units LEHNERT 1981  Neste período muitos chatterbots foram escritos como PARRY Racter e Jabberwacky\n",
            "Até a década de 1980 a maioria dos sistemas de PLN se baseava em conjuntos complexos de regras manuscritas A partir do final dos anos 1980 no entanto houve uma revolução no PLN com a introdução de algoritmos de aprendizagem automática aprendizado de máquina para o processamento de linguagem Isto foi devido tanto ao aumento constante do poder computacional ver Lei de Moore quanto à diminuição gradual da dominância das teorias da linguística chomskyanas como a gramática gerativa cujos fundamentos teóricos desestimularam o tipo de corpus linguístico que está subjacente à abordagem da aprendizagem automática ao processamento da linguagem\n",
            "Alguns dos algoritmos de aprendizado de máquinas mais antigos como as árvores de decisão produziam sistemas de regras rígidas então semelhantes às regras existentes na escritas à mão No entanto a marcação de partes da fala partofspeech tagging introduziu o uso de modelos ocultos de Markov para o PLN e cada vez mais a pesquisa se concentrava em modelos estatísticos que tomam decisões suaves e probabilísticas baseadas na atribuição de pesos reais aos recursos que compõem dados de entrada Os modelos de linguagem de cache sobre os quais muitos sistemas de reconhecimento de fala agora dependem são exemplos de tais modelos estatísticos Esses modelos são geralmente mais robustos quando dados informações desconhecidas especialmente entrada que contém erros como é muito comum para dados do mundo real e produzem resultados mais confiáveis quando integrados em sistemas maiores que compreendem múltiplas tarefas\n",
            "Muitos dos sucessos iniciais notáveis ocorreram no campo da tradução automática devido especialmente ao trabalho de pesquisa da IBM que desenvolveu modelos estatísticos mais elaborados Estes sistemas foram capazes de tirar proveito de corpora textuais multilíngues existentes  produzidos pelo Parlamento do Canadá e a União Europeia como resultado de leis que exigem a tradução de todos os processos governamentais em todas as línguas oficiais dos países No entanto a maioria dos sistemas dependia de corpora desenvolvido especificamente para tarefas implementadas por esses sistemas o que era e muitas vezes continua sendo uma grande limitação no sucesso dos mesmo Como resultado uma grande quantidade de pesquisa passou de quantidades de dados limitadas a métodos de aprendizagem mais eficazes\n",
            "Pesquisas recentes têm se concentrado cada vez mais em algoritmos de aprendizagem semisupervisionados e sem supervisão Esses algoritmos são capazes de aprender com dados que não foram anotados manualmente com as respostas desejadas ou usando uma combinação de dados anotados e não anotados Geralmente esta tarefa é muito mais trabalhosa do que a aprendizagem supervisionada e normalmente produz resultados menos precisos para uma quantidade específica de dados de entrada No entanto há uma enorme quantidade de dados não anotados disponíveis incluindo entre outras coisas todo o conteúdo da World Wide Web que muitas vezes pode compensar os resultados inferiores\n",
            "\n",
            "\n",
            " Usando a aprendizagem automática aprendizado de máquina \n",
            "Os algoritmos modernos de PLN baseiamse na aprendizagem mecânica especialmente na aprendizagem de máquinas estatísticas O paradigma da aprendizagem mecânica é diferente do da maioria das tentativas anteriores de processamento da linguagem Anteriormente implementações de tarefas de processamento de linguagem envolviam a codificação direta de grandes conjuntos de regras O paradigma da aprendizagem automática ou aprendizagem automática induz a aprendizagem automática de regras através de análises de corpora de exemplos típicos do mundo real ao invés de usar algoritmos gerais de aprendizagem muitas vezes embora nem sempre baseados em inferência estatística Um corpus plural corpora é um conjunto de documentos ou frases individuais que foram anotados à mão com os valores corretos a serem aprendidos\n",
            "Muitas classes diferentes de algoritmos de aprendizado de máquina foram aplicadas a tarefas de PLN Esses algoritmos tomam como entrada um grande conjunto de recursos que são gerados a partir de dados de entrada\n",
            "Alguns dos algoritmos mais usados como árvores de decisão produziam sistemas de regras rígidas semelhantes aos sistemas de regras manuscritas mais comuns No entanto cada vez mais a pesquisa tem se concentrado em modelos estatísticos que tomam decisões flexíveis e probabilísticas baseadas em agregar pesos reais a cada característica de entrada Tais modelos têm a vantagem de poder expressar a certeza relativa de muitas respostas possíveis diferentes em vez de apenas uma produzindo resultados mais confiáveis quando esse modelo é incluído como um componente de um sistema maior\n",
            "Os sistemas baseados em algoritmos de aprendizagem mecânica têm muitas vantagens em relação às regras produzidas manualmente\n",
            "\n",
            "Os procedimentos de aprendizagem usados durante a aprendizagem da máquina focamse automaticamente nos casos mais comuns ao passo que quando se escrevem regras à mão não é óbvio em que sentido o esforço deve ser dirigido\n",
            "Os procedimentos de aprendizagem automática podem fazer uso de algoritmos de inferência estatística para produzir modelos que são robustos a entradas não familiares por exemplo contendo palavras ou estruturas que não foram vistas antes e a entradas errôneas por exemplo com palavras ou palavras incorretamente omitidas Geralmente lidar com essas entradas de forma com regras manuscritas ou sistemas de regras manuscritas que tomam decisões suaves é extremamente trabalhoso propenso a erros e demorado\n",
            "Sistemas baseados em aprender automaticamente as regras podem ser mais precisos simplesmente fornecendo mais dados de entrada No entanto os sistemas baseados em regras escritas à mão só podem ser tornados mais precisos aumentando a complexidade das regras o que é uma tarefa muito mais difícil Em particular há um limite para a complexidade de sistemas baseados em regras artesanais para além dos quais os sistemas se tornam cada vez mais incontroláveis No entanto a criação de mais dados para entrada em sistemas de aprendizado de máquina requer simplesmente um aumento correspondente no número de horas trabalhadas por humanos geralmente sem aumentos significativos na complexidade do processo de anotaçãoO subcampo de PLN dedicado a abordagens de aprendizagem é conhecido como aprendizagem de língua natural NLL e sua conferência a CoNLL e orgão central o SIGNLL são patrocinados pela ACL reconhecendo também as suas ligações com linguística computacional e aquisição de linguagem Quando o objetivo da pesquisa de aprendizagem de linguagem computacional é entender mais sobre aquisição de linguagem humana ou psicolinguística a NLL sobrepõese no campo relacionado de psicolinguística computacional\n",
            "\n",
            "\n",
            " Aplicações principais \n",
            "A listagem a seguir traz alguns dos trabalhos mais pesquisadas em PLN Note que alguns deles têm aplicações no mundo real enquanto outras servem mais frequentemente como tarefas secundárias que são usadas para auxiliar na resolução de tarefas maiores O que distingue essas tarefas de outras tarefas potenciais e reais de PLN não é apenas o volume de pesquisa dedicado a elas mas o fato de que para cada uma há tipicamente uma definição de problema bem especificada uma métrica padrão para avaliar a tarefa corpora padrão em que a tarefa pode ser avaliada e as competições dedicadas à tarefa específica\n",
            "Sumarização automática\n",
            "\n",
            "Produz um resumo legível de uma parte do texto Muitas vezes usado para fornecer resumos de texto de um tipo conhecido como artigos na seção financeira de um jornalResolução de correferência\n",
            "\n",
            "Dada uma frase ou um pedaço maior de texto determina quais palavras menções se referem aos mesmos objetos entidades A resolução da anáfora é um exemplo específico dessa tarefa e está especificamente preocupada em combinar os pronomes com os substantivos ou nomes aos quais eles se referem A tarefa mais geral da resolução de correferência também inclui a identificação dos chamados relacionamentos de ponte envolvendo expressões de referência Por exemplo numa frase como Ele entrou na casa de João pela porta da frente a porta da frente é uma expressão de referência e a relação da ponte a ser identificada é o fato de que a porta a ser referida é a porta da frente de Johns ao invés de alguma outra estrutura que também pode ser referidaAnálise do Discurso\n",
            "\n",
            "Esta rubrica inclui uma série de tarefas relacionadas Uma tarefa é identificar a estrutura discursiva do texto conectado isto é a natureza das relações discursivas entre sentenças por exemplo elaboração explicação contraste Outra possível tarefa é reconhecer e classificar os atos de fala em um pedaço de texto por exemplo pergunta simnão pergunta de conteúdo frase afirmação etcMaquina de tradução\n",
            "\n",
            "Traduzir automaticamente texto de uma linguagem humana para outra Este é uma das tarefas mais difíceis e faz parte de um tipo de problemas conhecidos como AIcomplete ou seja exigindo todos os diferentes tipos de conhecimento que os humanos possuem gramática semântica fatos sobre o mundo real etc para resolvêlo adequadamenteSegmentação morfológica\n",
            "\n",
            "Separa palavras em morfemas individuais e identifica classes de morfemas A dificuldade desta tarefa depende muito da complexidade da morfologia isto é da estrutura das palavras da linguagem que está sendo considerada O inglês possui uma morfologia bastante simples especialmente a morfologia flexional e portanto é possível ignorar esta tarefa inteiramente e simplesmente modelar todas as formas possíveis de uma palavra por exemplo open opens opened opening como palavras separadas Em línguas como o turco ou o Meitei uma língua indiana fortemente aglutinada no entanto tal abordagem não é possível uma vez que cada entrada do dicionário tem milhares de formas de palavras possíveisReconhecimento de entidade nomeada NER\n",
            "\n",
            "Dado um fluxo de texto determina quais são itens no mapa de texto para nomes próprios como pessoas ou locais e qual é o tipo de cada nome por exemplo pessoa local organização Embora a capitalização possa ajudar a reconhecer entidades nomeadas em idiomas como o inglês essas informações podem não ajudar a determinar o tipo de entidade nomeada e em alguns casos sãos imprecisas ou insuficientes Por exemplo a primeira palavra de uma frase também é capitalizada e as entidades nomeadas muitas vezes abrangem várias palavras com apenas algumas delas são capitalizadas Além disso muitas outras linguagens em scripts nãoocidentais por exemplo chinês ou árabe não têm nenhuma capitalização e mesmo as línguas com maiúsculas podem não distinguir nomes Por exemplo o alemão capitaliza todos os substantivos independentemente de se referirem a nomes e o francês e o espanhol não capitalizam nomes que servem como adjetivosGeração de língua natural\n",
            "\n",
            "Converte informações de bancos de dados de computador ou intenções semânticas em linguagem humana legívelCompreensão da língua natural\n",
            "\n",
            "Converte pedaços de texto em representações mais formais como estruturas de lógica de primeira ordem que são mais fáceis de manipular pelos programas de computador A compreensão da língua natural envolve a identificação da semântica pretendida a partir da múltipla semântica possível que pode ser derivada de uma expressão de língua natural que geralmente toma a forma de notação organizada de conceitos de linguagens naturais Entretanto introdução e criação de linguagem metamodelo e ontologia são eficientes soluções empíricas Uma formalização explícita da semântica de línguas naturais sem confusões com suposições implícitas como closedworld assumption CWA versus openworld assumption ou subjetiva Sim  Não versus objetivo Verdadeiro  Falso é esperada para a construção de uma base de formalização semânticaReconhecimento óptico de caracteres OCR\n",
            "\n",
            "Dada uma imagem que representa o texto impresso determina o texto correspondenteMarcação de classe gramatical\n",
            "\n",
            "Dada uma sentença determina a classe gramatical de cada palavra Muitas palavras especialmente as comuns podem servir como múltiplas partes do discurso Em inglês por exemplo book pode ser um substantivo the book on the table ou verbo book a flight Set pode ser um substantivo verbo ou adjetivo E out pode ser qualquer um de pelo menos cinco diferentes partes da fala Algumas línguas têm mais ambiguidade do que outras As línguas com pouca morfologia flexional como o inglês são particularmente propensas a tal ambiguidade O chinês é propenso a tal ambiguidade porque é uma língua tonal durante a verbalização Tal inflexão não é facilmente transmitida através das entidades empregadas dentro da ortografia para transmitir o significado pretendidoAnálise sintática Parsing\n",
            "\n",
            "Determina a árvore de análise análise gramatical de uma frase A gramática para as linguagens naturais é ambígua e frases típicas têm múltiplas análises possíveis Na verdade surpreendentemente para uma frase típica pode haver milhares de análises em potencial a maioria dos quais parecerá completamente absurda para um ser humanoRespostas a perguntas\n",
            "\n",
            "Dada uma questão de linguagem humana determina sua resposta As perguntas típicas têm uma resposta correta específica como Qual é o capital do Canadá mas às vezes perguntas abertas também são consideradas como Qual é o significado da vida Trabalhos recentes têm analisado questões ainda mais complexasExtração de relacionamento\n",
            "\n",
            "Identifica as relações entre entidades nomeadas por exemplo quem é casado com quem com base em textosQuebra de frases sentence boundary disambiguation\n",
            "\n",
            "Encontra os limites da frase em um pedaço de texto Os limites de frases são normalmente marcadas por pontos ou outros sinais de pontuação mas esses mesmos caracteres podem servir outros propósitosAnálise de subjetividade sentiment analysis ou opinion mining\n",
            "\n",
            "Extrai informações subjetivas geralmente de um conjunto de documentos muitas vezes usando revisões online para determinar a polaridade sobre objetos específicos É especialmente útil para identificar tendências da opinião pública nas mídias sociais para fins de marketingReconhecimento de fala\n",
            "\n",
            "Dado um clipe de som de uma pessoa ou pessoas falando determina a representação textual do discurso É o oposto da síntese de fala e é uma das áreas mais difíceis conhecida como AIcomplete Na fala natural quase não há pausas entre palavras sucessivas por isso a segmentação de fala é uma subtarefa necessária de reconhecimento de fala Notase também que na maioria das linguagens faladas os sons que representam letras sucessivas se misturam entre si em um processo denominado coarticulação de modo que a conversão do sinal analógico em caracteres discretos pode ser um processo muito difícil de ser realizadoSegmentação de fala\n",
            "\n",
            "Dado um clipe de som de uma pessoa ou pessoas falando separao em palavras Uma subaplicação de reconhecimento de fala e normalmente agrupada com eleAnálise morfológica e reconhecimento de tópicos\n",
            "\n",
            "Dado um pedaço de texto separao em segmentos cada um dos quais é dedicado a um tópico e identifica o tópico do segmentoAnálise morfológica e segmentação de palavras\n",
            "\n",
            "Separa um pedaço de texto contínuo em palavras separadas Para uma língua como o inglês isso é bastante trivial uma vez que as palavras são normalmente separadas por espaços No entanto algumas línguas escritas como chinês japonês e tailandês não marcam limites de palavras de tal forma e nessas línguas segmentação de texto é uma tarefa significativa que requer conhecimento do vocabulário e morfologia das palavras na línguaDesambiguação\n",
            "\n",
            "Muitas palavras têm mais de um significado assim temos que selecionar o significado que faz mais sentido no contexto Para este problema em geral é dada uma lista de palavras e sentidos de palavras associadas de um dicionário ou recurso online como o WordNet\n",
            "Em alguns casos conjuntos de tarefas relacionadas são agrupados em subcampos de PLN que são frequentemente considerados separadamente da PLN como um todo como os exemplos à seguirRecuperação de informação IR\n",
            "\n",
            "Tratase de armazenar pesquisar e recuperar informações É um campo separado dentro da ciência da computação mais perto de bancos de dados mas a IR se baseia em alguns métodos PLN por exemplo stemming Algumas pesquisas e aplicações atuais procuram preencher a lacuna entre IR e PLNExtração de informação IE\n",
            "\n",
            "Tratase em geral da extração de informação semântica a partir do texto Abrange tarefas como reconhecimento de entidade mencionada resolução de correferência e de relacionamento de extração etc\n",
            "Processamento de voz  Abrange reconhecimento de fala síntese de fala e tarefas relacionadas\n",
            "Outras tarefas incluem\n",
            "Identificação na língua materna\n",
            "Stemização\n",
            "Simplificação do texto\n",
            "Síntese de fala\n",
            "Revisão de texto\n",
            "Pesquisa em língua natural\n",
            "Expansão da consulta\n",
            "Pontuação de ensaio automatizado\n",
            "Truecasing\n",
            "\n",
            "\n",
            " Estatística \n",
            "Artigo principal Gramática estocástica\n",
            "O processamento estatístico em língua natural utiliza métodos estocásticos probabilísticos e estatísticos para resolver algumas das dificuldades discutidas acima especialmente aquelas que surgem porque frases mais longas são muito ambíguas quando processadas com gramáticas realistas produzindo milhares ou milhões de análises possíveis Métodos de desambiguação envolvem muitas vezes o uso de corpora e modelos de Markov O projeto ESPRIT P26 19841988 liderado pelo CSELT explorou o problema do reconhecimento de fala comparando abordagem baseada em conhecimento e estatística o resultado escolhido foi um modelo completamente estatístico Um dos primeiros modelos de compreensão estatística da língua natural foi introduzido em 1991 por Roberto Pieraccini Esther Levin e ChinHui Lee da Bell Laboratories] O PLN compreende todas as abordagens quantitativas para processamento automatizado de linguagem incluindo modelagem probabilística teoria da informação e álgebra linear A tecnologia para o PLN estatístico vem principalmente da aprendizagem automática e da mineração de dados que são campos de inteligência artificial que envolvem o aprendizado a partir de dados\n",
            "\n",
            "\n",
            " Avaliação \n",
            "O objetivo da avaliação do PLN é uma medida de uma ou mais qualidades de um algoritmo ou de um sistema a fim de determinar se o algoritmo atende às metas dos projetistas ou o sistema de atendimento às necessidades de seus usuários Investigação na avaliação PLN  tem ganhado atenção porque a definição de critérios de avaliação é uma forma de especificar precisamente problemas do PLN Uma métrica de avaliação de PLN em um sistema algorítmico permite a integração da compreensão de linguagem e geração de linguagem Um conjunto preciso de critérios de avaliação que pode ser aplicado principalmente a avaliações métricas podendo permitir que várias equipes comparem suas soluções para um determinado problema do PLN\n",
            "\n",
            "\n",
            " Cronologia da avaliação \n",
            "Em 1983 iniciouse o Projecto Esprit P26 que avaliou as Tecnologias da Fala incluindo tópicos gerais como Sintaxe e Semântica comparando as abordagens baseadas em regras com as estatísticas\n",
            "Em 1987 a primeira campanha de avaliação de textos escritos parece ser uma campanha dedicada à compreensão da mensagem Pallet 1998\n",
            "O projeto Parseval  GEIG comparou gramáticas de fraseestrutura Black 1991\n",
            "Houve uma série de campanhas no projeto Tipster sobre tarefas como resumo tradução e pesquisa Hirschman 1998\n",
            "Em 1994 na Alemanha o Morpholympics comparou marcadores morfológicos alemães\n",
            "As campanhas de Senseval  Romanseval foram realizadas com os objetivos de desambiguação semântica\n",
            "Em 1996 a campanha Sparkle comparou os analisadores sintáticos em quatro idiomas diferentes inglês francês alemão e italiano\n",
            "Na França o projeto Grace comparou um conjunto de 21 marcadores para o francês em 1997 Adda 1999\n",
            "Em 2004 durante o projeto Technolangue  Easy foram comparados 13 analisadores para o francês\n",
            "A avaliação em larga escala dos analisadores de dependência foi realizada no contexto das tarefas compartilhadas do CoNLL em 2006 e 2007\n",
            "Na França no âmbito do projecto ANRPassage final de 2007 foram comparados 10 analisadores para o francês\n",
            "Em Itália a campanha EVALITA foi realizada em 2007 2009 2011 e 2014 para comparar várias ferramentas de PLN e de voz para o site italiano  EVALITA\n",
            "\n",
            "\n",
            " Diferentes tipos de avaliação \n",
            "Avaliação intrínseca vs extrínseca\n",
            "A avaliação intrínseca considera um sistema PNL isolado e caracteriza seu desempenho em relação a um resultado padrãoexcelência conforme definido pelos avaliadores A avaliação extrínseca também chamada de avaliação em uso considera o sistema PLN em um cenário mais complexo como um sistema embutido ou uma função precisa para um usuário humano O desempenho extrínseco do sistema é então caracterizado em termos de utilidade em relação à tarefa global do sistema estranho ou do utilizador humano Por exemplo considere um analisador sintático que é baseado na saída de alguma parte do tagger de fala POS Uma avaliação intrínseca executaria o marcador POS em dados estruturados e compararia a saída do sistema do marcador POS com a saída padrão ouro Uma avaliação extrínseca executaria o analisador com algum outro marcador POS e em seguida com o marcador POS novo e compara a precisão de análise\n",
            "Caixa preta vs Avaliação da caixa de vidro\n",
            "A avaliação em caixa preta requer que alguém execute um sistema PLN em um conjunto de dados de amostra e para medir uma série de parâmetros relacionados com a qualidade do processo como velocidade confiabilidade consumo de recursos e principalmente a qualidade do resultado como a precisão da anotação de dados ou a fidelidade de uma tradução A avaliação da caixa de vidro examina a concepção do sistema Os algoritmos que são implementados os recursos linguísticos que utiliza como o tamanho do vocabulário ou a expressão definida de cardinalidade Dada a complexidade dos problemas da PLN muitas vezes é difícil prever o desempenho apenas com base na avaliação da caixa de vidro Mas este tipo de avaliação é mais informativo no que diz respeito à análise de erros ou desenvolvimentos futuros de um sistema\n",
            "Automática vs avaliação manual\n",
            "Em muitos casos procedimentos automáticos podem ser definidos para avaliar um sistema de PLN comparando sua saída com o padrão de excelência Embora o custo de reproduzir o padrão de excelência possa ser bastante elevado avaliação automática de bootstrapping sobre os mesmos dados de entrada pode ser repetida quantas vezes for necessário sem custos adicionais desordenados No entanto para muitos problemas de PLN a definição precisa de um padrão de excelência é uma tarefa complexa e pode se revelar impossível quando o acordo interanotador é insuficiente A avaliação manual é melhor realizada por juízes humanos instruídos para estimar a qualidade de um sistema ou mais frequentemente de uma amostra de sua produção com base em uma série de critérios Embora graças à sua competência linguística os juízes humanos possam ser considerados como a referência para uma série de tarefas de processamento de linguagem há também uma variação considerável em suas classificações É por isso que a avaliação automática é por vezes referida como avaliação objetiva enquanto a avaliação humana é perspectiva\n",
            "\n",
            "\n",
            " Padronização \n",
            "Um subcomitê ISO está trabalhando para facilitar a interoperabilidade entre recursos lexicais e programas PLN O subcomitê faz parte do ISO  TC37 e é chamado ISO  TC37  SC4 Alguns padrões ISO já estão publicados mas a maioria deles está em construção principalmente na representação de léxico ver LMF anotação e registro de categoria de dados\n",
            "\n",
            "\n",
            " Ferramentas \n",
            "Expert System SpA\n",
            "General Architecture for Text Engineering\n",
            "Modular Audio Recognition Framework\n",
            "Natural Language Toolkit NLTK uma biblioteca em Python\n",
            "OpenNLP\n",
            "\n",
            "\n",
            " Veja também \n",
            "Mineração de texto biomédica\n",
            "Processo de processamento composto\n",
            "Revisão assistida por computador\n",
            "Linguagem natural controlada\n",
            "Processamento linguístico profundo\n",
            "Auxílio à leitura de línguas estrangeiras\n",
            "Auxílio à escrita em língua estrangeira\n",
            "Tecnologia da linguagem\n",
            "A alocação de Dirichlet Latente LDA\n",
            "Indexação semântica latente\n",
            "Lista de ferramentas de processamento de língua natural\n",
            "Mapa de LRE\n",
            "Programação em língua natural\n",
            "Reificação linguística\n",
            "Dobradura semântica\n",
            "Sistema de diálogo falado\n",
            "Vetor do Pensamento\n",
            "Pesquisa Transderivacional\n",
            "Word2vec\n",
            "\n",
            "\n",
            " Referências \n",
            "\n",
            "\n",
            " Leitura adicional \n",
            "Steven Bird Ewan Klein and Edward Loper 2009 Natural Language Processing with Python OReilly Media ISBN 9780596516499\n",
            "Daniel Jurafsky and James H Martin 2008 Speech and Language Processing 2nd edition Pearson Prentice Hall ISBN 9780131873216\n",
            "Christopher D Manning Prabhakar Raghavan and Hinrich Schütze 2008 Introduction to Information Retrieval Cambridge University Press ISBN 9780521865715 Official html and pdf versions available without charge\n",
            "Christopher D Manning and Hinrich Schütze 1999 Foundations of Statistical Natural Language Processing The MIT Press ISBN 9780262133609\n",
            "David M W Powers and Christopher C R Turk 1989 Machine Learning of Natural Language SpringerVerlag ISBN 9780387195575\n"
          ],
          "name": "stdout"
        }
      ]
    },
    {
      "cell_type": "code",
      "metadata": {
        "id": "EFw3RfwXE2Wp",
        "outputId": "4300b383-3066-420c-e8b4-49feb8c63510"
      },
      "source": [
        "sorted(tokens_sem_punction)"
      ],
      "execution_count": null,
      "outputs": [
        {
          "output_type": "execute_result",
          "data": {
            "text/plain": [
              "['\\n',\n",
              " '\\n',\n",
              " '\\n',\n",
              " '\\n',\n",
              " '\\n',\n",
              " '\\n',\n",
              " '\\n',\n",
              " '\\n',\n",
              " '\\n',\n",
              " '\\n',\n",
              " '\\n',\n",
              " '\\n',\n",
              " '\\n',\n",
              " '\\n',\n",
              " '\\n',\n",
              " '\\n',\n",
              " '\\n',\n",
              " '\\n',\n",
              " '\\n',\n",
              " '\\n',\n",
              " '\\n',\n",
              " '\\n',\n",
              " '\\n',\n",
              " '\\n',\n",
              " '\\n',\n",
              " '\\n',\n",
              " '\\n',\n",
              " '\\n',\n",
              " '\\n',\n",
              " '\\n',\n",
              " '\\n',\n",
              " '\\n',\n",
              " '\\n',\n",
              " '\\n',\n",
              " '\\n',\n",
              " '\\n',\n",
              " '\\n',\n",
              " '\\n',\n",
              " '\\n',\n",
              " '\\n',\n",
              " '\\n',\n",
              " '\\n',\n",
              " '\\n',\n",
              " '\\n',\n",
              " '\\n',\n",
              " '\\n',\n",
              " '\\n',\n",
              " '\\n',\n",
              " '\\n',\n",
              " '\\n',\n",
              " '\\n',\n",
              " '\\n',\n",
              " '\\n',\n",
              " '\\n',\n",
              " '\\n',\n",
              " '\\n',\n",
              " '\\n',\n",
              " '\\n',\n",
              " '\\n',\n",
              " '\\n',\n",
              " '\\n',\n",
              " '\\n',\n",
              " '\\n',\n",
              " '\\n',\n",
              " '\\n',\n",
              " '\\n',\n",
              " '\\n',\n",
              " '\\n',\n",
              " '\\n',\n",
              " '\\n',\n",
              " '\\n',\n",
              " '\\n',\n",
              " '\\n',\n",
              " '\\n',\n",
              " '\\n',\n",
              " '\\n',\n",
              " '\\n',\n",
              " '\\n',\n",
              " '\\n',\n",
              " '\\n',\n",
              " '\\n',\n",
              " '\\n',\n",
              " '\\n',\n",
              " '\\n',\n",
              " '\\n',\n",
              " '\\n',\n",
              " '\\n',\n",
              " '\\n',\n",
              " '\\n',\n",
              " '\\n',\n",
              " '\\n',\n",
              " '\\n',\n",
              " '\\n',\n",
              " '\\n',\n",
              " '\\n',\n",
              " '\\n',\n",
              " '\\n',\n",
              " '\\n',\n",
              " '\\n',\n",
              " '\\n',\n",
              " '\\n',\n",
              " '\\n',\n",
              " '\\n',\n",
              " '\\n',\n",
              " '\\n',\n",
              " '\\n',\n",
              " '\\n',\n",
              " '\\n',\n",
              " '\\n',\n",
              " '\\n',\n",
              " '\\n',\n",
              " '\\n',\n",
              " '\\n',\n",
              " '\\n',\n",
              " '\\n',\n",
              " '\\n',\n",
              " '\\n',\n",
              " '\\n',\n",
              " '\\n',\n",
              " '\\n',\n",
              " '\\n',\n",
              " '\\n',\n",
              " '\\n',\n",
              " '\\n',\n",
              " '\\n',\n",
              " '\\n',\n",
              " '\\n',\n",
              " '\\n',\n",
              " '\\n',\n",
              " '\\n',\n",
              " '\\n',\n",
              " '\\n',\n",
              " '\\n',\n",
              " '\\n',\n",
              " '\\n',\n",
              " '\\n',\n",
              " '\\n',\n",
              " '\\n',\n",
              " '\\n',\n",
              " '\\n',\n",
              " '\\n',\n",
              " '\\n',\n",
              " '\\n',\n",
              " '\\n',\n",
              " '\\n',\n",
              " '\\n',\n",
              " '\\n',\n",
              " '\\n',\n",
              " '\\n',\n",
              " '\\n',\n",
              " '\\n',\n",
              " '\\n',\n",
              " '\\n',\n",
              " '\\n',\n",
              " '\\n',\n",
              " '\\n',\n",
              " '\\n',\n",
              " '\\n',\n",
              " '\\n',\n",
              " '\\n',\n",
              " '\\n',\n",
              " ' ',\n",
              " ' ',\n",
              " ' ',\n",
              " ' ',\n",
              " ' ',\n",
              " ' ',\n",
              " ' ',\n",
              " ' ',\n",
              " ' ',\n",
              " ' ',\n",
              " ' ',\n",
              " ' ',\n",
              " ' ',\n",
              " ' ',\n",
              " ' ',\n",
              " ' ',\n",
              " ' ',\n",
              " ' ',\n",
              " ' ',\n",
              " ' ',\n",
              " ' ',\n",
              " ' ',\n",
              " ' ',\n",
              " ' ',\n",
              " ' ',\n",
              " ' ',\n",
              " ' ',\n",
              " ' ',\n",
              " ' ',\n",
              " ' ',\n",
              " ' ',\n",
              " ' ',\n",
              " ' ',\n",
              " ' ',\n",
              " ' ',\n",
              " ' ',\n",
              " ' ',\n",
              " ' ',\n",
              " ' ',\n",
              " ' ',\n",
              " ' ',\n",
              " ' ',\n",
              " ' ',\n",
              " ' ',\n",
              " ' ',\n",
              " ' ',\n",
              " ' ',\n",
              " ' ',\n",
              " ' ',\n",
              " ' ',\n",
              " ' ',\n",
              " ' ',\n",
              " ' ',\n",
              " ' ',\n",
              " ' ',\n",
              " ' ',\n",
              " ' ',\n",
              " ' ',\n",
              " ' ',\n",
              " ' ',\n",
              " ' ',\n",
              " ' ',\n",
              " ' ',\n",
              " ' ',\n",
              " ' ',\n",
              " ' ',\n",
              " ' ',\n",
              " ' ',\n",
              " ' ',\n",
              " ' ',\n",
              " ' ',\n",
              " ' ',\n",
              " ' ',\n",
              " ' ',\n",
              " ' ',\n",
              " ' ',\n",
              " ' ',\n",
              " ' ',\n",
              " ' ',\n",
              " ' ',\n",
              " ' ',\n",
              " ' ',\n",
              " ' ',\n",
              " ' ',\n",
              " ' ',\n",
              " ' ',\n",
              " ' ',\n",
              " ' ',\n",
              " ' ',\n",
              " ' ',\n",
              " ' ',\n",
              " ' ',\n",
              " ' ',\n",
              " ' ',\n",
              " ' ',\n",
              " ' ',\n",
              " ' ',\n",
              " ' ',\n",
              " ' ',\n",
              " ' ',\n",
              " ' ',\n",
              " ' ',\n",
              " ' ',\n",
              " ' ',\n",
              " ' ',\n",
              " ' ',\n",
              " ' ',\n",
              " ' ',\n",
              " ' ',\n",
              " ' ',\n",
              " ' ',\n",
              " ' ',\n",
              " ' ',\n",
              " ' ',\n",
              " ' ',\n",
              " ' ',\n",
              " ' ',\n",
              " ' ',\n",
              " ' ',\n",
              " ' ',\n",
              " ' ',\n",
              " ' ',\n",
              " ' ',\n",
              " ' ',\n",
              " ' ',\n",
              " ' ',\n",
              " ' ',\n",
              " ' ',\n",
              " ' ',\n",
              " ' ',\n",
              " ' ',\n",
              " ' ',\n",
              " ' ',\n",
              " ' ',\n",
              " ' ',\n",
              " ' ',\n",
              " ' ',\n",
              " ' ',\n",
              " ' ',\n",
              " ' ',\n",
              " ' ',\n",
              " ' ',\n",
              " ' ',\n",
              " ' ',\n",
              " ' ',\n",
              " ' ',\n",
              " ' ',\n",
              " ' ',\n",
              " ' ',\n",
              " ' ',\n",
              " ' ',\n",
              " ' ',\n",
              " ' ',\n",
              " ' ',\n",
              " ' ',\n",
              " ' ',\n",
              " ' ',\n",
              " ' ',\n",
              " ' ',\n",
              " ' ',\n",
              " ' ',\n",
              " ' ',\n",
              " ' ',\n",
              " ' ',\n",
              " ' ',\n",
              " ' ',\n",
              " ' ',\n",
              " ' ',\n",
              " ' ',\n",
              " ' ',\n",
              " ' ',\n",
              " ' ',\n",
              " ' ',\n",
              " ' ',\n",
              " ' ',\n",
              " ' ',\n",
              " ' ',\n",
              " ' ',\n",
              " ' ',\n",
              " ' ',\n",
              " ' ',\n",
              " ' ',\n",
              " ' ',\n",
              " ' ',\n",
              " ' ',\n",
              " ' ',\n",
              " ' ',\n",
              " ' ',\n",
              " ' ',\n",
              " ' ',\n",
              " ' ',\n",
              " ' ',\n",
              " ' ',\n",
              " ' ',\n",
              " ' ',\n",
              " ' ',\n",
              " ' ',\n",
              " ' ',\n",
              " ' ',\n",
              " ' ',\n",
              " ' ',\n",
              " ' ',\n",
              " ' ',\n",
              " ' ',\n",
              " ' ',\n",
              " ' ',\n",
              " ' ',\n",
              " ' ',\n",
              " ' ',\n",
              " ' ',\n",
              " ' ',\n",
              " ' ',\n",
              " ' ',\n",
              " ' ',\n",
              " ' ',\n",
              " ' ',\n",
              " ' ',\n",
              " ' ',\n",
              " ' ',\n",
              " ' ',\n",
              " ' ',\n",
              " ' ',\n",
              " ' ',\n",
              " ' ',\n",
              " ' ',\n",
              " ' ',\n",
              " ' ',\n",
              " ' ',\n",
              " ' ',\n",
              " ' ',\n",
              " ' ',\n",
              " ' ',\n",
              " ' ',\n",
              " ' ',\n",
              " ' ',\n",
              " ' ',\n",
              " ' ',\n",
              " ' ',\n",
              " ' ',\n",
              " ' ',\n",
              " ' ',\n",
              " ' ',\n",
              " ' ',\n",
              " ' ',\n",
              " ' ',\n",
              " ' ',\n",
              " ' ',\n",
              " ' ',\n",
              " ' ',\n",
              " ' ',\n",
              " ' ',\n",
              " ' ',\n",
              " ' ',\n",
              " ' ',\n",
              " ' ',\n",
              " ' ',\n",
              " ' ',\n",
              " ' ',\n",
              " ' ',\n",
              " ' ',\n",
              " ' ',\n",
              " ' ',\n",
              " ' ',\n",
              " ' ',\n",
              " ' ',\n",
              " ' ',\n",
              " ' ',\n",
              " ' ',\n",
              " ' ',\n",
              " ' ',\n",
              " ' ',\n",
              " ' ',\n",
              " ' ',\n",
              " ' ',\n",
              " ' ',\n",
              " ' ',\n",
              " ' ',\n",
              " ' ',\n",
              " ' ',\n",
              " ' ',\n",
              " ' ',\n",
              " ' ',\n",
              " ' ',\n",
              " ' ',\n",
              " ' ',\n",
              " ' ',\n",
              " ' ',\n",
              " ' ',\n",
              " ' ',\n",
              " ' ',\n",
              " ' ',\n",
              " ' ',\n",
              " ' ',\n",
              " ' ',\n",
              " ' ',\n",
              " ' ',\n",
              " ' ',\n",
              " ' ',\n",
              " ' ',\n",
              " ' ',\n",
              " ' ',\n",
              " ' ',\n",
              " ' ',\n",
              " ' ',\n",
              " ' ',\n",
              " ' ',\n",
              " ' ',\n",
              " ' ',\n",
              " ' ',\n",
              " ' ',\n",
              " ' ',\n",
              " ' ',\n",
              " ' ',\n",
              " ' ',\n",
              " ' ',\n",
              " ' ',\n",
              " ' ',\n",
              " ' ',\n",
              " ' ',\n",
              " ' ',\n",
              " ' ',\n",
              " ' ',\n",
              " ' ',\n",
              " ' ',\n",
              " ' ',\n",
              " ' ',\n",
              " ' ',\n",
              " ' ',\n",
              " ' ',\n",
              " ' ',\n",
              " ' ',\n",
              " ' ',\n",
              " ' ',\n",
              " ' ',\n",
              " ' ',\n",
              " ' ',\n",
              " ' ',\n",
              " ' ',\n",
              " ' ',\n",
              " ' ',\n",
              " ' ',\n",
              " ' ',\n",
              " ' ',\n",
              " ' ',\n",
              " ' ',\n",
              " ' ',\n",
              " ' ',\n",
              " ' ',\n",
              " ' ',\n",
              " ' ',\n",
              " ' ',\n",
              " ' ',\n",
              " ' ',\n",
              " ' ',\n",
              " ' ',\n",
              " ' ',\n",
              " ' ',\n",
              " ' ',\n",
              " ' ',\n",
              " ' ',\n",
              " ' ',\n",
              " ' ',\n",
              " ' ',\n",
              " ' ',\n",
              " ' ',\n",
              " ' ',\n",
              " ' ',\n",
              " ' ',\n",
              " ' ',\n",
              " ' ',\n",
              " ' ',\n",
              " ' ',\n",
              " ' ',\n",
              " ' ',\n",
              " ' ',\n",
              " ' ',\n",
              " ' ',\n",
              " ' ',\n",
              " ' ',\n",
              " ' ',\n",
              " ' ',\n",
              " ' ',\n",
              " ' ',\n",
              " ' ',\n",
              " ' ',\n",
              " ' ',\n",
              " ' ',\n",
              " ' ',\n",
              " ' ',\n",
              " ' ',\n",
              " ' ',\n",
              " ' ',\n",
              " ' ',\n",
              " ' ',\n",
              " ' ',\n",
              " ' ',\n",
              " ' ',\n",
              " ' ',\n",
              " ' ',\n",
              " ' ',\n",
              " ' ',\n",
              " ' ',\n",
              " ' ',\n",
              " ' ',\n",
              " ' ',\n",
              " ' ',\n",
              " ' ',\n",
              " ' ',\n",
              " ' ',\n",
              " ' ',\n",
              " ' ',\n",
              " ' ',\n",
              " ' ',\n",
              " ' ',\n",
              " ' ',\n",
              " ' ',\n",
              " ' ',\n",
              " ' ',\n",
              " ' ',\n",
              " ' ',\n",
              " ' ',\n",
              " ' ',\n",
              " ' ',\n",
              " ' ',\n",
              " ' ',\n",
              " ' ',\n",
              " ' ',\n",
              " ' ',\n",
              " ' ',\n",
              " ' ',\n",
              " ' ',\n",
              " ' ',\n",
              " ' ',\n",
              " ' ',\n",
              " ' ',\n",
              " ' ',\n",
              " ' ',\n",
              " ' ',\n",
              " ' ',\n",
              " ' ',\n",
              " ' ',\n",
              " ' ',\n",
              " ' ',\n",
              " ' ',\n",
              " ' ',\n",
              " ' ',\n",
              " ' ',\n",
              " ' ',\n",
              " ' ',\n",
              " ' ',\n",
              " ' ',\n",
              " ' ',\n",
              " ' ',\n",
              " ' ',\n",
              " ' ',\n",
              " ' ',\n",
              " ' ',\n",
              " ' ',\n",
              " ' ',\n",
              " ' ',\n",
              " ' ',\n",
              " ' ',\n",
              " ' ',\n",
              " ' ',\n",
              " ' ',\n",
              " ' ',\n",
              " ' ',\n",
              " ' ',\n",
              " ' ',\n",
              " ' ',\n",
              " ' ',\n",
              " ' ',\n",
              " ' ',\n",
              " ' ',\n",
              " ' ',\n",
              " ' ',\n",
              " ' ',\n",
              " ' ',\n",
              " ' ',\n",
              " ' ',\n",
              " ' ',\n",
              " ' ',\n",
              " ' ',\n",
              " ' ',\n",
              " ' ',\n",
              " ' ',\n",
              " ' ',\n",
              " ' ',\n",
              " ' ',\n",
              " ' ',\n",
              " ' ',\n",
              " ' ',\n",
              " ' ',\n",
              " ' ',\n",
              " ' ',\n",
              " ' ',\n",
              " ' ',\n",
              " ' ',\n",
              " ' ',\n",
              " ' ',\n",
              " ' ',\n",
              " ' ',\n",
              " ' ',\n",
              " ' ',\n",
              " ' ',\n",
              " ' ',\n",
              " ' ',\n",
              " ' ',\n",
              " ' ',\n",
              " ' ',\n",
              " ' ',\n",
              " ' ',\n",
              " ' ',\n",
              " ' ',\n",
              " ' ',\n",
              " ' ',\n",
              " ' ',\n",
              " ' ',\n",
              " ' ',\n",
              " ' ',\n",
              " ' ',\n",
              " ' ',\n",
              " ' ',\n",
              " ' ',\n",
              " ' ',\n",
              " ' ',\n",
              " ' ',\n",
              " ' ',\n",
              " ' ',\n",
              " ' ',\n",
              " ' ',\n",
              " ' ',\n",
              " ' ',\n",
              " ' ',\n",
              " ' ',\n",
              " ' ',\n",
              " ' ',\n",
              " ' ',\n",
              " ' ',\n",
              " ' ',\n",
              " ' ',\n",
              " ' ',\n",
              " ' ',\n",
              " ' ',\n",
              " ' ',\n",
              " ' ',\n",
              " ' ',\n",
              " ' ',\n",
              " ' ',\n",
              " ' ',\n",
              " ' ',\n",
              " ' ',\n",
              " ' ',\n",
              " ' ',\n",
              " ' ',\n",
              " ' ',\n",
              " ' ',\n",
              " ' ',\n",
              " ' ',\n",
              " ' ',\n",
              " ' ',\n",
              " ' ',\n",
              " ' ',\n",
              " ' ',\n",
              " ' ',\n",
              " ' ',\n",
              " ' ',\n",
              " ' ',\n",
              " ' ',\n",
              " ' ',\n",
              " ' ',\n",
              " ' ',\n",
              " ' ',\n",
              " ' ',\n",
              " ' ',\n",
              " ' ',\n",
              " ' ',\n",
              " ' ',\n",
              " ' ',\n",
              " ' ',\n",
              " ' ',\n",
              " ' ',\n",
              " ' ',\n",
              " ' ',\n",
              " ' ',\n",
              " ' ',\n",
              " ' ',\n",
              " ' ',\n",
              " ' ',\n",
              " ' ',\n",
              " ' ',\n",
              " ' ',\n",
              " ' ',\n",
              " ' ',\n",
              " ' ',\n",
              " ' ',\n",
              " ' ',\n",
              " ' ',\n",
              " ' ',\n",
              " ' ',\n",
              " ' ',\n",
              " ' ',\n",
              " ' ',\n",
              " ' ',\n",
              " ' ',\n",
              " ' ',\n",
              " ' ',\n",
              " ' ',\n",
              " ' ',\n",
              " ' ',\n",
              " ' ',\n",
              " ' ',\n",
              " ' ',\n",
              " ' ',\n",
              " ' ',\n",
              " ' ',\n",
              " ' ',\n",
              " ' ',\n",
              " ' ',\n",
              " ' ',\n",
              " ' ',\n",
              " ' ',\n",
              " ' ',\n",
              " ' ',\n",
              " ' ',\n",
              " ' ',\n",
              " ' ',\n",
              " ' ',\n",
              " ' ',\n",
              " ' ',\n",
              " ' ',\n",
              " ' ',\n",
              " ' ',\n",
              " ' ',\n",
              " ' ',\n",
              " ' ',\n",
              " ' ',\n",
              " ' ',\n",
              " ' ',\n",
              " ' ',\n",
              " ' ',\n",
              " ' ',\n",
              " ' ',\n",
              " ' ',\n",
              " ' ',\n",
              " ' ',\n",
              " ' ',\n",
              " ' ',\n",
              " ' ',\n",
              " ' ',\n",
              " ' ',\n",
              " ' ',\n",
              " ' ',\n",
              " ' ',\n",
              " ' ',\n",
              " ' ',\n",
              " ' ',\n",
              " ' ',\n",
              " ' ',\n",
              " ' ',\n",
              " ' ',\n",
              " ' ',\n",
              " ' ',\n",
              " ' ',\n",
              " ' ',\n",
              " ' ',\n",
              " ' ',\n",
              " ' ',\n",
              " ' ',\n",
              " ' ',\n",
              " ' ',\n",
              " ' ',\n",
              " ' ',\n",
              " ' ',\n",
              " ' ',\n",
              " ' ',\n",
              " ' ',\n",
              " ' ',\n",
              " ' ',\n",
              " ' ',\n",
              " ' ',\n",
              " ' ',\n",
              " ' ',\n",
              " ' ',\n",
              " ' ',\n",
              " ' ',\n",
              " ' ',\n",
              " ' ',\n",
              " ' ',\n",
              " ' ',\n",
              " ' ',\n",
              " ' ',\n",
              " ' ',\n",
              " ' ',\n",
              " ' ',\n",
              " ' ',\n",
              " ' ',\n",
              " ' ',\n",
              " ' ',\n",
              " ' ',\n",
              " ' ',\n",
              " ' ',\n",
              " ' ',\n",
              " ' ',\n",
              " ' ',\n",
              " ' ',\n",
              " ' ',\n",
              " ' ',\n",
              " ' ',\n",
              " ' ',\n",
              " ' ',\n",
              " ' ',\n",
              " ' ',\n",
              " ' ',\n",
              " ' ',\n",
              " ' ',\n",
              " ' ',\n",
              " ' ',\n",
              " ' ',\n",
              " ' ',\n",
              " ' ',\n",
              " ' ',\n",
              " ' ',\n",
              " ' ',\n",
              " ' ',\n",
              " ' ',\n",
              " ' ',\n",
              " ' ',\n",
              " ' ',\n",
              " ' ',\n",
              " ' ',\n",
              " ' ',\n",
              " ' ',\n",
              " ' ',\n",
              " ' ',\n",
              " ' ',\n",
              " ' ',\n",
              " ' ',\n",
              " ' ',\n",
              " ' ',\n",
              " ' ',\n",
              " ' ',\n",
              " ' ',\n",
              " ' ',\n",
              " ' ',\n",
              " ' ',\n",
              " ' ',\n",
              " ' ',\n",
              " ' ',\n",
              " ' ',\n",
              " ' ',\n",
              " ' ',\n",
              " ' ',\n",
              " ' ',\n",
              " ' ',\n",
              " ' ',\n",
              " ' ',\n",
              " ' ',\n",
              " ' ',\n",
              " ' ',\n",
              " ' ',\n",
              " ' ',\n",
              " ' ',\n",
              " ' ',\n",
              " ' ',\n",
              " ' ',\n",
              " ' ',\n",
              " ' ',\n",
              " ' ',\n",
              " ' ',\n",
              " ' ',\n",
              " ' ',\n",
              " ' ',\n",
              " ' ',\n",
              " ' ',\n",
              " ' ',\n",
              " ' ',\n",
              " ' ',\n",
              " ' ',\n",
              " ' ',\n",
              " ' ',\n",
              " ' ',\n",
              " ' ',\n",
              " ' ',\n",
              " ' ',\n",
              " ' ',\n",
              " ' ',\n",
              " ' ',\n",
              " ' ',\n",
              " ' ',\n",
              " ' ',\n",
              " ' ',\n",
              " ' ',\n",
              " ' ',\n",
              " ' ',\n",
              " ' ',\n",
              " ' ',\n",
              " ' ',\n",
              " ' ',\n",
              " ' ',\n",
              " ' ',\n",
              " ' ',\n",
              " ' ',\n",
              " ' ',\n",
              " ' ',\n",
              " ' ',\n",
              " ' ',\n",
              " ' ',\n",
              " ' ',\n",
              " ' ',\n",
              " ' ',\n",
              " ' ',\n",
              " ' ',\n",
              " ' ',\n",
              " ' ',\n",
              " ' ',\n",
              " ' ',\n",
              " ' ',\n",
              " ' ',\n",
              " ' ',\n",
              " ' ',\n",
              " ' ',\n",
              " ' ',\n",
              " ' ',\n",
              " ' ',\n",
              " ' ',\n",
              " ' ',\n",
              " ' ',\n",
              " ' ',\n",
              " ' ',\n",
              " ' ',\n",
              " ' ',\n",
              " ' ',\n",
              " ' ',\n",
              " ' ',\n",
              " ' ',\n",
              " ' ',\n",
              " ' ',\n",
              " ' ',\n",
              " ...]"
            ]
          },
          "metadata": {
            "tags": []
          },
          "execution_count": 38
        }
      ]
    },
    {
      "cell_type": "markdown",
      "metadata": {
        "id": "587tz9g-E2Wr"
      },
      "source": [
        "## Remoção Acentos\n",
        "\n",
        "9. remova todos os acentos utilizando a função abaixo:\n",
        "\n",
        "```python\n",
        "unidecode(str)\n",
        "```"
      ]
    },
    {
      "cell_type": "code",
      "metadata": {
        "id": "Yb82BTreE2Ws"
      },
      "source": [
        "from unidecode import unidecode"
      ],
      "execution_count": null,
      "outputs": []
    },
    {
      "cell_type": "code",
      "metadata": {
        "id": "5cb1oMd1E2Wu",
        "outputId": "f2124bd6-2235-4486-bcf7-6c437441757a"
      },
      "source": [
        "tokens_sem_acentos = unidecode(corpus)\n",
        "tokens_sem_acentos"
      ],
      "execution_count": null,
      "outputs": [
        {
          "output_type": "execute_result",
          "data": {
            "text/plain": [
              "'Processamento de lingua natural (PLN) e uma subarea da ciencia da computacao, inteligencia artificial e da linguistica que estuda os problemas da geracao e compreensao automatica de linguas humanas naturais. Sistemas de geracao de lingua natural convertem informacao de bancos de dados de computadores em linguagem compreensivel ao ser humano e sistemas de compreensao de lingua natural convertem ocorrencias de linguagem humana em representacoes mais formais, mais facilmente manipulaveis por programas de computador. Alguns desafios do PLN sao compreensao de lingua natural, fazer com que computadores extraiam sentido de linguagem humana ou natural e geracao de lingua natural.\\n\\n\\n== Historia ==\\nA historia do PLN comecou na decada de 1950, quando Alan Turing publicou o artigo \"Computing Machinery and Intelligence\", que propunha o que agora e chamado de teste de Turing como criterio de inteligencia.\\nEm 1954, a experiencia de Georgetown envolveu a traducao automatica de mais de sessenta frases russas para o ingles. Os autores afirmaram que dentro de tres ou cinco anos a traducao automatica seria um problema resolvido. No entanto, os avancos reais foram muito mais lentos do que o previsto e, apos o relatorio ALPAC em 1966, que constatou que a pesquisa de dez anos nao conseguiu satisfazer as expectativas, o financiamento para este estudo em traducao automatica foi reduzido drasticamente. Poucas pesquisas em traducao automatica foram conduzidas ate o final dos anos 80, quando os primeiros sistemas estatisticos de traducao foram desenvolvidos.\\nAlguns sistemas de PLN bem sucedidos desenvolvidos nos anos 60 foram SHRDLU, um sistema de lingua natural que trabalhava em \"blocks worlds\" com vocabulario restrito e ELIZA, uma simulacao de um psicoterapeuta escrita por Joseph Weizenbaum entre 1964 e 1966. Usando pouca informacao sobre o pensamento ou a emocao humana, ELIZA criava, em alguns casos, interacoes surpreendentemente humanas. Quando o \"paciente\" excedia a base de conhecimento do programa, ELIZA fornecia uma resposta generica, por exemplo, respondendo a \"Minha cabeca doi\" com \"Por que voce diz que sua cabeca doi?\".\\nDurante a decada de 1970, muitos programadores comecaram a escrever \"ontologias conceituais\", que estruturaram a informacao do mundo real em dados compreensiveis por computadores. Exemplos sao MARGIE (SCHANK, 1975), SAM (CULLINGFORD, 1978), PAM (WILENSKY, 1978), TaleSpin (MEEHAN, 1976), QUALM (LEHNERT, 1977), Politics (CARBONELL, 1979) e Plot Units (LEHNERT, 1981 ). Neste periodo, muitos chatterbots foram escritos, como PARRY, Racter e Jabberwacky.\\nAte a decada de 1980, a maioria dos sistemas de PLN se baseava em conjuntos complexos de regras manuscritas. A partir do final dos anos 1980, no entanto, houve uma revolucao no PLN com a introducao de algoritmos de aprendizagem automatica (aprendizado de maquina) para o processamento de linguagem. Isto foi devido tanto ao aumento constante do poder computacional (ver Lei de Moore) quanto a diminuicao gradual da dominancia das teorias da linguistica chomskyanas (como a gramatica gerativa), cujos fundamentos teoricos desestimularam o tipo de corpus linguistico que esta subjacente a abordagem da aprendizagem automatica ao processamento da linguagem.\\nAlguns dos algoritmos de aprendizado de maquinas mais antigos, como as arvores de decisao, produziam sistemas de regras rigidas entao semelhantes as regras existentes na escritas a mao. No entanto, a marcacao de partes da fala (part-of-speech tagging) introduziu o uso de modelos ocultos de Markov para o PLN e, cada vez mais, a pesquisa se concentrava em modelos estatisticos, que tomam decisoes suaves e probabilisticas baseadas na atribuicao de pesos reais aos recursos que compoem dados de entrada. Os modelos de linguagem de cache, sobre os quais muitos sistemas de reconhecimento de fala agora dependem, sao exemplos de tais modelos estatisticos. Esses modelos sao geralmente mais robustos quando dados informacoes desconhecidas, especialmente entrada que contem erros (como e muito comum para dados do mundo real) e produzem resultados mais confiaveis quando integrados em sistemas maiores que compreendem multiplas tarefas.\\nMuitos dos sucessos iniciais notaveis ocorreram no campo da traducao automatica, devido especialmente ao trabalho de pesquisa da IBM, que desenvolveu modelos estatisticos mais elaborados. Estes sistemas foram capazes de tirar proveito de corpora textuais multilingues existentes  produzidos pelo Parlamento do Canada e a Uniao Europeia como resultado de leis que exigem a traducao de todos os processos governamentais em todas as linguas oficiais dos paises. No entanto, a maioria dos sistemas dependia de corpora desenvolvido especificamente para tarefas implementadas por esses sistemas, o que era (e muitas vezes continua sendo) uma grande limitacao no sucesso dos mesmo. Como resultado, uma grande quantidade de pesquisa passou de quantidades de dados limitadas a metodos de aprendizagem mais eficazes.\\nPesquisas recentes tem se concentrado cada vez mais em algoritmos de aprendizagem semi-supervisionados e sem supervisao. Esses algoritmos sao capazes de aprender com dados que nao foram anotados manualmente com as respostas desejadas ou usando uma combinacao de dados anotados e nao anotados. Geralmente, esta tarefa e muito mais trabalhosa do que a aprendizagem supervisionada e normalmente produz resultados menos precisos para uma quantidade especifica de dados de entrada. No entanto, ha uma enorme quantidade de dados nao anotados disponiveis (incluindo, entre outras coisas, todo o conteudo da World Wide Web), que muitas vezes pode compensar os resultados inferiores.\\n\\n\\n== Usando a aprendizagem automatica (aprendizado de maquina) ==\\nOs algoritmos modernos de PLN baseiam-se na aprendizagem mecanica, especialmente na aprendizagem de maquinas estatisticas. O paradigma da aprendizagem mecanica e diferente do da maioria das tentativas anteriores de processamento da linguagem. Anteriormente, implementacoes de tarefas de processamento de linguagem envolviam a codificacao direta de grandes conjuntos de regras. O paradigma da aprendizagem automatica (ou aprendizagem automatica) induz a aprendizagem automatica de regras atraves de analises de corpora de exemplos tipicos do mundo real ao inves de usar algoritmos gerais de aprendizagem (muitas vezes, embora nem sempre, baseados em inferencia estatistica). Um corpus (plural \"corpora\") e um conjunto de documentos (ou frases individuais) que foram anotados a mao com os valores corretos a serem aprendidos.\\nMuitas classes diferentes de algoritmos de aprendizado de maquina foram aplicadas a tarefas de PLN. Esses algoritmos tomam como entrada um grande conjunto de \"recursos\" que sao gerados a partir de dados de entrada.\\nAlguns dos algoritmos mais usados, como arvores de decisao, produziam sistemas de regras rigidas semelhantes aos sistemas de regras manuscritas mais comuns. No entanto, cada vez mais, a pesquisa tem se concentrado em modelos estatisticos, que tomam decisoes flexiveis e probabilisticas baseadas em agregar pesos reais a cada caracteristica de entrada. Tais modelos tem a vantagem de poder expressar a certeza relativa de muitas respostas possiveis diferentes em vez de apenas uma, produzindo resultados mais confiaveis quando esse modelo e incluido como um componente de um sistema maior.\\nOs sistemas baseados em algoritmos de aprendizagem mecanica tem muitas vantagens em relacao as regras produzidas manualmente:\\n\\nOs procedimentos de aprendizagem usados durante a aprendizagem da maquina focam-se automaticamente nos casos mais comuns, ao passo que quando se escrevem regras a mao, nao e obvio em que sentido o esforco deve ser dirigido.\\nOs procedimentos de aprendizagem automatica podem fazer uso de algoritmos de inferencia estatistica para produzir modelos que sao robustos a entradas nao familiares (por exemplo, contendo palavras ou estruturas que nao foram vistas antes) e a entradas erroneas (por exemplo, com palavras ou palavras incorretamente omitidas). Geralmente, lidar com essas entradas de forma com regras manuscritas ou sistemas de regras manuscritas que tomam decisoes suaves e extremamente trabalhoso, propenso a erros e demorado.\\nSistemas baseados em aprender automaticamente as regras podem ser mais precisos simplesmente fornecendo mais dados de entrada. No entanto, os sistemas baseados em regras escritas a mao so podem ser tornados mais precisos aumentando a complexidade das regras, o que e uma tarefa muito mais dificil. Em particular, ha um limite para a complexidade de sistemas baseados em regras artesanais, para alem dos quais os sistemas se tornam cada vez mais incontrolaveis. No entanto, a criacao de mais dados para entrada em sistemas de aprendizado de maquina requer simplesmente um aumento correspondente no numero de horas trabalhadas por humanos, geralmente sem aumentos significativos na complexidade do processo de anotacao.O subcampo de PLN dedicado a abordagens de aprendizagem e conhecido como aprendizagem de lingua natural (NLL) e sua conferencia, a CoNLL, e orgao central, o SIGNLL, sao patrocinados pela ACL, reconhecendo tambem as suas ligacoes com linguistica computacional e aquisicao de linguagem. Quando o objetivo da pesquisa de aprendizagem de linguagem computacional e entender mais sobre aquisicao de linguagem humana, ou psicolinguistica, a NLL sobrepoe-se no campo relacionado de psicolinguistica computacional.\\n\\n\\n== Aplicacoes principais ==\\nA listagem a seguir traz alguns dos trabalhos mais pesquisadas em PLN. Note que alguns deles tem aplicacoes no mundo real, enquanto outras servem mais frequentemente como tarefas secundarias que sao usadas para auxiliar na resolucao de tarefas maiores. O que distingue essas tarefas de outras tarefas potenciais e reais de PLN nao e apenas o volume de pesquisa dedicado a elas, mas o fato de que para cada uma ha tipicamente uma definicao de problema bem especificada, uma metrica padrao para avaliar a tarefa, corpora padrao em que a tarefa pode ser avaliada e as competicoes dedicadas a tarefa especifica.\\nSumarizacao automatica\\n\\nProduz um resumo legivel de uma parte do texto. Muitas vezes usado para fornecer resumos de texto de um tipo conhecido, como artigos na secao financeira de um jornal.Resolucao de correferencia\\n\\nDada uma frase ou um pedaco maior de texto, determina quais palavras (\"mencoes\") se referem aos mesmos objetos (\"entidades\"). A resolucao da anafora e um exemplo especifico dessa tarefa e esta especificamente preocupada em combinar os pronomes com os substantivos ou nomes aos quais eles se referem. A tarefa mais geral da resolucao de correferencia tambem inclui a identificacao dos chamados \"relacionamentos de ponte\" envolvendo expressoes de referencia. Por exemplo, numa frase como \"Ele entrou na casa de Joao pela porta da frente\", \"a porta da frente\" e uma expressao de referencia e a relacao da ponte a ser identificada e o fato de que a porta a ser referida e a porta da frente de John\\'s (ao inves de alguma outra estrutura que tambem pode ser referida).Analise do Discurso\\n\\nEsta rubrica inclui uma serie de tarefas relacionadas. Uma tarefa e identificar a estrutura discursiva do texto conectado, isto e, a natureza das relacoes discursivas entre sentencas (por exemplo, elaboracao, explicacao, contraste). Outra possivel tarefa e reconhecer e classificar os atos de fala em um pedaco de texto (por exemplo, pergunta sim-nao, pergunta de conteudo, frase, afirmacao, etc).Maquina de traducao\\n\\nTraduzir automaticamente texto de uma linguagem humana para outra. Este e uma das tarefas mais dificeis e faz parte de um tipo de problemas conhecidos como \"AI-complete\", ou seja, exigindo todos os diferentes tipos de conhecimento que os humanos possuem (gramatica, semantica, fatos sobre o mundo real, etc) para resolve-lo adequadamente.Segmentacao morfologica\\n\\nSepara palavras em morfemas individuais e identifica classes de morfemas. A dificuldade desta tarefa depende muito da complexidade da morfologia (isto e, da estrutura das palavras) da linguagem que esta sendo considerada. O ingles possui uma morfologia bastante simples, especialmente a morfologia flexional, e portanto e possivel ignorar esta tarefa inteiramente e simplesmente modelar todas as formas possiveis de uma palavra (por exemplo, \"open, opens, opened, opening\") como palavras separadas. Em linguas como o turco ou o Meitei, uma lingua indiana fortemente aglutinada, no entanto, tal abordagem nao e possivel, uma vez que cada entrada do dicionario tem milhares de formas de palavras possiveis.Reconhecimento de entidade nomeada (NER)\\n\\nDado um fluxo de texto, determina quais sao itens no mapa de texto para nomes proprios, como pessoas ou locais e qual e o tipo de cada nome (por exemplo, pessoa, local, organizacao). Embora a capitalizacao possa ajudar a reconhecer entidades nomeadas em idiomas como o ingles, essas informacoes podem nao ajudar a determinar o tipo de entidade nomeada e, em alguns casos, saos imprecisas ou insuficientes. Por exemplo, a primeira palavra de uma frase tambem e capitalizada e as entidades nomeadas muitas vezes abrangem varias palavras, com apenas algumas delas sao capitalizadas. Alem disso, muitas outras linguagens em scripts nao-ocidentais (por exemplo, chines ou arabe) nao tem nenhuma capitalizacao e mesmo as linguas com maiusculas podem nao distinguir nomes. Por exemplo, o alemao capitaliza todos os substantivos, independentemente de se referirem a nomes, e o frances e o espanhol nao capitalizam nomes que servem como adjetivos.Geracao de lingua natural\\n\\nConverte informacoes de bancos de dados de computador ou intencoes semanticas em linguagem humana legivel.Compreensao da lingua natural\\n\\nConverte pedacos de texto em representacoes mais formais, como estruturas de logica de primeira ordem, que sao mais faceis de manipular pelos programas de computador. A compreensao da lingua natural envolve a identificacao da semantica pretendida a partir da multipla semantica possivel que pode ser derivada de uma expressao de lingua natural que geralmente toma a forma de notacao organizada de conceitos de linguagens naturais. Entretanto, introducao e criacao de linguagem metamodelo e ontologia sao eficientes solucoes empiricas. Uma formalizacao explicita da semantica de linguas naturais sem confusoes com suposicoes implicitas como closed-world assumption (CWA) versus open-world assumption ou subjetiva Sim / Nao versus objetivo Verdadeiro / Falso e esperada para a construcao de uma base de formalizacao semantica.Reconhecimento optico de caracteres (OCR)\\n\\nDada uma imagem que representa o texto impresso, determina o texto correspondente.Marcacao de classe gramatical\\n\\nDada uma sentenca, determina a classe gramatical de cada palavra. Muitas palavras, especialmente as comuns, podem servir como multiplas partes do discurso. Em ingles, por exemplo, \"book\" pode ser um substantivo (\"the book on the table\") ou verbo (\"book a flight\"); \"Set\" pode ser um substantivo, verbo ou adjetivo; E \"out\" pode ser qualquer um de pelo menos cinco diferentes partes da fala. Algumas linguas tem mais ambiguidade do que outras. As linguas com pouca morfologia flexional, como o ingles, sao particularmente propensas a tal ambiguidade. O chines e propenso a tal ambiguidade porque e uma lingua tonal durante a verbalizacao. Tal inflexao nao e facilmente transmitida atraves das entidades empregadas dentro da ortografia para transmitir o significado pretendido.Analise sintatica (Parsing)\\n\\nDetermina a arvore de analise (analise gramatical) de uma frase. A gramatica para as linguagens naturais e ambigua e frases tipicas tem multiplas analises possiveis. Na verdade, surpreendentemente, para uma frase tipica pode haver milhares de analises em potencial (a maioria dos quais parecera completamente absurda para um ser humano).Respostas a perguntas\\n\\nDada uma questao de linguagem humana, determina sua resposta. As perguntas tipicas tem uma resposta correta especifica (como \"Qual e o capital do Canada?\"), mas as vezes perguntas abertas tambem sao consideradas (como \"Qual e o significado da vida?\"). Trabalhos recentes tem analisado questoes ainda mais complexas.Extracao de relacionamento\\n\\nIdentifica as relacoes entre entidades nomeadas (por exemplo, quem e casado com quem) com base em textos.Quebra de frases (sentence boundary disambiguation)\\n\\nEncontra os limites da frase em um pedaco de texto. Os limites de frases sao normalmente marcadas por pontos ou outros sinais de pontuacao, mas esses mesmos caracteres podem servir outros propositos.Analise de subjetividade (sentiment analysis ou opinion mining)\\n\\nExtrai informacoes subjetivas geralmente de um conjunto de documentos, muitas vezes usando revisoes online para determinar a \"polaridade\" sobre objetos especificos. E especialmente util para identificar tendencias da opiniao publica nas midias sociais, para fins de marketing.Reconhecimento de fala\\n\\nDado um clipe de som de uma pessoa ou pessoas falando, determina a representacao textual do discurso. E o oposto da sintese de fala e e uma das areas mais dificeis, conhecida como \"AI-complete\". Na fala natural quase nao ha pausas entre palavras sucessivas, por isso a segmentacao de fala e uma subtarefa necessaria de reconhecimento de fala. Nota-se tambem que, na maioria das linguagens faladas, os sons que representam letras sucessivas se misturam entre si em um processo denominado coarticulacao, de modo que a conversao do sinal analogico em caracteres discretos pode ser um processo muito dificil de ser realizado.Segmentacao de fala\\n\\nDado um clipe de som de uma pessoa ou pessoas falando, separa-o em palavras. Uma subaplicacao de reconhecimento de fala e normalmente agrupada com ele.Analise morfologica e reconhecimento de topicos\\n\\nDado um pedaco de texto, separa-o em segmentos cada um dos quais e dedicado a um topico e identifica o topico do segmento.Analise morfologica e segmentacao de palavras\\n\\nSepara um pedaco de texto continuo em palavras separadas. Para uma lingua como o ingles, isso e bastante trivial, uma vez que as palavras sao normalmente separadas por espacos. No entanto, algumas linguas escritas como chines, japones e tailandes nao marcam limites de palavras de tal forma, e nessas linguas segmentacao de texto e uma tarefa significativa que requer conhecimento do vocabulario e morfologia das palavras na lingua.Desambiguacao\\n\\nMuitas palavras tem mais de um significado, assim temos que selecionar o significado que faz mais sentido no contexto. Para este problema, em geral e dada uma lista de palavras e sentidos de palavras associadas de um dicionario ou recurso online, como o WordNet.\\nEm alguns casos, conjuntos de tarefas relacionadas sao agrupados em subcampos de PLN que sao frequentemente considerados separadamente da PLN como um todo, como os exemplos a seguir:Recuperacao de informacao (IR)\\n\\nTrata-se de armazenar, pesquisar e recuperar informacoes. E um campo separado dentro da ciencia da computacao (mais perto de bancos de dados), mas a IR se baseia em alguns metodos PLN (por exemplo, stemming). Algumas pesquisas e aplicacoes atuais procuram preencher a lacuna entre IR e PLN.Extracao de informacao (IE)\\n\\nTrata-se, em geral, da extracao de informacao semantica a partir do texto. Abrange tarefas como reconhecimento de entidade mencionada, resolucao de correferencia e de relacionamento de extracao, etc.\\nProcessamento de voz  Abrange reconhecimento de fala, sintese de fala e tarefas relacionadas.\\nOutras tarefas incluem:\\nIdentificacao na lingua materna\\nStemizacao\\nSimplificacao do texto\\nSintese de fala\\nRevisao de texto\\nPesquisa em lingua natural\\nExpansao da consulta\\nPontuacao de ensaio automatizado\\nTruecasing\\n\\n\\n== Estatistica ==\\nArtigo principal: Gramatica estocastica\\nO processamento estatistico em lingua natural utiliza metodos estocasticos, probabilisticos e estatisticos para resolver algumas das dificuldades discutidas acima, especialmente aquelas que surgem porque frases mais longas sao muito ambiguas quando processadas com gramaticas realistas, produzindo milhares ou milhoes de analises possiveis. Metodos de desambiguacao envolvem muitas vezes o uso de corpora e modelos de Markov. O projeto ESPRIT P26 (1984-1988), liderado pelo CSELT, explorou o problema do reconhecimento de fala comparando abordagem baseada em conhecimento e estatistica: o resultado escolhido foi um modelo completamente estatistico. Um dos primeiros modelos de compreensao estatistica da lingua natural foi introduzido em 1991 por Roberto Pieraccini, Esther Levin e Chin-Hui Lee, da Bell Laboratories]. O PLN compreende todas as abordagens quantitativas para processamento automatizado de linguagem, incluindo modelagem probabilistica, teoria da informacao e algebra linear. A tecnologia para o PLN estatistico vem principalmente da aprendizagem automatica e da mineracao de dados, que sao campos de inteligencia artificial que envolvem o aprendizado a partir de dados.\\n\\n\\n== Avaliacao ==\\nO objetivo da avaliacao do PLN e uma medida de uma ou mais qualidades de um algoritmo ou de um sistema a fim de determinar se o algoritmo atende as metas dos projetistas ou o sistema de atendimento as necessidades de seus usuarios. Investigacao na avaliacao PLN  tem ganhado atencao, porque a definicao de criterios de avaliacao e uma forma de especificar precisamente problemas do PLN. Uma metrica de avaliacao de PLN em um sistema algoritmico permite a integracao da compreensao de linguagem e geracao de linguagem. Um conjunto preciso de criterios de avaliacao, que pode ser aplicado principalmente a avaliacoes metricas, podendo permitir que varias equipes comparem suas solucoes para um determinado problema do PLN.\\n\\n\\n== Cronologia da avaliacao ==\\nEm 1983, iniciou-se o Projecto Esprit P26, que avaliou as Tecnologias da Fala (incluindo topicos gerais como Sintaxe e Semantica) comparando as abordagens baseadas em regras com as estatisticas.\\nEm 1987, a primeira campanha de avaliacao de textos escritos parece ser uma campanha dedicada a compreensao da mensagem (Pallet, 1998).\\nO projeto Parseval / GEIG comparou gramaticas de frase-estrutura (Black 1991).\\nHouve uma serie de campanhas no projeto Tipster sobre tarefas como resumo, traducao e pesquisa (Hirschman 1998).\\nEm 1994, na Alemanha, o Morpholympics comparou marcadores morfologicos alemaes.\\nAs campanhas de Senseval & Romanseval foram realizadas com os objetivos de desambiguacao semantica.\\nEm 1996, a campanha Sparkle comparou os analisadores sintaticos em quatro idiomas diferentes (ingles, frances, alemao e italiano).\\nNa Franca, o projeto Grace comparou um conjunto de 21 marcadores para o frances em 1997 (Adda 1999).\\nEm 2004, durante o projeto Technolangue / Easy, foram comparados 13 analisadores para o frances.\\nA avaliacao em larga escala dos analisadores de dependencia foi realizada no contexto das tarefas compartilhadas do CoNLL em 2006 e 2007.\\nNa Franca, no ambito do projecto ANR-Passage (final de 2007), foram comparados 10 analisadores para o frances.\\nEm Italia, a campanha EVALITA foi realizada em 2007, 2009, 2011 e 2014 para comparar varias ferramentas de PLN e de voz para o site italiano - EVALITA.\\n\\n\\n== Diferentes tipos de avaliacao ==\\nAvaliacao intrinseca vs. extrinseca\\nA avaliacao intrinseca considera um sistema PNL isolado e caracteriza seu desempenho em relacao a um resultado padrao-excelencia, conforme definido pelos avaliadores. A avaliacao extrinseca, tambem chamada de avaliacao em uso, considera o sistema PLN em um cenario mais complexo como um sistema embutido ou uma funcao precisa para um usuario humano. O desempenho extrinseco do sistema e entao caracterizado em termos de utilidade em relacao a tarefa global do sistema estranho ou do utilizador humano. Por exemplo, considere um analisador sintatico que e baseado na saida de alguma parte do tagger de fala (POS). Uma avaliacao intrinseca executaria o marcador POS em dados estruturados e compararia a saida do sistema do marcador POS com a saida padrao ouro. Uma avaliacao extrinseca executaria o analisador com algum outro marcador POS e, em seguida, com o marcador POS novo e compara a precisao de analise.\\nCaixa preta vs. Avaliacao da caixa de vidro\\nA avaliacao em caixa preta requer que alguem execute um sistema PLN em um conjunto de dados de amostra e para medir uma serie de parametros relacionados com a qualidade do processo, como velocidade, confiabilidade, consumo de recursos e, principalmente, a qualidade do resultado, como a precisao da anotacao de dados ou a fidelidade de uma traducao. A avaliacao da caixa de vidro examina a concepcao do sistema; Os algoritmos que sao implementados, os recursos linguisticos que utiliza, como o tamanho do vocabulario ou a expressao definida de cardinalidade. Dada a complexidade dos problemas da PLN, muitas vezes e dificil prever o desempenho apenas com base na avaliacao da caixa de vidro; Mas este tipo de avaliacao e mais informativo no que diz respeito a analise de erros ou desenvolvimentos futuros de um sistema.\\nAutomatica vs. avaliacao manual\\nEm muitos casos, procedimentos automaticos podem ser definidos para avaliar um sistema de PLN, comparando sua saida com o padrao de excelencia. Embora o custo de reproduzir o padrao de excelencia possa ser bastante elevado, avaliacao automatica de bootstrapping sobre os mesmos dados de entrada pode ser repetida quantas vezes for necessario sem custos adicionais desordenados. No entanto, para muitos problemas de PLN a definicao precisa de um padrao de excelencia e uma tarefa complexa e pode se revelar impossivel quando o acordo inter-anotador e insuficiente. A avaliacao manual e melhor realizada por juizes humanos instruidos para estimar a qualidade de um sistema, ou mais frequentemente de uma amostra de sua producao, com base em uma serie de criterios. Embora, gracas a sua competencia linguistica, os juizes humanos possam ser considerados como a referencia para uma serie de tarefas de processamento de linguagem, ha tambem uma variacao consideravel em suas classificacoes. E por isso que a avaliacao automatica e, por vezes, referida como avaliacao objetiva enquanto a avaliacao humana e perspectiva.\\n\\n\\n== Padronizacao ==\\nUm subcomite ISO esta trabalhando para facilitar a interoperabilidade entre recursos lexicais e programas PLN. O subcomite faz parte do ISO / TC37 e e chamado ISO / TC37 / SC4. Alguns padroes ISO ja estao publicados, mas a maioria deles esta em construcao, principalmente na representacao de lexico (ver LMF), anotacao e registro de categoria de dados.\\n\\n\\n== Ferramentas ==\\nExpert System S.p.A.\\nGeneral Architecture for Text Engineering\\nModular Audio Recognition Framework\\nNatural Language Toolkit (NLTK): uma biblioteca em Python\\nOpenNLP\\n\\n\\n== Veja tambem ==\\nMineracao de texto biomedica\\nProcesso de processamento composto\\nRevisao assistida por computador\\nLinguagem natural controlada\\nProcessamento linguistico profundo\\nAuxilio a leitura de linguas estrangeiras\\nAuxilio a escrita em lingua estrangeira\\nTecnologia da linguagem\\nA alocacao de Dirichlet Latente (LDA)\\nIndexacao semantica latente\\nLista de ferramentas de processamento de lingua natural\\nMapa de LRE\\nProgramacao em lingua natural\\nReificacao (linguistica)\\nDobradura semantica\\nSistema de dialogo falado\\nVetor do Pensamento\\nPesquisa Transderivacional\\nWord2vec\\n\\n\\n== Referencias ==\\n\\n\\n== Leitura adicional ==\\nSteven Bird, Ewan Klein, and Edward Loper (2009). Natural Language Processing with Python. O\\'Reilly Media. ISBN 978-0-596-51649-9.\\nDaniel Jurafsky and James H. Martin (2008). Speech and Language Processing, 2nd edition. Pearson Prentice Hall. ISBN 978-0-13-187321-6.\\nChristopher D. Manning, Prabhakar Raghavan, and Hinrich Schutze (2008). Introduction to Information Retrieval. Cambridge University Press. ISBN 978-0-521-86571-5. Official html and pdf versions available without charge.\\nChristopher D. Manning and Hinrich Schutze (1999). Foundations of Statistical Natural Language Processing. The MIT Press. ISBN 978-0-262-13360-9.\\nDavid M. W. Powers and Christopher C. R. Turk (1989). Machine Learning of Natural Language. Springer-Verlag. ISBN 978-0-387-19557-5.'"
            ]
          },
          "metadata": {
            "tags": []
          },
          "execution_count": 45
        }
      ]
    },
    {
      "cell_type": "markdown",
      "metadata": {
        "id": "6JSXgTlKE2Wx"
      },
      "source": [
        "###  10. Plote a frequência dos tokens sem acentos. Utilize o método plot_frequencia_tokens() para plotar o gráfico. Também imprima o tamanho desta lista."
      ]
    },
    {
      "cell_type": "code",
      "metadata": {
        "id": "j84n6i64WjrO",
        "outputId": "02eb22d0-3cc3-48d9-96f5-904aa9bea24b"
      },
      "source": [
        "type(tokens_sem_acentos)"
      ],
      "execution_count": null,
      "outputs": [
        {
          "output_type": "execute_result",
          "data": {
            "text/plain": [
              "str"
            ]
          },
          "metadata": {
            "tags": []
          },
          "execution_count": 88
        }
      ]
    },
    {
      "cell_type": "code",
      "metadata": {
        "id": "owaL2wn8E2Wx",
        "outputId": "5d09ed81-efb3-499e-9df6-50f26b7f3921"
      },
      "source": [
        "#tokens_sem_acentos\n",
        "plot_frequencia_tokens(tokens_sem_acentos)\n",
        "print('Token size is: ',len(tokens_sem_acentos))"
      ],
      "execution_count": null,
      "outputs": [
        {
          "output_type": "display_data",
          "data": {
            "image/png": "[encoded data removed]",
            "text/plain": [
              "<Figure size 432x288 with 1 Axes>"
            ]
          },
          "metadata": {
            "tags": [],
            "needs_background": "light"
          }
        },
        {
          "output_type": "stream",
          "text": [
            "Token size is:  28073\n"
          ],
          "name": "stdout"
        }
      ]
    },
    {
      "cell_type": "markdown",
      "metadata": {
        "id": "y8uiiVyKE2W2"
      },
      "source": [
        "## Stemming\n",
        "\n",
        "Iremos utilizar o stemming da biblioteca NLTK. O algoritmo disponível para este procedimento em portugês é o RSLPStemmer.\n",
        "\n",
        "```python\n",
        "stemmer = nltk.stem.RSLPStemmer()\n",
        "#para cada token:\n",
        "stemmer.stem(token)\n",
        "```\n",
        "\n",
        "11. Aplique o stemmer em cada elemento da lista de tokens.\n"
      ]
    },
    {
      "cell_type": "code",
      "metadata": {
        "id": "ejHKSTOhE2W2"
      },
      "source": [
        "stemmer = nltk.stem.RSLPStemmer()"
      ],
      "execution_count": null,
      "outputs": []
    },
    {
      "cell_type": "code",
      "metadata": {
        "id": "Tjg7H_zTWjrW",
        "outputId": "39ffc821-0471-423a-eb21-14ef5e55f7cb"
      },
      "source": [
        "tokens_stemmer = [stemmer.stem(t) for t in tokens_regex]\n",
        "tokens_stemmer"
      ],
      "execution_count": null,
      "outputs": [
        {
          "output_type": "execute_result",
          "data": {
            "text/plain": [
              "['process',\n",
              " 'de',\n",
              " 'língu',\n",
              " 'natur',\n",
              " '(',\n",
              " 'pln',\n",
              " ')',\n",
              " 'é',\n",
              " 'uma',\n",
              " 'subáre',\n",
              " 'da',\n",
              " 'ciênc',\n",
              " 'da',\n",
              " 'comput',\n",
              " ',',\n",
              " 'intelig',\n",
              " 'artific',\n",
              " 'e',\n",
              " 'da',\n",
              " 'linguís',\n",
              " 'que',\n",
              " 'estud',\n",
              " 'os',\n",
              " 'problem',\n",
              " 'da',\n",
              " 'ger',\n",
              " 'e',\n",
              " 'compreens',\n",
              " 'automá',\n",
              " 'de',\n",
              " 'língu',\n",
              " 'human',\n",
              " 'natur',\n",
              " '.',\n",
              " 'sistem',\n",
              " 'de',\n",
              " 'ger',\n",
              " 'de',\n",
              " 'língu',\n",
              " 'natur',\n",
              " 'convert',\n",
              " 'inform',\n",
              " 'de',\n",
              " 'banc',\n",
              " 'de',\n",
              " 'dad',\n",
              " 'de',\n",
              " 'comput',\n",
              " 'em',\n",
              " 'lingu',\n",
              " 'compreens',\n",
              " 'ao',\n",
              " 'ser',\n",
              " 'human',\n",
              " 'e',\n",
              " 'sistem',\n",
              " 'de',\n",
              " 'compreens',\n",
              " 'de',\n",
              " 'língu',\n",
              " 'natur',\n",
              " 'convert',\n",
              " 'ocorr',\n",
              " 'de',\n",
              " 'lingu',\n",
              " 'human',\n",
              " 'em',\n",
              " 'represent',\n",
              " 'mais',\n",
              " 'formal',\n",
              " ',',\n",
              " 'mais',\n",
              " 'facil',\n",
              " 'manipul',\n",
              " 'por',\n",
              " 'program',\n",
              " 'de',\n",
              " 'comput',\n",
              " '.',\n",
              " 'algum',\n",
              " 'desafi',\n",
              " 'do',\n",
              " 'pln',\n",
              " 'são',\n",
              " 'compreens',\n",
              " 'de',\n",
              " 'língu',\n",
              " 'natur',\n",
              " ',',\n",
              " 'faz',\n",
              " 'com',\n",
              " 'que',\n",
              " 'comput',\n",
              " 'extra',\n",
              " 'sent',\n",
              " 'de',\n",
              " 'lingu',\n",
              " 'human',\n",
              " 'ou',\n",
              " 'natur',\n",
              " 'e',\n",
              " 'ger',\n",
              " 'de',\n",
              " 'língu',\n",
              " 'natur',\n",
              " '.',\n",
              " '=',\n",
              " '=',\n",
              " 'histór',\n",
              " '=',\n",
              " '=',\n",
              " 'a',\n",
              " 'histór',\n",
              " 'do',\n",
              " 'pln',\n",
              " 'começ',\n",
              " 'na',\n",
              " 'déc',\n",
              " 'de',\n",
              " '1950',\n",
              " ',',\n",
              " 'qu',\n",
              " 'alan',\n",
              " 'turing',\n",
              " 'public',\n",
              " 'o',\n",
              " 'artig',\n",
              " '\"',\n",
              " 'computing',\n",
              " 'machinery',\n",
              " 'and',\n",
              " 'intelligenc',\n",
              " '\"',\n",
              " ',',\n",
              " 'que',\n",
              " 'propunh',\n",
              " 'o',\n",
              " 'que',\n",
              " 'agor',\n",
              " 'é',\n",
              " 'cham',\n",
              " 'de',\n",
              " 'test',\n",
              " 'de',\n",
              " 'turing',\n",
              " 'com',\n",
              " 'critéri',\n",
              " 'de',\n",
              " 'intelig',\n",
              " '.',\n",
              " 'em',\n",
              " '1954',\n",
              " ',',\n",
              " 'a',\n",
              " 'experi',\n",
              " 'de',\n",
              " 'georgetown',\n",
              " 'envolv',\n",
              " 'a',\n",
              " 'traduç',\n",
              " 'automá',\n",
              " 'de',\n",
              " 'mais',\n",
              " 'de',\n",
              " 'sessent',\n",
              " 'fras',\n",
              " 'russ',\n",
              " 'par',\n",
              " 'o',\n",
              " 'ingl',\n",
              " '.',\n",
              " 'os',\n",
              " 'autor',\n",
              " 'afirm',\n",
              " 'que',\n",
              " 'dentr',\n",
              " 'de',\n",
              " 'trê',\n",
              " 'ou',\n",
              " 'cinc',\n",
              " 'ano',\n",
              " 'a',\n",
              " 'traduç',\n",
              " 'automá',\n",
              " 'ser',\n",
              " 'um',\n",
              " 'problem',\n",
              " 'resolv',\n",
              " '.',\n",
              " 'no',\n",
              " 'entant',\n",
              " ',',\n",
              " 'os',\n",
              " 'avanç',\n",
              " 'real',\n",
              " 'for',\n",
              " 'muit',\n",
              " 'mais',\n",
              " 'lent',\n",
              " 'do',\n",
              " 'que',\n",
              " 'o',\n",
              " 'previst',\n",
              " 'e',\n",
              " ',',\n",
              " 'após',\n",
              " 'o',\n",
              " 'relatóri',\n",
              " 'alpac',\n",
              " 'em',\n",
              " '1966',\n",
              " ',',\n",
              " 'que',\n",
              " 'constat',\n",
              " 'que',\n",
              " 'a',\n",
              " 'pesquis',\n",
              " 'de',\n",
              " 'dez',\n",
              " 'ano',\n",
              " 'não',\n",
              " 'consegu',\n",
              " 'satisfaz',\n",
              " 'as',\n",
              " 'expect',\n",
              " ',',\n",
              " 'o',\n",
              " 'financ',\n",
              " 'par',\n",
              " 'est',\n",
              " 'estud',\n",
              " 'em',\n",
              " 'traduç',\n",
              " 'automá',\n",
              " 'foi',\n",
              " 'reduz',\n",
              " 'drastic',\n",
              " '.',\n",
              " 'pouc',\n",
              " 'pesquis',\n",
              " 'em',\n",
              " 'traduç',\n",
              " 'automá',\n",
              " 'for',\n",
              " 'conduz',\n",
              " 'até',\n",
              " 'o',\n",
              " 'final',\n",
              " 'do',\n",
              " 'ano',\n",
              " '80',\n",
              " ',',\n",
              " 'qu',\n",
              " 'os',\n",
              " 'prim',\n",
              " 'sistem',\n",
              " 'estatís',\n",
              " 'de',\n",
              " 'traduç',\n",
              " 'for',\n",
              " 'desenvolv',\n",
              " '.',\n",
              " 'algum',\n",
              " 'sistem',\n",
              " 'de',\n",
              " 'pln',\n",
              " 'bem',\n",
              " 'suced',\n",
              " 'desenvolv',\n",
              " 'no',\n",
              " 'ano',\n",
              " '60',\n",
              " 'for',\n",
              " 'shrdlu',\n",
              " ',',\n",
              " 'um',\n",
              " 'sistem',\n",
              " 'de',\n",
              " 'língu',\n",
              " 'natur',\n",
              " 'que',\n",
              " 'trabalh',\n",
              " 'em',\n",
              " '\"',\n",
              " 'block',\n",
              " 'world',\n",
              " '\"',\n",
              " 'com',\n",
              " 'vocabul',\n",
              " 'restrit',\n",
              " 'e',\n",
              " 'eliz',\n",
              " ',',\n",
              " 'uma',\n",
              " 'simul',\n",
              " 'de',\n",
              " 'um',\n",
              " 'psicoterapeut',\n",
              " 'escrit',\n",
              " 'por',\n",
              " 'joseph',\n",
              " 'weizenbaum',\n",
              " 'entr',\n",
              " '1964',\n",
              " 'e',\n",
              " '1966',\n",
              " '.',\n",
              " 'us',\n",
              " 'pouc',\n",
              " 'inform',\n",
              " 'sobr',\n",
              " 'o',\n",
              " 'pens',\n",
              " 'ou',\n",
              " 'a',\n",
              " 'emoç',\n",
              " 'human',\n",
              " ',',\n",
              " 'eliz',\n",
              " 'cri',\n",
              " ',',\n",
              " 'em',\n",
              " 'algum',\n",
              " 'cas',\n",
              " ',',\n",
              " 'inter',\n",
              " 'surpreend',\n",
              " 'human',\n",
              " '.',\n",
              " 'qu',\n",
              " 'o',\n",
              " '\"',\n",
              " 'paci',\n",
              " '\"',\n",
              " 'exced',\n",
              " 'a',\n",
              " 'bas',\n",
              " 'de',\n",
              " 'conhec',\n",
              " 'do',\n",
              " 'program',\n",
              " ',',\n",
              " 'eliz',\n",
              " 'fornec',\n",
              " 'uma',\n",
              " 'respost',\n",
              " 'genér',\n",
              " ',',\n",
              " 'por',\n",
              " 'exempl',\n",
              " ',',\n",
              " 'respond',\n",
              " 'a',\n",
              " '\"',\n",
              " 'minh',\n",
              " 'cabeç',\n",
              " 'dói',\n",
              " '\"',\n",
              " 'com',\n",
              " '\"',\n",
              " 'por',\n",
              " 'que',\n",
              " 'voc',\n",
              " 'diz',\n",
              " 'que',\n",
              " 'sua',\n",
              " 'cabeç',\n",
              " 'dói',\n",
              " '?',\n",
              " '\"',\n",
              " '.',\n",
              " 'dur',\n",
              " 'a',\n",
              " 'déc',\n",
              " 'de',\n",
              " '1970',\n",
              " ',',\n",
              " 'muit',\n",
              " 'program',\n",
              " 'começ',\n",
              " 'a',\n",
              " 'escrev',\n",
              " '\"',\n",
              " 'ontolog',\n",
              " 'conceit',\n",
              " '\"',\n",
              " ',',\n",
              " 'que',\n",
              " 'estrutur',\n",
              " 'a',\n",
              " 'inform',\n",
              " 'do',\n",
              " 'mund',\n",
              " 'real',\n",
              " 'em',\n",
              " 'dad',\n",
              " 'compreens',\n",
              " 'por',\n",
              " 'comput',\n",
              " '.',\n",
              " 'exempl',\n",
              " 'são',\n",
              " 'margi',\n",
              " '(',\n",
              " 'schank',\n",
              " ',',\n",
              " '1975',\n",
              " ')',\n",
              " ',',\n",
              " 'sam',\n",
              " '(',\n",
              " 'cullingford',\n",
              " ',',\n",
              " '1978',\n",
              " ')',\n",
              " ',',\n",
              " 'pam',\n",
              " '(',\n",
              " 'wilensky',\n",
              " ',',\n",
              " '1978',\n",
              " ')',\n",
              " ',',\n",
              " 'talespin',\n",
              " '(',\n",
              " 'meehan',\n",
              " ',',\n",
              " '1976',\n",
              " ')',\n",
              " ',',\n",
              " 'qualm',\n",
              " '(',\n",
              " 'lehnert',\n",
              " ',',\n",
              " '1977',\n",
              " ')',\n",
              " ',',\n",
              " 'politic',\n",
              " '(',\n",
              " 'carbonell',\n",
              " ',',\n",
              " '1979',\n",
              " ')',\n",
              " 'e',\n",
              " 'plot',\n",
              " 'unit',\n",
              " '(',\n",
              " 'lehnert',\n",
              " ',',\n",
              " '1981',\n",
              " ')',\n",
              " '.',\n",
              " 'nest',\n",
              " 'períod',\n",
              " ',',\n",
              " 'muit',\n",
              " 'chatterbot',\n",
              " 'for',\n",
              " 'escrit',\n",
              " ',',\n",
              " 'com',\n",
              " 'parry',\n",
              " ',',\n",
              " 'ract',\n",
              " 'e',\n",
              " 'jabberwacky',\n",
              " '.',\n",
              " 'até',\n",
              " 'a',\n",
              " 'déc',\n",
              " 'de',\n",
              " '1980',\n",
              " ',',\n",
              " 'a',\n",
              " 'maior',\n",
              " 'do',\n",
              " 'sistem',\n",
              " 'de',\n",
              " 'pln',\n",
              " 'se',\n",
              " 'base',\n",
              " 'em',\n",
              " 'conjunt',\n",
              " 'complex',\n",
              " 'de',\n",
              " 'regr',\n",
              " 'manuscrit',\n",
              " '.',\n",
              " 'a',\n",
              " 'part',\n",
              " 'do',\n",
              " 'final',\n",
              " 'do',\n",
              " 'ano',\n",
              " '1980',\n",
              " ',',\n",
              " 'no',\n",
              " 'entant',\n",
              " ',',\n",
              " 'houv',\n",
              " 'uma',\n",
              " 'revoluç',\n",
              " 'no',\n",
              " 'pln',\n",
              " 'com',\n",
              " 'a',\n",
              " 'introduç',\n",
              " 'de',\n",
              " 'algoritm',\n",
              " 'de',\n",
              " 'aprendiz',\n",
              " 'automá',\n",
              " '(',\n",
              " 'aprend',\n",
              " 'de',\n",
              " 'máquin',\n",
              " ')',\n",
              " 'par',\n",
              " 'o',\n",
              " 'process',\n",
              " 'de',\n",
              " 'lingu',\n",
              " '.',\n",
              " 'ist',\n",
              " 'foi',\n",
              " 'dev',\n",
              " 'tant',\n",
              " 'ao',\n",
              " 'aument',\n",
              " 'const',\n",
              " 'do',\n",
              " 'pod',\n",
              " 'computac',\n",
              " '(',\n",
              " 'ver',\n",
              " 'lei',\n",
              " 'de',\n",
              " 'moor',\n",
              " ')',\n",
              " 'quant',\n",
              " 'à',\n",
              " 'diminu',\n",
              " 'grad',\n",
              " 'da',\n",
              " 'domin',\n",
              " 'da',\n",
              " 'teor',\n",
              " 'da',\n",
              " 'linguís',\n",
              " 'chomsky',\n",
              " '(',\n",
              " 'com',\n",
              " 'a',\n",
              " 'gramá',\n",
              " 'gera',\n",
              " ')',\n",
              " ',',\n",
              " 'cuj',\n",
              " 'fundament',\n",
              " 'teór',\n",
              " 'desestimul',\n",
              " 'o',\n",
              " 'tip',\n",
              " 'de',\n",
              " 'corpu',\n",
              " 'linguís',\n",
              " 'que',\n",
              " 'est',\n",
              " 'subjac',\n",
              " 'à',\n",
              " 'abord',\n",
              " 'da',\n",
              " 'aprendiz',\n",
              " 'automá',\n",
              " 'ao',\n",
              " 'process',\n",
              " 'da',\n",
              " 'lingu',\n",
              " '.',\n",
              " 'algum',\n",
              " 'do',\n",
              " 'algoritm',\n",
              " 'de',\n",
              " 'aprend',\n",
              " 'de',\n",
              " 'máquin',\n",
              " 'mais',\n",
              " 'antig',\n",
              " ',',\n",
              " 'com',\n",
              " 'as',\n",
              " 'árvor',\n",
              " 'de',\n",
              " 'decis',\n",
              " ',',\n",
              " 'produz',\n",
              " 'sistem',\n",
              " 'de',\n",
              " 'regr',\n",
              " 'ríg',\n",
              " 'ent',\n",
              " 'semelh',\n",
              " 'às',\n",
              " 'regr',\n",
              " 'exist',\n",
              " 'na',\n",
              " 'escrit',\n",
              " 'à',\n",
              " 'mão',\n",
              " '.',\n",
              " 'no',\n",
              " 'entant',\n",
              " ',',\n",
              " 'a',\n",
              " 'marc',\n",
              " 'de',\n",
              " 'part',\n",
              " 'da',\n",
              " 'fal',\n",
              " '(',\n",
              " 'part',\n",
              " '-',\n",
              " 'of',\n",
              " '-',\n",
              " 'speech',\n",
              " 'tagging',\n",
              " ')',\n",
              " 'introduz',\n",
              " 'o',\n",
              " 'uso',\n",
              " 'de',\n",
              " 'model',\n",
              " 'ocult',\n",
              " 'de',\n",
              " 'markov',\n",
              " 'par',\n",
              " 'o',\n",
              " 'pln',\n",
              " 'e',\n",
              " ',',\n",
              " 'cad',\n",
              " 'vez',\n",
              " 'mais',\n",
              " ',',\n",
              " 'a',\n",
              " 'pesquis',\n",
              " 'se',\n",
              " 'concentr',\n",
              " 'em',\n",
              " 'model',\n",
              " 'estatís',\n",
              " ',',\n",
              " 'que',\n",
              " 'tom',\n",
              " 'decis',\n",
              " 'suav',\n",
              " 'e',\n",
              " 'probabilís',\n",
              " 'base',\n",
              " 'na',\n",
              " 'atribu',\n",
              " 'de',\n",
              " 'pes',\n",
              " 'real',\n",
              " 'ao',\n",
              " 'recurs',\n",
              " 'que',\n",
              " 'compõ',\n",
              " 'dad',\n",
              " 'de',\n",
              " 'entr',\n",
              " '.',\n",
              " 'os',\n",
              " 'model',\n",
              " 'de',\n",
              " 'lingu',\n",
              " 'de',\n",
              " 'cach',\n",
              " ',',\n",
              " 'sobr',\n",
              " 'os',\n",
              " 'qual',\n",
              " 'muit',\n",
              " 'sistem',\n",
              " 'de',\n",
              " 'reconhec',\n",
              " 'de',\n",
              " 'fal',\n",
              " 'agor',\n",
              " 'depend',\n",
              " ',',\n",
              " 'são',\n",
              " 'exempl',\n",
              " 'de',\n",
              " 'tal',\n",
              " 'model',\n",
              " 'estatís',\n",
              " '.',\n",
              " 'ess',\n",
              " 'model',\n",
              " 'são',\n",
              " 'geral',\n",
              " 'mais',\n",
              " 'robust',\n",
              " 'qu',\n",
              " 'dad',\n",
              " 'inform',\n",
              " 'desconhec',\n",
              " ',',\n",
              " 'espec',\n",
              " 'entr',\n",
              " 'que',\n",
              " 'contém',\n",
              " 'err',\n",
              " '(',\n",
              " 'com',\n",
              " 'é',\n",
              " 'muit',\n",
              " 'comum',\n",
              " 'par',\n",
              " 'dad',\n",
              " 'do',\n",
              " 'mund',\n",
              " 'real',\n",
              " ')',\n",
              " 'e',\n",
              " 'produz',\n",
              " 'result',\n",
              " 'mais',\n",
              " 'confi',\n",
              " 'qu',\n",
              " 'integr',\n",
              " 'em',\n",
              " 'sistem',\n",
              " 'mai',\n",
              " 'que',\n",
              " 'compreend',\n",
              " 'múltipl',\n",
              " 'taref',\n",
              " '.',\n",
              " 'muit',\n",
              " 'do',\n",
              " 'sucess',\n",
              " 'inic',\n",
              " 'not',\n",
              " 'ocorr',\n",
              " 'no',\n",
              " 'camp',\n",
              " 'da',\n",
              " 'traduç',\n",
              " 'automá',\n",
              " ',',\n",
              " 'dev',\n",
              " 'espec',\n",
              " 'ao',\n",
              " 'trabalh',\n",
              " 'de',\n",
              " 'pesquis',\n",
              " 'da',\n",
              " 'ibm',\n",
              " ',',\n",
              " 'que',\n",
              " 'desenvolv',\n",
              " 'model',\n",
              " 'estatís',\n",
              " 'mais',\n",
              " 'elabor',\n",
              " '.',\n",
              " 'est',\n",
              " 'sistem',\n",
              " 'for',\n",
              " 'capaz',\n",
              " 'de',\n",
              " 'tir',\n",
              " 'proveit',\n",
              " 'de',\n",
              " 'corp',\n",
              " 'text',\n",
              " 'multilíng',\n",
              " 'exist',\n",
              " 'produz',\n",
              " 'pel',\n",
              " 'parl',\n",
              " 'do',\n",
              " 'canad',\n",
              " 'e',\n",
              " 'a',\n",
              " 'uni',\n",
              " 'europe',\n",
              " 'com',\n",
              " 'result',\n",
              " 'de',\n",
              " 'lei',\n",
              " 'que',\n",
              " 'exig',\n",
              " 'a',\n",
              " 'traduç',\n",
              " 'de',\n",
              " 'tod',\n",
              " 'os',\n",
              " 'process',\n",
              " 'governament',\n",
              " 'em',\n",
              " 'tod',\n",
              " 'as',\n",
              " 'língu',\n",
              " 'ofic',\n",
              " 'do',\n",
              " 'país',\n",
              " '.',\n",
              " 'no',\n",
              " 'entant',\n",
              " ',',\n",
              " 'a',\n",
              " 'maior',\n",
              " 'do',\n",
              " 'sistem',\n",
              " 'depend',\n",
              " 'de',\n",
              " 'corp',\n",
              " 'desenvolv',\n",
              " 'especific',\n",
              " 'par',\n",
              " 'taref',\n",
              " 'implement',\n",
              " 'por',\n",
              " 'ess',\n",
              " 'sistem',\n",
              " ',',\n",
              " 'o',\n",
              " 'que',\n",
              " 'era',\n",
              " '(',\n",
              " 'e',\n",
              " 'muit',\n",
              " 'vez',\n",
              " 'continu',\n",
              " 'send',\n",
              " ')',\n",
              " 'uma',\n",
              " 'grand',\n",
              " 'limit',\n",
              " 'no',\n",
              " 'sucess',\n",
              " 'do',\n",
              " 'mesm',\n",
              " '.',\n",
              " 'com',\n",
              " 'result',\n",
              " ',',\n",
              " 'uma',\n",
              " 'grand',\n",
              " 'quant',\n",
              " 'de',\n",
              " 'pesquis',\n",
              " 'pass',\n",
              " 'de',\n",
              " 'quant',\n",
              " 'de',\n",
              " 'dad',\n",
              " 'limit',\n",
              " 'a',\n",
              " 'métod',\n",
              " 'de',\n",
              " 'aprendiz',\n",
              " 'mais',\n",
              " 'eficaz',\n",
              " '.',\n",
              " 'pesquis',\n",
              " 'recent',\n",
              " 'têm',\n",
              " 'se',\n",
              " 'concentr',\n",
              " 'cad',\n",
              " 'vez',\n",
              " 'mais',\n",
              " 'em',\n",
              " 'algoritm',\n",
              " 'de',\n",
              " 'aprendiz',\n",
              " 'sem',\n",
              " '-',\n",
              " 'supervision',\n",
              " 'e',\n",
              " 'sem',\n",
              " 'supervis',\n",
              " '.',\n",
              " 'ess',\n",
              " 'algoritm',\n",
              " 'são',\n",
              " 'capaz',\n",
              " 'de',\n",
              " 'aprend',\n",
              " 'com',\n",
              " 'dad',\n",
              " 'que',\n",
              " 'não',\n",
              " 'for',\n",
              " 'anot',\n",
              " 'man',\n",
              " 'com',\n",
              " 'as',\n",
              " 'respost',\n",
              " 'desej',\n",
              " 'ou',\n",
              " 'us',\n",
              " 'uma',\n",
              " 'combin',\n",
              " 'de',\n",
              " 'dad',\n",
              " 'anot',\n",
              " 'e',\n",
              " 'não',\n",
              " 'anot',\n",
              " '.',\n",
              " 'geral',\n",
              " ',',\n",
              " 'est',\n",
              " 'taref',\n",
              " 'é',\n",
              " 'muit',\n",
              " 'mais',\n",
              " 'trabalh',\n",
              " 'do',\n",
              " 'que',\n",
              " 'a',\n",
              " 'aprendiz',\n",
              " 'supervision',\n",
              " 'e',\n",
              " 'norm',\n",
              " 'produz',\n",
              " 'result',\n",
              " 'menos',\n",
              " 'precis',\n",
              " 'par',\n",
              " 'uma',\n",
              " 'quant',\n",
              " 'específ',\n",
              " 'de',\n",
              " 'dad',\n",
              " 'de',\n",
              " 'entr',\n",
              " '.',\n",
              " 'no',\n",
              " 'entant',\n",
              " ',',\n",
              " 'há',\n",
              " 'uma',\n",
              " 'enorm',\n",
              " 'quant',\n",
              " 'de',\n",
              " 'dad',\n",
              " 'não',\n",
              " 'anot',\n",
              " 'dispon',\n",
              " '(',\n",
              " 'inclu',\n",
              " ',',\n",
              " 'entr',\n",
              " 'outr',\n",
              " 'cois',\n",
              " ',',\n",
              " 'tod',\n",
              " 'o',\n",
              " 'conteúd',\n",
              " 'da',\n",
              " 'world',\n",
              " 'wid',\n",
              " 'web',\n",
              " ')',\n",
              " ',',\n",
              " 'que',\n",
              " 'muit',\n",
              " 'vez',\n",
              " 'pod',\n",
              " 'compens',\n",
              " 'os',\n",
              " 'result',\n",
              " 'inferi',\n",
              " '.',\n",
              " '=',\n",
              " '=',\n",
              " 'us',\n",
              " 'a',\n",
              " 'aprendiz',\n",
              " 'automá',\n",
              " '(',\n",
              " 'aprend',\n",
              " 'de',\n",
              " 'máquin',\n",
              " ')',\n",
              " '=',\n",
              " '=',\n",
              " 'os',\n",
              " 'algoritm',\n",
              " 'modern',\n",
              " 'de',\n",
              " 'pln',\n",
              " 'base',\n",
              " '-',\n",
              " ...]"
            ]
          },
          "metadata": {
            "tags": []
          },
          "execution_count": 89
        }
      ]
    },
    {
      "cell_type": "markdown",
      "metadata": {
        "id": "E2uwnIZOE2W7"
      },
      "source": [
        "###  12. Plote a frequência dos tokens após o processo de stemming. Utilize o método plot_frequencia_tokens() para plotar o gráfico. Também imprima o tamanho desta lista."
      ]
    },
    {
      "cell_type": "code",
      "metadata": {
        "id": "Wjhx4JyXE2W8",
        "outputId": "a2e0a7b9-e8bb-464a-f3d8-06bd16227dbe"
      },
      "source": [
        "#tokens_stemmer\n",
        "plot_frequencia_tokens(tokens_stemmer)\n",
        "print('Token size is: ',len(tokens_stemmer))"
      ],
      "execution_count": null,
      "outputs": [
        {
          "output_type": "display_data",
          "data": {
            "image/png": "[encoded data removed]",
            "text/plain": [
              "<Figure size 432x288 with 1 Axes>"
            ]
          },
          "metadata": {
            "tags": [],
            "needs_background": "light"
          }
        },
        {
          "output_type": "stream",
          "text": [
            "Token size is:  4954\n"
          ],
          "name": "stdout"
        }
      ]
    },
    {
      "cell_type": "markdown",
      "metadata": {
        "id": "ESWvVmslE2W-"
      },
      "source": [
        "## 13. Lemmatization\n",
        "a biblitoteca NLTK não possui lematização para português.\n",
        "Mas a scpaCy possui."
      ]
    },
    {
      "cell_type": "code",
      "metadata": {
        "id": "UhBxUwelWjrZ",
        "outputId": "875f9cc1-895c-40ec-e0be-bfcdfaf6c8f8"
      },
      "source": [
        "!pip install -U spacy\n",
        "!python -m spacy download pt"
      ],
      "execution_count": null,
      "outputs": [
        {
          "output_type": "stream",
          "text": [
            "Requirement already up-to-date: spacy in c:\\users\\user\\opencv\\lib\\site-packages (2.3.2)\n",
            "Requirement already satisfied, skipping upgrade: numpy>=1.15.0 in c:\\users\\user\\opencv\\lib\\site-packages (from spacy) (1.19.0)\n",
            "Requirement already satisfied, skipping upgrade: setuptools in c:\\users\\user\\opencv\\lib\\site-packages (from spacy) (49.1.0)\n",
            "Requirement already satisfied, skipping upgrade: srsly<1.1.0,>=1.0.2 in c:\\users\\user\\opencv\\lib\\site-packages (from spacy) (1.0.2)\n",
            "Requirement already satisfied, skipping upgrade: murmurhash<1.1.0,>=0.28.0 in c:\\users\\user\\opencv\\lib\\site-packages (from spacy) (1.0.2)\n",
            "Requirement already satisfied, skipping upgrade: wasabi<1.1.0,>=0.4.0 in c:\\users\\user\\opencv\\lib\\site-packages (from spacy) (0.7.1)\n",
            "Requirement already satisfied, skipping upgrade: catalogue<1.1.0,>=0.0.7 in c:\\users\\user\\opencv\\lib\\site-packages (from spacy) (1.0.0)\n",
            "Requirement already satisfied, skipping upgrade: requests<3.0.0,>=2.13.0 in c:\\users\\user\\opencv\\lib\\site-packages (from spacy) (2.24.0)\n",
            "Requirement already satisfied, skipping upgrade: plac<1.2.0,>=0.9.6 in c:\\users\\user\\opencv\\lib\\site-packages (from spacy) (1.1.3)\n",
            "Requirement already satisfied, skipping upgrade: thinc==7.4.1 in c:\\users\\user\\opencv\\lib\\site-packages (from spacy) (7.4.1)\n",
            "Requirement already satisfied, skipping upgrade: tqdm<5.0.0,>=4.38.0 in c:\\users\\user\\opencv\\lib\\site-packages (from spacy) (4.48.2)\n",
            "Requirement already satisfied, skipping upgrade: cymem<2.1.0,>=2.0.2 in c:\\users\\user\\opencv\\lib\\site-packages (from spacy) (2.0.3)\n",
            "Requirement already satisfied, skipping upgrade: preshed<3.1.0,>=3.0.2 in c:\\users\\user\\opencv\\lib\\site-packages (from spacy) (3.0.2)\n",
            "Requirement already satisfied, skipping upgrade: blis<0.5.0,>=0.4.0 in c:\\users\\user\\opencv\\lib\\site-packages (from spacy) (0.4.1)\n",
            "Requirement already satisfied, skipping upgrade: importlib-metadata>=0.20; python_version < \"3.8\" in c:\\users\\user\\opencv\\lib\\site-packages (from catalogue<1.1.0,>=0.0.7->spacy) (1.7.0)\n",
            "Requirement already satisfied, skipping upgrade: certifi>=2017.4.17 in c:\\users\\user\\opencv\\lib\\site-packages (from requests<3.0.0,>=2.13.0->spacy) (2020.6.20)\n",
            "Requirement already satisfied, skipping upgrade: chardet<4,>=3.0.2 in c:\\users\\user\\opencv\\lib\\site-packages (from requests<3.0.0,>=2.13.0->spacy) (3.0.4)\n",
            "Requirement already satisfied, skipping upgrade: urllib3!=1.25.0,!=1.25.1,<1.26,>=1.21.1 in c:\\users\\user\\opencv\\lib\\site-packages (from requests<3.0.0,>=2.13.0->spacy) (1.25.10)\n",
            "Requirement already satisfied, skipping upgrade: idna<3,>=2.5 in c:\\users\\user\\opencv\\lib\\site-packages (from requests<3.0.0,>=2.13.0->spacy) (2.10)\n",
            "Requirement already satisfied, skipping upgrade: zipp>=0.5 in c:\\users\\user\\opencv\\lib\\site-packages (from importlib-metadata>=0.20; python_version < \"3.8\"->catalogue<1.1.0,>=0.0.7->spacy) (3.1.0)\n",
            "Requirement already satisfied: pt_core_news_sm==2.3.0 from https://github.com/explosion/spacy-models/releases/download/pt_core_news_sm-2.3.0/pt_core_news_sm-2.3.0.tar.gz#egg=pt_core_news_sm==2.3.0 in c:\\users\\user\\opencv\\lib\\site-packages (2.3.0)\n"
          ],
          "name": "stdout"
        },
        {
          "output_type": "stream",
          "text": [
            "WARNING: You are using pip version 20.2.1; however, version 20.2.2 is available.\n",
            "You should consider upgrading via the 'C:\\Users\\user\\opencv\\Scripts\\python.exe -m pip install --upgrade pip' command.\n",
            "You do not have sufficient privilege to perform this operation.\n"
          ],
          "name": "stderr"
        },
        {
          "output_type": "stream",
          "text": [
            "Requirement already satisfied: spacy<2.4.0,>=2.3.0 in c:\\users\\user\\opencv\\lib\\site-packages (from pt_core_news_sm==2.3.0) (2.3.2)\n",
            "Requirement already satisfied: srsly<1.1.0,>=1.0.2 in c:\\users\\user\\opencv\\lib\\site-packages (from spacy<2.4.0,>=2.3.0->pt_core_news_sm==2.3.0) (1.0.2)\n",
            "Requirement already satisfied: plac<1.2.0,>=0.9.6 in c:\\users\\user\\opencv\\lib\\site-packages (from spacy<2.4.0,>=2.3.0->pt_core_news_sm==2.3.0) (1.1.3)\n",
            "Requirement already satisfied: thinc==7.4.1 in c:\\users\\user\\opencv\\lib\\site-packages (from spacy<2.4.0,>=2.3.0->pt_core_news_sm==2.3.0) (7.4.1)\n",
            "Requirement already satisfied: requests<3.0.0,>=2.13.0 in c:\\users\\user\\opencv\\lib\\site-packages (from spacy<2.4.0,>=2.3.0->pt_core_news_sm==2.3.0) (2.24.0)\n",
            "Requirement already satisfied: blis<0.5.0,>=0.4.0 in c:\\users\\user\\opencv\\lib\\site-packages (from spacy<2.4.0,>=2.3.0->pt_core_news_sm==2.3.0) (0.4.1)\n",
            "Requirement already satisfied: preshed<3.1.0,>=3.0.2 in c:\\users\\user\\opencv\\lib\\site-packages (from spacy<2.4.0,>=2.3.0->pt_core_news_sm==2.3.0) (3.0.2)\n",
            "Requirement already satisfied: numpy>=1.15.0 in c:\\users\\user\\opencv\\lib\\site-packages (from spacy<2.4.0,>=2.3.0->pt_core_news_sm==2.3.0) (1.19.0)\n",
            "Requirement already satisfied: catalogue<1.1.0,>=0.0.7 in c:\\users\\user\\opencv\\lib\\site-packages (from spacy<2.4.0,>=2.3.0->pt_core_news_sm==2.3.0) (1.0.0)\n",
            "Requirement already satisfied: cymem<2.1.0,>=2.0.2 in c:\\users\\user\\opencv\\lib\\site-packages (from spacy<2.4.0,>=2.3.0->pt_core_news_sm==2.3.0) (2.0.3)\n",
            "Requirement already satisfied: setuptools in c:\\users\\user\\opencv\\lib\\site-packages (from spacy<2.4.0,>=2.3.0->pt_core_news_sm==2.3.0) (49.1.0)\n",
            "Requirement already satisfied: tqdm<5.0.0,>=4.38.0 in c:\\users\\user\\opencv\\lib\\site-packages (from spacy<2.4.0,>=2.3.0->pt_core_news_sm==2.3.0) (4.48.2)\n",
            "Requirement already satisfied: murmurhash<1.1.0,>=0.28.0 in c:\\users\\user\\opencv\\lib\\site-packages (from spacy<2.4.0,>=2.3.0->pt_core_news_sm==2.3.0) (1.0.2)\n",
            "Requirement already satisfied: wasabi<1.1.0,>=0.4.0 in c:\\users\\user\\opencv\\lib\\site-packages (from spacy<2.4.0,>=2.3.0->pt_core_news_sm==2.3.0) (0.7.1)\n",
            "Requirement already satisfied: idna<3,>=2.5 in c:\\users\\user\\opencv\\lib\\site-packages (from requests<3.0.0,>=2.13.0->spacy<2.4.0,>=2.3.0->pt_core_news_sm==2.3.0) (2.10)\n",
            "Requirement already satisfied: chardet<4,>=3.0.2 in c:\\users\\user\\opencv\\lib\\site-packages (from requests<3.0.0,>=2.13.0->spacy<2.4.0,>=2.3.0->pt_core_news_sm==2.3.0) (3.0.4)\n",
            "Requirement already satisfied: urllib3!=1.25.0,!=1.25.1,<1.26,>=1.21.1 in c:\\users\\user\\opencv\\lib\\site-packages (from requests<3.0.0,>=2.13.0->spacy<2.4.0,>=2.3.0->pt_core_news_sm==2.3.0) (1.25.10)\n",
            "Requirement already satisfied: certifi>=2017.4.17 in c:\\users\\user\\opencv\\lib\\site-packages (from requests<3.0.0,>=2.13.0->spacy<2.4.0,>=2.3.0->pt_core_news_sm==2.3.0) (2020.6.20)\n",
            "Requirement already satisfied: importlib-metadata>=0.20; python_version < \"3.8\" in c:\\users\\user\\opencv\\lib\\site-packages (from catalogue<1.1.0,>=0.0.7->spacy<2.4.0,>=2.3.0->pt_core_news_sm==2.3.0) (1.7.0)\n",
            "Requirement already satisfied: zipp>=0.5 in c:\\users\\user\\opencv\\lib\\site-packages (from importlib-metadata>=0.20; python_version < \"3.8\"->catalogue<1.1.0,>=0.0.7->spacy<2.4.0,>=2.3.0->pt_core_news_sm==2.3.0) (3.1.0)\n",
            "[+] Download and installation successful\n",
            "You can now load the model via spacy.load('pt_core_news_sm')\n",
            "[x] Couldn't link model to 'pt'\n",
            "Creating a symlink in spacy/data failed. Make sure you have the required\n",
            "permissions and try re-running the command as admin, or use a virtualenv. You\n",
            "can still import the model as a module and call its load() method, or create the\n",
            "symlink manually.\n",
            "C:\\Users\\user\\opencv\\lib\\site-packages\\pt_core_news_sm -->\n",
            "C:\\Users\\user\\opencv\\lib\\site-packages\\spacy\\data\\pt\n",
            "[!] Download successful but linking failed\n",
            "Creating a shortcut link for 'pt' didn't work (maybe you don't have admin\n",
            "permissions?), but you can still load the model via its full package name: nlp =\n",
            "spacy.load('pt_core_news_sm')\n"
          ],
          "name": "stdout"
        }
      ]
    },
    {
      "cell_type": "code",
      "metadata": {
        "id": "EteSUdLWE2W-",
        "outputId": "e41f67ea-df66-4625-acb3-e8a4fd3a3b94"
      },
      "source": [
        "#carrega o modelo para português\n",
        "import spacy.cli\n",
        "spacy.cli.download('pt_core_news_sm')\n",
        "nlp = spacy.load('pt_core_news_sm')"
      ],
      "execution_count": null,
      "outputs": [
        {
          "output_type": "stream",
          "text": [
            "✔ Download and installation successful\n",
            "You can now load the model via spacy.load('pt_core_news_sm')\n"
          ],
          "name": "stdout"
        }
      ]
    },
    {
      "cell_type": "markdown",
      "metadata": {
        "id": "L4v6tMpXE2XE"
      },
      "source": [
        "Você pode executar a <b> lematização </b> com acentos ou sem acentos. Funciona da mesma forma."
      ]
    },
    {
      "cell_type": "markdown",
      "metadata": {
        "id": "CWInspjdE2XE"
      },
      "source": [
        "A primeira etapa para executar a lematização é transformar a lista de tokens para uma string.\n",
        "Utilize a variável de tokens: <b> tokens_sem_punction </b>.\n",
        "\n",
        "Dica: utilize o método join para isto:\n",
        "\n",
        "```python\n",
        "str.join(list)\n",
        "\n",
        "```"
      ]
    },
    {
      "cell_type": "code",
      "metadata": {
        "id": "FfLEPu_4E2XF"
      },
      "source": [
        "str_tokens = '_'.join(tokens_sem_punction)"
      ],
      "execution_count": null,
      "outputs": []
    },
    {
      "cell_type": "markdown",
      "metadata": {
        "id": "qprZRw5rE2XH"
      },
      "source": [
        "Depois carregue a string de tokens (<b>str_tokens</b>) no modelo <b> nlp </b>, carregado em um dos passos anteriores.\n",
        "\n",
        "```python\n",
        "doc = nlp(str_tokens)\n",
        "```"
      ]
    },
    {
      "cell_type": "code",
      "metadata": {
        "id": "yvkUDdatE2XI"
      },
      "source": [
        "doc = nlp(str_tokens)"
      ],
      "execution_count": null,
      "outputs": []
    },
    {
      "cell_type": "markdown",
      "metadata": {
        "id": "9EryUAZ-E2XJ"
      },
      "source": [
        "Verifique o tipo da variável <b> doc </b>.\n",
        "Observe que é do tipo spacy.tokens.doc.Doc"
      ]
    },
    {
      "cell_type": "code",
      "metadata": {
        "id": "0Uc-mP5uE2XK",
        "outputId": "f05922b1-99a9-445d-8add-99df6ffea7f9"
      },
      "source": [
        "type(doc)"
      ],
      "execution_count": null,
      "outputs": [
        {
          "output_type": "execute_result",
          "data": {
            "text/plain": [
              "spacy.tokens.doc.Doc"
            ]
          },
          "metadata": {
            "tags": []
          },
          "execution_count": 94
        }
      ]
    },
    {
      "cell_type": "markdown",
      "metadata": {
        "id": "NNwRqjPXE2XM"
      },
      "source": [
        "Como tipo da variável doc é do tipo spacy.tokens.doc.Doc.\n",
        "Apenas é preciso iterar em cada token e retornar o atributo <b> lemma_</b>"
      ]
    },
    {
      "cell_type": "code",
      "metadata": {
        "id": "ZOe5nKehE2XN",
        "outputId": "c198147d-b9bb-4e13-d481-fb4c03d1a9e8"
      },
      "source": [
        "token_lemm = [token.lemma_ for token in doc];\n",
        "print(token_lemm)"
      ],
      "execution_count": null,
      "outputs": [
        {
          "output_type": "stream",
          "text": [
            "['P_r_o_c_e_s_s_a_m_e_n_t_o', '_', '_', 'd_e', '_', '_', 'l_í_n_g_u_a', '_', '_', 'n_a_t_u_r_a_l', '_', '_', 'P_L_N', '_', '_', 'ser', '_', '_', 'u_m_a', '_', '_', 's_u_b_á_r_e_a', '_', '_', 'd_a', '_', '_', 'c_i_ê_n_c_i_a', '_', '_', 'd_a', '_', '_', 'c_o_m_p_u_t_a_ç_ã_o', '_', '_', 'i_n_t_e_l_i_g_ê_n_c_i_a', '_', '_', 'a_r_t_i_f_i_c_i_a_l', '_', '_', 'e', '_', '_', 'd_a', '_', '_', 'l_i_n_g_u_í_s_t_i_c_a', '_', '_', 'q_u_e', '_', '_', 'e_s_t_u_d_a', '_', '_', 'o_s', '_', '_', 'p_r_o_b_l_e_m_a_s', '_', '_', 'd_a', '_', '_', 'g_e_r_a_ç_ã_o', '_', '_', 'e', '_', '_', 'c_o_m_p_r_e_e_n_s_ã_o', '_', '_', 'a_u_t_o_m_á_t_i_c_a', '_', '_', 'd_e', '_', '_', 'l_í_n_g_u_a_s', '_', '_', 'h_u_m_a_n_a_s', '_', '_', 'n_a_t_u_r_a_i_s', '_', '_', 'S_i_s_t_e_m_a_s', '_', '_', 'd_e', '_', '_', 'g_e_r_a_ç_ã_o', '_', '_', 'd_e', '_', '_', 'l_í_n_g_u_a', '_', '_', 'n_a_t_u_r_a_l', '_', '_', 'c_o_n_v_e_r_t_e_m', '_', '_', 'i_n_f_o_r_m_a_ç_ã_o', '_', '_', 'd_e', '_', '_', 'b_a_n_c_o_s', '_', '_', 'd_e', '_', '_', 'd_a_d_o_s', '_', '_', 'd_e', '_', '_', 'c_o_m_p_u_t_a_d_o_r_e_s', '_', '_', 'e_m', '_', '_', 'l_i_n_g_u_a_g_e_m', '_', '_', 'c_o_m_p_r_e_e_n_s_í_v_e_l', '_', '_', 'a_o', '_', '_', 's_e_r', '_', '_', 'h_u_m_a_n_o', '_', '_', 'e', '_', '_', 's_i_s_t_e_m_a_s', '_', '_', 'd_e', '_', '_', 'c_o_m_p_r_e_e_n_s_ã_o', '_', '_', 'd_e', '_', '_', 'l_í_n_g_u_a', '_', '_', 'n_a_t_u_r_a_l', '_', '_', 'c_o_n_v_e_r_t_e_m', '_', '_', 'o_c_o_r_r_ê_n_c_i_a_s', '_', '_', 'd_e', '_', '_', 'l_i_n_g_u_a_g_e_m', '_', '_', 'h_u_m_a_n_a', '_', '_', 'e_m', '_', '_', 'r_e_p_r_e_s_e_n_t_a_ç_õ_e_s', '_', '_', 'm_a_i_s', '_', '_', 'f_o_r_m_a_i_s', '_', '_', 'm_a_i_s', '_', '_', 'f_a_c_i_l_m_e_n_t_e', '_', '_', 'm_a_n_i_p_u_l_á_v_e_i_s', '_', '_', 'p_o_r', '_', '_', 'p_r_o_g_r_a_m_a_s', '_', '_', 'd_e', '_', '_', 'c_o_m_p_u_t_a_d_o_r', '_', '_', 'A_l_g_u_n_s', '_', '_', 'd_e_s_a_f_i_o_s', '_', '_', 'd_o', '_', '_', 'P_L_N', '_', '_', 's_ã_o', '_', '_', 'c_o_m_p_r_e_e_n_s_ã_o', '_', '_', 'd_e', '_', '_', 'l_í_n_g_u_a', '_', '_', 'n_a_t_u_r_a_l', '_', '_', 'f_a_z_e_r', '_', '_', 'c_o_m', '_', '_', 'q_u_e', '_', '_', 'c_o_m_p_u_t_a_d_o_r_e_s', '_', '_', 'e_x_t_r_a_i_a_m', '_', '_', 's_e_n_t_i_d_o', '_', '_', 'd_e', '_', '_', 'l_i_n_g_u_a_g_e_m', '_', '_', 'h_u_m_a_n_a', '_', '_', 'o_u', '_', '_', 'n_a_t_u_r_a_l', '_', '_', 'e', '_', '_', 'g_e_r_a_ç_ã_o', '_', '_', 'd_e', '_', '_', 'l_í_n_g_u_a', '_', '_', 'n_a_t_u_r_a_l', '_', '\\n', '_', '\\n', '_', '\\n', '_', '_', 'H_i_s_t_ó_r_i_a', '_', '_', '\\n', '_', 'A', '_', '_', 'h_i_s_t_ó_r_i_a', '_', '_', 'd_o', '_', '_', 'P_L_N', '_', '_', 'c_o_m_e_ç_o_u', '_', '_', 'n_a', '_', '_', 'd_é_c_a_d_a', '_', '_', 'd_e', '_', '_', '1_9_5_0', '_', '_', 'q_u_a_n_d_o', '_', '_', 'A_l_a_n', '_', '_', 'T_u_r_i_n_g', '_', '_', 'p_u_b_l_i_c_o_u', '_', '_', 'o', '_', '_', 'a_r_t_i_g_o', '_', '_', 'C_o_m_p_u_t_i_n_g', '_', '_', 'M_a_c_h_i_n_e_r_y', '_', '_', 'a_n_d', '_', '_', 'I_n_t_e_l_l_i_g_e_n_c_e', '_', '_', 'q_u_e', '_', '_', 'p_r_o_p_u_n_h_a', '_', '_', 'o', '_', '_', 'q_u_e', '_', '_', 'a_g_o_r_a', '_', '_', 'ser', '_', '_', 'c_h_a_m_a_d_o', '_', '_', 'd_e', '_', '_', 't_e_s_t_e', '_', '_', 'd_e', '_', '_', 'T_u_r_i_n_g', '_', '_', 'c_o_m_o', '_', '_', 'c_r_i_t_é_r_i_o', '_', '_', 'd_e', '_', '_', 'i_n_t_e_l_i_g_ê_n_c_i_a', '_', '\\n', '_', 'E_m', '_', '_', '1_9_5_4', '_', '_', 'o', '_', '_', 'e_x_p_e_r_i_ê_n_c_i_a', '_', '_', 'd_e', '_', '_', 'G_e_o_r_g_e_t_o_w_n', '_', '_', 'e_n_v_o_l_v_e_u', '_', '_', 'o', '_', '_', 't_r_a_d_u_ç_ã_o', '_', '_', 'a_u_t_o_m_á_t_i_c_a', '_', '_', 'd_e', '_', '_', 'm_a_i_s', '_', '_', 'd_e', '_', '_', 's_e_s_s_e_n_t_a', '_', '_', 'f_r_a_s_e_s', '_', '_', 'r_u_s_s_a_s', '_', '_', 'p_a_r_a', '_', '_', 'o', '_', '_', 'i_n_g_l_ê_s', '_', '_', 'O_s', '_', '_', 'a_u_t_o_r_e_s', '_', '_', 'a_f_i_r_m_a_r_a_m', '_', '_', 'q_u_e', '_', '_', 'd_e_n_t_r_o', '_', '_', 'd_e', '_', '_', 't_r_ê_s', '_', '_', 'o_u', '_', '_', 'c_i_n_c_o', '_', '_', 'a_n_o_s', '_', '_', 'o', '_', '_', 't_r_a_d_u_ç_ã_o', '_', '_', 'a_u_t_o_m_á_t_i_c_a', '_', '_', 's_e_r_i_a', '_', '_', 'u_m', '_', '_', 'p_r_o_b_l_e_m_a', '_', '_', 'r_e_s_o_l_v_i_d_o', '_', '_', 'N_o', '_', '_', 'e_n_t_a_n_t_o', '_', '_', 'o_s', '_', '_', 'a_v_a_n_ç_o_s', '_', '_', 'r_e_a_i_s', '_', '_', 'f_o_r_a_m', '_', '_', 'm_u_i_t_o', '_', '_', 'm_a_i_s', '_', '_', 'l_e_n_t_o_s', '_', '_', 'd_o', '_', '_', 'q_u_e', '_', '_', 'o', '_', '_', 'p_r_e_v_i_s_t_o', '_', '_', 'e', '_', '_', 'a_p_ó_s', '_', '_', 'o', '_', '_', 'r_e_l_a_t_ó_r_i_o', '_', '_', 'A_L_P_A_C', '_', '_', 'e_m', '_', '_', '1_9_6_6', '_', '_', 'q_u_e', '_', '_', 'c_o_n_s_t_a_t_o_u', '_', '_', 'q_u_e', '_', '_', 'o', '_', '_', 'p_e_s_q_u_i_s_a', '_', '_', 'd_e', '_', '_', 'd_e_z', '_', '_', 'a_n_o_s', '_', '_', 'n_ã_o', '_', '_', 'c_o_n_s_e_g_u_i_u', '_', '_', 's_a_t_i_s_f_a_z_e_r', '_', '_', 'a_s', '_', '_', 'e_x_p_e_c_t_a_t_i_v_a_s', '_', '_', 'o', '_', '_', 'f_i_n_a_n_c_i_a_m_e_n_t_o', '_', '_', 'p_a_r_a', '_', '_', 'e_s_t_e', '_', '_', 'e_s_t_u_d_o', '_', '_', 'e_m', '_', '_', 't_r_a_d_u_ç_ã_o', '_', '_', 'a_u_t_o_m_á_t_i_c_a', '_', '_', 'f_o_i', '_', '_', 'r_e_d_u_z_i_d_o', '_', '_', 'd_r_a_s_t_i_c_a_m_e_n_t_e', '_', '_', 'P_o_u_c_a_s', '_', '_', 'p_e_s_q_u_i_s_a_s', '_', '_', 'e_m', '_', '_', 't_r_a_d_u_ç_ã_o', '_', '_', 'a_u_t_o_m_á_t_i_c_a', '_', '_', 'f_o_r_a_m', '_', '_', 'c_o_n_d_u_z_i_d_a_s', '_', '_', 'a_t_é', '_', '_', 'o', '_', '_', 'f_i_n_a_l', '_', '_', 'd_o_s', '_', '_', 'a_n_o_s', '_', '_', '8_0', '_', '_', 'q_u_a_n_d_o', '_', '_', 'o_s', '_', '_', 'p_r_i_m_e_i_r_o_s', '_', '_', 's_i_s_t_e_m_a_s', '_', '_', 'e_s_t_a_t_í_s_t_i_c_o_s', '_', '_', 'd_e', '_', '_', 't_r_a_d_u_ç_ã_o', '_', '_', 'f_o_r_a_m', '_', '_', 'd_e_s_e_n_v_o_l_v_i_d_o_s', '_', '\\n', '_', 'A_l_g_u_n_s', '_', '_', 's_i_s_t_e_m_a_s', '_', '_', 'd_e', '_', '_', 'P_L_N', '_', '_', 'b_e_m', '_', '_', 's_u_c_e_d_i_d_o_s', '_', '_', 'd_e_s_e_n_v_o_l_v_i_d_o_s', '_', '_', 'n_o_s', '_', '_', 'a_n_o_s', '_', '_', '6_0', '_', '_', 'f_o_r_a_m', '_', '_', 'S_H_R_D_L_U', '_', '_', 'u_m', '_', '_', 's_i_s_t_e_m_a', '_', '_', 'd_e', '_', '_', 'l_í_n_g_u_a', '_', '_', 'n_a_t_u_r_a_l', '_', '_', 'q_u_e', '_', '_', 't_r_a_b_a_l_h_a_v_a', '_', '_', 'e_m', '_', '_', 'b_l_o_c_k_s', '_', '_', 'w_o_r_l_d_s', '_', '_', 'c_o_m', '_', '_', 'v_o_c_a_b_u_l_á_r_i_o', '_', '_', 'r_e_s_t_r_i_t_o', '_', '_', 'e', '_', '_', 'E_L_I_Z_A', '_', '_', 'u_m_a', '_', '_', 's_i_m_u_l_a_ç_ã_o', '_', '_', 'd_e', '_', '_', 'u_m', '_', '_', 'p_s_i_c_o_t_e_r_a_p_e_u_t_a', '_', '_', 'e_s_c_r_i_t_a', '_', '_', 'p_o_r', '_', '_', 'J_o_s_e_p_h', '_', '_', 'W_e_i_z_e_n_b_a_u_m', '_', '_', 'e_n_t_r_e', '_', '_', '1_9_6_4', '_', '_', 'e', '_', '_', '1_9_6_6', '_', '_', 'U_s_a_n_d_o', '_', '_', 'p_o_u_c_a', '_', '_', 'i_n_f_o_r_m_a_ç_ã_o', '_', '_', 's_o_b_r_e', '_', '_', 'o', '_', '_', 'p_e_n_s_a_m_e_n_t_o', '_', '_', 'o_u', '_', '_', 'o', '_', '_', 'e_m_o_ç_ã_o', '_', '_', 'h_u_m_a_n_a', '_', '_', 'E_L_I_Z_A', '_', '_', 'c_r_i_a_v_a', '_', '_', 'e_m', '_', '_', 'a_l_g_u_n_s', '_', '_', 'c_a_s_o_s', '_', '_', 'i_n_t_e_r_a_ç_õ_e_s', '_', '_', 's_u_r_p_r_e_e_n_d_e_n_t_e_m_e_n_t_e', '_', '_', 'h_u_m_a_n_a_s', '_', '_', 'Q_u_a_n_d_o', '_', '_', 'o', '_', '_', 'p_a_c_i_e_n_t_e', '_', '_', 'e_x_c_e_d_i_a', '_', '_', 'o', '_', '_', 'b_a_s_e', '_', '_', 'd_e', '_', '_', 'c_o_n_h_e_c_i_m_e_n_t_o', '_', '_', 'd_o', '_', '_', 'p_r_o_g_r_a_m_a', '_', '_', 'E_L_I_Z_A', '_', '_', 'f_o_r_n_e_c_i_a', '_', '_', 'u_m_a', '_', '_', 'r_e_s_p_o_s_t_a', '_', '_', 'g_e_n_é_r_i_c_a', '_', '_', 'p_o_r', '_', '_', 'e_x_e_m_p_l_o', '_', '_', 'r_e_s_p_o_n_d_e_n_d_o', '_', '_', 'o', '_', '_', 'M_i_n_h_a', '_', '_', 'c_a_b_e_ç_a', '_', '_', 'd_ó_i', '_', '_', 'c_o_m', '_', '_', 'P_o_r', '_', '_', 'q_u_e', '_', '_', 'v_o_c_ê', '_', '_', 'd_i_z', '_', '_', 'q_u_e', '_', '_', 's_u_a', '_', '_', 'c_a_b_e_ç_a', '_', '_', 'd_ó_i', '_', '\\n', '_', 'D_u_r_a_n_t_e', '_', '_', 'o', '_', '_', 'd_é_c_a_d_a', '_', '_', 'd_e', '_', '_', '1_9_7_0', '_', '_', 'm_u_i_t_o_s', '_', '_', 'p_r_o_g_r_a_m_a_d_o_r_e_s', '_', '_', 'c_o_m_e_ç_a_r_a_m', '_', '_', 'o', '_', '_', 'e_s_c_r_e_v_e_r', '_', '_', 'o_n_t_o_l_o_g_i_a_s', '_', '_', 'c_o_n_c_e_i_t_u_a_i_s', '_', '_', 'q_u_e', '_', '_', 'e_s_t_r_u_t_u_r_a_r_a_m', '_', '_', 'o', '_', '_', 'i_n_f_o_r_m_a_ç_ã_o', '_', '_', 'd_o', '_', '_', 'm_u_n_d_o', '_', '_', 'r_e_a_l', '_', '_', 'e_m', '_', '_', 'd_a_d_o_s', '_', '_', 'c_o_m_p_r_e_e_n_s_í_v_e_i_s', '_', '_', 'p_o_r', '_', '_', 'c_o_m_p_u_t_a_d_o_r_e_s', '_', '_', 'E_x_e_m_p_l_o_s', '_', '_', 's_ã_o', '_', '_', 'M_A_R_G_I_E', '_', '_', 'S_C_H_A_N_K', '_', '_', '1_9_7_5', '_', '_', 'S_A_M', '_', '_', 'C_U_L_L_I_N_G_F_O_R_D', '_', '_', '1_9_7_8', '_', '_', 'P_A_M', '_', '_', 'W_I_L_E_N_S_K_Y', '_', '_', '1_9_7_8', '_', '_', 'T_a_l_e_S_p_i_n', '_', '_', 'M_E_E_H_A_N', '_', '_', '1_9_7_6', '_', '_', 'Q_U_A_L_M', '_', '_', 'L_E_H_N_E_R_T', '_', '_', '1_9_7_7', '_', '_', 'P_o_l_i_t_i_c_s', '_', '_', 'C_A_R_B_O_N_E_L_L', '_', '_', '1_9_7_9', '_', '_', 'e', '_', '_', 'P_l_o_t', '_', '_', 'U_n_i_t_s', '_', '_', 'L_E_H_N_E_R_T', '_', '_', '1_9_8_1', '_', '_', '_', 'N_e_s_t_e', '_', '_', 'p_e_r_í_o_d_o', '_', '_', 'm_u_i_t_o_s', '_', '_', 'c_h_a_t_t_e_r_b_o_t_s', '_', '_', 'f_o_r_a_m', '_', '_', 'e_s_c_r_i_t_o_s', '_', '_', 'c_o_m_o', '_', '_', 'P_A_R_R_Y', '_', '_', 'R_a_c_t_e_r', '_', '_', 'e', '_', '_', 'J_a_b_b_e_r_w_a_c_k_y', '_', '\\n', '_', 'A_t_é', '_', '_', 'o', '_', '_', 'd_é_c_a_d_a', '_', '_', 'd_e', '_', '_', '1_9_8_0', '_', '_', 'o', '_', '_', 'm_a_i_o_r_i_a', '_', '_', 'd_o_s', '_', '_', 's_i_s_t_e_m_a_s', '_', '_', 'd_e', '_', '_', 'P_L_N', '_', '_', 's_e', '_', '_', 'b_a_s_e_a_v_a', '_', '_', 'e_m', '_', '_', 'c_o_n_j_u_n_t_o_s', '_', '_', 'c_o_m_p_l_e_x_o_s', '_', '_', 'd_e', '_', '_', 'r_e_g_r_a_s', '_', '_', 'm_a_n_u_s_c_r_i_t_a_s', '_', '_', 'A', '_', '_', 'p_a_r_t_i_r', '_', '_', 'd_o', '_', '_', 'f_i_n_a_l', '_', '_', 'd_o_s', '_', '_', 'a_n_o_s', '_', '_', '1_9_8_0', '_', '_', 'n_o', '_', '_', 'e_n_t_a_n_t_o', '_', '_', 'h_o_u_v_e', '_', '_', 'u_m_a', '_', '_', 'r_e_v_o_l_u_ç_ã_o', '_', '_', 'n_o', '_', '_', 'P_L_N', '_', '_', 'c_o_m', '_', '_', 'o', '_', '_', 'i_n_t_r_o_d_u_ç_ã_o', '_', '_', 'd_e', '_', '_', 'a_l_g_o_r_i_t_m_o_s', '_', '_', 'd_e', '_', '_', 'a_p_r_e_n_d_i_z_a_g_e_m', '_', '_', 'a_u_t_o_m_á_t_i_c_a', '_', '_', 'a_p_r_e_n_d_i_z_a_d_o', '_', '_', 'd_e', '_', '_', 'm_á_q_u_i_n_a', '_', '_', 'p_a_r_a', '_', '_', 'o', '_', '_', 'p_r_o_c_e_s_s_a_m_e_n_t_o', '_', '_', 'd_e', '_', '_', 'l_i_n_g_u_a_g_e_m', '_', '_', 'I_s_t_o', '_', '_', 'f_o_i', '_', '_', 'd_e_v_i_d_o', '_', '_', 't_a_n_t_o', '_', '_', 'a_o', '_', '_', 'a_u_m_e_n_t_o', '_', '_', 'c_o_n_s_t_a_n_t_e', '_', '_', 'd_o', '_', '_', 'p_o_d_e_r', '_', '_', 'c_o_m_p_u_t_a_c_i_o_n_a_l', '_', '_', 'v_e_r', '_', '_', 'L_e_i', '_', '_', 'd_e', '_', '_', 'M_o_o_r_e', '_', '_', 'q_u_a_n_t_o', '_', '_', 'à', '_', '_', 'd_i_m_i_n_u_i_ç_ã_o', '_', '_', 'g_r_a_d_u_a_l', '_', '_', 'd_a', '_', '_', 'd_o_m_i_n_â_n_c_i_a', '_', '_', 'd_a_s', '_', '_', 't_e_o_r_i_a_s', '_', '_', 'd_a', '_', '_', 'l_i_n_g_u_í_s_t_i_c_a', '_', '_', 'c_h_o_m_s_k_y_a_n_a_s', '_', '_', 'c_o_m_o', '_', '_', 'o', '_', '_', 'g_r_a_m_á_t_i_c_a', '_', '_', 'g_e_r_a_t_i_v_a', '_', '_', 'c_u_j_o_s', '_', '_', 'f_u_n_d_a_m_e_n_t_o_s', '_', '_', 't_e_ó_r_i_c_o_s', '_', '_', 'd_e_s_e_s_t_i_m_u_l_a_r_a_m', '_', '_', 'o', '_', '_', 't_i_p_o', '_', '_', 'd_e', '_', '_', 'c_o_r_p_u_s', '_', '_', 'l_i_n_g_u_í_s_t_i_c_o', '_', '_', 'q_u_e', '_', '_', 'e_s_t_á', '_', '_', 's_u_b_j_a_c_e_n_t_e', '_', '_', 'à', '_', '_', 'a_b_o_r_d_a_g_e_m', '_', '_', 'd_a', '_', '_', 'a_p_r_e_n_d_i_z_a_g_e_m', '_', '_', 'a_u_t_o_m_á_t_i_c_a', '_', '_', 'a_o', '_', '_', 'p_r_o_c_e_s_s_a_m_e_n_t_o', '_', '_', 'd_a', '_', '_', 'l_i_n_g_u_a_g_e_m', '_', '\\n', '_', 'A_l_g_u_n_s', '_', '_', 'd_o_s', '_', '_', 'a_l_g_o_r_i_t_m_o_s', '_', '_', 'd_e', '_', '_', 'a_p_r_e_n_d_i_z_a_d_o', '_', '_', 'd_e', '_', '_', 'm_á_q_u_i_n_a_s', '_', '_', 'm_a_i_s', '_', '_', 'a_n_t_i_g_o_s', '_', '_', 'c_o_m_o', '_', '_', 'a_s', '_', '_', 'á_r_v_o_r_e_s', '_', '_', 'd_e', '_', '_', 'd_e_c_i_s_ã_o', '_', '_', 'p_r_o_d_u_z_i_a_m', '_', '_', 's_i_s_t_e_m_a_s', '_', '_', 'd_e', '_', '_', 'r_e_g_r_a_s', '_', '_', 'r_í_g_i_d_a_s', '_', '_', 'e_n_t_ã_o', '_', '_', 's_e_m_e_l_h_a_n_t_e_s', '_', '_', 'à_s', '_', '_', 'r_e_g_r_a_s', '_', '_', 'e_x_i_s_t_e_n_t_e_s', '_', '_', 'n_a', '_', '_', 'e_s_c_r_i_t_a_s', '_', '_', 'à', '_', '_', 'm_ã_o', '_', '_', 'N_o', '_', '_', 'e_n_t_a_n_t_o', '_', '_', 'o', '_', '_', 'm_a_r_c_a_ç_ã_o', '_', '_', 'd_e', '_', '_', 'p_a_r_t_e_s', '_', '_', 'd_a', '_', '_', 'f_a_l_a', '_', '_', 'p_a_r_t_o_f_s_p_e_e_c_h', '_', '_', 't_a_g_g_i_n_g', '_', '_', 'i_n_t_r_o_d_u_z_i_u', '_', '_', 'o', '_', '_', 'u_s_o', '_', '_', 'd_e', '_', '_', 'm_o_d_e_l_o_s', '_', '_', 'o_c_u_l_t_o_s', '_', '_', 'd_e', '_', '_', 'M_a_r_k_o_v', '_', '_', 'p_a_r_a', '_', '_', 'o', '_', '_', 'P_L_N', '_', '_', 'e', '_', '_', 'c_a_d_a', '_', '_', 'v_e_z', '_', '_', 'm_a_i_s', '_', '_', 'o', '_', '_', 'p_e_s_q_u_i_s_a', '_', '_', 's_e', '_', '_', 'c_o_n_c_e_n_t_r_a_v_a', '_', '_', 'e_m', '_', '_', 'm_o_d_e_l_o_s', '_', '_', 'e_s_t_a_t_í_s_t_i_c_o_s', '_', '_', 'q_u_e', '_', '_', 't_o_m_a_m', '_', '_', 'd_e_c_i_s_õ_e_s', '_', '_', 's_u_a_v_e_s', '_', '_', 'e', '_', '_', 'p_r_o_b_a_b_i_l_í_s_t_i_c_a_s', '_', '_', 'b_a_s_e_a_d_a_s', '_', '_', 'n_a', '_', '_', 'a_t_r_i_b_u_i_ç_ã_o', '_', '_', 'd_e', '_', '_', 'p_e_s_o_s', '_', '_', 'r_e_a_i_s', '_', '_', 'a_o_s', '_', '_', 'r_e_c_u_r_s_o_s', '_', '_', 'q_u_e', '_', '_', 'c_o_m_p_õ_e_m', '_', '_', 'd_a_d_o_s', '_', '_', 'd_e', '_', '_', 'e_n_t_r_a_d_a', '_', '_', 'O_s', '_', '_', 'm_o_d_e_l_o_s', '_', '_', 'd_e', '_', '_', 'l_i_n_g_u_a_g_e_m', '_', '_', 'd_e', '_', '_', 'c_a_c_h_e', '_', '_', 's_o_b_r_e', '_', '_', 'o_s', '_', '_', 'q_u_a_i_s', '_', '_', 'm_u_i_t_o_s', '_', '_', 's_i_s_t_e_m_a_s', '_', '_', 'd_e', '_', '_', 'r_e_c_o_n_h_e_c_i_m_e_n_t_o', '_', '_', 'd_e', '_', '_', 'f_a_l_a', '_', '_', 'a_g_o_r_a', '_', '_', 'd_e_p_e_n_d_e_m', '_', '_', 's_ã_o', '_', '_', 'e_x_e_m_p_l_o_s', '_', '_', 'd_e', '_', '_', 't_a_i_s', '_', '_', 'm_o_d_e_l_o_s', '_', '_', 'e_s_t_a_t_í_s_t_i_c_o_s', '_', '_', 'E_s_s_e_s', '_', '_', 'm_o_d_e_l_o_s', '_', '_', 's_ã_o', '_', '_', 'g_e_r_a_l_m_e_n_t_e', '_', '_', 'm_a_i_s', '_', '_', 'r_o_b_u_s_t_o_s', '_', '_', 'q_u_a_n_d_o', '_', '_', 'd_a_d_o_s', '_', '_', 'i_n_f_o_r_m_a_ç_õ_e_s', '_', '_', 'd_e_s_c_o_n_h_e_c_i_d_a_s', '_', '_', 'e_s_p_e_c_i_a_l_m_e_n_t_e', '_', '_', 'e_n_t_r_a_d_a', '_', '_', 'q_u_e', '_', '_', 'c_o_n_t_é_m', '_', '_', 'e_r_r_o_s', '_', '_', 'c_o_m_o', '_', '_', 'ser', '_', '_', 'm_u_i_t_o', '_', '_', 'c_o_m_u_m', '_', '_', 'p_a_r_a', '_', '_', 'd_a_d_o_s', '_', '_', 'd_o', '_', '_', 'm_u_n_d_o', '_', '_', 'r_e_a_l', '_', '_', 'e', '_', '_', 'p_r_o_d_u_z_e_m', '_', '_', 'r_e_s_u_l_t_a_d_o_s', '_', '_', 'm_a_i_s', '_', '_', 'c_o_n_f_i_á_v_e_i_s', '_', '_', 'q_u_a_n_d_o', '_', '_', 'i_n_t_e_g_r_a_d_o_s', '_', '_', 'e_m', '_', '_', 's_i_s_t_e_m_a_s', '_', '_', 'm_a_i_o_r_e_s', '_', '_', 'q_u_e', '_', '_', 'c_o_m_p_r_e_e_n_d_e_m', '_', '_', 'm_ú_l_t_i_p_l_a_s', '_', '_', 't_a_r_e_f_a_s', '_', '\\n', '_', 'M_u_i_t_o_s', '_', '_', 'd_o_s', '_', '_', 's_u_c_e_s_s_o_s', '_', '_', 'i_n_i_c_i_a_i_s', '_', '_', 'n_o_t_á_v_e_i_s', '_', '_', 'o_c_o_r_r_e_r_a_m', '_', '_', 'n_o', '_', '_', 'c_a_m_p_o', '_', '_', 'd_a', '_', '_', 't_r_a_d_u_ç_ã_o', '_', '_', 'a_u_t_o_m_á_t_i_c_a', '_', '_', 'd_e_v_i_d_o', '_', '_', 'e_s_p_e_c_i_a_l_m_e_n_t_e', '_', '_', 'a_o', '_', '_', 't_r_a_b_a_l_h_o', '_', '_', 'd_e', '_', '_', 'p_e_s_q_u_i_s_a', '_', '_', 'd_a', '_', '_', 'I_B_M', '_', '_', 'q_u_e', '_', '_', 'd_e_s_e_n_v_o_l_v_e_u', '_', '_', 'm_o_d_e_l_o_s', '_', '_', 'e_s_t_a_t_í_s_t_i_c_o_s', '_', '_', 'm_a_i_s', '_', '_', 'e_l_a_b_o_r_a_d_o_s', '_', '_', 'E_s_t_e_s', '_', '_', 's_i_s_t_e_m_a_s', '_', '_', 'f_o_r_a_m', '_', '_', 'c_a_p_a_z_e_s', '_', '_', 'd_e', '_', '_', 't_i_r_a_r', '_', '_', 'p_r_o_v_e_i_t_o', '_', '_', 'd_e', '_', '_', 'c_o_r_p_o_r_a', '_', '_', 't_e_x_t_u_a_i_s', '_', '_', 'm_u_l_t_i_l_í_n_g_u_e_s', '_', '_', 'e_x_i_s_t_e_n_t_e_s', '_', '_', '_', 'p_r_o_d_u_z_i_d_o_s', '_', '_', 'p_e_l_o', '_', '_', 'P_a_r_l_a_m_e_n_t_o', '_', '_', 'd_o', '_', '_', 'C_a_n_a_d_á', '_', '_', 'e', '_', '_', 'o', '_', '_', 'U_n_i_ã_o', '_', '_', 'E_u_r_o_p_e_i_a', '_', '_', 'c_o_m_o', '_', '_', 'r_e_s_u_l_t_a_d_o', '_', '_', 'd_e', '_', '_', 'l_e_i_s', '_', '_', 'q_u_e', '_', '_', 'e_x_i_g_e_m', '_', '_', 'o', '_', '_', 't_r_a_d_u_ç_ã_o', '_', '_', 'd_e', '_', '_', 't_o_d_o_s', '_', '_', 'o_s', '_', '_', 'p_r_o_c_e_s_s_o_s', '_', '_', 'g_o_v_e_r_n_a_m_e_n_t_a_i_s', '_', '_', 'e_m', '_', '_', 't_o_d_a_s', '_', '_', 'a_s', '_', '_', 'l_í_n_g_u_a_s', '_', '_', 'o_f_i_c_i_a_i_s', '_', '_', 'd_o_s', '_', '_', 'p_a_í_s_e_s', '_', '_', 'N_o', '_', '_', 'e_n_t_a_n_t_o', '_', '_', 'o', '_', '_', 'm_a_i_o_r_i_a', '_', '_', 'd_o_s', '_', '_', 's_i_s_t_e_m_a_s', '_', '_', 'd_e_p_e_n_d_i_a', '_', '_', 'd_e', '_', '_', 'c_o_r_p_o_r_a', '_', '_', 'd_e_s_e_n_v_o_l_v_i_d_o', '_', '_', 'e_s_p_e_c_i_f_i_c_a_m_e_n_t_e', '_', '_', 'p_a_r_a', '_', '_', 't_a_r_e_f_a_s', '_', '_', 'i_m_p_l_e_m_e_n_t_a_d_a_s', '_', '_', 'p_o_r', '_', '_', 'e_s_s_e_s', '_', '_', 's_i_s_t_e_m_a_s', '_', '_', 'o', '_', '_', 'q_u_e', '_', '_', 'e_r_a', '_', '_', 'e', '_', '_', 'm_u_i_t_a_s', '_', '_', 'v_e_z_e_s', '_', '_', 'c_o_n_t_i_n_u_a', '_', '_', 's_e_n_d_o', '_', '_', 'u_m_a', '_', '_', 'g_r_a_n_d_e', '_', '_', 'l_i_m_i_t_a_ç_ã_o', '_', '_', 'n_o', '_', '_', 's_u_c_e_s_s_o', '_', '_', 'd_o_s', '_', '_', 'm_e_s_m_o', '_', '_', 'C_o_m_o', '_', '_', 'r_e_s_u_l_t_a_d_o', '_', '_', 'u_m_a', '_', '_', 'g_r_a_n_d_e', '_', '_', 'q_u_a_n_t_i_d_a_d_e', '_', '_', 'd_e', '_', '_', 'p_e_s_q_u_i_s_a', '_', '_', 'p_a_s_s_o_u', '_', '_', 'd_e', '_', '_', 'q_u_a_n_t_i_d_a_d_e_s', '_', '_', 'd_e', '_', '_', 'd_a_d_o_s', '_', '_', 'l_i_m_i_t_a_d_a_s', '_', '_', 'o', '_', '_', 'm_é_t_o_d_o_s', '_', '_', 'd_e', '_', '_', 'a_p_r_e_n_d_i_z_a_g_e_m', '_', '_', 'm_a_i_s', '_', '_', 'e_f_i_c_a_z_e_s', '_', '\\n', '_', 'P_e_s_q_u_i_s_a_s', '_', '_', 'r_e_c_e_n_t_e_s', '_', '_', 't_ê_m', '_', '_', 's_e', '_', '_', 'c_o_n_c_e_n_t_r_a_d_o', '_', '_', 'c_a_d_a', '_', '_', 'v_e_z', '_', '_', 'm_a_i_s', '_', '_', 'e_m', '_', '_', 'a_l_g_o_r_i_t_m_o_s', '_', '_', 'd_e', '_', '_', 'a_p_r_e_n_d_i_z_a_g_e_m', '_', '_', 's_e_m_i_s_u_p_e_r_v_i_s_i_o_n_a_d_o_s', '_', '_', 'e', '_', '_', 's_e_m', '_', '_', 's_u_p_e_r_v_i_s_ã_o', '_', '_', 'E_s_s_e_s', '_', '_', 'a_l_g_o_r_i_t_m_o_s', '_', '_', 's_ã_o', '_', '_', 'c_a_p_a_z_e_s', '_', '_', 'd_e', '_', '_', 'a_p_r_e_n_d_e_r', '_', '_', 'c_o_m', '_', '_', 'd_a_d_o_s', '_', '_', 'q_u_e', '_', '_', 'n_ã_o', '_', '_', 'f_o_r_a_m', '_', '_', 'a_n_o_t_a_d_o_s', '_', '_', 'm_a_n_u_a_l_m_e_n_t_e', '_', '_', 'c_o_m', '_', '_', 'a_s', '_', '_', 'r_e_s_p_o_s_t_a_s', '_', '_', 'd_e_s_e_j_a_d_a_s', '_', '_', 'o_u', '_', '_', 'u_s_a_n_d_o', '_', '_', 'u_m_a', '_', '_', 'c_o_m_b_i_n_a_ç_ã_o', '_', '_', 'd_e', '_', '_', 'd_a_d_o_s', '_', '_', 'a_n_o_t_a_d_o_s', '_', '_', 'e', '_', '_', 'n_ã_o', '_', '_', 'a_n_o_t_a_d_o_s', '_', '_', 'G_e_r_a_l_m_e_n_t_e', '_', '_', 'e_s_t_a', '_', '_', 't_a_r_e_f_a', '_', '_', 'ser', '_', '_', 'm_u_i_t_o', '_', '_', 'm_a_i_s', '_', '_', 't_r_a_b_a_l_h_o_s_a', '_', '_', 'd_o', '_', '_', 'q_u_e', '_', '_', 'o', '_', '_', 'a_p_r_e_n_d_i_z_a_g_e_m', '_', '_', 's_u_p_e_r_v_i_s_i_o_n_a_d_a', '_', '_', 'e', '_', '_', 'n_o_r_m_a_l_m_e_n_t_e', '_', '_', 'p_r_o_d_u_z', '_', '_', 'r_e_s_u_l_t_a_d_o_s', '_', '_', 'm_e_n_o_s', '_', '_', 'p_r_e_c_i_s_o_s', '_', '_', 'p_a_r_a', '_', '_', 'u_m_a', '_', '_', 'q_u_a_n_t_i_d_a_d_e', '_', '_', 'e_s_p_e_c_í_f_i_c_a', '_', '_', 'd_e', '_', '_', 'd_a_d_o_s', '_', '_', 'd_e', '_', '_', 'e_n_t_r_a_d_a', '_', '_', 'N_o', '_', '_', 'e_n_t_a_n_t_o', '_', '_', 'h_á', '_', '_', 'u_m_a', '_', '_', 'e_n_o_r_m_e', '_', '_', 'q_u_a_n_t_i_d_a_d_e', '_', '_', 'd_e', '_', '_', 'd_a_d_o_s', '_', '_', 'n_ã_o', '_', '_', 'a_n_o_t_a_d_o_s', '_', '_', 'd_i_s_p_o_n_í_v_e_i_s', '_', '_', 'i_n_c_l_u_i_n_d_o', '_', '_', 'e_n_t_r_e', '_', '_', 'o_u_t_r_a_s', '_', '_', 'c_o_i_s_a_s', '_', '_', 't_o_d_o', '_', '_', 'o', '_', '_', 'c_o_n_t_e_ú_d_o', '_', '_', 'd_a', '_', '_', 'W_o_r_l_d', '_', '_', 'W_i_d_e', '_', '_', 'W_e_b', '_', '_', 'q_u_e', '_', '_', 'm_u_i_t_a_s', '_', '_', 'v_e_z_e_s', '_', '_', 'p_o_d_e', '_', '_', 'c_o_m_p_e_n_s_a_r', '_', '_', 'o_s', '_', '_', 'r_e_s_u_l_t_a_d_o_s', '_', '_', 'i_n_f_e_r_i_o_r_e_s', '_', '\\n', '_', '\\n', '_', '\\n', '_', '_', 'U_s_a_n_d_o', '_', '_', 'o', '_', '_', 'a_p_r_e_n_d_i_z_a_g_e_m', '_', '_', 'a_u_t_o_m_á_t_i_c_a', '_', '_', 'a_p_r_e_n_d_i_z_a_d_o', '_', '_', 'd_e', '_', '_', 'm_á_q_u_i_n_a', '_', '_', '\\n', '_', 'O_s', '_', '_', 'a_l_g_o_r_i_t_m_o_s', '_', '_', 'm_o_d_e_r_n_o_s', '_', '_', 'd_e', '_', '_', 'P_L_N', '_', '_', 'b_a_s_e_i_a_m_s_e', '_', '_', 'n_a', '_', '_', 'a_p_r_e_n_d_i_z_a_g_e_m', '_', '_', 'm_e_c_â_n_i_c_a', '_', '_', 'e_s_p_e_c_i_a_l_m_e_n_t_e', '_', '_', 'n_a', '_', '_', 'a_p_r_e_n_d_i_z_a_g_e_m', '_', '_', 'd_e', '_', '_', 'm_á_q_u_i_n_a_s', '_', '_', 'e_s_t_a_t_í_s_t_i_c_a_s', '_', '_', 'O', '_', '_', 'p_a_r_a_d_i_g_m_a', '_', '_', 'd_a', '_', '_', 'a_p_r_e_n_d_i_z_a_g_e_m', '_', '_', 'm_e_c_â_n_i_c_a', '_', '_', 'ser', '_', '_', 'd_i_f_e_r_e_n_t_e', '_', '_', 'd_o', '_', '_', 'd_a', '_', '_', 'm_a_i_o_r_i_a', '_', '_', 'd_a_s', '_', '_', 't_e_n_t_a_t_i_v_a_s', '_', '_', 'a_n_t_e_r_i_o_r_e_s', '_', '_', 'd_e', '_', '_', 'p_r_o_c_e_s_s_a_m_e_n_t_o', '_', '_', 'd_a', '_', '_', 'l_i_n_g_u_a_g_e_m', '_', '_', 'A_n_t_e_r_i_o_r_m_e_n_t_e', '_', '_', 'i_m_p_l_e_m_e_n_t_a_ç_õ_e_s', '_', '_', 'd_e', '_', '_', 't_a_r_e_f_a_s', '_', '_', 'd_e', '_', '_', 'p_r_o_c_e_s_s_a_m_e_n_t_o', '_', '_', 'd_e', '_', '_', 'l_i_n_g_u_a_g_e_m', '_', '_', 'e_n_v_o_l_v_i_a_m', '_', '_', 'o', '_', '_', 'c_o_d_i_f_i_c_a_ç_ã_o', '_', '_', 'd_i_r_e_t_a', '_', '_', 'd_e', '_', '_', 'g_r_a_n_d_e_s', '_', '_', 'c_o_n_j_u_n_t_o_s', '_', '_', 'd_e', '_', '_', 'r_e_g_r_a_s', '_', '_', 'O', '_', '_', 'p_a_r_a_d_i_g_m_a', '_', '_', 'd_a', '_', '_', 'a_p_r_e_n_d_i_z_a_g_e_m', '_', '_', 'a_u_t_o_m_á_t_i_c_a', '_', '_', 'o_u', '_', '_', 'a_p_r_e_n_d_i_z_a_g_e_m', '_', '_', 'a_u_t_o_m_á_t_i_c_a', '_', '_', 'i_n_d_u_z', '_', '_', 'o', '_', '_', 'a_p_r_e_n_d_i_z_a_g_e_m', '_', '_', 'a_u_t_o_m_á_t_i_c_a', '_', '_', 'd_e', '_', '_', 'r_e_g_r_a_s', '_', '_', 'a_t_r_a_v_é_s', '_', '_', 'd_e', '_', '_', 'a_n_á_l_i_s_e_s', '_', '_', 'd_e', '_', '_', 'c_o_r_p_o_r_a', '_', '_', 'd_e', '_', '_', 'e_x_e_m_p_l_o_s', '_', '_', 't_í_p_i_c_o_s', '_', '_', 'd_o', '_', '_', 'm_u_n_d_o', '_', '_', 'r_e_a_l', '_', '_', 'a_o', '_', '_', 'i_n_v_é_s', '_', '_', 'd_e', '_', '_', 'u_s_a_r', '_', '_', 'a_l_g_o_r_i_t_m_o_s', '_', '_', 'g_e_r_a_i_s', '_', '_', 'd_e', '_', '_', 'a_p_r_e_n_d_i_z_a_g_e_m', '_', '_', 'm_u_i_t_a_s', '_', '_', 'v_e_z_e_s', '_', '_', 'e_m_b_o_r_a', '_', '_', 'n_e_m', '_', '_', 's_e_m_p_r_e', '_', '_', 'b_a_s_e_a_d_o_s', '_', '_', 'e_m', '_', '_', 'i_n_f_e_r_ê_n_c_i_a', '_', '_', 'e_s_t_a_t_í_s_t_i_c_a', '_', '_', 'U_m', '_', '_', 'c_o_r_p_u_s', '_', '_', 'p_l_u_r_a_l', '_', '_', 'c_o_r_p_o_r_a', '_', '_', 'ser', '_', '_', 'u_m', '_', '_', 'c_o_n_j_u_n_t_o', '_', '_', 'd_e', '_', '_', 'd_o_c_u_m_e_n_t_o_s', '_', '_', 'o_u', '_', '_', 'f_r_a_s_e_s', '_', '_', 'i_n_d_i_v_i_d_u_a_i_s', '_', '_', 'q_u_e', '_', '_', 'f_o_r_a_m', '_', '_', 'a_n_o_t_a_d_o_s', '_', '_', 'à', '_', '_', 'm_ã_o', '_', '_', 'c_o_m', '_', '_', 'o_s', '_', '_', 'v_a_l_o_r_e_s', '_', '_', 'c_o_r_r_e_t_o_s', '_', '_', 'o', '_', '_', 's_e_r_e_m', '_', '_', 'a_p_r_e_n_d_i_d_o_s', '_', '\\n', '_', 'M_u_i_t_a_s', '_', '_', 'c_l_a_s_s_e_s', '_', '_', 'd_i_f_e_r_e_n_t_e_s', '_', '_', 'd_e', '_', '_', 'a_l_g_o_r_i_t_m_o_s', '_', '_', 'd_e', '_', '_', 'a_p_r_e_n_d_i_z_a_d_o', '_', '_', 'd_e', '_', '_', 'm_á_q_u_i_n_a', '_', '_', 'f_o_r_a_m', '_', '_', 'a_p_l_i_c_a_d_a_s', '_', '_', 'o', '_', '_', 't_a_r_e_f_a_s', '_', '_', 'd_e', '_', '_', 'P_L_N', '_', '_', 'E_s_s_e_s', '_', '_', 'a_l_g_o_r_i_t_m_o_s', '_', '_', 't_o_m_a_m', '_', '_', 'c_o_m_o', '_', '_', 'e_n_t_r_a_d_a', '_', '_', 'u_m', '_', '_', 'g_r_a_n_d_e', '_', '_', 'c_o_n_j_u_n_t_o', '_', '_', 'd_e', '_', '_', 'r_e_c_u_r_s_o_s', '_', '_', 'q_u_e', '_', '_', 's_ã_o', '_', '_', 'g_e_r_a_d_o_s', '_', '_', 'o', '_', '_', 'p_a_r_t_i_r', '_', '_', 'd_e', '_', '_', 'd_a_d_o_s', '_', '_', 'd_e', '_', '_', 'e_n_t_r_a_d_a', '_', '\\n', '_', 'A_l_g_u_n_s', '_', '_', 'd_o_s', '_', '_', 'a_l_g_o_r_i_t_m_o_s', '_', '_', 'm_a_i_s', '_', '_', 'u_s_a_d_o_s', '_', '_', 'c_o_m_o', '_', '_', 'á_r_v_o_r_e_s', '_', '_', 'd_e', '_', '_', 'd_e_c_i_s_ã_o', '_', '_', 'p_r_o_d_u_z_i_a_m', '_', '_', 's_i_s_t_e_m_a_s', '_', '_', 'd_e', '_', '_', 'r_e_g_r_a_s', '_', '_', 'r_í_g_i_d_a_s', '_', '_', 's_e_m_e_l_h_a_n_t_e_s', '_', '_', 'a_o_s', '_', '_', 's_i_s_t_e_m_a_s', '_', '_', 'd_e', '_', '_', 'r_e_g_r_a_s', '_', '_', 'm_a_n_u_s_c_r_i_t_a_s', '_', '_', 'm_a_i_s', '_', '_', 'c_o_m_u_n_s', '_', '_', 'N_o', '_', '_', 'e_n_t_a_n_t_o', '_', '_', 'c_a_d_a', '_', '_', 'v_e_z', '_', '_', 'm_a_i_s', '_', '_', 'o', '_', '_', 'p_e_s_q_u_i_s_a', '_', '_', 't_e_m', '_', '_', 's_e', '_', '_', 'c_o_n_c_e_n_t_r_a_d_o', '_', '_', 'e_m', '_', '_', 'm_o_d_e_l_o_s', '_', '_', 'e_s_t_a_t_í_s_t_i_c_o_s', '_', '_', 'q_u_e', '_', '_', 't_o_m_a_m', '_', '_', 'd_e_c_i_s_õ_e_s', '_', '_', 'f_l_e_x_í_v_e_i_s', '_', '_', 'e', '_', '_', 'p_r_o_b_a_b_i_l_í_s_t_i_c_a_s', '_', '_', 'b_a_s_e_a_d_a_s', '_', '_', 'e_m', '_', '_', 'a_g_r_e_g_a_r', '_', '_', 'p_e_s_o_s', '_', '_', 'r_e_a_i_s', '_', '_', 'o', '_', '_', 'c_a_d_a', '_', '_', 'c_a_r_a_c_t_e_r_í_s_t_i_c_a', '_', '_', 'd_e', '_', '_', 'e_n_t_r_a_d_a', '_', '_', 'T_a_i_s', '_', '_', 'm_o_d_e_l_o_s', '_', '_', 't_ê_m', '_', '_', 'o', '_', '_', 'v_a_n_t_a_g_e_m', '_', '_', 'd_e', '_', '_', 'p_o_d_e_r', '_', '_', 'e_x_p_r_e_s_s_a_r', '_', '_', 'o', '_', '_', 'c_e_r_t_e_z_a', '_', '_', 'r_e_l_a_t_i_v_a', '_', '_', 'd_e', '_', '_', 'm_u_i_t_a_s', '_', '_', 'r_e_s_p_o_s_t_a_s', '_', '_', 'p_o_s_s_í_v_e_i_s', '_', '_', 'd_i_f_e_r_e_n_t_e_s', '_', '_', 'e_m', '_', '_', 'v_e_z', '_', '_', 'd_e', '_', '_', 'a_p_e_n_a_s', '_', '_', 'u_m_a', '_', '_', 'p_r_o_d_u_z_i_n_d_o', '_', '_', 'r_e_s_u_l_t_a_d_o_s', '_', '_', 'm_a_i_s', '_', '_', 'c_o_n_f_i_á_v_e_i_s', '_', '_', 'q_u_a_n_d_o', '_', '_', 'e_s_s_e', '_', '_', 'm_o_d_e_l_o', '_', '_', 'ser', '_', '_', 'i_n_c_l_u_í_d_o', '_', '_', 'c_o_m_o', '_', '_', 'u_m', '_', '_', 'c_o_m_p_o_n_e_n_t_e', '_', '_', 'd_e', '_', '_', 'u_m', '_', '_', 's_i_s_t_e_m_a', '_', '_', 'm_a_i_o_r', '_', '\\n', '_', 'O_s', '_', '_', 's_i_s_t_e_m_a_s', '_', '_', 'b_a_s_e_a_d_o_s', '_', '_', 'e_m', '_', '_', 'a_l_g_o_r_i_t_m_o_s', '_', '_', 'd_e', '_', '_', 'a_p_r_e_n_d_i_z_a_g_e_m', '_', '_', 'm_e_c_â_n_i_c_a', '_', '_', 't_ê_m', '_', '_', 'm_u_i_t_a_s', '_', '_', 'v_a_n_t_a_g_e_n_s', '_', '_', 'e_m', '_', '_', 'r_e_l_a_ç_ã_o', '_', '_', 'à_s', '_', '_', 'r_e_g_r_a_s', '_', '_', 'p_r_o_d_u_z_i_d_a_s', '_', '_', 'm_a_n_u_a_l_m_e_n_t_e', '_', '\\n', '_', '\\n', '_', 'O_s', '_', '_', 'p_r_o_c_e_d_i_m_e_n_t_o_s', '_', '_', 'd_e', '_', '_', 'a_p_r_e_n_d_i_z_a_g_e_m', '_', '_', 'u_s_a_d_o_s', '_', '_', 'd_u_r_a_n_t_e', '_', '_', 'o', '_', '_', 'a_p_r_e_n_d_i_z_a_g_e_m', '_', '_', 'd_a', '_', '_', 'm_á_q_u_i_n_a', '_', '_', 'f_o_c_a_m_s_e', '_', '_', 'a_u_t_o_m_a_t_i_c_a_m_e_n_t_e', '_', '_', 'n_o_s', '_', '_', 'c_a_s_o_s', '_', '_', 'm_a_i_s', '_', '_', 'c_o_m_u_n_s', '_', '_', 'a_o', '_', '_', 'p_a_s_s_o', '_', '_', 'q_u_e', '_', '_', 'q_u_a_n_d_o', '_', '_', 's_e', '_', '_', 'e_s_c_r_e_v_e_m', '_', '_', 'r_e_g_r_a_s', '_', '_', 'à', '_', '_', 'm_ã_o', '_', '_', 'n_ã_o', '_', '_', 'ser', '_', '_', 'ó_b_v_i_o', '_', '_', 'e_m', '_', '_', 'q_u_e', '_', '_', 's_e_n_t_i_d_o', '_', '_', 'o', '_', '_', 'e_s_f_o_r_ç_o', '_', '_', 'd_e_v_e', '_', '_', 's_e_r', '_', '_', 'd_i_r_i_g_i_d_o', '_', '\\n', '_', 'O_s', '_', '_', 'p_r_o_c_e_d_i_m_e_n_t_o_s', '_', '_', 'd_e', '_', '_', 'a_p_r_e_n_d_i_z_a_g_e_m', '_', '_', 'a_u_t_o_m_á_t_i_c_a', '_', '_', 'p_o_d_e_m', '_', '_', 'f_a_z_e_r', '_', '_', 'u_s_o', '_', '_', 'd_e', '_', '_', 'a_l_g_o_r_i_t_m_o_s', '_', '_', 'd_e', '_', '_', 'i_n_f_e_r_ê_n_c_i_a', '_', '_', 'e_s_t_a_t_í_s_t_i_c_a', '_', '_', 'p_a_r_a', '_', '_', 'p_r_o_d_u_z_i_r', '_', '_', 'm_o_d_e_l_o_s', '_', '_', 'q_u_e', '_', '_', 's_ã_o', '_', '_', 'r_o_b_u_s_t_o_s', '_', '_', 'o', '_', '_', 'e_n_t_r_a_d_a_s', '_', '_', 'n_ã_o', '_', '_', 'f_a_m_i_l_i_a_r_e_s', '_', '_', 'p_o_r', '_', '_', 'e_x_e_m_p_l_o', '_', '_', 'c_o_n_t_e_n_d_o', '_', '_', 'p_a_l_a_v_r_a_s', '_', '_', 'o_u', '_', '_', 'e_s_t_r_u_t_u_r_a_s', '_', '_', 'q_u_e', '_', '_', 'n_ã_o', '_', '_', 'f_o_r_a_m', '_', '_', 'v_i_s_t_a_s', '_', '_', 'a_n_t_e_s', '_', '_', 'e', '_', '_', 'o', '_', '_', 'e_n_t_r_a_d_a_s', '_', '_', 'e_r_r_ô_n_e_a_s', '_', '_', 'p_o_r', '_', '_', 'e_x_e_m_p_l_o', '_', '_', 'c_o_m', '_', '_', 'p_a_l_a_v_r_a_s', '_', '_', 'o_u', '_', '_', 'p_a_l_a_v_r_a_s', '_', '_', 'i_n_c_o_r_r_e_t_a_m_e_n_t_e', '_', '_', 'o_m_i_t_i_d_a_s', '_', '_', 'G_e_r_a_l_m_e_n_t_e', '_', '_', 'l_i_d_a_r', '_', '_', 'c_o_m', '_', '_', 'e_s_s_a_s', '_', '_', 'e_n_t_r_a_d_a_s', '_', '_', 'd_e', '_', '_', 'f_o_r_m_a', '_', '_', 'c_o_m', '_', '_', 'r_e_g_r_a_s', '_', '_', 'm_a_n_u_s_c_r_i_t_a_s', '_', '_', 'o_u', '_', '_', 's_i_s_t_e_m_a_s', '_', '_', 'd_e', '_', '_', 'r_e_g_r_a_s', '_', '_', 'm_a_n_u_s_c_r_i_t_a_s', '_', '_', 'q_u_e', '_', '_', 't_o_m_a_m', '_', '_', 'd_e_c_i_s_õ_e_s', '_', '_', 's_u_a_v_e_s', '_', '_', 'ser', '_', '_', 'e_x_t_r_e_m_a_m_e_n_t_e', '_', '_', 't_r_a_b_a_l_h_o_s_o', '_', '_', 'p_r_o_p_e_n_s_o', '_', '_', 'o', '_', '_', 'e_r_r_o_s', '_', '_', 'e', '_', '_', 'd_e_m_o_r_a_d_o', '_', '\\n', '_', 'S_i_s_t_e_m_a_s', '_', '_', 'b_a_s_e_a_d_o_s', '_', '_', 'e_m', '_', '_', 'a_p_r_e_n_d_e_r', '_', '_', 'a_u_t_o_m_a_t_i_c_a_m_e_n_t_e', '_', '_', 'a_s', '_', '_', 'r_e_g_r_a_s', '_', '_', 'p_o_d_e_m', '_', '_', 's_e_r', '_', '_', 'm_a_i_s', '_', '_', 'p_r_e_c_i_s_o_s', '_', '_', 's_i_m_p_l_e_s_m_e_n_t_e', '_', '_', 'f_o_r_n_e_c_e_n_d_o', '_', '_', 'm_a_i_s', '_', '_', 'd_a_d_o_s', '_', '_', 'd_e', '_', '_', 'e_n_t_r_a_d_a', '_', '_', 'N_o', '_', '_', 'e_n_t_a_n_t_o', '_', '_', 'o_s', '_', '_', 's_i_s_t_e_m_a_s', '_', '_', 'b_a_s_e_a_d_o_s', '_', '_', 'e_m', '_', '_', 'r_e_g_r_a_s', '_', '_', 'e_s_c_r_i_t_a_s', '_', '_', 'à', '_', '_', 'm_ã_o', '_', '_', 's_ó', '_', '_', 'p_o_d_e_m', '_', '_', 's_e_r', '_', '_', 't_o_r_n_a_d_o_s', '_', '_', 'm_a_i_s', '_', '_', 'p_r_e_c_i_s_o_s', '_', '_', 'a_u_m_e_n_t_a_n_d_o', '_', '_', 'o', '_', '_', 'c_o_m_p_l_e_x_i_d_a_d_e', '_', '_', 'd_a_s', '_', '_', 'r_e_g_r_a_s', '_', '_', 'o', '_', '_', 'q_u_e', '_', '_', 'ser', '_', '_', 'u_m_a', '_', '_', 't_a_r_e_f_a', '_', '_', 'm_u_i_t_o', '_', '_', 'm_a_i_s', '_', '_', 'd_i_f_í_c_i_l', '_', '_', 'E_m', '_', '_', 'p_a_r_t_i_c_u_l_a_r', '_', '_', 'h_á', '_', '_', 'u_m', '_', '_', 'l_i_m_i_t_e', '_', '_', 'p_a_r_a', '_', '_', 'o', '_', '_', 'c_o_m_p_l_e_x_i_d_a_d_e', '_', '_', 'd_e', '_', '_', 's_i_s_t_e_m_a_s', '_', '_', 'b_a_s_e_a_d_o_s', '_', '_', 'e_m', '_', '_', 'r_e_g_r_a_s', '_', '_', 'a_r_t_e_s_a_n_a_i_s', '_', '_', 'p_a_r_a', '_', '_', 'a_l_é_m', '_', '_', 'd_o_s', '_', '_', 'q_u_a_i_s', '_', '_', 'o_s', '_', '_', 's_i_s_t_e_m_a_s', '_', '_', 's_e', '_', '_', 't_o_r_n_a_m', '_', '_', 'c_a_d_a', '_', '_', 'v_e_z', '_', '_', 'm_a_i_s', '_', '_', 'i_n_c_o_n_t_r_o_l_á_v_e_i_s', '_', '_', 'N_o', '_', '_', 'e_n_t_a_n_t_o', '_', '_', 'o', '_', '_', 'c_r_i_a_ç_ã_o', '_', '_', 'd_e', '_', '_', 'm_a_i_s', '_', '_', 'd_a_d_o_s', '_', '_', 'p_a_r_a', '_', '_', 'e_n_t_r_a_d_a', '_', '_', 'e_m', '_', '_', 's_i_s_t_e_m_a_s', '_', '_', 'd_e', '_', '_', 'a_p_r_e_n_d_i_z_a_d_o', '_', '_', 'd_e', '_', '_', 'm_á_q_u_i_n_a', '_', '_', 'r_e_q_u_e_r', '_', '_', 's_i_m_p_l_e_s_m_e_n_t_e', '_', '_', 'u_m', '_', '_', 'a_u_m_e_n_t_o', '_', '_', 'c_o_r_r_e_s_p_o_n_d_e_n_t_e', '_', '_', 'n_o', '_', '_', 'n_ú_m_e_r_o', '_', '_', 'd_e', '_', '_', 'h_o_r_a_s', '_', '_', 't_r_a_b_a_l_h_a_d_a_s', '_', '_', 'p_o_r', '_', '_', 'h_u_m_a_n_o_s', '_', '_', 'g_e_r_a_l_m_e_n_t_e', '_', '_', 's_e_m', '_', '_', 'a_u_m_e_n_t_o_s', '_', '_', 's_i_g_n_i_f_i_c_a_t_i_v_o_s', '_', '_', 'n_a', '_', '_', 'c_o_m_p_l_e_x_i_d_a_d_e', '_', '_', 'd_o', '_', '_', 'p_r_o_c_e_s_s_o', '_', '_', 'd_e', '_', '_', 'a_n_o_t_a_ç_ã_o_O', '_', '_', 's_u_b_c_a_m_p_o', '_', '_', 'd_e', '_', '_', 'P_L_N', '_', '_', 'd_e_d_i_c_a_d_o', '_', '_', 'o', '_', '_', 'a_b_o_r_d_a_g_e_n_s', '_', '_', 'd_e', '_', '_', 'a_p_r_e_n_d_i_z_a_g_e_m', '_', '_', 'ser', '_', '_', 'c_o_n_h_e_c_i_d_o', '_', '_', 'c_o_m_o', '_', '_', 'a_p_r_e_n_d_i_z_a_g_e_m', '_', '_', 'd_e', '_', '_', 'l_í_n_g_u_a', '_', '_', 'n_a_t_u_r_a_l', '_', '_', 'N_L_L', '_', '_', 'e', '_', '_', 's_u_a', '_', '_', 'c_o_n_f_e_r_ê_n_c_i_a', '_', '_', 'o', '_', '_', 'C_o_N_L_L', '_', '_', 'e', '_', '_', 'o_r_g_ã_o', '_', '_', 'c_e_n_t_r_a_l', '_', '_', 'o', '_', '_', 'S_I_G_N_L_L', '_', '_', 's_ã_o', '_', '_', 'p_a_t_r_o_c_i_n_a_d_o_s', '_', '_', 'p_e_l_a', '_', '_', 'A_C_L', '_', '_', 'r_e_c_o_n_h_e_c_e_n_d_o', '_', '_', 't_a_m_b_é_m', '_', '_', 'a_s', '_', '_', 's_u_a_s', '_', '_', 'l_i_g_a_ç_õ_e_s', '_', '_', 'c_o_m', '_', '_', 'l_i_n_g_u_í_s_t_i_c_a', '_', '_', 'c_o_m_p_u_t_a_c_i_o_n_a_l', '_', '_', 'e', '_', '_', 'a_q_u_i_s_i_ç_ã_o', '_', '_', 'd_e', '_', '_', 'l_i_n_g_u_a_g_e_m', '_', '_', 'Q_u_a_n_d_o', '_', '_', 'o', '_', '_', 'o_b_j_e_t_i_v_o', '_', '_', 'd_a', '_', '_', 'p_e_s_q_u_i_s_a', '_', '_', 'd_e', '_', '_', 'a_p_r_e_n_d_i_z_a_g_e_m', '_', '_', 'd_e', '_', '_', 'l_i_n_g_u_a_g_e_m', '_', '_', 'c_o_m_p_u_t_a_c_i_o_n_a_l', '_', '_', 'ser', '_', '_', 'e_n_t_e_n_d_e_r', '_', '_', 'm_a_i_s', '_', '_', 's_o_b_r_e', '_', '_', 'a_q_u_i_s_i_ç_ã_o', '_', '_', 'd_e', '_', '_', 'l_i_n_g_u_a_g_e_m', '_', '_', 'h_u_m_a_n_a', '_', '_', 'o_u', '_', '_', 'p_s_i_c_o_l_i_n_g_u_í_s_t_i_c_a', '_', '_', 'o', '_', '_', 'N_L_L', '_', '_', 's_o_b_r_e_p_õ_e_s_e', '_', '_', 'n_o', '_', '_', 'c_a_m_p_o', '_', '_', 'r_e_l_a_c_i_o_n_a_d_o', '_', '_', 'd_e', '_', '_', 'p_s_i_c_o_l_i_n_g_u_í_s_t_i_c_a', '_', '_', 'c_o_m_p_u_t_a_c_i_o_n_a_l', '_', '\\n', '_', '\\n', '_', '\\n', '_', '_', 'A_p_l_i_c_a_ç_õ_e_s', '_', '_', 'p_r_i_n_c_i_p_a_i_s', '_', '_', '\\n', '_', 'A', '_', '_', 'l_i_s_t_a_g_e_m', '_', '_', 'o', '_', '_', 's_e_g_u_i_r', '_', '_', 't_r_a_z', '_', '_', 'a_l_g_u_n_s', '_', '_', 'd_o_s', '_', '_', 't_r_a_b_a_l_h_o_s', '_', '_', 'm_a_i_s', '_', '_', 'p_e_s_q_u_i_s_a_d_a_s', '_', '_', 'e_m', '_', '_', 'P_L_N', '_', '_', 'N_o_t_e', '_', '_', 'q_u_e', '_', '_', 'a_l_g_u_n_s', '_', '_', 'd_e_l_e_s', '_', '_', 't_ê_m', '_', '_', 'a_p_l_i_c_a_ç_õ_e_s', '_', '_', 'n_o', '_', '_', 'm_u_n_d_o', '_', '_', 'r_e_a_l', '_', '_', 'e_n_q_u_a_n_t_o', '_', '_', 'o_u_t_r_a_s', '_', '_', 's_e_r_v_e_m', '_', '_', 'm_a_i_s', '_', '_', 'f_r_e_q_u_e_n_t_e_m_e_n_t_e', '_', '_', 'c_o_m_o', '_', '_', 't_a_r_e_f_a_s', '_', '_', 's_e_c_u_n_d_á_r_i_a_s', '_', '_', 'q_u_e', '_', '_', 's_ã_o', '_', '_', 'u_s_a_d_a_s', '_', '_', 'p_a_r_a', '_', '_', 'a_u_x_i_l_i_a_r', '_', '_', 'n_a', '_', '_', 'r_e_s_o_l_u_ç_ã_o', '_', '_', 'd_e', '_', '_', 't_a_r_e_f_a_s', '_', '_', 'm_a_i_o_r_e_s', '_', '_', 'O', '_', '_', 'q_u_e', '_', '_', 'd_i_s_t_i_n_g_u_e', '_', '_', 'e_s_s_a_s', '_', '_', 't_a_r_e_f_a_s', '_', '_', 'd_e', '_', '_', 'o_u_t_r_a_s', '_', '_', 't_a_r_e_f_a_s', '_', '_', 'p_o_t_e_n_c_i_a_i_s', '_', '_', 'e', '_', '_', 'r_e_a_i_s', '_', '_', 'd_e', '_', '_', 'P_L_N', '_', '_', 'n_ã_o', '_', '_', 'ser', '_', '_', 'a_p_e_n_a_s', '_', '_', 'o', '_', '_', 'v_o_l_u_m_e', '_', '_', 'd_e', '_', '_', 'p_e_s_q_u_i_s_a', '_', '_', 'd_e_d_i_c_a_d_o', '_', '_', 'o', '_', '_', 'e_l_a_s', '_', '_', 'm_a_s', '_', '_', 'o', '_', '_', 'f_a_t_o', '_', '_', 'd_e', '_', '_', 'q_u_e', '_', '_', 'p_a_r_a', '_', '_', 'c_a_d_a', '_', '_', 'u_m_a', '_', '_', 'h_á', '_', '_', 't_i_p_i_c_a_m_e_n_t_e', '_', '_', 'u_m_a', '_', '_', 'd_e_f_i_n_i_ç_ã_o', '_', '_', 'd_e', '_', '_', 'p_r_o_b_l_e_m_a', '_', '_', 'b_e_m', '_', '_', 'e_s_p_e_c_i_f_i_c_a_d_a', '_', '_', 'u_m_a', '_', '_', 'm_é_t_r_i_c_a', '_', '_', 'p_a_d_r_ã_o', '_', '_', 'p_a_r_a', '_', '_', 'a_v_a_l_i_a_r', '_', '_', 'o', '_', '_', 't_a_r_e_f_a', '_', '_', 'c_o_r_p_o_r_a', '_', '_', 'p_a_d_r_ã_o', '_', '_', 'e_m', '_', '_', 'q_u_e', '_', '_', 'o', '_', '_', 't_a_r_e_f_a', '_', '_', 'p_o_d_e', '_', '_', 's_e_r', '_', '_', 'a_v_a_l_i_a_d_a', '_', '_', 'e', '_', '_', 'a_s', '_', '_', 'c_o_m_p_e_t_i_ç_õ_e_s', '_', '_', 'd_e_d_i_c_a_d_a_s', '_', '_', 'à', '_', '_', 't_a_r_e_f_a', '_', '_', 'e_s_p_e_c_í_f_i_c_a', '_', '\\n', '_', 'S_u_m_a_r_i_z_a_ç_ã_o', '_', '_', 'a_u_t_o_m_á_t_i_c_a', '_', '\\n', '_', '\\n', '_', 'P_r_o_d_u_z', '_', '_', 'u_m', '_', '_', 'r_e_s_u_m_o', '_', '_', 'l_e_g_í_v_e_l', '_', '_', 'd_e', '_', '_', 'u_m_a', '_', '_', 'p_a_r_t_e', '_', '_', 'd_o', '_', '_', 't_e_x_t_o', '_', '_', 'M_u_i_t_a_s', '_', '_', 'v_e_z_e_s', '_', '_', 'u_s_a_d_o', '_', '_', 'p_a_r_a', '_', '_', 'f_o_r_n_e_c_e_r', '_', '_', 'r_e_s_u_m_o_s', '_', '_', 'd_e', '_', '_', 't_e_x_t_o', '_', '_', 'd_e', '_', '_', 'u_m', '_', '_', 't_i_p_o', '_', '_', 'c_o_n_h_e_c_i_d_o', '_', '_', 'c_o_m_o', '_', '_', 'a_r_t_i_g_o_s', '_', '_', 'n_a', '_', '_', 's_e_ç_ã_o', '_', '_', 'f_i_n_a_n_c_e_i_r_a', '_', '_', 'd_e', '_', '_', 'u_m', '_', '_', 'j_o_r_n_a_l_R_e_s_o_l_u_ç_ã_o', '_', '_', 'd_e', '_', '_', 'c_o_r_r_e_f_e_r_ê_n_c_i_a', '_', '\\n', '_', '\\n', '_', 'D_a_d_a', '_', '_', 'u_m_a', '_', '_', 'f_r_a_s_e', '_', '_', 'o_u', '_', '_', 'u_m', '_', '_', 'p_e_d_a_ç_o', '_', '_', 'm_a_i_o_r', '_', '_', 'd_e', '_', '_', 't_e_x_t_o', '_', '_', 'd_e_t_e_r_m_i_n_a', '_', '_', 'q_u_a_i_s', '_', '_', 'p_a_l_a_v_r_a_s', '_', '_', 'm_e_n_ç_õ_e_s', '_', '_', 's_e', '_', '_', 'r_e_f_e_r_e_m', '_', '_', 'a_o_s', '_', '_', 'm_e_s_m_o_s', '_', '_', 'o_b_j_e_t_o_s', '_', '_', 'e_n_t_i_d_a_d_e_s', '_', '_', 'A', '_', '_', 'r_e_s_o_l_u_ç_ã_o', '_', '_', 'd_a', '_', '_', 'a_n_á_f_o_r_a', '_', '_', 'ser', '_', '_', 'u_m', '_', '_', 'e_x_e_m_p_l_o', '_', '_', 'e_s_p_e_c_í_f_i_c_o', '_', '_', 'd_e_s_s_a', '_', '_', 't_a_r_e_f_a', '_', '_', 'e', '_', '_', 'e_s_t_á', '_', '_', 'e_s_p_e_c_i_f_i_c_a_m_e_n_t_e', '_', '_', 'p_r_e_o_c_u_p_a_d_a', '_', '_', 'e_m', '_', '_', 'c_o_m_b_i_n_a_r', '_', '_', 'o_s', '_', '_', 'p_r_o_n_o_m_e_s', '_', '_', 'c_o_m', '_', '_', 'o_s', '_', '_', 's_u_b_s_t_a_n_t_i_v_o_s', '_', '_', 'o_u', '_', '_', 'n_o_m_e_s', '_', '_', 'a_o_s', '_', '_', 'q_u_a_i_s', '_', '_', 'e_l_e_s', '_', '_', 's_e', '_', '_', 'r_e_f_e_r_e_m', '_', '_', 'A', '_', '_', 't_a_r_e_f_a', '_', '_', 'm_a_i_s', '_', '_', 'g_e_r_a_l', '_', '_', 'd_a', '_', '_', 'r_e_s_o_l_u_ç_ã_o', '_', '_', 'd_e', '_', '_', 'c_o_r_r_e_f_e_r_ê_n_c_i_a', '_', '_', 't_a_m_b_é_m', '_', '_', 'i_n_c_l_u_i', '_', '_', 'o', '_', '_', 'i_d_e_n_t_i_f_i_c_a_ç_ã_o', '_', '_', 'd_o_s', '_', '_', 'c_h_a_m_a_d_o_s', '_', '_', 'r_e_l_a_c_i_o_n_a_m_e_n_t_o_s', '_', '_', 'd_e', '_', '_', 'p_o_n_t_e', '_', '_', 'e_n_v_o_l_v_e_n_d_o', '_', '_', 'e_x_p_r_e_s_s_õ_e_s', '_', '_', 'd_e', '_', '_', 'r_e_f_e_r_ê_n_c_i_a', '_', '_', 'P_o_r', '_', '_', 'e_x_e_m_p_l_o', '_', '_', 'n_u_m_a', '_', '_', 'f_r_a_s_e', '_', '_', 'c_o_m_o', '_', '_', 'E_l_e', '_', '_', 'e_n_t_r_o_u', '_', '_', 'n_a', '_', '_', 'c_a_s_a', '_', '_', 'd_e', '_', '_', 'J_o_ã_o', '_', '_', 'p_e_l_a', '_', '_', 'p_o_r_t_a', '_', '_', 'd_a', '_', '_', 'f_r_e_n_t_e', '_', '_', 'o', '_', '_', 'p_o_r_t_a', '_', '_', 'd_a', '_', '_', 'f_r_e_n_t_e', '_', '_', 'ser', '_', '_', 'u_m_a', '_', '_', 'e_x_p_r_e_s_s_ã_o', '_', '_', 'd_e', '_', '_', 'r_e_f_e_r_ê_n_c_i_a', '_', '_', 'e', '_', '_', 'o', '_', '_', 'r_e_l_a_ç_ã_o', '_', '_', 'd_a', '_', '_', 'p_o_n_t_e', '_', '_', 'o', '_', '_', 's_e_r', '_', '_', 'i_d_e_n_t_i_f_i_c_a_d_a', '_', '_', 'ser', '_', '_', 'o', '_', '_', 'f_a_t_o', '_', '_', 'd_e', '_', '_', 'q_u_e', '_', '_', 'o', '_', '_', 'p_o_r_t_a', '_', '_', 'o', '_', '_', 's_e_r', '_', '_', 'r_e_f_e_r_i_d_a', '_', '_', 'ser', '_', '_', 'o', '_', '_', 'p_o_r_t_a', '_', '_', 'd_a', '_', '_', 'f_r_e_n_t_e', '_', '_', 'd_e', '_', '_', 'J_o_h_n_s', '_', '_', 'a_o', '_', '_', 'i_n_v_é_s', '_', '_', 'd_e', '_', '_', 'a_l_g_u_m_a', '_', '_', 'o_u_t_r_a', '_', '_', 'e_s_t_r_u_t_u_r_a', '_', '_', 'q_u_e', '_', '_', 't_a_m_b_é_m', '_', '_', 'p_o_d_e', '_', '_', 's_e_r', '_', '_', 'r_e_f_e_r_i_d_a_A_n_á_l_i_s_e', '_', '_', 'd_o', '_', '_', 'D_i_s_c_u_r_s_o', '_', '\\n', '_', '\\n', '_', 'E_s_t_a', '_', '_', 'r_u_b_r_i_c_a', '_', '_', 'i_n_c_l_u_i', '_', '_', 'u_m_a', '_', '_', 's_é_r_i_e', '_', '_', 'd_e', '_', '_', 't_a_r_e_f_a_s', '_', '_', 'r_e_l_a_c_i_o_n_a_d_a_s', '_', '_', 'U_m_a', '_', '_', 't_a_r_e_f_a', '_', '_', 'ser', '_', '_', 'i_d_e_n_t_i_f_i_c_a_r', '_', '_', 'o', '_', '_', 'e_s_t_r_u_t_u_r_a', '_', '_', 'd_i_s_c_u_r_s_i_v_a', '_', '_', 'd_o', '_', '_', 't_e_x_t_o', '_', '_', 'c_o_n_e_c_t_a_d_o', '_', '_', 'i_s_t_o', '_', '_', 'ser', '_', '_', 'o', '_', '_', 'n_a_t_u_r_e_z_a', '_', '_', 'd_a_s', '_', '_', 'r_e_l_a_ç_õ_e_s', '_', '_', 'd_i_s_c_u_r_s_i_v_a_s', '_', '_', 'e_n_t_r_e', '_', '_', 's_e_n_t_e_n_ç_a_s', '_', '_', 'p_o_r', '_', '_', 'e_x_e_m_p_l_o', '_', '_', 'e_l_a_b_o_r_a_ç_ã_o', '_', '_', 'e_x_p_l_i_c_a_ç_ã_o', '_', '_', 'c_o_n_t_r_a_s_t_e', '_', '_', 'O_u_t_r_a', '_', '_', 'p_o_s_s_í_v_e_l', '_', '_', 't_a_r_e_f_a', '_', '_', 'ser', '_', '_', 'r_e_c_o_n_h_e_c_e_r', '_', '_', 'e', '_', '_', 'c_l_a_s_s_i_f_i_c_a_r', '_', '_', 'o_s', '_', '_', 'a_t_o_s', '_', '_', 'd_e', '_', '_', 'f_a_l_a', '_', '_', 'e_m', '_', '_', 'u_m', '_', '_', 'p_e_d_a_ç_o', '_', '_', 'd_e', '_', '_', 't_e_x_t_o', '_', '_', 'p_o_r', '_', '_', 'e_x_e_m_p_l_o', '_', '_', 'p_e_r_g_u_n_t_a', '_', '_', 's_i_m_n_ã_o', '_', '_', 'p_e_r_g_u_n_t_a', '_', '_', 'd_e', '_', '_', 'c_o_n_t_e_ú_d_o', '_', '_', 'f_r_a_s_e', '_', '_', 'a_f_i_r_m_a_ç_ã_o', '_', '_', 'e_t_c_M_a_q_u_i_n_a', '_', '_', 'd_e', '_', '_', 't_r_a_d_u_ç_ã_o', '_', '\\n', '_', '\\n', '_', 'T_r_a_d_u_z_i_r', '_', '_', 'a_u_t_o_m_a_t_i_c_a_m_e_n_t_e', '_', '_', 't_e_x_t_o', '_', '_', 'd_e', '_', '_', 'u_m_a', '_', '_', 'l_i_n_g_u_a_g_e_m', '_', '_', 'h_u_m_a_n_a', '_', '_', 'p_a_r_a', '_', '_', 'o_u_t_r_a', '_', '_', 'E_s_t_e', '_', '_', 'ser', '_', '_', 'u_m_a', '_', '_', 'd_a_s', '_', '_', 't_a_r_e_f_a_s', '_', '_', 'm_a_i_s', '_', '_', 'd_i_f_í_c_e_i_s', '_', '_', 'e', '_', '_', 'f_a_z', '_', '_', 'p_a_r_t_e', '_', '_', 'd_e', '_', '_', 'u_m', '_', '_', 't_i_p_o', '_', '_', 'd_e', '_', '_', 'p_r_o_b_l_e_m_a_s', '_', '_', 'c_o_n_h_e_c_i_d_o_s', '_', '_', 'c_o_m_o', '_', '_', 'A_I_c_o_m_p_l_e_t_e', '_', '_', 'o_u', '_', '_', 's_e_j_a', '_', '_', 'e_x_i_g_i_n_d_o', '_', '_', 't_o_d_o_s', '_', '_', 'o_s', '_', '_', 'd_i_f_e_r_e_n_t_e_s', '_', '_', 't_i_p_o_s', '_', '_', 'd_e', '_', '_', 'c_o_n_h_e_c_i_m_e_n_t_o', '_', '_', 'q_u_e', '_', '_', 'o_s', '_', '_', 'h_u_m_a_n_o_s', '_', '_', 'p_o_s_s_u_e_m', '_', '_', 'g_r_a_m_á_t_i_c_a', '_', '_', 's_e_m_â_n_t_i_c_a', '_', '_', 'f_a_t_o_s', '_', '_', 's_o_b_r_e', '_', '_', 'o', '_', '_', 'm_u_n_d_o', '_', '_', 'r_e_a_l', '_', '_', 'e_t_c', '_', '_', 'p_a_r_a', '_', '_', 'r_e_s_o_l_v_ê_l_o', '_', '_', 'a_d_e_q_u_a_d_a_m_e_n_t_e_S_e_g_m_e_n_t_a_ç_ã_o', '_', '_', 'm_o_r_f_o_l_ó_g_i_c_a', '_', '\\n', '_', '\\n', '_', 'S_e_p_a_r_a', '_', '_', 'p_a_l_a_v_r_a_s', '_', '_', 'e_m', '_', '_', 'm_o_r_f_e_m_a_s', '_', '_', 'i_n_d_i_v_i_d_u_a_i_s', '_', '_', 'e', '_', '_', 'i_d_e_n_t_i_f_i_c_a', '_', '_', 'c_l_a_s_s_e_s', '_', '_', 'd_e', '_', '_', 'm_o_r_f_e_m_a_s', '_', '_', 'A', '_', '_', 'd_i_f_i_c_u_l_d_a_d_e', '_', '_', 'd_e_s_t_a', '_', '_', 't_a_r_e_f_a', '_', '_', 'd_e_p_e_n_d_e', '_', '_', 'm_u_i_t_o', '_', '_', 'd_a', '_', '_', 'c_o_m_p_l_e_x_i_d_a_d_e', '_', '_', 'd_a', '_', '_', 'm_o_r_f_o_l_o_g_i_a', '_', '_', 'i_s_t_o', '_', '_', 'ser', '_', '_', 'd_a', '_', '_', 'e_s_t_r_u_t_u_r_a', '_', '_', 'd_a_s', '_', '_', 'p_a_l_a_v_r_a_s', '_', '_', 'd_a', '_', '_', 'l_i_n_g_u_a_g_e_m', '_', '_', 'q_u_e', '_', '_', 'e_s_t_á', '_', '_', 's_e_n_d_o', '_', '_', 'c_o_n_s_i_d_e_r_a_d_a', '_', '_', 'O', '_', '_', 'i_n_g_l_ê_s', '_', '_', 'p_o_s_s_u_i', '_', '_', 'u_m_a', '_', '_', 'm_o_r_f_o_l_o_g_i_a', '_', '_', 'b_a_s_t_a_n_t_e', '_', '_', 's_i_m_p_l_e_s', '_', '_', 'e_s_p_e_c_i_a_l_m_e_n_t_e', '_', '_', 'o', '_', '_', 'm_o_r_f_o_l_o_g_i_a', '_', '_', 'f_l_e_x_i_o_n_a_l', '_', '_', 'e', '_', '_', 'p_o_r_t_a_n_t_o', '_', '_', 'ser', '_', '_', 'p_o_s_s_í_v_e_l', '_', '_', 'i_g_n_o_r_a_r', '_', '_', 'e_s_t_a', '_', '_', 't_a_r_e_f_a', '_', '_', 'i_n_t_e_i_r_a_m_e_n_t_e', '_', '_', 'e', '_', '_', 's_i_m_p_l_e_s_m_e_n_t_e', '_', '_', 'm_o_d_e_l_a_r', '_', '_', 't_o_d_a_s', '_', '_', 'a_s', '_', '_', 'f_o_r_m_a_s', '_', '_', 'p_o_s_s_í_v_e_i_s', '_', '_', 'd_e', '_', '_', 'u_m_a', '_', '_', 'p_a_l_a_v_r_a', '_', '_', 'p_o_r', '_', '_', 'e_x_e_m_p_l_o', '_', '_', 'o_p_e_n', '_', '_', 'o_p_e_n_s', '_', '_', 'o_p_e_n_e_d', '_', '_', 'o_p_e_n_i_n_g', '_', '_', 'c_o_m_o', '_', '_', 'p_a_l_a_v_r_a_s', '_', '_', 's_e_p_a_r_a_d_a_s', '_', '_', 'E_m', '_', '_', 'l_í_n_g_u_a_s', '_', '_', 'c_o_m_o', '_', '_', 'o', '_', '_', 't_u_r_c_o', '_', '_', 'o_u', '_', '_', 'o', '_', '_', 'M_e_i_t_e_i', '_', '_', 'u_m_a', '_', '_', 'l_í_n_g_u_a', '_', '_', 'i_n_d_i_a_n_a', '_', '_', 'f_o_r_t_e_m_e_n_t_e', '_', '_', 'a_g_l_u_t_i_n_a_d_a', '_', '_', 'n_o', '_', '_', 'e_n_t_a_n_t_o', '_', '_', 't_a_l', '_', '_', 'a_b_o_r_d_a_g_e_m', '_', '_', 'n_ã_o', '_', '_', 'ser', '_', '_', 'p_o_s_s_í_v_e_l', '_', '_', 'u_m_a', '_', '_', 'v_e_z', '_', '_', 'q_u_e', '_', '_', 'c_a_d_a', '_', '_', 'e_n_t_r_a_d_a', '_', '_', 'd_o', '_', '_', 'd_i_c_i_o_n_á_r_i_o', '_', '_', 't_e_m', '_', '_', 'm_i_l_h_a_r_e_s', '_', '_', 'd_e', '_', '_', 'f_o_r_m_a_s', '_', '_', 'd_e', '_', '_', 'p_a_l_a_v_r_a_s', '_', '_', 'p_o_s_s_í_v_e_i_s_R_e_c_o_n_h_e_c_i_m_e_n_t_o', '_', '_', 'd_e', '_', '_', 'e_n_t_i_d_a_d_e', '_', '_', 'n_o_m_e_a_d_a', '_', '_', 'N_E_R', '_', '\\n', '_', '\\n', '_', 'D_a_d_o', '_', '_', 'u_m', '_', '_', 'f_l_u_x_o', '_', '_', 'd_e', '_', '_', 't_e_x_t_o', '_', '_', 'd_e_t_e_r_m_i_n_a', '_', '_', 'q_u_a_i_s', '_', '_', 's_ã_o', '_', '_', 'i_t_e_n_s', '_', '_', 'n_o', '_', '_', 'm_a_p_a', '_', '_', 'd_e', '_', '_', 't_e_x_t_o', '_', '_', 'p_a_r_a', '_', '_', 'n_o_m_e_s', '_', '_', 'p_r_ó_p_r_i_o_s', '_', '_', 'c_o_m_o', '_', '_', 'p_e_s_s_o_a_s', '_', '_', 'o_u', '_', '_', 'l_o_c_a_i_s', '_', '_', 'e', '_', '_', 'q_u_a_l', '_', '_', 'ser', '_', '_', 'o', '_', '_', 't_i_p_o', '_', '_', 'd_e', '_', '_', 'c_a_d_a', '_', '_', 'n_o_m_e', '_', '_', 'p_o_r', '_', '_', 'e_x_e_m_p_l_o', '_', '_', 'p_e_s_s_o_a', '_', '_', 'l_o_c_a_l', '_', '_', 'o_r_g_a_n_i_z_a_ç_ã_o', '_', '_', 'E_m_b_o_r_a', '_', '_', 'o', '_', '_', 'c_a_p_i_t_a_l_i_z_a_ç_ã_o', '_', '_', 'p_o_s_s_a', '_', '_', 'a_j_u_d_a_r', '_', '_', 'o', '_', '_', 'r_e_c_o_n_h_e_c_e_r', '_', '_', 'e_n_t_i_d_a_d_e_s', '_', '_', 'n_o_m_e_a_d_a_s', '_', '_', 'e_m', '_', '_', 'i_d_i_o_m_a_s', '_', '_', 'c_o_m_o', '_', '_', 'o', '_', '_', 'i_n_g_l_ê_s', '_', '_', 'e_s_s_a_s', '_', '_', 'i_n_f_o_r_m_a_ç_õ_e_s', '_', '_', 'p_o_d_e_m', '_', '_', 'n_ã_o', '_', '_', 'a_j_u_d_a_r', '_', '_', 'o', '_', '_', 'd_e_t_e_r_m_i_n_a_r', '_', '_', 'o', '_', '_', 't_i_p_o', '_', '_', 'd_e', '_', '_', 'e_n_t_i_d_a_d_e', '_', '_', 'n_o_m_e_a_d_a', '_', '_', 'e', '_', '_', 'e_m', '_', '_', 'a_l_g_u_n_s', '_', '_', 'c_a_s_o_s', '_', '_', 's_ã_o_s', '_', '_', 'i_m_p_r_e_c_i_s_a_s', '_', '_', 'o_u', '_', '_', 'i_n_s_u_f_i_c_i_e_n_t_e_s', '_', '_', 'P_o_r', '_', '_', 'e_x_e_m_p_l_o', '_', '_', 'o', '_', '_', 'p_r_i_m_e_i_r_a', '_', '_', 'p_a_l_a_v_r_a', '_', '_', 'd_e', '_', '_', 'u_m_a', '_', '_', 'f_r_a_s_e', '_', '_', 't_a_m_b_é_m', '_', '_', 'ser', '_', '_', 'c_a_p_i_t_a_l_i_z_a_d_a', '_', '_', 'e', '_', '_', 'a_s', '_', '_', 'e_n_t_i_d_a_d_e_s', '_', '_', 'n_o_m_e_a_d_a_s', '_', '_', 'm_u_i_t_a_s', '_', '_', 'v_e_z_e_s', '_', '_', 'a_b_r_a_n_g_e_m', '_', '_', 'v_á_r_i_a_s', '_', '_', 'p_a_l_a_v_r_a_s', '_', '_', 'c_o_m', '_', '_', 'a_p_e_n_a_s', '_', '_', 'a_l_g_u_m_a_s', '_', '_', 'd_e_l_a_s', '_', '_', 's_ã_o', '_', '_', 'c_a_p_i_t_a_l_i_z_a_d_a_s', '_', '_', 'A_l_é_m', '_', '_', 'd_i_s_s_o', '_', '_', 'm_u_i_t_a_s', '_', '_', 'o_u_t_r_a_s', '_', '_', 'l_i_n_g_u_a_g_e_n_s', '_', '_', 'e_m', '_', '_', 's_c_r_i_p_t_s', '_', '_', 'n_ã_o_o_c_i_d_e_n_t_a_i_s', '_', '_', 'p_o_r', '_', '_', 'e_x_e_m_p_l_o', '_', '_', 'c_h_i_n_ê_s', '_', '_', 'o_u', '_', '_', 'á_r_a_b_e', '_', '_', 'n_ã_o', '_', '_', 't_ê_m', '_', '_', 'n_e_n_h_u_m_a', '_', '_', 'c_a_p_i_t_a_l_i_z_a_ç_ã_o', '_', '_', 'e', '_', '_', 'm_e_s_m_o', '_', '_', 'a_s', '_', '_', 'l_í_n_g_u_a_s', '_', '_', 'c_o_m', '_', '_', 'm_a_i_ú_s_c_u_l_a_s', '_', '_', 'p_o_d_e_m', '_', '_', 'n_ã_o', '_', '_', 'd_i_s_t_i_n_g_u_i_r', '_', '_', 'n_o_m_e_s', '_', '_', 'P_o_r', '_', '_', 'e_x_e_m_p_l_o', '_', '_', 'o', '_', '_', 'a_l_e_m_ã_o', '_', '_', 'c_a_p_i_t_a_l_i_z_a', '_', '_', 't_o_d_o_s', '_', '_', 'o_s', '_', '_', 's_u_b_s_t_a_n_t_i_v_o_s', '_', '_', 'i_n_d_e_p_e_n_d_e_n_t_e_m_e_n_t_e', '_', '_', 'd_e', '_', '_', 's_e', '_', '_', 'r_e_f_e_r_i_r_e_m', '_', '_', 'o', '_', '_', 'n_o_m_e_s', '_', '_', 'e', '_', '_', 'o', '_', '_', 'f_r_a_n_c_ê_s', '_', '_', 'e', '_', '_', 'o', '_', '_', 'e_s_p_a_n_h_o_l', '_', '_', 'n_ã_o', '_', '_', 'c_a_p_i_t_a_l_i_z_a_m', '_', '_', 'n_o_m_e_s', '_', '_', 'q_u_e', '_', '_', 's_e_r_v_e_m', '_', '_', 'c_o_m_o', '_', '_', 'a_d_j_e_t_i_v_o_s_G_e_r_a_ç_ã_o', '_', '_', 'd_e', '_', '_', 'l_í_n_g_u_a', '_', '_', 'n_a_t_u_r_a_l', '_', '\\n', '_', '\\n', '_', 'C_o_n_v_e_r_t_e', '_', '_', 'i_n_f_o_r_m_a_ç_õ_e_s', '_', '_', 'd_e', '_', '_', 'b_a_n_c_o_s', '_', '_', 'd_e', '_', '_', 'd_a_d_o_s', '_', '_', 'd_e', '_', '_', 'c_o_m_p_u_t_a_d_o_r', '_', '_', 'o_u', '_', '_', 'i_n_t_e_n_ç_õ_e_s', '_', '_', 's_e_m_â_n_t_i_c_a_s', '_', '_', 'e_m', '_', '_', 'l_i_n_g_u_a_g_e_m', '_', '_', 'h_u_m_a_n_a', '_', '_', 'l_e_g_í_v_e_l_C_o_m_p_r_e_e_n_s_ã_o', '_', '_', 'd_a', '_', '_', 'l_í_n_g_u_a', '_', '_', 'n_a_t_u_r_a_l', '_', '\\n', '_', '\\n', '_', 'C_o_n_v_e_r_t_e', '_', '_', 'p_e_d_a_ç_o_s', '_', '_', 'd_e', '_', '_', 't_e_x_t_o', '_', '_', 'e_m', '_', '_', 'r_e_p_r_e_s_e_n_t_a_ç_õ_e_s', '_', '_', 'm_a_i_s', '_', '_', 'f_o_r_m_a_i_s', '_', '_', 'c_o_m_o', '_', '_', 'e_s_t_r_u_t_u_r_a_s', '_', '_', 'd_e', '_', '_', 'l_ó_g_i_c_a', '_', '_', 'd_e', '_', '_', 'p_r_i_m_e_i_r_a', '_', '_', 'o_r_d_e_m', '_', '_', 'q_u_e', '_', '_', 's_ã_o', '_', '_', 'm_a_i_s', '_', '_', 'f_á_c_e_i_s', '_', '_', 'd_e', '_', '_', 'm_a_n_i_p_u_l_a_r', '_', '_', 'p_e_l_o_s', '_', '_', 'p_r_o_g_r_a_m_a_s', '_', '_', 'd_e', '_', '_', 'c_o_m_p_u_t_a_d_o_r', '_', '_', 'A', '_', '_', 'c_o_m_p_r_e_e_n_s_ã_o', '_', '_', 'd_a', '_', '_', 'l_í_n_g_u_a', '_', '_', 'n_a_t_u_r_a_l', '_', '_', 'e_n_v_o_l_v_e', '_', '_', 'o', '_', '_', 'i_d_e_n_t_i_f_i_c_a_ç_ã_o', '_', '_', 'd_a', '_', '_', 's_e_m_â_n_t_i_c_a', '_', '_', 'p_r_e_t_e_n_d_i_d_a', '_', '_', 'o', '_', '_', 'p_a_r_t_i_r', '_', '_', 'd_a', '_', '_', 'm_ú_l_t_i_p_l_a', '_', '_', 's_e_m_â_n_t_i_c_a', '_', '_', 'p_o_s_s_í_v_e_l', '_', '_', 'q_u_e', '_', '_', 'p_o_d_e', '_', '_', 's_e_r', '_', '_', 'd_e_r_i_v_a_d_a', '_', '_', 'd_e', '_', '_', 'u_m_a', '_', '_', 'e_x_p_r_e_s_s_ã_o', '_', '_', 'd_e', '_', '_', 'l_í_n_g_u_a', '_', '_', 'n_a_t_u_r_a_l', '_', '_', 'q_u_e', '_', '_', 'g_e_r_a_l_m_e_n_t_e', '_', '_', 't_o_m_a', '_', '_', 'o', '_', '_', 'f_o_r_m_a', '_', '_', 'd_e', '_', '_', 'n_o_t_a_ç_ã_o', '_', '_', 'o_r_g_a_n_i_z_a_d_a', '_', '_', 'd_e', '_', '_', 'c_o_n_c_e_i_t_o_s', '_', '_', 'd_e', '_', '_', 'l_i_n_g_u_a_g_e_n_s', '_', '_', 'n_a_t_u_r_a_i_s', '_', '_', 'E_n_t_r_e_t_a_n_t_o', '_', '_', 'i_n_t_r_o_d_u_ç_ã_o', '_', '_', 'e', '_', '_', 'c_r_i_a_ç_ã_o', '_', '_', 'd_e', '_', '_', 'l_i_n_g_u_a_g_e_m', '_', '_', 'm_e_t_a_m_o_d_e_l_o', '_', '_', 'e', '_', '_', 'o_n_t_o_l_o_g_i_a', '_', '_', 's_ã_o', '_', '_', 'e_f_i_c_i_e_n_t_e_s', '_', '_', 's_o_l_u_ç_õ_e_s', '_', '_', 'e_m_p_í_r_i_c_a_s', '_', '_', 'U_m_a', '_', '_', 'f_o_r_m_a_l_i_z_a_ç_ã_o', '_', '_', 'e_x_p_l_í_c_i_t_a', '_', '_', 'd_a', '_', '_', 's_e_m_â_n_t_i_c_a', '_', '_', 'd_e', '_', '_', 'l_í_n_g_u_a_s', '_', '_', 'n_a_t_u_r_a_i_s', '_', '_', 's_e_m', '_', '_', 'c_o_n_f_u_s_õ_e_s', '_', '_', 'c_o_m', '_', '_', 's_u_p_o_s_i_ç_õ_e_s', '_', '_', 'i_m_p_l_í_c_i_t_a_s', '_', '_', 'c_o_m_o', '_', '_', 'c_l_o_s_e_d_w_o_r_l_d', '_', '_', 'a_s_s_u_m_p_t_i_o_n', '_', '_', 'C_W_A', '_', '_', 'v_e_r_s_u_s', '_', '_', 'o_p_e_n_w_o_r_l_d', '_', '_', 'a_s_s_u_m_p_t_i_o_n', '_', '_', 'o_u', '_', '_', 's_u_b_j_e_t_i_v_a', '_', '_', 'S_i_m', '_', '_', '_', 'N_ã_o', '_', '_', 'v_e_r_s_u_s', '_', '_', 'o_b_j_e_t_i_v_o', '_', '_', 'V_e_r_d_a_d_e_i_r_o', '_', '_', '_', 'F_a_l_s_o', '_', '_', 'ser', '_', '_', 'e_s_p_e_r_a_d_a', '_', '_', 'p_a_r_a', '_', '_', 'o', '_', '_', 'c_o_n_s_t_r_u_ç_ã_o', '_', '_', 'd_e', '_', '_', 'u_m_a', '_', '_', 'b_a_s_e', '_', '_', 'd_e', '_', '_', 'f_o_r_m_a_l_i_z_a_ç_ã_o', '_', '_', 's_e_m_â_n_t_i_c_a_R_e_c_o_n_h_e_c_i_m_e_n_t_o', '_', '_', 'ó_p_t_i_c_o', '_', '_', 'd_e', '_', '_', 'c_a_r_a_c_t_e_r_e_s', '_', '_', 'O_C_R', '_', '\\n', '_', '\\n', '_', 'D_a_d_a', '_', '_', 'u_m_a', '_', '_', 'i_m_a_g_e_m', '_', '_', 'q_u_e', '_', '_', 'r_e_p_r_e_s_e_n_t_a', '_', '_', 'o', '_', '_', 't_e_x_t_o', '_', '_', 'i_m_p_r_e_s_s_o', '_', '_', 'd_e_t_e_r_m_i_n_a', '_', '_', 'o', '_', '_', 't_e_x_t_o', '_', '_', 'c_o_r_r_e_s_p_o_n_d_e_n_t_e_M_a_r_c_a_ç_ã_o', '_', '_', 'd_e', '_', '_', 'c_l_a_s_s_e', '_', '_', 'g_r_a_m_a_t_i_c_a_l', '_', '\\n', '_', '\\n', '_', 'D_a_d_a', '_', '_', 'u_m_a', '_', '_', 's_e_n_t_e_n_ç_a', '_', '_', 'd_e_t_e_r_m_i_n_a', '_', '_', 'o', '_', '_', 'c_l_a_s_s_e', '_', '_', 'g_r_a_m_a_t_i_c_a_l', '_', '_', 'd_e', '_', '_', 'c_a_d_a', '_', '_', 'p_a_l_a_v_r_a', '_', '_', 'M_u_i_t_a_s', '_', '_', 'p_a_l_a_v_r_a_s', '_', '_', 'e_s_p_e_c_i_a_l_m_e_n_t_e', '_', '_', 'a_s', '_', '_', 'c_o_m_u_n_s', '_', '_', 'p_o_d_e_m', '_', '_', 's_e_r_v_i_r', '_', '_', 'c_o_m_o', '_', '_', 'm_ú_l_t_i_p_l_a_s', '_', '_', 'p_a_r_t_e_s', '_', '_', 'd_o', '_', '_', 'd_i_s_c_u_r_s_o', '_', '_', 'E_m', '_', '_', 'i_n_g_l_ê_s', '_', '_', 'p_o_r', '_', '_', 'e_x_e_m_p_l_o', '_', '_', 'b_o_o_k', '_', '_', 'p_o_d_e', '_', '_', 's_e_r', '_', '_', 'u_m', '_', '_', 's_u_b_s_t_a_n_t_i_v_o', '_', '_', 't_h_e', '_', '_', 'b_o_o_k', '_', '_', 'o_n', '_', '_', 't_h_e', '_', '_', 't_a_b_l_e', '_', '_', 'o_u', '_', '_', 'v_e_r_b_o', '_', '_', 'b_o_o_k', '_', '_', 'o', '_', '_', 'f_l_i_g_h_t', '_', '_', 'S_e_t', '_', '_', 'p_o_d_e', '_', '_', 's_e_r', '_', '_', 'u_m', '_', '_', 's_u_b_s_t_a_n_t_i_v_o', '_', '_', 'v_e_r_b_o', '_', '_', 'o_u', '_', '_', 'a_d_j_e_t_i_v_o', '_', '_', 'E', '_', '_', 'o_u_t', '_', '_', 'p_o_d_e', '_', '_', 's_e_r', '_', '_', 'q_u_a_l_q_u_e_r', '_', '_', 'u_m', '_', '_', 'd_e', '_', '_', 'p_e_l_o', '_', '_', 'm_e_n_o_s', '_', '_', 'c_i_n_c_o', '_', '_', 'd_i_f_e_r_e_n_t_e_s', '_', '_', 'p_a_r_t_e_s', '_', '_', 'd_a', '_', '_', 'f_a_l_a', '_', '_', 'A_l_g_u_m_a_s', '_', '_', 'l_í_n_g_u_a_s', '_', '_', 't_ê_m', '_', '_', 'm_a_i_s', '_', '_', 'a_m_b_i_g_u_i_d_a_d_e', '_', '_', 'd_o', '_', '_', 'q_u_e', '_', '_', 'o_u_t_r_a_s', '_', '_', 'A_s', '_', '_', 'l_í_n_g_u_a_s', '_', '_', 'c_o_m', '_', '_', 'p_o_u_c_a', '_', '_', 'm_o_r_f_o_l_o_g_i_a', '_', '_', 'f_l_e_x_i_o_n_a_l', '_', '_', 'c_o_m_o', '_', '_', 'o', '_', '_', 'i_n_g_l_ê_s', '_', '_', 's_ã_o', '_', '_', 'p_a_r_t_i_c_u_l_a_r_m_e_n_t_e', '_', '_', 'p_r_o_p_e_n_s_a_s', '_', '_', 'o', '_', '_', 't_a_l', '_', '_', 'a_m_b_i_g_u_i_d_a_d_e', '_', '_', 'O', '_', '_', 'c_h_i_n_ê_s', '_', '_', 'ser', '_', '_', 'p_r_o_p_e_n_s_o', '_', '_', 'o', '_', '_', 't_a_l', '_', '_', 'a_m_b_i_g_u_i_d_a_d_e', '_', '_', 'p_o_r_q_u_e', '_', '_', 'ser', '_', '_', 'u_m_a', '_', '_', 'l_í_n_g_u_a', '_', '_', 't_o_n_a_l', '_', '_', 'd_u_r_a_n_t_e', '_', '_', 'o', '_', '_', 'v_e_r_b_a_l_i_z_a_ç_ã_o', '_', '_', 'T_a_l', '_', '_', 'i_n_f_l_e_x_ã_o', '_', '_', 'n_ã_o', '_', '_', 'ser', '_', '_', 'f_a_c_i_l_m_e_n_t_e', '_', '_', 't_r_a_n_s_m_i_t_i_d_a', '_', '_', 'a_t_r_a_v_é_s', '_', '_', 'd_a_s', '_', '_', 'e_n_t_i_d_a_d_e_s', '_', '_', 'e_m_p_r_e_g_a_d_a_s', '_', '_', 'd_e_n_t_r_o', '_', '_', 'd_a', '_', '_', 'o_r_t_o_g_r_a_f_i_a', '_', '_', 'p_a_r_a', '_', '_', 't_r_a_n_s_m_i_t_i_r', '_', '_', 'o', '_', '_', 's_i_g_n_i_f_i_c_a_d_o', '_', '_', 'p_r_e_t_e_n_d_i_d_o_A_n_á_l_i_s_e', '_', '_', 's_i_n_t_á_t_i_c_a', '_', '_', 'P_a_r_s_i_n_g', '_', '\\n', '_', '\\n', '_', 'D_e_t_e_r_m_i_n_a', '_', '_', 'o', '_', '_', 'á_r_v_o_r_e', '_', '_', 'd_e', '_', '_', 'a_n_á_l_i_s_e', '_', '_', 'a_n_á_l_i_s_e', '_', '_', 'g_r_a_m_a_t_i_c_a_l', '_', '_', 'd_e', '_', '_', 'u_m_a', '_', '_', 'f_r_a_s_e', '_', '_', 'A', '_', '_', 'g_r_a_m_á_t_i_c_a', '_', '_', 'p_a_r_a', '_', '_', 'a_s', '_', '_', 'l_i_n_g_u_a_g_e_n_s', '_', '_', 'n_a_t_u_r_a_i_s', '_', '_', 'ser', '_', '_', 'a_m_b_í_g_u_a', '_', '_', 'e', '_', '_', 'f_r_a_s_e_s', '_', '_', 't_í_p_i_c_a_s', '_', '_', 't_ê_m', '_', '_', 'm_ú_l_t_i_p_l_a_s', '_', '_', 'a_n_á_l_i_s_e_s', '_', '_', 'p_o_s_s_í_v_e_i_s', '_', '_', 'N_a', '_', '_', 'v_e_r_d_a_d_e', '_', '_', 's_u_r_p_r_e_e_n_d_e_n_t_e_m_e_n_t_e', '_', '_', 'p_a_r_a', '_', '_', 'u_m_a', '_', '_', 'f_r_a_s_e', '_', '_', 't_í_p_i_c_a', '_', '_', 'p_o_d_e', '_', '_', 'h_a_v_e_r', '_', '_', 'm_i_l_h_a_r_e_s', '_', '_', 'd_e', '_', '_', 'a_n_á_l_i_s_e_s', '_', '_', 'e_m', '_', '_', 'p_o_t_e_n_c_i_a_l', '_', '_', 'o', '_', '_', 'm_a_i_o_r_i_a', '_', '_', 'd_o_s', '_', '_', 'q_u_a_i_s', '_', '_', 'p_a_r_e_c_e_r_á', '_', '_', 'c_o_m_p_l_e_t_a_m_e_n_t_e', '_', '_', 'a_b_s_u_r_d_a', '_', '_', 'p_a_r_a', '_', '_', 'u_m', '_', '_', 's_e_r', '_', '_', 'h_u_m_a_n_o_R_e_s_p_o_s_t_a_s', '_', '_', 'o', '_', '_', 'p_e_r_g_u_n_t_a_s', '_', '\\n', '_', '\\n', '_', 'D_a_d_a', '_', '_', 'u_m_a', '_', '_', 'q_u_e_s_t_ã_o', '_', '_', 'd_e', '_', '_', 'l_i_n_g_u_a_g_e_m', '_', '_', 'h_u_m_a_n_a', '_', '_', 'd_e_t_e_r_m_i_n_a', '_', '_', 's_u_a', '_', '_', 'r_e_s_p_o_s_t_a', '_', '_', 'A_s', '_', '_', 'p_e_r_g_u_n_t_a_s', '_', '_', 't_í_p_i_c_a_s', '_', '_', 't_ê_m', '_', '_', 'u_m_a', '_', '_', 'r_e_s_p_o_s_t_a', '_', '_', 'c_o_r_r_e_t_a', '_', '_', 'e_s_p_e_c_í_f_i_c_a', '_', '_', 'c_o_m_o', '_', '_', 'Q_u_a_l', '_', '_', 'ser', '_', '_', 'o', '_', '_', 'c_a_p_i_t_a_l', '_', '_', 'd_o', '_', '_', 'C_a_n_a_d_á', '_', '_', 'm_a_s', '_', '_', 'à_s', '_', '_', 'v_e_z_e_s', '_', '_', 'p_e_r_g_u_n_t_a_s', '_', '_', 'a_b_e_r_t_a_s', '_', '_', 't_a_m_b_é_m', '_', '_', 's_ã_o', '_', '_', 'c_o_n_s_i_d_e_r_a_d_a_s', '_', '_', 'c_o_m_o', '_', '_', 'Q_u_a_l', '_', '_', 'ser', '_', '_', 'o', '_', '_', 's_i_g_n_i_f_i_c_a_d_o', '_', '_', 'd_a', '_', '_', 'v_i_d_a', '_', '_', 'T_r_a_b_a_l_h_o_s', '_', '_', 'r_e_c_e_n_t_e_s', '_', '_', 't_ê_m', '_', '_', 'a_n_a_l_i_s_a_d_o', '_', '_', 'q_u_e_s_t_õ_e_s', '_', '_', 'a_i_n_d_a', '_', '_', 'm_a_i_s', '_', '_', 'c_o_m_p_l_e_x_a_s_E_x_t_r_a_ç_ã_o', '_', '_', 'd_e', '_', '_', 'r_e_l_a_c_i_o_n_a_m_e_n_t_o', '_', '\\n', '_', '\\n', '_', 'I_d_e_n_t_i_f_i_c_a', '_', '_', 'a_s', '_', '_', 'r_e_l_a_ç_õ_e_s', '_', '_', 'e_n_t_r_e', '_', '_', 'e_n_t_i_d_a_d_e_s', '_', '_', 'n_o_m_e_a_d_a_s', '_', '_', 'p_o_r', '_', '_', 'e_x_e_m_p_l_o', '_', '_', 'q_u_e_m', '_', '_', 'ser', '_', '_', 'c_a_s_a_d_o', '_', '_', 'c_o_m', '_', '_', 'q_u_e_m', '_', '_', 'c_o_m', '_', '_', 'b_a_s_e', '_', '_', 'e_m', '_', '_', 't_e_x_t_o_s_Q_u_e_b_r_a', '_', '_', 'd_e', '_', '_', 'f_r_a_s_e_s', '_', '_', 's_e_n_t_e_n_c_e', '_', '_', 'b_o_u_n_d_a_r_y', '_', '_', 'd_i_s_a_m_b_i_g_u_a_t_i_o_n', '_', '\\n', '_', '\\n', '_', 'E_n_c_o_n_t_r_a', '_', '_', 'o_s', '_', '_', 'l_i_m_i_t_e_s', '_', '_', 'd_a', '_', '_', 'f_r_a_s_e', '_', '_', 'e_m', '_', '_', 'u_m', '_', '_', 'p_e_d_a_ç_o', '_', '_', 'd_e', '_', '_', 't_e_x_t_o', '_', '_', 'O_s', '_', '_', 'l_i_m_i_t_e_s', '_', '_', 'd_e', '_', '_', 'f_r_a_s_e_s', '_', '_', 's_ã_o', '_', '_', 'n_o_r_m_a_l_m_e_n_t_e', '_', '_', 'm_a_r_c_a_d_a_s', '_', '_', 'p_o_r', '_', '_', 'p_o_n_t_o_s', '_', '_', 'o_u', '_', '_', 'o_u_t_r_o_s', '_', '_', 's_i_n_a_i_s', '_', '_', 'd_e', '_', '_', 'p_o_n_t_u_a_ç_ã_o', '_', '_', 'm_a_s', '_', '_', 'e_s_s_e_s', '_', '_', 'm_e_s_m_o_s', '_', '_', 'c_a_r_a_c_t_e_r_e_s', '_', '_', 'p_o_d_e_m', '_', '_', 's_e_r_v_i_r', '_', '_', 'o_u_t_r_o_s', '_', '_', 'p_r_o_p_ó_s_i_t_o_s_A_n_á_l_i_s_e', '_', '_', 'd_e', '_', '_', 's_u_b_j_e_t_i_v_i_d_a_d_e', '_', '_', 's_e_n_t_i_m_e_n_t', '_', '_', 'a_n_a_l_y_s_i_s', '_', '_', 'o_u', '_', '_', 'o_p_i_n_i_o_n', '_', '_', 'm_i_n_i_n_g', '_', '\\n', '_', '\\n', '_', 'E_x_t_r_a_i', '_', '_', 'i_n_f_o_r_m_a_ç_õ_e_s', '_', '_', 's_u_b_j_e_t_i_v_a_s', '_', '_', 'g_e_r_a_l_m_e_n_t_e', '_', '_', 'd_e', '_', '_', 'u_m', '_', '_', 'c_o_n_j_u_n_t_o', '_', '_', 'd_e', '_', '_', 'd_o_c_u_m_e_n_t_o_s', '_', '_', 'm_u_i_t_a_s', '_', '_', 'v_e_z_e_s', '_', '_', 'u_s_a_n_d_o', '_', '_', 'r_e_v_i_s_õ_e_s', '_', '_', 'o_n_l_i_n_e', '_', '_', 'p_a_r_a', '_', '_', 'd_e_t_e_r_m_i_n_a_r', '_', '_', 'o', '_', '_', 'p_o_l_a_r_i_d_a_d_e', '_', '_', 's_o_b_r_e', '_', '_', 'o_b_j_e_t_o_s', '_', '_', 'e_s_p_e_c_í_f_i_c_o_s', '_', '_', 'É', '_', '_', 'e_s_p_e_c_i_a_l_m_e_n_t_e', '_', '_', 'ú_t_i_l', '_', '_', 'p_a_r_a', '_', '_', 'i_d_e_n_t_i_f_i_c_a_r', '_', '_', 't_e_n_d_ê_n_c_i_a_s', '_', '_', 'd_a', '_', '_', 'o_p_i_n_i_ã_o', '_', '_', 'p_ú_b_l_i_c_a', '_', '_', 'n_a_s', '_', '_', 'm_í_d_i_a_s', '_', '_', 's_o_c_i_a_i_s', '_', '_', 'p_a_r_a', '_', '_', 'f_i_n_s', '_', '_', 'd_e', '_', '_', 'm_a_r_k_e_t_i_n_g_R_e_c_o_n_h_e_c_i_m_e_n_t_o', '_', '_', 'd_e', '_', '_', 'f_a_l_a', '_', '\\n', '_', '\\n', '_', 'D_a_d_o', '_', '_', 'u_m', '_', '_', 'c_l_i_p_e', '_', '_', 'd_e', '_', '_', 's_o_m', '_', '_', 'd_e', '_', '_', 'u_m_a', '_', '_', 'p_e_s_s_o_a', '_', '_', 'o_u', '_', '_', 'p_e_s_s_o_a_s', '_', '_', 'f_a_l_a_n_d_o', '_', '_', 'd_e_t_e_r_m_i_n_a', '_', '_', 'o', '_', '_', 'r_e_p_r_e_s_e_n_t_a_ç_ã_o', '_', '_', 't_e_x_t_u_a_l', '_', '_', 'd_o', '_', '_', 'd_i_s_c_u_r_s_o', '_', '_', 'É', '_', '_', 'o', '_', '_', 'o_p_o_s_t_o', '_', '_', 'd_a', '_', '_', 's_í_n_t_e_s_e', '_', '_', 'd_e', '_', '_', 'f_a_l_a', '_', '_', 'e', '_', '_', 'ser', '_', '_', 'u_m_a', '_', '_', 'd_a_s', '_', '_', 'á_r_e_a_s', '_', '_', 'm_a_i_s', '_', '_', 'd_i_f_í_c_e_i_s', '_', '_', 'c_o_n_h_e_c_i_d_a', '_', '_', 'c_o_m_o', '_', '_', 'A_I_c_o_m_p_l_e_t_e', '_', '_', 'N_a', '_', '_', 'f_a_l_a', '_', '_', 'n_a_t_u_r_a_l', '_', '_', 'q_u_a_s_e', '_', '_', 'n_ã_o', '_', '_', 'h_á', '_', '_', 'p_a_u_s_a_s', '_', '_', 'e_n_t_r_e', '_', '_', 'p_a_l_a_v_r_a_s', '_', '_', 's_u_c_e_s_s_i_v_a_s', '_', '_', 'p_o_r', '_', '_', 'i_s_s_o', '_', '_', 'o', '_', '_', 's_e_g_m_e_n_t_a_ç_ã_o', '_', '_', 'd_e', '_', '_', 'f_a_l_a', '_', '_', 'ser', '_', '_', 'u_m_a', '_', '_', 's_u_b_t_a_r_e_f_a', '_', '_', 'n_e_c_e_s_s_á_r_i_a', '_', '_', 'd_e', '_', '_', 'r_e_c_o_n_h_e_c_i_m_e_n_t_o', '_', '_', 'd_e', '_', '_', 'f_a_l_a', '_', '_', 'N_o_t_a_s_e', '_', '_', 't_a_m_b_é_m', '_', '_', 'q_u_e', '_', '_', 'n_a', '_', '_', 'm_a_i_o_r_i_a', '_', '_', 'd_a_s', '_', '_', 'l_i_n_g_u_a_g_e_n_s', '_', '_', 'f_a_l_a_d_a_s', '_', '_', 'o_s', '_', '_', 's_o_n_s', '_', '_', 'q_u_e', '_', '_', 'r_e_p_r_e_s_e_n_t_a_m', '_', '_', 'l_e_t_r_a_s', '_', '_', 's_u_c_e_s_s_i_v_a_s', '_', '_', 's_e', '_', '_', 'm_i_s_t_u_r_a_m', '_', '_', 'e_n_t_r_e', '_', '_', 's_i', '_', '_', 'e_m', '_', '_', 'u_m', '_', '_', 'p_r_o_c_e_s_s_o', '_', '_', 'd_e_n_o_m_i_n_a_d_o', '_', '_', 'c_o_a_r_t_i_c_u_l_a_ç_ã_o', '_', '_', 'd_e', '_', '_', 'm_o_d_o', '_', '_', 'q_u_e', '_', '_', 'o', '_', '_', 'c_o_n_v_e_r_s_ã_o', '_', '_', 'd_o', '_', '_', 's_i_n_a_l', '_', '_', 'a_n_a_l_ó_g_i_c_o', '_', '_', 'e_m', '_', '_', 'c_a_r_a_c_t_e_r_e_s', '_', '_', 'd_i_s_c_r_e_t_o_s', '_', '_', 'p_o_d_e', '_', '_', 's_e_r', '_', '_', 'u_m', '_', '_', 'p_r_o_c_e_s_s_o', '_', '_', 'm_u_i_t_o', '_', '_', 'd_i_f_í_c_i_l', '_', '_', 'd_e', '_', '_', 's_e_r', '_', '_', 'r_e_a_l_i_z_a_d_o_S_e_g_m_e_n_t_a_ç_ã_o', '_', '_', 'd_e', '_', '_', 'f_a_l_a', '_', '\\n', '_', '\\n', '_', 'D_a_d_o', '_', '_', 'u_m', '_', '_', 'c_l_i_p_e', '_', '_', 'd_e', '_', '_', 's_o_m', '_', '_', 'd_e', '_', '_', 'u_m_a', '_', '_', 'p_e_s_s_o_a', '_', '_', 'o_u', '_', '_', 'p_e_s_s_o_a_s', '_', '_', 'f_a_l_a_n_d_o', '_', '_', 's_e_p_a_r_a_o', '_', '_', 'e_m', '_', '_', 'p_a_l_a_v_r_a_s', '_', '_', 'U_m_a', '_', '_', 's_u_b_a_p_l_i_c_a_ç_ã_o', '_', '_', 'd_e', '_', '_', 'r_e_c_o_n_h_e_c_i_m_e_n_t_o', '_', '_', 'd_e', '_', '_', 'f_a_l_a', '_', '_', 'e', '_', '_', 'n_o_r_m_a_l_m_e_n_t_e', '_', '_', 'a_g_r_u_p_a_d_a', '_', '_', 'c_o_m', '_', '_', 'e_l_e_A_n_á_l_i_s_e', '_', '_', 'm_o_r_f_o_l_ó_g_i_c_a', '_', '_', 'e', '_', '_', 'r_e_c_o_n_h_e_c_i_m_e_n_t_o', '_', '_', 'd_e', '_', '_', 't_ó_p_i_c_o_s', '_', '\\n', '_', '\\n', '_', 'D_a_d_o', '_', '_', 'u_m', '_', '_', 'p_e_d_a_ç_o', '_', '_', 'd_e', '_', '_', 't_e_x_t_o', '_', '_', 's_e_p_a_r_a_o', '_', '_', 'e_m', '_', '_', 's_e_g_m_e_n_t_o_s', '_', '_', 'c_a_d_a', '_', '_', 'u_m', '_', '_', 'd_o_s', '_', '_', 'q_u_a_i_s', '_', '_', 'ser', '_', '_', 'd_e_d_i_c_a_d_o', '_', '_', 'o', '_', '_', 'u_m', '_', '_', 't_ó_p_i_c_o', '_', '_', 'e', '_', '_', 'i_d_e_n_t_i_f_i_c_a', '_', '_', 'o', '_', '_', 't_ó_p_i_c_o', '_', '_', 'd_o', '_', '_', 's_e_g_m_e_n_t_o_A_n_á_l_i_s_e', '_', '_', 'm_o_r_f_o_l_ó_g_i_c_a', '_', '_', 'e', '_', '_', 's_e_g_m_e_n_t_a_ç_ã_o', '_', '_', 'd_e', '_', '_', 'p_a_l_a_v_r_a_s', '_', '\\n', '_', '\\n', '_', 'S_e_p_a_r_a', '_', '_', 'u_m', '_', '_', 'p_e_d_a_ç_o', '_', '_', 'd_e', '_', '_', 't_e_x_t_o', '_', '_', 'c_o_n_t_í_n_u_o', '_', '_', 'e_m', '_', '_', 'p_a_l_a_v_r_a_s', '_', '_', 's_e_p_a_r_a_d_a_s', '_', '_', 'P_a_r_a', '_', '_', 'u_m_a', '_', '_', 'l_í_n_g_u_a', '_', '_', 'c_o_m_o', '_', '_', 'o', '_', '_', 'i_n_g_l_ê_s', '_', '_', 'i_s_s_o', '_', '_', 'ser', '_', '_', 'b_a_s_t_a_n_t_e', '_', '_', 't_r_i_v_i_a_l', '_', '_', 'u_m_a', '_', '_', 'v_e_z', '_', '_', 'q_u_e', '_', '_', 'a_s', '_', '_', 'p_a_l_a_v_r_a_s', '_', '_', 's_ã_o', '_', '_', 'n_o_r_m_a_l_m_e_n_t_e', '_', '_', 's_e_p_a_r_a_d_a_s', '_', '_', 'p_o_r', '_', '_', 'e_s_p_a_ç_o_s', '_', '_', 'N_o', '_', '_', 'e_n_t_a_n_t_o', '_', '_', 'a_l_g_u_m_a_s', '_', '_', 'l_í_n_g_u_a_s', '_', '_', 'e_s_c_r_i_t_a_s', '_', '_', 'c_o_m_o', '_', '_', 'c_h_i_n_ê_s', '_', '_', 'j_a_p_o_n_ê_s', '_', '_', 'e', '_', '_', 't_a_i_l_a_n_d_ê_s', '_', '_', 'n_ã_o', '_', '_', 'm_a_r_c_a_m', '_', '_', 'l_i_m_i_t_e_s', '_', '_', 'd_e', '_', '_', 'p_a_l_a_v_r_a_s', '_', '_', 'd_e', '_', '_', 't_a_l', '_', '_', 'f_o_r_m_a', '_', '_', 'e', '_', '_', 'n_e_s_s_a_s', '_', '_', 'l_í_n_g_u_a_s', '_', '_', 's_e_g_m_e_n_t_a_ç_ã_o', '_', '_', 'd_e', '_', '_', 't_e_x_t_o', '_', '_', 'ser', '_', '_', 'u_m_a', '_', '_', 't_a_r_e_f_a', '_', '_', 's_i_g_n_i_f_i_c_a_t_i_v_a', '_', '_', 'q_u_e', '_', '_', 'r_e_q_u_e_r', '_', '_', 'c_o_n_h_e_c_i_m_e_n_t_o', '_', '_', 'd_o', '_', '_', 'v_o_c_a_b_u_l_á_r_i_o', '_', '_', 'e', '_', '_', 'm_o_r_f_o_l_o_g_i_a', '_', '_', 'd_a_s', '_', '_', 'p_a_l_a_v_r_a_s', '_', '_', 'n_a', '_', '_', 'l_í_n_g_u_a_D_e_s_a_m_b_i_g_u_a_ç_ã_o', '_', '\\n', '_', '\\n', '_', 'M_u_i_t_a_s', '_', '_', 'p_a_l_a_v_r_a_s', '_', '_', 't_ê_m', '_', '_', 'm_a_i_s', '_', '_', 'd_e', '_', '_', 'u_m', '_', '_', 's_i_g_n_i_f_i_c_a_d_o', '_', '_', 'a_s_s_i_m', '_', '_', 't_e_m_o_s', '_', '_', 'q_u_e', '_', '_', 's_e_l_e_c_i_o_n_a_r', '_', '_', 'o', '_', '_', 's_i_g_n_i_f_i_c_a_d_o', '_', '_', 'q_u_e', '_', '_', 'f_a_z', '_', '_', 'm_a_i_s', '_', '_', 's_e_n_t_i_d_o', '_', '_', 'n_o', '_', '_', 'c_o_n_t_e_x_t_o', '_', '_', 'P_a_r_a', '_', '_', 'e_s_t_e', '_', '_', 'p_r_o_b_l_e_m_a', '_', '_', 'e_m', '_', '_', 'g_e_r_a_l', '_', '_', 'ser', '_', '_', 'd_a_d_a', '_', '_', 'u_m_a', '_', '_', 'l_i_s_t_a', '_', '_', 'd_e', '_', '_', 'p_a_l_a_v_r_a_s', '_', '_', 'e', '_', '_', 's_e_n_t_i_d_o_s', '_', '_', 'd_e', '_', '_', 'p_a_l_a_v_r_a_s', '_', '_', 'a_s_s_o_c_i_a_d_a_s', '_', '_', 'd_e', '_', '_', 'u_m', '_', '_', 'd_i_c_i_o_n_á_r_i_o', '_', '_', 'o_u', '_', '_', 'r_e_c_u_r_s_o', '_', '_', 'o_n_l_i_n_e', '_', '_', 'c_o_m_o', '_', '_', 'o', '_', '_', 'W_o_r_d_N_e_t', '_', '\\n', '_', 'E_m', '_', '_', 'a_l_g_u_n_s', '_', '_', 'c_a_s_o_s', '_', '_', 'c_o_n_j_u_n_t_o_s', '_', '_', 'd_e', '_', '_', 't_a_r_e_f_a_s', '_', '_', 'r_e_l_a_c_i_o_n_a_d_a_s', '_', '_', 's_ã_o', '_', '_', 'a_g_r_u_p_a_d_o_s', '_', '_', 'e_m', '_', '_', 's_u_b_c_a_m_p_o_s', '_', '_', 'd_e', '_', '_', 'P_L_N', '_', '_', 'q_u_e', '_', '_', 's_ã_o', '_', '_', 'f_r_e_q_u_e_n_t_e_m_e_n_t_e', '_', '_', 'c_o_n_s_i_d_e_r_a_d_o_s', '_', '_', 's_e_p_a_r_a_d_a_m_e_n_t_e', '_', '_', 'd_a', '_', '_', 'P_L_N', '_', '_', 'c_o_m_o', '_', '_', 'u_m', '_', '_', 't_o_d_o', '_', '_', 'c_o_m_o', '_', '_', 'o_s', '_', '_', 'e_x_e_m_p_l_o_s', '_', '_', 'à', '_', '_', 's_e_g_u_i_r_R_e_c_u_p_e_r_a_ç_ã_o', '_', '_', 'd_e', '_', '_', 'i_n_f_o_r_m_a_ç_ã_o', '_', '_', 'I_R', '_', '\\n', '_', '\\n', '_', 'T_r_a_t_a_s_e', '_', '_', 'd_e', '_', '_', 'a_r_m_a_z_e_n_a_r', '_', '_', 'p_e_s_q_u_i_s_a_r', '_', '_', 'e', '_', '_', 'r_e_c_u_p_e_r_a_r', '_', '_', 'i_n_f_o_r_m_a_ç_õ_e_s', '_', '_', 'É', '_', '_', 'u_m', '_', '_', 'c_a_m_p_o', '_', '_', 's_e_p_a_r_a_d_o', '_', '_', 'd_e_n_t_r_o', '_', '_', 'd_a', '_', '_', 'c_i_ê_n_c_i_a', '_', '_', 'd_a', '_', '_', 'c_o_m_p_u_t_a_ç_ã_o', '_', '_', 'm_a_i_s', '_', '_', 'p_e_r_t_o', '_', '_', 'd_e', '_', '_', 'b_a_n_c_o_s', '_', '_', 'd_e', '_', '_', 'd_a_d_o_s', '_', '_', 'm_a_s', '_', '_', 'o', '_', '_', 'I_R', '_', '_', 's_e', '_', '_', 'b_a_s_e_i_a', '_', '_', 'e_m', '_', '_', 'a_l_g_u_n_s', '_', '_', 'm_é_t_o_d_o_s', '_', '_', 'P_L_N', '_', '_', 'p_o_r', '_', '_', 'e_x_e_m_p_l_o', '_', '_', 's_t_e_m_m_i_n_g', '_', '_', 'A_l_g_u_m_a_s', '_', '_', 'p_e_s_q_u_i_s_a_s', '_', '_', 'e', '_', '_', 'a_p_l_i_c_a_ç_õ_e_s', '_', '_', 'a_t_u_a_i_s', '_', '_', 'p_r_o_c_u_r_a_m', '_', '_', 'p_r_e_e_n_c_h_e_r', '_', '_', 'o', '_', '_', 'l_a_c_u_n_a', '_', '_', 'e_n_t_r_e', '_', '_', 'I_R', '_', '_', 'e', '_', '_', 'P_L_N_E_x_t_r_a_ç_ã_o', '_', '_', 'd_e', '_', '_', 'i_n_f_o_r_m_a_ç_ã_o', '_', '_', 'I_E', '_', '\\n', '_', '\\n', '_', 'T_r_a_t_a_s_e', '_', '_', 'e_m', '_', '_', 'g_e_r_a_l', '_', '_', 'd_a', '_', '_', 'e_x_t_r_a_ç_ã_o', '_', '_', 'd_e', '_', '_', 'i_n_f_o_r_m_a_ç_ã_o', '_', '_', 's_e_m_â_n_t_i_c_a', '_', '_', 'o', '_', '_', 'p_a_r_t_i_r', '_', '_', 'd_o', '_', '_', 't_e_x_t_o', '_', '_', 'A_b_r_a_n_g_e', '_', '_', 't_a_r_e_f_a_s', '_', '_', 'c_o_m_o', '_', '_', 'r_e_c_o_n_h_e_c_i_m_e_n_t_o', '_', '_', 'd_e', '_', '_', 'e_n_t_i_d_a_d_e', '_', '_', 'm_e_n_c_i_o_n_a_d_a', '_', '_', 'r_e_s_o_l_u_ç_ã_o', '_', '_', 'd_e', '_', '_', 'c_o_r_r_e_f_e_r_ê_n_c_i_a', '_', '_', 'e', '_', '_', 'd_e', '_', '_', 'r_e_l_a_c_i_o_n_a_m_e_n_t_o', '_', '_', 'd_e', '_', '_', 'e_x_t_r_a_ç_ã_o', '_', '_', 'e_t_c', '_', '\\n', '_', 'P_r_o_c_e_s_s_a_m_e_n_t_o', '_', '_', 'd_e', '_', '_', 'v_o_z', '_', '_', '_', 'A_b_r_a_n_g_e', '_', '_', 'r_e_c_o_n_h_e_c_i_m_e_n_t_o', '_', '_', 'd_e', '_', '_', 'f_a_l_a', '_', '_', 's_í_n_t_e_s_e', '_', '_', 'd_e', '_', '_', 'f_a_l_a', '_', '_', 'e', '_', '_', 't_a_r_e_f_a_s', '_', '_', 'r_e_l_a_c_i_o_n_a_d_a_s', '_', '\\n', '_', 'O_u_t_r_a_s', '_', '_', 't_a_r_e_f_a_s', '_', '_', 'i_n_c_l_u_e_m', '_', '\\n', '_', 'I_d_e_n_t_i_f_i_c_a_ç_ã_o', '_', '_', 'n_a', '_', '_', 'l_í_n_g_u_a', '_', '_', 'm_a_t_e_r_n_a', '_', '\\n', '_', 'S_t_e_m_i_z_a_ç_ã_o', '_', '\\n', '_', 'S_i_m_p_l_i_f_i_c_a_ç_ã_o', '_', '_', 'd_o', '_', '_', 't_e_x_t_o', '_', '\\n', '_', 'S_í_n_t_e_s_e', '_', '_', 'd_e', '_', '_', 'f_a_l_a', '_', '\\n', '_', 'R_e_v_i_s_ã_o', '_', '_', 'd_e', '_', '_', 't_e_x_t_o', '_', '\\n', '_', 'P_e_s_q_u_i_s_a', '_', '_', 'e_m', '_', '_', 'l_í_n_g_u_a', '_', '_', 'n_a_t_u_r_a_l', '_', '\\n', '_', 'E_x_p_a_n_s_ã_o', '_', '_', 'd_a', '_', '_', 'c_o_n_s_u_l_t_a', '_', '\\n', '_', 'P_o_n_t_u_a_ç_ã_o', '_', '_', 'd_e', '_', '_', 'e_n_s_a_i_o', '_', '_', 'a_u_t_o_m_a_t_i_z_a_d_o', '_', '\\n', '_', 'T_r_u_e_c_a_s_i_n_g', '_', '\\n', '_', '\\n', '_', '\\n', '_', '_', 'E_s_t_a_t_í_s_t_i_c_a', '_', '_', '\\n', '_', 'A_r_t_i_g_o', '_', '_', 'p_r_i_n_c_i_p_a_l', '_', '_', 'G_r_a_m_á_t_i_c_a', '_', '_', 'e_s_t_o_c_á_s_t_i_c_a', '_', '\\n', '_', 'O', '_', '_', 'p_r_o_c_e_s_s_a_m_e_n_t_o', '_', '_', 'e_s_t_a_t_í_s_t_i_c_o', '_', '_', 'e_m', '_', '_', 'l_í_n_g_u_a', '_', '_', 'n_a_t_u_r_a_l', '_', '_', 'u_t_i_l_i_z_a', '_', '_', 'm_é_t_o_d_o_s', '_', '_', 'e_s_t_o_c_á_s_t_i_c_o_s', '_', '_', 'p_r_o_b_a_b_i_l_í_s_t_i_c_o_s', '_', '_', 'e', '_', '_', 'e_s_t_a_t_í_s_t_i_c_o_s', '_', '_', 'p_a_r_a', '_', '_', 'r_e_s_o_l_v_e_r', '_', '_', 'a_l_g_u_m_a_s', '_', '_', 'd_a_s', '_', '_', 'd_i_f_i_c_u_l_d_a_d_e_s', '_', '_', 'd_i_s_c_u_t_i_d_a_s', '_', '_', 'a_c_i_m_a', '_', '_', 'e_s_p_e_c_i_a_l_m_e_n_t_e', '_', '_', 'a_q_u_e_l_a_s', '_', '_', 'q_u_e', '_', '_', 's_u_r_g_e_m', '_', '_', 'p_o_r_q_u_e', '_', '_', 'f_r_a_s_e_s', '_', '_', 'm_a_i_s', '_', '_', 'l_o_n_g_a_s', '_', '_', 's_ã_o', '_', '_', 'm_u_i_t_o', '_', '_', 'a_m_b_í_g_u_a_s', '_', '_', 'q_u_a_n_d_o', '_', '_', 'p_r_o_c_e_s_s_a_d_a_s', '_', '_', 'c_o_m', '_', '_', 'g_r_a_m_á_t_i_c_a_s', '_', '_', 'r_e_a_l_i_s_t_a_s', '_', '_', 'p_r_o_d_u_z_i_n_d_o', '_', '_', 'm_i_l_h_a_r_e_s', '_', '_', 'o_u', '_', '_', 'm_i_l_h_õ_e_s', '_', '_', 'd_e', '_', '_', 'a_n_á_l_i_s_e_s', '_', '_', 'p_o_s_s_í_v_e_i_s', '_', '_', 'M_é_t_o_d_o_s', '_', '_', 'd_e', '_', '_', 'd_e_s_a_m_b_i_g_u_a_ç_ã_o', '_', '_', 'e_n_v_o_l_v_e_m', '_', '_', 'm_u_i_t_a_s', '_', '_', 'v_e_z_e_s', '_', '_', 'o', '_', '_', 'u_s_o', '_', '_', 'd_e', '_', '_', 'c_o_r_p_o_r_a', '_', '_', 'e', '_', '_', 'm_o_d_e_l_o_s', '_', '_', 'd_e', '_', '_', 'M_a_r_k_o_v', '_', '_', 'O', '_', '_', 'p_r_o_j_e_t_o', '_', '_', 'E_S_P_R_I_T', '_', '_', 'P_2_6', '_', '_', '1_9_8_4_1_9_8_8', '_', '_', 'l_i_d_e_r_a_d_o', '_', '_', 'p_e_l_o', '_', '_', 'C_S_E_L_T', '_', '_', 'e_x_p_l_o_r_o_u', '_', '_', 'o', '_', '_', 'p_r_o_b_l_e_m_a', '_', '_', 'd_o', '_', '_', 'r_e_c_o_n_h_e_c_i_m_e_n_t_o', '_', '_', 'd_e', '_', '_', 'f_a_l_a', '_', '_', 'c_o_m_p_a_r_a_n_d_o', '_', '_', 'a_b_o_r_d_a_g_e_m', '_', '_', 'b_a_s_e_a_d_a', '_', '_', 'e_m', '_', '_', 'c_o_n_h_e_c_i_m_e_n_t_o', '_', '_', 'e', '_', '_', 'e_s_t_a_t_í_s_t_i_c_a', '_', '_', 'o', '_', '_', 'r_e_s_u_l_t_a_d_o', '_', '_', 'e_s_c_o_l_h_i_d_o', '_', '_', 'f_o_i', '_', '_', 'u_m', '_', '_', 'm_o_d_e_l_o', '_', '_', 'c_o_m_p_l_e_t_a_m_e_n_t_e', '_', '_', 'e_s_t_a_t_í_s_t_i_c_o', '_', '_', 'U_m', '_', '_', 'd_o_s', '_', '_', 'p_r_i_m_e_i_r_o_s', '_', '_', 'm_o_d_e_l_o_s', '_', '_', 'd_e', '_', '_', 'c_o_m_p_r_e_e_n_s_ã_o', '_', '_', 'e_s_t_a_t_í_s_t_i_c_a', '_', '_', 'd_a', '_', '_', 'l_í_n_g_u_a', '_', '_', 'n_a_t_u_r_a_l', '_', '_', 'f_o_i', '_', '_', 'i_n_t_r_o_d_u_z_i_d_o', '_', '_', 'e_m', '_', '_', '1_9_9_1', '_', '_', 'p_o_r', '_', '_', 'R_o_b_e_r_t_o', '_', '_', 'P_i_e_r_a_c_c_i_n_i', '_', '_', 'E_s_t_h_e_r', '_', '_', 'L_e_v_i_n', '_', '_', 'e', '_', '_', 'C_h_i_n_H_u_i', '_', '_', 'L_e_e', '_', '_', 'd_a', '_', '_', 'B_e_l_l', '_', '_', 'L_a_b_o_r_a_t_o_r_i_e_s', '_', ']', '_', '_', 'O', '_', '_', 'P_L_N', '_', '_', 'c_o_m_p_r_e_e_n_d_e', '_', '_', 't_o_d_a_s', '_', '_', 'a_s', '_', '_', 'a_b_o_r_d_a_g_e_n_s', '_', '_', 'q_u_a_n_t_i_t_a_t_i_v_a_s', '_', '_', 'p_a_r_a', '_', '_', 'p_r_o_c_e_s_s_a_m_e_n_t_o', '_', '_', 'a_u_t_o_m_a_t_i_z_a_d_o', '_', '_', 'd_e', '_', '_', 'l_i_n_g_u_a_g_e_m', '_', '_', 'i_n_c_l_u_i_n_d_o', '_', '_', 'm_o_d_e_l_a_g_e_m', '_', '_', 'p_r_o_b_a_b_i_l_í_s_t_i_c_a', '_', '_', 't_e_o_r_i_a', '_', '_', 'd_a', '_', '_', 'i_n_f_o_r_m_a_ç_ã_o', '_', '_', 'e', '_', '_', 'á_l_g_e_b_r_a', '_', '_', 'l_i_n_e_a_r', '_', '_', 'A', '_', '_', 't_e_c_n_o_l_o_g_i_a', '_', '_', 'p_a_r_a', '_', '_', 'o', '_', '_', 'P_L_N', '_', '_', 'e_s_t_a_t_í_s_t_i_c_o', '_', '_', 'v_e_m', '_', '_', 'p_r_i_n_c_i_p_a_l_m_e_n_t_e', '_', '_', 'd_a', '_', '_', 'a_p_r_e_n_d_i_z_a_g_e_m', '_', '_', 'a_u_t_o_m_á_t_i_c_a', '_', '_', 'e', '_', '_', 'd_a', '_', '_', 'm_i_n_e_r_a_ç_ã_o', '_', '_', 'd_e', '_', '_', 'd_a_d_o_s', '_', '_', 'q_u_e', '_', '_', 's_ã_o', '_', '_', 'c_a_m_p_o_s', '_', '_', 'd_e', '_', '_', 'i_n_t_e_l_i_g_ê_n_c_i_a', '_', '_', 'a_r_t_i_f_i_c_i_a_l', '_', '_', 'q_u_e', '_', '_', 'e_n_v_o_l_v_e_m', '_', '_', 'o', '_', '_', 'a_p_r_e_n_d_i_z_a_d_o', '_', '_', 'o', '_', '_', 'p_a_r_t_i_r', '_', '_', 'd_e', '_', '_', 'd_a_d_o_s', '_', '\\n', '_', '\\n', '_', '\\n', '_', '_', 'A_v_a_l_i_a_ç_ã_o', '_', '_', '\\n', '_', 'O', '_', '_', 'o_b_j_e_t_i_v_o', '_', '_', 'd_a', '_', '_', 'a_v_a_l_i_a_ç_ã_o', '_', '_', 'd_o', '_', '_', 'P_L_N', '_', '_', 'ser', '_', '_', 'u_m_a', '_', '_', 'm_e_d_i_d_a', '_', '_', 'd_e', '_', '_', 'u_m_a', '_', '_', 'o_u', '_', '_', 'm_a_i_s', '_', '_', 'q_u_a_l_i_d_a_d_e_s', '_', '_', 'd_e', '_', '_', 'u_m', '_', '_', 'a_l_g_o_r_i_t_m_o', '_', '_', 'o_u', '_', '_', 'd_e', '_', '_', 'u_m', '_', '_', 's_i_s_t_e_m_a', '_', '_', 'o', '_', '_', 'f_i_m', '_', '_', 'd_e', '_', '_', 'd_e_t_e_r_m_i_n_a_r', '_', '_', 's_e', '_', '_', 'o', '_', '_', 'a_l_g_o_r_i_t_m_o', '_', '_', 'a_t_e_n_d_e', '_', '_', 'à_s', '_', '_', 'm_e_t_a_s', '_', '_', 'd_o_s', '_', '_', 'p_r_o_j_e_t_i_s_t_a_s', '_', '_', 'o_u', '_', '_', 'o', '_', '_', 's_i_s_t_e_m_a', '_', '_', 'd_e', '_', '_', 'a_t_e_n_d_i_m_e_n_t_o', '_', '_', 'à_s', '_', '_', 'n_e_c_e_s_s_i_d_a_d_e_s', '_', '_', 'd_e', '_', '_', 's_e_u_s', '_', '_', 'u_s_u_á_r_i_o_s', '_', '_', 'I_n_v_e_s_t_i_g_a_ç_ã_o', '_', '_', 'n_a', '_', '_', 'a_v_a_l_i_a_ç_ã_o', '_', '_', 'P_L_N', '_', '_', '_', 't_e_m', '_', '_', 'g_a_n_h_a_d_o', '_', '_', 'a_t_e_n_ç_ã_o', '_', '_', 'p_o_r_q_u_e', '_', '_', 'o', '_', '_', 'd_e_f_i_n_i_ç_ã_o', '_', '_', 'd_e', '_', '_', 'c_r_i_t_é_r_i_o_s', '_', '_', 'd_e', '_', '_', 'a_v_a_l_i_a_ç_ã_o', '_', '_', 'ser', '_', '_', 'u_m_a', '_', '_', 'f_o_r_m_a', '_', '_', 'd_e', '_', '_', 'e_s_p_e_c_i_f_i_c_a_r', '_', '_', 'p_r_e_c_i_s_a_m_e_n_t_e', '_', '_', 'p_r_o_b_l_e_m_a_s', '_', '_', 'd_o', '_', '_', 'P_L_N', '_', '_', 'U_m_a', '_', '_', 'm_é_t_r_i_c_a', '_', '_', 'd_e', '_', '_', 'a_v_a_l_i_a_ç_ã_o', '_', '_', 'd_e', '_', '_', 'P_L_N', '_', '_', 'e_m', '_', '_', 'u_m', '_', '_', 's_i_s_t_e_m_a', '_', '_', 'a_l_g_o_r_í_t_m_i_c_o', '_', '_', 'p_e_r_m_i_t_e', '_', '_', 'o', '_', '_', 'i_n_t_e_g_r_a_ç_ã_o', '_', '_', 'd_a', '_', '_', 'c_o_m_p_r_e_e_n_s_ã_o', '_', '_', 'd_e', '_', '_', 'l_i_n_g_u_a_g_e_m', '_', '_', 'e', '_', '_', 'g_e_r_a_ç_ã_o', '_', '_', 'd_e', '_', '_', 'l_i_n_g_u_a_g_e_m', '_', '_', 'U_m', '_', '_', 'c_o_n_j_u_n_t_o', '_', '_', 'p_r_e_c_i_s_o', '_', '_', 'd_e', '_', '_', 'c_r_i_t_é_r_i_o_s', '_', '_', 'd_e', '_', '_', 'a_v_a_l_i_a_ç_ã_o', '_', '_', 'q_u_e', '_', '_', 'p_o_d_e', '_', '_', 's_e_r', '_', '_', 'a_p_l_i_c_a_d_o', '_', '_', 'p_r_i_n_c_i_p_a_l_m_e_n_t_e', '_', '_', 'o', '_', '_', 'a_v_a_l_i_a_ç_õ_e_s', '_', '_', 'm_é_t_r_i_c_a_s', '_', '_', 'p_o_d_e_n_d_o', '_', '_', 'p_e_r_m_i_t_i_r', '_', '_', 'q_u_e', '_', '_', 'v_á_r_i_a_s', '_', '_', 'e_q_u_i_p_e_s', '_', '_', 'c_o_m_p_a_r_e_m', '_', '_', 's_u_a_s', '_', '_', 's_o_l_u_ç_õ_e_s', '_', '_', 'p_a_r_a', '_', '_', 'u_m', '_', '_', 'd_e_t_e_r_m_i_n_a_d_o', '_', '_', 'p_r_o_b_l_e_m_a', '_', '_', 'd_o', '_', '_', 'P_L_N', '_', '\\n', '_', '\\n', '_', '\\n', '_', '_', 'C_r_o_n_o_l_o_g_i_a', '_', '_', 'd_a', '_', '_', 'a_v_a_l_i_a_ç_ã_o', '_', '_', '\\n', '_', 'E_m', '_', '_', '1_9_8_3', '_', '_', 'i_n_i_c_i_o_u_s_e', '_', '_', 'o', '_', '_', 'P_r_o_j_e_c_t_o', '_', '_', 'E_s_p_r_i_t', '_', '_', 'P_2_6', '_', '_', 'q_u_e', '_', '_', 'a_v_a_l_i_o_u', '_', '_', 'a_s', '_', '_', 'T_e_c_n_o_l_o_g_i_a_s', '_', '_', 'd_a', '_', '_', 'F_a_l_a', '_', '_', 'i_n_c_l_u_i_n_d_o', '_', '_', 't_ó_p_i_c_o_s', '_', '_', 'g_e_r_a_i_s', '_', '_', 'c_o_m_o', '_', '_', 'S_i_n_t_a_x_e', '_', '_', 'e', '_', '_', 'S_e_m_â_n_t_i_c_a', '_', '_', 'c_o_m_p_a_r_a_n_d_o', '_', '_', 'a_s', '_', '_', 'a_b_o_r_d_a_g_e_n_s', '_', '_', 'b_a_s_e_a_d_a_s', '_', '_', 'e_m', '_', '_', 'r_e_g_r_a_s', '_', '_', 'c_o_m', '_', '_', 'a_s', '_', '_', 'e_s_t_a_t_í_s_t_i_c_a_s', '_', '\\n', '_', 'E_m', '_', '_', '1_9_8_7', '_', '_', 'o', '_', '_', 'p_r_i_m_e_i_r_a', '_', '_', 'c_a_m_p_a_n_h_a', '_', '_', 'd_e', '_', '_', 'a_v_a_l_i_a_ç_ã_o', '_', '_', 'd_e', '_', '_', 't_e_x_t_o_s', '_', '_', 'e_s_c_r_i_t_o_s', '_', '_', 'p_a_r_e_c_e', '_', '_', 's_e_r', '_', '_', 'u_m_a', '_', '_', 'c_a_m_p_a_n_h_a', '_', '_', 'd_e_d_i_c_a_d_a', '_', '_', 'à', '_', '_', 'c_o_m_p_r_e_e_n_s_ã_o', '_', '_', 'd_a', '_', '_', 'm_e_n_s_a_g_e_m', '_', '_', 'P_a_l_l_e_t', '_', '_', '1_9_9_8', '_', '\\n', '_', 'O', '_', '_', 'p_r_o_j_e_t_o', '_', '_', 'P_a_r_s_e_v_a_l', '_', '_', '_', 'G_E_I_G', '_', '_', 'c_o_m_p_a_r_o_u', '_', '_', 'g_r_a_m_á_t_i_c_a_s', '_', '_', 'd_e', '_', '_', 'f_r_a_s_e_e_s_t_r_u_t_u_r_a', '_', '_', 'B_l_a_c_k', '_', '_', '1_9_9_1', '_', '\\n', '_', 'H_o_u_v_e', '_', '_', 'u_m_a', '_', '_', 's_é_r_i_e', '_', '_', 'd_e', '_', '_', 'c_a_m_p_a_n_h_a_s', '_', '_', 'n_o', '_', '_', 'p_r_o_j_e_t_o', '_', '_', 'T_i_p_s_t_e_r', '_', '_', 's_o_b_r_e', '_', '_', 't_a_r_e_f_a_s', '_', '_', 'c_o_m_o', '_', '_', 'r_e_s_u_m_o', '_', '_', 't_r_a_d_u_ç_ã_o', '_', '_', 'e', '_', '_', 'p_e_s_q_u_i_s_a', '_', '_', 'H_i_r_s_c_h_m_a_n', '_', '_', '1_9_9_8', '_', '\\n', '_', 'E_m', '_', '_', '1_9_9_4', '_', '_', 'n_a', '_', '_', 'A_l_e_m_a_n_h_a', '_', '_', 'o', '_', '_', 'M_o_r_p_h_o_l_y_m_p_i_c_s', '_', '_', 'c_o_m_p_a_r_o_u', '_', '_', 'm_a_r_c_a_d_o_r_e_s', '_', '_', 'm_o_r_f_o_l_ó_g_i_c_o_s', '_', '_', 'a_l_e_m_ã_e_s', '_', '\\n', '_', 'A_s', '_', '_', 'c_a_m_p_a_n_h_a_s', '_', '_', 'd_e', '_', '_', 'S_e_n_s_e_v_a_l', '_', '_', '_', 'R_o_m_a_n_s_e_v_a_l', '_', '_', 'f_o_r_a_m', '_', '_', 'r_e_a_l_i_z_a_d_a_s', '_', '_', 'c_o_m', '_', '_', 'o_s', '_', '_', 'o_b_j_e_t_i_v_o_s', '_', '_', 'd_e', '_', '_', 'd_e_s_a_m_b_i_g_u_a_ç_ã_o', '_', '_', 's_e_m_â_n_t_i_c_a', '_', '\\n', '_', 'E_m', '_', '_', '1_9_9_6', '_', '_', 'o', '_', '_', 'c_a_m_p_a_n_h_a', '_', '_', 'S_p_a_r_k_l_e', '_', '_', 'c_o_m_p_a_r_o_u', '_', '_', 'o_s', '_', '_', 'a_n_a_l_i_s_a_d_o_r_e_s', '_', '_', 's_i_n_t_á_t_i_c_o_s', '_', '_', 'e_m', '_', '_', 'q_u_a_t_r_o', '_', '_', 'i_d_i_o_m_a_s', '_', '_', 'd_i_f_e_r_e_n_t_e_s', '_', '_', 'i_n_g_l_ê_s', '_', '_', 'f_r_a_n_c_ê_s', '_', '_', 'a_l_e_m_ã_o', '_', '_', 'e', '_', '_', 'i_t_a_l_i_a_n_o', '_', '\\n', '_', 'N_a', '_', '_', 'F_r_a_n_ç_a', '_', '_', 'o', '_', '_', 'p_r_o_j_e_t_o', '_', '_', 'G_r_a_c_e', '_', '_', 'c_o_m_p_a_r_o_u', '_', '_', 'u_m', '_', '_', 'c_o_n_j_u_n_t_o', '_', '_', 'd_e', '_', '_', '2_1', '_', '_', 'm_a_r_c_a_d_o_r_e_s', '_', '_', 'p_a_r_a', '_', '_', 'o', '_', '_', 'f_r_a_n_c_ê_s', '_', '_', 'e_m', '_', '_', '1_9_9_7', '_', '_', 'A_d_d_a', '_', '_', '1_9_9_9', '_', '\\n', '_', 'E_m', '_', '_', '2_0_0_4', '_', '_', 'd_u_r_a_n_t_e', '_', '_', 'o', '_', '_', 'p_r_o_j_e_t_o', '_', '_', 'T_e_c_h_n_o_l_a_n_g_u_e', '_', '_', '_', 'E_a_s_y', '_', '_', 'f_o_r_a_m', '_', '_', 'c_o_m_p_a_r_a_d_o_s', '_', '_', '1_3', '_', '_', 'a_n_a_l_i_s_a_d_o_r_e_s', '_', '_', 'p_a_r_a', '_', '_', 'o', '_', '_', 'f_r_a_n_c_ê_s', '_', '\\n', '_', 'A', '_', '_', 'a_v_a_l_i_a_ç_ã_o', '_', '_', 'e_m', '_', '_', 'l_a_r_g_a', '_', '_', 'e_s_c_a_l_a', '_', '_', 'd_o_s', '_', '_', 'a_n_a_l_i_s_a_d_o_r_e_s', '_', '_', 'd_e', '_', '_', 'd_e_p_e_n_d_ê_n_c_i_a', '_', '_', 'f_o_i', '_', '_', 'r_e_a_l_i_z_a_d_a', '_', '_', 'n_o', '_', '_', 'c_o_n_t_e_x_t_o', '_', '_', 'd_a_s', '_', '_', 't_a_r_e_f_a_s', '_', '_', 'c_o_m_p_a_r_t_i_l_h_a_d_a_s', '_', '_', 'd_o', '_', '_', 'C_o_N_L_L', '_', '_', 'e_m', '_', '_', '2_0_0_6', '_', '_', 'e', '_', '_', '2_0_0_7', '_', '\\n', '_', 'N_a', '_', '_', 'F_r_a_n_ç_a', '_', '_', 'n_o', '_', '_', 'â_m_b_i_t_o', '_', '_', 'd_o', '_', '_', 'p_r_o_j_e_c_t_o', '_', '_', 'A_N_R_P_a_s_s_a_g_e', '_', '_', 'f_i_n_a_l', '_', '_', 'd_e', '_', '_', '2_0_0_7', '_', '_', 'f_o_r_a_m', '_', '_', 'c_o_m_p_a_r_a_d_o_s', '_', '_', '1_0', '_', '_', 'a_n_a_l_i_s_a_d_o_r_e_s', '_', '_', 'p_a_r_a', '_', '_', 'o', '_', '_', 'f_r_a_n_c_ê_s', '_', '\\n', '_', 'E_m', '_', '_', 'I_t_á_l_i_a', '_', '_', 'o', '_', '_', 'c_a_m_p_a_n_h_a', '_', '_', 'E_V_A_L_I_T_A', '_', '_', 'f_o_i', '_', '_', 'r_e_a_l_i_z_a_d_a', '_', '_', 'e_m', '_', '_', '2_0_0_7', '_', '_', '2_0_0_9', '_', '_', '2_0_1_1', '_', '_', 'e', '_', '_', '2_0_1_4', '_', '_', 'p_a_r_a', '_', '_', 'c_o_m_p_a_r_a_r', '_', '_', 'v_á_r_i_a_s', '_', '_', 'f_e_r_r_a_m_e_n_t_a_s', '_', '_', 'd_e', '_', '_', 'P_L_N', '_', '_', 'e', '_', '_', 'd_e', '_', '_', 'v_o_z', '_', '_', 'p_a_r_a', '_', '_', 'o', '_', '_', 's_i_t_e', '_', '_', 'i_t_a_l_i_a_n_o', '_', '_', '_', 'E_V_A_L_I_T_A', '_', '\\n', '_', '\\n', '_', '\\n', '_', '_', 'D_i_f_e_r_e_n_t_e_s', '_', '_', 't_i_p_o_s', '_', '_', 'd_e', '_', '_', 'a_v_a_l_i_a_ç_ã_o', '_', '_', '\\n', '_', 'A_v_a_l_i_a_ç_ã_o', '_', '_', 'i_n_t_r_í_n_s_e_c_a', '_', '_', 'v_s', '_', '_', 'e_x_t_r_í_n_s_e_c_a', '_', '\\n', '_', 'A', '_', '_', 'a_v_a_l_i_a_ç_ã_o', '_', '_', 'i_n_t_r_í_n_s_e_c_a', '_', '_', 'c_o_n_s_i_d_e_r_a', '_', '_', 'u_m', '_', '_', 's_i_s_t_e_m_a', '_', '_', 'P_N_L', '_', '_', 'i_s_o_l_a_d_o', '_', '_', 'e', '_', '_', 'c_a_r_a_c_t_e_r_i_z_a', '_', '_', 's_e_u', '_', '_', 'd_e_s_e_m_p_e_n_h_o', '_', '_', 'e_m', '_', '_', 'r_e_l_a_ç_ã_o', '_', '_', 'o', '_', '_', 'u_m', '_', '_', 'r_e_s_u_l_t_a_d_o', '_', '_', 'p_a_d_r_ã_o_e_x_c_e_l_ê_n_c_i_a', '_', '_', 'c_o_n_f_o_r_m_e', '_', '_', 'd_e_f_i_n_i_d_o', '_', '_', 'p_e_l_o_s', '_', '_', 'a_v_a_l_i_a_d_o_r_e_s', '_', '_', 'A', '_', '_', 'a_v_a_l_i_a_ç_ã_o', '_', '_', 'e_x_t_r_í_n_s_e_c_a', '_', '_', 't_a_m_b_é_m', '_', '_', 'c_h_a_m_a_d_a', '_', '_', 'd_e', '_', '_', 'a_v_a_l_i_a_ç_ã_o', '_', '_', 'e_m', '_', '_', 'u_s_o', '_', '_', 'c_o_n_s_i_d_e_r_a', '_', '_', 'o', '_', '_', 's_i_s_t_e_m_a', '_', '_', 'P_L_N', '_', '_', 'e_m', '_', '_', 'u_m', '_', '_', 'c_e_n_á_r_i_o', '_', '_', 'm_a_i_s', '_', '_', 'c_o_m_p_l_e_x_o', '_', '_', 'c_o_m_o', '_', '_', 'u_m', '_', '_', 's_i_s_t_e_m_a', '_', '_', 'e_m_b_u_t_i_d_o', '_', '_', 'o_u', '_', '_', 'u_m_a', '_', '_', 'f_u_n_ç_ã_o', '_', '_', 'p_r_e_c_i_s_a', '_', '_', 'p_a_r_a', '_', '_', 'u_m', '_', '_', 'u_s_u_á_r_i_o', '_', '_', 'h_u_m_a_n_o', '_', '_', 'O', '_', '_', 'd_e_s_e_m_p_e_n_h_o', '_', '_', 'e_x_t_r_í_n_s_e_c_o', '_', '_', 'd_o', '_', '_', 's_i_s_t_e_m_a', '_', '_', 'ser', '_', '_', 'e_n_t_ã_o', '_', '_', 'c_a_r_a_c_t_e_r_i_z_a_d_o', '_', '_', 'e_m', '_', '_', 't_e_r_m_o_s', '_', '_', 'd_e', '_', '_', 'u_t_i_l_i_d_a_d_e', '_', '_', 'e_m', '_', '_', 'r_e_l_a_ç_ã_o', '_', '_', 'à', '_', '_', 't_a_r_e_f_a', '_', '_', 'g_l_o_b_a_l', '_', '_', 'd_o', '_', '_', 's_i_s_t_e_m_a', '_', '_', 'e_s_t_r_a_n_h_o', '_', '_', 'o_u', '_', '_', 'd_o', '_', '_', 'u_t_i_l_i_z_a_d_o_r', '_', '_', 'h_u_m_a_n_o', '_', '_', 'P_o_r', '_', '_', 'e_x_e_m_p_l_o', '_', '_', 'c_o_n_s_i_d_e_r_e', '_', '_', 'u_m', '_', '_', 'a_n_a_l_i_s_a_d_o_r', '_', '_', 's_i_n_t_á_t_i_c_o', '_', '_', 'q_u_e', '_', '_', 'ser', '_', '_', 'b_a_s_e_a_d_o', '_', '_', 'n_a', '_', '_', 's_a_í_d_a', '_', '_', 'd_e', '_', '_', 'a_l_g_u_m_a', '_', '_', 'p_a_r_t_e', '_', '_', 'd_o', '_', '_', 't_a_g_g_e_r', '_', '_', 'd_e', '_', '_', 'f_a_l_a', '_', '_', 'P_O_S', '_', '_', 'U_m_a', '_', '_', 'a_v_a_l_i_a_ç_ã_o', '_', '_', 'i_n_t_r_í_n_s_e_c_a', '_', '_', 'e_x_e_c_u_t_a_r_i_a', '_', '_', 'o', '_', '_', 'm_a_r_c_a_d_o_r', '_', '_', 'P_O_S', '_', '_', 'e_m', '_', '_', 'd_a_d_o_s', '_', '_', 'e_s_t_r_u_t_u_r_a_d_o_s', '_', '_', 'e', '_', '_', 'c_o_m_p_a_r_a_r_i_a', '_', '_', 'o', '_', '_', 's_a_í_d_a', '_', '_', 'd_o', '_', '_', 's_i_s_t_e_m_a', '_', '_', 'd_o', '_', '_', 'm_a_r_c_a_d_o_r', '_', '_', 'P_O_S', '_', '_', 'c_o_m', '_', '_', 'o', '_', '_', 's_a_í_d_a', '_', '_', 'p_a_d_r_ã_o', '_', '_', 'o_u_r_o', '_', '_', 'U_m_a', '_', '_', 'a_v_a_l_i_a_ç_ã_o', '_', '_', 'e_x_t_r_í_n_s_e_c_a', '_', '_', 'e_x_e_c_u_t_a_r_i_a', '_', '_', 'o', '_', '_', 'a_n_a_l_i_s_a_d_o_r', '_', '_', 'c_o_m', '_', '_', 'a_l_g_u_m', '_', '_', 'o_u_t_r_o', '_', '_', 'm_a_r_c_a_d_o_r', '_', '_', 'P_O_S', '_', '_', 'e', '_', '_', 'e_m', '_', '_', 's_e_g_u_i_d_a', '_', '_', 'c_o_m', '_', '_', 'o', '_', '_', 'm_a_r_c_a_d_o_r', '_', '_', 'P_O_S', '_', '_', 'n_o_v_o', '_', '_', 'e', '_', '_', 'c_o_m_p_a_r_a', '_', '_', 'o', '_', '_', 'p_r_e_c_i_s_ã_o', '_', '_', 'd_e', '_', '_', 'a_n_á_l_i_s_e', '_', '\\n', '_', 'C_a_i_x_a', '_', '_', 'p_r_e_t_a', '_', '_', 'v_s', '_', '_', 'A_v_a_l_i_a_ç_ã_o', '_', '_', 'd_a', '_', '_', 'c_a_i_x_a', '_', '_', 'd_e', '_', '_', 'v_i_d_r_o', '_', '\\n', '_', 'A', '_', '_', 'a_v_a_l_i_a_ç_ã_o', '_', '_', 'e_m', '_', '_', 'c_a_i_x_a', '_', '_', 'p_r_e_t_a', '_', '_', 'r_e_q_u_e_r', '_', '_', 'q_u_e', '_', '_', 'a_l_g_u_é_m', '_', '_', 'e_x_e_c_u_t_e', '_', '_', 'u_m', '_', '_', 's_i_s_t_e_m_a', '_', '_', 'P_L_N', '_', '_', 'e_m', '_', '_', 'u_m', '_', '_', 'c_o_n_j_u_n_t_o', '_', '_', 'd_e', '_', '_', 'd_a_d_o_s', '_', '_', 'd_e', '_', '_', 'a_m_o_s_t_r_a', '_', '_', 'e', '_', '_', 'p_a_r_a', '_', '_', 'm_e_d_i_r', '_', '_', 'u_m_a', '_', '_', 's_é_r_i_e', '_', '_', 'd_e', '_', '_', 'p_a_r_â_m_e_t_r_o_s', '_', '_', 'r_e_l_a_c_i_o_n_a_d_o_s', '_', '_', 'c_o_m', '_', '_', 'o', '_', '_', 'q_u_a_l_i_d_a_d_e', '_', '_', 'd_o', '_', '_', 'p_r_o_c_e_s_s_o', '_', '_', 'c_o_m_o', '_', '_', 'v_e_l_o_c_i_d_a_d_e', '_', '_', 'c_o_n_f_i_a_b_i_l_i_d_a_d_e', '_', '_', 'c_o_n_s_u_m_o', '_', '_', 'd_e', '_', '_', 'r_e_c_u_r_s_o_s', '_', '_', 'e', '_', '_', 'p_r_i_n_c_i_p_a_l_m_e_n_t_e', '_', '_', 'o', '_', '_', 'q_u_a_l_i_d_a_d_e', '_', '_', 'd_o', '_', '_', 'r_e_s_u_l_t_a_d_o', '_', '_', 'c_o_m_o', '_', '_', 'o', '_', '_', 'p_r_e_c_i_s_ã_o', '_', '_', 'd_a', '_', '_', 'a_n_o_t_a_ç_ã_o', '_', '_', 'd_e', '_', '_', 'd_a_d_o_s', '_', '_', 'o_u', '_', '_', 'o', '_', '_', 'f_i_d_e_l_i_d_a_d_e', '_', '_', 'd_e', '_', '_', 'u_m_a', '_', '_', 't_r_a_d_u_ç_ã_o', '_', '_', 'A', '_', '_', 'a_v_a_l_i_a_ç_ã_o', '_', '_', 'd_a', '_', '_', 'c_a_i_x_a', '_', '_', 'd_e', '_', '_', 'v_i_d_r_o', '_', '_', 'e_x_a_m_i_n_a', '_', '_', 'o', '_', '_', 'c_o_n_c_e_p_ç_ã_o', '_', '_', 'd_o', '_', '_', 's_i_s_t_e_m_a', '_', '_', 'O_s', '_', '_', 'a_l_g_o_r_i_t_m_o_s', '_', '_', 'q_u_e', '_', '_', 's_ã_o', '_', '_', 'i_m_p_l_e_m_e_n_t_a_d_o_s', '_', '_', 'o_s', '_', '_', 'r_e_c_u_r_s_o_s', '_', '_', 'l_i_n_g_u_í_s_t_i_c_o_s', '_', '_', 'q_u_e', '_', '_', 'u_t_i_l_i_z_a', '_', '_', 'c_o_m_o', '_', '_', 'o', '_', '_', 't_a_m_a_n_h_o', '_', '_', 'd_o', '_', '_', 'v_o_c_a_b_u_l_á_r_i_o', '_', '_', 'o_u', '_', '_', 'o', '_', '_', 'e_x_p_r_e_s_s_ã_o', '_', '_', 'd_e_f_i_n_i_d_a', '_', '_', 'd_e', '_', '_', 'c_a_r_d_i_n_a_l_i_d_a_d_e', '_', '_', 'D_a_d_a', '_', '_', 'o', '_', '_', 'c_o_m_p_l_e_x_i_d_a_d_e', '_', '_', 'd_o_s', '_', '_', 'p_r_o_b_l_e_m_a_s', '_', '_', 'd_a', '_', '_', 'P_L_N', '_', '_', 'm_u_i_t_a_s', '_', '_', 'v_e_z_e_s', '_', '_', 'ser', '_', '_', 'd_i_f_í_c_i_l', '_', '_', 'p_r_e_v_e_r', '_', '_', 'o', '_', '_', 'd_e_s_e_m_p_e_n_h_o', '_', '_', 'a_p_e_n_a_s', '_', '_', 'c_o_m', '_', '_', 'b_a_s_e', '_', '_', 'n_a', '_', '_', 'a_v_a_l_i_a_ç_ã_o', '_', '_', 'd_a', '_', '_', 'c_a_i_x_a', '_', '_', 'd_e', '_', '_', 'v_i_d_r_o', '_', '_', 'M_a_s', '_', '_', 'e_s_t_e', '_', '_', 't_i_p_o', '_', '_', 'd_e', '_', '_', 'a_v_a_l_i_a_ç_ã_o', '_', '_', 'ser', '_', '_', 'm_a_i_s', '_', '_', 'i_n_f_o_r_m_a_t_i_v_o', '_', '_', 'n_o', '_', '_', 'q_u_e', '_', '_', 'd_i_z', '_', '_', 'r_e_s_p_e_i_t_o', '_', '_', 'à', '_', '_', 'a_n_á_l_i_s_e', '_', '_', 'd_e', '_', '_', 'e_r_r_o_s', '_', '_', 'o_u', '_', '_', 'd_e_s_e_n_v_o_l_v_i_m_e_n_t_o_s', '_', '_', 'f_u_t_u_r_o_s', '_', '_', 'd_e', '_', '_', 'u_m', '_', '_', 's_i_s_t_e_m_a', '_', '\\n', '_', 'A_u_t_o_m_á_t_i_c_a', '_', '_', 'v_s', '_', '_', 'a_v_a_l_i_a_ç_ã_o', '_', '_', 'm_a_n_u_a_l', '_', '\\n', '_', 'E_m', '_', '_', 'm_u_i_t_o_s', '_', '_', 'c_a_s_o_s', '_', '_', 'p_r_o_c_e_d_i_m_e_n_t_o_s', '_', '_', 'a_u_t_o_m_á_t_i_c_o_s', '_', '_', 'p_o_d_e_m', '_', '_', 's_e_r', '_', '_', 'd_e_f_i_n_i_d_o_s', '_', '_', 'p_a_r_a', '_', '_', 'a_v_a_l_i_a_r', '_', '_', 'u_m', '_', '_', 's_i_s_t_e_m_a', '_', '_', 'd_e', '_', '_', 'P_L_N', '_', '_', 'c_o_m_p_a_r_a_n_d_o', '_', '_', 's_u_a', '_', '_', 's_a_í_d_a', '_', '_', 'c_o_m', '_', '_', 'o', '_', '_', 'p_a_d_r_ã_o', '_', '_', 'd_e', '_', '_', 'e_x_c_e_l_ê_n_c_i_a', '_', '_', 'E_m_b_o_r_a', '_', '_', 'o', '_', '_', 'c_u_s_t_o', '_', '_', 'd_e', '_', '_', 'r_e_p_r_o_d_u_z_i_r', '_', '_', 'o', '_', '_', 'p_a_d_r_ã_o', '_', '_', 'd_e', '_', '_', 'e_x_c_e_l_ê_n_c_i_a', '_', '_', 'p_o_s_s_a', '_', '_', 's_e_r', '_', '_', 'b_a_s_t_a_n_t_e', '_', '_', 'e_l_e_v_a_d_o', '_', '_', 'a_v_a_l_i_a_ç_ã_o', '_', '_', 'a_u_t_o_m_á_t_i_c_a', '_', '_', 'd_e', '_', '_', 'b_o_o_t_s_t_r_a_p_p_i_n_g', '_', '_', 's_o_b_r_e', '_', '_', 'o_s', '_', '_', 'm_e_s_m_o_s', '_', '_', 'd_a_d_o_s', '_', '_', 'd_e', '_', '_', 'e_n_t_r_a_d_a', '_', '_', 'p_o_d_e', '_', '_', 's_e_r', '_', '_', 'r_e_p_e_t_i_d_a', '_', '_', 'q_u_a_n_t_a_s', '_', '_', 'v_e_z_e_s', '_', '_', 'f_o_r', '_', '_', 'n_e_c_e_s_s_á_r_i_o', '_', '_', 's_e_m', '_', '_', 'c_u_s_t_o_s', '_', '_', 'a_d_i_c_i_o_n_a_i_s', '_', '_', 'd_e_s_o_r_d_e_n_a_d_o_s', '_', '_', 'N_o', '_', '_', 'e_n_t_a_n_t_o', '_', '_', 'p_a_r_a', '_', '_', 'm_u_i_t_o_s', '_', '_', 'p_r_o_b_l_e_m_a_s', '_', '_', 'd_e', '_', '_', 'P_L_N', '_', '_', 'o', '_', '_', 'd_e_f_i_n_i_ç_ã_o', '_', '_', 'p_r_e_c_i_s_a', '_', '_', 'd_e', '_', '_', 'u_m', '_', '_', 'p_a_d_r_ã_o', '_', '_', 'd_e', '_', '_', 'e_x_c_e_l_ê_n_c_i_a', '_', '_', 'ser', '_', '_', 'u_m_a', '_', '_', 't_a_r_e_f_a', '_', '_', 'c_o_m_p_l_e_x_a', '_', '_', 'e', '_', '_', 'p_o_d_e', '_', '_', 's_e', '_', '_', 'r_e_v_e_l_a_r', '_', '_', 'i_m_p_o_s_s_í_v_e_l', '_', '_', 'q_u_a_n_d_o', '_', '_', 'o', '_', '_', 'a_c_o_r_d_o', '_', '_', 'i_n_t_e_r_a_n_o_t_a_d_o_r', '_', '_', 'ser', '_', '_', 'i_n_s_u_f_i_c_i_e_n_t_e', '_', '_', 'A', '_', '_', 'a_v_a_l_i_a_ç_ã_o', '_', '_', 'm_a_n_u_a_l', '_', '_', 'ser', '_', '_', 'm_e_l_h_o_r', '_', '_', 'r_e_a_l_i_z_a_d_a', '_', '_', 'p_o_r', '_', '_', 'j_u_í_z_e_s', '_', '_', 'h_u_m_a_n_o_s', '_', '_', 'i_n_s_t_r_u_í_d_o_s', '_', '_', 'p_a_r_a', '_', '_', 'e_s_t_i_m_a_r', '_', '_', 'o', '_', '_', 'q_u_a_l_i_d_a_d_e', '_', '_', 'd_e', '_', '_', 'u_m', '_', '_', 's_i_s_t_e_m_a', '_', '_', 'o_u', '_', '_', 'm_a_i_s', '_', '_', 'f_r_e_q_u_e_n_t_e_m_e_n_t_e', '_', '_', 'd_e', '_', '_', 'u_m_a', '_', '_', 'a_m_o_s_t_r_a', '_', '_', 'd_e', '_', '_', 's_u_a', '_', '_', 'p_r_o_d_u_ç_ã_o', '_', '_', 'c_o_m', '_', '_', 'b_a_s_e', '_', '_', 'e_m', '_', '_', 'u_m_a', '_', '_', 's_é_r_i_e', '_', '_', 'd_e', '_', '_', 'c_r_i_t_é_r_i_o_s', '_', '_', 'E_m_b_o_r_a', '_', '_', 'g_r_a_ç_a_s', '_', '_', 'à', '_', '_', 's_u_a', '_', '_', 'c_o_m_p_e_t_ê_n_c_i_a', '_', '_', 'l_i_n_g_u_í_s_t_i_c_a', '_', '_', 'o_s', '_', '_', 'j_u_í_z_e_s', '_', '_', 'h_u_m_a_n_o_s', '_', '_', 'p_o_s_s_a_m', '_', '_', 's_e_r', '_', '_', 'c_o_n_s_i_d_e_r_a_d_o_s', '_', '_', 'c_o_m_o', '_', '_', 'o', '_', '_', 'r_e_f_e_r_ê_n_c_i_a', '_', '_', 'p_a_r_a', '_', '_', 'u_m_a', '_', '_', 's_é_r_i_e', '_', '_', 'd_e', '_', '_', 't_a_r_e_f_a_s', '_', '_', 'd_e', '_', '_', 'p_r_o_c_e_s_s_a_m_e_n_t_o', '_', '_', 'd_e', '_', '_', 'l_i_n_g_u_a_g_e_m', '_', '_', 'h_á', '_', '_', 't_a_m_b_é_m', '_', '_', 'u_m_a', '_', '_', 'v_a_r_i_a_ç_ã_o', '_', '_', 'c_o_n_s_i_d_e_r_á_v_e_l', '_', '_', 'e_m', '_', '_', 's_u_a_s', '_', '_', 'c_l_a_s_s_i_f_i_c_a_ç_õ_e_s', '_', '_', 'É', '_', '_', 'p_o_r', '_', '_', 'i_s_s_o', '_', '_', 'q_u_e', '_', '_', 'o', '_', '_', 'a_v_a_l_i_a_ç_ã_o', '_', '_', 'a_u_t_o_m_á_t_i_c_a', '_', '_', 'ser', '_', '_', 'p_o_r', '_', '_', 'v_e_z_e_s', '_', '_', 'r_e_f_e_r_i_d_a', '_', '_', 'c_o_m_o', '_', '_', 'a_v_a_l_i_a_ç_ã_o', '_', '_', 'o_b_j_e_t_i_v_a', '_', '_', 'e_n_q_u_a_n_t_o', '_', '_', 'o', '_', '_', 'a_v_a_l_i_a_ç_ã_o', '_', '_', 'h_u_m_a_n_a', '_', '_', 'ser', '_', '_', 'p_e_r_s_p_e_c_t_i_v_a', '_', '\\n', '_', '\\n', '_', '\\n', '_', '_', 'P_a_d_r_o_n_i_z_a_ç_ã_o', '_', '_', '\\n', '_', 'U_m', '_', '_', 's_u_b_c_o_m_i_t_ê', '_', '_', 'I_S_O', '_', '_', 'e_s_t_á', '_', '_', 't_r_a_b_a_l_h_a_n_d_o', '_', '_', 'p_a_r_a', '_', '_', 'f_a_c_i_l_i_t_a_r', '_', '_', 'o', '_', '_', 'i_n_t_e_r_o_p_e_r_a_b_i_l_i_d_a_d_e', '_', '_', 'e_n_t_r_e', '_', '_', 'r_e_c_u_r_s_o_s', '_', '_', 'l_e_x_i_c_a_i_s', '_', '_', 'e', '_', '_', 'p_r_o_g_r_a_m_a_s', '_', '_', 'P_L_N', '_', '_', 'O', '_', '_', 's_u_b_c_o_m_i_t_ê', '_', '_', 'f_a_z', '_', '_', 'p_a_r_t_e', '_', '_', 'd_o', '_', '_', 'I_S_O', '_', '_', '_', 'T_C_3_7', '_', '_', 'e', '_', '_', 'ser', '_', '_', 'c_h_a_m_a_d_o', '_', '_', 'I_S_O', '_', '_', '_', 'T_C_3_7', '_', '_', '_', 'S_C_4', '_', '_', 'A_l_g_u_n_s', '_', '_', 'p_a_d_r_õ_e_s', '_', '_', 'I_S_O', '_', '_', 'j_á', '_', '_', 'e_s_t_ã_o', '_', '_', 'p_u_b_l_i_c_a_d_o_s', '_', '_', 'm_a_s', '_', '_', 'o', '_', '_', 'm_a_i_o_r_i_a', '_', '_', 'd_e_l_e_s', '_', '_', 'e_s_t_á', '_', '_', 'e_m', '_', '_', 'c_o_n_s_t_r_u_ç_ã_o', '_', '_', 'p_r_i_n_c_i_p_a_l_m_e_n_t_e', '_', '_', 'n_a', '_', '_', 'r_e_p_r_e_s_e_n_t_a_ç_ã_o', '_', '_', 'd_e', '_', '_', 'l_é_x_i_c_o', '_', '_', 'v_e_r', '_', '_', 'L_M_F', '_', '_', 'a_n_o_t_a_ç_ã_o', '_', '_', 'e', '_', '_', 'r_e_g_i_s_t_r_o', '_', '_', 'd_e', '_', '_', 'c_a_t_e_g_o_r_i_a', '_', '_', 'd_e', '_', '_', 'd_a_d_o_s', '_', '\\n', '_', '\\n', '_', '\\n', '_', '_', 'F_e_r_r_a_m_e_n_t_a_s', '_', '_', '\\n', '_', 'E_x_p_e_r_t', '_', '_', 'S_y_s_t_e_m', '_', '_', 'S_p_A', '_', '\\n', '_', 'G_e_n_e_r_a_l', '_', '_', 'A_r_c_h_i_t_e_c_t_u_r_e', '_', '_', 'f_o_r', '_', '_', 'T_e_x_t', '_', '_', 'E_n_g_i_n_e_e_r_i_n_g', '_', '\\n', '_', 'M_o_d_u_l_a_r', '_', '_', 'A_u_d_i_o', '_', '_', 'R_e_c_o_g_n_i_t_i_o_n', '_', '_', 'F_r_a_m_e_w_o_r_k', '_', '\\n', '_', 'N_a_t_u_r_a_l', '_', '_', 'L_a_n_g_u_a_g_e', '_', '_', 'T_o_o_l_k_i_t', '_', '_', 'N_L_T_K', '_', '_', 'u_m_a', '_', '_', 'b_i_b_l_i_o_t_e_c_a', '_', '_', 'e_m', '_', '_', 'P_y_t_h_o_n', '_', '\\n', '_', 'O_p_e_n_N_L_P', '_', '\\n', '_', '\\n', '_', '\\n', '_', '_', 'V_e_j_a', '_', '_', 't_a_m_b_é_m', '_', '_', '\\n', '_', 'M_i_n_e_r_a_ç_ã_o', '_', '_', 'd_e', '_', '_', 't_e_x_t_o', '_', '_', 'b_i_o_m_é_d_i_c_a', '_', '\\n', '_', 'P_r_o_c_e_s_s_o', '_', '_', 'd_e', '_', '_', 'p_r_o_c_e_s_s_a_m_e_n_t_o', '_', '_', 'c_o_m_p_o_s_t_o', '_', '\\n', '_', 'R_e_v_i_s_ã_o', '_', '_', 'a_s_s_i_s_t_i_d_a', '_', '_', 'p_o_r', '_', '_', 'c_o_m_p_u_t_a_d_o_r', '_', '\\n', '_', 'L_i_n_g_u_a_g_e_m', '_', '_', 'n_a_t_u_r_a_l', '_', '_', 'c_o_n_t_r_o_l_a_d_a', '_', '\\n', '_', 'P_r_o_c_e_s_s_a_m_e_n_t_o', '_', '_', 'l_i_n_g_u_í_s_t_i_c_o', '_', '_', 'p_r_o_f_u_n_d_o', '_', '\\n', '_', 'A_u_x_í_l_i_o', '_', '_', 'à', '_', '_', 'l_e_i_t_u_r_a', '_', '_', 'd_e', '_', '_', 'l_í_n_g_u_a_s', '_', '_', 'e_s_t_r_a_n_g_e_i_r_a_s', '_', '\\n', '_', 'A_u_x_í_l_i_o', '_', '_', 'à', '_', '_', 'e_s_c_r_i_t_a', '_', '_', 'e_m', '_', '_', 'l_í_n_g_u_a', '_', '_', 'e_s_t_r_a_n_g_e_i_r_a', '_', '\\n', '_', 'T_e_c_n_o_l_o_g_i_a', '_', '_', 'd_a', '_', '_', 'l_i_n_g_u_a_g_e_m', '_', '\\n', '_', 'A', '_', '_', 'a_l_o_c_a_ç_ã_o', '_', '_', 'd_e', '_', '_', 'D_i_r_i_c_h_l_e_t', '_', '_', 'L_a_t_e_n_t_e', '_', '_', 'L_D_A', '_', '\\n', '_', 'I_n_d_e_x_a_ç_ã_o', '_', '_', 's_e_m_â_n_t_i_c_a', '_', '_', 'l_a_t_e_n_t_e', '_', '\\n', '_', 'L_i_s_t_a', '_', '_', 'd_e', '_', '_', 'f_e_r_r_a_m_e_n_t_a_s', '_', '_', 'd_e', '_', '_', 'p_r_o_c_e_s_s_a_m_e_n_t_o', '_', '_', 'd_e', '_', '_', 'l_í_n_g_u_a', '_', '_', 'n_a_t_u_r_a_l', '_', '\\n', '_', 'M_a_p_a', '_', '_', 'd_e', '_', '_', 'L_R_E', '_', '\\n', '_', 'P_r_o_g_r_a_m_a_ç_ã_o', '_', '_', 'e_m', '_', '_', 'l_í_n_g_u_a', '_', '_', 'n_a_t_u_r_a_l', '_', '\\n', '_', 'R_e_i_f_i_c_a_ç_ã_o', '_', '_', 'l_i_n_g_u_í_s_t_i_c_a', '_', '\\n', '_', 'D_o_b_r_a_d_u_r_a', '_', '_', 's_e_m_â_n_t_i_c_a', '_', '\\n', '_', 'S_i_s_t_e_m_a', '_', '_', 'd_e', '_', '_', 'd_i_á_l_o_g_o', '_', '_', 'f_a_l_a_d_o', '_', '\\n', '_', 'V_e_t_o_r', '_', '_', 'd_o', '_', '_', 'P_e_n_s_a_m_e_n_t_o', '_', '\\n', '_', 'P_e_s_q_u_i_s_a', '_', '_', 'T_r_a_n_s_d_e_r_i_v_a_c_i_o_n_a_l', '_', '\\n', '_', 'W_o_r_d_2_v_e_c', '_', '\\n', '_', '\\n', '_', '\\n', '_', '_', 'R_e_f_e_r_ê_n_c_i_a_s', '_', '_', '\\n', '_', '\\n', '_', '\\n', '_', '_', 'L_e_i_t_u_r_a', '_', '_', 'a_d_i_c_i_o_n_a_l', '_', '_', '\\n', '_', 'S_t_e_v_e_n', '_', '_', 'B_i_r_d', '_', '_', 'E_w_a_n', '_', '_', 'K_l_e_i_n', '_', '_', 'a_n_d', '_', '_', 'E_d_w_a_r_d', '_', '_', 'L_o_p_e_r', '_', '_', '2_0_0_9', '_', '_', 'N_a_t_u_r_a_l', '_', '_', 'L_a_n_g_u_a_g_e', '_', '_', 'P_r_o_c_e_s_s_i_n_g', '_', '_', 'w_i_t_h', '_', '_', 'P_y_t_h_o_n', '_', '_', 'O_R_e_i_l_l_y', '_', '_', 'M_e_d_i_a', '_', '_', 'I_S_B_N', '_', '_', '9_7_8_0_5_9_6_5_1_6_4_9_9', '_', '\\n', '_', 'D_a_n_i_e_l', '_', '_', 'J_u_r_a_f_s_k_y', '_', '_', 'a_n_d', '_', '_', 'J_a_m_e_s', '_', '_', 'H', '_', '_', 'M_a_r_t_i_n', '_', '_', '2_0_0_8', '_', '_', 'S_p_e_e_c_h', '_', '_', 'a_n_d', '_', '_', 'L_a_n_g_u_a_g_e', '_', '_', 'P_r_o_c_e_s_s_i_n_g', '_', '_', '2_n_d', '_', '_', 'e_d_i_t_i_o_n', '_', '_', 'P_e_a_r_s_o_n', '_', '_', 'P_r_e_n_t_i_c_e', '_', '_', 'H_a_l_l', '_', '_', 'I_S_B_N', '_', '_', '9_7_8_0_1_3_1_8_7_3_2_1_6', '_', '\\n', '_', 'C_h_r_i_s_t_o_p_h_e_r', '_', '_', 'D', '_', '_', 'M_a_n_n_i_n_g', '_', '_', 'P_r_a_b_h_a_k_a_r', '_', '_', 'R_a_g_h_a_v_a_n', '_', '_', 'a_n_d', '_', '_', 'H_i_n_r_i_c_h', '_', '_', 'S_c_h_ü_t_z_e', '_', '_', '2_0_0_8', '_', '_', 'I_n_t_r_o_d_u_c_t_i_o_n', '_', '_', 't_o', '_', '_', 'I_n_f_o_r_m_a_t_i_o_n', '_', '_', 'R_e_t_r_i_e_v_a_l', '_', '_', 'C_a_m_b_r_i_d_g_e', '_', '_', 'U_n_i_v_e_r_s_i_t_y', '_', '_', 'P_r_e_s_s', '_', '_', 'I_S_B_N', '_', '_', '9_7_8_0_5_2_1_8_6_5_7_1_5', '_', '_', 'O_f_f_i_c_i_a_l', '_', '_', 'h_t_m_l', '_', '_', 'a_n_d', '_', '_', 'p_d_f', '_', '_', 'v_e_r_s_i_o_n_s', '_', '_', 'a_v_a_i_l_a_b_l_e', '_', '_', 'w_i_t_h_o_u_t', '_', '_', 'c_h_a_r_g_e', '_', '\\n', '_', 'C_h_r_i_s_t_o_p_h_e_r', '_', '_', 'D', '_', '_', 'M_a_n_n_i_n_g', '_', '_', 'a_n_d', '_', '_', 'H_i_n_r_i_c_h', '_', '_', 'S_c_h_ü_t_z_e', '_', '_', '1_9_9_9', '_', '_', 'F_o_u_n_d_a_t_i_o_n_s', '_', '_', 'o_f', '_', '_', 'S_t_a_t_i_s_t_i_c_a_l', '_', '_', 'N_a_t_u_r_a_l', '_', '_', 'L_a_n_g_u_a_g_e', '_', '_', 'P_r_o_c_e_s_s_i_n_g', '_', '_', 'T_h_e', '_', '_', 'M_I_T', '_', '_', 'P_r_e_s_s', '_', '_', 'I_S_B_N', '_', '_', '9_7_8_0_2_6_2_1_3_3_6_0_9', '_', '\\n', '_', 'D_a_v_i_d', '_', '_', 'M', '_', '_', 'W', '_', '_', 'P_o_w_e_r_s', '_', '_', 'a_n_d', '_', '_', 'C_h_r_i_s_t_o_p_h_e_r', '_', '_', 'C', '_', '_', 'R', '_', '_', 'T_u_r_k', '_', '_', '1_9_8_9', '_', '_', 'M_a_c_h_i_n_e', '_', '_', 'L_e_a_r_n_i_n_g', '_', '_', 'o_f', '_', '_', 'N_a_t_u_r_a_l', '_', '_', 'L_a_n_g_u_a_g_e', '_', '_', 'S_p_r_i_n_g_e_r_V_e_r_l_a_g', '_', '_', 'I_S_B_N', '_', '_', '9_7_8_0_3_8_7_1_9_5_5_7_5']\n"
          ],
          "name": "stdout"
        }
      ]
    },
    {
      "cell_type": "code",
      "metadata": {
        "id": "P78mZ_giE2XP",
        "outputId": "7f5d79a8-5821-40a8-e25f-daa1c2bb1a4a"
      },
      "source": [
        "len(token_lemm)"
      ],
      "execution_count": null,
      "outputs": [
        {
          "output_type": "execute_result",
          "data": {
            "text/plain": [
              "12689"
            ]
          },
          "metadata": {
            "tags": []
          },
          "execution_count": 136
        }
      ]
    },
    {
      "cell_type": "markdown",
      "metadata": {
        "id": "rv5WvPOdE2XR"
      },
      "source": [
        "###  14. Plote a frequência dos tokens após o processo de lematização. Utilize o método plot_frequencia_tokens() para plotar o gráfico. Também imprima o tamanho desta lista."
      ]
    },
    {
      "cell_type": "code",
      "metadata": {
        "id": "u30lz0JhE2XR",
        "outputId": "968372a6-d0c3-465b-f110-6876915dd037"
      },
      "source": [
        "#token_lemm\n",
        "plot_frequencia_tokens(token_lemm)\n",
        "print('Size is: ',len(token_lemm))"
      ],
      "execution_count": null,
      "outputs": [
        {
          "output_type": "display_data",
          "data": {
            "image/png": "[encoded data removed]",
            "text/plain": [
              "<Figure size 432x288 with 1 Axes>"
            ]
          },
          "metadata": {
            "tags": [],
            "needs_background": "light"
          }
        },
        {
          "output_type": "stream",
          "text": [
            "Size is:  12689\n"
          ],
          "name": "stdout"
        }
      ]
    },
    {
      "cell_type": "markdown",
      "metadata": {
        "id": "3QKv9pFGE2XT"
      },
      "source": [
        "# Perguntas?"
      ]
    },
    {
      "cell_type": "markdown",
      "metadata": {
        "id": "LlBxPaX5E2XT"
      },
      "source": [
        "## 1. Quais diferenças você entrou entre os métodos de tokenização. Cite ao menos 3 tokens com resultados diferentes."
      ]
    },
    {
      "cell_type": "markdown",
      "metadata": {
        "id": "1eZfsGAnE2XU"
      },
      "source": [
        "Split() retorna uma lista de strings, após especificar o separador.\n",
        "Regex separa as senteças quando encontra o caracter especificado.\n",
        "NLTK considera também pontuação como token, então podemos ter que remover as pontuações dependendo do objetivo de extração."
      ]
    },
    {
      "cell_type": "markdown",
      "metadata": {
        "id": "BOTrcV8QE2XU"
      },
      "source": [
        "## 2. Qual a principal diferença que você verificou entre o processo de stemming e de lematização?"
      ]
    },
    {
      "cell_type": "code",
      "metadata": {
        "id": "IbnNTA-HE2XV"
      },
      "source": [
        "Stemming reduz as palavras até a raiz evitando considerar duas palavras por exemplo trabalhar e trabalhando.\n",
        "Lemmatization reduz as palavras considerando gramática, trazendo as palavras para forma verbal."
      ],
      "execution_count": null,
      "outputs": []
    },
    {
      "cell_type": "code",
      "metadata": {
        "id": "1HgGYo96Wjr5"
      },
      "source": [],
      "execution_count": null,
      "outputs": []
    }
  ]
}